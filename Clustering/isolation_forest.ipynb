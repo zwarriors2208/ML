{
 "cells": [
  {
   "cell_type": "code",
   "execution_count": 3,
   "id": "41559cc2-ab2b-4685-83d4-e94afc39e9c4",
   "metadata": {},
   "outputs": [],
   "source": [
    "import pandas as pd\n",
    "import numpy as np\n",
    "from sklearn.preprocessing import StandardScaler\n",
    "from sklearn.metrics import silhouette_score"
   ]
  },
  {
   "cell_type": "code",
   "execution_count": 9,
   "id": "7017b9ae-157f-44b5-a3b9-0d78fdc139c2",
   "metadata": {},
   "outputs": [],
   "source": [
    "from sklearn.ensemble import IsolationForest"
   ]
  },
  {
   "cell_type": "code",
   "execution_count": 17,
   "id": "4a5f622f-85f7-4e02-aeba-afd4cd195209",
   "metadata": {
    "collapsed": true,
    "jupyter": {
     "outputs_hidden": true
    },
    "scrolled": true
   },
   "outputs": [
    {
     "data": {
      "text/html": [
       "<div>\n",
       "<style scoped>\n",
       "    .dataframe tbody tr th:only-of-type {\n",
       "        vertical-align: middle;\n",
       "    }\n",
       "\n",
       "    .dataframe tbody tr th {\n",
       "        vertical-align: top;\n",
       "    }\n",
       "\n",
       "    .dataframe thead th {\n",
       "        text-align: right;\n",
       "    }\n",
       "</style>\n",
       "<table border=\"1\" class=\"dataframe\">\n",
       "  <thead>\n",
       "    <tr style=\"text-align: right;\">\n",
       "      <th></th>\n",
       "      <th>water</th>\n",
       "      <th>protein</th>\n",
       "      <th>fat</th>\n",
       "      <th>lactose</th>\n",
       "      <th>ash</th>\n",
       "    </tr>\n",
       "    <tr>\n",
       "      <th>Animal</th>\n",
       "      <th></th>\n",
       "      <th></th>\n",
       "      <th></th>\n",
       "      <th></th>\n",
       "      <th></th>\n",
       "    </tr>\n",
       "  </thead>\n",
       "  <tbody>\n",
       "    <tr>\n",
       "      <th>HORSE</th>\n",
       "      <td>90.1</td>\n",
       "      <td>2.6</td>\n",
       "      <td>1.0</td>\n",
       "      <td>6.9</td>\n",
       "      <td>0.35</td>\n",
       "    </tr>\n",
       "    <tr>\n",
       "      <th>ORANGUTAN</th>\n",
       "      <td>88.5</td>\n",
       "      <td>1.4</td>\n",
       "      <td>3.5</td>\n",
       "      <td>6.0</td>\n",
       "      <td>0.24</td>\n",
       "    </tr>\n",
       "    <tr>\n",
       "      <th>MONKEY</th>\n",
       "      <td>88.4</td>\n",
       "      <td>2.2</td>\n",
       "      <td>2.7</td>\n",
       "      <td>6.4</td>\n",
       "      <td>0.18</td>\n",
       "    </tr>\n",
       "    <tr>\n",
       "      <th>DONKEY</th>\n",
       "      <td>90.3</td>\n",
       "      <td>1.7</td>\n",
       "      <td>1.4</td>\n",
       "      <td>6.2</td>\n",
       "      <td>0.40</td>\n",
       "    </tr>\n",
       "    <tr>\n",
       "      <th>HIPPO</th>\n",
       "      <td>90.4</td>\n",
       "      <td>0.6</td>\n",
       "      <td>4.5</td>\n",
       "      <td>4.4</td>\n",
       "      <td>0.10</td>\n",
       "    </tr>\n",
       "  </tbody>\n",
       "</table>\n",
       "</div>"
      ],
      "text/plain": [
       "           water  protein  fat  lactose   ash\n",
       "Animal                                       \n",
       "HORSE       90.1      2.6  1.0      6.9  0.35\n",
       "ORANGUTAN   88.5      1.4  3.5      6.0  0.24\n",
       "MONKEY      88.4      2.2  2.7      6.4  0.18\n",
       "DONKEY      90.3      1.7  1.4      6.2  0.40\n",
       "HIPPO       90.4      0.6  4.5      4.4  0.10"
      ]
     },
     "execution_count": 17,
     "metadata": {},
     "output_type": "execute_result"
    }
   ],
   "source": [
    "milk = pd.read_csv(\"C:\\\\Users\\\\DAI.STUDENTSDC\\\\Desktop\\\\Machine_Learning\\\\Datasets\\\\milk.csv\", index_col = 0)\n",
    "milk.head()"
   ]
  },
  {
   "cell_type": "markdown",
   "id": "cb72dc9c-4196-4f9d-8e99-d2d82be3cb8a",
   "metadata": {},
   "source": [
    "# isolation forest\n",
    "- contamination :- The amount of contamination of the data set, i.e. the proportion of outliers in the data set. Used when fitting to define the threshold on the scores of the samples."
   ]
  },
  {
   "cell_type": "code",
   "execution_count": 31,
   "id": "d900ac3e-a951-4716-a443-a6a196008312",
   "metadata": {},
   "outputs": [],
   "source": [
    "ifr = IsolationForest(random_state = 24, contamination = 0.05, n_estimators = 25)"
   ]
  },
  {
   "cell_type": "code",
   "execution_count": 37,
   "id": "c69acaaf-a0a3-4570-9379-2949bd2627af",
   "metadata": {},
   "outputs": [
    {
     "data": {
      "text/plain": [
       "array([ 1,  1,  1,  1,  1,  1,  1,  1,  1,  1,  1,  1,  1,  1,  1,  1,  1,\n",
       "        1,  1,  1,  1,  1,  1, -1, -1])"
      ]
     },
     "execution_count": 37,
     "metadata": {},
     "output_type": "execute_result"
    }
   ],
   "source": [
    "ifr.fit_predict(milk)"
   ]
  },
  {
   "cell_type": "code",
   "execution_count": 39,
   "id": "5293a451-2ed4-41fb-9210-1d2f298e5398",
   "metadata": {},
   "outputs": [
    {
     "data": {
      "text/html": [
       "<div>\n",
       "<style scoped>\n",
       "    .dataframe tbody tr th:only-of-type {\n",
       "        vertical-align: middle;\n",
       "    }\n",
       "\n",
       "    .dataframe tbody tr th {\n",
       "        vertical-align: top;\n",
       "    }\n",
       "\n",
       "    .dataframe thead th {\n",
       "        text-align: right;\n",
       "    }\n",
       "</style>\n",
       "<table border=\"1\" class=\"dataframe\">\n",
       "  <thead>\n",
       "    <tr style=\"text-align: right;\">\n",
       "      <th></th>\n",
       "      <th>water</th>\n",
       "      <th>protein</th>\n",
       "      <th>fat</th>\n",
       "      <th>lactose</th>\n",
       "      <th>ash</th>\n",
       "    </tr>\n",
       "    <tr>\n",
       "      <th>Animal</th>\n",
       "      <th></th>\n",
       "      <th></th>\n",
       "      <th></th>\n",
       "      <th></th>\n",
       "      <th></th>\n",
       "    </tr>\n",
       "  </thead>\n",
       "  <tbody>\n",
       "    <tr>\n",
       "      <th>DEER</th>\n",
       "      <td>65.9</td>\n",
       "      <td>10.4</td>\n",
       "      <td>19.7</td>\n",
       "      <td>2.6</td>\n",
       "      <td>1.40</td>\n",
       "    </tr>\n",
       "    <tr>\n",
       "      <th>REINDEER</th>\n",
       "      <td>64.8</td>\n",
       "      <td>10.7</td>\n",
       "      <td>20.3</td>\n",
       "      <td>2.5</td>\n",
       "      <td>1.40</td>\n",
       "    </tr>\n",
       "    <tr>\n",
       "      <th>WHALE</th>\n",
       "      <td>64.8</td>\n",
       "      <td>11.1</td>\n",
       "      <td>21.2</td>\n",
       "      <td>1.6</td>\n",
       "      <td>1.70</td>\n",
       "    </tr>\n",
       "    <tr>\n",
       "      <th>SEAL</th>\n",
       "      <td>46.4</td>\n",
       "      <td>9.7</td>\n",
       "      <td>42.0</td>\n",
       "      <td>0.0</td>\n",
       "      <td>0.85</td>\n",
       "    </tr>\n",
       "    <tr>\n",
       "      <th>DOLPHIN</th>\n",
       "      <td>44.9</td>\n",
       "      <td>10.6</td>\n",
       "      <td>34.9</td>\n",
       "      <td>0.9</td>\n",
       "      <td>0.53</td>\n",
       "    </tr>\n",
       "  </tbody>\n",
       "</table>\n",
       "</div>"
      ],
      "text/plain": [
       "          water  protein   fat  lactose   ash\n",
       "Animal                                       \n",
       "DEER       65.9     10.4  19.7      2.6  1.40\n",
       "REINDEER   64.8     10.7  20.3      2.5  1.40\n",
       "WHALE      64.8     11.1  21.2      1.6  1.70\n",
       "SEAL       46.4      9.7  42.0      0.0  0.85\n",
       "DOLPHIN    44.9     10.6  34.9      0.9  0.53"
      ]
     },
     "execution_count": 39,
     "metadata": {},
     "output_type": "execute_result"
    }
   ],
   "source": [
    "milk.tail()"
   ]
  },
  {
   "cell_type": "markdown",
   "id": "85c1ee29-0ad7-4bf1-a619-fac80284556b",
   "metadata": {},
   "source": [
    "### on rfm dataset"
   ]
  },
  {
   "cell_type": "code",
   "execution_count": 55,
   "id": "e10dacf8-6a7a-4f90-aa79-29fc8b16eee5",
   "metadata": {},
   "outputs": [],
   "source": [
    "rfm = pd.read_csv(\"C:\\\\Users\\\\DAI.STUDENTSDC\\\\Desktop\\\\Machine_Learning\\\\Cases\\\\Recency Frequency Monetary\\\\rfm_data_customer.csv\", index_col = 0)\n",
    "rfm.drop(\"most_recent_visit\", axis = 1, inplace = True)"
   ]
  },
  {
   "cell_type": "code",
   "execution_count": 57,
   "id": "d0fdbe25-39b9-4700-9249-dd2b893fa24e",
   "metadata": {},
   "outputs": [],
   "source": [
    "obj = IsolationForest(random_state= 24, contamination= 0.05, n_estimators= 100)\n",
    "obj_pred=obj.fit_predict(rfm)"
   ]
  },
  {
   "cell_type": "code",
   "execution_count": 67,
   "id": "4e36f970-251b-47b3-9e2b-615e087c1e6e",
   "metadata": {},
   "outputs": [
    {
     "data": {
      "text/plain": [
       "(array([-1,  1]), array([ 2000, 37999], dtype=int64))"
      ]
     },
     "execution_count": 67,
     "metadata": {},
     "output_type": "execute_result"
    }
   ],
   "source": [
    "np.unique(obj_pred, return_counts= True)"
   ]
  },
  {
   "cell_type": "code",
   "execution_count": 73,
   "id": "ae3e466d-791b-47dd-8896-581d6e7eee12",
   "metadata": {},
   "outputs": [],
   "source": [
    "obj = IsolationForest(random_state= 24, n_estimators= 1000)\n",
    "obj_pred=obj.fit_predict(rfm)"
   ]
  },
  {
   "cell_type": "code",
   "execution_count": 74,
   "id": "cf474f7e-3bcd-4be8-a0f7-eb611981512e",
   "metadata": {},
   "outputs": [
    {
     "data": {
      "text/plain": [
       "(array([-1,  1]), array([ 8880, 31119], dtype=int64))"
      ]
     },
     "execution_count": 74,
     "metadata": {},
     "output_type": "execute_result"
    }
   ],
   "source": [
    "np.unique(obj_pred, return_counts= True)"
   ]
  },
  {
   "cell_type": "code",
   "execution_count": null,
   "id": "350f3f9b-9b59-436f-9ab5-f2aea0360b3e",
   "metadata": {},
   "outputs": [],
   "source": []
  }
 ],
 "metadata": {
  "kernelspec": {
   "display_name": "Python 3 (ipykernel)",
   "language": "python",
   "name": "python3"
  },
  "language_info": {
   "codemirror_mode": {
    "name": "ipython",
    "version": 3
   },
   "file_extension": ".py",
   "mimetype": "text/x-python",
   "name": "python",
   "nbconvert_exporter": "python",
   "pygments_lexer": "ipython3",
   "version": "3.12.4"
  }
 },
 "nbformat": 4,
 "nbformat_minor": 5
}
