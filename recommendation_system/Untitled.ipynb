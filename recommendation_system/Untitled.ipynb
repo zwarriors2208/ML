{
 "cells": [
  {
   "cell_type": "code",
   "execution_count": 5,
   "id": "5694e821-fc06-4823-90f4-4a6afd14d278",
   "metadata": {},
   "outputs": [],
   "source": [
    "import pandas as pd\n",
    "import numpy as np"
   ]
  },
  {
   "cell_type": "code",
   "execution_count": 7,
   "id": "06a16848-7496-49f4-b883-ca93181666a3",
   "metadata": {},
   "outputs": [],
   "source": [
    "a = np.array([2,3,4,5,6,])\n",
    "b = np.array([2,5])"
   ]
  },
  {
   "cell_type": "code",
   "execution_count": 18,
   "id": "6ed5b018-b5e8-4df1-9979-c4a3cd34a270",
   "metadata": {},
   "outputs": [
    {
     "data": {
      "text/plain": [
       "array([3, 4, 6])"
      ]
     },
     "execution_count": 18,
     "metadata": {},
     "output_type": "execute_result"
    }
   ],
   "source": [
    "np.setdiff1d(a,b)"
   ]
  },
  {
   "cell_type": "code",
   "execution_count": null,
   "id": "a9cd271b-2f43-42c4-a004-6e1a8afdb6ad",
   "metadata": {},
   "outputs": [],
   "source": []
  }
 ],
 "metadata": {
  "kernelspec": {
   "display_name": "Python 3 (ipykernel)",
   "language": "python",
   "name": "python3"
  },
  "language_info": {
   "codemirror_mode": {
    "name": "ipython",
    "version": 3
   },
   "file_extension": ".py",
   "mimetype": "text/x-python",
   "name": "python",
   "nbconvert_exporter": "python",
   "pygments_lexer": "ipython3",
   "version": "3.12.4"
  }
 },
 "nbformat": 4,
 "nbformat_minor": 5
}
