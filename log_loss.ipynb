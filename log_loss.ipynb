{
 "cells": [
  {
   "cell_type": "code",
   "execution_count": 28,
   "id": "56edcad5-fe4d-41e6-a3d9-6a4f0a6d7cdf",
   "metadata": {},
   "outputs": [
    {
     "name": "stdout",
     "output_type": "stream",
     "text": [
      "0.43649681302349613\n"
     ]
    },
    {
     "name": "stderr",
     "output_type": "stream",
     "text": [
      "C:\\Users\\DAI.STUDENTSDC\\AppData\\Local\\anaconda3\\Lib\\site-packages\\sklearn\\linear_model\\_logistic.py:469: ConvergenceWarning: lbfgs failed to converge (status=1):\n",
      "STOP: TOTAL NO. of ITERATIONS REACHED LIMIT.\n",
      "\n",
      "Increase the number of iterations (max_iter) or scale the data as shown in:\n",
      "    https://scikit-learn.org/stable/modules/preprocessing.html\n",
      "Please also refer to the documentation for alternative solver options:\n",
      "    https://scikit-learn.org/stable/modules/linear_model.html#logistic-regression\n",
      "  n_iter_i = _check_optimize_result(\n"
     ]
    }
   ],
   "source": [
    "import pandas as pd\n",
    "from sklearn.linear_model import LogisticRegression\n",
    "import numpy as np\n",
    "from sklearn.compose import make_column_transformer \n",
    "from sklearn.compose import make_column_selector\n",
    "from sklearn.preprocessing import MinMaxScaler, StandardScaler\n",
    "from sklearn.preprocessing import OneHotEncoder\n",
    "from sklearn.model_selection import train_test_split\n",
    "from sklearn.metrics import log_loss\n",
    "import matplotlib.pyplot as plt\n",
    "from sklearn.model_selection import StratifiedKFold, GridSearchCV\n",
    "from sklearn.pipeline import Pipeline\n",
    "import os \n",
    "\n",
    "hr = pd.read_csv(\"Cases/human-resources-analytics/HR_comma_sep.csv\")\n",
    "y = hr['left']\n",
    "X = hr.drop('left', axis = 1)\n",
    "X_train, X_test, y_train, y_test = train_test_split(X, y, \n",
    "        random_state=24, test_size=0.3, stratify=y)\n",
    "\n",
    "ohe = OneHotEncoder(sparse_output=False, drop='first').set_output(transform='pandas')\n",
    "scaler_mm = MinMaxScaler()\n",
    "scaler_std = StandardScaler()\n",
    "ct = make_column_transformer(('passthrough', make_column_selector(dtype_exclude=object)  ),\n",
    "                             (ohe, make_column_selector(dtype_include=object) ),\n",
    "                            verbose_feature_names_out=False).set_output(transform='pandas')\n",
    "lr = LogisticRegression(random_state=24)\n",
    "pipe = Pipeline([('CT',ct),('SCL',None),('LR',lr)])\n",
    "\n",
    "pipe.fit(X_train, y_train)\n",
    "y_pred_prob = pipe.predict_proba(X_test)\n",
    "print(log_loss(y_test, y_pred_prob))\n"
   ]
  },
  {
   "cell_type": "code",
   "execution_count": 21,
   "id": "a604a999-41a3-4844-b9a1-40f0b0dccd02",
   "metadata": {
    "scrolled": true
   },
   "outputs": [
    {
     "name": "stderr",
     "output_type": "stream",
     "text": [
      "C:\\Users\\DAI.STUDENTSDC\\AppData\\Local\\anaconda3\\Lib\\site-packages\\sklearn\\linear_model\\_logistic.py:469: ConvergenceWarning: lbfgs failed to converge (status=1):\n",
      "STOP: TOTAL NO. of ITERATIONS REACHED LIMIT.\n",
      "\n",
      "Increase the number of iterations (max_iter) or scale the data as shown in:\n",
      "    https://scikit-learn.org/stable/modules/preprocessing.html\n",
      "Please also refer to the documentation for alternative solver options:\n",
      "    https://scikit-learn.org/stable/modules/linear_model.html#logistic-regression\n",
      "  n_iter_i = _check_optimize_result(\n"
     ]
    },
    {
     "name": "stdout",
     "output_type": "stream",
     "text": [
      "0.43649681302349613\n",
      "Fitting 5 folds for each of 360 candidates, totalling 1800 fits\n",
      "[CV 1/5] END LR__C=0.001, LR__solver=lbfgs, SCL=MinMaxScaler();, score=0.767 total time=   0.0s\n",
      "[CV 2/5] END LR__C=0.001, LR__solver=lbfgs, SCL=MinMaxScaler();, score=0.746 total time=   0.0s\n",
      "[CV 3/5] END LR__C=0.001, LR__solver=lbfgs, SCL=MinMaxScaler();, score=0.773 total time=   0.0s\n",
      "[CV 4/5] END LR__C=0.001, LR__solver=lbfgs, SCL=MinMaxScaler();, score=0.767 total time=   0.0s\n",
      "[CV 5/5] END LR__C=0.001, LR__solver=lbfgs, SCL=MinMaxScaler();, score=0.781 total time=   0.0s\n",
      "[CV 1/5] END LR__C=0.001, LR__solver=lbfgs, SCL=StandardScaler();, score=0.814 total time=   0.0s\n",
      "[CV 2/5] END LR__C=0.001, LR__solver=lbfgs, SCL=StandardScaler();, score=0.800 total time=   0.0s\n",
      "[CV 3/5] END LR__C=0.001, LR__solver=lbfgs, SCL=StandardScaler();, score=0.814 total time=   0.0s\n",
      "[CV 4/5] END LR__C=0.001, LR__solver=lbfgs, SCL=StandardScaler();, score=0.808 total time=   0.0s\n",
      "[CV 5/5] END LR__C=0.001, LR__solver=lbfgs, SCL=StandardScaler();, score=0.820 total time=   0.0s\n"
     ]
    },
    {
     "name": "stderr",
     "output_type": "stream",
     "text": [
      "C:\\Users\\DAI.STUDENTSDC\\AppData\\Local\\anaconda3\\Lib\\site-packages\\sklearn\\linear_model\\_logistic.py:469: ConvergenceWarning: lbfgs failed to converge (status=1):\n",
      "STOP: TOTAL NO. of ITERATIONS REACHED LIMIT.\n",
      "\n",
      "Increase the number of iterations (max_iter) or scale the data as shown in:\n",
      "    https://scikit-learn.org/stable/modules/preprocessing.html\n",
      "Please also refer to the documentation for alternative solver options:\n",
      "    https://scikit-learn.org/stable/modules/linear_model.html#logistic-regression\n",
      "  n_iter_i = _check_optimize_result(\n"
     ]
    },
    {
     "name": "stdout",
     "output_type": "stream",
     "text": [
      "[CV 1/5] END LR__C=0.001, LR__solver=lbfgs, SCL=None;, score=0.771 total time=   0.1s\n",
      "[CV 2/5] END LR__C=0.001, LR__solver=lbfgs, SCL=None;, score=0.727 total time=   0.1s\n"
     ]
    },
    {
     "name": "stderr",
     "output_type": "stream",
     "text": [
      "C:\\Users\\DAI.STUDENTSDC\\AppData\\Local\\anaconda3\\Lib\\site-packages\\sklearn\\linear_model\\_logistic.py:469: ConvergenceWarning: lbfgs failed to converge (status=1):\n",
      "STOP: TOTAL NO. of ITERATIONS REACHED LIMIT.\n",
      "\n",
      "Increase the number of iterations (max_iter) or scale the data as shown in:\n",
      "    https://scikit-learn.org/stable/modules/preprocessing.html\n",
      "Please also refer to the documentation for alternative solver options:\n",
      "    https://scikit-learn.org/stable/modules/linear_model.html#logistic-regression\n",
      "  n_iter_i = _check_optimize_result(\n",
      "C:\\Users\\DAI.STUDENTSDC\\AppData\\Local\\anaconda3\\Lib\\site-packages\\sklearn\\linear_model\\_logistic.py:469: ConvergenceWarning: lbfgs failed to converge (status=1):\n",
      "STOP: TOTAL NO. of ITERATIONS REACHED LIMIT.\n",
      "\n",
      "Increase the number of iterations (max_iter) or scale the data as shown in:\n",
      "    https://scikit-learn.org/stable/modules/preprocessing.html\n",
      "Please also refer to the documentation for alternative solver options:\n",
      "    https://scikit-learn.org/stable/modules/linear_model.html#logistic-regression\n",
      "  n_iter_i = _check_optimize_result(\n"
     ]
    },
    {
     "name": "stdout",
     "output_type": "stream",
     "text": [
      "[CV 3/5] END LR__C=0.001, LR__solver=lbfgs, SCL=None;, score=0.744 total time=   0.1s\n",
      "[CV 4/5] END LR__C=0.001, LR__solver=lbfgs, SCL=None;, score=0.741 total time=   0.1s\n"
     ]
    },
    {
     "name": "stderr",
     "output_type": "stream",
     "text": [
      "C:\\Users\\DAI.STUDENTSDC\\AppData\\Local\\anaconda3\\Lib\\site-packages\\sklearn\\linear_model\\_logistic.py:469: ConvergenceWarning: lbfgs failed to converge (status=1):\n",
      "STOP: TOTAL NO. of ITERATIONS REACHED LIMIT.\n",
      "\n",
      "Increase the number of iterations (max_iter) or scale the data as shown in:\n",
      "    https://scikit-learn.org/stable/modules/preprocessing.html\n",
      "Please also refer to the documentation for alternative solver options:\n",
      "    https://scikit-learn.org/stable/modules/linear_model.html#logistic-regression\n",
      "  n_iter_i = _check_optimize_result(\n"
     ]
    },
    {
     "name": "stdout",
     "output_type": "stream",
     "text": [
      "[CV 5/5] END LR__C=0.001, LR__solver=lbfgs, SCL=None;, score=0.750 total time=   0.1s\n",
      "[CV 1/5] END LR__C=0.001, LR__solver=liblinear, SCL=MinMaxScaler();, score=0.740 total time=   0.0s\n",
      "[CV 2/5] END LR__C=0.001, LR__solver=liblinear, SCL=MinMaxScaler();, score=0.733 total time=   0.0s\n",
      "[CV 3/5] END LR__C=0.001, LR__solver=liblinear, SCL=MinMaxScaler();, score=0.750 total time=   0.0s\n",
      "[CV 4/5] END LR__C=0.001, LR__solver=liblinear, SCL=MinMaxScaler();, score=0.746 total time=   0.0s\n",
      "[CV 5/5] END LR__C=0.001, LR__solver=liblinear, SCL=MinMaxScaler();, score=0.761 total time=   0.0s\n",
      "[CV 1/5] END LR__C=0.001, LR__solver=liblinear, SCL=StandardScaler();, score=0.814 total time=   0.0s\n",
      "[CV 2/5] END LR__C=0.001, LR__solver=liblinear, SCL=StandardScaler();, score=0.801 total time=   0.0s\n",
      "[CV 3/5] END LR__C=0.001, LR__solver=liblinear, SCL=StandardScaler();, score=0.813 total time=   0.0s\n",
      "[CV 4/5] END LR__C=0.001, LR__solver=liblinear, SCL=StandardScaler();, score=0.807 total time=   0.0s\n",
      "[CV 5/5] END LR__C=0.001, LR__solver=liblinear, SCL=StandardScaler();, score=0.821 total time=   0.0s\n",
      "[CV 1/5] END LR__C=0.001, LR__solver=liblinear, SCL=None;, score=0.672 total time=   0.0s\n",
      "[CV 2/5] END LR__C=0.001, LR__solver=liblinear, SCL=None;, score=0.677 total time=   0.0s\n",
      "[CV 3/5] END LR__C=0.001, LR__solver=liblinear, SCL=None;, score=0.690 total time=   0.0s\n",
      "[CV 4/5] END LR__C=0.001, LR__solver=liblinear, SCL=None;, score=0.697 total time=   0.0s\n",
      "[CV 5/5] END LR__C=0.001, LR__solver=liblinear, SCL=None;, score=0.684 total time=   0.0s\n",
      "[CV 1/5] END LR__C=0.001, LR__solver=newton-cg, SCL=MinMaxScaler();, score=0.767 total time=   0.0s\n",
      "[CV 2/5] END LR__C=0.001, LR__solver=newton-cg, SCL=MinMaxScaler();, score=0.745 total time=   0.0s\n",
      "[CV 3/5] END LR__C=0.001, LR__solver=newton-cg, SCL=MinMaxScaler();, score=0.773 total time=   0.0s\n",
      "[CV 4/5] END LR__C=0.001, LR__solver=newton-cg, SCL=MinMaxScaler();, score=0.767 total time=   0.0s\n",
      "[CV 5/5] END LR__C=0.001, LR__solver=newton-cg, SCL=MinMaxScaler();, score=0.781 total time=   0.0s\n",
      "[CV 1/5] END LR__C=0.001, LR__solver=newton-cg, SCL=StandardScaler();, score=0.814 total time=   0.0s\n",
      "[CV 2/5] END LR__C=0.001, LR__solver=newton-cg, SCL=StandardScaler();, score=0.800 total time=   0.0s\n",
      "[CV 3/5] END LR__C=0.001, LR__solver=newton-cg, SCL=StandardScaler();, score=0.814 total time=   0.0s\n",
      "[CV 4/5] END LR__C=0.001, LR__solver=newton-cg, SCL=StandardScaler();, score=0.808 total time=   0.0s\n",
      "[CV 5/5] END LR__C=0.001, LR__solver=newton-cg, SCL=StandardScaler();, score=0.820 total time=   0.0s\n",
      "[CV 1/5] END LR__C=0.001, LR__solver=newton-cg, SCL=None;, score=0.771 total time=   0.1s\n",
      "[CV 2/5] END LR__C=0.001, LR__solver=newton-cg, SCL=None;, score=0.727 total time=   0.0s\n",
      "[CV 3/5] END LR__C=0.001, LR__solver=newton-cg, SCL=None;, score=0.744 total time=   0.0s\n",
      "[CV 4/5] END LR__C=0.001, LR__solver=newton-cg, SCL=None;, score=0.741 total time=   0.0s\n",
      "[CV 5/5] END LR__C=0.001, LR__solver=newton-cg, SCL=None;, score=0.749 total time=   0.0s\n",
      "[CV 1/5] END LR__C=0.001, LR__solver=newton-cholesky, SCL=MinMaxScaler();, score=0.767 total time=   0.0s\n",
      "[CV 2/5] END LR__C=0.001, LR__solver=newton-cholesky, SCL=MinMaxScaler();, score=0.746 total time=   0.0s\n",
      "[CV 3/5] END LR__C=0.001, LR__solver=newton-cholesky, SCL=MinMaxScaler();, score=0.773 total time=   0.0s\n",
      "[CV 4/5] END LR__C=0.001, LR__solver=newton-cholesky, SCL=MinMaxScaler();, score=0.767 total time=   0.0s\n",
      "[CV 5/5] END LR__C=0.001, LR__solver=newton-cholesky, SCL=MinMaxScaler();, score=0.781 total time=   0.0s\n",
      "[CV 1/5] END LR__C=0.001, LR__solver=newton-cholesky, SCL=StandardScaler();, score=0.814 total time=   0.0s\n",
      "[CV 2/5] END LR__C=0.001, LR__solver=newton-cholesky, SCL=StandardScaler();, score=0.800 total time=   0.0s\n",
      "[CV 3/5] END LR__C=0.001, LR__solver=newton-cholesky, SCL=StandardScaler();, score=0.814 total time=   0.0s\n",
      "[CV 4/5] END LR__C=0.001, LR__solver=newton-cholesky, SCL=StandardScaler();, score=0.808 total time=   0.0s\n",
      "[CV 5/5] END LR__C=0.001, LR__solver=newton-cholesky, SCL=StandardScaler();, score=0.820 total time=   0.0s\n",
      "[CV 1/5] END LR__C=0.001, LR__solver=newton-cholesky, SCL=None;, score=0.771 total time=   0.0s\n",
      "[CV 2/5] END LR__C=0.001, LR__solver=newton-cholesky, SCL=None;, score=0.727 total time=   0.0s\n",
      "[CV 3/5] END LR__C=0.001, LR__solver=newton-cholesky, SCL=None;, score=0.744 total time=   0.0s\n",
      "[CV 4/5] END LR__C=0.001, LR__solver=newton-cholesky, SCL=None;, score=0.741 total time=   0.0s\n",
      "[CV 5/5] END LR__C=0.001, LR__solver=newton-cholesky, SCL=None;, score=0.749 total time=   0.0s\n",
      "[CV 1/5] END LR__C=0.001, LR__solver=sag, SCL=MinMaxScaler();, score=0.767 total time=   0.0s\n",
      "[CV 2/5] END LR__C=0.001, LR__solver=sag, SCL=MinMaxScaler();, score=0.746 total time=   0.0s\n",
      "[CV 3/5] END LR__C=0.001, LR__solver=sag, SCL=MinMaxScaler();, score=0.773 total time=   0.0s\n",
      "[CV 4/5] END LR__C=0.001, LR__solver=sag, SCL=MinMaxScaler();, score=0.767 total time=   0.0s\n",
      "[CV 5/5] END LR__C=0.001, LR__solver=sag, SCL=MinMaxScaler();, score=0.781 total time=   0.0s\n",
      "[CV 1/5] END LR__C=0.001, LR__solver=sag, SCL=StandardScaler();, score=0.814 total time=   0.0s\n",
      "[CV 2/5] END LR__C=0.001, LR__solver=sag, SCL=StandardScaler();, score=0.800 total time=   0.0s\n",
      "[CV 3/5] END LR__C=0.001, LR__solver=sag, SCL=StandardScaler();, score=0.814 total time=   0.0s\n",
      "[CV 4/5] END LR__C=0.001, LR__solver=sag, SCL=StandardScaler();, score=0.808 total time=   0.0s\n",
      "[CV 5/5] END LR__C=0.001, LR__solver=sag, SCL=StandardScaler();, score=0.820 total time=   0.0s\n"
     ]
    },
    {
     "name": "stderr",
     "output_type": "stream",
     "text": [
      "C:\\Users\\DAI.STUDENTSDC\\AppData\\Local\\anaconda3\\Lib\\site-packages\\sklearn\\linear_model\\_sag.py:349: ConvergenceWarning: The max_iter was reached which means the coef_ did not converge\n",
      "  warnings.warn(\n"
     ]
    },
    {
     "name": "stdout",
     "output_type": "stream",
     "text": [
      "[CV 1/5] END LR__C=0.001, LR__solver=sag, SCL=None;, score=0.756 total time=   0.3s\n"
     ]
    },
    {
     "name": "stderr",
     "output_type": "stream",
     "text": [
      "C:\\Users\\DAI.STUDENTSDC\\AppData\\Local\\anaconda3\\Lib\\site-packages\\sklearn\\linear_model\\_sag.py:349: ConvergenceWarning: The max_iter was reached which means the coef_ did not converge\n",
      "  warnings.warn(\n"
     ]
    },
    {
     "name": "stdout",
     "output_type": "stream",
     "text": [
      "[CV 2/5] END LR__C=0.001, LR__solver=sag, SCL=None;, score=0.746 total time=   0.3s\n"
     ]
    },
    {
     "name": "stderr",
     "output_type": "stream",
     "text": [
      "C:\\Users\\DAI.STUDENTSDC\\AppData\\Local\\anaconda3\\Lib\\site-packages\\sklearn\\linear_model\\_sag.py:349: ConvergenceWarning: The max_iter was reached which means the coef_ did not converge\n",
      "  warnings.warn(\n"
     ]
    },
    {
     "name": "stdout",
     "output_type": "stream",
     "text": [
      "[CV 3/5] END LR__C=0.001, LR__solver=sag, SCL=None;, score=0.764 total time=   0.3s\n"
     ]
    },
    {
     "name": "stderr",
     "output_type": "stream",
     "text": [
      "C:\\Users\\DAI.STUDENTSDC\\AppData\\Local\\anaconda3\\Lib\\site-packages\\sklearn\\linear_model\\_sag.py:349: ConvergenceWarning: The max_iter was reached which means the coef_ did not converge\n",
      "  warnings.warn(\n"
     ]
    },
    {
     "name": "stdout",
     "output_type": "stream",
     "text": [
      "[CV 4/5] END LR__C=0.001, LR__solver=sag, SCL=None;, score=0.767 total time=   0.3s\n"
     ]
    },
    {
     "name": "stderr",
     "output_type": "stream",
     "text": [
      "C:\\Users\\DAI.STUDENTSDC\\AppData\\Local\\anaconda3\\Lib\\site-packages\\sklearn\\linear_model\\_sag.py:349: ConvergenceWarning: The max_iter was reached which means the coef_ did not converge\n",
      "  warnings.warn(\n"
     ]
    },
    {
     "name": "stdout",
     "output_type": "stream",
     "text": [
      "[CV 5/5] END LR__C=0.001, LR__solver=sag, SCL=None;, score=0.756 total time=   0.4s\n",
      "[CV 1/5] END LR__C=0.001, LR__solver=saga, SCL=MinMaxScaler();, score=0.767 total time=   0.0s\n",
      "[CV 2/5] END LR__C=0.001, LR__solver=saga, SCL=MinMaxScaler();, score=0.746 total time=   0.0s\n",
      "[CV 3/5] END LR__C=0.001, LR__solver=saga, SCL=MinMaxScaler();, score=0.773 total time=   0.0s\n",
      "[CV 4/5] END LR__C=0.001, LR__solver=saga, SCL=MinMaxScaler();, score=0.767 total time=   0.0s\n",
      "[CV 5/5] END LR__C=0.001, LR__solver=saga, SCL=MinMaxScaler();, score=0.781 total time=   0.0s\n",
      "[CV 1/5] END LR__C=0.001, LR__solver=saga, SCL=StandardScaler();, score=0.814 total time=   0.0s\n",
      "[CV 2/5] END LR__C=0.001, LR__solver=saga, SCL=StandardScaler();, score=0.800 total time=   0.0s\n",
      "[CV 3/5] END LR__C=0.001, LR__solver=saga, SCL=StandardScaler();, score=0.814 total time=   0.0s\n",
      "[CV 4/5] END LR__C=0.001, LR__solver=saga, SCL=StandardScaler();, score=0.808 total time=   0.0s\n",
      "[CV 5/5] END LR__C=0.001, LR__solver=saga, SCL=StandardScaler();, score=0.820 total time=   0.0s\n"
     ]
    },
    {
     "name": "stderr",
     "output_type": "stream",
     "text": [
      "C:\\Users\\DAI.STUDENTSDC\\AppData\\Local\\anaconda3\\Lib\\site-packages\\sklearn\\linear_model\\_sag.py:349: ConvergenceWarning: The max_iter was reached which means the coef_ did not converge\n",
      "  warnings.warn(\n"
     ]
    },
    {
     "name": "stdout",
     "output_type": "stream",
     "text": [
      "[CV 1/5] END LR__C=0.001, LR__solver=saga, SCL=None;, score=0.695 total time=   0.3s\n"
     ]
    },
    {
     "name": "stderr",
     "output_type": "stream",
     "text": [
      "C:\\Users\\DAI.STUDENTSDC\\AppData\\Local\\anaconda3\\Lib\\site-packages\\sklearn\\linear_model\\_sag.py:349: ConvergenceWarning: The max_iter was reached which means the coef_ did not converge\n",
      "  warnings.warn(\n"
     ]
    },
    {
     "name": "stdout",
     "output_type": "stream",
     "text": [
      "[CV 2/5] END LR__C=0.001, LR__solver=saga, SCL=None;, score=0.696 total time=   0.4s\n"
     ]
    },
    {
     "name": "stderr",
     "output_type": "stream",
     "text": [
      "C:\\Users\\DAI.STUDENTSDC\\AppData\\Local\\anaconda3\\Lib\\site-packages\\sklearn\\linear_model\\_sag.py:349: ConvergenceWarning: The max_iter was reached which means the coef_ did not converge\n",
      "  warnings.warn(\n"
     ]
    },
    {
     "name": "stdout",
     "output_type": "stream",
     "text": [
      "[CV 3/5] END LR__C=0.001, LR__solver=saga, SCL=None;, score=0.710 total time=   0.4s\n"
     ]
    },
    {
     "name": "stderr",
     "output_type": "stream",
     "text": [
      "C:\\Users\\DAI.STUDENTSDC\\AppData\\Local\\anaconda3\\Lib\\site-packages\\sklearn\\linear_model\\_sag.py:349: ConvergenceWarning: The max_iter was reached which means the coef_ did not converge\n",
      "  warnings.warn(\n"
     ]
    },
    {
     "name": "stdout",
     "output_type": "stream",
     "text": [
      "[CV 4/5] END LR__C=0.001, LR__solver=saga, SCL=None;, score=0.717 total time=   0.4s\n"
     ]
    },
    {
     "name": "stderr",
     "output_type": "stream",
     "text": [
      "C:\\Users\\DAI.STUDENTSDC\\AppData\\Local\\anaconda3\\Lib\\site-packages\\sklearn\\linear_model\\_sag.py:349: ConvergenceWarning: The max_iter was reached which means the coef_ did not converge\n",
      "  warnings.warn(\n"
     ]
    },
    {
     "name": "stdout",
     "output_type": "stream",
     "text": [
      "[CV 5/5] END LR__C=0.001, LR__solver=saga, SCL=None;, score=0.702 total time=   0.4s\n",
      "[CV 1/5] END LR__C=0.5272631578947369, LR__solver=lbfgs, SCL=MinMaxScaler();, score=0.821 total time=   0.0s\n",
      "[CV 2/5] END LR__C=0.5272631578947369, LR__solver=lbfgs, SCL=MinMaxScaler();, score=0.810 total time=   0.0s\n",
      "[CV 3/5] END LR__C=0.5272631578947369, LR__solver=lbfgs, SCL=MinMaxScaler();, score=0.824 total time=   0.0s\n",
      "[CV 4/5] END LR__C=0.5272631578947369, LR__solver=lbfgs, SCL=MinMaxScaler();, score=0.816 total time=   0.0s\n",
      "[CV 5/5] END LR__C=0.5272631578947369, LR__solver=lbfgs, SCL=MinMaxScaler();, score=0.827 total time=   0.0s\n",
      "[CV 1/5] END LR__C=0.5272631578947369, LR__solver=lbfgs, SCL=StandardScaler();, score=0.822 total time=   0.0s\n",
      "[CV 2/5] END LR__C=0.5272631578947369, LR__solver=lbfgs, SCL=StandardScaler();, score=0.810 total time=   0.0s\n",
      "[CV 3/5] END LR__C=0.5272631578947369, LR__solver=lbfgs, SCL=StandardScaler();, score=0.825 total time=   0.0s\n",
      "[CV 4/5] END LR__C=0.5272631578947369, LR__solver=lbfgs, SCL=StandardScaler();, score=0.816 total time=   0.0s\n",
      "[CV 5/5] END LR__C=0.5272631578947369, LR__solver=lbfgs, SCL=StandardScaler();, score=0.827 total time=   0.0s\n"
     ]
    },
    {
     "name": "stderr",
     "output_type": "stream",
     "text": [
      "C:\\Users\\DAI.STUDENTSDC\\AppData\\Local\\anaconda3\\Lib\\site-packages\\sklearn\\linear_model\\_logistic.py:469: ConvergenceWarning: lbfgs failed to converge (status=1):\n",
      "STOP: TOTAL NO. of ITERATIONS REACHED LIMIT.\n",
      "\n",
      "Increase the number of iterations (max_iter) or scale the data as shown in:\n",
      "    https://scikit-learn.org/stable/modules/preprocessing.html\n",
      "Please also refer to the documentation for alternative solver options:\n",
      "    https://scikit-learn.org/stable/modules/linear_model.html#logistic-regression\n",
      "  n_iter_i = _check_optimize_result(\n",
      "C:\\Users\\DAI.STUDENTSDC\\AppData\\Local\\anaconda3\\Lib\\site-packages\\sklearn\\linear_model\\_logistic.py:469: ConvergenceWarning: lbfgs failed to converge (status=1):\n",
      "STOP: TOTAL NO. of ITERATIONS REACHED LIMIT.\n",
      "\n",
      "Increase the number of iterations (max_iter) or scale the data as shown in:\n",
      "    https://scikit-learn.org/stable/modules/preprocessing.html\n",
      "Please also refer to the documentation for alternative solver options:\n",
      "    https://scikit-learn.org/stable/modules/linear_model.html#logistic-regression\n",
      "  n_iter_i = _check_optimize_result(\n"
     ]
    },
    {
     "name": "stdout",
     "output_type": "stream",
     "text": [
      "[CV 1/5] END LR__C=0.5272631578947369, LR__solver=lbfgs, SCL=None;, score=0.814 total time=   0.1s\n",
      "[CV 2/5] END LR__C=0.5272631578947369, LR__solver=lbfgs, SCL=None;, score=0.805 total time=   0.1s\n"
     ]
    },
    {
     "name": "stderr",
     "output_type": "stream",
     "text": [
      "C:\\Users\\DAI.STUDENTSDC\\AppData\\Local\\anaconda3\\Lib\\site-packages\\sklearn\\linear_model\\_logistic.py:469: ConvergenceWarning: lbfgs failed to converge (status=1):\n",
      "STOP: TOTAL NO. of ITERATIONS REACHED LIMIT.\n",
      "\n",
      "Increase the number of iterations (max_iter) or scale the data as shown in:\n",
      "    https://scikit-learn.org/stable/modules/preprocessing.html\n",
      "Please also refer to the documentation for alternative solver options:\n",
      "    https://scikit-learn.org/stable/modules/linear_model.html#logistic-regression\n",
      "  n_iter_i = _check_optimize_result(\n",
      "C:\\Users\\DAI.STUDENTSDC\\AppData\\Local\\anaconda3\\Lib\\site-packages\\sklearn\\linear_model\\_logistic.py:469: ConvergenceWarning: lbfgs failed to converge (status=1):\n",
      "STOP: TOTAL NO. of ITERATIONS REACHED LIMIT.\n",
      "\n",
      "Increase the number of iterations (max_iter) or scale the data as shown in:\n",
      "    https://scikit-learn.org/stable/modules/preprocessing.html\n",
      "Please also refer to the documentation for alternative solver options:\n",
      "    https://scikit-learn.org/stable/modules/linear_model.html#logistic-regression\n",
      "  n_iter_i = _check_optimize_result(\n"
     ]
    },
    {
     "name": "stdout",
     "output_type": "stream",
     "text": [
      "[CV 3/5] END LR__C=0.5272631578947369, LR__solver=lbfgs, SCL=None;, score=0.819 total time=   0.1s\n",
      "[CV 4/5] END LR__C=0.5272631578947369, LR__solver=lbfgs, SCL=None;, score=0.813 total time=   0.1s\n",
      "[CV 5/5] END LR__C=0.5272631578947369, LR__solver=lbfgs, SCL=None;, score=0.821 total time=   0.1s\n"
     ]
    },
    {
     "name": "stderr",
     "output_type": "stream",
     "text": [
      "C:\\Users\\DAI.STUDENTSDC\\AppData\\Local\\anaconda3\\Lib\\site-packages\\sklearn\\linear_model\\_logistic.py:469: ConvergenceWarning: lbfgs failed to converge (status=1):\n",
      "STOP: TOTAL NO. of ITERATIONS REACHED LIMIT.\n",
      "\n",
      "Increase the number of iterations (max_iter) or scale the data as shown in:\n",
      "    https://scikit-learn.org/stable/modules/preprocessing.html\n",
      "Please also refer to the documentation for alternative solver options:\n",
      "    https://scikit-learn.org/stable/modules/linear_model.html#logistic-regression\n",
      "  n_iter_i = _check_optimize_result(\n"
     ]
    },
    {
     "name": "stdout",
     "output_type": "stream",
     "text": [
      "[CV 1/5] END LR__C=0.5272631578947369, LR__solver=liblinear, SCL=MinMaxScaler();, score=0.820 total time=   0.0s\n",
      "[CV 2/5] END LR__C=0.5272631578947369, LR__solver=liblinear, SCL=MinMaxScaler();, score=0.809 total time=   0.0s\n",
      "[CV 3/5] END LR__C=0.5272631578947369, LR__solver=liblinear, SCL=MinMaxScaler();, score=0.824 total time=   0.0s\n",
      "[CV 4/5] END LR__C=0.5272631578947369, LR__solver=liblinear, SCL=MinMaxScaler();, score=0.816 total time=   0.0s\n",
      "[CV 5/5] END LR__C=0.5272631578947369, LR__solver=liblinear, SCL=MinMaxScaler();, score=0.827 total time=   0.0s\n",
      "[CV 1/5] END LR__C=0.5272631578947369, LR__solver=liblinear, SCL=StandardScaler();, score=0.821 total time=   0.0s\n",
      "[CV 2/5] END LR__C=0.5272631578947369, LR__solver=liblinear, SCL=StandardScaler();, score=0.810 total time=   0.0s\n",
      "[CV 3/5] END LR__C=0.5272631578947369, LR__solver=liblinear, SCL=StandardScaler();, score=0.825 total time=   0.0s\n",
      "[CV 4/5] END LR__C=0.5272631578947369, LR__solver=liblinear, SCL=StandardScaler();, score=0.816 total time=   0.0s\n",
      "[CV 5/5] END LR__C=0.5272631578947369, LR__solver=liblinear, SCL=StandardScaler();, score=0.827 total time=   0.0s\n",
      "[CV 1/5] END LR__C=0.5272631578947369, LR__solver=liblinear, SCL=None;, score=0.821 total time=   0.0s\n",
      "[CV 2/5] END LR__C=0.5272631578947369, LR__solver=liblinear, SCL=None;, score=0.809 total time=   0.0s\n",
      "[CV 3/5] END LR__C=0.5272631578947369, LR__solver=liblinear, SCL=None;, score=0.825 total time=   0.0s\n",
      "[CV 4/5] END LR__C=0.5272631578947369, LR__solver=liblinear, SCL=None;, score=0.817 total time=   0.0s\n",
      "[CV 5/5] END LR__C=0.5272631578947369, LR__solver=liblinear, SCL=None;, score=0.827 total time=   0.0s\n",
      "[CV 1/5] END LR__C=0.5272631578947369, LR__solver=newton-cg, SCL=MinMaxScaler();, score=0.821 total time=   0.0s\n",
      "[CV 2/5] END LR__C=0.5272631578947369, LR__solver=newton-cg, SCL=MinMaxScaler();, score=0.810 total time=   0.0s\n",
      "[CV 3/5] END LR__C=0.5272631578947369, LR__solver=newton-cg, SCL=MinMaxScaler();, score=0.824 total time=   0.0s\n",
      "[CV 4/5] END LR__C=0.5272631578947369, LR__solver=newton-cg, SCL=MinMaxScaler();, score=0.816 total time=   0.0s\n",
      "[CV 5/5] END LR__C=0.5272631578947369, LR__solver=newton-cg, SCL=MinMaxScaler();, score=0.827 total time=   0.0s\n",
      "[CV 1/5] END LR__C=0.5272631578947369, LR__solver=newton-cg, SCL=StandardScaler();, score=0.821 total time=   0.0s\n",
      "[CV 2/5] END LR__C=0.5272631578947369, LR__solver=newton-cg, SCL=StandardScaler();, score=0.810 total time=   0.0s\n",
      "[CV 3/5] END LR__C=0.5272631578947369, LR__solver=newton-cg, SCL=StandardScaler();, score=0.825 total time=   0.0s\n",
      "[CV 4/5] END LR__C=0.5272631578947369, LR__solver=newton-cg, SCL=StandardScaler();, score=0.816 total time=   0.0s\n",
      "[CV 5/5] END LR__C=0.5272631578947369, LR__solver=newton-cg, SCL=StandardScaler();, score=0.827 total time=   0.0s\n",
      "[CV 1/5] END LR__C=0.5272631578947369, LR__solver=newton-cg, SCL=None;, score=0.822 total time=   0.1s\n",
      "[CV 2/5] END LR__C=0.5272631578947369, LR__solver=newton-cg, SCL=None;, score=0.810 total time=   0.1s\n",
      "[CV 3/5] END LR__C=0.5272631578947369, LR__solver=newton-cg, SCL=None;, score=0.825 total time=   0.1s\n",
      "[CV 4/5] END LR__C=0.5272631578947369, LR__solver=newton-cg, SCL=None;, score=0.817 total time=   0.1s\n",
      "[CV 5/5] END LR__C=0.5272631578947369, LR__solver=newton-cg, SCL=None;, score=0.827 total time=   0.1s\n",
      "[CV 1/5] END LR__C=0.5272631578947369, LR__solver=newton-cholesky, SCL=MinMaxScaler();, score=0.821 total time=   0.0s\n",
      "[CV 2/5] END LR__C=0.5272631578947369, LR__solver=newton-cholesky, SCL=MinMaxScaler();, score=0.810 total time=   0.0s\n",
      "[CV 3/5] END LR__C=0.5272631578947369, LR__solver=newton-cholesky, SCL=MinMaxScaler();, score=0.824 total time=   0.0s\n",
      "[CV 4/5] END LR__C=0.5272631578947369, LR__solver=newton-cholesky, SCL=MinMaxScaler();, score=0.816 total time=   0.0s\n",
      "[CV 5/5] END LR__C=0.5272631578947369, LR__solver=newton-cholesky, SCL=MinMaxScaler();, score=0.827 total time=   0.0s\n",
      "[CV 1/5] END LR__C=0.5272631578947369, LR__solver=newton-cholesky, SCL=StandardScaler();, score=0.821 total time=   0.0s\n",
      "[CV 2/5] END LR__C=0.5272631578947369, LR__solver=newton-cholesky, SCL=StandardScaler();, score=0.810 total time=   0.0s\n",
      "[CV 3/5] END LR__C=0.5272631578947369, LR__solver=newton-cholesky, SCL=StandardScaler();, score=0.825 total time=   0.0s\n",
      "[CV 4/5] END LR__C=0.5272631578947369, LR__solver=newton-cholesky, SCL=StandardScaler();, score=0.816 total time=   0.0s\n",
      "[CV 5/5] END LR__C=0.5272631578947369, LR__solver=newton-cholesky, SCL=StandardScaler();, score=0.827 total time=   0.0s\n",
      "[CV 1/5] END LR__C=0.5272631578947369, LR__solver=newton-cholesky, SCL=None;, score=0.822 total time=   0.0s\n",
      "[CV 2/5] END LR__C=0.5272631578947369, LR__solver=newton-cholesky, SCL=None;, score=0.810 total time=   0.0s\n",
      "[CV 3/5] END LR__C=0.5272631578947369, LR__solver=newton-cholesky, SCL=None;, score=0.825 total time=   0.0s\n",
      "[CV 4/5] END LR__C=0.5272631578947369, LR__solver=newton-cholesky, SCL=None;, score=0.817 total time=   0.0s\n",
      "[CV 5/5] END LR__C=0.5272631578947369, LR__solver=newton-cholesky, SCL=None;, score=0.827 total time=   0.0s\n",
      "[CV 1/5] END LR__C=0.5272631578947369, LR__solver=sag, SCL=MinMaxScaler();, score=0.821 total time=   0.0s\n",
      "[CV 2/5] END LR__C=0.5272631578947369, LR__solver=sag, SCL=MinMaxScaler();, score=0.810 total time=   0.0s\n",
      "[CV 3/5] END LR__C=0.5272631578947369, LR__solver=sag, SCL=MinMaxScaler();, score=0.824 total time=   0.0s\n",
      "[CV 4/5] END LR__C=0.5272631578947369, LR__solver=sag, SCL=MinMaxScaler();, score=0.816 total time=   0.0s\n",
      "[CV 5/5] END LR__C=0.5272631578947369, LR__solver=sag, SCL=MinMaxScaler();, score=0.827 total time=   0.0s\n",
      "[CV 1/5] END LR__C=0.5272631578947369, LR__solver=sag, SCL=StandardScaler();, score=0.821 total time=   0.0s\n",
      "[CV 2/5] END LR__C=0.5272631578947369, LR__solver=sag, SCL=StandardScaler();, score=0.810 total time=   0.0s\n",
      "[CV 3/5] END LR__C=0.5272631578947369, LR__solver=sag, SCL=StandardScaler();, score=0.825 total time=   0.0s\n",
      "[CV 4/5] END LR__C=0.5272631578947369, LR__solver=sag, SCL=StandardScaler();, score=0.816 total time=   0.0s\n",
      "[CV 5/5] END LR__C=0.5272631578947369, LR__solver=sag, SCL=StandardScaler();, score=0.827 total time=   0.1s\n"
     ]
    },
    {
     "name": "stderr",
     "output_type": "stream",
     "text": [
      "C:\\Users\\DAI.STUDENTSDC\\AppData\\Local\\anaconda3\\Lib\\site-packages\\sklearn\\linear_model\\_sag.py:349: ConvergenceWarning: The max_iter was reached which means the coef_ did not converge\n",
      "  warnings.warn(\n"
     ]
    },
    {
     "name": "stdout",
     "output_type": "stream",
     "text": [
      "[CV 1/5] END LR__C=0.5272631578947369, LR__solver=sag, SCL=None;, score=0.812 total time=   0.3s\n"
     ]
    },
    {
     "name": "stderr",
     "output_type": "stream",
     "text": [
      "C:\\Users\\DAI.STUDENTSDC\\AppData\\Local\\anaconda3\\Lib\\site-packages\\sklearn\\linear_model\\_sag.py:349: ConvergenceWarning: The max_iter was reached which means the coef_ did not converge\n",
      "  warnings.warn(\n"
     ]
    },
    {
     "name": "stdout",
     "output_type": "stream",
     "text": [
      "[CV 2/5] END LR__C=0.5272631578947369, LR__solver=sag, SCL=None;, score=0.792 total time=   0.3s\n"
     ]
    },
    {
     "name": "stderr",
     "output_type": "stream",
     "text": [
      "C:\\Users\\DAI.STUDENTSDC\\AppData\\Local\\anaconda3\\Lib\\site-packages\\sklearn\\linear_model\\_sag.py:349: ConvergenceWarning: The max_iter was reached which means the coef_ did not converge\n",
      "  warnings.warn(\n"
     ]
    },
    {
     "name": "stdout",
     "output_type": "stream",
     "text": [
      "[CV 3/5] END LR__C=0.5272631578947369, LR__solver=sag, SCL=None;, score=0.811 total time=   0.3s\n"
     ]
    },
    {
     "name": "stderr",
     "output_type": "stream",
     "text": [
      "C:\\Users\\DAI.STUDENTSDC\\AppData\\Local\\anaconda3\\Lib\\site-packages\\sklearn\\linear_model\\_sag.py:349: ConvergenceWarning: The max_iter was reached which means the coef_ did not converge\n",
      "  warnings.warn(\n"
     ]
    },
    {
     "name": "stdout",
     "output_type": "stream",
     "text": [
      "[CV 4/5] END LR__C=0.5272631578947369, LR__solver=sag, SCL=None;, score=0.807 total time=   0.3s\n"
     ]
    },
    {
     "name": "stderr",
     "output_type": "stream",
     "text": [
      "C:\\Users\\DAI.STUDENTSDC\\AppData\\Local\\anaconda3\\Lib\\site-packages\\sklearn\\linear_model\\_sag.py:349: ConvergenceWarning: The max_iter was reached which means the coef_ did not converge\n",
      "  warnings.warn(\n"
     ]
    },
    {
     "name": "stdout",
     "output_type": "stream",
     "text": [
      "[CV 5/5] END LR__C=0.5272631578947369, LR__solver=sag, SCL=None;, score=0.814 total time=   0.3s\n",
      "[CV 1/5] END LR__C=0.5272631578947369, LR__solver=saga, SCL=MinMaxScaler();, score=0.821 total time=   0.0s\n",
      "[CV 2/5] END LR__C=0.5272631578947369, LR__solver=saga, SCL=MinMaxScaler();, score=0.810 total time=   0.0s\n",
      "[CV 3/5] END LR__C=0.5272631578947369, LR__solver=saga, SCL=MinMaxScaler();, score=0.824 total time=   0.0s\n",
      "[CV 4/5] END LR__C=0.5272631578947369, LR__solver=saga, SCL=MinMaxScaler();, score=0.816 total time=   0.0s\n",
      "[CV 5/5] END LR__C=0.5272631578947369, LR__solver=saga, SCL=MinMaxScaler();, score=0.827 total time=   0.0s\n",
      "[CV 1/5] END LR__C=0.5272631578947369, LR__solver=saga, SCL=StandardScaler();, score=0.821 total time=   0.0s\n",
      "[CV 2/5] END LR__C=0.5272631578947369, LR__solver=saga, SCL=StandardScaler();, score=0.810 total time=   0.0s\n",
      "[CV 3/5] END LR__C=0.5272631578947369, LR__solver=saga, SCL=StandardScaler();, score=0.825 total time=   0.0s\n",
      "[CV 4/5] END LR__C=0.5272631578947369, LR__solver=saga, SCL=StandardScaler();, score=0.816 total time=   0.0s\n",
      "[CV 5/5] END LR__C=0.5272631578947369, LR__solver=saga, SCL=StandardScaler();, score=0.827 total time=   0.0s\n"
     ]
    },
    {
     "name": "stderr",
     "output_type": "stream",
     "text": [
      "C:\\Users\\DAI.STUDENTSDC\\AppData\\Local\\anaconda3\\Lib\\site-packages\\sklearn\\linear_model\\_sag.py:349: ConvergenceWarning: The max_iter was reached which means the coef_ did not converge\n",
      "  warnings.warn(\n"
     ]
    },
    {
     "name": "stdout",
     "output_type": "stream",
     "text": [
      "[CV 1/5] END LR__C=0.5272631578947369, LR__solver=saga, SCL=None;, score=0.784 total time=   0.4s\n"
     ]
    },
    {
     "name": "stderr",
     "output_type": "stream",
     "text": [
      "C:\\Users\\DAI.STUDENTSDC\\AppData\\Local\\anaconda3\\Lib\\site-packages\\sklearn\\linear_model\\_sag.py:349: ConvergenceWarning: The max_iter was reached which means the coef_ did not converge\n",
      "  warnings.warn(\n"
     ]
    },
    {
     "name": "stdout",
     "output_type": "stream",
     "text": [
      "[CV 2/5] END LR__C=0.5272631578947369, LR__solver=saga, SCL=None;, score=0.766 total time=   0.4s\n"
     ]
    },
    {
     "name": "stderr",
     "output_type": "stream",
     "text": [
      "C:\\Users\\DAI.STUDENTSDC\\AppData\\Local\\anaconda3\\Lib\\site-packages\\sklearn\\linear_model\\_sag.py:349: ConvergenceWarning: The max_iter was reached which means the coef_ did not converge\n",
      "  warnings.warn(\n"
     ]
    },
    {
     "name": "stdout",
     "output_type": "stream",
     "text": [
      "[CV 3/5] END LR__C=0.5272631578947369, LR__solver=saga, SCL=None;, score=0.787 total time=   0.3s\n"
     ]
    },
    {
     "name": "stderr",
     "output_type": "stream",
     "text": [
      "C:\\Users\\DAI.STUDENTSDC\\AppData\\Local\\anaconda3\\Lib\\site-packages\\sklearn\\linear_model\\_sag.py:349: ConvergenceWarning: The max_iter was reached which means the coef_ did not converge\n",
      "  warnings.warn(\n"
     ]
    },
    {
     "name": "stdout",
     "output_type": "stream",
     "text": [
      "[CV 4/5] END LR__C=0.5272631578947369, LR__solver=saga, SCL=None;, score=0.786 total time=   0.4s\n"
     ]
    },
    {
     "name": "stderr",
     "output_type": "stream",
     "text": [
      "C:\\Users\\DAI.STUDENTSDC\\AppData\\Local\\anaconda3\\Lib\\site-packages\\sklearn\\linear_model\\_sag.py:349: ConvergenceWarning: The max_iter was reached which means the coef_ did not converge\n",
      "  warnings.warn(\n"
     ]
    },
    {
     "name": "stdout",
     "output_type": "stream",
     "text": [
      "[CV 5/5] END LR__C=0.5272631578947369, LR__solver=saga, SCL=None;, score=0.785 total time=   0.4s\n",
      "[CV 1/5] END LR__C=1.0535263157894736, LR__solver=lbfgs, SCL=MinMaxScaler();, score=0.821 total time=   0.0s\n",
      "[CV 2/5] END LR__C=1.0535263157894736, LR__solver=lbfgs, SCL=MinMaxScaler();, score=0.810 total time=   0.0s\n",
      "[CV 3/5] END LR__C=1.0535263157894736, LR__solver=lbfgs, SCL=MinMaxScaler();, score=0.825 total time=   0.0s\n",
      "[CV 4/5] END LR__C=1.0535263157894736, LR__solver=lbfgs, SCL=MinMaxScaler();, score=0.816 total time=   0.0s\n",
      "[CV 5/5] END LR__C=1.0535263157894736, LR__solver=lbfgs, SCL=MinMaxScaler();, score=0.827 total time=   0.0s\n",
      "[CV 1/5] END LR__C=1.0535263157894736, LR__solver=lbfgs, SCL=StandardScaler();, score=0.821 total time=   0.0s\n",
      "[CV 2/5] END LR__C=1.0535263157894736, LR__solver=lbfgs, SCL=StandardScaler();, score=0.810 total time=   0.0s\n",
      "[CV 3/5] END LR__C=1.0535263157894736, LR__solver=lbfgs, SCL=StandardScaler();, score=0.825 total time=   0.0s\n",
      "[CV 4/5] END LR__C=1.0535263157894736, LR__solver=lbfgs, SCL=StandardScaler();, score=0.816 total time=   0.0s\n",
      "[CV 5/5] END LR__C=1.0535263157894736, LR__solver=lbfgs, SCL=StandardScaler();, score=0.827 total time=   0.0s\n"
     ]
    },
    {
     "name": "stderr",
     "output_type": "stream",
     "text": [
      "C:\\Users\\DAI.STUDENTSDC\\AppData\\Local\\anaconda3\\Lib\\site-packages\\sklearn\\linear_model\\_logistic.py:469: ConvergenceWarning: lbfgs failed to converge (status=1):\n",
      "STOP: TOTAL NO. of ITERATIONS REACHED LIMIT.\n",
      "\n",
      "Increase the number of iterations (max_iter) or scale the data as shown in:\n",
      "    https://scikit-learn.org/stable/modules/preprocessing.html\n",
      "Please also refer to the documentation for alternative solver options:\n",
      "    https://scikit-learn.org/stable/modules/linear_model.html#logistic-regression\n",
      "  n_iter_i = _check_optimize_result(\n",
      "C:\\Users\\DAI.STUDENTSDC\\AppData\\Local\\anaconda3\\Lib\\site-packages\\sklearn\\linear_model\\_logistic.py:469: ConvergenceWarning: lbfgs failed to converge (status=1):\n",
      "STOP: TOTAL NO. of ITERATIONS REACHED LIMIT.\n",
      "\n",
      "Increase the number of iterations (max_iter) or scale the data as shown in:\n",
      "    https://scikit-learn.org/stable/modules/preprocessing.html\n",
      "Please also refer to the documentation for alternative solver options:\n",
      "    https://scikit-learn.org/stable/modules/linear_model.html#logistic-regression\n",
      "  n_iter_i = _check_optimize_result(\n"
     ]
    },
    {
     "name": "stdout",
     "output_type": "stream",
     "text": [
      "[CV 1/5] END LR__C=1.0535263157894736, LR__solver=lbfgs, SCL=None;, score=0.815 total time=   0.1s\n",
      "[CV 2/5] END LR__C=1.0535263157894736, LR__solver=lbfgs, SCL=None;, score=0.805 total time=   0.1s\n"
     ]
    },
    {
     "name": "stderr",
     "output_type": "stream",
     "text": [
      "C:\\Users\\DAI.STUDENTSDC\\AppData\\Local\\anaconda3\\Lib\\site-packages\\sklearn\\linear_model\\_logistic.py:469: ConvergenceWarning: lbfgs failed to converge (status=1):\n",
      "STOP: TOTAL NO. of ITERATIONS REACHED LIMIT.\n",
      "\n",
      "Increase the number of iterations (max_iter) or scale the data as shown in:\n",
      "    https://scikit-learn.org/stable/modules/preprocessing.html\n",
      "Please also refer to the documentation for alternative solver options:\n",
      "    https://scikit-learn.org/stable/modules/linear_model.html#logistic-regression\n",
      "  n_iter_i = _check_optimize_result(\n",
      "C:\\Users\\DAI.STUDENTSDC\\AppData\\Local\\anaconda3\\Lib\\site-packages\\sklearn\\linear_model\\_logistic.py:469: ConvergenceWarning: lbfgs failed to converge (status=1):\n",
      "STOP: TOTAL NO. of ITERATIONS REACHED LIMIT.\n",
      "\n",
      "Increase the number of iterations (max_iter) or scale the data as shown in:\n",
      "    https://scikit-learn.org/stable/modules/preprocessing.html\n",
      "Please also refer to the documentation for alternative solver options:\n",
      "    https://scikit-learn.org/stable/modules/linear_model.html#logistic-regression\n",
      "  n_iter_i = _check_optimize_result(\n"
     ]
    },
    {
     "name": "stdout",
     "output_type": "stream",
     "text": [
      "[CV 3/5] END LR__C=1.0535263157894736, LR__solver=lbfgs, SCL=None;, score=0.820 total time=   0.1s\n",
      "[CV 4/5] END LR__C=1.0535263157894736, LR__solver=lbfgs, SCL=None;, score=0.812 total time=   0.1s\n"
     ]
    },
    {
     "name": "stderr",
     "output_type": "stream",
     "text": [
      "C:\\Users\\DAI.STUDENTSDC\\AppData\\Local\\anaconda3\\Lib\\site-packages\\sklearn\\linear_model\\_logistic.py:469: ConvergenceWarning: lbfgs failed to converge (status=1):\n",
      "STOP: TOTAL NO. of ITERATIONS REACHED LIMIT.\n",
      "\n",
      "Increase the number of iterations (max_iter) or scale the data as shown in:\n",
      "    https://scikit-learn.org/stable/modules/preprocessing.html\n",
      "Please also refer to the documentation for alternative solver options:\n",
      "    https://scikit-learn.org/stable/modules/linear_model.html#logistic-regression\n",
      "  n_iter_i = _check_optimize_result(\n"
     ]
    },
    {
     "name": "stdout",
     "output_type": "stream",
     "text": [
      "[CV 5/5] END LR__C=1.0535263157894736, LR__solver=lbfgs, SCL=None;, score=0.822 total time=   0.1s\n",
      "[CV 1/5] END LR__C=1.0535263157894736, LR__solver=liblinear, SCL=MinMaxScaler();, score=0.821 total time=   0.0s\n",
      "[CV 2/5] END LR__C=1.0535263157894736, LR__solver=liblinear, SCL=MinMaxScaler();, score=0.810 total time=   0.0s\n",
      "[CV 3/5] END LR__C=1.0535263157894736, LR__solver=liblinear, SCL=MinMaxScaler();, score=0.825 total time=   0.0s\n",
      "[CV 4/5] END LR__C=1.0535263157894736, LR__solver=liblinear, SCL=MinMaxScaler();, score=0.816 total time=   0.0s\n",
      "[CV 5/5] END LR__C=1.0535263157894736, LR__solver=liblinear, SCL=MinMaxScaler();, score=0.827 total time=   0.0s\n",
      "[CV 1/5] END LR__C=1.0535263157894736, LR__solver=liblinear, SCL=StandardScaler();, score=0.821 total time=   0.0s\n",
      "[CV 2/5] END LR__C=1.0535263157894736, LR__solver=liblinear, SCL=StandardScaler();, score=0.810 total time=   0.0s\n",
      "[CV 3/5] END LR__C=1.0535263157894736, LR__solver=liblinear, SCL=StandardScaler();, score=0.825 total time=   0.0s\n",
      "[CV 4/5] END LR__C=1.0535263157894736, LR__solver=liblinear, SCL=StandardScaler();, score=0.816 total time=   0.0s\n",
      "[CV 5/5] END LR__C=1.0535263157894736, LR__solver=liblinear, SCL=StandardScaler();, score=0.827 total time=   0.0s\n",
      "[CV 1/5] END LR__C=1.0535263157894736, LR__solver=liblinear, SCL=None;, score=0.821 total time=   0.0s\n",
      "[CV 2/5] END LR__C=1.0535263157894736, LR__solver=liblinear, SCL=None;, score=0.810 total time=   0.0s\n",
      "[CV 3/5] END LR__C=1.0535263157894736, LR__solver=liblinear, SCL=None;, score=0.825 total time=   0.0s\n",
      "[CV 4/5] END LR__C=1.0535263157894736, LR__solver=liblinear, SCL=None;, score=0.817 total time=   0.0s\n",
      "[CV 5/5] END LR__C=1.0535263157894736, LR__solver=liblinear, SCL=None;, score=0.827 total time=   0.0s\n",
      "[CV 1/5] END LR__C=1.0535263157894736, LR__solver=newton-cg, SCL=MinMaxScaler();, score=0.821 total time=   0.0s\n",
      "[CV 2/5] END LR__C=1.0535263157894736, LR__solver=newton-cg, SCL=MinMaxScaler();, score=0.810 total time=   0.0s\n",
      "[CV 3/5] END LR__C=1.0535263157894736, LR__solver=newton-cg, SCL=MinMaxScaler();, score=0.825 total time=   0.0s\n",
      "[CV 4/5] END LR__C=1.0535263157894736, LR__solver=newton-cg, SCL=MinMaxScaler();, score=0.816 total time=   0.0s\n",
      "[CV 5/5] END LR__C=1.0535263157894736, LR__solver=newton-cg, SCL=MinMaxScaler();, score=0.827 total time=   0.0s\n",
      "[CV 1/5] END LR__C=1.0535263157894736, LR__solver=newton-cg, SCL=StandardScaler();, score=0.821 total time=   0.0s\n",
      "[CV 2/5] END LR__C=1.0535263157894736, LR__solver=newton-cg, SCL=StandardScaler();, score=0.810 total time=   0.0s\n",
      "[CV 3/5] END LR__C=1.0535263157894736, LR__solver=newton-cg, SCL=StandardScaler();, score=0.825 total time=   0.0s\n",
      "[CV 4/5] END LR__C=1.0535263157894736, LR__solver=newton-cg, SCL=StandardScaler();, score=0.816 total time=   0.0s\n",
      "[CV 5/5] END LR__C=1.0535263157894736, LR__solver=newton-cg, SCL=StandardScaler();, score=0.827 total time=   0.0s\n",
      "[CV 1/5] END LR__C=1.0535263157894736, LR__solver=newton-cg, SCL=None;, score=0.822 total time=   0.2s\n",
      "[CV 2/5] END LR__C=1.0535263157894736, LR__solver=newton-cg, SCL=None;, score=0.810 total time=   0.2s\n",
      "[CV 3/5] END LR__C=1.0535263157894736, LR__solver=newton-cg, SCL=None;, score=0.825 total time=   0.1s\n",
      "[CV 4/5] END LR__C=1.0535263157894736, LR__solver=newton-cg, SCL=None;, score=0.816 total time=   0.2s\n",
      "[CV 5/5] END LR__C=1.0535263157894736, LR__solver=newton-cg, SCL=None;, score=0.827 total time=   0.1s\n",
      "[CV 1/5] END LR__C=1.0535263157894736, LR__solver=newton-cholesky, SCL=MinMaxScaler();, score=0.821 total time=   0.0s\n",
      "[CV 2/5] END LR__C=1.0535263157894736, LR__solver=newton-cholesky, SCL=MinMaxScaler();, score=0.810 total time=   0.0s\n",
      "[CV 3/5] END LR__C=1.0535263157894736, LR__solver=newton-cholesky, SCL=MinMaxScaler();, score=0.825 total time=   0.0s\n",
      "[CV 4/5] END LR__C=1.0535263157894736, LR__solver=newton-cholesky, SCL=MinMaxScaler();, score=0.816 total time=   0.0s\n",
      "[CV 5/5] END LR__C=1.0535263157894736, LR__solver=newton-cholesky, SCL=MinMaxScaler();, score=0.827 total time=   0.0s\n",
      "[CV 1/5] END LR__C=1.0535263157894736, LR__solver=newton-cholesky, SCL=StandardScaler();, score=0.821 total time=   0.0s\n",
      "[CV 2/5] END LR__C=1.0535263157894736, LR__solver=newton-cholesky, SCL=StandardScaler();, score=0.810 total time=   0.0s\n",
      "[CV 3/5] END LR__C=1.0535263157894736, LR__solver=newton-cholesky, SCL=StandardScaler();, score=0.825 total time=   0.0s\n",
      "[CV 4/5] END LR__C=1.0535263157894736, LR__solver=newton-cholesky, SCL=StandardScaler();, score=0.816 total time=   0.0s\n",
      "[CV 5/5] END LR__C=1.0535263157894736, LR__solver=newton-cholesky, SCL=StandardScaler();, score=0.827 total time=   0.0s\n",
      "[CV 1/5] END LR__C=1.0535263157894736, LR__solver=newton-cholesky, SCL=None;, score=0.822 total time=   0.0s\n",
      "[CV 2/5] END LR__C=1.0535263157894736, LR__solver=newton-cholesky, SCL=None;, score=0.810 total time=   0.0s\n",
      "[CV 3/5] END LR__C=1.0535263157894736, LR__solver=newton-cholesky, SCL=None;, score=0.825 total time=   0.0s\n",
      "[CV 4/5] END LR__C=1.0535263157894736, LR__solver=newton-cholesky, SCL=None;, score=0.816 total time=   0.0s\n",
      "[CV 5/5] END LR__C=1.0535263157894736, LR__solver=newton-cholesky, SCL=None;, score=0.827 total time=   0.0s\n",
      "[CV 1/5] END LR__C=1.0535263157894736, LR__solver=sag, SCL=MinMaxScaler();, score=0.821 total time=   0.0s\n",
      "[CV 2/5] END LR__C=1.0535263157894736, LR__solver=sag, SCL=MinMaxScaler();, score=0.810 total time=   0.0s\n",
      "[CV 3/5] END LR__C=1.0535263157894736, LR__solver=sag, SCL=MinMaxScaler();, score=0.825 total time=   0.1s\n",
      "[CV 4/5] END LR__C=1.0535263157894736, LR__solver=sag, SCL=MinMaxScaler();, score=0.816 total time=   0.0s\n",
      "[CV 5/5] END LR__C=1.0535263157894736, LR__solver=sag, SCL=MinMaxScaler();, score=0.827 total time=   0.1s\n",
      "[CV 1/5] END LR__C=1.0535263157894736, LR__solver=sag, SCL=StandardScaler();, score=0.821 total time=   0.1s\n",
      "[CV 2/5] END LR__C=1.0535263157894736, LR__solver=sag, SCL=StandardScaler();, score=0.810 total time=   0.0s\n",
      "[CV 3/5] END LR__C=1.0535263157894736, LR__solver=sag, SCL=StandardScaler();, score=0.825 total time=   0.0s\n",
      "[CV 4/5] END LR__C=1.0535263157894736, LR__solver=sag, SCL=StandardScaler();, score=0.816 total time=   0.0s\n",
      "[CV 5/5] END LR__C=1.0535263157894736, LR__solver=sag, SCL=StandardScaler();, score=0.827 total time=   0.1s\n"
     ]
    },
    {
     "name": "stderr",
     "output_type": "stream",
     "text": [
      "C:\\Users\\DAI.STUDENTSDC\\AppData\\Local\\anaconda3\\Lib\\site-packages\\sklearn\\linear_model\\_sag.py:349: ConvergenceWarning: The max_iter was reached which means the coef_ did not converge\n",
      "  warnings.warn(\n"
     ]
    },
    {
     "name": "stdout",
     "output_type": "stream",
     "text": [
      "[CV 1/5] END LR__C=1.0535263157894736, LR__solver=sag, SCL=None;, score=0.812 total time=   0.3s\n"
     ]
    },
    {
     "name": "stderr",
     "output_type": "stream",
     "text": [
      "C:\\Users\\DAI.STUDENTSDC\\AppData\\Local\\anaconda3\\Lib\\site-packages\\sklearn\\linear_model\\_sag.py:349: ConvergenceWarning: The max_iter was reached which means the coef_ did not converge\n",
      "  warnings.warn(\n"
     ]
    },
    {
     "name": "stdout",
     "output_type": "stream",
     "text": [
      "[CV 2/5] END LR__C=1.0535263157894736, LR__solver=sag, SCL=None;, score=0.792 total time=   0.3s\n"
     ]
    },
    {
     "name": "stderr",
     "output_type": "stream",
     "text": [
      "C:\\Users\\DAI.STUDENTSDC\\AppData\\Local\\anaconda3\\Lib\\site-packages\\sklearn\\linear_model\\_sag.py:349: ConvergenceWarning: The max_iter was reached which means the coef_ did not converge\n",
      "  warnings.warn(\n"
     ]
    },
    {
     "name": "stdout",
     "output_type": "stream",
     "text": [
      "[CV 3/5] END LR__C=1.0535263157894736, LR__solver=sag, SCL=None;, score=0.811 total time=   0.3s\n"
     ]
    },
    {
     "name": "stderr",
     "output_type": "stream",
     "text": [
      "C:\\Users\\DAI.STUDENTSDC\\AppData\\Local\\anaconda3\\Lib\\site-packages\\sklearn\\linear_model\\_sag.py:349: ConvergenceWarning: The max_iter was reached which means the coef_ did not converge\n",
      "  warnings.warn(\n"
     ]
    },
    {
     "name": "stdout",
     "output_type": "stream",
     "text": [
      "[CV 4/5] END LR__C=1.0535263157894736, LR__solver=sag, SCL=None;, score=0.807 total time=   0.3s\n"
     ]
    },
    {
     "name": "stderr",
     "output_type": "stream",
     "text": [
      "C:\\Users\\DAI.STUDENTSDC\\AppData\\Local\\anaconda3\\Lib\\site-packages\\sklearn\\linear_model\\_sag.py:349: ConvergenceWarning: The max_iter was reached which means the coef_ did not converge\n",
      "  warnings.warn(\n"
     ]
    },
    {
     "name": "stdout",
     "output_type": "stream",
     "text": [
      "[CV 5/5] END LR__C=1.0535263157894736, LR__solver=sag, SCL=None;, score=0.814 total time=   0.3s\n",
      "[CV 1/5] END LR__C=1.0535263157894736, LR__solver=saga, SCL=MinMaxScaler();, score=0.821 total time=   0.0s\n",
      "[CV 2/5] END LR__C=1.0535263157894736, LR__solver=saga, SCL=MinMaxScaler();, score=0.810 total time=   0.0s\n",
      "[CV 3/5] END LR__C=1.0535263157894736, LR__solver=saga, SCL=MinMaxScaler();, score=0.825 total time=   0.0s\n",
      "[CV 4/5] END LR__C=1.0535263157894736, LR__solver=saga, SCL=MinMaxScaler();, score=0.816 total time=   0.0s\n",
      "[CV 5/5] END LR__C=1.0535263157894736, LR__solver=saga, SCL=MinMaxScaler();, score=0.827 total time=   0.0s\n",
      "[CV 1/5] END LR__C=1.0535263157894736, LR__solver=saga, SCL=StandardScaler();, score=0.821 total time=   0.0s\n",
      "[CV 2/5] END LR__C=1.0535263157894736, LR__solver=saga, SCL=StandardScaler();, score=0.810 total time=   0.0s\n",
      "[CV 3/5] END LR__C=1.0535263157894736, LR__solver=saga, SCL=StandardScaler();, score=0.825 total time=   0.0s\n",
      "[CV 4/5] END LR__C=1.0535263157894736, LR__solver=saga, SCL=StandardScaler();, score=0.816 total time=   0.0s\n",
      "[CV 5/5] END LR__C=1.0535263157894736, LR__solver=saga, SCL=StandardScaler();, score=0.827 total time=   0.0s\n"
     ]
    },
    {
     "name": "stderr",
     "output_type": "stream",
     "text": [
      "C:\\Users\\DAI.STUDENTSDC\\AppData\\Local\\anaconda3\\Lib\\site-packages\\sklearn\\linear_model\\_sag.py:349: ConvergenceWarning: The max_iter was reached which means the coef_ did not converge\n",
      "  warnings.warn(\n"
     ]
    },
    {
     "name": "stdout",
     "output_type": "stream",
     "text": [
      "[CV 1/5] END LR__C=1.0535263157894736, LR__solver=saga, SCL=None;, score=0.784 total time=   0.4s\n"
     ]
    },
    {
     "name": "stderr",
     "output_type": "stream",
     "text": [
      "C:\\Users\\DAI.STUDENTSDC\\AppData\\Local\\anaconda3\\Lib\\site-packages\\sklearn\\linear_model\\_sag.py:349: ConvergenceWarning: The max_iter was reached which means the coef_ did not converge\n",
      "  warnings.warn(\n"
     ]
    },
    {
     "name": "stdout",
     "output_type": "stream",
     "text": [
      "[CV 2/5] END LR__C=1.0535263157894736, LR__solver=saga, SCL=None;, score=0.766 total time=   0.3s\n"
     ]
    },
    {
     "name": "stderr",
     "output_type": "stream",
     "text": [
      "C:\\Users\\DAI.STUDENTSDC\\AppData\\Local\\anaconda3\\Lib\\site-packages\\sklearn\\linear_model\\_sag.py:349: ConvergenceWarning: The max_iter was reached which means the coef_ did not converge\n",
      "  warnings.warn(\n"
     ]
    },
    {
     "name": "stdout",
     "output_type": "stream",
     "text": [
      "[CV 3/5] END LR__C=1.0535263157894736, LR__solver=saga, SCL=None;, score=0.787 total time=   0.4s\n"
     ]
    },
    {
     "name": "stderr",
     "output_type": "stream",
     "text": [
      "C:\\Users\\DAI.STUDENTSDC\\AppData\\Local\\anaconda3\\Lib\\site-packages\\sklearn\\linear_model\\_sag.py:349: ConvergenceWarning: The max_iter was reached which means the coef_ did not converge\n",
      "  warnings.warn(\n"
     ]
    },
    {
     "name": "stdout",
     "output_type": "stream",
     "text": [
      "[CV 4/5] END LR__C=1.0535263157894736, LR__solver=saga, SCL=None;, score=0.786 total time=   0.4s\n"
     ]
    },
    {
     "name": "stderr",
     "output_type": "stream",
     "text": [
      "C:\\Users\\DAI.STUDENTSDC\\AppData\\Local\\anaconda3\\Lib\\site-packages\\sklearn\\linear_model\\_sag.py:349: ConvergenceWarning: The max_iter was reached which means the coef_ did not converge\n",
      "  warnings.warn(\n"
     ]
    },
    {
     "name": "stdout",
     "output_type": "stream",
     "text": [
      "[CV 5/5] END LR__C=1.0535263157894736, LR__solver=saga, SCL=None;, score=0.786 total time=   0.4s\n",
      "[CV 1/5] END LR__C=1.5797894736842104, LR__solver=lbfgs, SCL=MinMaxScaler();, score=0.821 total time=   0.0s\n",
      "[CV 2/5] END LR__C=1.5797894736842104, LR__solver=lbfgs, SCL=MinMaxScaler();, score=0.810 total time=   0.0s\n",
      "[CV 3/5] END LR__C=1.5797894736842104, LR__solver=lbfgs, SCL=MinMaxScaler();, score=0.825 total time=   0.0s\n",
      "[CV 4/5] END LR__C=1.5797894736842104, LR__solver=lbfgs, SCL=MinMaxScaler();, score=0.816 total time=   0.0s\n",
      "[CV 5/5] END LR__C=1.5797894736842104, LR__solver=lbfgs, SCL=MinMaxScaler();, score=0.827 total time=   0.0s\n",
      "[CV 1/5] END LR__C=1.5797894736842104, LR__solver=lbfgs, SCL=StandardScaler();, score=0.821 total time=   0.0s\n",
      "[CV 2/5] END LR__C=1.5797894736842104, LR__solver=lbfgs, SCL=StandardScaler();, score=0.810 total time=   0.0s\n",
      "[CV 3/5] END LR__C=1.5797894736842104, LR__solver=lbfgs, SCL=StandardScaler();, score=0.825 total time=   0.0s\n",
      "[CV 4/5] END LR__C=1.5797894736842104, LR__solver=lbfgs, SCL=StandardScaler();, score=0.816 total time=   0.0s\n",
      "[CV 5/5] END LR__C=1.5797894736842104, LR__solver=lbfgs, SCL=StandardScaler();, score=0.827 total time=   0.0s\n"
     ]
    },
    {
     "name": "stderr",
     "output_type": "stream",
     "text": [
      "C:\\Users\\DAI.STUDENTSDC\\AppData\\Local\\anaconda3\\Lib\\site-packages\\sklearn\\linear_model\\_logistic.py:469: ConvergenceWarning: lbfgs failed to converge (status=1):\n",
      "STOP: TOTAL NO. of ITERATIONS REACHED LIMIT.\n",
      "\n",
      "Increase the number of iterations (max_iter) or scale the data as shown in:\n",
      "    https://scikit-learn.org/stable/modules/preprocessing.html\n",
      "Please also refer to the documentation for alternative solver options:\n",
      "    https://scikit-learn.org/stable/modules/linear_model.html#logistic-regression\n",
      "  n_iter_i = _check_optimize_result(\n",
      "C:\\Users\\DAI.STUDENTSDC\\AppData\\Local\\anaconda3\\Lib\\site-packages\\sklearn\\linear_model\\_logistic.py:469: ConvergenceWarning: lbfgs failed to converge (status=1):\n",
      "STOP: TOTAL NO. of ITERATIONS REACHED LIMIT.\n",
      "\n",
      "Increase the number of iterations (max_iter) or scale the data as shown in:\n",
      "    https://scikit-learn.org/stable/modules/preprocessing.html\n",
      "Please also refer to the documentation for alternative solver options:\n",
      "    https://scikit-learn.org/stable/modules/linear_model.html#logistic-regression\n",
      "  n_iter_i = _check_optimize_result(\n"
     ]
    },
    {
     "name": "stdout",
     "output_type": "stream",
     "text": [
      "[CV 1/5] END LR__C=1.5797894736842104, LR__solver=lbfgs, SCL=None;, score=0.814 total time=   0.1s\n",
      "[CV 2/5] END LR__C=1.5797894736842104, LR__solver=lbfgs, SCL=None;, score=0.805 total time=   0.1s\n",
      "[CV 3/5] END LR__C=1.5797894736842104, LR__solver=lbfgs, SCL=None;, score=0.821 total time=   0.1s\n"
     ]
    },
    {
     "name": "stderr",
     "output_type": "stream",
     "text": [
      "C:\\Users\\DAI.STUDENTSDC\\AppData\\Local\\anaconda3\\Lib\\site-packages\\sklearn\\linear_model\\_logistic.py:469: ConvergenceWarning: lbfgs failed to converge (status=1):\n",
      "STOP: TOTAL NO. of ITERATIONS REACHED LIMIT.\n",
      "\n",
      "Increase the number of iterations (max_iter) or scale the data as shown in:\n",
      "    https://scikit-learn.org/stable/modules/preprocessing.html\n",
      "Please also refer to the documentation for alternative solver options:\n",
      "    https://scikit-learn.org/stable/modules/linear_model.html#logistic-regression\n",
      "  n_iter_i = _check_optimize_result(\n",
      "C:\\Users\\DAI.STUDENTSDC\\AppData\\Local\\anaconda3\\Lib\\site-packages\\sklearn\\linear_model\\_logistic.py:469: ConvergenceWarning: lbfgs failed to converge (status=1):\n",
      "STOP: TOTAL NO. of ITERATIONS REACHED LIMIT.\n",
      "\n",
      "Increase the number of iterations (max_iter) or scale the data as shown in:\n",
      "    https://scikit-learn.org/stable/modules/preprocessing.html\n",
      "Please also refer to the documentation for alternative solver options:\n",
      "    https://scikit-learn.org/stable/modules/linear_model.html#logistic-regression\n",
      "  n_iter_i = _check_optimize_result(\n"
     ]
    },
    {
     "name": "stdout",
     "output_type": "stream",
     "text": [
      "[CV 4/5] END LR__C=1.5797894736842104, LR__solver=lbfgs, SCL=None;, score=0.812 total time=   0.1s\n"
     ]
    },
    {
     "name": "stderr",
     "output_type": "stream",
     "text": [
      "C:\\Users\\DAI.STUDENTSDC\\AppData\\Local\\anaconda3\\Lib\\site-packages\\sklearn\\linear_model\\_logistic.py:469: ConvergenceWarning: lbfgs failed to converge (status=1):\n",
      "STOP: TOTAL NO. of ITERATIONS REACHED LIMIT.\n",
      "\n",
      "Increase the number of iterations (max_iter) or scale the data as shown in:\n",
      "    https://scikit-learn.org/stable/modules/preprocessing.html\n",
      "Please also refer to the documentation for alternative solver options:\n",
      "    https://scikit-learn.org/stable/modules/linear_model.html#logistic-regression\n",
      "  n_iter_i = _check_optimize_result(\n"
     ]
    },
    {
     "name": "stdout",
     "output_type": "stream",
     "text": [
      "[CV 5/5] END LR__C=1.5797894736842104, LR__solver=lbfgs, SCL=None;, score=0.822 total time=   0.1s\n",
      "[CV 1/5] END LR__C=1.5797894736842104, LR__solver=liblinear, SCL=MinMaxScaler();, score=0.821 total time=   0.0s\n",
      "[CV 2/5] END LR__C=1.5797894736842104, LR__solver=liblinear, SCL=MinMaxScaler();, score=0.810 total time=   0.0s\n",
      "[CV 3/5] END LR__C=1.5797894736842104, LR__solver=liblinear, SCL=MinMaxScaler();, score=0.825 total time=   0.0s\n",
      "[CV 4/5] END LR__C=1.5797894736842104, LR__solver=liblinear, SCL=MinMaxScaler();, score=0.816 total time=   0.0s\n",
      "[CV 5/5] END LR__C=1.5797894736842104, LR__solver=liblinear, SCL=MinMaxScaler();, score=0.827 total time=   0.0s\n",
      "[CV 1/5] END LR__C=1.5797894736842104, LR__solver=liblinear, SCL=StandardScaler();, score=0.821 total time=   0.0s\n",
      "[CV 2/5] END LR__C=1.5797894736842104, LR__solver=liblinear, SCL=StandardScaler();, score=0.810 total time=   0.0s\n",
      "[CV 3/5] END LR__C=1.5797894736842104, LR__solver=liblinear, SCL=StandardScaler();, score=0.825 total time=   0.0s\n",
      "[CV 4/5] END LR__C=1.5797894736842104, LR__solver=liblinear, SCL=StandardScaler();, score=0.816 total time=   0.0s\n",
      "[CV 5/5] END LR__C=1.5797894736842104, LR__solver=liblinear, SCL=StandardScaler();, score=0.827 total time=   0.0s\n",
      "[CV 1/5] END LR__C=1.5797894736842104, LR__solver=liblinear, SCL=None;, score=0.821 total time=   0.0s\n",
      "[CV 2/5] END LR__C=1.5797894736842104, LR__solver=liblinear, SCL=None;, score=0.810 total time=   0.0s\n",
      "[CV 3/5] END LR__C=1.5797894736842104, LR__solver=liblinear, SCL=None;, score=0.825 total time=   0.0s\n",
      "[CV 4/5] END LR__C=1.5797894736842104, LR__solver=liblinear, SCL=None;, score=0.817 total time=   0.0s\n",
      "[CV 5/5] END LR__C=1.5797894736842104, LR__solver=liblinear, SCL=None;, score=0.827 total time=   0.0s\n",
      "[CV 1/5] END LR__C=1.5797894736842104, LR__solver=newton-cg, SCL=MinMaxScaler();, score=0.821 total time=   0.0s\n",
      "[CV 2/5] END LR__C=1.5797894736842104, LR__solver=newton-cg, SCL=MinMaxScaler();, score=0.810 total time=   0.0s\n",
      "[CV 3/5] END LR__C=1.5797894736842104, LR__solver=newton-cg, SCL=MinMaxScaler();, score=0.825 total time=   0.0s\n",
      "[CV 4/5] END LR__C=1.5797894736842104, LR__solver=newton-cg, SCL=MinMaxScaler();, score=0.816 total time=   0.0s\n",
      "[CV 5/5] END LR__C=1.5797894736842104, LR__solver=newton-cg, SCL=MinMaxScaler();, score=0.827 total time=   0.0s\n",
      "[CV 1/5] END LR__C=1.5797894736842104, LR__solver=newton-cg, SCL=StandardScaler();, score=0.821 total time=   0.0s\n",
      "[CV 2/5] END LR__C=1.5797894736842104, LR__solver=newton-cg, SCL=StandardScaler();, score=0.810 total time=   0.0s\n",
      "[CV 3/5] END LR__C=1.5797894736842104, LR__solver=newton-cg, SCL=StandardScaler();, score=0.825 total time=   0.0s\n",
      "[CV 4/5] END LR__C=1.5797894736842104, LR__solver=newton-cg, SCL=StandardScaler();, score=0.816 total time=   0.0s\n",
      "[CV 5/5] END LR__C=1.5797894736842104, LR__solver=newton-cg, SCL=StandardScaler();, score=0.827 total time=   0.0s\n",
      "[CV 1/5] END LR__C=1.5797894736842104, LR__solver=newton-cg, SCL=None;, score=0.822 total time=   0.1s\n",
      "[CV 2/5] END LR__C=1.5797894736842104, LR__solver=newton-cg, SCL=None;, score=0.810 total time=   0.1s\n",
      "[CV 3/5] END LR__C=1.5797894736842104, LR__solver=newton-cg, SCL=None;, score=0.825 total time=   0.1s\n",
      "[CV 4/5] END LR__C=1.5797894736842104, LR__solver=newton-cg, SCL=None;, score=0.816 total time=   0.2s\n",
      "[CV 5/5] END LR__C=1.5797894736842104, LR__solver=newton-cg, SCL=None;, score=0.827 total time=   0.1s\n",
      "[CV 1/5] END LR__C=1.5797894736842104, LR__solver=newton-cholesky, SCL=MinMaxScaler();, score=0.821 total time=   0.0s\n",
      "[CV 2/5] END LR__C=1.5797894736842104, LR__solver=newton-cholesky, SCL=MinMaxScaler();, score=0.810 total time=   0.0s\n",
      "[CV 3/5] END LR__C=1.5797894736842104, LR__solver=newton-cholesky, SCL=MinMaxScaler();, score=0.825 total time=   0.0s\n",
      "[CV 4/5] END LR__C=1.5797894736842104, LR__solver=newton-cholesky, SCL=MinMaxScaler();, score=0.816 total time=   0.0s\n",
      "[CV 5/5] END LR__C=1.5797894736842104, LR__solver=newton-cholesky, SCL=MinMaxScaler();, score=0.827 total time=   0.0s\n",
      "[CV 1/5] END LR__C=1.5797894736842104, LR__solver=newton-cholesky, SCL=StandardScaler();, score=0.821 total time=   0.0s\n",
      "[CV 2/5] END LR__C=1.5797894736842104, LR__solver=newton-cholesky, SCL=StandardScaler();, score=0.810 total time=   0.0s\n",
      "[CV 3/5] END LR__C=1.5797894736842104, LR__solver=newton-cholesky, SCL=StandardScaler();, score=0.825 total time=   0.0s\n",
      "[CV 4/5] END LR__C=1.5797894736842104, LR__solver=newton-cholesky, SCL=StandardScaler();, score=0.816 total time=   0.0s\n",
      "[CV 5/5] END LR__C=1.5797894736842104, LR__solver=newton-cholesky, SCL=StandardScaler();, score=0.827 total time=   0.0s\n",
      "[CV 1/5] END LR__C=1.5797894736842104, LR__solver=newton-cholesky, SCL=None;, score=0.822 total time=   0.0s\n",
      "[CV 2/5] END LR__C=1.5797894736842104, LR__solver=newton-cholesky, SCL=None;, score=0.810 total time=   0.0s\n",
      "[CV 3/5] END LR__C=1.5797894736842104, LR__solver=newton-cholesky, SCL=None;, score=0.825 total time=   0.0s\n",
      "[CV 4/5] END LR__C=1.5797894736842104, LR__solver=newton-cholesky, SCL=None;, score=0.816 total time=   0.0s\n",
      "[CV 5/5] END LR__C=1.5797894736842104, LR__solver=newton-cholesky, SCL=None;, score=0.827 total time=   0.0s\n",
      "[CV 1/5] END LR__C=1.5797894736842104, LR__solver=sag, SCL=MinMaxScaler();, score=0.821 total time=   0.0s\n",
      "[CV 2/5] END LR__C=1.5797894736842104, LR__solver=sag, SCL=MinMaxScaler();, score=0.810 total time=   0.1s\n",
      "[CV 3/5] END LR__C=1.5797894736842104, LR__solver=sag, SCL=MinMaxScaler();, score=0.825 total time=   0.1s\n",
      "[CV 4/5] END LR__C=1.5797894736842104, LR__solver=sag, SCL=MinMaxScaler();, score=0.816 total time=   0.1s\n",
      "[CV 5/5] END LR__C=1.5797894736842104, LR__solver=sag, SCL=MinMaxScaler();, score=0.827 total time=   0.1s\n",
      "[CV 1/5] END LR__C=1.5797894736842104, LR__solver=sag, SCL=StandardScaler();, score=0.821 total time=   0.1s\n",
      "[CV 2/5] END LR__C=1.5797894736842104, LR__solver=sag, SCL=StandardScaler();, score=0.810 total time=   0.1s\n",
      "[CV 3/5] END LR__C=1.5797894736842104, LR__solver=sag, SCL=StandardScaler();, score=0.825 total time=   0.0s\n",
      "[CV 4/5] END LR__C=1.5797894736842104, LR__solver=sag, SCL=StandardScaler();, score=0.816 total time=   0.1s\n",
      "[CV 5/5] END LR__C=1.5797894736842104, LR__solver=sag, SCL=StandardScaler();, score=0.827 total time=   0.1s\n"
     ]
    },
    {
     "name": "stderr",
     "output_type": "stream",
     "text": [
      "C:\\Users\\DAI.STUDENTSDC\\AppData\\Local\\anaconda3\\Lib\\site-packages\\sklearn\\linear_model\\_sag.py:349: ConvergenceWarning: The max_iter was reached which means the coef_ did not converge\n",
      "  warnings.warn(\n"
     ]
    },
    {
     "name": "stdout",
     "output_type": "stream",
     "text": [
      "[CV 1/5] END LR__C=1.5797894736842104, LR__solver=sag, SCL=None;, score=0.812 total time=   0.3s\n"
     ]
    },
    {
     "name": "stderr",
     "output_type": "stream",
     "text": [
      "C:\\Users\\DAI.STUDENTSDC\\AppData\\Local\\anaconda3\\Lib\\site-packages\\sklearn\\linear_model\\_sag.py:349: ConvergenceWarning: The max_iter was reached which means the coef_ did not converge\n",
      "  warnings.warn(\n"
     ]
    },
    {
     "name": "stdout",
     "output_type": "stream",
     "text": [
      "[CV 2/5] END LR__C=1.5797894736842104, LR__solver=sag, SCL=None;, score=0.792 total time=   0.3s\n"
     ]
    },
    {
     "name": "stderr",
     "output_type": "stream",
     "text": [
      "C:\\Users\\DAI.STUDENTSDC\\AppData\\Local\\anaconda3\\Lib\\site-packages\\sklearn\\linear_model\\_sag.py:349: ConvergenceWarning: The max_iter was reached which means the coef_ did not converge\n",
      "  warnings.warn(\n"
     ]
    },
    {
     "name": "stdout",
     "output_type": "stream",
     "text": [
      "[CV 3/5] END LR__C=1.5797894736842104, LR__solver=sag, SCL=None;, score=0.811 total time=   0.3s\n"
     ]
    },
    {
     "name": "stderr",
     "output_type": "stream",
     "text": [
      "C:\\Users\\DAI.STUDENTSDC\\AppData\\Local\\anaconda3\\Lib\\site-packages\\sklearn\\linear_model\\_sag.py:349: ConvergenceWarning: The max_iter was reached which means the coef_ did not converge\n",
      "  warnings.warn(\n"
     ]
    },
    {
     "name": "stdout",
     "output_type": "stream",
     "text": [
      "[CV 4/5] END LR__C=1.5797894736842104, LR__solver=sag, SCL=None;, score=0.807 total time=   0.3s\n"
     ]
    },
    {
     "name": "stderr",
     "output_type": "stream",
     "text": [
      "C:\\Users\\DAI.STUDENTSDC\\AppData\\Local\\anaconda3\\Lib\\site-packages\\sklearn\\linear_model\\_sag.py:349: ConvergenceWarning: The max_iter was reached which means the coef_ did not converge\n",
      "  warnings.warn(\n"
     ]
    },
    {
     "name": "stdout",
     "output_type": "stream",
     "text": [
      "[CV 5/5] END LR__C=1.5797894736842104, LR__solver=sag, SCL=None;, score=0.814 total time=   0.4s\n",
      "[CV 1/5] END LR__C=1.5797894736842104, LR__solver=saga, SCL=MinMaxScaler();, score=0.821 total time=   0.0s\n",
      "[CV 2/5] END LR__C=1.5797894736842104, LR__solver=saga, SCL=MinMaxScaler();, score=0.810 total time=   0.0s\n",
      "[CV 3/5] END LR__C=1.5797894736842104, LR__solver=saga, SCL=MinMaxScaler();, score=0.825 total time=   0.0s\n",
      "[CV 4/5] END LR__C=1.5797894736842104, LR__solver=saga, SCL=MinMaxScaler();, score=0.816 total time=   0.0s\n",
      "[CV 5/5] END LR__C=1.5797894736842104, LR__solver=saga, SCL=MinMaxScaler();, score=0.827 total time=   0.0s\n",
      "[CV 1/5] END LR__C=1.5797894736842104, LR__solver=saga, SCL=StandardScaler();, score=0.821 total time=   0.0s\n",
      "[CV 2/5] END LR__C=1.5797894736842104, LR__solver=saga, SCL=StandardScaler();, score=0.810 total time=   0.0s\n",
      "[CV 3/5] END LR__C=1.5797894736842104, LR__solver=saga, SCL=StandardScaler();, score=0.825 total time=   0.0s\n",
      "[CV 4/5] END LR__C=1.5797894736842104, LR__solver=saga, SCL=StandardScaler();, score=0.816 total time=   0.0s\n",
      "[CV 5/5] END LR__C=1.5797894736842104, LR__solver=saga, SCL=StandardScaler();, score=0.827 total time=   0.0s\n"
     ]
    },
    {
     "name": "stderr",
     "output_type": "stream",
     "text": [
      "C:\\Users\\DAI.STUDENTSDC\\AppData\\Local\\anaconda3\\Lib\\site-packages\\sklearn\\linear_model\\_sag.py:349: ConvergenceWarning: The max_iter was reached which means the coef_ did not converge\n",
      "  warnings.warn(\n"
     ]
    },
    {
     "name": "stdout",
     "output_type": "stream",
     "text": [
      "[CV 1/5] END LR__C=1.5797894736842104, LR__solver=saga, SCL=None;, score=0.784 total time=   0.3s\n"
     ]
    },
    {
     "name": "stderr",
     "output_type": "stream",
     "text": [
      "C:\\Users\\DAI.STUDENTSDC\\AppData\\Local\\anaconda3\\Lib\\site-packages\\sklearn\\linear_model\\_sag.py:349: ConvergenceWarning: The max_iter was reached which means the coef_ did not converge\n",
      "  warnings.warn(\n"
     ]
    },
    {
     "name": "stdout",
     "output_type": "stream",
     "text": [
      "[CV 2/5] END LR__C=1.5797894736842104, LR__solver=saga, SCL=None;, score=0.766 total time=   0.4s\n"
     ]
    },
    {
     "name": "stderr",
     "output_type": "stream",
     "text": [
      "C:\\Users\\DAI.STUDENTSDC\\AppData\\Local\\anaconda3\\Lib\\site-packages\\sklearn\\linear_model\\_sag.py:349: ConvergenceWarning: The max_iter was reached which means the coef_ did not converge\n",
      "  warnings.warn(\n"
     ]
    },
    {
     "name": "stdout",
     "output_type": "stream",
     "text": [
      "[CV 3/5] END LR__C=1.5797894736842104, LR__solver=saga, SCL=None;, score=0.787 total time=   0.3s\n"
     ]
    },
    {
     "name": "stderr",
     "output_type": "stream",
     "text": [
      "C:\\Users\\DAI.STUDENTSDC\\AppData\\Local\\anaconda3\\Lib\\site-packages\\sklearn\\linear_model\\_sag.py:349: ConvergenceWarning: The max_iter was reached which means the coef_ did not converge\n",
      "  warnings.warn(\n"
     ]
    },
    {
     "name": "stdout",
     "output_type": "stream",
     "text": [
      "[CV 4/5] END LR__C=1.5797894736842104, LR__solver=saga, SCL=None;, score=0.786 total time=   0.3s\n"
     ]
    },
    {
     "name": "stderr",
     "output_type": "stream",
     "text": [
      "C:\\Users\\DAI.STUDENTSDC\\AppData\\Local\\anaconda3\\Lib\\site-packages\\sklearn\\linear_model\\_sag.py:349: ConvergenceWarning: The max_iter was reached which means the coef_ did not converge\n",
      "  warnings.warn(\n"
     ]
    },
    {
     "name": "stdout",
     "output_type": "stream",
     "text": [
      "[CV 5/5] END LR__C=1.5797894736842104, LR__solver=saga, SCL=None;, score=0.786 total time=   0.3s\n",
      "[CV 1/5] END LR__C=2.1060526315789474, LR__solver=lbfgs, SCL=MinMaxScaler();, score=0.821 total time=   0.0s\n",
      "[CV 2/5] END LR__C=2.1060526315789474, LR__solver=lbfgs, SCL=MinMaxScaler();, score=0.810 total time=   0.0s\n",
      "[CV 3/5] END LR__C=2.1060526315789474, LR__solver=lbfgs, SCL=MinMaxScaler();, score=0.825 total time=   0.0s\n",
      "[CV 4/5] END LR__C=2.1060526315789474, LR__solver=lbfgs, SCL=MinMaxScaler();, score=0.816 total time=   0.0s\n",
      "[CV 5/5] END LR__C=2.1060526315789474, LR__solver=lbfgs, SCL=MinMaxScaler();, score=0.827 total time=   0.0s\n",
      "[CV 1/5] END LR__C=2.1060526315789474, LR__solver=lbfgs, SCL=StandardScaler();, score=0.821 total time=   0.0s\n",
      "[CV 2/5] END LR__C=2.1060526315789474, LR__solver=lbfgs, SCL=StandardScaler();, score=0.810 total time=   0.0s\n",
      "[CV 3/5] END LR__C=2.1060526315789474, LR__solver=lbfgs, SCL=StandardScaler();, score=0.825 total time=   0.0s\n",
      "[CV 4/5] END LR__C=2.1060526315789474, LR__solver=lbfgs, SCL=StandardScaler();, score=0.816 total time=   0.0s\n",
      "[CV 5/5] END LR__C=2.1060526315789474, LR__solver=lbfgs, SCL=StandardScaler();, score=0.827 total time=   0.0s\n",
      "[CV 1/5] END LR__C=2.1060526315789474, LR__solver=lbfgs, SCL=None;, score=0.814 total time=   0.1s\n"
     ]
    },
    {
     "name": "stderr",
     "output_type": "stream",
     "text": [
      "C:\\Users\\DAI.STUDENTSDC\\AppData\\Local\\anaconda3\\Lib\\site-packages\\sklearn\\linear_model\\_logistic.py:469: ConvergenceWarning: lbfgs failed to converge (status=1):\n",
      "STOP: TOTAL NO. of ITERATIONS REACHED LIMIT.\n",
      "\n",
      "Increase the number of iterations (max_iter) or scale the data as shown in:\n",
      "    https://scikit-learn.org/stable/modules/preprocessing.html\n",
      "Please also refer to the documentation for alternative solver options:\n",
      "    https://scikit-learn.org/stable/modules/linear_model.html#logistic-regression\n",
      "  n_iter_i = _check_optimize_result(\n",
      "C:\\Users\\DAI.STUDENTSDC\\AppData\\Local\\anaconda3\\Lib\\site-packages\\sklearn\\linear_model\\_logistic.py:469: ConvergenceWarning: lbfgs failed to converge (status=1):\n",
      "STOP: TOTAL NO. of ITERATIONS REACHED LIMIT.\n",
      "\n",
      "Increase the number of iterations (max_iter) or scale the data as shown in:\n",
      "    https://scikit-learn.org/stable/modules/preprocessing.html\n",
      "Please also refer to the documentation for alternative solver options:\n",
      "    https://scikit-learn.org/stable/modules/linear_model.html#logistic-regression\n",
      "  n_iter_i = _check_optimize_result(\n"
     ]
    },
    {
     "name": "stdout",
     "output_type": "stream",
     "text": [
      "[CV 2/5] END LR__C=2.1060526315789474, LR__solver=lbfgs, SCL=None;, score=0.805 total time=   0.1s\n"
     ]
    },
    {
     "name": "stderr",
     "output_type": "stream",
     "text": [
      "C:\\Users\\DAI.STUDENTSDC\\AppData\\Local\\anaconda3\\Lib\\site-packages\\sklearn\\linear_model\\_logistic.py:469: ConvergenceWarning: lbfgs failed to converge (status=1):\n",
      "STOP: TOTAL NO. of ITERATIONS REACHED LIMIT.\n",
      "\n",
      "Increase the number of iterations (max_iter) or scale the data as shown in:\n",
      "    https://scikit-learn.org/stable/modules/preprocessing.html\n",
      "Please also refer to the documentation for alternative solver options:\n",
      "    https://scikit-learn.org/stable/modules/linear_model.html#logistic-regression\n",
      "  n_iter_i = _check_optimize_result(\n",
      "C:\\Users\\DAI.STUDENTSDC\\AppData\\Local\\anaconda3\\Lib\\site-packages\\sklearn\\linear_model\\_logistic.py:469: ConvergenceWarning: lbfgs failed to converge (status=1):\n",
      "STOP: TOTAL NO. of ITERATIONS REACHED LIMIT.\n",
      "\n",
      "Increase the number of iterations (max_iter) or scale the data as shown in:\n",
      "    https://scikit-learn.org/stable/modules/preprocessing.html\n",
      "Please also refer to the documentation for alternative solver options:\n",
      "    https://scikit-learn.org/stable/modules/linear_model.html#logistic-regression\n",
      "  n_iter_i = _check_optimize_result(\n"
     ]
    },
    {
     "name": "stdout",
     "output_type": "stream",
     "text": [
      "[CV 3/5] END LR__C=2.1060526315789474, LR__solver=lbfgs, SCL=None;, score=0.818 total time=   0.1s\n",
      "[CV 4/5] END LR__C=2.1060526315789474, LR__solver=lbfgs, SCL=None;, score=0.813 total time=   0.1s\n"
     ]
    },
    {
     "name": "stderr",
     "output_type": "stream",
     "text": [
      "C:\\Users\\DAI.STUDENTSDC\\AppData\\Local\\anaconda3\\Lib\\site-packages\\sklearn\\linear_model\\_logistic.py:469: ConvergenceWarning: lbfgs failed to converge (status=1):\n",
      "STOP: TOTAL NO. of ITERATIONS REACHED LIMIT.\n",
      "\n",
      "Increase the number of iterations (max_iter) or scale the data as shown in:\n",
      "    https://scikit-learn.org/stable/modules/preprocessing.html\n",
      "Please also refer to the documentation for alternative solver options:\n",
      "    https://scikit-learn.org/stable/modules/linear_model.html#logistic-regression\n",
      "  n_iter_i = _check_optimize_result(\n"
     ]
    },
    {
     "name": "stdout",
     "output_type": "stream",
     "text": [
      "[CV 5/5] END LR__C=2.1060526315789474, LR__solver=lbfgs, SCL=None;, score=0.821 total time=   0.1s\n",
      "[CV 1/5] END LR__C=2.1060526315789474, LR__solver=liblinear, SCL=MinMaxScaler();, score=0.821 total time=   0.0s\n",
      "[CV 2/5] END LR__C=2.1060526315789474, LR__solver=liblinear, SCL=MinMaxScaler();, score=0.810 total time=   0.0s\n",
      "[CV 3/5] END LR__C=2.1060526315789474, LR__solver=liblinear, SCL=MinMaxScaler();, score=0.825 total time=   0.0s\n",
      "[CV 4/5] END LR__C=2.1060526315789474, LR__solver=liblinear, SCL=MinMaxScaler();, score=0.816 total time=   0.0s\n",
      "[CV 5/5] END LR__C=2.1060526315789474, LR__solver=liblinear, SCL=MinMaxScaler();, score=0.827 total time=   0.0s\n",
      "[CV 1/5] END LR__C=2.1060526315789474, LR__solver=liblinear, SCL=StandardScaler();, score=0.821 total time=   0.0s\n",
      "[CV 2/5] END LR__C=2.1060526315789474, LR__solver=liblinear, SCL=StandardScaler();, score=0.810 total time=   0.0s\n",
      "[CV 3/5] END LR__C=2.1060526315789474, LR__solver=liblinear, SCL=StandardScaler();, score=0.825 total time=   0.0s\n",
      "[CV 4/5] END LR__C=2.1060526315789474, LR__solver=liblinear, SCL=StandardScaler();, score=0.816 total time=   0.0s\n",
      "[CV 5/5] END LR__C=2.1060526315789474, LR__solver=liblinear, SCL=StandardScaler();, score=0.827 total time=   0.0s\n",
      "[CV 1/5] END LR__C=2.1060526315789474, LR__solver=liblinear, SCL=None;, score=0.821 total time=   0.0s\n",
      "[CV 2/5] END LR__C=2.1060526315789474, LR__solver=liblinear, SCL=None;, score=0.810 total time=   0.0s\n",
      "[CV 3/5] END LR__C=2.1060526315789474, LR__solver=liblinear, SCL=None;, score=0.825 total time=   0.0s\n",
      "[CV 4/5] END LR__C=2.1060526315789474, LR__solver=liblinear, SCL=None;, score=0.817 total time=   0.0s\n",
      "[CV 5/5] END LR__C=2.1060526315789474, LR__solver=liblinear, SCL=None;, score=0.827 total time=   0.0s\n",
      "[CV 1/5] END LR__C=2.1060526315789474, LR__solver=newton-cg, SCL=MinMaxScaler();, score=0.821 total time=   0.0s\n",
      "[CV 2/5] END LR__C=2.1060526315789474, LR__solver=newton-cg, SCL=MinMaxScaler();, score=0.810 total time=   0.0s\n",
      "[CV 3/5] END LR__C=2.1060526315789474, LR__solver=newton-cg, SCL=MinMaxScaler();, score=0.825 total time=   0.0s\n",
      "[CV 4/5] END LR__C=2.1060526315789474, LR__solver=newton-cg, SCL=MinMaxScaler();, score=0.816 total time=   0.0s\n",
      "[CV 5/5] END LR__C=2.1060526315789474, LR__solver=newton-cg, SCL=MinMaxScaler();, score=0.827 total time=   0.0s\n",
      "[CV 1/5] END LR__C=2.1060526315789474, LR__solver=newton-cg, SCL=StandardScaler();, score=0.821 total time=   0.0s\n",
      "[CV 2/5] END LR__C=2.1060526315789474, LR__solver=newton-cg, SCL=StandardScaler();, score=0.810 total time=   0.0s\n",
      "[CV 3/5] END LR__C=2.1060526315789474, LR__solver=newton-cg, SCL=StandardScaler();, score=0.825 total time=   0.0s\n",
      "[CV 4/5] END LR__C=2.1060526315789474, LR__solver=newton-cg, SCL=StandardScaler();, score=0.816 total time=   0.0s\n",
      "[CV 5/5] END LR__C=2.1060526315789474, LR__solver=newton-cg, SCL=StandardScaler();, score=0.827 total time=   0.0s\n",
      "[CV 1/5] END LR__C=2.1060526315789474, LR__solver=newton-cg, SCL=None;, score=0.821 total time=   0.1s\n",
      "[CV 2/5] END LR__C=2.1060526315789474, LR__solver=newton-cg, SCL=None;, score=0.810 total time=   0.1s\n",
      "[CV 3/5] END LR__C=2.1060526315789474, LR__solver=newton-cg, SCL=None;, score=0.825 total time=   0.1s\n",
      "[CV 4/5] END LR__C=2.1060526315789474, LR__solver=newton-cg, SCL=None;, score=0.816 total time=   0.1s\n",
      "[CV 5/5] END LR__C=2.1060526315789474, LR__solver=newton-cg, SCL=None;, score=0.827 total time=   0.1s\n",
      "[CV 1/5] END LR__C=2.1060526315789474, LR__solver=newton-cholesky, SCL=MinMaxScaler();, score=0.821 total time=   0.0s\n",
      "[CV 2/5] END LR__C=2.1060526315789474, LR__solver=newton-cholesky, SCL=MinMaxScaler();, score=0.810 total time=   0.0s\n",
      "[CV 3/5] END LR__C=2.1060526315789474, LR__solver=newton-cholesky, SCL=MinMaxScaler();, score=0.825 total time=   0.0s\n",
      "[CV 4/5] END LR__C=2.1060526315789474, LR__solver=newton-cholesky, SCL=MinMaxScaler();, score=0.816 total time=   0.0s\n",
      "[CV 5/5] END LR__C=2.1060526315789474, LR__solver=newton-cholesky, SCL=MinMaxScaler();, score=0.827 total time=   0.0s\n",
      "[CV 1/5] END LR__C=2.1060526315789474, LR__solver=newton-cholesky, SCL=StandardScaler();, score=0.821 total time=   0.0s\n",
      "[CV 2/5] END LR__C=2.1060526315789474, LR__solver=newton-cholesky, SCL=StandardScaler();, score=0.810 total time=   0.0s\n",
      "[CV 3/5] END LR__C=2.1060526315789474, LR__solver=newton-cholesky, SCL=StandardScaler();, score=0.825 total time=   0.0s\n",
      "[CV 4/5] END LR__C=2.1060526315789474, LR__solver=newton-cholesky, SCL=StandardScaler();, score=0.816 total time=   0.0s\n",
      "[CV 5/5] END LR__C=2.1060526315789474, LR__solver=newton-cholesky, SCL=StandardScaler();, score=0.827 total time=   0.0s\n",
      "[CV 1/5] END LR__C=2.1060526315789474, LR__solver=newton-cholesky, SCL=None;, score=0.822 total time=   0.0s\n",
      "[CV 2/5] END LR__C=2.1060526315789474, LR__solver=newton-cholesky, SCL=None;, score=0.810 total time=   0.0s\n",
      "[CV 3/5] END LR__C=2.1060526315789474, LR__solver=newton-cholesky, SCL=None;, score=0.825 total time=   0.0s\n",
      "[CV 4/5] END LR__C=2.1060526315789474, LR__solver=newton-cholesky, SCL=None;, score=0.816 total time=   0.0s\n",
      "[CV 5/5] END LR__C=2.1060526315789474, LR__solver=newton-cholesky, SCL=None;, score=0.827 total time=   0.0s\n",
      "[CV 1/5] END LR__C=2.1060526315789474, LR__solver=sag, SCL=MinMaxScaler();, score=0.821 total time=   0.0s\n",
      "[CV 2/5] END LR__C=2.1060526315789474, LR__solver=sag, SCL=MinMaxScaler();, score=0.810 total time=   0.1s\n",
      "[CV 3/5] END LR__C=2.1060526315789474, LR__solver=sag, SCL=MinMaxScaler();, score=0.825 total time=   0.1s\n",
      "[CV 4/5] END LR__C=2.1060526315789474, LR__solver=sag, SCL=MinMaxScaler();, score=0.816 total time=   0.0s\n",
      "[CV 5/5] END LR__C=2.1060526315789474, LR__solver=sag, SCL=MinMaxScaler();, score=0.827 total time=   0.1s\n",
      "[CV 1/5] END LR__C=2.1060526315789474, LR__solver=sag, SCL=StandardScaler();, score=0.821 total time=   0.1s\n",
      "[CV 2/5] END LR__C=2.1060526315789474, LR__solver=sag, SCL=StandardScaler();, score=0.810 total time=   0.1s\n",
      "[CV 3/5] END LR__C=2.1060526315789474, LR__solver=sag, SCL=StandardScaler();, score=0.825 total time=   0.1s\n",
      "[CV 4/5] END LR__C=2.1060526315789474, LR__solver=sag, SCL=StandardScaler();, score=0.816 total time=   0.0s\n",
      "[CV 5/5] END LR__C=2.1060526315789474, LR__solver=sag, SCL=StandardScaler();, score=0.827 total time=   0.1s\n"
     ]
    },
    {
     "name": "stderr",
     "output_type": "stream",
     "text": [
      "C:\\Users\\DAI.STUDENTSDC\\AppData\\Local\\anaconda3\\Lib\\site-packages\\sklearn\\linear_model\\_sag.py:349: ConvergenceWarning: The max_iter was reached which means the coef_ did not converge\n",
      "  warnings.warn(\n"
     ]
    },
    {
     "name": "stdout",
     "output_type": "stream",
     "text": [
      "[CV 1/5] END LR__C=2.1060526315789474, LR__solver=sag, SCL=None;, score=0.812 total time=   0.3s\n"
     ]
    },
    {
     "name": "stderr",
     "output_type": "stream",
     "text": [
      "C:\\Users\\DAI.STUDENTSDC\\AppData\\Local\\anaconda3\\Lib\\site-packages\\sklearn\\linear_model\\_sag.py:349: ConvergenceWarning: The max_iter was reached which means the coef_ did not converge\n",
      "  warnings.warn(\n"
     ]
    },
    {
     "name": "stdout",
     "output_type": "stream",
     "text": [
      "[CV 2/5] END LR__C=2.1060526315789474, LR__solver=sag, SCL=None;, score=0.792 total time=   0.3s\n"
     ]
    },
    {
     "name": "stderr",
     "output_type": "stream",
     "text": [
      "C:\\Users\\DAI.STUDENTSDC\\AppData\\Local\\anaconda3\\Lib\\site-packages\\sklearn\\linear_model\\_sag.py:349: ConvergenceWarning: The max_iter was reached which means the coef_ did not converge\n",
      "  warnings.warn(\n"
     ]
    },
    {
     "name": "stdout",
     "output_type": "stream",
     "text": [
      "[CV 3/5] END LR__C=2.1060526315789474, LR__solver=sag, SCL=None;, score=0.811 total time=   0.3s\n"
     ]
    },
    {
     "name": "stderr",
     "output_type": "stream",
     "text": [
      "C:\\Users\\DAI.STUDENTSDC\\AppData\\Local\\anaconda3\\Lib\\site-packages\\sklearn\\linear_model\\_sag.py:349: ConvergenceWarning: The max_iter was reached which means the coef_ did not converge\n",
      "  warnings.warn(\n"
     ]
    },
    {
     "name": "stdout",
     "output_type": "stream",
     "text": [
      "[CV 4/5] END LR__C=2.1060526315789474, LR__solver=sag, SCL=None;, score=0.807 total time=   0.3s\n"
     ]
    },
    {
     "name": "stderr",
     "output_type": "stream",
     "text": [
      "C:\\Users\\DAI.STUDENTSDC\\AppData\\Local\\anaconda3\\Lib\\site-packages\\sklearn\\linear_model\\_sag.py:349: ConvergenceWarning: The max_iter was reached which means the coef_ did not converge\n",
      "  warnings.warn(\n"
     ]
    },
    {
     "name": "stdout",
     "output_type": "stream",
     "text": [
      "[CV 5/5] END LR__C=2.1060526315789474, LR__solver=sag, SCL=None;, score=0.814 total time=   0.4s\n",
      "[CV 1/5] END LR__C=2.1060526315789474, LR__solver=saga, SCL=MinMaxScaler();, score=0.821 total time=   0.1s\n",
      "[CV 2/5] END LR__C=2.1060526315789474, LR__solver=saga, SCL=MinMaxScaler();, score=0.810 total time=   0.0s\n",
      "[CV 3/5] END LR__C=2.1060526315789474, LR__solver=saga, SCL=MinMaxScaler();, score=0.825 total time=   0.1s\n",
      "[CV 4/5] END LR__C=2.1060526315789474, LR__solver=saga, SCL=MinMaxScaler();, score=0.816 total time=   0.0s\n",
      "[CV 5/5] END LR__C=2.1060526315789474, LR__solver=saga, SCL=MinMaxScaler();, score=0.827 total time=   0.0s\n",
      "[CV 1/5] END LR__C=2.1060526315789474, LR__solver=saga, SCL=StandardScaler();, score=0.821 total time=   0.0s\n",
      "[CV 2/5] END LR__C=2.1060526315789474, LR__solver=saga, SCL=StandardScaler();, score=0.810 total time=   0.0s\n",
      "[CV 3/5] END LR__C=2.1060526315789474, LR__solver=saga, SCL=StandardScaler();, score=0.825 total time=   0.0s\n",
      "[CV 4/5] END LR__C=2.1060526315789474, LR__solver=saga, SCL=StandardScaler();, score=0.816 total time=   0.0s\n",
      "[CV 5/5] END LR__C=2.1060526315789474, LR__solver=saga, SCL=StandardScaler();, score=0.827 total time=   0.0s\n"
     ]
    },
    {
     "name": "stderr",
     "output_type": "stream",
     "text": [
      "C:\\Users\\DAI.STUDENTSDC\\AppData\\Local\\anaconda3\\Lib\\site-packages\\sklearn\\linear_model\\_sag.py:349: ConvergenceWarning: The max_iter was reached which means the coef_ did not converge\n",
      "  warnings.warn(\n"
     ]
    },
    {
     "name": "stdout",
     "output_type": "stream",
     "text": [
      "[CV 1/5] END LR__C=2.1060526315789474, LR__solver=saga, SCL=None;, score=0.784 total time=   0.4s\n"
     ]
    },
    {
     "name": "stderr",
     "output_type": "stream",
     "text": [
      "C:\\Users\\DAI.STUDENTSDC\\AppData\\Local\\anaconda3\\Lib\\site-packages\\sklearn\\linear_model\\_sag.py:349: ConvergenceWarning: The max_iter was reached which means the coef_ did not converge\n",
      "  warnings.warn(\n"
     ]
    },
    {
     "name": "stdout",
     "output_type": "stream",
     "text": [
      "[CV 2/5] END LR__C=2.1060526315789474, LR__solver=saga, SCL=None;, score=0.766 total time=   0.4s\n"
     ]
    },
    {
     "name": "stderr",
     "output_type": "stream",
     "text": [
      "C:\\Users\\DAI.STUDENTSDC\\AppData\\Local\\anaconda3\\Lib\\site-packages\\sklearn\\linear_model\\_sag.py:349: ConvergenceWarning: The max_iter was reached which means the coef_ did not converge\n",
      "  warnings.warn(\n"
     ]
    },
    {
     "name": "stdout",
     "output_type": "stream",
     "text": [
      "[CV 3/5] END LR__C=2.1060526315789474, LR__solver=saga, SCL=None;, score=0.787 total time=   0.4s\n"
     ]
    },
    {
     "name": "stderr",
     "output_type": "stream",
     "text": [
      "C:\\Users\\DAI.STUDENTSDC\\AppData\\Local\\anaconda3\\Lib\\site-packages\\sklearn\\linear_model\\_sag.py:349: ConvergenceWarning: The max_iter was reached which means the coef_ did not converge\n",
      "  warnings.warn(\n"
     ]
    },
    {
     "name": "stdout",
     "output_type": "stream",
     "text": [
      "[CV 4/5] END LR__C=2.1060526315789474, LR__solver=saga, SCL=None;, score=0.786 total time=   0.4s\n"
     ]
    },
    {
     "name": "stderr",
     "output_type": "stream",
     "text": [
      "C:\\Users\\DAI.STUDENTSDC\\AppData\\Local\\anaconda3\\Lib\\site-packages\\sklearn\\linear_model\\_sag.py:349: ConvergenceWarning: The max_iter was reached which means the coef_ did not converge\n",
      "  warnings.warn(\n"
     ]
    },
    {
     "name": "stdout",
     "output_type": "stream",
     "text": [
      "[CV 5/5] END LR__C=2.1060526315789474, LR__solver=saga, SCL=None;, score=0.786 total time=   0.3s\n",
      "[CV 1/5] END LR__C=2.6323157894736844, LR__solver=lbfgs, SCL=MinMaxScaler();, score=0.821 total time=   0.0s\n",
      "[CV 2/5] END LR__C=2.6323157894736844, LR__solver=lbfgs, SCL=MinMaxScaler();, score=0.810 total time=   0.0s\n",
      "[CV 3/5] END LR__C=2.6323157894736844, LR__solver=lbfgs, SCL=MinMaxScaler();, score=0.825 total time=   0.0s\n",
      "[CV 4/5] END LR__C=2.6323157894736844, LR__solver=lbfgs, SCL=MinMaxScaler();, score=0.816 total time=   0.0s\n",
      "[CV 5/5] END LR__C=2.6323157894736844, LR__solver=lbfgs, SCL=MinMaxScaler();, score=0.827 total time=   0.0s\n",
      "[CV 1/5] END LR__C=2.6323157894736844, LR__solver=lbfgs, SCL=StandardScaler();, score=0.821 total time=   0.0s\n",
      "[CV 2/5] END LR__C=2.6323157894736844, LR__solver=lbfgs, SCL=StandardScaler();, score=0.810 total time=   0.0s\n",
      "[CV 3/5] END LR__C=2.6323157894736844, LR__solver=lbfgs, SCL=StandardScaler();, score=0.825 total time=   0.0s\n",
      "[CV 4/5] END LR__C=2.6323157894736844, LR__solver=lbfgs, SCL=StandardScaler();, score=0.816 total time=   0.0s\n",
      "[CV 5/5] END LR__C=2.6323157894736844, LR__solver=lbfgs, SCL=StandardScaler();, score=0.827 total time=   0.0s\n"
     ]
    },
    {
     "name": "stderr",
     "output_type": "stream",
     "text": [
      "C:\\Users\\DAI.STUDENTSDC\\AppData\\Local\\anaconda3\\Lib\\site-packages\\sklearn\\linear_model\\_logistic.py:469: ConvergenceWarning: lbfgs failed to converge (status=1):\n",
      "STOP: TOTAL NO. of ITERATIONS REACHED LIMIT.\n",
      "\n",
      "Increase the number of iterations (max_iter) or scale the data as shown in:\n",
      "    https://scikit-learn.org/stable/modules/preprocessing.html\n",
      "Please also refer to the documentation for alternative solver options:\n",
      "    https://scikit-learn.org/stable/modules/linear_model.html#logistic-regression\n",
      "  n_iter_i = _check_optimize_result(\n",
      "C:\\Users\\DAI.STUDENTSDC\\AppData\\Local\\anaconda3\\Lib\\site-packages\\sklearn\\linear_model\\_logistic.py:469: ConvergenceWarning: lbfgs failed to converge (status=1):\n",
      "STOP: TOTAL NO. of ITERATIONS REACHED LIMIT.\n",
      "\n",
      "Increase the number of iterations (max_iter) or scale the data as shown in:\n",
      "    https://scikit-learn.org/stable/modules/preprocessing.html\n",
      "Please also refer to the documentation for alternative solver options:\n",
      "    https://scikit-learn.org/stable/modules/linear_model.html#logistic-regression\n",
      "  n_iter_i = _check_optimize_result(\n"
     ]
    },
    {
     "name": "stdout",
     "output_type": "stream",
     "text": [
      "[CV 1/5] END LR__C=2.6323157894736844, LR__solver=lbfgs, SCL=None;, score=0.818 total time=   0.1s\n",
      "[CV 2/5] END LR__C=2.6323157894736844, LR__solver=lbfgs, SCL=None;, score=0.805 total time=   0.1s\n"
     ]
    },
    {
     "name": "stderr",
     "output_type": "stream",
     "text": [
      "C:\\Users\\DAI.STUDENTSDC\\AppData\\Local\\anaconda3\\Lib\\site-packages\\sklearn\\linear_model\\_logistic.py:469: ConvergenceWarning: lbfgs failed to converge (status=1):\n",
      "STOP: TOTAL NO. of ITERATIONS REACHED LIMIT.\n",
      "\n",
      "Increase the number of iterations (max_iter) or scale the data as shown in:\n",
      "    https://scikit-learn.org/stable/modules/preprocessing.html\n",
      "Please also refer to the documentation for alternative solver options:\n",
      "    https://scikit-learn.org/stable/modules/linear_model.html#logistic-regression\n",
      "  n_iter_i = _check_optimize_result(\n",
      "C:\\Users\\DAI.STUDENTSDC\\AppData\\Local\\anaconda3\\Lib\\site-packages\\sklearn\\linear_model\\_logistic.py:469: ConvergenceWarning: lbfgs failed to converge (status=1):\n",
      "STOP: TOTAL NO. of ITERATIONS REACHED LIMIT.\n",
      "\n",
      "Increase the number of iterations (max_iter) or scale the data as shown in:\n",
      "    https://scikit-learn.org/stable/modules/preprocessing.html\n",
      "Please also refer to the documentation for alternative solver options:\n",
      "    https://scikit-learn.org/stable/modules/linear_model.html#logistic-regression\n",
      "  n_iter_i = _check_optimize_result(\n"
     ]
    },
    {
     "name": "stdout",
     "output_type": "stream",
     "text": [
      "[CV 3/5] END LR__C=2.6323157894736844, LR__solver=lbfgs, SCL=None;, score=0.816 total time=   0.1s\n",
      "[CV 4/5] END LR__C=2.6323157894736844, LR__solver=lbfgs, SCL=None;, score=0.812 total time=   0.1s\n"
     ]
    },
    {
     "name": "stderr",
     "output_type": "stream",
     "text": [
      "C:\\Users\\DAI.STUDENTSDC\\AppData\\Local\\anaconda3\\Lib\\site-packages\\sklearn\\linear_model\\_logistic.py:469: ConvergenceWarning: lbfgs failed to converge (status=1):\n",
      "STOP: TOTAL NO. of ITERATIONS REACHED LIMIT.\n",
      "\n",
      "Increase the number of iterations (max_iter) or scale the data as shown in:\n",
      "    https://scikit-learn.org/stable/modules/preprocessing.html\n",
      "Please also refer to the documentation for alternative solver options:\n",
      "    https://scikit-learn.org/stable/modules/linear_model.html#logistic-regression\n",
      "  n_iter_i = _check_optimize_result(\n"
     ]
    },
    {
     "name": "stdout",
     "output_type": "stream",
     "text": [
      "[CV 5/5] END LR__C=2.6323157894736844, LR__solver=lbfgs, SCL=None;, score=0.821 total time=   0.1s\n",
      "[CV 1/5] END LR__C=2.6323157894736844, LR__solver=liblinear, SCL=MinMaxScaler();, score=0.821 total time=   0.0s\n",
      "[CV 2/5] END LR__C=2.6323157894736844, LR__solver=liblinear, SCL=MinMaxScaler();, score=0.810 total time=   0.0s\n",
      "[CV 3/5] END LR__C=2.6323157894736844, LR__solver=liblinear, SCL=MinMaxScaler();, score=0.825 total time=   0.0s\n",
      "[CV 4/5] END LR__C=2.6323157894736844, LR__solver=liblinear, SCL=MinMaxScaler();, score=0.816 total time=   0.0s\n",
      "[CV 5/5] END LR__C=2.6323157894736844, LR__solver=liblinear, SCL=MinMaxScaler();, score=0.827 total time=   0.0s\n",
      "[CV 1/5] END LR__C=2.6323157894736844, LR__solver=liblinear, SCL=StandardScaler();, score=0.821 total time=   0.0s\n",
      "[CV 2/5] END LR__C=2.6323157894736844, LR__solver=liblinear, SCL=StandardScaler();, score=0.810 total time=   0.0s\n",
      "[CV 3/5] END LR__C=2.6323157894736844, LR__solver=liblinear, SCL=StandardScaler();, score=0.825 total time=   0.0s\n",
      "[CV 4/5] END LR__C=2.6323157894736844, LR__solver=liblinear, SCL=StandardScaler();, score=0.816 total time=   0.0s\n",
      "[CV 5/5] END LR__C=2.6323157894736844, LR__solver=liblinear, SCL=StandardScaler();, score=0.827 total time=   0.0s\n",
      "[CV 1/5] END LR__C=2.6323157894736844, LR__solver=liblinear, SCL=None;, score=0.821 total time=   0.0s\n",
      "[CV 2/5] END LR__C=2.6323157894736844, LR__solver=liblinear, SCL=None;, score=0.810 total time=   0.0s\n",
      "[CV 3/5] END LR__C=2.6323157894736844, LR__solver=liblinear, SCL=None;, score=0.825 total time=   0.0s\n",
      "[CV 4/5] END LR__C=2.6323157894736844, LR__solver=liblinear, SCL=None;, score=0.817 total time=   0.0s\n",
      "[CV 5/5] END LR__C=2.6323157894736844, LR__solver=liblinear, SCL=None;, score=0.827 total time=   0.0s\n",
      "[CV 1/5] END LR__C=2.6323157894736844, LR__solver=newton-cg, SCL=MinMaxScaler();, score=0.821 total time=   0.0s\n",
      "[CV 2/5] END LR__C=2.6323157894736844, LR__solver=newton-cg, SCL=MinMaxScaler();, score=0.810 total time=   0.0s\n",
      "[CV 3/5] END LR__C=2.6323157894736844, LR__solver=newton-cg, SCL=MinMaxScaler();, score=0.825 total time=   0.0s\n",
      "[CV 4/5] END LR__C=2.6323157894736844, LR__solver=newton-cg, SCL=MinMaxScaler();, score=0.816 total time=   0.0s\n",
      "[CV 5/5] END LR__C=2.6323157894736844, LR__solver=newton-cg, SCL=MinMaxScaler();, score=0.827 total time=   0.0s\n",
      "[CV 1/5] END LR__C=2.6323157894736844, LR__solver=newton-cg, SCL=StandardScaler();, score=0.821 total time=   0.0s\n",
      "[CV 2/5] END LR__C=2.6323157894736844, LR__solver=newton-cg, SCL=StandardScaler();, score=0.810 total time=   0.0s\n",
      "[CV 3/5] END LR__C=2.6323157894736844, LR__solver=newton-cg, SCL=StandardScaler();, score=0.825 total time=   0.0s\n",
      "[CV 4/5] END LR__C=2.6323157894736844, LR__solver=newton-cg, SCL=StandardScaler();, score=0.816 total time=   0.0s\n",
      "[CV 5/5] END LR__C=2.6323157894736844, LR__solver=newton-cg, SCL=StandardScaler();, score=0.827 total time=   0.0s\n",
      "[CV 1/5] END LR__C=2.6323157894736844, LR__solver=newton-cg, SCL=None;, score=0.822 total time=   0.1s\n",
      "[CV 2/5] END LR__C=2.6323157894736844, LR__solver=newton-cg, SCL=None;, score=0.810 total time=   0.1s\n",
      "[CV 3/5] END LR__C=2.6323157894736844, LR__solver=newton-cg, SCL=None;, score=0.825 total time=   0.1s\n",
      "[CV 4/5] END LR__C=2.6323157894736844, LR__solver=newton-cg, SCL=None;, score=0.816 total time=   0.2s\n",
      "[CV 5/5] END LR__C=2.6323157894736844, LR__solver=newton-cg, SCL=None;, score=0.827 total time=   0.2s\n",
      "[CV 1/5] END LR__C=2.6323157894736844, LR__solver=newton-cholesky, SCL=MinMaxScaler();, score=0.821 total time=   0.0s\n",
      "[CV 2/5] END LR__C=2.6323157894736844, LR__solver=newton-cholesky, SCL=MinMaxScaler();, score=0.810 total time=   0.0s\n",
      "[CV 3/5] END LR__C=2.6323157894736844, LR__solver=newton-cholesky, SCL=MinMaxScaler();, score=0.825 total time=   0.0s\n",
      "[CV 4/5] END LR__C=2.6323157894736844, LR__solver=newton-cholesky, SCL=MinMaxScaler();, score=0.816 total time=   0.0s\n",
      "[CV 5/5] END LR__C=2.6323157894736844, LR__solver=newton-cholesky, SCL=MinMaxScaler();, score=0.827 total time=   0.0s\n",
      "[CV 1/5] END LR__C=2.6323157894736844, LR__solver=newton-cholesky, SCL=StandardScaler();, score=0.821 total time=   0.0s\n",
      "[CV 2/5] END LR__C=2.6323157894736844, LR__solver=newton-cholesky, SCL=StandardScaler();, score=0.810 total time=   0.0s\n",
      "[CV 3/5] END LR__C=2.6323157894736844, LR__solver=newton-cholesky, SCL=StandardScaler();, score=0.825 total time=   0.0s\n",
      "[CV 4/5] END LR__C=2.6323157894736844, LR__solver=newton-cholesky, SCL=StandardScaler();, score=0.816 total time=   0.0s\n",
      "[CV 5/5] END LR__C=2.6323157894736844, LR__solver=newton-cholesky, SCL=StandardScaler();, score=0.827 total time=   0.0s\n",
      "[CV 1/5] END LR__C=2.6323157894736844, LR__solver=newton-cholesky, SCL=None;, score=0.822 total time=   0.0s\n",
      "[CV 2/5] END LR__C=2.6323157894736844, LR__solver=newton-cholesky, SCL=None;, score=0.810 total time=   0.0s\n",
      "[CV 3/5] END LR__C=2.6323157894736844, LR__solver=newton-cholesky, SCL=None;, score=0.825 total time=   0.0s\n",
      "[CV 4/5] END LR__C=2.6323157894736844, LR__solver=newton-cholesky, SCL=None;, score=0.816 total time=   0.0s\n",
      "[CV 5/5] END LR__C=2.6323157894736844, LR__solver=newton-cholesky, SCL=None;, score=0.827 total time=   0.0s\n",
      "[CV 1/5] END LR__C=2.6323157894736844, LR__solver=sag, SCL=MinMaxScaler();, score=0.821 total time=   0.1s\n",
      "[CV 2/5] END LR__C=2.6323157894736844, LR__solver=sag, SCL=MinMaxScaler();, score=0.810 total time=   0.1s\n",
      "[CV 3/5] END LR__C=2.6323157894736844, LR__solver=sag, SCL=MinMaxScaler();, score=0.825 total time=   0.1s\n",
      "[CV 4/5] END LR__C=2.6323157894736844, LR__solver=sag, SCL=MinMaxScaler();, score=0.816 total time=   0.1s\n",
      "[CV 5/5] END LR__C=2.6323157894736844, LR__solver=sag, SCL=MinMaxScaler();, score=0.827 total time=   0.1s\n",
      "[CV 1/5] END LR__C=2.6323157894736844, LR__solver=sag, SCL=StandardScaler();, score=0.821 total time=   0.1s\n",
      "[CV 2/5] END LR__C=2.6323157894736844, LR__solver=sag, SCL=StandardScaler();, score=0.810 total time=   0.1s\n",
      "[CV 3/5] END LR__C=2.6323157894736844, LR__solver=sag, SCL=StandardScaler();, score=0.825 total time=   0.1s\n",
      "[CV 4/5] END LR__C=2.6323157894736844, LR__solver=sag, SCL=StandardScaler();, score=0.816 total time=   0.1s\n",
      "[CV 5/5] END LR__C=2.6323157894736844, LR__solver=sag, SCL=StandardScaler();, score=0.827 total time=   0.1s\n"
     ]
    },
    {
     "name": "stderr",
     "output_type": "stream",
     "text": [
      "C:\\Users\\DAI.STUDENTSDC\\AppData\\Local\\anaconda3\\Lib\\site-packages\\sklearn\\linear_model\\_sag.py:349: ConvergenceWarning: The max_iter was reached which means the coef_ did not converge\n",
      "  warnings.warn(\n"
     ]
    },
    {
     "name": "stdout",
     "output_type": "stream",
     "text": [
      "[CV 1/5] END LR__C=2.6323157894736844, LR__solver=sag, SCL=None;, score=0.812 total time=   0.4s\n"
     ]
    },
    {
     "name": "stderr",
     "output_type": "stream",
     "text": [
      "C:\\Users\\DAI.STUDENTSDC\\AppData\\Local\\anaconda3\\Lib\\site-packages\\sklearn\\linear_model\\_sag.py:349: ConvergenceWarning: The max_iter was reached which means the coef_ did not converge\n",
      "  warnings.warn(\n"
     ]
    },
    {
     "name": "stdout",
     "output_type": "stream",
     "text": [
      "[CV 2/5] END LR__C=2.6323157894736844, LR__solver=sag, SCL=None;, score=0.792 total time=   0.3s\n"
     ]
    },
    {
     "name": "stderr",
     "output_type": "stream",
     "text": [
      "C:\\Users\\DAI.STUDENTSDC\\AppData\\Local\\anaconda3\\Lib\\site-packages\\sklearn\\linear_model\\_sag.py:349: ConvergenceWarning: The max_iter was reached which means the coef_ did not converge\n",
      "  warnings.warn(\n"
     ]
    },
    {
     "name": "stdout",
     "output_type": "stream",
     "text": [
      "[CV 3/5] END LR__C=2.6323157894736844, LR__solver=sag, SCL=None;, score=0.811 total time=   0.3s\n"
     ]
    },
    {
     "name": "stderr",
     "output_type": "stream",
     "text": [
      "C:\\Users\\DAI.STUDENTSDC\\AppData\\Local\\anaconda3\\Lib\\site-packages\\sklearn\\linear_model\\_sag.py:349: ConvergenceWarning: The max_iter was reached which means the coef_ did not converge\n",
      "  warnings.warn(\n"
     ]
    },
    {
     "name": "stdout",
     "output_type": "stream",
     "text": [
      "[CV 4/5] END LR__C=2.6323157894736844, LR__solver=sag, SCL=None;, score=0.807 total time=   0.4s\n"
     ]
    },
    {
     "name": "stderr",
     "output_type": "stream",
     "text": [
      "C:\\Users\\DAI.STUDENTSDC\\AppData\\Local\\anaconda3\\Lib\\site-packages\\sklearn\\linear_model\\_sag.py:349: ConvergenceWarning: The max_iter was reached which means the coef_ did not converge\n",
      "  warnings.warn(\n"
     ]
    },
    {
     "name": "stdout",
     "output_type": "stream",
     "text": [
      "[CV 5/5] END LR__C=2.6323157894736844, LR__solver=sag, SCL=None;, score=0.814 total time=   0.4s\n",
      "[CV 1/5] END LR__C=2.6323157894736844, LR__solver=saga, SCL=MinMaxScaler();, score=0.821 total time=   0.0s\n",
      "[CV 2/5] END LR__C=2.6323157894736844, LR__solver=saga, SCL=MinMaxScaler();, score=0.810 total time=   0.0s\n",
      "[CV 3/5] END LR__C=2.6323157894736844, LR__solver=saga, SCL=MinMaxScaler();, score=0.825 total time=   0.0s\n",
      "[CV 4/5] END LR__C=2.6323157894736844, LR__solver=saga, SCL=MinMaxScaler();, score=0.816 total time=   0.0s\n",
      "[CV 5/5] END LR__C=2.6323157894736844, LR__solver=saga, SCL=MinMaxScaler();, score=0.827 total time=   0.0s\n",
      "[CV 1/5] END LR__C=2.6323157894736844, LR__solver=saga, SCL=StandardScaler();, score=0.821 total time=   0.0s\n",
      "[CV 2/5] END LR__C=2.6323157894736844, LR__solver=saga, SCL=StandardScaler();, score=0.810 total time=   0.0s\n",
      "[CV 3/5] END LR__C=2.6323157894736844, LR__solver=saga, SCL=StandardScaler();, score=0.825 total time=   0.0s\n",
      "[CV 4/5] END LR__C=2.6323157894736844, LR__solver=saga, SCL=StandardScaler();, score=0.816 total time=   0.0s\n",
      "[CV 5/5] END LR__C=2.6323157894736844, LR__solver=saga, SCL=StandardScaler();, score=0.827 total time=   0.0s\n"
     ]
    },
    {
     "name": "stderr",
     "output_type": "stream",
     "text": [
      "C:\\Users\\DAI.STUDENTSDC\\AppData\\Local\\anaconda3\\Lib\\site-packages\\sklearn\\linear_model\\_sag.py:349: ConvergenceWarning: The max_iter was reached which means the coef_ did not converge\n",
      "  warnings.warn(\n"
     ]
    },
    {
     "name": "stdout",
     "output_type": "stream",
     "text": [
      "[CV 1/5] END LR__C=2.6323157894736844, LR__solver=saga, SCL=None;, score=0.784 total time=   0.4s\n"
     ]
    },
    {
     "name": "stderr",
     "output_type": "stream",
     "text": [
      "C:\\Users\\DAI.STUDENTSDC\\AppData\\Local\\anaconda3\\Lib\\site-packages\\sklearn\\linear_model\\_sag.py:349: ConvergenceWarning: The max_iter was reached which means the coef_ did not converge\n",
      "  warnings.warn(\n"
     ]
    },
    {
     "name": "stdout",
     "output_type": "stream",
     "text": [
      "[CV 2/5] END LR__C=2.6323157894736844, LR__solver=saga, SCL=None;, score=0.766 total time=   0.4s\n"
     ]
    },
    {
     "name": "stderr",
     "output_type": "stream",
     "text": [
      "C:\\Users\\DAI.STUDENTSDC\\AppData\\Local\\anaconda3\\Lib\\site-packages\\sklearn\\linear_model\\_sag.py:349: ConvergenceWarning: The max_iter was reached which means the coef_ did not converge\n",
      "  warnings.warn(\n"
     ]
    },
    {
     "name": "stdout",
     "output_type": "stream",
     "text": [
      "[CV 3/5] END LR__C=2.6323157894736844, LR__solver=saga, SCL=None;, score=0.787 total time=   0.4s\n"
     ]
    },
    {
     "name": "stderr",
     "output_type": "stream",
     "text": [
      "C:\\Users\\DAI.STUDENTSDC\\AppData\\Local\\anaconda3\\Lib\\site-packages\\sklearn\\linear_model\\_sag.py:349: ConvergenceWarning: The max_iter was reached which means the coef_ did not converge\n",
      "  warnings.warn(\n"
     ]
    },
    {
     "name": "stdout",
     "output_type": "stream",
     "text": [
      "[CV 4/5] END LR__C=2.6323157894736844, LR__solver=saga, SCL=None;, score=0.786 total time=   0.4s\n"
     ]
    },
    {
     "name": "stderr",
     "output_type": "stream",
     "text": [
      "C:\\Users\\DAI.STUDENTSDC\\AppData\\Local\\anaconda3\\Lib\\site-packages\\sklearn\\linear_model\\_sag.py:349: ConvergenceWarning: The max_iter was reached which means the coef_ did not converge\n",
      "  warnings.warn(\n"
     ]
    },
    {
     "name": "stdout",
     "output_type": "stream",
     "text": [
      "[CV 5/5] END LR__C=2.6323157894736844, LR__solver=saga, SCL=None;, score=0.786 total time=   0.4s\n",
      "[CV 1/5] END LR__C=3.158578947368421, LR__solver=lbfgs, SCL=MinMaxScaler();, score=0.821 total time=   0.0s\n",
      "[CV 2/5] END LR__C=3.158578947368421, LR__solver=lbfgs, SCL=MinMaxScaler();, score=0.810 total time=   0.0s\n",
      "[CV 3/5] END LR__C=3.158578947368421, LR__solver=lbfgs, SCL=MinMaxScaler();, score=0.825 total time=   0.0s\n",
      "[CV 4/5] END LR__C=3.158578947368421, LR__solver=lbfgs, SCL=MinMaxScaler();, score=0.816 total time=   0.0s\n",
      "[CV 5/5] END LR__C=3.158578947368421, LR__solver=lbfgs, SCL=MinMaxScaler();, score=0.827 total time=   0.0s\n",
      "[CV 1/5] END LR__C=3.158578947368421, LR__solver=lbfgs, SCL=StandardScaler();, score=0.821 total time=   0.0s\n",
      "[CV 2/5] END LR__C=3.158578947368421, LR__solver=lbfgs, SCL=StandardScaler();, score=0.810 total time=   0.0s\n",
      "[CV 3/5] END LR__C=3.158578947368421, LR__solver=lbfgs, SCL=StandardScaler();, score=0.825 total time=   0.0s\n",
      "[CV 4/5] END LR__C=3.158578947368421, LR__solver=lbfgs, SCL=StandardScaler();, score=0.816 total time=   0.0s\n",
      "[CV 5/5] END LR__C=3.158578947368421, LR__solver=lbfgs, SCL=StandardScaler();, score=0.827 total time=   0.0s\n",
      "[CV 1/5] END LR__C=3.158578947368421, LR__solver=lbfgs, SCL=None;, score=0.814 total time=   0.1s\n"
     ]
    },
    {
     "name": "stderr",
     "output_type": "stream",
     "text": [
      "C:\\Users\\DAI.STUDENTSDC\\AppData\\Local\\anaconda3\\Lib\\site-packages\\sklearn\\linear_model\\_logistic.py:469: ConvergenceWarning: lbfgs failed to converge (status=1):\n",
      "STOP: TOTAL NO. of ITERATIONS REACHED LIMIT.\n",
      "\n",
      "Increase the number of iterations (max_iter) or scale the data as shown in:\n",
      "    https://scikit-learn.org/stable/modules/preprocessing.html\n",
      "Please also refer to the documentation for alternative solver options:\n",
      "    https://scikit-learn.org/stable/modules/linear_model.html#logistic-regression\n",
      "  n_iter_i = _check_optimize_result(\n",
      "C:\\Users\\DAI.STUDENTSDC\\AppData\\Local\\anaconda3\\Lib\\site-packages\\sklearn\\linear_model\\_logistic.py:469: ConvergenceWarning: lbfgs failed to converge (status=1):\n",
      "STOP: TOTAL NO. of ITERATIONS REACHED LIMIT.\n",
      "\n",
      "Increase the number of iterations (max_iter) or scale the data as shown in:\n",
      "    https://scikit-learn.org/stable/modules/preprocessing.html\n",
      "Please also refer to the documentation for alternative solver options:\n",
      "    https://scikit-learn.org/stable/modules/linear_model.html#logistic-regression\n",
      "  n_iter_i = _check_optimize_result(\n"
     ]
    },
    {
     "name": "stdout",
     "output_type": "stream",
     "text": [
      "[CV 2/5] END LR__C=3.158578947368421, LR__solver=lbfgs, SCL=None;, score=0.805 total time=   0.1s\n",
      "[CV 3/5] END LR__C=3.158578947368421, LR__solver=lbfgs, SCL=None;, score=0.816 total time=   0.1s\n"
     ]
    },
    {
     "name": "stderr",
     "output_type": "stream",
     "text": [
      "C:\\Users\\DAI.STUDENTSDC\\AppData\\Local\\anaconda3\\Lib\\site-packages\\sklearn\\linear_model\\_logistic.py:469: ConvergenceWarning: lbfgs failed to converge (status=1):\n",
      "STOP: TOTAL NO. of ITERATIONS REACHED LIMIT.\n",
      "\n",
      "Increase the number of iterations (max_iter) or scale the data as shown in:\n",
      "    https://scikit-learn.org/stable/modules/preprocessing.html\n",
      "Please also refer to the documentation for alternative solver options:\n",
      "    https://scikit-learn.org/stable/modules/linear_model.html#logistic-regression\n",
      "  n_iter_i = _check_optimize_result(\n",
      "C:\\Users\\DAI.STUDENTSDC\\AppData\\Local\\anaconda3\\Lib\\site-packages\\sklearn\\linear_model\\_logistic.py:469: ConvergenceWarning: lbfgs failed to converge (status=1):\n",
      "STOP: TOTAL NO. of ITERATIONS REACHED LIMIT.\n",
      "\n",
      "Increase the number of iterations (max_iter) or scale the data as shown in:\n",
      "    https://scikit-learn.org/stable/modules/preprocessing.html\n",
      "Please also refer to the documentation for alternative solver options:\n",
      "    https://scikit-learn.org/stable/modules/linear_model.html#logistic-regression\n",
      "  n_iter_i = _check_optimize_result(\n"
     ]
    },
    {
     "name": "stdout",
     "output_type": "stream",
     "text": [
      "[CV 4/5] END LR__C=3.158578947368421, LR__solver=lbfgs, SCL=None;, score=0.812 total time=   0.1s\n",
      "[CV 5/5] END LR__C=3.158578947368421, LR__solver=lbfgs, SCL=None;, score=0.822 total time=   0.1s\n"
     ]
    },
    {
     "name": "stderr",
     "output_type": "stream",
     "text": [
      "C:\\Users\\DAI.STUDENTSDC\\AppData\\Local\\anaconda3\\Lib\\site-packages\\sklearn\\linear_model\\_logistic.py:469: ConvergenceWarning: lbfgs failed to converge (status=1):\n",
      "STOP: TOTAL NO. of ITERATIONS REACHED LIMIT.\n",
      "\n",
      "Increase the number of iterations (max_iter) or scale the data as shown in:\n",
      "    https://scikit-learn.org/stable/modules/preprocessing.html\n",
      "Please also refer to the documentation for alternative solver options:\n",
      "    https://scikit-learn.org/stable/modules/linear_model.html#logistic-regression\n",
      "  n_iter_i = _check_optimize_result(\n"
     ]
    },
    {
     "name": "stdout",
     "output_type": "stream",
     "text": [
      "[CV 1/5] END LR__C=3.158578947368421, LR__solver=liblinear, SCL=MinMaxScaler();, score=0.821 total time=   0.0s\n",
      "[CV 2/5] END LR__C=3.158578947368421, LR__solver=liblinear, SCL=MinMaxScaler();, score=0.810 total time=   0.0s\n",
      "[CV 3/5] END LR__C=3.158578947368421, LR__solver=liblinear, SCL=MinMaxScaler();, score=0.825 total time=   0.0s\n",
      "[CV 4/5] END LR__C=3.158578947368421, LR__solver=liblinear, SCL=MinMaxScaler();, score=0.816 total time=   0.0s\n",
      "[CV 5/5] END LR__C=3.158578947368421, LR__solver=liblinear, SCL=MinMaxScaler();, score=0.827 total time=   0.0s\n",
      "[CV 1/5] END LR__C=3.158578947368421, LR__solver=liblinear, SCL=StandardScaler();, score=0.821 total time=   0.0s\n",
      "[CV 2/5] END LR__C=3.158578947368421, LR__solver=liblinear, SCL=StandardScaler();, score=0.810 total time=   0.0s\n",
      "[CV 3/5] END LR__C=3.158578947368421, LR__solver=liblinear, SCL=StandardScaler();, score=0.825 total time=   0.0s\n",
      "[CV 4/5] END LR__C=3.158578947368421, LR__solver=liblinear, SCL=StandardScaler();, score=0.816 total time=   0.0s\n",
      "[CV 5/5] END LR__C=3.158578947368421, LR__solver=liblinear, SCL=StandardScaler();, score=0.827 total time=   0.0s\n",
      "[CV 1/5] END LR__C=3.158578947368421, LR__solver=liblinear, SCL=None;, score=0.821 total time=   0.0s\n",
      "[CV 2/5] END LR__C=3.158578947368421, LR__solver=liblinear, SCL=None;, score=0.810 total time=   0.0s\n",
      "[CV 3/5] END LR__C=3.158578947368421, LR__solver=liblinear, SCL=None;, score=0.825 total time=   0.0s\n",
      "[CV 4/5] END LR__C=3.158578947368421, LR__solver=liblinear, SCL=None;, score=0.817 total time=   0.0s\n",
      "[CV 5/5] END LR__C=3.158578947368421, LR__solver=liblinear, SCL=None;, score=0.827 total time=   0.0s\n",
      "[CV 1/5] END LR__C=3.158578947368421, LR__solver=newton-cg, SCL=MinMaxScaler();, score=0.821 total time=   0.0s\n",
      "[CV 2/5] END LR__C=3.158578947368421, LR__solver=newton-cg, SCL=MinMaxScaler();, score=0.810 total time=   0.0s\n",
      "[CV 3/5] END LR__C=3.158578947368421, LR__solver=newton-cg, SCL=MinMaxScaler();, score=0.825 total time=   0.0s\n",
      "[CV 4/5] END LR__C=3.158578947368421, LR__solver=newton-cg, SCL=MinMaxScaler();, score=0.816 total time=   0.0s\n",
      "[CV 5/5] END LR__C=3.158578947368421, LR__solver=newton-cg, SCL=MinMaxScaler();, score=0.827 total time=   0.0s\n",
      "[CV 1/5] END LR__C=3.158578947368421, LR__solver=newton-cg, SCL=StandardScaler();, score=0.821 total time=   0.0s\n",
      "[CV 2/5] END LR__C=3.158578947368421, LR__solver=newton-cg, SCL=StandardScaler();, score=0.810 total time=   0.0s\n",
      "[CV 3/5] END LR__C=3.158578947368421, LR__solver=newton-cg, SCL=StandardScaler();, score=0.825 total time=   0.0s\n",
      "[CV 4/5] END LR__C=3.158578947368421, LR__solver=newton-cg, SCL=StandardScaler();, score=0.816 total time=   0.0s\n",
      "[CV 5/5] END LR__C=3.158578947368421, LR__solver=newton-cg, SCL=StandardScaler();, score=0.827 total time=   0.0s\n",
      "[CV 1/5] END LR__C=3.158578947368421, LR__solver=newton-cg, SCL=None;, score=0.821 total time=   0.1s\n",
      "[CV 2/5] END LR__C=3.158578947368421, LR__solver=newton-cg, SCL=None;, score=0.810 total time=   0.2s\n",
      "[CV 3/5] END LR__C=3.158578947368421, LR__solver=newton-cg, SCL=None;, score=0.825 total time=   0.1s\n",
      "[CV 4/5] END LR__C=3.158578947368421, LR__solver=newton-cg, SCL=None;, score=0.816 total time=   0.1s\n",
      "[CV 5/5] END LR__C=3.158578947368421, LR__solver=newton-cg, SCL=None;, score=0.827 total time=   0.2s\n",
      "[CV 1/5] END LR__C=3.158578947368421, LR__solver=newton-cholesky, SCL=MinMaxScaler();, score=0.821 total time=   0.0s\n",
      "[CV 2/5] END LR__C=3.158578947368421, LR__solver=newton-cholesky, SCL=MinMaxScaler();, score=0.810 total time=   0.0s\n",
      "[CV 3/5] END LR__C=3.158578947368421, LR__solver=newton-cholesky, SCL=MinMaxScaler();, score=0.825 total time=   0.0s\n",
      "[CV 4/5] END LR__C=3.158578947368421, LR__solver=newton-cholesky, SCL=MinMaxScaler();, score=0.816 total time=   0.0s\n",
      "[CV 5/5] END LR__C=3.158578947368421, LR__solver=newton-cholesky, SCL=MinMaxScaler();, score=0.827 total time=   0.0s\n",
      "[CV 1/5] END LR__C=3.158578947368421, LR__solver=newton-cholesky, SCL=StandardScaler();, score=0.821 total time=   0.0s\n",
      "[CV 2/5] END LR__C=3.158578947368421, LR__solver=newton-cholesky, SCL=StandardScaler();, score=0.810 total time=   0.0s\n",
      "[CV 3/5] END LR__C=3.158578947368421, LR__solver=newton-cholesky, SCL=StandardScaler();, score=0.825 total time=   0.0s\n",
      "[CV 4/5] END LR__C=3.158578947368421, LR__solver=newton-cholesky, SCL=StandardScaler();, score=0.816 total time=   0.0s\n",
      "[CV 5/5] END LR__C=3.158578947368421, LR__solver=newton-cholesky, SCL=StandardScaler();, score=0.827 total time=   0.0s\n",
      "[CV 1/5] END LR__C=3.158578947368421, LR__solver=newton-cholesky, SCL=None;, score=0.821 total time=   0.0s\n",
      "[CV 2/5] END LR__C=3.158578947368421, LR__solver=newton-cholesky, SCL=None;, score=0.810 total time=   0.0s\n",
      "[CV 3/5] END LR__C=3.158578947368421, LR__solver=newton-cholesky, SCL=None;, score=0.825 total time=   0.0s\n",
      "[CV 4/5] END LR__C=3.158578947368421, LR__solver=newton-cholesky, SCL=None;, score=0.816 total time=   0.0s\n",
      "[CV 5/5] END LR__C=3.158578947368421, LR__solver=newton-cholesky, SCL=None;, score=0.827 total time=   0.0s\n",
      "[CV 1/5] END LR__C=3.158578947368421, LR__solver=sag, SCL=MinMaxScaler();, score=0.821 total time=   0.1s\n",
      "[CV 2/5] END LR__C=3.158578947368421, LR__solver=sag, SCL=MinMaxScaler();, score=0.810 total time=   0.1s\n",
      "[CV 3/5] END LR__C=3.158578947368421, LR__solver=sag, SCL=MinMaxScaler();, score=0.825 total time=   0.1s\n",
      "[CV 4/5] END LR__C=3.158578947368421, LR__solver=sag, SCL=MinMaxScaler();, score=0.816 total time=   0.1s\n",
      "[CV 5/5] END LR__C=3.158578947368421, LR__solver=sag, SCL=MinMaxScaler();, score=0.827 total time=   0.1s\n",
      "[CV 1/5] END LR__C=3.158578947368421, LR__solver=sag, SCL=StandardScaler();, score=0.821 total time=   0.1s\n",
      "[CV 2/5] END LR__C=3.158578947368421, LR__solver=sag, SCL=StandardScaler();, score=0.810 total time=   0.1s\n",
      "[CV 3/5] END LR__C=3.158578947368421, LR__solver=sag, SCL=StandardScaler();, score=0.825 total time=   0.1s\n",
      "[CV 4/5] END LR__C=3.158578947368421, LR__solver=sag, SCL=StandardScaler();, score=0.816 total time=   0.1s\n",
      "[CV 5/5] END LR__C=3.158578947368421, LR__solver=sag, SCL=StandardScaler();, score=0.827 total time=   0.1s\n"
     ]
    },
    {
     "name": "stderr",
     "output_type": "stream",
     "text": [
      "C:\\Users\\DAI.STUDENTSDC\\AppData\\Local\\anaconda3\\Lib\\site-packages\\sklearn\\linear_model\\_sag.py:349: ConvergenceWarning: The max_iter was reached which means the coef_ did not converge\n",
      "  warnings.warn(\n"
     ]
    },
    {
     "name": "stdout",
     "output_type": "stream",
     "text": [
      "[CV 1/5] END LR__C=3.158578947368421, LR__solver=sag, SCL=None;, score=0.812 total time=   0.4s\n"
     ]
    },
    {
     "name": "stderr",
     "output_type": "stream",
     "text": [
      "C:\\Users\\DAI.STUDENTSDC\\AppData\\Local\\anaconda3\\Lib\\site-packages\\sklearn\\linear_model\\_sag.py:349: ConvergenceWarning: The max_iter was reached which means the coef_ did not converge\n",
      "  warnings.warn(\n"
     ]
    },
    {
     "name": "stdout",
     "output_type": "stream",
     "text": [
      "[CV 2/5] END LR__C=3.158578947368421, LR__solver=sag, SCL=None;, score=0.792 total time=   0.3s\n"
     ]
    },
    {
     "name": "stderr",
     "output_type": "stream",
     "text": [
      "C:\\Users\\DAI.STUDENTSDC\\AppData\\Local\\anaconda3\\Lib\\site-packages\\sklearn\\linear_model\\_sag.py:349: ConvergenceWarning: The max_iter was reached which means the coef_ did not converge\n",
      "  warnings.warn(\n"
     ]
    },
    {
     "name": "stdout",
     "output_type": "stream",
     "text": [
      "[CV 3/5] END LR__C=3.158578947368421, LR__solver=sag, SCL=None;, score=0.811 total time=   0.3s\n"
     ]
    },
    {
     "name": "stderr",
     "output_type": "stream",
     "text": [
      "C:\\Users\\DAI.STUDENTSDC\\AppData\\Local\\anaconda3\\Lib\\site-packages\\sklearn\\linear_model\\_sag.py:349: ConvergenceWarning: The max_iter was reached which means the coef_ did not converge\n",
      "  warnings.warn(\n"
     ]
    },
    {
     "name": "stdout",
     "output_type": "stream",
     "text": [
      "[CV 4/5] END LR__C=3.158578947368421, LR__solver=sag, SCL=None;, score=0.807 total time=   0.3s\n"
     ]
    },
    {
     "name": "stderr",
     "output_type": "stream",
     "text": [
      "C:\\Users\\DAI.STUDENTSDC\\AppData\\Local\\anaconda3\\Lib\\site-packages\\sklearn\\linear_model\\_sag.py:349: ConvergenceWarning: The max_iter was reached which means the coef_ did not converge\n",
      "  warnings.warn(\n"
     ]
    },
    {
     "name": "stdout",
     "output_type": "stream",
     "text": [
      "[CV 5/5] END LR__C=3.158578947368421, LR__solver=sag, SCL=None;, score=0.814 total time=   0.3s\n",
      "[CV 1/5] END LR__C=3.158578947368421, LR__solver=saga, SCL=MinMaxScaler();, score=0.821 total time=   0.0s\n",
      "[CV 2/5] END LR__C=3.158578947368421, LR__solver=saga, SCL=MinMaxScaler();, score=0.810 total time=   0.0s\n",
      "[CV 3/5] END LR__C=3.158578947368421, LR__solver=saga, SCL=MinMaxScaler();, score=0.825 total time=   0.0s\n",
      "[CV 4/5] END LR__C=3.158578947368421, LR__solver=saga, SCL=MinMaxScaler();, score=0.816 total time=   0.0s\n",
      "[CV 5/5] END LR__C=3.158578947368421, LR__solver=saga, SCL=MinMaxScaler();, score=0.827 total time=   0.0s\n",
      "[CV 1/5] END LR__C=3.158578947368421, LR__solver=saga, SCL=StandardScaler();, score=0.821 total time=   0.0s\n",
      "[CV 2/5] END LR__C=3.158578947368421, LR__solver=saga, SCL=StandardScaler();, score=0.810 total time=   0.0s\n",
      "[CV 3/5] END LR__C=3.158578947368421, LR__solver=saga, SCL=StandardScaler();, score=0.825 total time=   0.0s\n",
      "[CV 4/5] END LR__C=3.158578947368421, LR__solver=saga, SCL=StandardScaler();, score=0.816 total time=   0.0s\n",
      "[CV 5/5] END LR__C=3.158578947368421, LR__solver=saga, SCL=StandardScaler();, score=0.827 total time=   0.0s\n"
     ]
    },
    {
     "name": "stderr",
     "output_type": "stream",
     "text": [
      "C:\\Users\\DAI.STUDENTSDC\\AppData\\Local\\anaconda3\\Lib\\site-packages\\sklearn\\linear_model\\_sag.py:349: ConvergenceWarning: The max_iter was reached which means the coef_ did not converge\n",
      "  warnings.warn(\n"
     ]
    },
    {
     "name": "stdout",
     "output_type": "stream",
     "text": [
      "[CV 1/5] END LR__C=3.158578947368421, LR__solver=saga, SCL=None;, score=0.784 total time=   0.4s\n"
     ]
    },
    {
     "name": "stderr",
     "output_type": "stream",
     "text": [
      "C:\\Users\\DAI.STUDENTSDC\\AppData\\Local\\anaconda3\\Lib\\site-packages\\sklearn\\linear_model\\_sag.py:349: ConvergenceWarning: The max_iter was reached which means the coef_ did not converge\n",
      "  warnings.warn(\n"
     ]
    },
    {
     "name": "stdout",
     "output_type": "stream",
     "text": [
      "[CV 2/5] END LR__C=3.158578947368421, LR__solver=saga, SCL=None;, score=0.766 total time=   0.4s\n"
     ]
    },
    {
     "name": "stderr",
     "output_type": "stream",
     "text": [
      "C:\\Users\\DAI.STUDENTSDC\\AppData\\Local\\anaconda3\\Lib\\site-packages\\sklearn\\linear_model\\_sag.py:349: ConvergenceWarning: The max_iter was reached which means the coef_ did not converge\n",
      "  warnings.warn(\n"
     ]
    },
    {
     "name": "stdout",
     "output_type": "stream",
     "text": [
      "[CV 3/5] END LR__C=3.158578947368421, LR__solver=saga, SCL=None;, score=0.787 total time=   0.4s\n"
     ]
    },
    {
     "name": "stderr",
     "output_type": "stream",
     "text": [
      "C:\\Users\\DAI.STUDENTSDC\\AppData\\Local\\anaconda3\\Lib\\site-packages\\sklearn\\linear_model\\_sag.py:349: ConvergenceWarning: The max_iter was reached which means the coef_ did not converge\n",
      "  warnings.warn(\n"
     ]
    },
    {
     "name": "stdout",
     "output_type": "stream",
     "text": [
      "[CV 4/5] END LR__C=3.158578947368421, LR__solver=saga, SCL=None;, score=0.786 total time=   0.4s\n"
     ]
    },
    {
     "name": "stderr",
     "output_type": "stream",
     "text": [
      "C:\\Users\\DAI.STUDENTSDC\\AppData\\Local\\anaconda3\\Lib\\site-packages\\sklearn\\linear_model\\_sag.py:349: ConvergenceWarning: The max_iter was reached which means the coef_ did not converge\n",
      "  warnings.warn(\n"
     ]
    },
    {
     "name": "stdout",
     "output_type": "stream",
     "text": [
      "[CV 5/5] END LR__C=3.158578947368421, LR__solver=saga, SCL=None;, score=0.786 total time=   0.4s\n",
      "[CV 1/5] END LR__C=3.684842105263158, LR__solver=lbfgs, SCL=MinMaxScaler();, score=0.821 total time=   0.0s\n",
      "[CV 2/5] END LR__C=3.684842105263158, LR__solver=lbfgs, SCL=MinMaxScaler();, score=0.810 total time=   0.0s\n",
      "[CV 3/5] END LR__C=3.684842105263158, LR__solver=lbfgs, SCL=MinMaxScaler();, score=0.825 total time=   0.0s\n",
      "[CV 4/5] END LR__C=3.684842105263158, LR__solver=lbfgs, SCL=MinMaxScaler();, score=0.816 total time=   0.0s\n",
      "[CV 5/5] END LR__C=3.684842105263158, LR__solver=lbfgs, SCL=MinMaxScaler();, score=0.827 total time=   0.0s\n",
      "[CV 1/5] END LR__C=3.684842105263158, LR__solver=lbfgs, SCL=StandardScaler();, score=0.821 total time=   0.0s\n",
      "[CV 2/5] END LR__C=3.684842105263158, LR__solver=lbfgs, SCL=StandardScaler();, score=0.810 total time=   0.0s\n",
      "[CV 3/5] END LR__C=3.684842105263158, LR__solver=lbfgs, SCL=StandardScaler();, score=0.825 total time=   0.0s\n",
      "[CV 4/5] END LR__C=3.684842105263158, LR__solver=lbfgs, SCL=StandardScaler();, score=0.816 total time=   0.0s\n",
      "[CV 5/5] END LR__C=3.684842105263158, LR__solver=lbfgs, SCL=StandardScaler();, score=0.827 total time=   0.0s\n"
     ]
    },
    {
     "name": "stderr",
     "output_type": "stream",
     "text": [
      "C:\\Users\\DAI.STUDENTSDC\\AppData\\Local\\anaconda3\\Lib\\site-packages\\sklearn\\linear_model\\_logistic.py:469: ConvergenceWarning: lbfgs failed to converge (status=1):\n",
      "STOP: TOTAL NO. of ITERATIONS REACHED LIMIT.\n",
      "\n",
      "Increase the number of iterations (max_iter) or scale the data as shown in:\n",
      "    https://scikit-learn.org/stable/modules/preprocessing.html\n",
      "Please also refer to the documentation for alternative solver options:\n",
      "    https://scikit-learn.org/stable/modules/linear_model.html#logistic-regression\n",
      "  n_iter_i = _check_optimize_result(\n",
      "C:\\Users\\DAI.STUDENTSDC\\AppData\\Local\\anaconda3\\Lib\\site-packages\\sklearn\\linear_model\\_logistic.py:469: ConvergenceWarning: lbfgs failed to converge (status=1):\n",
      "STOP: TOTAL NO. of ITERATIONS REACHED LIMIT.\n",
      "\n",
      "Increase the number of iterations (max_iter) or scale the data as shown in:\n",
      "    https://scikit-learn.org/stable/modules/preprocessing.html\n",
      "Please also refer to the documentation for alternative solver options:\n",
      "    https://scikit-learn.org/stable/modules/linear_model.html#logistic-regression\n",
      "  n_iter_i = _check_optimize_result(\n"
     ]
    },
    {
     "name": "stdout",
     "output_type": "stream",
     "text": [
      "[CV 1/5] END LR__C=3.684842105263158, LR__solver=lbfgs, SCL=None;, score=0.814 total time=   0.1s\n",
      "[CV 2/5] END LR__C=3.684842105263158, LR__solver=lbfgs, SCL=None;, score=0.806 total time=   0.1s\n"
     ]
    },
    {
     "name": "stderr",
     "output_type": "stream",
     "text": [
      "C:\\Users\\DAI.STUDENTSDC\\AppData\\Local\\anaconda3\\Lib\\site-packages\\sklearn\\linear_model\\_logistic.py:469: ConvergenceWarning: lbfgs failed to converge (status=1):\n",
      "STOP: TOTAL NO. of ITERATIONS REACHED LIMIT.\n",
      "\n",
      "Increase the number of iterations (max_iter) or scale the data as shown in:\n",
      "    https://scikit-learn.org/stable/modules/preprocessing.html\n",
      "Please also refer to the documentation for alternative solver options:\n",
      "    https://scikit-learn.org/stable/modules/linear_model.html#logistic-regression\n",
      "  n_iter_i = _check_optimize_result(\n",
      "C:\\Users\\DAI.STUDENTSDC\\AppData\\Local\\anaconda3\\Lib\\site-packages\\sklearn\\linear_model\\_logistic.py:469: ConvergenceWarning: lbfgs failed to converge (status=1):\n",
      "STOP: TOTAL NO. of ITERATIONS REACHED LIMIT.\n",
      "\n",
      "Increase the number of iterations (max_iter) or scale the data as shown in:\n",
      "    https://scikit-learn.org/stable/modules/preprocessing.html\n",
      "Please also refer to the documentation for alternative solver options:\n",
      "    https://scikit-learn.org/stable/modules/linear_model.html#logistic-regression\n",
      "  n_iter_i = _check_optimize_result(\n"
     ]
    },
    {
     "name": "stdout",
     "output_type": "stream",
     "text": [
      "[CV 3/5] END LR__C=3.684842105263158, LR__solver=lbfgs, SCL=None;, score=0.819 total time=   0.1s\n",
      "[CV 4/5] END LR__C=3.684842105263158, LR__solver=lbfgs, SCL=None;, score=0.812 total time=   0.1s\n"
     ]
    },
    {
     "name": "stderr",
     "output_type": "stream",
     "text": [
      "C:\\Users\\DAI.STUDENTSDC\\AppData\\Local\\anaconda3\\Lib\\site-packages\\sklearn\\linear_model\\_logistic.py:469: ConvergenceWarning: lbfgs failed to converge (status=1):\n",
      "STOP: TOTAL NO. of ITERATIONS REACHED LIMIT.\n",
      "\n",
      "Increase the number of iterations (max_iter) or scale the data as shown in:\n",
      "    https://scikit-learn.org/stable/modules/preprocessing.html\n",
      "Please also refer to the documentation for alternative solver options:\n",
      "    https://scikit-learn.org/stable/modules/linear_model.html#logistic-regression\n",
      "  n_iter_i = _check_optimize_result(\n"
     ]
    },
    {
     "name": "stdout",
     "output_type": "stream",
     "text": [
      "[CV 5/5] END LR__C=3.684842105263158, LR__solver=lbfgs, SCL=None;, score=0.822 total time=   0.1s\n",
      "[CV 1/5] END LR__C=3.684842105263158, LR__solver=liblinear, SCL=MinMaxScaler();, score=0.821 total time=   0.0s\n",
      "[CV 2/5] END LR__C=3.684842105263158, LR__solver=liblinear, SCL=MinMaxScaler();, score=0.810 total time=   0.0s\n",
      "[CV 3/5] END LR__C=3.684842105263158, LR__solver=liblinear, SCL=MinMaxScaler();, score=0.825 total time=   0.0s\n",
      "[CV 4/5] END LR__C=3.684842105263158, LR__solver=liblinear, SCL=MinMaxScaler();, score=0.816 total time=   0.0s\n",
      "[CV 5/5] END LR__C=3.684842105263158, LR__solver=liblinear, SCL=MinMaxScaler();, score=0.827 total time=   0.0s\n",
      "[CV 1/5] END LR__C=3.684842105263158, LR__solver=liblinear, SCL=StandardScaler();, score=0.821 total time=   0.0s\n",
      "[CV 2/5] END LR__C=3.684842105263158, LR__solver=liblinear, SCL=StandardScaler();, score=0.810 total time=   0.0s\n",
      "[CV 3/5] END LR__C=3.684842105263158, LR__solver=liblinear, SCL=StandardScaler();, score=0.825 total time=   0.0s\n",
      "[CV 4/5] END LR__C=3.684842105263158, LR__solver=liblinear, SCL=StandardScaler();, score=0.816 total time=   0.0s\n",
      "[CV 5/5] END LR__C=3.684842105263158, LR__solver=liblinear, SCL=StandardScaler();, score=0.827 total time=   0.0s\n",
      "[CV 1/5] END LR__C=3.684842105263158, LR__solver=liblinear, SCL=None;, score=0.821 total time=   0.0s\n",
      "[CV 2/5] END LR__C=3.684842105263158, LR__solver=liblinear, SCL=None;, score=0.810 total time=   0.0s\n",
      "[CV 3/5] END LR__C=3.684842105263158, LR__solver=liblinear, SCL=None;, score=0.825 total time=   0.0s\n",
      "[CV 4/5] END LR__C=3.684842105263158, LR__solver=liblinear, SCL=None;, score=0.817 total time=   0.0s\n",
      "[CV 5/5] END LR__C=3.684842105263158, LR__solver=liblinear, SCL=None;, score=0.827 total time=   0.0s\n",
      "[CV 1/5] END LR__C=3.684842105263158, LR__solver=newton-cg, SCL=MinMaxScaler();, score=0.821 total time=   0.0s\n",
      "[CV 2/5] END LR__C=3.684842105263158, LR__solver=newton-cg, SCL=MinMaxScaler();, score=0.810 total time=   0.0s\n",
      "[CV 3/5] END LR__C=3.684842105263158, LR__solver=newton-cg, SCL=MinMaxScaler();, score=0.825 total time=   0.0s\n",
      "[CV 4/5] END LR__C=3.684842105263158, LR__solver=newton-cg, SCL=MinMaxScaler();, score=0.816 total time=   0.0s\n",
      "[CV 5/5] END LR__C=3.684842105263158, LR__solver=newton-cg, SCL=MinMaxScaler();, score=0.827 total time=   0.0s\n",
      "[CV 1/5] END LR__C=3.684842105263158, LR__solver=newton-cg, SCL=StandardScaler();, score=0.821 total time=   0.0s\n",
      "[CV 2/5] END LR__C=3.684842105263158, LR__solver=newton-cg, SCL=StandardScaler();, score=0.810 total time=   0.0s\n",
      "[CV 3/5] END LR__C=3.684842105263158, LR__solver=newton-cg, SCL=StandardScaler();, score=0.825 total time=   0.0s\n",
      "[CV 4/5] END LR__C=3.684842105263158, LR__solver=newton-cg, SCL=StandardScaler();, score=0.816 total time=   0.0s\n",
      "[CV 5/5] END LR__C=3.684842105263158, LR__solver=newton-cg, SCL=StandardScaler();, score=0.827 total time=   0.0s\n",
      "[CV 1/5] END LR__C=3.684842105263158, LR__solver=newton-cg, SCL=None;, score=0.821 total time=   0.1s\n",
      "[CV 2/5] END LR__C=3.684842105263158, LR__solver=newton-cg, SCL=None;, score=0.810 total time=   0.1s\n",
      "[CV 3/5] END LR__C=3.684842105263158, LR__solver=newton-cg, SCL=None;, score=0.825 total time=   0.1s\n",
      "[CV 4/5] END LR__C=3.684842105263158, LR__solver=newton-cg, SCL=None;, score=0.816 total time=   0.2s\n",
      "[CV 5/5] END LR__C=3.684842105263158, LR__solver=newton-cg, SCL=None;, score=0.827 total time=   0.1s\n",
      "[CV 1/5] END LR__C=3.684842105263158, LR__solver=newton-cholesky, SCL=MinMaxScaler();, score=0.821 total time=   0.0s\n",
      "[CV 2/5] END LR__C=3.684842105263158, LR__solver=newton-cholesky, SCL=MinMaxScaler();, score=0.810 total time=   0.0s\n",
      "[CV 3/5] END LR__C=3.684842105263158, LR__solver=newton-cholesky, SCL=MinMaxScaler();, score=0.825 total time=   0.0s\n",
      "[CV 4/5] END LR__C=3.684842105263158, LR__solver=newton-cholesky, SCL=MinMaxScaler();, score=0.816 total time=   0.0s\n",
      "[CV 5/5] END LR__C=3.684842105263158, LR__solver=newton-cholesky, SCL=MinMaxScaler();, score=0.827 total time=   0.0s\n",
      "[CV 1/5] END LR__C=3.684842105263158, LR__solver=newton-cholesky, SCL=StandardScaler();, score=0.821 total time=   0.0s\n",
      "[CV 2/5] END LR__C=3.684842105263158, LR__solver=newton-cholesky, SCL=StandardScaler();, score=0.810 total time=   0.0s\n",
      "[CV 3/5] END LR__C=3.684842105263158, LR__solver=newton-cholesky, SCL=StandardScaler();, score=0.825 total time=   0.0s\n",
      "[CV 4/5] END LR__C=3.684842105263158, LR__solver=newton-cholesky, SCL=StandardScaler();, score=0.816 total time=   0.0s\n",
      "[CV 5/5] END LR__C=3.684842105263158, LR__solver=newton-cholesky, SCL=StandardScaler();, score=0.827 total time=   0.0s\n",
      "[CV 1/5] END LR__C=3.684842105263158, LR__solver=newton-cholesky, SCL=None;, score=0.821 total time=   0.0s\n",
      "[CV 2/5] END LR__C=3.684842105263158, LR__solver=newton-cholesky, SCL=None;, score=0.810 total time=   0.0s\n",
      "[CV 3/5] END LR__C=3.684842105263158, LR__solver=newton-cholesky, SCL=None;, score=0.825 total time=   0.0s\n",
      "[CV 4/5] END LR__C=3.684842105263158, LR__solver=newton-cholesky, SCL=None;, score=0.816 total time=   0.0s\n",
      "[CV 5/5] END LR__C=3.684842105263158, LR__solver=newton-cholesky, SCL=None;, score=0.827 total time=   0.0s\n",
      "[CV 1/5] END LR__C=3.684842105263158, LR__solver=sag, SCL=MinMaxScaler();, score=0.821 total time=   0.1s\n",
      "[CV 2/5] END LR__C=3.684842105263158, LR__solver=sag, SCL=MinMaxScaler();, score=0.810 total time=   0.1s\n",
      "[CV 3/5] END LR__C=3.684842105263158, LR__solver=sag, SCL=MinMaxScaler();, score=0.825 total time=   0.1s\n",
      "[CV 4/5] END LR__C=3.684842105263158, LR__solver=sag, SCL=MinMaxScaler();, score=0.816 total time=   0.1s\n",
      "[CV 5/5] END LR__C=3.684842105263158, LR__solver=sag, SCL=MinMaxScaler();, score=0.827 total time=   0.1s\n",
      "[CV 1/5] END LR__C=3.684842105263158, LR__solver=sag, SCL=StandardScaler();, score=0.821 total time=   0.1s\n",
      "[CV 2/5] END LR__C=3.684842105263158, LR__solver=sag, SCL=StandardScaler();, score=0.810 total time=   0.0s\n",
      "[CV 3/5] END LR__C=3.684842105263158, LR__solver=sag, SCL=StandardScaler();, score=0.825 total time=   0.0s\n",
      "[CV 4/5] END LR__C=3.684842105263158, LR__solver=sag, SCL=StandardScaler();, score=0.816 total time=   0.0s\n",
      "[CV 5/5] END LR__C=3.684842105263158, LR__solver=sag, SCL=StandardScaler();, score=0.827 total time=   0.1s\n"
     ]
    },
    {
     "name": "stderr",
     "output_type": "stream",
     "text": [
      "C:\\Users\\DAI.STUDENTSDC\\AppData\\Local\\anaconda3\\Lib\\site-packages\\sklearn\\linear_model\\_sag.py:349: ConvergenceWarning: The max_iter was reached which means the coef_ did not converge\n",
      "  warnings.warn(\n"
     ]
    },
    {
     "name": "stdout",
     "output_type": "stream",
     "text": [
      "[CV 1/5] END LR__C=3.684842105263158, LR__solver=sag, SCL=None;, score=0.812 total time=   0.3s\n"
     ]
    },
    {
     "name": "stderr",
     "output_type": "stream",
     "text": [
      "C:\\Users\\DAI.STUDENTSDC\\AppData\\Local\\anaconda3\\Lib\\site-packages\\sklearn\\linear_model\\_sag.py:349: ConvergenceWarning: The max_iter was reached which means the coef_ did not converge\n",
      "  warnings.warn(\n"
     ]
    },
    {
     "name": "stdout",
     "output_type": "stream",
     "text": [
      "[CV 2/5] END LR__C=3.684842105263158, LR__solver=sag, SCL=None;, score=0.792 total time=   0.4s\n"
     ]
    },
    {
     "name": "stderr",
     "output_type": "stream",
     "text": [
      "C:\\Users\\DAI.STUDENTSDC\\AppData\\Local\\anaconda3\\Lib\\site-packages\\sklearn\\linear_model\\_sag.py:349: ConvergenceWarning: The max_iter was reached which means the coef_ did not converge\n",
      "  warnings.warn(\n"
     ]
    },
    {
     "name": "stdout",
     "output_type": "stream",
     "text": [
      "[CV 3/5] END LR__C=3.684842105263158, LR__solver=sag, SCL=None;, score=0.811 total time=   0.4s\n"
     ]
    },
    {
     "name": "stderr",
     "output_type": "stream",
     "text": [
      "C:\\Users\\DAI.STUDENTSDC\\AppData\\Local\\anaconda3\\Lib\\site-packages\\sklearn\\linear_model\\_sag.py:349: ConvergenceWarning: The max_iter was reached which means the coef_ did not converge\n",
      "  warnings.warn(\n"
     ]
    },
    {
     "name": "stdout",
     "output_type": "stream",
     "text": [
      "[CV 4/5] END LR__C=3.684842105263158, LR__solver=sag, SCL=None;, score=0.807 total time=   0.3s\n"
     ]
    },
    {
     "name": "stderr",
     "output_type": "stream",
     "text": [
      "C:\\Users\\DAI.STUDENTSDC\\AppData\\Local\\anaconda3\\Lib\\site-packages\\sklearn\\linear_model\\_sag.py:349: ConvergenceWarning: The max_iter was reached which means the coef_ did not converge\n",
      "  warnings.warn(\n"
     ]
    },
    {
     "name": "stdout",
     "output_type": "stream",
     "text": [
      "[CV 5/5] END LR__C=3.684842105263158, LR__solver=sag, SCL=None;, score=0.814 total time=   0.3s\n",
      "[CV 1/5] END LR__C=3.684842105263158, LR__solver=saga, SCL=MinMaxScaler();, score=0.821 total time=   0.0s\n",
      "[CV 2/5] END LR__C=3.684842105263158, LR__solver=saga, SCL=MinMaxScaler();, score=0.810 total time=   0.0s\n",
      "[CV 3/5] END LR__C=3.684842105263158, LR__solver=saga, SCL=MinMaxScaler();, score=0.825 total time=   0.0s\n",
      "[CV 4/5] END LR__C=3.684842105263158, LR__solver=saga, SCL=MinMaxScaler();, score=0.816 total time=   0.0s\n",
      "[CV 5/5] END LR__C=3.684842105263158, LR__solver=saga, SCL=MinMaxScaler();, score=0.827 total time=   0.0s\n",
      "[CV 1/5] END LR__C=3.684842105263158, LR__solver=saga, SCL=StandardScaler();, score=0.821 total time=   0.0s\n",
      "[CV 2/5] END LR__C=3.684842105263158, LR__solver=saga, SCL=StandardScaler();, score=0.810 total time=   0.0s\n",
      "[CV 3/5] END LR__C=3.684842105263158, LR__solver=saga, SCL=StandardScaler();, score=0.825 total time=   0.0s\n",
      "[CV 4/5] END LR__C=3.684842105263158, LR__solver=saga, SCL=StandardScaler();, score=0.816 total time=   0.0s\n",
      "[CV 5/5] END LR__C=3.684842105263158, LR__solver=saga, SCL=StandardScaler();, score=0.827 total time=   0.0s\n"
     ]
    },
    {
     "name": "stderr",
     "output_type": "stream",
     "text": [
      "C:\\Users\\DAI.STUDENTSDC\\AppData\\Local\\anaconda3\\Lib\\site-packages\\sklearn\\linear_model\\_sag.py:349: ConvergenceWarning: The max_iter was reached which means the coef_ did not converge\n",
      "  warnings.warn(\n"
     ]
    },
    {
     "name": "stdout",
     "output_type": "stream",
     "text": [
      "[CV 1/5] END LR__C=3.684842105263158, LR__solver=saga, SCL=None;, score=0.784 total time=   0.3s\n"
     ]
    },
    {
     "name": "stderr",
     "output_type": "stream",
     "text": [
      "C:\\Users\\DAI.STUDENTSDC\\AppData\\Local\\anaconda3\\Lib\\site-packages\\sklearn\\linear_model\\_sag.py:349: ConvergenceWarning: The max_iter was reached which means the coef_ did not converge\n",
      "  warnings.warn(\n"
     ]
    },
    {
     "name": "stdout",
     "output_type": "stream",
     "text": [
      "[CV 2/5] END LR__C=3.684842105263158, LR__solver=saga, SCL=None;, score=0.766 total time=   0.4s\n"
     ]
    },
    {
     "name": "stderr",
     "output_type": "stream",
     "text": [
      "C:\\Users\\DAI.STUDENTSDC\\AppData\\Local\\anaconda3\\Lib\\site-packages\\sklearn\\linear_model\\_sag.py:349: ConvergenceWarning: The max_iter was reached which means the coef_ did not converge\n",
      "  warnings.warn(\n"
     ]
    },
    {
     "name": "stdout",
     "output_type": "stream",
     "text": [
      "[CV 3/5] END LR__C=3.684842105263158, LR__solver=saga, SCL=None;, score=0.787 total time=   0.4s\n"
     ]
    },
    {
     "name": "stderr",
     "output_type": "stream",
     "text": [
      "C:\\Users\\DAI.STUDENTSDC\\AppData\\Local\\anaconda3\\Lib\\site-packages\\sklearn\\linear_model\\_sag.py:349: ConvergenceWarning: The max_iter was reached which means the coef_ did not converge\n",
      "  warnings.warn(\n"
     ]
    },
    {
     "name": "stdout",
     "output_type": "stream",
     "text": [
      "[CV 4/5] END LR__C=3.684842105263158, LR__solver=saga, SCL=None;, score=0.786 total time=   0.4s\n"
     ]
    },
    {
     "name": "stderr",
     "output_type": "stream",
     "text": [
      "C:\\Users\\DAI.STUDENTSDC\\AppData\\Local\\anaconda3\\Lib\\site-packages\\sklearn\\linear_model\\_sag.py:349: ConvergenceWarning: The max_iter was reached which means the coef_ did not converge\n",
      "  warnings.warn(\n"
     ]
    },
    {
     "name": "stdout",
     "output_type": "stream",
     "text": [
      "[CV 5/5] END LR__C=3.684842105263158, LR__solver=saga, SCL=None;, score=0.786 total time=   0.3s\n",
      "[CV 1/5] END LR__C=4.211105263157895, LR__solver=lbfgs, SCL=MinMaxScaler();, score=0.821 total time=   0.0s\n",
      "[CV 2/5] END LR__C=4.211105263157895, LR__solver=lbfgs, SCL=MinMaxScaler();, score=0.810 total time=   0.0s\n",
      "[CV 3/5] END LR__C=4.211105263157895, LR__solver=lbfgs, SCL=MinMaxScaler();, score=0.825 total time=   0.0s\n",
      "[CV 4/5] END LR__C=4.211105263157895, LR__solver=lbfgs, SCL=MinMaxScaler();, score=0.816 total time=   0.0s\n",
      "[CV 5/5] END LR__C=4.211105263157895, LR__solver=lbfgs, SCL=MinMaxScaler();, score=0.827 total time=   0.0s\n",
      "[CV 1/5] END LR__C=4.211105263157895, LR__solver=lbfgs, SCL=StandardScaler();, score=0.821 total time=   0.0s\n",
      "[CV 2/5] END LR__C=4.211105263157895, LR__solver=lbfgs, SCL=StandardScaler();, score=0.810 total time=   0.0s\n",
      "[CV 3/5] END LR__C=4.211105263157895, LR__solver=lbfgs, SCL=StandardScaler();, score=0.825 total time=   0.0s\n",
      "[CV 4/5] END LR__C=4.211105263157895, LR__solver=lbfgs, SCL=StandardScaler();, score=0.816 total time=   0.0s\n",
      "[CV 5/5] END LR__C=4.211105263157895, LR__solver=lbfgs, SCL=StandardScaler();, score=0.827 total time=   0.0s\n",
      "[CV 1/5] END LR__C=4.211105263157895, LR__solver=lbfgs, SCL=None;, score=0.817 total time=   0.1s\n"
     ]
    },
    {
     "name": "stderr",
     "output_type": "stream",
     "text": [
      "C:\\Users\\DAI.STUDENTSDC\\AppData\\Local\\anaconda3\\Lib\\site-packages\\sklearn\\linear_model\\_logistic.py:469: ConvergenceWarning: lbfgs failed to converge (status=1):\n",
      "STOP: TOTAL NO. of ITERATIONS REACHED LIMIT.\n",
      "\n",
      "Increase the number of iterations (max_iter) or scale the data as shown in:\n",
      "    https://scikit-learn.org/stable/modules/preprocessing.html\n",
      "Please also refer to the documentation for alternative solver options:\n",
      "    https://scikit-learn.org/stable/modules/linear_model.html#logistic-regression\n",
      "  n_iter_i = _check_optimize_result(\n",
      "C:\\Users\\DAI.STUDENTSDC\\AppData\\Local\\anaconda3\\Lib\\site-packages\\sklearn\\linear_model\\_logistic.py:469: ConvergenceWarning: lbfgs failed to converge (status=1):\n",
      "STOP: TOTAL NO. of ITERATIONS REACHED LIMIT.\n",
      "\n",
      "Increase the number of iterations (max_iter) or scale the data as shown in:\n",
      "    https://scikit-learn.org/stable/modules/preprocessing.html\n",
      "Please also refer to the documentation for alternative solver options:\n",
      "    https://scikit-learn.org/stable/modules/linear_model.html#logistic-regression\n",
      "  n_iter_i = _check_optimize_result(\n"
     ]
    },
    {
     "name": "stdout",
     "output_type": "stream",
     "text": [
      "[CV 2/5] END LR__C=4.211105263157895, LR__solver=lbfgs, SCL=None;, score=0.805 total time=   0.1s\n"
     ]
    },
    {
     "name": "stderr",
     "output_type": "stream",
     "text": [
      "C:\\Users\\DAI.STUDENTSDC\\AppData\\Local\\anaconda3\\Lib\\site-packages\\sklearn\\linear_model\\_logistic.py:469: ConvergenceWarning: lbfgs failed to converge (status=1):\n",
      "STOP: TOTAL NO. of ITERATIONS REACHED LIMIT.\n",
      "\n",
      "Increase the number of iterations (max_iter) or scale the data as shown in:\n",
      "    https://scikit-learn.org/stable/modules/preprocessing.html\n",
      "Please also refer to the documentation for alternative solver options:\n",
      "    https://scikit-learn.org/stable/modules/linear_model.html#logistic-regression\n",
      "  n_iter_i = _check_optimize_result(\n",
      "C:\\Users\\DAI.STUDENTSDC\\AppData\\Local\\anaconda3\\Lib\\site-packages\\sklearn\\linear_model\\_logistic.py:469: ConvergenceWarning: lbfgs failed to converge (status=1):\n",
      "STOP: TOTAL NO. of ITERATIONS REACHED LIMIT.\n",
      "\n",
      "Increase the number of iterations (max_iter) or scale the data as shown in:\n",
      "    https://scikit-learn.org/stable/modules/preprocessing.html\n",
      "Please also refer to the documentation for alternative solver options:\n",
      "    https://scikit-learn.org/stable/modules/linear_model.html#logistic-regression\n",
      "  n_iter_i = _check_optimize_result(\n"
     ]
    },
    {
     "name": "stdout",
     "output_type": "stream",
     "text": [
      "[CV 3/5] END LR__C=4.211105263157895, LR__solver=lbfgs, SCL=None;, score=0.819 total time=   0.1s\n",
      "[CV 4/5] END LR__C=4.211105263157895, LR__solver=lbfgs, SCL=None;, score=0.813 total time=   0.1s\n"
     ]
    },
    {
     "name": "stderr",
     "output_type": "stream",
     "text": [
      "C:\\Users\\DAI.STUDENTSDC\\AppData\\Local\\anaconda3\\Lib\\site-packages\\sklearn\\linear_model\\_logistic.py:469: ConvergenceWarning: lbfgs failed to converge (status=1):\n",
      "STOP: TOTAL NO. of ITERATIONS REACHED LIMIT.\n",
      "\n",
      "Increase the number of iterations (max_iter) or scale the data as shown in:\n",
      "    https://scikit-learn.org/stable/modules/preprocessing.html\n",
      "Please also refer to the documentation for alternative solver options:\n",
      "    https://scikit-learn.org/stable/modules/linear_model.html#logistic-regression\n",
      "  n_iter_i = _check_optimize_result(\n"
     ]
    },
    {
     "name": "stdout",
     "output_type": "stream",
     "text": [
      "[CV 5/5] END LR__C=4.211105263157895, LR__solver=lbfgs, SCL=None;, score=0.822 total time=   0.1s\n",
      "[CV 1/5] END LR__C=4.211105263157895, LR__solver=liblinear, SCL=MinMaxScaler();, score=0.821 total time=   0.0s\n",
      "[CV 2/5] END LR__C=4.211105263157895, LR__solver=liblinear, SCL=MinMaxScaler();, score=0.810 total time=   0.0s\n",
      "[CV 3/5] END LR__C=4.211105263157895, LR__solver=liblinear, SCL=MinMaxScaler();, score=0.825 total time=   0.0s\n",
      "[CV 4/5] END LR__C=4.211105263157895, LR__solver=liblinear, SCL=MinMaxScaler();, score=0.816 total time=   0.0s\n",
      "[CV 5/5] END LR__C=4.211105263157895, LR__solver=liblinear, SCL=MinMaxScaler();, score=0.827 total time=   0.0s\n",
      "[CV 1/5] END LR__C=4.211105263157895, LR__solver=liblinear, SCL=StandardScaler();, score=0.821 total time=   0.0s\n",
      "[CV 2/5] END LR__C=4.211105263157895, LR__solver=liblinear, SCL=StandardScaler();, score=0.810 total time=   0.0s\n",
      "[CV 3/5] END LR__C=4.211105263157895, LR__solver=liblinear, SCL=StandardScaler();, score=0.825 total time=   0.0s\n",
      "[CV 4/5] END LR__C=4.211105263157895, LR__solver=liblinear, SCL=StandardScaler();, score=0.816 total time=   0.0s\n",
      "[CV 5/5] END LR__C=4.211105263157895, LR__solver=liblinear, SCL=StandardScaler();, score=0.827 total time=   0.0s\n",
      "[CV 1/5] END LR__C=4.211105263157895, LR__solver=liblinear, SCL=None;, score=0.821 total time=   0.0s\n",
      "[CV 2/5] END LR__C=4.211105263157895, LR__solver=liblinear, SCL=None;, score=0.810 total time=   0.0s\n",
      "[CV 3/5] END LR__C=4.211105263157895, LR__solver=liblinear, SCL=None;, score=0.825 total time=   0.0s\n",
      "[CV 4/5] END LR__C=4.211105263157895, LR__solver=liblinear, SCL=None;, score=0.817 total time=   0.0s\n",
      "[CV 5/5] END LR__C=4.211105263157895, LR__solver=liblinear, SCL=None;, score=0.827 total time=   0.0s\n",
      "[CV 1/5] END LR__C=4.211105263157895, LR__solver=newton-cg, SCL=MinMaxScaler();, score=0.821 total time=   0.0s\n",
      "[CV 2/5] END LR__C=4.211105263157895, LR__solver=newton-cg, SCL=MinMaxScaler();, score=0.810 total time=   0.0s\n",
      "[CV 3/5] END LR__C=4.211105263157895, LR__solver=newton-cg, SCL=MinMaxScaler();, score=0.825 total time=   0.0s\n",
      "[CV 4/5] END LR__C=4.211105263157895, LR__solver=newton-cg, SCL=MinMaxScaler();, score=0.816 total time=   0.0s\n",
      "[CV 5/5] END LR__C=4.211105263157895, LR__solver=newton-cg, SCL=MinMaxScaler();, score=0.827 total time=   0.0s\n",
      "[CV 1/5] END LR__C=4.211105263157895, LR__solver=newton-cg, SCL=StandardScaler();, score=0.821 total time=   0.0s\n",
      "[CV 2/5] END LR__C=4.211105263157895, LR__solver=newton-cg, SCL=StandardScaler();, score=0.810 total time=   0.0s\n",
      "[CV 3/5] END LR__C=4.211105263157895, LR__solver=newton-cg, SCL=StandardScaler();, score=0.825 total time=   0.0s\n",
      "[CV 4/5] END LR__C=4.211105263157895, LR__solver=newton-cg, SCL=StandardScaler();, score=0.816 total time=   0.0s\n",
      "[CV 5/5] END LR__C=4.211105263157895, LR__solver=newton-cg, SCL=StandardScaler();, score=0.827 total time=   0.0s\n",
      "[CV 1/5] END LR__C=4.211105263157895, LR__solver=newton-cg, SCL=None;, score=0.821 total time=   0.1s\n",
      "[CV 2/5] END LR__C=4.211105263157895, LR__solver=newton-cg, SCL=None;, score=0.810 total time=   0.2s\n",
      "[CV 3/5] END LR__C=4.211105263157895, LR__solver=newton-cg, SCL=None;, score=0.825 total time=   0.1s\n",
      "[CV 4/5] END LR__C=4.211105263157895, LR__solver=newton-cg, SCL=None;, score=0.816 total time=   0.1s\n",
      "[CV 5/5] END LR__C=4.211105263157895, LR__solver=newton-cg, SCL=None;, score=0.827 total time=   0.1s\n",
      "[CV 1/5] END LR__C=4.211105263157895, LR__solver=newton-cholesky, SCL=MinMaxScaler();, score=0.821 total time=   0.0s\n",
      "[CV 2/5] END LR__C=4.211105263157895, LR__solver=newton-cholesky, SCL=MinMaxScaler();, score=0.810 total time=   0.0s\n",
      "[CV 3/5] END LR__C=4.211105263157895, LR__solver=newton-cholesky, SCL=MinMaxScaler();, score=0.825 total time=   0.0s\n",
      "[CV 4/5] END LR__C=4.211105263157895, LR__solver=newton-cholesky, SCL=MinMaxScaler();, score=0.816 total time=   0.0s\n",
      "[CV 5/5] END LR__C=4.211105263157895, LR__solver=newton-cholesky, SCL=MinMaxScaler();, score=0.827 total time=   0.0s\n",
      "[CV 1/5] END LR__C=4.211105263157895, LR__solver=newton-cholesky, SCL=StandardScaler();, score=0.821 total time=   0.0s\n",
      "[CV 2/5] END LR__C=4.211105263157895, LR__solver=newton-cholesky, SCL=StandardScaler();, score=0.810 total time=   0.0s\n",
      "[CV 3/5] END LR__C=4.211105263157895, LR__solver=newton-cholesky, SCL=StandardScaler();, score=0.825 total time=   0.0s\n",
      "[CV 4/5] END LR__C=4.211105263157895, LR__solver=newton-cholesky, SCL=StandardScaler();, score=0.816 total time=   0.0s\n",
      "[CV 5/5] END LR__C=4.211105263157895, LR__solver=newton-cholesky, SCL=StandardScaler();, score=0.827 total time=   0.0s\n",
      "[CV 1/5] END LR__C=4.211105263157895, LR__solver=newton-cholesky, SCL=None;, score=0.821 total time=   0.0s\n",
      "[CV 2/5] END LR__C=4.211105263157895, LR__solver=newton-cholesky, SCL=None;, score=0.810 total time=   0.0s\n",
      "[CV 3/5] END LR__C=4.211105263157895, LR__solver=newton-cholesky, SCL=None;, score=0.825 total time=   0.0s\n",
      "[CV 4/5] END LR__C=4.211105263157895, LR__solver=newton-cholesky, SCL=None;, score=0.816 total time=   0.0s\n",
      "[CV 5/5] END LR__C=4.211105263157895, LR__solver=newton-cholesky, SCL=None;, score=0.827 total time=   0.0s\n",
      "[CV 1/5] END LR__C=4.211105263157895, LR__solver=sag, SCL=MinMaxScaler();, score=0.821 total time=   0.1s\n",
      "[CV 2/5] END LR__C=4.211105263157895, LR__solver=sag, SCL=MinMaxScaler();, score=0.810 total time=   0.1s\n",
      "[CV 3/5] END LR__C=4.211105263157895, LR__solver=sag, SCL=MinMaxScaler();, score=0.825 total time=   0.1s\n",
      "[CV 4/5] END LR__C=4.211105263157895, LR__solver=sag, SCL=MinMaxScaler();, score=0.816 total time=   0.1s\n",
      "[CV 5/5] END LR__C=4.211105263157895, LR__solver=sag, SCL=MinMaxScaler();, score=0.827 total time=   0.1s\n",
      "[CV 1/5] END LR__C=4.211105263157895, LR__solver=sag, SCL=StandardScaler();, score=0.821 total time=   0.1s\n",
      "[CV 2/5] END LR__C=4.211105263157895, LR__solver=sag, SCL=StandardScaler();, score=0.810 total time=   0.1s\n",
      "[CV 3/5] END LR__C=4.211105263157895, LR__solver=sag, SCL=StandardScaler();, score=0.825 total time=   0.0s\n",
      "[CV 4/5] END LR__C=4.211105263157895, LR__solver=sag, SCL=StandardScaler();, score=0.816 total time=   0.1s\n",
      "[CV 5/5] END LR__C=4.211105263157895, LR__solver=sag, SCL=StandardScaler();, score=0.827 total time=   0.1s\n"
     ]
    },
    {
     "name": "stderr",
     "output_type": "stream",
     "text": [
      "C:\\Users\\DAI.STUDENTSDC\\AppData\\Local\\anaconda3\\Lib\\site-packages\\sklearn\\linear_model\\_sag.py:349: ConvergenceWarning: The max_iter was reached which means the coef_ did not converge\n",
      "  warnings.warn(\n"
     ]
    },
    {
     "name": "stdout",
     "output_type": "stream",
     "text": [
      "[CV 1/5] END LR__C=4.211105263157895, LR__solver=sag, SCL=None;, score=0.812 total time=   0.3s\n"
     ]
    },
    {
     "name": "stderr",
     "output_type": "stream",
     "text": [
      "C:\\Users\\DAI.STUDENTSDC\\AppData\\Local\\anaconda3\\Lib\\site-packages\\sklearn\\linear_model\\_sag.py:349: ConvergenceWarning: The max_iter was reached which means the coef_ did not converge\n",
      "  warnings.warn(\n"
     ]
    },
    {
     "name": "stdout",
     "output_type": "stream",
     "text": [
      "[CV 2/5] END LR__C=4.211105263157895, LR__solver=sag, SCL=None;, score=0.792 total time=   0.3s\n"
     ]
    },
    {
     "name": "stderr",
     "output_type": "stream",
     "text": [
      "C:\\Users\\DAI.STUDENTSDC\\AppData\\Local\\anaconda3\\Lib\\site-packages\\sklearn\\linear_model\\_sag.py:349: ConvergenceWarning: The max_iter was reached which means the coef_ did not converge\n",
      "  warnings.warn(\n"
     ]
    },
    {
     "name": "stdout",
     "output_type": "stream",
     "text": [
      "[CV 3/5] END LR__C=4.211105263157895, LR__solver=sag, SCL=None;, score=0.811 total time=   0.3s\n"
     ]
    },
    {
     "name": "stderr",
     "output_type": "stream",
     "text": [
      "C:\\Users\\DAI.STUDENTSDC\\AppData\\Local\\anaconda3\\Lib\\site-packages\\sklearn\\linear_model\\_sag.py:349: ConvergenceWarning: The max_iter was reached which means the coef_ did not converge\n",
      "  warnings.warn(\n"
     ]
    },
    {
     "name": "stdout",
     "output_type": "stream",
     "text": [
      "[CV 4/5] END LR__C=4.211105263157895, LR__solver=sag, SCL=None;, score=0.807 total time=   0.3s\n"
     ]
    },
    {
     "name": "stderr",
     "output_type": "stream",
     "text": [
      "C:\\Users\\DAI.STUDENTSDC\\AppData\\Local\\anaconda3\\Lib\\site-packages\\sklearn\\linear_model\\_sag.py:349: ConvergenceWarning: The max_iter was reached which means the coef_ did not converge\n",
      "  warnings.warn(\n"
     ]
    },
    {
     "name": "stdout",
     "output_type": "stream",
     "text": [
      "[CV 5/5] END LR__C=4.211105263157895, LR__solver=sag, SCL=None;, score=0.814 total time=   0.3s\n",
      "[CV 1/5] END LR__C=4.211105263157895, LR__solver=saga, SCL=MinMaxScaler();, score=0.821 total time=   0.0s\n",
      "[CV 2/5] END LR__C=4.211105263157895, LR__solver=saga, SCL=MinMaxScaler();, score=0.810 total time=   0.0s\n",
      "[CV 3/5] END LR__C=4.211105263157895, LR__solver=saga, SCL=MinMaxScaler();, score=0.825 total time=   0.0s\n",
      "[CV 4/5] END LR__C=4.211105263157895, LR__solver=saga, SCL=MinMaxScaler();, score=0.816 total time=   0.0s\n",
      "[CV 5/5] END LR__C=4.211105263157895, LR__solver=saga, SCL=MinMaxScaler();, score=0.827 total time=   0.0s\n",
      "[CV 1/5] END LR__C=4.211105263157895, LR__solver=saga, SCL=StandardScaler();, score=0.821 total time=   0.0s\n",
      "[CV 2/5] END LR__C=4.211105263157895, LR__solver=saga, SCL=StandardScaler();, score=0.810 total time=   0.0s\n",
      "[CV 3/5] END LR__C=4.211105263157895, LR__solver=saga, SCL=StandardScaler();, score=0.825 total time=   0.0s\n",
      "[CV 4/5] END LR__C=4.211105263157895, LR__solver=saga, SCL=StandardScaler();, score=0.816 total time=   0.0s\n",
      "[CV 5/5] END LR__C=4.211105263157895, LR__solver=saga, SCL=StandardScaler();, score=0.827 total time=   0.0s\n"
     ]
    },
    {
     "name": "stderr",
     "output_type": "stream",
     "text": [
      "C:\\Users\\DAI.STUDENTSDC\\AppData\\Local\\anaconda3\\Lib\\site-packages\\sklearn\\linear_model\\_sag.py:349: ConvergenceWarning: The max_iter was reached which means the coef_ did not converge\n",
      "  warnings.warn(\n"
     ]
    },
    {
     "name": "stdout",
     "output_type": "stream",
     "text": [
      "[CV 1/5] END LR__C=4.211105263157895, LR__solver=saga, SCL=None;, score=0.784 total time=   0.4s\n"
     ]
    },
    {
     "name": "stderr",
     "output_type": "stream",
     "text": [
      "C:\\Users\\DAI.STUDENTSDC\\AppData\\Local\\anaconda3\\Lib\\site-packages\\sklearn\\linear_model\\_sag.py:349: ConvergenceWarning: The max_iter was reached which means the coef_ did not converge\n",
      "  warnings.warn(\n"
     ]
    },
    {
     "name": "stdout",
     "output_type": "stream",
     "text": [
      "[CV 2/5] END LR__C=4.211105263157895, LR__solver=saga, SCL=None;, score=0.766 total time=   0.4s\n"
     ]
    },
    {
     "name": "stderr",
     "output_type": "stream",
     "text": [
      "C:\\Users\\DAI.STUDENTSDC\\AppData\\Local\\anaconda3\\Lib\\site-packages\\sklearn\\linear_model\\_sag.py:349: ConvergenceWarning: The max_iter was reached which means the coef_ did not converge\n",
      "  warnings.warn(\n"
     ]
    },
    {
     "name": "stdout",
     "output_type": "stream",
     "text": [
      "[CV 3/5] END LR__C=4.211105263157895, LR__solver=saga, SCL=None;, score=0.787 total time=   0.3s\n"
     ]
    },
    {
     "name": "stderr",
     "output_type": "stream",
     "text": [
      "C:\\Users\\DAI.STUDENTSDC\\AppData\\Local\\anaconda3\\Lib\\site-packages\\sklearn\\linear_model\\_sag.py:349: ConvergenceWarning: The max_iter was reached which means the coef_ did not converge\n",
      "  warnings.warn(\n"
     ]
    },
    {
     "name": "stdout",
     "output_type": "stream",
     "text": [
      "[CV 4/5] END LR__C=4.211105263157895, LR__solver=saga, SCL=None;, score=0.786 total time=   0.4s\n"
     ]
    },
    {
     "name": "stderr",
     "output_type": "stream",
     "text": [
      "C:\\Users\\DAI.STUDENTSDC\\AppData\\Local\\anaconda3\\Lib\\site-packages\\sklearn\\linear_model\\_sag.py:349: ConvergenceWarning: The max_iter was reached which means the coef_ did not converge\n",
      "  warnings.warn(\n"
     ]
    },
    {
     "name": "stdout",
     "output_type": "stream",
     "text": [
      "[CV 5/5] END LR__C=4.211105263157895, LR__solver=saga, SCL=None;, score=0.786 total time=   0.4s\n",
      "[CV 1/5] END LR__C=4.737368421052632, LR__solver=lbfgs, SCL=MinMaxScaler();, score=0.821 total time=   0.0s\n",
      "[CV 2/5] END LR__C=4.737368421052632, LR__solver=lbfgs, SCL=MinMaxScaler();, score=0.810 total time=   0.0s\n",
      "[CV 3/5] END LR__C=4.737368421052632, LR__solver=lbfgs, SCL=MinMaxScaler();, score=0.825 total time=   0.0s\n",
      "[CV 4/5] END LR__C=4.737368421052632, LR__solver=lbfgs, SCL=MinMaxScaler();, score=0.816 total time=   0.0s\n",
      "[CV 5/5] END LR__C=4.737368421052632, LR__solver=lbfgs, SCL=MinMaxScaler();, score=0.827 total time=   0.0s\n",
      "[CV 1/5] END LR__C=4.737368421052632, LR__solver=lbfgs, SCL=StandardScaler();, score=0.821 total time=   0.0s\n",
      "[CV 2/5] END LR__C=4.737368421052632, LR__solver=lbfgs, SCL=StandardScaler();, score=0.810 total time=   0.0s\n",
      "[CV 3/5] END LR__C=4.737368421052632, LR__solver=lbfgs, SCL=StandardScaler();, score=0.825 total time=   0.0s\n",
      "[CV 4/5] END LR__C=4.737368421052632, LR__solver=lbfgs, SCL=StandardScaler();, score=0.816 total time=   0.0s\n",
      "[CV 5/5] END LR__C=4.737368421052632, LR__solver=lbfgs, SCL=StandardScaler();, score=0.827 total time=   0.0s\n",
      "[CV 1/5] END LR__C=4.737368421052632, LR__solver=lbfgs, SCL=None;, score=0.814 total time=   0.1s\n"
     ]
    },
    {
     "name": "stderr",
     "output_type": "stream",
     "text": [
      "C:\\Users\\DAI.STUDENTSDC\\AppData\\Local\\anaconda3\\Lib\\site-packages\\sklearn\\linear_model\\_logistic.py:469: ConvergenceWarning: lbfgs failed to converge (status=1):\n",
      "STOP: TOTAL NO. of ITERATIONS REACHED LIMIT.\n",
      "\n",
      "Increase the number of iterations (max_iter) or scale the data as shown in:\n",
      "    https://scikit-learn.org/stable/modules/preprocessing.html\n",
      "Please also refer to the documentation for alternative solver options:\n",
      "    https://scikit-learn.org/stable/modules/linear_model.html#logistic-regression\n",
      "  n_iter_i = _check_optimize_result(\n",
      "C:\\Users\\DAI.STUDENTSDC\\AppData\\Local\\anaconda3\\Lib\\site-packages\\sklearn\\linear_model\\_logistic.py:469: ConvergenceWarning: lbfgs failed to converge (status=1):\n",
      "STOP: TOTAL NO. of ITERATIONS REACHED LIMIT.\n",
      "\n",
      "Increase the number of iterations (max_iter) or scale the data as shown in:\n",
      "    https://scikit-learn.org/stable/modules/preprocessing.html\n",
      "Please also refer to the documentation for alternative solver options:\n",
      "    https://scikit-learn.org/stable/modules/linear_model.html#logistic-regression\n",
      "  n_iter_i = _check_optimize_result(\n"
     ]
    },
    {
     "name": "stdout",
     "output_type": "stream",
     "text": [
      "[CV 2/5] END LR__C=4.737368421052632, LR__solver=lbfgs, SCL=None;, score=0.805 total time=   0.1s\n",
      "[CV 3/5] END LR__C=4.737368421052632, LR__solver=lbfgs, SCL=None;, score=0.819 total time=   0.1s\n"
     ]
    },
    {
     "name": "stderr",
     "output_type": "stream",
     "text": [
      "C:\\Users\\DAI.STUDENTSDC\\AppData\\Local\\anaconda3\\Lib\\site-packages\\sklearn\\linear_model\\_logistic.py:469: ConvergenceWarning: lbfgs failed to converge (status=1):\n",
      "STOP: TOTAL NO. of ITERATIONS REACHED LIMIT.\n",
      "\n",
      "Increase the number of iterations (max_iter) or scale the data as shown in:\n",
      "    https://scikit-learn.org/stable/modules/preprocessing.html\n",
      "Please also refer to the documentation for alternative solver options:\n",
      "    https://scikit-learn.org/stable/modules/linear_model.html#logistic-regression\n",
      "  n_iter_i = _check_optimize_result(\n",
      "C:\\Users\\DAI.STUDENTSDC\\AppData\\Local\\anaconda3\\Lib\\site-packages\\sklearn\\linear_model\\_logistic.py:469: ConvergenceWarning: lbfgs failed to converge (status=1):\n",
      "STOP: TOTAL NO. of ITERATIONS REACHED LIMIT.\n",
      "\n",
      "Increase the number of iterations (max_iter) or scale the data as shown in:\n",
      "    https://scikit-learn.org/stable/modules/preprocessing.html\n",
      "Please also refer to the documentation for alternative solver options:\n",
      "    https://scikit-learn.org/stable/modules/linear_model.html#logistic-regression\n",
      "  n_iter_i = _check_optimize_result(\n"
     ]
    },
    {
     "name": "stdout",
     "output_type": "stream",
     "text": [
      "[CV 4/5] END LR__C=4.737368421052632, LR__solver=lbfgs, SCL=None;, score=0.811 total time=   0.1s\n",
      "[CV 5/5] END LR__C=4.737368421052632, LR__solver=lbfgs, SCL=None;, score=0.827 total time=   0.1s\n"
     ]
    },
    {
     "name": "stderr",
     "output_type": "stream",
     "text": [
      "C:\\Users\\DAI.STUDENTSDC\\AppData\\Local\\anaconda3\\Lib\\site-packages\\sklearn\\linear_model\\_logistic.py:469: ConvergenceWarning: lbfgs failed to converge (status=1):\n",
      "STOP: TOTAL NO. of ITERATIONS REACHED LIMIT.\n",
      "\n",
      "Increase the number of iterations (max_iter) or scale the data as shown in:\n",
      "    https://scikit-learn.org/stable/modules/preprocessing.html\n",
      "Please also refer to the documentation for alternative solver options:\n",
      "    https://scikit-learn.org/stable/modules/linear_model.html#logistic-regression\n",
      "  n_iter_i = _check_optimize_result(\n"
     ]
    },
    {
     "name": "stdout",
     "output_type": "stream",
     "text": [
      "[CV 1/5] END LR__C=4.737368421052632, LR__solver=liblinear, SCL=MinMaxScaler();, score=0.821 total time=   0.0s\n",
      "[CV 2/5] END LR__C=4.737368421052632, LR__solver=liblinear, SCL=MinMaxScaler();, score=0.810 total time=   0.0s\n",
      "[CV 3/5] END LR__C=4.737368421052632, LR__solver=liblinear, SCL=MinMaxScaler();, score=0.825 total time=   0.0s\n",
      "[CV 4/5] END LR__C=4.737368421052632, LR__solver=liblinear, SCL=MinMaxScaler();, score=0.816 total time=   0.0s\n",
      "[CV 5/5] END LR__C=4.737368421052632, LR__solver=liblinear, SCL=MinMaxScaler();, score=0.827 total time=   0.0s\n",
      "[CV 1/5] END LR__C=4.737368421052632, LR__solver=liblinear, SCL=StandardScaler();, score=0.821 total time=   0.0s\n",
      "[CV 2/5] END LR__C=4.737368421052632, LR__solver=liblinear, SCL=StandardScaler();, score=0.810 total time=   0.0s\n",
      "[CV 3/5] END LR__C=4.737368421052632, LR__solver=liblinear, SCL=StandardScaler();, score=0.825 total time=   0.0s\n",
      "[CV 4/5] END LR__C=4.737368421052632, LR__solver=liblinear, SCL=StandardScaler();, score=0.816 total time=   0.0s\n",
      "[CV 5/5] END LR__C=4.737368421052632, LR__solver=liblinear, SCL=StandardScaler();, score=0.827 total time=   0.0s\n",
      "[CV 1/5] END LR__C=4.737368421052632, LR__solver=liblinear, SCL=None;, score=0.821 total time=   0.0s\n",
      "[CV 2/5] END LR__C=4.737368421052632, LR__solver=liblinear, SCL=None;, score=0.810 total time=   0.0s\n",
      "[CV 3/5] END LR__C=4.737368421052632, LR__solver=liblinear, SCL=None;, score=0.825 total time=   0.0s\n",
      "[CV 4/5] END LR__C=4.737368421052632, LR__solver=liblinear, SCL=None;, score=0.817 total time=   0.0s\n",
      "[CV 5/5] END LR__C=4.737368421052632, LR__solver=liblinear, SCL=None;, score=0.827 total time=   0.0s\n",
      "[CV 1/5] END LR__C=4.737368421052632, LR__solver=newton-cg, SCL=MinMaxScaler();, score=0.821 total time=   0.0s\n",
      "[CV 2/5] END LR__C=4.737368421052632, LR__solver=newton-cg, SCL=MinMaxScaler();, score=0.810 total time=   0.0s\n",
      "[CV 3/5] END LR__C=4.737368421052632, LR__solver=newton-cg, SCL=MinMaxScaler();, score=0.825 total time=   0.0s\n",
      "[CV 4/5] END LR__C=4.737368421052632, LR__solver=newton-cg, SCL=MinMaxScaler();, score=0.816 total time=   0.0s\n",
      "[CV 5/5] END LR__C=4.737368421052632, LR__solver=newton-cg, SCL=MinMaxScaler();, score=0.827 total time=   0.0s\n",
      "[CV 1/5] END LR__C=4.737368421052632, LR__solver=newton-cg, SCL=StandardScaler();, score=0.821 total time=   0.0s\n",
      "[CV 2/5] END LR__C=4.737368421052632, LR__solver=newton-cg, SCL=StandardScaler();, score=0.810 total time=   0.0s\n",
      "[CV 3/5] END LR__C=4.737368421052632, LR__solver=newton-cg, SCL=StandardScaler();, score=0.825 total time=   0.0s\n",
      "[CV 4/5] END LR__C=4.737368421052632, LR__solver=newton-cg, SCL=StandardScaler();, score=0.816 total time=   0.0s\n",
      "[CV 5/5] END LR__C=4.737368421052632, LR__solver=newton-cg, SCL=StandardScaler();, score=0.827 total time=   0.0s\n",
      "[CV 1/5] END LR__C=4.737368421052632, LR__solver=newton-cg, SCL=None;, score=0.821 total time=   0.2s\n",
      "[CV 2/5] END LR__C=4.737368421052632, LR__solver=newton-cg, SCL=None;, score=0.810 total time=   0.1s\n",
      "[CV 3/5] END LR__C=4.737368421052632, LR__solver=newton-cg, SCL=None;, score=0.825 total time=   0.1s\n",
      "[CV 4/5] END LR__C=4.737368421052632, LR__solver=newton-cg, SCL=None;, score=0.816 total time=   0.1s\n",
      "[CV 5/5] END LR__C=4.737368421052632, LR__solver=newton-cg, SCL=None;, score=0.827 total time=   0.1s\n",
      "[CV 1/5] END LR__C=4.737368421052632, LR__solver=newton-cholesky, SCL=MinMaxScaler();, score=0.821 total time=   0.0s\n",
      "[CV 2/5] END LR__C=4.737368421052632, LR__solver=newton-cholesky, SCL=MinMaxScaler();, score=0.810 total time=   0.0s\n",
      "[CV 3/5] END LR__C=4.737368421052632, LR__solver=newton-cholesky, SCL=MinMaxScaler();, score=0.825 total time=   0.0s\n",
      "[CV 4/5] END LR__C=4.737368421052632, LR__solver=newton-cholesky, SCL=MinMaxScaler();, score=0.816 total time=   0.0s\n",
      "[CV 5/5] END LR__C=4.737368421052632, LR__solver=newton-cholesky, SCL=MinMaxScaler();, score=0.827 total time=   0.0s\n",
      "[CV 1/5] END LR__C=4.737368421052632, LR__solver=newton-cholesky, SCL=StandardScaler();, score=0.821 total time=   0.0s\n",
      "[CV 2/5] END LR__C=4.737368421052632, LR__solver=newton-cholesky, SCL=StandardScaler();, score=0.810 total time=   0.0s\n",
      "[CV 3/5] END LR__C=4.737368421052632, LR__solver=newton-cholesky, SCL=StandardScaler();, score=0.825 total time=   0.0s\n",
      "[CV 4/5] END LR__C=4.737368421052632, LR__solver=newton-cholesky, SCL=StandardScaler();, score=0.816 total time=   0.0s\n",
      "[CV 5/5] END LR__C=4.737368421052632, LR__solver=newton-cholesky, SCL=StandardScaler();, score=0.827 total time=   0.0s\n",
      "[CV 1/5] END LR__C=4.737368421052632, LR__solver=newton-cholesky, SCL=None;, score=0.821 total time=   0.0s\n",
      "[CV 2/5] END LR__C=4.737368421052632, LR__solver=newton-cholesky, SCL=None;, score=0.810 total time=   0.0s\n",
      "[CV 3/5] END LR__C=4.737368421052632, LR__solver=newton-cholesky, SCL=None;, score=0.825 total time=   0.0s\n",
      "[CV 4/5] END LR__C=4.737368421052632, LR__solver=newton-cholesky, SCL=None;, score=0.816 total time=   0.0s\n",
      "[CV 5/5] END LR__C=4.737368421052632, LR__solver=newton-cholesky, SCL=None;, score=0.827 total time=   0.0s\n",
      "[CV 1/5] END LR__C=4.737368421052632, LR__solver=sag, SCL=MinMaxScaler();, score=0.821 total time=   0.1s\n",
      "[CV 2/5] END LR__C=4.737368421052632, LR__solver=sag, SCL=MinMaxScaler();, score=0.810 total time=   0.1s\n",
      "[CV 3/5] END LR__C=4.737368421052632, LR__solver=sag, SCL=MinMaxScaler();, score=0.825 total time=   0.1s\n",
      "[CV 4/5] END LR__C=4.737368421052632, LR__solver=sag, SCL=MinMaxScaler();, score=0.816 total time=   0.1s\n",
      "[CV 5/5] END LR__C=4.737368421052632, LR__solver=sag, SCL=MinMaxScaler();, score=0.827 total time=   0.1s\n",
      "[CV 1/5] END LR__C=4.737368421052632, LR__solver=sag, SCL=StandardScaler();, score=0.821 total time=   0.1s\n",
      "[CV 2/5] END LR__C=4.737368421052632, LR__solver=sag, SCL=StandardScaler();, score=0.810 total time=   0.1s\n",
      "[CV 3/5] END LR__C=4.737368421052632, LR__solver=sag, SCL=StandardScaler();, score=0.825 total time=   0.0s\n",
      "[CV 4/5] END LR__C=4.737368421052632, LR__solver=sag, SCL=StandardScaler();, score=0.816 total time=   0.1s\n",
      "[CV 5/5] END LR__C=4.737368421052632, LR__solver=sag, SCL=StandardScaler();, score=0.827 total time=   0.1s\n"
     ]
    },
    {
     "name": "stderr",
     "output_type": "stream",
     "text": [
      "C:\\Users\\DAI.STUDENTSDC\\AppData\\Local\\anaconda3\\Lib\\site-packages\\sklearn\\linear_model\\_sag.py:349: ConvergenceWarning: The max_iter was reached which means the coef_ did not converge\n",
      "  warnings.warn(\n"
     ]
    },
    {
     "name": "stdout",
     "output_type": "stream",
     "text": [
      "[CV 1/5] END LR__C=4.737368421052632, LR__solver=sag, SCL=None;, score=0.812 total time=   0.3s\n"
     ]
    },
    {
     "name": "stderr",
     "output_type": "stream",
     "text": [
      "C:\\Users\\DAI.STUDENTSDC\\AppData\\Local\\anaconda3\\Lib\\site-packages\\sklearn\\linear_model\\_sag.py:349: ConvergenceWarning: The max_iter was reached which means the coef_ did not converge\n",
      "  warnings.warn(\n"
     ]
    },
    {
     "name": "stdout",
     "output_type": "stream",
     "text": [
      "[CV 2/5] END LR__C=4.737368421052632, LR__solver=sag, SCL=None;, score=0.792 total time=   0.4s\n"
     ]
    },
    {
     "name": "stderr",
     "output_type": "stream",
     "text": [
      "C:\\Users\\DAI.STUDENTSDC\\AppData\\Local\\anaconda3\\Lib\\site-packages\\sklearn\\linear_model\\_sag.py:349: ConvergenceWarning: The max_iter was reached which means the coef_ did not converge\n",
      "  warnings.warn(\n"
     ]
    },
    {
     "name": "stdout",
     "output_type": "stream",
     "text": [
      "[CV 3/5] END LR__C=4.737368421052632, LR__solver=sag, SCL=None;, score=0.811 total time=   0.4s\n"
     ]
    },
    {
     "name": "stderr",
     "output_type": "stream",
     "text": [
      "C:\\Users\\DAI.STUDENTSDC\\AppData\\Local\\anaconda3\\Lib\\site-packages\\sklearn\\linear_model\\_sag.py:349: ConvergenceWarning: The max_iter was reached which means the coef_ did not converge\n",
      "  warnings.warn(\n"
     ]
    },
    {
     "name": "stdout",
     "output_type": "stream",
     "text": [
      "[CV 4/5] END LR__C=4.737368421052632, LR__solver=sag, SCL=None;, score=0.807 total time=   0.3s\n"
     ]
    },
    {
     "name": "stderr",
     "output_type": "stream",
     "text": [
      "C:\\Users\\DAI.STUDENTSDC\\AppData\\Local\\anaconda3\\Lib\\site-packages\\sklearn\\linear_model\\_sag.py:349: ConvergenceWarning: The max_iter was reached which means the coef_ did not converge\n",
      "  warnings.warn(\n"
     ]
    },
    {
     "name": "stdout",
     "output_type": "stream",
     "text": [
      "[CV 5/5] END LR__C=4.737368421052632, LR__solver=sag, SCL=None;, score=0.814 total time=   0.4s\n",
      "[CV 1/5] END LR__C=4.737368421052632, LR__solver=saga, SCL=MinMaxScaler();, score=0.821 total time=   0.0s\n",
      "[CV 2/5] END LR__C=4.737368421052632, LR__solver=saga, SCL=MinMaxScaler();, score=0.810 total time=   0.0s\n",
      "[CV 3/5] END LR__C=4.737368421052632, LR__solver=saga, SCL=MinMaxScaler();, score=0.825 total time=   0.0s\n",
      "[CV 4/5] END LR__C=4.737368421052632, LR__solver=saga, SCL=MinMaxScaler();, score=0.816 total time=   0.0s\n",
      "[CV 5/5] END LR__C=4.737368421052632, LR__solver=saga, SCL=MinMaxScaler();, score=0.827 total time=   0.0s\n",
      "[CV 1/5] END LR__C=4.737368421052632, LR__solver=saga, SCL=StandardScaler();, score=0.821 total time=   0.0s\n",
      "[CV 2/5] END LR__C=4.737368421052632, LR__solver=saga, SCL=StandardScaler();, score=0.810 total time=   0.0s\n",
      "[CV 3/5] END LR__C=4.737368421052632, LR__solver=saga, SCL=StandardScaler();, score=0.825 total time=   0.0s\n",
      "[CV 4/5] END LR__C=4.737368421052632, LR__solver=saga, SCL=StandardScaler();, score=0.816 total time=   0.0s\n",
      "[CV 5/5] END LR__C=4.737368421052632, LR__solver=saga, SCL=StandardScaler();, score=0.827 total time=   0.0s\n"
     ]
    },
    {
     "name": "stderr",
     "output_type": "stream",
     "text": [
      "C:\\Users\\DAI.STUDENTSDC\\AppData\\Local\\anaconda3\\Lib\\site-packages\\sklearn\\linear_model\\_sag.py:349: ConvergenceWarning: The max_iter was reached which means the coef_ did not converge\n",
      "  warnings.warn(\n"
     ]
    },
    {
     "name": "stdout",
     "output_type": "stream",
     "text": [
      "[CV 1/5] END LR__C=4.737368421052632, LR__solver=saga, SCL=None;, score=0.784 total time=   0.4s\n"
     ]
    },
    {
     "name": "stderr",
     "output_type": "stream",
     "text": [
      "C:\\Users\\DAI.STUDENTSDC\\AppData\\Local\\anaconda3\\Lib\\site-packages\\sklearn\\linear_model\\_sag.py:349: ConvergenceWarning: The max_iter was reached which means the coef_ did not converge\n",
      "  warnings.warn(\n"
     ]
    },
    {
     "name": "stdout",
     "output_type": "stream",
     "text": [
      "[CV 2/5] END LR__C=4.737368421052632, LR__solver=saga, SCL=None;, score=0.766 total time=   0.4s\n"
     ]
    },
    {
     "name": "stderr",
     "output_type": "stream",
     "text": [
      "C:\\Users\\DAI.STUDENTSDC\\AppData\\Local\\anaconda3\\Lib\\site-packages\\sklearn\\linear_model\\_sag.py:349: ConvergenceWarning: The max_iter was reached which means the coef_ did not converge\n",
      "  warnings.warn(\n"
     ]
    },
    {
     "name": "stdout",
     "output_type": "stream",
     "text": [
      "[CV 3/5] END LR__C=4.737368421052632, LR__solver=saga, SCL=None;, score=0.787 total time=   0.3s\n"
     ]
    },
    {
     "name": "stderr",
     "output_type": "stream",
     "text": [
      "C:\\Users\\DAI.STUDENTSDC\\AppData\\Local\\anaconda3\\Lib\\site-packages\\sklearn\\linear_model\\_sag.py:349: ConvergenceWarning: The max_iter was reached which means the coef_ did not converge\n",
      "  warnings.warn(\n"
     ]
    },
    {
     "name": "stdout",
     "output_type": "stream",
     "text": [
      "[CV 4/5] END LR__C=4.737368421052632, LR__solver=saga, SCL=None;, score=0.786 total time=   0.3s\n"
     ]
    },
    {
     "name": "stderr",
     "output_type": "stream",
     "text": [
      "C:\\Users\\DAI.STUDENTSDC\\AppData\\Local\\anaconda3\\Lib\\site-packages\\sklearn\\linear_model\\_sag.py:349: ConvergenceWarning: The max_iter was reached which means the coef_ did not converge\n",
      "  warnings.warn(\n"
     ]
    },
    {
     "name": "stdout",
     "output_type": "stream",
     "text": [
      "[CV 5/5] END LR__C=4.737368421052632, LR__solver=saga, SCL=None;, score=0.786 total time=   0.3s\n",
      "[CV 1/5] END LR__C=5.263631578947369, LR__solver=lbfgs, SCL=MinMaxScaler();, score=0.821 total time=   0.0s\n",
      "[CV 2/5] END LR__C=5.263631578947369, LR__solver=lbfgs, SCL=MinMaxScaler();, score=0.810 total time=   0.0s\n",
      "[CV 3/5] END LR__C=5.263631578947369, LR__solver=lbfgs, SCL=MinMaxScaler();, score=0.825 total time=   0.0s\n",
      "[CV 4/5] END LR__C=5.263631578947369, LR__solver=lbfgs, SCL=MinMaxScaler();, score=0.816 total time=   0.0s\n",
      "[CV 5/5] END LR__C=5.263631578947369, LR__solver=lbfgs, SCL=MinMaxScaler();, score=0.827 total time=   0.0s\n",
      "[CV 1/5] END LR__C=5.263631578947369, LR__solver=lbfgs, SCL=StandardScaler();, score=0.821 total time=   0.0s\n",
      "[CV 2/5] END LR__C=5.263631578947369, LR__solver=lbfgs, SCL=StandardScaler();, score=0.810 total time=   0.0s\n",
      "[CV 3/5] END LR__C=5.263631578947369, LR__solver=lbfgs, SCL=StandardScaler();, score=0.825 total time=   0.0s\n",
      "[CV 4/5] END LR__C=5.263631578947369, LR__solver=lbfgs, SCL=StandardScaler();, score=0.816 total time=   0.0s\n",
      "[CV 5/5] END LR__C=5.263631578947369, LR__solver=lbfgs, SCL=StandardScaler();, score=0.827 total time=   0.0s\n",
      "[CV 1/5] END LR__C=5.263631578947369, LR__solver=lbfgs, SCL=None;, score=0.819 total time=   0.1s\n"
     ]
    },
    {
     "name": "stderr",
     "output_type": "stream",
     "text": [
      "C:\\Users\\DAI.STUDENTSDC\\AppData\\Local\\anaconda3\\Lib\\site-packages\\sklearn\\linear_model\\_logistic.py:469: ConvergenceWarning: lbfgs failed to converge (status=1):\n",
      "STOP: TOTAL NO. of ITERATIONS REACHED LIMIT.\n",
      "\n",
      "Increase the number of iterations (max_iter) or scale the data as shown in:\n",
      "    https://scikit-learn.org/stable/modules/preprocessing.html\n",
      "Please also refer to the documentation for alternative solver options:\n",
      "    https://scikit-learn.org/stable/modules/linear_model.html#logistic-regression\n",
      "  n_iter_i = _check_optimize_result(\n",
      "C:\\Users\\DAI.STUDENTSDC\\AppData\\Local\\anaconda3\\Lib\\site-packages\\sklearn\\linear_model\\_logistic.py:469: ConvergenceWarning: lbfgs failed to converge (status=1):\n",
      "STOP: TOTAL NO. of ITERATIONS REACHED LIMIT.\n",
      "\n",
      "Increase the number of iterations (max_iter) or scale the data as shown in:\n",
      "    https://scikit-learn.org/stable/modules/preprocessing.html\n",
      "Please also refer to the documentation for alternative solver options:\n",
      "    https://scikit-learn.org/stable/modules/linear_model.html#logistic-regression\n",
      "  n_iter_i = _check_optimize_result(\n"
     ]
    },
    {
     "name": "stdout",
     "output_type": "stream",
     "text": [
      "[CV 2/5] END LR__C=5.263631578947369, LR__solver=lbfgs, SCL=None;, score=0.807 total time=   0.1s\n",
      "[CV 3/5] END LR__C=5.263631578947369, LR__solver=lbfgs, SCL=None;, score=0.819 total time=   0.1s\n"
     ]
    },
    {
     "name": "stderr",
     "output_type": "stream",
     "text": [
      "C:\\Users\\DAI.STUDENTSDC\\AppData\\Local\\anaconda3\\Lib\\site-packages\\sklearn\\linear_model\\_logistic.py:469: ConvergenceWarning: lbfgs failed to converge (status=1):\n",
      "STOP: TOTAL NO. of ITERATIONS REACHED LIMIT.\n",
      "\n",
      "Increase the number of iterations (max_iter) or scale the data as shown in:\n",
      "    https://scikit-learn.org/stable/modules/preprocessing.html\n",
      "Please also refer to the documentation for alternative solver options:\n",
      "    https://scikit-learn.org/stable/modules/linear_model.html#logistic-regression\n",
      "  n_iter_i = _check_optimize_result(\n",
      "C:\\Users\\DAI.STUDENTSDC\\AppData\\Local\\anaconda3\\Lib\\site-packages\\sklearn\\linear_model\\_logistic.py:469: ConvergenceWarning: lbfgs failed to converge (status=1):\n",
      "STOP: TOTAL NO. of ITERATIONS REACHED LIMIT.\n",
      "\n",
      "Increase the number of iterations (max_iter) or scale the data as shown in:\n",
      "    https://scikit-learn.org/stable/modules/preprocessing.html\n",
      "Please also refer to the documentation for alternative solver options:\n",
      "    https://scikit-learn.org/stable/modules/linear_model.html#logistic-regression\n",
      "  n_iter_i = _check_optimize_result(\n"
     ]
    },
    {
     "name": "stdout",
     "output_type": "stream",
     "text": [
      "[CV 4/5] END LR__C=5.263631578947369, LR__solver=lbfgs, SCL=None;, score=0.812 total time=   0.1s\n"
     ]
    },
    {
     "name": "stderr",
     "output_type": "stream",
     "text": [
      "C:\\Users\\DAI.STUDENTSDC\\AppData\\Local\\anaconda3\\Lib\\site-packages\\sklearn\\linear_model\\_logistic.py:469: ConvergenceWarning: lbfgs failed to converge (status=1):\n",
      "STOP: TOTAL NO. of ITERATIONS REACHED LIMIT.\n",
      "\n",
      "Increase the number of iterations (max_iter) or scale the data as shown in:\n",
      "    https://scikit-learn.org/stable/modules/preprocessing.html\n",
      "Please also refer to the documentation for alternative solver options:\n",
      "    https://scikit-learn.org/stable/modules/linear_model.html#logistic-regression\n",
      "  n_iter_i = _check_optimize_result(\n"
     ]
    },
    {
     "name": "stdout",
     "output_type": "stream",
     "text": [
      "[CV 5/5] END LR__C=5.263631578947369, LR__solver=lbfgs, SCL=None;, score=0.824 total time=   0.1s\n",
      "[CV 1/5] END LR__C=5.263631578947369, LR__solver=liblinear, SCL=MinMaxScaler();, score=0.821 total time=   0.0s\n",
      "[CV 2/5] END LR__C=5.263631578947369, LR__solver=liblinear, SCL=MinMaxScaler();, score=0.810 total time=   0.0s\n",
      "[CV 3/5] END LR__C=5.263631578947369, LR__solver=liblinear, SCL=MinMaxScaler();, score=0.825 total time=   0.0s\n",
      "[CV 4/5] END LR__C=5.263631578947369, LR__solver=liblinear, SCL=MinMaxScaler();, score=0.816 total time=   0.0s\n",
      "[CV 5/5] END LR__C=5.263631578947369, LR__solver=liblinear, SCL=MinMaxScaler();, score=0.827 total time=   0.0s\n",
      "[CV 1/5] END LR__C=5.263631578947369, LR__solver=liblinear, SCL=StandardScaler();, score=0.821 total time=   0.0s\n",
      "[CV 2/5] END LR__C=5.263631578947369, LR__solver=liblinear, SCL=StandardScaler();, score=0.810 total time=   0.0s\n",
      "[CV 3/5] END LR__C=5.263631578947369, LR__solver=liblinear, SCL=StandardScaler();, score=0.825 total time=   0.0s\n",
      "[CV 4/5] END LR__C=5.263631578947369, LR__solver=liblinear, SCL=StandardScaler();, score=0.816 total time=   0.0s\n",
      "[CV 5/5] END LR__C=5.263631578947369, LR__solver=liblinear, SCL=StandardScaler();, score=0.827 total time=   0.0s\n",
      "[CV 1/5] END LR__C=5.263631578947369, LR__solver=liblinear, SCL=None;, score=0.821 total time=   0.0s\n",
      "[CV 2/5] END LR__C=5.263631578947369, LR__solver=liblinear, SCL=None;, score=0.810 total time=   0.0s\n",
      "[CV 3/5] END LR__C=5.263631578947369, LR__solver=liblinear, SCL=None;, score=0.825 total time=   0.0s\n",
      "[CV 4/5] END LR__C=5.263631578947369, LR__solver=liblinear, SCL=None;, score=0.817 total time=   0.0s\n",
      "[CV 5/5] END LR__C=5.263631578947369, LR__solver=liblinear, SCL=None;, score=0.827 total time=   0.0s\n",
      "[CV 1/5] END LR__C=5.263631578947369, LR__solver=newton-cg, SCL=MinMaxScaler();, score=0.821 total time=   0.0s\n",
      "[CV 2/5] END LR__C=5.263631578947369, LR__solver=newton-cg, SCL=MinMaxScaler();, score=0.810 total time=   0.0s\n",
      "[CV 3/5] END LR__C=5.263631578947369, LR__solver=newton-cg, SCL=MinMaxScaler();, score=0.825 total time=   0.0s\n",
      "[CV 4/5] END LR__C=5.263631578947369, LR__solver=newton-cg, SCL=MinMaxScaler();, score=0.816 total time=   0.0s\n",
      "[CV 5/5] END LR__C=5.263631578947369, LR__solver=newton-cg, SCL=MinMaxScaler();, score=0.827 total time=   0.0s\n",
      "[CV 1/5] END LR__C=5.263631578947369, LR__solver=newton-cg, SCL=StandardScaler();, score=0.821 total time=   0.0s\n",
      "[CV 2/5] END LR__C=5.263631578947369, LR__solver=newton-cg, SCL=StandardScaler();, score=0.810 total time=   0.0s\n",
      "[CV 3/5] END LR__C=5.263631578947369, LR__solver=newton-cg, SCL=StandardScaler();, score=0.825 total time=   0.0s\n",
      "[CV 4/5] END LR__C=5.263631578947369, LR__solver=newton-cg, SCL=StandardScaler();, score=0.816 total time=   0.0s\n",
      "[CV 5/5] END LR__C=5.263631578947369, LR__solver=newton-cg, SCL=StandardScaler();, score=0.827 total time=   0.0s\n",
      "[CV 1/5] END LR__C=5.263631578947369, LR__solver=newton-cg, SCL=None;, score=0.821 total time=   0.1s\n",
      "[CV 2/5] END LR__C=5.263631578947369, LR__solver=newton-cg, SCL=None;, score=0.810 total time=   0.1s\n",
      "[CV 3/5] END LR__C=5.263631578947369, LR__solver=newton-cg, SCL=None;, score=0.825 total time=   0.1s\n",
      "[CV 4/5] END LR__C=5.263631578947369, LR__solver=newton-cg, SCL=None;, score=0.816 total time=   0.1s\n",
      "[CV 5/5] END LR__C=5.263631578947369, LR__solver=newton-cg, SCL=None;, score=0.827 total time=   0.1s\n",
      "[CV 1/5] END LR__C=5.263631578947369, LR__solver=newton-cholesky, SCL=MinMaxScaler();, score=0.821 total time=   0.0s\n",
      "[CV 2/5] END LR__C=5.263631578947369, LR__solver=newton-cholesky, SCL=MinMaxScaler();, score=0.810 total time=   0.0s\n",
      "[CV 3/5] END LR__C=5.263631578947369, LR__solver=newton-cholesky, SCL=MinMaxScaler();, score=0.825 total time=   0.0s\n",
      "[CV 4/5] END LR__C=5.263631578947369, LR__solver=newton-cholesky, SCL=MinMaxScaler();, score=0.816 total time=   0.0s\n",
      "[CV 5/5] END LR__C=5.263631578947369, LR__solver=newton-cholesky, SCL=MinMaxScaler();, score=0.827 total time=   0.0s\n",
      "[CV 1/5] END LR__C=5.263631578947369, LR__solver=newton-cholesky, SCL=StandardScaler();, score=0.821 total time=   0.0s\n",
      "[CV 2/5] END LR__C=5.263631578947369, LR__solver=newton-cholesky, SCL=StandardScaler();, score=0.810 total time=   0.0s\n",
      "[CV 3/5] END LR__C=5.263631578947369, LR__solver=newton-cholesky, SCL=StandardScaler();, score=0.825 total time=   0.0s\n",
      "[CV 4/5] END LR__C=5.263631578947369, LR__solver=newton-cholesky, SCL=StandardScaler();, score=0.816 total time=   0.0s\n",
      "[CV 5/5] END LR__C=5.263631578947369, LR__solver=newton-cholesky, SCL=StandardScaler();, score=0.827 total time=   0.0s\n",
      "[CV 1/5] END LR__C=5.263631578947369, LR__solver=newton-cholesky, SCL=None;, score=0.821 total time=   0.0s\n",
      "[CV 2/5] END LR__C=5.263631578947369, LR__solver=newton-cholesky, SCL=None;, score=0.810 total time=   0.0s\n",
      "[CV 3/5] END LR__C=5.263631578947369, LR__solver=newton-cholesky, SCL=None;, score=0.825 total time=   0.0s\n",
      "[CV 4/5] END LR__C=5.263631578947369, LR__solver=newton-cholesky, SCL=None;, score=0.816 total time=   0.0s\n",
      "[CV 5/5] END LR__C=5.263631578947369, LR__solver=newton-cholesky, SCL=None;, score=0.827 total time=   0.0s\n",
      "[CV 1/5] END LR__C=5.263631578947369, LR__solver=sag, SCL=MinMaxScaler();, score=0.821 total time=   0.1s\n",
      "[CV 2/5] END LR__C=5.263631578947369, LR__solver=sag, SCL=MinMaxScaler();, score=0.810 total time=   0.1s\n",
      "[CV 3/5] END LR__C=5.263631578947369, LR__solver=sag, SCL=MinMaxScaler();, score=0.825 total time=   0.1s\n",
      "[CV 4/5] END LR__C=5.263631578947369, LR__solver=sag, SCL=MinMaxScaler();, score=0.816 total time=   0.1s\n",
      "[CV 5/5] END LR__C=5.263631578947369, LR__solver=sag, SCL=MinMaxScaler();, score=0.827 total time=   0.1s\n",
      "[CV 1/5] END LR__C=5.263631578947369, LR__solver=sag, SCL=StandardScaler();, score=0.821 total time=   0.1s\n",
      "[CV 2/5] END LR__C=5.263631578947369, LR__solver=sag, SCL=StandardScaler();, score=0.810 total time=   0.1s\n",
      "[CV 3/5] END LR__C=5.263631578947369, LR__solver=sag, SCL=StandardScaler();, score=0.825 total time=   0.0s\n",
      "[CV 4/5] END LR__C=5.263631578947369, LR__solver=sag, SCL=StandardScaler();, score=0.816 total time=   0.0s\n",
      "[CV 5/5] END LR__C=5.263631578947369, LR__solver=sag, SCL=StandardScaler();, score=0.827 total time=   0.1s\n"
     ]
    },
    {
     "name": "stderr",
     "output_type": "stream",
     "text": [
      "C:\\Users\\DAI.STUDENTSDC\\AppData\\Local\\anaconda3\\Lib\\site-packages\\sklearn\\linear_model\\_sag.py:349: ConvergenceWarning: The max_iter was reached which means the coef_ did not converge\n",
      "  warnings.warn(\n"
     ]
    },
    {
     "name": "stdout",
     "output_type": "stream",
     "text": [
      "[CV 1/5] END LR__C=5.263631578947369, LR__solver=sag, SCL=None;, score=0.812 total time=   0.3s\n"
     ]
    },
    {
     "name": "stderr",
     "output_type": "stream",
     "text": [
      "C:\\Users\\DAI.STUDENTSDC\\AppData\\Local\\anaconda3\\Lib\\site-packages\\sklearn\\linear_model\\_sag.py:349: ConvergenceWarning: The max_iter was reached which means the coef_ did not converge\n",
      "  warnings.warn(\n"
     ]
    },
    {
     "name": "stdout",
     "output_type": "stream",
     "text": [
      "[CV 2/5] END LR__C=5.263631578947369, LR__solver=sag, SCL=None;, score=0.792 total time=   0.4s\n"
     ]
    },
    {
     "name": "stderr",
     "output_type": "stream",
     "text": [
      "C:\\Users\\DAI.STUDENTSDC\\AppData\\Local\\anaconda3\\Lib\\site-packages\\sklearn\\linear_model\\_sag.py:349: ConvergenceWarning: The max_iter was reached which means the coef_ did not converge\n",
      "  warnings.warn(\n"
     ]
    },
    {
     "name": "stdout",
     "output_type": "stream",
     "text": [
      "[CV 3/5] END LR__C=5.263631578947369, LR__solver=sag, SCL=None;, score=0.811 total time=   0.3s\n"
     ]
    },
    {
     "name": "stderr",
     "output_type": "stream",
     "text": [
      "C:\\Users\\DAI.STUDENTSDC\\AppData\\Local\\anaconda3\\Lib\\site-packages\\sklearn\\linear_model\\_sag.py:349: ConvergenceWarning: The max_iter was reached which means the coef_ did not converge\n",
      "  warnings.warn(\n"
     ]
    },
    {
     "name": "stdout",
     "output_type": "stream",
     "text": [
      "[CV 4/5] END LR__C=5.263631578947369, LR__solver=sag, SCL=None;, score=0.807 total time=   0.3s\n"
     ]
    },
    {
     "name": "stderr",
     "output_type": "stream",
     "text": [
      "C:\\Users\\DAI.STUDENTSDC\\AppData\\Local\\anaconda3\\Lib\\site-packages\\sklearn\\linear_model\\_sag.py:349: ConvergenceWarning: The max_iter was reached which means the coef_ did not converge\n",
      "  warnings.warn(\n"
     ]
    },
    {
     "name": "stdout",
     "output_type": "stream",
     "text": [
      "[CV 5/5] END LR__C=5.263631578947369, LR__solver=sag, SCL=None;, score=0.814 total time=   0.3s\n",
      "[CV 1/5] END LR__C=5.263631578947369, LR__solver=saga, SCL=MinMaxScaler();, score=0.821 total time=   0.0s\n",
      "[CV 2/5] END LR__C=5.263631578947369, LR__solver=saga, SCL=MinMaxScaler();, score=0.810 total time=   0.0s\n",
      "[CV 3/5] END LR__C=5.263631578947369, LR__solver=saga, SCL=MinMaxScaler();, score=0.825 total time=   0.0s\n",
      "[CV 4/5] END LR__C=5.263631578947369, LR__solver=saga, SCL=MinMaxScaler();, score=0.816 total time=   0.0s\n",
      "[CV 5/5] END LR__C=5.263631578947369, LR__solver=saga, SCL=MinMaxScaler();, score=0.827 total time=   0.0s\n",
      "[CV 1/5] END LR__C=5.263631578947369, LR__solver=saga, SCL=StandardScaler();, score=0.821 total time=   0.0s\n",
      "[CV 2/5] END LR__C=5.263631578947369, LR__solver=saga, SCL=StandardScaler();, score=0.810 total time=   0.0s\n",
      "[CV 3/5] END LR__C=5.263631578947369, LR__solver=saga, SCL=StandardScaler();, score=0.825 total time=   0.0s\n",
      "[CV 4/5] END LR__C=5.263631578947369, LR__solver=saga, SCL=StandardScaler();, score=0.816 total time=   0.0s\n",
      "[CV 5/5] END LR__C=5.263631578947369, LR__solver=saga, SCL=StandardScaler();, score=0.827 total time=   0.0s\n"
     ]
    },
    {
     "name": "stderr",
     "output_type": "stream",
     "text": [
      "C:\\Users\\DAI.STUDENTSDC\\AppData\\Local\\anaconda3\\Lib\\site-packages\\sklearn\\linear_model\\_sag.py:349: ConvergenceWarning: The max_iter was reached which means the coef_ did not converge\n",
      "  warnings.warn(\n"
     ]
    },
    {
     "name": "stdout",
     "output_type": "stream",
     "text": [
      "[CV 1/5] END LR__C=5.263631578947369, LR__solver=saga, SCL=None;, score=0.784 total time=   0.4s\n"
     ]
    },
    {
     "name": "stderr",
     "output_type": "stream",
     "text": [
      "C:\\Users\\DAI.STUDENTSDC\\AppData\\Local\\anaconda3\\Lib\\site-packages\\sklearn\\linear_model\\_sag.py:349: ConvergenceWarning: The max_iter was reached which means the coef_ did not converge\n",
      "  warnings.warn(\n"
     ]
    },
    {
     "name": "stdout",
     "output_type": "stream",
     "text": [
      "[CV 2/5] END LR__C=5.263631578947369, LR__solver=saga, SCL=None;, score=0.766 total time=   0.3s\n"
     ]
    },
    {
     "name": "stderr",
     "output_type": "stream",
     "text": [
      "C:\\Users\\DAI.STUDENTSDC\\AppData\\Local\\anaconda3\\Lib\\site-packages\\sklearn\\linear_model\\_sag.py:349: ConvergenceWarning: The max_iter was reached which means the coef_ did not converge\n",
      "  warnings.warn(\n"
     ]
    },
    {
     "name": "stdout",
     "output_type": "stream",
     "text": [
      "[CV 3/5] END LR__C=5.263631578947369, LR__solver=saga, SCL=None;, score=0.787 total time=   0.4s\n"
     ]
    },
    {
     "name": "stderr",
     "output_type": "stream",
     "text": [
      "C:\\Users\\DAI.STUDENTSDC\\AppData\\Local\\anaconda3\\Lib\\site-packages\\sklearn\\linear_model\\_sag.py:349: ConvergenceWarning: The max_iter was reached which means the coef_ did not converge\n",
      "  warnings.warn(\n"
     ]
    },
    {
     "name": "stdout",
     "output_type": "stream",
     "text": [
      "[CV 4/5] END LR__C=5.263631578947369, LR__solver=saga, SCL=None;, score=0.786 total time=   0.4s\n"
     ]
    },
    {
     "name": "stderr",
     "output_type": "stream",
     "text": [
      "C:\\Users\\DAI.STUDENTSDC\\AppData\\Local\\anaconda3\\Lib\\site-packages\\sklearn\\linear_model\\_sag.py:349: ConvergenceWarning: The max_iter was reached which means the coef_ did not converge\n",
      "  warnings.warn(\n"
     ]
    },
    {
     "name": "stdout",
     "output_type": "stream",
     "text": [
      "[CV 5/5] END LR__C=5.263631578947369, LR__solver=saga, SCL=None;, score=0.786 total time=   0.4s\n",
      "[CV 1/5] END LR__C=5.789894736842106, LR__solver=lbfgs, SCL=MinMaxScaler();, score=0.821 total time=   0.0s\n",
      "[CV 2/5] END LR__C=5.789894736842106, LR__solver=lbfgs, SCL=MinMaxScaler();, score=0.810 total time=   0.0s\n",
      "[CV 3/5] END LR__C=5.789894736842106, LR__solver=lbfgs, SCL=MinMaxScaler();, score=0.825 total time=   0.0s\n",
      "[CV 4/5] END LR__C=5.789894736842106, LR__solver=lbfgs, SCL=MinMaxScaler();, score=0.816 total time=   0.0s\n",
      "[CV 5/5] END LR__C=5.789894736842106, LR__solver=lbfgs, SCL=MinMaxScaler();, score=0.827 total time=   0.0s\n",
      "[CV 1/5] END LR__C=5.789894736842106, LR__solver=lbfgs, SCL=StandardScaler();, score=0.821 total time=   0.0s\n",
      "[CV 2/5] END LR__C=5.789894736842106, LR__solver=lbfgs, SCL=StandardScaler();, score=0.810 total time=   0.0s\n",
      "[CV 3/5] END LR__C=5.789894736842106, LR__solver=lbfgs, SCL=StandardScaler();, score=0.825 total time=   0.0s\n",
      "[CV 4/5] END LR__C=5.789894736842106, LR__solver=lbfgs, SCL=StandardScaler();, score=0.816 total time=   0.0s\n",
      "[CV 5/5] END LR__C=5.789894736842106, LR__solver=lbfgs, SCL=StandardScaler();, score=0.827 total time=   0.0s\n",
      "[CV 1/5] END LR__C=5.789894736842106, LR__solver=lbfgs, SCL=None;, score=0.817 total time=   0.1s\n"
     ]
    },
    {
     "name": "stderr",
     "output_type": "stream",
     "text": [
      "C:\\Users\\DAI.STUDENTSDC\\AppData\\Local\\anaconda3\\Lib\\site-packages\\sklearn\\linear_model\\_logistic.py:469: ConvergenceWarning: lbfgs failed to converge (status=1):\n",
      "STOP: TOTAL NO. of ITERATIONS REACHED LIMIT.\n",
      "\n",
      "Increase the number of iterations (max_iter) or scale the data as shown in:\n",
      "    https://scikit-learn.org/stable/modules/preprocessing.html\n",
      "Please also refer to the documentation for alternative solver options:\n",
      "    https://scikit-learn.org/stable/modules/linear_model.html#logistic-regression\n",
      "  n_iter_i = _check_optimize_result(\n",
      "C:\\Users\\DAI.STUDENTSDC\\AppData\\Local\\anaconda3\\Lib\\site-packages\\sklearn\\linear_model\\_logistic.py:469: ConvergenceWarning: lbfgs failed to converge (status=1):\n",
      "STOP: TOTAL NO. of ITERATIONS REACHED LIMIT.\n",
      "\n",
      "Increase the number of iterations (max_iter) or scale the data as shown in:\n",
      "    https://scikit-learn.org/stable/modules/preprocessing.html\n",
      "Please also refer to the documentation for alternative solver options:\n",
      "    https://scikit-learn.org/stable/modules/linear_model.html#logistic-regression\n",
      "  n_iter_i = _check_optimize_result(\n"
     ]
    },
    {
     "name": "stdout",
     "output_type": "stream",
     "text": [
      "[CV 2/5] END LR__C=5.789894736842106, LR__solver=lbfgs, SCL=None;, score=0.805 total time=   0.1s\n",
      "[CV 3/5] END LR__C=5.789894736842106, LR__solver=lbfgs, SCL=None;, score=0.817 total time=   0.1s\n"
     ]
    },
    {
     "name": "stderr",
     "output_type": "stream",
     "text": [
      "C:\\Users\\DAI.STUDENTSDC\\AppData\\Local\\anaconda3\\Lib\\site-packages\\sklearn\\linear_model\\_logistic.py:469: ConvergenceWarning: lbfgs failed to converge (status=1):\n",
      "STOP: TOTAL NO. of ITERATIONS REACHED LIMIT.\n",
      "\n",
      "Increase the number of iterations (max_iter) or scale the data as shown in:\n",
      "    https://scikit-learn.org/stable/modules/preprocessing.html\n",
      "Please also refer to the documentation for alternative solver options:\n",
      "    https://scikit-learn.org/stable/modules/linear_model.html#logistic-regression\n",
      "  n_iter_i = _check_optimize_result(\n",
      "C:\\Users\\DAI.STUDENTSDC\\AppData\\Local\\anaconda3\\Lib\\site-packages\\sklearn\\linear_model\\_logistic.py:469: ConvergenceWarning: lbfgs failed to converge (status=1):\n",
      "STOP: TOTAL NO. of ITERATIONS REACHED LIMIT.\n",
      "\n",
      "Increase the number of iterations (max_iter) or scale the data as shown in:\n",
      "    https://scikit-learn.org/stable/modules/preprocessing.html\n",
      "Please also refer to the documentation for alternative solver options:\n",
      "    https://scikit-learn.org/stable/modules/linear_model.html#logistic-regression\n",
      "  n_iter_i = _check_optimize_result(\n"
     ]
    },
    {
     "name": "stdout",
     "output_type": "stream",
     "text": [
      "[CV 4/5] END LR__C=5.789894736842106, LR__solver=lbfgs, SCL=None;, score=0.814 total time=   0.1s\n",
      "[CV 5/5] END LR__C=5.789894736842106, LR__solver=lbfgs, SCL=None;, score=0.821 total time=   0.1s\n"
     ]
    },
    {
     "name": "stderr",
     "output_type": "stream",
     "text": [
      "C:\\Users\\DAI.STUDENTSDC\\AppData\\Local\\anaconda3\\Lib\\site-packages\\sklearn\\linear_model\\_logistic.py:469: ConvergenceWarning: lbfgs failed to converge (status=1):\n",
      "STOP: TOTAL NO. of ITERATIONS REACHED LIMIT.\n",
      "\n",
      "Increase the number of iterations (max_iter) or scale the data as shown in:\n",
      "    https://scikit-learn.org/stable/modules/preprocessing.html\n",
      "Please also refer to the documentation for alternative solver options:\n",
      "    https://scikit-learn.org/stable/modules/linear_model.html#logistic-regression\n",
      "  n_iter_i = _check_optimize_result(\n"
     ]
    },
    {
     "name": "stdout",
     "output_type": "stream",
     "text": [
      "[CV 1/5] END LR__C=5.789894736842106, LR__solver=liblinear, SCL=MinMaxScaler();, score=0.821 total time=   0.0s\n",
      "[CV 2/5] END LR__C=5.789894736842106, LR__solver=liblinear, SCL=MinMaxScaler();, score=0.810 total time=   0.0s\n",
      "[CV 3/5] END LR__C=5.789894736842106, LR__solver=liblinear, SCL=MinMaxScaler();, score=0.825 total time=   0.0s\n",
      "[CV 4/5] END LR__C=5.789894736842106, LR__solver=liblinear, SCL=MinMaxScaler();, score=0.816 total time=   0.0s\n",
      "[CV 5/5] END LR__C=5.789894736842106, LR__solver=liblinear, SCL=MinMaxScaler();, score=0.827 total time=   0.0s\n",
      "[CV 1/5] END LR__C=5.789894736842106, LR__solver=liblinear, SCL=StandardScaler();, score=0.821 total time=   0.0s\n",
      "[CV 2/5] END LR__C=5.789894736842106, LR__solver=liblinear, SCL=StandardScaler();, score=0.810 total time=   0.0s\n",
      "[CV 3/5] END LR__C=5.789894736842106, LR__solver=liblinear, SCL=StandardScaler();, score=0.825 total time=   0.0s\n",
      "[CV 4/5] END LR__C=5.789894736842106, LR__solver=liblinear, SCL=StandardScaler();, score=0.816 total time=   0.0s\n",
      "[CV 5/5] END LR__C=5.789894736842106, LR__solver=liblinear, SCL=StandardScaler();, score=0.827 total time=   0.0s\n",
      "[CV 1/5] END LR__C=5.789894736842106, LR__solver=liblinear, SCL=None;, score=0.821 total time=   0.0s\n",
      "[CV 2/5] END LR__C=5.789894736842106, LR__solver=liblinear, SCL=None;, score=0.810 total time=   0.0s\n",
      "[CV 3/5] END LR__C=5.789894736842106, LR__solver=liblinear, SCL=None;, score=0.825 total time=   0.0s\n",
      "[CV 4/5] END LR__C=5.789894736842106, LR__solver=liblinear, SCL=None;, score=0.817 total time=   0.0s\n",
      "[CV 5/5] END LR__C=5.789894736842106, LR__solver=liblinear, SCL=None;, score=0.827 total time=   0.0s\n",
      "[CV 1/5] END LR__C=5.789894736842106, LR__solver=newton-cg, SCL=MinMaxScaler();, score=0.821 total time=   0.0s\n",
      "[CV 2/5] END LR__C=5.789894736842106, LR__solver=newton-cg, SCL=MinMaxScaler();, score=0.810 total time=   0.0s\n",
      "[CV 3/5] END LR__C=5.789894736842106, LR__solver=newton-cg, SCL=MinMaxScaler();, score=0.825 total time=   0.0s\n",
      "[CV 4/5] END LR__C=5.789894736842106, LR__solver=newton-cg, SCL=MinMaxScaler();, score=0.816 total time=   0.0s\n",
      "[CV 5/5] END LR__C=5.789894736842106, LR__solver=newton-cg, SCL=MinMaxScaler();, score=0.827 total time=   0.0s\n",
      "[CV 1/5] END LR__C=5.789894736842106, LR__solver=newton-cg, SCL=StandardScaler();, score=0.821 total time=   0.0s\n",
      "[CV 2/5] END LR__C=5.789894736842106, LR__solver=newton-cg, SCL=StandardScaler();, score=0.810 total time=   0.0s\n",
      "[CV 3/5] END LR__C=5.789894736842106, LR__solver=newton-cg, SCL=StandardScaler();, score=0.825 total time=   0.0s\n",
      "[CV 4/5] END LR__C=5.789894736842106, LR__solver=newton-cg, SCL=StandardScaler();, score=0.816 total time=   0.0s\n",
      "[CV 5/5] END LR__C=5.789894736842106, LR__solver=newton-cg, SCL=StandardScaler();, score=0.827 total time=   0.0s\n",
      "[CV 1/5] END LR__C=5.789894736842106, LR__solver=newton-cg, SCL=None;, score=0.821 total time=   0.1s\n",
      "[CV 2/5] END LR__C=5.789894736842106, LR__solver=newton-cg, SCL=None;, score=0.810 total time=   0.1s\n",
      "[CV 3/5] END LR__C=5.789894736842106, LR__solver=newton-cg, SCL=None;, score=0.825 total time=   0.1s\n",
      "[CV 4/5] END LR__C=5.789894736842106, LR__solver=newton-cg, SCL=None;, score=0.816 total time=   0.1s\n",
      "[CV 5/5] END LR__C=5.789894736842106, LR__solver=newton-cg, SCL=None;, score=0.827 total time=   0.2s\n",
      "[CV 1/5] END LR__C=5.789894736842106, LR__solver=newton-cholesky, SCL=MinMaxScaler();, score=0.821 total time=   0.0s\n",
      "[CV 2/5] END LR__C=5.789894736842106, LR__solver=newton-cholesky, SCL=MinMaxScaler();, score=0.810 total time=   0.0s\n",
      "[CV 3/5] END LR__C=5.789894736842106, LR__solver=newton-cholesky, SCL=MinMaxScaler();, score=0.825 total time=   0.0s\n",
      "[CV 4/5] END LR__C=5.789894736842106, LR__solver=newton-cholesky, SCL=MinMaxScaler();, score=0.816 total time=   0.0s\n",
      "[CV 5/5] END LR__C=5.789894736842106, LR__solver=newton-cholesky, SCL=MinMaxScaler();, score=0.827 total time=   0.0s\n",
      "[CV 1/5] END LR__C=5.789894736842106, LR__solver=newton-cholesky, SCL=StandardScaler();, score=0.821 total time=   0.0s\n",
      "[CV 2/5] END LR__C=5.789894736842106, LR__solver=newton-cholesky, SCL=StandardScaler();, score=0.810 total time=   0.0s\n",
      "[CV 3/5] END LR__C=5.789894736842106, LR__solver=newton-cholesky, SCL=StandardScaler();, score=0.825 total time=   0.0s\n",
      "[CV 4/5] END LR__C=5.789894736842106, LR__solver=newton-cholesky, SCL=StandardScaler();, score=0.816 total time=   0.0s\n",
      "[CV 5/5] END LR__C=5.789894736842106, LR__solver=newton-cholesky, SCL=StandardScaler();, score=0.827 total time=   0.0s\n",
      "[CV 1/5] END LR__C=5.789894736842106, LR__solver=newton-cholesky, SCL=None;, score=0.821 total time=   0.0s\n",
      "[CV 2/5] END LR__C=5.789894736842106, LR__solver=newton-cholesky, SCL=None;, score=0.810 total time=   0.0s\n",
      "[CV 3/5] END LR__C=5.789894736842106, LR__solver=newton-cholesky, SCL=None;, score=0.825 total time=   0.0s\n",
      "[CV 4/5] END LR__C=5.789894736842106, LR__solver=newton-cholesky, SCL=None;, score=0.816 total time=   0.0s\n",
      "[CV 5/5] END LR__C=5.789894736842106, LR__solver=newton-cholesky, SCL=None;, score=0.827 total time=   0.0s\n",
      "[CV 1/5] END LR__C=5.789894736842106, LR__solver=sag, SCL=MinMaxScaler();, score=0.821 total time=   0.1s\n",
      "[CV 2/5] END LR__C=5.789894736842106, LR__solver=sag, SCL=MinMaxScaler();, score=0.810 total time=   0.1s\n",
      "[CV 3/5] END LR__C=5.789894736842106, LR__solver=sag, SCL=MinMaxScaler();, score=0.825 total time=   0.1s\n",
      "[CV 4/5] END LR__C=5.789894736842106, LR__solver=sag, SCL=MinMaxScaler();, score=0.816 total time=   0.1s\n",
      "[CV 5/5] END LR__C=5.789894736842106, LR__solver=sag, SCL=MinMaxScaler();, score=0.827 total time=   0.1s\n",
      "[CV 1/5] END LR__C=5.789894736842106, LR__solver=sag, SCL=StandardScaler();, score=0.821 total time=   0.1s\n",
      "[CV 2/5] END LR__C=5.789894736842106, LR__solver=sag, SCL=StandardScaler();, score=0.810 total time=   0.1s\n",
      "[CV 3/5] END LR__C=5.789894736842106, LR__solver=sag, SCL=StandardScaler();, score=0.825 total time=   0.0s\n",
      "[CV 4/5] END LR__C=5.789894736842106, LR__solver=sag, SCL=StandardScaler();, score=0.816 total time=   0.0s\n",
      "[CV 5/5] END LR__C=5.789894736842106, LR__solver=sag, SCL=StandardScaler();, score=0.827 total time=   0.0s\n"
     ]
    },
    {
     "name": "stderr",
     "output_type": "stream",
     "text": [
      "C:\\Users\\DAI.STUDENTSDC\\AppData\\Local\\anaconda3\\Lib\\site-packages\\sklearn\\linear_model\\_sag.py:349: ConvergenceWarning: The max_iter was reached which means the coef_ did not converge\n",
      "  warnings.warn(\n"
     ]
    },
    {
     "name": "stdout",
     "output_type": "stream",
     "text": [
      "[CV 1/5] END LR__C=5.789894736842106, LR__solver=sag, SCL=None;, score=0.812 total time=   0.3s\n"
     ]
    },
    {
     "name": "stderr",
     "output_type": "stream",
     "text": [
      "C:\\Users\\DAI.STUDENTSDC\\AppData\\Local\\anaconda3\\Lib\\site-packages\\sklearn\\linear_model\\_sag.py:349: ConvergenceWarning: The max_iter was reached which means the coef_ did not converge\n",
      "  warnings.warn(\n"
     ]
    },
    {
     "name": "stdout",
     "output_type": "stream",
     "text": [
      "[CV 2/5] END LR__C=5.789894736842106, LR__solver=sag, SCL=None;, score=0.792 total time=   0.3s\n"
     ]
    },
    {
     "name": "stderr",
     "output_type": "stream",
     "text": [
      "C:\\Users\\DAI.STUDENTSDC\\AppData\\Local\\anaconda3\\Lib\\site-packages\\sklearn\\linear_model\\_sag.py:349: ConvergenceWarning: The max_iter was reached which means the coef_ did not converge\n",
      "  warnings.warn(\n"
     ]
    },
    {
     "name": "stdout",
     "output_type": "stream",
     "text": [
      "[CV 3/5] END LR__C=5.789894736842106, LR__solver=sag, SCL=None;, score=0.811 total time=   0.4s\n"
     ]
    },
    {
     "name": "stderr",
     "output_type": "stream",
     "text": [
      "C:\\Users\\DAI.STUDENTSDC\\AppData\\Local\\anaconda3\\Lib\\site-packages\\sklearn\\linear_model\\_sag.py:349: ConvergenceWarning: The max_iter was reached which means the coef_ did not converge\n",
      "  warnings.warn(\n"
     ]
    },
    {
     "name": "stdout",
     "output_type": "stream",
     "text": [
      "[CV 4/5] END LR__C=5.789894736842106, LR__solver=sag, SCL=None;, score=0.807 total time=   0.3s\n"
     ]
    },
    {
     "name": "stderr",
     "output_type": "stream",
     "text": [
      "C:\\Users\\DAI.STUDENTSDC\\AppData\\Local\\anaconda3\\Lib\\site-packages\\sklearn\\linear_model\\_sag.py:349: ConvergenceWarning: The max_iter was reached which means the coef_ did not converge\n",
      "  warnings.warn(\n"
     ]
    },
    {
     "name": "stdout",
     "output_type": "stream",
     "text": [
      "[CV 5/5] END LR__C=5.789894736842106, LR__solver=sag, SCL=None;, score=0.814 total time=   0.3s\n",
      "[CV 1/5] END LR__C=5.789894736842106, LR__solver=saga, SCL=MinMaxScaler();, score=0.821 total time=   0.1s\n",
      "[CV 2/5] END LR__C=5.789894736842106, LR__solver=saga, SCL=MinMaxScaler();, score=0.810 total time=   0.0s\n",
      "[CV 3/5] END LR__C=5.789894736842106, LR__solver=saga, SCL=MinMaxScaler();, score=0.825 total time=   0.0s\n",
      "[CV 4/5] END LR__C=5.789894736842106, LR__solver=saga, SCL=MinMaxScaler();, score=0.816 total time=   0.0s\n",
      "[CV 5/5] END LR__C=5.789894736842106, LR__solver=saga, SCL=MinMaxScaler();, score=0.827 total time=   0.0s\n",
      "[CV 1/5] END LR__C=5.789894736842106, LR__solver=saga, SCL=StandardScaler();, score=0.821 total time=   0.0s\n",
      "[CV 2/5] END LR__C=5.789894736842106, LR__solver=saga, SCL=StandardScaler();, score=0.810 total time=   0.0s\n",
      "[CV 3/5] END LR__C=5.789894736842106, LR__solver=saga, SCL=StandardScaler();, score=0.825 total time=   0.0s\n",
      "[CV 4/5] END LR__C=5.789894736842106, LR__solver=saga, SCL=StandardScaler();, score=0.816 total time=   0.0s\n",
      "[CV 5/5] END LR__C=5.789894736842106, LR__solver=saga, SCL=StandardScaler();, score=0.827 total time=   0.0s\n"
     ]
    },
    {
     "name": "stderr",
     "output_type": "stream",
     "text": [
      "C:\\Users\\DAI.STUDENTSDC\\AppData\\Local\\anaconda3\\Lib\\site-packages\\sklearn\\linear_model\\_sag.py:349: ConvergenceWarning: The max_iter was reached which means the coef_ did not converge\n",
      "  warnings.warn(\n"
     ]
    },
    {
     "name": "stdout",
     "output_type": "stream",
     "text": [
      "[CV 1/5] END LR__C=5.789894736842106, LR__solver=saga, SCL=None;, score=0.784 total time=   0.4s\n"
     ]
    },
    {
     "name": "stderr",
     "output_type": "stream",
     "text": [
      "C:\\Users\\DAI.STUDENTSDC\\AppData\\Local\\anaconda3\\Lib\\site-packages\\sklearn\\linear_model\\_sag.py:349: ConvergenceWarning: The max_iter was reached which means the coef_ did not converge\n",
      "  warnings.warn(\n"
     ]
    },
    {
     "name": "stdout",
     "output_type": "stream",
     "text": [
      "[CV 2/5] END LR__C=5.789894736842106, LR__solver=saga, SCL=None;, score=0.766 total time=   0.4s\n"
     ]
    },
    {
     "name": "stderr",
     "output_type": "stream",
     "text": [
      "C:\\Users\\DAI.STUDENTSDC\\AppData\\Local\\anaconda3\\Lib\\site-packages\\sklearn\\linear_model\\_sag.py:349: ConvergenceWarning: The max_iter was reached which means the coef_ did not converge\n",
      "  warnings.warn(\n"
     ]
    },
    {
     "name": "stdout",
     "output_type": "stream",
     "text": [
      "[CV 3/5] END LR__C=5.789894736842106, LR__solver=saga, SCL=None;, score=0.787 total time=   0.4s\n"
     ]
    },
    {
     "name": "stderr",
     "output_type": "stream",
     "text": [
      "C:\\Users\\DAI.STUDENTSDC\\AppData\\Local\\anaconda3\\Lib\\site-packages\\sklearn\\linear_model\\_sag.py:349: ConvergenceWarning: The max_iter was reached which means the coef_ did not converge\n",
      "  warnings.warn(\n"
     ]
    },
    {
     "name": "stdout",
     "output_type": "stream",
     "text": [
      "[CV 4/5] END LR__C=5.789894736842106, LR__solver=saga, SCL=None;, score=0.786 total time=   0.4s\n"
     ]
    },
    {
     "name": "stderr",
     "output_type": "stream",
     "text": [
      "C:\\Users\\DAI.STUDENTSDC\\AppData\\Local\\anaconda3\\Lib\\site-packages\\sklearn\\linear_model\\_sag.py:349: ConvergenceWarning: The max_iter was reached which means the coef_ did not converge\n",
      "  warnings.warn(\n"
     ]
    },
    {
     "name": "stdout",
     "output_type": "stream",
     "text": [
      "[CV 5/5] END LR__C=5.789894736842106, LR__solver=saga, SCL=None;, score=0.786 total time=   0.4s\n",
      "[CV 1/5] END LR__C=6.316157894736842, LR__solver=lbfgs, SCL=MinMaxScaler();, score=0.821 total time=   0.0s\n",
      "[CV 2/5] END LR__C=6.316157894736842, LR__solver=lbfgs, SCL=MinMaxScaler();, score=0.810 total time=   0.0s\n",
      "[CV 3/5] END LR__C=6.316157894736842, LR__solver=lbfgs, SCL=MinMaxScaler();, score=0.825 total time=   0.0s\n",
      "[CV 4/5] END LR__C=6.316157894736842, LR__solver=lbfgs, SCL=MinMaxScaler();, score=0.816 total time=   0.0s\n",
      "[CV 5/5] END LR__C=6.316157894736842, LR__solver=lbfgs, SCL=MinMaxScaler();, score=0.827 total time=   0.0s\n",
      "[CV 1/5] END LR__C=6.316157894736842, LR__solver=lbfgs, SCL=StandardScaler();, score=0.821 total time=   0.0s\n",
      "[CV 2/5] END LR__C=6.316157894736842, LR__solver=lbfgs, SCL=StandardScaler();, score=0.810 total time=   0.0s\n",
      "[CV 3/5] END LR__C=6.316157894736842, LR__solver=lbfgs, SCL=StandardScaler();, score=0.825 total time=   0.0s\n",
      "[CV 4/5] END LR__C=6.316157894736842, LR__solver=lbfgs, SCL=StandardScaler();, score=0.816 total time=   0.0s\n",
      "[CV 5/5] END LR__C=6.316157894736842, LR__solver=lbfgs, SCL=StandardScaler();, score=0.827 total time=   0.0s\n"
     ]
    },
    {
     "name": "stderr",
     "output_type": "stream",
     "text": [
      "C:\\Users\\DAI.STUDENTSDC\\AppData\\Local\\anaconda3\\Lib\\site-packages\\sklearn\\linear_model\\_logistic.py:469: ConvergenceWarning: lbfgs failed to converge (status=1):\n",
      "STOP: TOTAL NO. of ITERATIONS REACHED LIMIT.\n",
      "\n",
      "Increase the number of iterations (max_iter) or scale the data as shown in:\n",
      "    https://scikit-learn.org/stable/modules/preprocessing.html\n",
      "Please also refer to the documentation for alternative solver options:\n",
      "    https://scikit-learn.org/stable/modules/linear_model.html#logistic-regression\n",
      "  n_iter_i = _check_optimize_result(\n",
      "C:\\Users\\DAI.STUDENTSDC\\AppData\\Local\\anaconda3\\Lib\\site-packages\\sklearn\\linear_model\\_logistic.py:469: ConvergenceWarning: lbfgs failed to converge (status=1):\n",
      "STOP: TOTAL NO. of ITERATIONS REACHED LIMIT.\n",
      "\n",
      "Increase the number of iterations (max_iter) or scale the data as shown in:\n",
      "    https://scikit-learn.org/stable/modules/preprocessing.html\n",
      "Please also refer to the documentation for alternative solver options:\n",
      "    https://scikit-learn.org/stable/modules/linear_model.html#logistic-regression\n",
      "  n_iter_i = _check_optimize_result(\n"
     ]
    },
    {
     "name": "stdout",
     "output_type": "stream",
     "text": [
      "[CV 1/5] END LR__C=6.316157894736842, LR__solver=lbfgs, SCL=None;, score=0.815 total time=   0.1s\n",
      "[CV 2/5] END LR__C=6.316157894736842, LR__solver=lbfgs, SCL=None;, score=0.806 total time=   0.1s\n"
     ]
    },
    {
     "name": "stderr",
     "output_type": "stream",
     "text": [
      "C:\\Users\\DAI.STUDENTSDC\\AppData\\Local\\anaconda3\\Lib\\site-packages\\sklearn\\linear_model\\_logistic.py:469: ConvergenceWarning: lbfgs failed to converge (status=1):\n",
      "STOP: TOTAL NO. of ITERATIONS REACHED LIMIT.\n",
      "\n",
      "Increase the number of iterations (max_iter) or scale the data as shown in:\n",
      "    https://scikit-learn.org/stable/modules/preprocessing.html\n",
      "Please also refer to the documentation for alternative solver options:\n",
      "    https://scikit-learn.org/stable/modules/linear_model.html#logistic-regression\n",
      "  n_iter_i = _check_optimize_result(\n",
      "C:\\Users\\DAI.STUDENTSDC\\AppData\\Local\\anaconda3\\Lib\\site-packages\\sklearn\\linear_model\\_logistic.py:469: ConvergenceWarning: lbfgs failed to converge (status=1):\n",
      "STOP: TOTAL NO. of ITERATIONS REACHED LIMIT.\n",
      "\n",
      "Increase the number of iterations (max_iter) or scale the data as shown in:\n",
      "    https://scikit-learn.org/stable/modules/preprocessing.html\n",
      "Please also refer to the documentation for alternative solver options:\n",
      "    https://scikit-learn.org/stable/modules/linear_model.html#logistic-regression\n",
      "  n_iter_i = _check_optimize_result(\n"
     ]
    },
    {
     "name": "stdout",
     "output_type": "stream",
     "text": [
      "[CV 3/5] END LR__C=6.316157894736842, LR__solver=lbfgs, SCL=None;, score=0.818 total time=   0.1s\n",
      "[CV 4/5] END LR__C=6.316157894736842, LR__solver=lbfgs, SCL=None;, score=0.814 total time=   0.1s\n"
     ]
    },
    {
     "name": "stderr",
     "output_type": "stream",
     "text": [
      "C:\\Users\\DAI.STUDENTSDC\\AppData\\Local\\anaconda3\\Lib\\site-packages\\sklearn\\linear_model\\_logistic.py:469: ConvergenceWarning: lbfgs failed to converge (status=1):\n",
      "STOP: TOTAL NO. of ITERATIONS REACHED LIMIT.\n",
      "\n",
      "Increase the number of iterations (max_iter) or scale the data as shown in:\n",
      "    https://scikit-learn.org/stable/modules/preprocessing.html\n",
      "Please also refer to the documentation for alternative solver options:\n",
      "    https://scikit-learn.org/stable/modules/linear_model.html#logistic-regression\n",
      "  n_iter_i = _check_optimize_result(\n"
     ]
    },
    {
     "name": "stdout",
     "output_type": "stream",
     "text": [
      "[CV 5/5] END LR__C=6.316157894736842, LR__solver=lbfgs, SCL=None;, score=0.821 total time=   0.1s\n",
      "[CV 1/5] END LR__C=6.316157894736842, LR__solver=liblinear, SCL=MinMaxScaler();, score=0.821 total time=   0.0s\n",
      "[CV 2/5] END LR__C=6.316157894736842, LR__solver=liblinear, SCL=MinMaxScaler();, score=0.810 total time=   0.0s\n",
      "[CV 3/5] END LR__C=6.316157894736842, LR__solver=liblinear, SCL=MinMaxScaler();, score=0.825 total time=   0.0s\n",
      "[CV 4/5] END LR__C=6.316157894736842, LR__solver=liblinear, SCL=MinMaxScaler();, score=0.816 total time=   0.0s\n",
      "[CV 5/5] END LR__C=6.316157894736842, LR__solver=liblinear, SCL=MinMaxScaler();, score=0.827 total time=   0.0s\n",
      "[CV 1/5] END LR__C=6.316157894736842, LR__solver=liblinear, SCL=StandardScaler();, score=0.821 total time=   0.0s\n",
      "[CV 2/5] END LR__C=6.316157894736842, LR__solver=liblinear, SCL=StandardScaler();, score=0.810 total time=   0.0s\n",
      "[CV 3/5] END LR__C=6.316157894736842, LR__solver=liblinear, SCL=StandardScaler();, score=0.825 total time=   0.0s\n",
      "[CV 4/5] END LR__C=6.316157894736842, LR__solver=liblinear, SCL=StandardScaler();, score=0.816 total time=   0.0s\n",
      "[CV 5/5] END LR__C=6.316157894736842, LR__solver=liblinear, SCL=StandardScaler();, score=0.827 total time=   0.0s\n",
      "[CV 1/5] END LR__C=6.316157894736842, LR__solver=liblinear, SCL=None;, score=0.821 total time=   0.0s\n",
      "[CV 2/5] END LR__C=6.316157894736842, LR__solver=liblinear, SCL=None;, score=0.810 total time=   0.0s\n",
      "[CV 3/5] END LR__C=6.316157894736842, LR__solver=liblinear, SCL=None;, score=0.825 total time=   0.0s\n",
      "[CV 4/5] END LR__C=6.316157894736842, LR__solver=liblinear, SCL=None;, score=0.817 total time=   0.0s\n",
      "[CV 5/5] END LR__C=6.316157894736842, LR__solver=liblinear, SCL=None;, score=0.827 total time=   0.0s\n",
      "[CV 1/5] END LR__C=6.316157894736842, LR__solver=newton-cg, SCL=MinMaxScaler();, score=0.821 total time=   0.0s\n",
      "[CV 2/5] END LR__C=6.316157894736842, LR__solver=newton-cg, SCL=MinMaxScaler();, score=0.810 total time=   0.0s\n",
      "[CV 3/5] END LR__C=6.316157894736842, LR__solver=newton-cg, SCL=MinMaxScaler();, score=0.825 total time=   0.0s\n",
      "[CV 4/5] END LR__C=6.316157894736842, LR__solver=newton-cg, SCL=MinMaxScaler();, score=0.816 total time=   0.0s\n",
      "[CV 5/5] END LR__C=6.316157894736842, LR__solver=newton-cg, SCL=MinMaxScaler();, score=0.827 total time=   0.0s\n",
      "[CV 1/5] END LR__C=6.316157894736842, LR__solver=newton-cg, SCL=StandardScaler();, score=0.821 total time=   0.0s\n",
      "[CV 2/5] END LR__C=6.316157894736842, LR__solver=newton-cg, SCL=StandardScaler();, score=0.810 total time=   0.0s\n",
      "[CV 3/5] END LR__C=6.316157894736842, LR__solver=newton-cg, SCL=StandardScaler();, score=0.825 total time=   0.0s\n",
      "[CV 4/5] END LR__C=6.316157894736842, LR__solver=newton-cg, SCL=StandardScaler();, score=0.816 total time=   0.0s\n",
      "[CV 5/5] END LR__C=6.316157894736842, LR__solver=newton-cg, SCL=StandardScaler();, score=0.827 total time=   0.0s\n",
      "[CV 1/5] END LR__C=6.316157894736842, LR__solver=newton-cg, SCL=None;, score=0.821 total time=   0.1s\n",
      "[CV 2/5] END LR__C=6.316157894736842, LR__solver=newton-cg, SCL=None;, score=0.810 total time=   0.1s\n",
      "[CV 3/5] END LR__C=6.316157894736842, LR__solver=newton-cg, SCL=None;, score=0.825 total time=   0.1s\n",
      "[CV 4/5] END LR__C=6.316157894736842, LR__solver=newton-cg, SCL=None;, score=0.816 total time=   0.1s\n",
      "[CV 5/5] END LR__C=6.316157894736842, LR__solver=newton-cg, SCL=None;, score=0.827 total time=   0.2s\n",
      "[CV 1/5] END LR__C=6.316157894736842, LR__solver=newton-cholesky, SCL=MinMaxScaler();, score=0.821 total time=   0.0s\n",
      "[CV 2/5] END LR__C=6.316157894736842, LR__solver=newton-cholesky, SCL=MinMaxScaler();, score=0.810 total time=   0.0s\n",
      "[CV 3/5] END LR__C=6.316157894736842, LR__solver=newton-cholesky, SCL=MinMaxScaler();, score=0.825 total time=   0.0s\n",
      "[CV 4/5] END LR__C=6.316157894736842, LR__solver=newton-cholesky, SCL=MinMaxScaler();, score=0.816 total time=   0.0s\n",
      "[CV 5/5] END LR__C=6.316157894736842, LR__solver=newton-cholesky, SCL=MinMaxScaler();, score=0.827 total time=   0.0s\n",
      "[CV 1/5] END LR__C=6.316157894736842, LR__solver=newton-cholesky, SCL=StandardScaler();, score=0.821 total time=   0.0s\n",
      "[CV 2/5] END LR__C=6.316157894736842, LR__solver=newton-cholesky, SCL=StandardScaler();, score=0.810 total time=   0.0s\n",
      "[CV 3/5] END LR__C=6.316157894736842, LR__solver=newton-cholesky, SCL=StandardScaler();, score=0.825 total time=   0.0s\n",
      "[CV 4/5] END LR__C=6.316157894736842, LR__solver=newton-cholesky, SCL=StandardScaler();, score=0.816 total time=   0.0s\n",
      "[CV 5/5] END LR__C=6.316157894736842, LR__solver=newton-cholesky, SCL=StandardScaler();, score=0.827 total time=   0.0s\n",
      "[CV 1/5] END LR__C=6.316157894736842, LR__solver=newton-cholesky, SCL=None;, score=0.821 total time=   0.0s\n",
      "[CV 2/5] END LR__C=6.316157894736842, LR__solver=newton-cholesky, SCL=None;, score=0.810 total time=   0.0s\n",
      "[CV 3/5] END LR__C=6.316157894736842, LR__solver=newton-cholesky, SCL=None;, score=0.825 total time=   0.0s\n",
      "[CV 4/5] END LR__C=6.316157894736842, LR__solver=newton-cholesky, SCL=None;, score=0.816 total time=   0.0s\n",
      "[CV 5/5] END LR__C=6.316157894736842, LR__solver=newton-cholesky, SCL=None;, score=0.827 total time=   0.0s\n",
      "[CV 1/5] END LR__C=6.316157894736842, LR__solver=sag, SCL=MinMaxScaler();, score=0.821 total time=   0.1s\n",
      "[CV 2/5] END LR__C=6.316157894736842, LR__solver=sag, SCL=MinMaxScaler();, score=0.810 total time=   0.1s\n",
      "[CV 3/5] END LR__C=6.316157894736842, LR__solver=sag, SCL=MinMaxScaler();, score=0.825 total time=   0.1s\n",
      "[CV 4/5] END LR__C=6.316157894736842, LR__solver=sag, SCL=MinMaxScaler();, score=0.816 total time=   0.1s\n",
      "[CV 5/5] END LR__C=6.316157894736842, LR__solver=sag, SCL=MinMaxScaler();, score=0.827 total time=   0.1s\n",
      "[CV 1/5] END LR__C=6.316157894736842, LR__solver=sag, SCL=StandardScaler();, score=0.821 total time=   0.1s\n",
      "[CV 2/5] END LR__C=6.316157894736842, LR__solver=sag, SCL=StandardScaler();, score=0.810 total time=   0.0s\n",
      "[CV 3/5] END LR__C=6.316157894736842, LR__solver=sag, SCL=StandardScaler();, score=0.825 total time=   0.1s\n",
      "[CV 4/5] END LR__C=6.316157894736842, LR__solver=sag, SCL=StandardScaler();, score=0.816 total time=   0.0s\n",
      "[CV 5/5] END LR__C=6.316157894736842, LR__solver=sag, SCL=StandardScaler();, score=0.827 total time=   0.1s\n"
     ]
    },
    {
     "name": "stderr",
     "output_type": "stream",
     "text": [
      "C:\\Users\\DAI.STUDENTSDC\\AppData\\Local\\anaconda3\\Lib\\site-packages\\sklearn\\linear_model\\_sag.py:349: ConvergenceWarning: The max_iter was reached which means the coef_ did not converge\n",
      "  warnings.warn(\n"
     ]
    },
    {
     "name": "stdout",
     "output_type": "stream",
     "text": [
      "[CV 1/5] END LR__C=6.316157894736842, LR__solver=sag, SCL=None;, score=0.812 total time=   0.3s\n"
     ]
    },
    {
     "name": "stderr",
     "output_type": "stream",
     "text": [
      "C:\\Users\\DAI.STUDENTSDC\\AppData\\Local\\anaconda3\\Lib\\site-packages\\sklearn\\linear_model\\_sag.py:349: ConvergenceWarning: The max_iter was reached which means the coef_ did not converge\n",
      "  warnings.warn(\n"
     ]
    },
    {
     "name": "stdout",
     "output_type": "stream",
     "text": [
      "[CV 2/5] END LR__C=6.316157894736842, LR__solver=sag, SCL=None;, score=0.792 total time=   0.4s\n"
     ]
    },
    {
     "name": "stderr",
     "output_type": "stream",
     "text": [
      "C:\\Users\\DAI.STUDENTSDC\\AppData\\Local\\anaconda3\\Lib\\site-packages\\sklearn\\linear_model\\_sag.py:349: ConvergenceWarning: The max_iter was reached which means the coef_ did not converge\n",
      "  warnings.warn(\n"
     ]
    },
    {
     "name": "stdout",
     "output_type": "stream",
     "text": [
      "[CV 3/5] END LR__C=6.316157894736842, LR__solver=sag, SCL=None;, score=0.811 total time=   0.4s\n"
     ]
    },
    {
     "name": "stderr",
     "output_type": "stream",
     "text": [
      "C:\\Users\\DAI.STUDENTSDC\\AppData\\Local\\anaconda3\\Lib\\site-packages\\sklearn\\linear_model\\_sag.py:349: ConvergenceWarning: The max_iter was reached which means the coef_ did not converge\n",
      "  warnings.warn(\n"
     ]
    },
    {
     "name": "stdout",
     "output_type": "stream",
     "text": [
      "[CV 4/5] END LR__C=6.316157894736842, LR__solver=sag, SCL=None;, score=0.807 total time=   0.3s\n"
     ]
    },
    {
     "name": "stderr",
     "output_type": "stream",
     "text": [
      "C:\\Users\\DAI.STUDENTSDC\\AppData\\Local\\anaconda3\\Lib\\site-packages\\sklearn\\linear_model\\_sag.py:349: ConvergenceWarning: The max_iter was reached which means the coef_ did not converge\n",
      "  warnings.warn(\n"
     ]
    },
    {
     "name": "stdout",
     "output_type": "stream",
     "text": [
      "[CV 5/5] END LR__C=6.316157894736842, LR__solver=sag, SCL=None;, score=0.814 total time=   0.3s\n",
      "[CV 1/5] END LR__C=6.316157894736842, LR__solver=saga, SCL=MinMaxScaler();, score=0.821 total time=   0.1s\n",
      "[CV 2/5] END LR__C=6.316157894736842, LR__solver=saga, SCL=MinMaxScaler();, score=0.810 total time=   0.0s\n",
      "[CV 3/5] END LR__C=6.316157894736842, LR__solver=saga, SCL=MinMaxScaler();, score=0.825 total time=   0.0s\n",
      "[CV 4/5] END LR__C=6.316157894736842, LR__solver=saga, SCL=MinMaxScaler();, score=0.816 total time=   0.0s\n",
      "[CV 5/5] END LR__C=6.316157894736842, LR__solver=saga, SCL=MinMaxScaler();, score=0.827 total time=   0.0s\n",
      "[CV 1/5] END LR__C=6.316157894736842, LR__solver=saga, SCL=StandardScaler();, score=0.821 total time=   0.0s\n",
      "[CV 2/5] END LR__C=6.316157894736842, LR__solver=saga, SCL=StandardScaler();, score=0.810 total time=   0.0s\n",
      "[CV 3/5] END LR__C=6.316157894736842, LR__solver=saga, SCL=StandardScaler();, score=0.825 total time=   0.0s\n",
      "[CV 4/5] END LR__C=6.316157894736842, LR__solver=saga, SCL=StandardScaler();, score=0.816 total time=   0.0s\n",
      "[CV 5/5] END LR__C=6.316157894736842, LR__solver=saga, SCL=StandardScaler();, score=0.827 total time=   0.0s\n"
     ]
    },
    {
     "name": "stderr",
     "output_type": "stream",
     "text": [
      "C:\\Users\\DAI.STUDENTSDC\\AppData\\Local\\anaconda3\\Lib\\site-packages\\sklearn\\linear_model\\_sag.py:349: ConvergenceWarning: The max_iter was reached which means the coef_ did not converge\n",
      "  warnings.warn(\n"
     ]
    },
    {
     "name": "stdout",
     "output_type": "stream",
     "text": [
      "[CV 1/5] END LR__C=6.316157894736842, LR__solver=saga, SCL=None;, score=0.784 total time=   0.4s\n"
     ]
    },
    {
     "name": "stderr",
     "output_type": "stream",
     "text": [
      "C:\\Users\\DAI.STUDENTSDC\\AppData\\Local\\anaconda3\\Lib\\site-packages\\sklearn\\linear_model\\_sag.py:349: ConvergenceWarning: The max_iter was reached which means the coef_ did not converge\n",
      "  warnings.warn(\n"
     ]
    },
    {
     "name": "stdout",
     "output_type": "stream",
     "text": [
      "[CV 2/5] END LR__C=6.316157894736842, LR__solver=saga, SCL=None;, score=0.766 total time=   0.4s\n"
     ]
    },
    {
     "name": "stderr",
     "output_type": "stream",
     "text": [
      "C:\\Users\\DAI.STUDENTSDC\\AppData\\Local\\anaconda3\\Lib\\site-packages\\sklearn\\linear_model\\_sag.py:349: ConvergenceWarning: The max_iter was reached which means the coef_ did not converge\n",
      "  warnings.warn(\n"
     ]
    },
    {
     "name": "stdout",
     "output_type": "stream",
     "text": [
      "[CV 3/5] END LR__C=6.316157894736842, LR__solver=saga, SCL=None;, score=0.787 total time=   0.4s\n"
     ]
    },
    {
     "name": "stderr",
     "output_type": "stream",
     "text": [
      "C:\\Users\\DAI.STUDENTSDC\\AppData\\Local\\anaconda3\\Lib\\site-packages\\sklearn\\linear_model\\_sag.py:349: ConvergenceWarning: The max_iter was reached which means the coef_ did not converge\n",
      "  warnings.warn(\n"
     ]
    },
    {
     "name": "stdout",
     "output_type": "stream",
     "text": [
      "[CV 4/5] END LR__C=6.316157894736842, LR__solver=saga, SCL=None;, score=0.786 total time=   0.4s\n"
     ]
    },
    {
     "name": "stderr",
     "output_type": "stream",
     "text": [
      "C:\\Users\\DAI.STUDENTSDC\\AppData\\Local\\anaconda3\\Lib\\site-packages\\sklearn\\linear_model\\_sag.py:349: ConvergenceWarning: The max_iter was reached which means the coef_ did not converge\n",
      "  warnings.warn(\n"
     ]
    },
    {
     "name": "stdout",
     "output_type": "stream",
     "text": [
      "[CV 5/5] END LR__C=6.316157894736842, LR__solver=saga, SCL=None;, score=0.786 total time=   0.4s\n",
      "[CV 1/5] END LR__C=6.84242105263158, LR__solver=lbfgs, SCL=MinMaxScaler();, score=0.821 total time=   0.0s\n",
      "[CV 2/5] END LR__C=6.84242105263158, LR__solver=lbfgs, SCL=MinMaxScaler();, score=0.810 total time=   0.0s\n",
      "[CV 3/5] END LR__C=6.84242105263158, LR__solver=lbfgs, SCL=MinMaxScaler();, score=0.825 total time=   0.0s\n",
      "[CV 4/5] END LR__C=6.84242105263158, LR__solver=lbfgs, SCL=MinMaxScaler();, score=0.816 total time=   0.0s\n",
      "[CV 5/5] END LR__C=6.84242105263158, LR__solver=lbfgs, SCL=MinMaxScaler();, score=0.827 total time=   0.0s\n",
      "[CV 1/5] END LR__C=6.84242105263158, LR__solver=lbfgs, SCL=StandardScaler();, score=0.821 total time=   0.0s\n",
      "[CV 2/5] END LR__C=6.84242105263158, LR__solver=lbfgs, SCL=StandardScaler();, score=0.810 total time=   0.0s\n",
      "[CV 3/5] END LR__C=6.84242105263158, LR__solver=lbfgs, SCL=StandardScaler();, score=0.825 total time=   0.0s\n",
      "[CV 4/5] END LR__C=6.84242105263158, LR__solver=lbfgs, SCL=StandardScaler();, score=0.816 total time=   0.0s\n",
      "[CV 5/5] END LR__C=6.84242105263158, LR__solver=lbfgs, SCL=StandardScaler();, score=0.827 total time=   0.0s\n",
      "[CV 1/5] END LR__C=6.84242105263158, LR__solver=lbfgs, SCL=None;, score=0.816 total time=   0.1s\n"
     ]
    },
    {
     "name": "stderr",
     "output_type": "stream",
     "text": [
      "C:\\Users\\DAI.STUDENTSDC\\AppData\\Local\\anaconda3\\Lib\\site-packages\\sklearn\\linear_model\\_logistic.py:469: ConvergenceWarning: lbfgs failed to converge (status=1):\n",
      "STOP: TOTAL NO. of ITERATIONS REACHED LIMIT.\n",
      "\n",
      "Increase the number of iterations (max_iter) or scale the data as shown in:\n",
      "    https://scikit-learn.org/stable/modules/preprocessing.html\n",
      "Please also refer to the documentation for alternative solver options:\n",
      "    https://scikit-learn.org/stable/modules/linear_model.html#logistic-regression\n",
      "  n_iter_i = _check_optimize_result(\n",
      "C:\\Users\\DAI.STUDENTSDC\\AppData\\Local\\anaconda3\\Lib\\site-packages\\sklearn\\linear_model\\_logistic.py:469: ConvergenceWarning: lbfgs failed to converge (status=1):\n",
      "STOP: TOTAL NO. of ITERATIONS REACHED LIMIT.\n",
      "\n",
      "Increase the number of iterations (max_iter) or scale the data as shown in:\n",
      "    https://scikit-learn.org/stable/modules/preprocessing.html\n",
      "Please also refer to the documentation for alternative solver options:\n",
      "    https://scikit-learn.org/stable/modules/linear_model.html#logistic-regression\n",
      "  n_iter_i = _check_optimize_result(\n"
     ]
    },
    {
     "name": "stdout",
     "output_type": "stream",
     "text": [
      "[CV 2/5] END LR__C=6.84242105263158, LR__solver=lbfgs, SCL=None;, score=0.805 total time=   0.1s\n",
      "[CV 3/5] END LR__C=6.84242105263158, LR__solver=lbfgs, SCL=None;, score=0.820 total time=   0.1s\n"
     ]
    },
    {
     "name": "stderr",
     "output_type": "stream",
     "text": [
      "C:\\Users\\DAI.STUDENTSDC\\AppData\\Local\\anaconda3\\Lib\\site-packages\\sklearn\\linear_model\\_logistic.py:469: ConvergenceWarning: lbfgs failed to converge (status=1):\n",
      "STOP: TOTAL NO. of ITERATIONS REACHED LIMIT.\n",
      "\n",
      "Increase the number of iterations (max_iter) or scale the data as shown in:\n",
      "    https://scikit-learn.org/stable/modules/preprocessing.html\n",
      "Please also refer to the documentation for alternative solver options:\n",
      "    https://scikit-learn.org/stable/modules/linear_model.html#logistic-regression\n",
      "  n_iter_i = _check_optimize_result(\n",
      "C:\\Users\\DAI.STUDENTSDC\\AppData\\Local\\anaconda3\\Lib\\site-packages\\sklearn\\linear_model\\_logistic.py:469: ConvergenceWarning: lbfgs failed to converge (status=1):\n",
      "STOP: TOTAL NO. of ITERATIONS REACHED LIMIT.\n",
      "\n",
      "Increase the number of iterations (max_iter) or scale the data as shown in:\n",
      "    https://scikit-learn.org/stable/modules/preprocessing.html\n",
      "Please also refer to the documentation for alternative solver options:\n",
      "    https://scikit-learn.org/stable/modules/linear_model.html#logistic-regression\n",
      "  n_iter_i = _check_optimize_result(\n"
     ]
    },
    {
     "name": "stdout",
     "output_type": "stream",
     "text": [
      "[CV 4/5] END LR__C=6.84242105263158, LR__solver=lbfgs, SCL=None;, score=0.814 total time=   0.1s\n",
      "[CV 5/5] END LR__C=6.84242105263158, LR__solver=lbfgs, SCL=None;, score=0.821 total time=   0.1s\n"
     ]
    },
    {
     "name": "stderr",
     "output_type": "stream",
     "text": [
      "C:\\Users\\DAI.STUDENTSDC\\AppData\\Local\\anaconda3\\Lib\\site-packages\\sklearn\\linear_model\\_logistic.py:469: ConvergenceWarning: lbfgs failed to converge (status=1):\n",
      "STOP: TOTAL NO. of ITERATIONS REACHED LIMIT.\n",
      "\n",
      "Increase the number of iterations (max_iter) or scale the data as shown in:\n",
      "    https://scikit-learn.org/stable/modules/preprocessing.html\n",
      "Please also refer to the documentation for alternative solver options:\n",
      "    https://scikit-learn.org/stable/modules/linear_model.html#logistic-regression\n",
      "  n_iter_i = _check_optimize_result(\n"
     ]
    },
    {
     "name": "stdout",
     "output_type": "stream",
     "text": [
      "[CV 1/5] END LR__C=6.84242105263158, LR__solver=liblinear, SCL=MinMaxScaler();, score=0.821 total time=   0.0s\n",
      "[CV 2/5] END LR__C=6.84242105263158, LR__solver=liblinear, SCL=MinMaxScaler();, score=0.810 total time=   0.0s\n",
      "[CV 3/5] END LR__C=6.84242105263158, LR__solver=liblinear, SCL=MinMaxScaler();, score=0.825 total time=   0.0s\n",
      "[CV 4/5] END LR__C=6.84242105263158, LR__solver=liblinear, SCL=MinMaxScaler();, score=0.816 total time=   0.0s\n",
      "[CV 5/5] END LR__C=6.84242105263158, LR__solver=liblinear, SCL=MinMaxScaler();, score=0.827 total time=   0.0s\n",
      "[CV 1/5] END LR__C=6.84242105263158, LR__solver=liblinear, SCL=StandardScaler();, score=0.821 total time=   0.0s\n",
      "[CV 2/5] END LR__C=6.84242105263158, LR__solver=liblinear, SCL=StandardScaler();, score=0.810 total time=   0.0s\n",
      "[CV 3/5] END LR__C=6.84242105263158, LR__solver=liblinear, SCL=StandardScaler();, score=0.825 total time=   0.0s\n",
      "[CV 4/5] END LR__C=6.84242105263158, LR__solver=liblinear, SCL=StandardScaler();, score=0.816 total time=   0.0s\n",
      "[CV 5/5] END LR__C=6.84242105263158, LR__solver=liblinear, SCL=StandardScaler();, score=0.827 total time=   0.0s\n",
      "[CV 1/5] END LR__C=6.84242105263158, LR__solver=liblinear, SCL=None;, score=0.821 total time=   0.0s\n",
      "[CV 2/5] END LR__C=6.84242105263158, LR__solver=liblinear, SCL=None;, score=0.810 total time=   0.0s\n",
      "[CV 3/5] END LR__C=6.84242105263158, LR__solver=liblinear, SCL=None;, score=0.825 total time=   0.0s\n",
      "[CV 4/5] END LR__C=6.84242105263158, LR__solver=liblinear, SCL=None;, score=0.817 total time=   0.0s\n",
      "[CV 5/5] END LR__C=6.84242105263158, LR__solver=liblinear, SCL=None;, score=0.827 total time=   0.0s\n",
      "[CV 1/5] END LR__C=6.84242105263158, LR__solver=newton-cg, SCL=MinMaxScaler();, score=0.821 total time=   0.0s\n",
      "[CV 2/5] END LR__C=6.84242105263158, LR__solver=newton-cg, SCL=MinMaxScaler();, score=0.810 total time=   0.0s\n",
      "[CV 3/5] END LR__C=6.84242105263158, LR__solver=newton-cg, SCL=MinMaxScaler();, score=0.825 total time=   0.0s\n",
      "[CV 4/5] END LR__C=6.84242105263158, LR__solver=newton-cg, SCL=MinMaxScaler();, score=0.816 total time=   0.0s\n",
      "[CV 5/5] END LR__C=6.84242105263158, LR__solver=newton-cg, SCL=MinMaxScaler();, score=0.827 total time=   0.0s\n",
      "[CV 1/5] END LR__C=6.84242105263158, LR__solver=newton-cg, SCL=StandardScaler();, score=0.821 total time=   0.0s\n",
      "[CV 2/5] END LR__C=6.84242105263158, LR__solver=newton-cg, SCL=StandardScaler();, score=0.810 total time=   0.0s\n",
      "[CV 3/5] END LR__C=6.84242105263158, LR__solver=newton-cg, SCL=StandardScaler();, score=0.825 total time=   0.0s\n",
      "[CV 4/5] END LR__C=6.84242105263158, LR__solver=newton-cg, SCL=StandardScaler();, score=0.816 total time=   0.0s\n",
      "[CV 5/5] END LR__C=6.84242105263158, LR__solver=newton-cg, SCL=StandardScaler();, score=0.827 total time=   0.0s\n",
      "[CV 1/5] END LR__C=6.84242105263158, LR__solver=newton-cg, SCL=None;, score=0.821 total time=   0.1s\n",
      "[CV 2/5] END LR__C=6.84242105263158, LR__solver=newton-cg, SCL=None;, score=0.810 total time=   0.1s\n",
      "[CV 3/5] END LR__C=6.84242105263158, LR__solver=newton-cg, SCL=None;, score=0.825 total time=   0.1s\n",
      "[CV 4/5] END LR__C=6.84242105263158, LR__solver=newton-cg, SCL=None;, score=0.816 total time=   0.2s\n",
      "[CV 5/5] END LR__C=6.84242105263158, LR__solver=newton-cg, SCL=None;, score=0.827 total time=   0.2s\n",
      "[CV 1/5] END LR__C=6.84242105263158, LR__solver=newton-cholesky, SCL=MinMaxScaler();, score=0.821 total time=   0.0s\n",
      "[CV 2/5] END LR__C=6.84242105263158, LR__solver=newton-cholesky, SCL=MinMaxScaler();, score=0.810 total time=   0.0s\n",
      "[CV 3/5] END LR__C=6.84242105263158, LR__solver=newton-cholesky, SCL=MinMaxScaler();, score=0.825 total time=   0.0s\n",
      "[CV 4/5] END LR__C=6.84242105263158, LR__solver=newton-cholesky, SCL=MinMaxScaler();, score=0.816 total time=   0.0s\n",
      "[CV 5/5] END LR__C=6.84242105263158, LR__solver=newton-cholesky, SCL=MinMaxScaler();, score=0.827 total time=   0.0s\n",
      "[CV 1/5] END LR__C=6.84242105263158, LR__solver=newton-cholesky, SCL=StandardScaler();, score=0.821 total time=   0.0s\n",
      "[CV 2/5] END LR__C=6.84242105263158, LR__solver=newton-cholesky, SCL=StandardScaler();, score=0.810 total time=   0.0s\n",
      "[CV 3/5] END LR__C=6.84242105263158, LR__solver=newton-cholesky, SCL=StandardScaler();, score=0.825 total time=   0.0s\n",
      "[CV 4/5] END LR__C=6.84242105263158, LR__solver=newton-cholesky, SCL=StandardScaler();, score=0.816 total time=   0.0s\n",
      "[CV 5/5] END LR__C=6.84242105263158, LR__solver=newton-cholesky, SCL=StandardScaler();, score=0.827 total time=   0.0s\n",
      "[CV 1/5] END LR__C=6.84242105263158, LR__solver=newton-cholesky, SCL=None;, score=0.821 total time=   0.0s\n",
      "[CV 2/5] END LR__C=6.84242105263158, LR__solver=newton-cholesky, SCL=None;, score=0.810 total time=   0.0s\n",
      "[CV 3/5] END LR__C=6.84242105263158, LR__solver=newton-cholesky, SCL=None;, score=0.825 total time=   0.0s\n",
      "[CV 4/5] END LR__C=6.84242105263158, LR__solver=newton-cholesky, SCL=None;, score=0.816 total time=   0.0s\n",
      "[CV 5/5] END LR__C=6.84242105263158, LR__solver=newton-cholesky, SCL=None;, score=0.827 total time=   0.0s\n",
      "[CV 1/5] END LR__C=6.84242105263158, LR__solver=sag, SCL=MinMaxScaler();, score=0.821 total time=   0.1s\n",
      "[CV 2/5] END LR__C=6.84242105263158, LR__solver=sag, SCL=MinMaxScaler();, score=0.810 total time=   0.1s\n",
      "[CV 3/5] END LR__C=6.84242105263158, LR__solver=sag, SCL=MinMaxScaler();, score=0.825 total time=   0.1s\n",
      "[CV 4/5] END LR__C=6.84242105263158, LR__solver=sag, SCL=MinMaxScaler();, score=0.816 total time=   0.1s\n",
      "[CV 5/5] END LR__C=6.84242105263158, LR__solver=sag, SCL=MinMaxScaler();, score=0.827 total time=   0.1s\n",
      "[CV 1/5] END LR__C=6.84242105263158, LR__solver=sag, SCL=StandardScaler();, score=0.821 total time=   0.1s\n",
      "[CV 2/5] END LR__C=6.84242105263158, LR__solver=sag, SCL=StandardScaler();, score=0.810 total time=   0.1s\n",
      "[CV 3/5] END LR__C=6.84242105263158, LR__solver=sag, SCL=StandardScaler();, score=0.825 total time=   0.0s\n",
      "[CV 4/5] END LR__C=6.84242105263158, LR__solver=sag, SCL=StandardScaler();, score=0.816 total time=   0.1s\n",
      "[CV 5/5] END LR__C=6.84242105263158, LR__solver=sag, SCL=StandardScaler();, score=0.827 total time=   0.1s\n"
     ]
    },
    {
     "name": "stderr",
     "output_type": "stream",
     "text": [
      "C:\\Users\\DAI.STUDENTSDC\\AppData\\Local\\anaconda3\\Lib\\site-packages\\sklearn\\linear_model\\_sag.py:349: ConvergenceWarning: The max_iter was reached which means the coef_ did not converge\n",
      "  warnings.warn(\n"
     ]
    },
    {
     "name": "stdout",
     "output_type": "stream",
     "text": [
      "[CV 1/5] END LR__C=6.84242105263158, LR__solver=sag, SCL=None;, score=0.812 total time=   0.3s\n"
     ]
    },
    {
     "name": "stderr",
     "output_type": "stream",
     "text": [
      "C:\\Users\\DAI.STUDENTSDC\\AppData\\Local\\anaconda3\\Lib\\site-packages\\sklearn\\linear_model\\_sag.py:349: ConvergenceWarning: The max_iter was reached which means the coef_ did not converge\n",
      "  warnings.warn(\n"
     ]
    },
    {
     "name": "stdout",
     "output_type": "stream",
     "text": [
      "[CV 2/5] END LR__C=6.84242105263158, LR__solver=sag, SCL=None;, score=0.792 total time=   0.3s\n"
     ]
    },
    {
     "name": "stderr",
     "output_type": "stream",
     "text": [
      "C:\\Users\\DAI.STUDENTSDC\\AppData\\Local\\anaconda3\\Lib\\site-packages\\sklearn\\linear_model\\_sag.py:349: ConvergenceWarning: The max_iter was reached which means the coef_ did not converge\n",
      "  warnings.warn(\n"
     ]
    },
    {
     "name": "stdout",
     "output_type": "stream",
     "text": [
      "[CV 3/5] END LR__C=6.84242105263158, LR__solver=sag, SCL=None;, score=0.811 total time=   0.3s\n"
     ]
    },
    {
     "name": "stderr",
     "output_type": "stream",
     "text": [
      "C:\\Users\\DAI.STUDENTSDC\\AppData\\Local\\anaconda3\\Lib\\site-packages\\sklearn\\linear_model\\_sag.py:349: ConvergenceWarning: The max_iter was reached which means the coef_ did not converge\n",
      "  warnings.warn(\n"
     ]
    },
    {
     "name": "stdout",
     "output_type": "stream",
     "text": [
      "[CV 4/5] END LR__C=6.84242105263158, LR__solver=sag, SCL=None;, score=0.807 total time=   0.3s\n"
     ]
    },
    {
     "name": "stderr",
     "output_type": "stream",
     "text": [
      "C:\\Users\\DAI.STUDENTSDC\\AppData\\Local\\anaconda3\\Lib\\site-packages\\sklearn\\linear_model\\_sag.py:349: ConvergenceWarning: The max_iter was reached which means the coef_ did not converge\n",
      "  warnings.warn(\n"
     ]
    },
    {
     "name": "stdout",
     "output_type": "stream",
     "text": [
      "[CV 5/5] END LR__C=6.84242105263158, LR__solver=sag, SCL=None;, score=0.814 total time=   0.4s\n",
      "[CV 1/5] END LR__C=6.84242105263158, LR__solver=saga, SCL=MinMaxScaler();, score=0.821 total time=   0.0s\n",
      "[CV 2/5] END LR__C=6.84242105263158, LR__solver=saga, SCL=MinMaxScaler();, score=0.810 total time=   0.1s\n",
      "[CV 3/5] END LR__C=6.84242105263158, LR__solver=saga, SCL=MinMaxScaler();, score=0.825 total time=   0.0s\n",
      "[CV 4/5] END LR__C=6.84242105263158, LR__solver=saga, SCL=MinMaxScaler();, score=0.816 total time=   0.0s\n",
      "[CV 5/5] END LR__C=6.84242105263158, LR__solver=saga, SCL=MinMaxScaler();, score=0.827 total time=   0.0s\n",
      "[CV 1/5] END LR__C=6.84242105263158, LR__solver=saga, SCL=StandardScaler();, score=0.821 total time=   0.0s\n",
      "[CV 2/5] END LR__C=6.84242105263158, LR__solver=saga, SCL=StandardScaler();, score=0.810 total time=   0.0s\n",
      "[CV 3/5] END LR__C=6.84242105263158, LR__solver=saga, SCL=StandardScaler();, score=0.825 total time=   0.0s\n",
      "[CV 4/5] END LR__C=6.84242105263158, LR__solver=saga, SCL=StandardScaler();, score=0.816 total time=   0.0s\n",
      "[CV 5/5] END LR__C=6.84242105263158, LR__solver=saga, SCL=StandardScaler();, score=0.827 total time=   0.0s\n"
     ]
    },
    {
     "name": "stderr",
     "output_type": "stream",
     "text": [
      "C:\\Users\\DAI.STUDENTSDC\\AppData\\Local\\anaconda3\\Lib\\site-packages\\sklearn\\linear_model\\_sag.py:349: ConvergenceWarning: The max_iter was reached which means the coef_ did not converge\n",
      "  warnings.warn(\n"
     ]
    },
    {
     "name": "stdout",
     "output_type": "stream",
     "text": [
      "[CV 1/5] END LR__C=6.84242105263158, LR__solver=saga, SCL=None;, score=0.784 total time=   0.4s\n"
     ]
    },
    {
     "name": "stderr",
     "output_type": "stream",
     "text": [
      "C:\\Users\\DAI.STUDENTSDC\\AppData\\Local\\anaconda3\\Lib\\site-packages\\sklearn\\linear_model\\_sag.py:349: ConvergenceWarning: The max_iter was reached which means the coef_ did not converge\n",
      "  warnings.warn(\n"
     ]
    },
    {
     "name": "stdout",
     "output_type": "stream",
     "text": [
      "[CV 2/5] END LR__C=6.84242105263158, LR__solver=saga, SCL=None;, score=0.766 total time=   0.4s\n"
     ]
    },
    {
     "name": "stderr",
     "output_type": "stream",
     "text": [
      "C:\\Users\\DAI.STUDENTSDC\\AppData\\Local\\anaconda3\\Lib\\site-packages\\sklearn\\linear_model\\_sag.py:349: ConvergenceWarning: The max_iter was reached which means the coef_ did not converge\n",
      "  warnings.warn(\n"
     ]
    },
    {
     "name": "stdout",
     "output_type": "stream",
     "text": [
      "[CV 3/5] END LR__C=6.84242105263158, LR__solver=saga, SCL=None;, score=0.787 total time=   0.3s\n"
     ]
    },
    {
     "name": "stderr",
     "output_type": "stream",
     "text": [
      "C:\\Users\\DAI.STUDENTSDC\\AppData\\Local\\anaconda3\\Lib\\site-packages\\sklearn\\linear_model\\_sag.py:349: ConvergenceWarning: The max_iter was reached which means the coef_ did not converge\n",
      "  warnings.warn(\n"
     ]
    },
    {
     "name": "stdout",
     "output_type": "stream",
     "text": [
      "[CV 4/5] END LR__C=6.84242105263158, LR__solver=saga, SCL=None;, score=0.786 total time=   0.4s\n"
     ]
    },
    {
     "name": "stderr",
     "output_type": "stream",
     "text": [
      "C:\\Users\\DAI.STUDENTSDC\\AppData\\Local\\anaconda3\\Lib\\site-packages\\sklearn\\linear_model\\_sag.py:349: ConvergenceWarning: The max_iter was reached which means the coef_ did not converge\n",
      "  warnings.warn(\n"
     ]
    },
    {
     "name": "stdout",
     "output_type": "stream",
     "text": [
      "[CV 5/5] END LR__C=6.84242105263158, LR__solver=saga, SCL=None;, score=0.786 total time=   0.4s\n",
      "[CV 1/5] END LR__C=7.368684210526316, LR__solver=lbfgs, SCL=MinMaxScaler();, score=0.821 total time=   0.0s\n",
      "[CV 2/5] END LR__C=7.368684210526316, LR__solver=lbfgs, SCL=MinMaxScaler();, score=0.810 total time=   0.0s\n",
      "[CV 3/5] END LR__C=7.368684210526316, LR__solver=lbfgs, SCL=MinMaxScaler();, score=0.825 total time=   0.0s\n",
      "[CV 4/5] END LR__C=7.368684210526316, LR__solver=lbfgs, SCL=MinMaxScaler();, score=0.816 total time=   0.0s\n",
      "[CV 5/5] END LR__C=7.368684210526316, LR__solver=lbfgs, SCL=MinMaxScaler();, score=0.827 total time=   0.0s\n",
      "[CV 1/5] END LR__C=7.368684210526316, LR__solver=lbfgs, SCL=StandardScaler();, score=0.821 total time=   0.0s\n",
      "[CV 2/5] END LR__C=7.368684210526316, LR__solver=lbfgs, SCL=StandardScaler();, score=0.810 total time=   0.0s\n",
      "[CV 3/5] END LR__C=7.368684210526316, LR__solver=lbfgs, SCL=StandardScaler();, score=0.825 total time=   0.0s\n",
      "[CV 4/5] END LR__C=7.368684210526316, LR__solver=lbfgs, SCL=StandardScaler();, score=0.816 total time=   0.0s\n",
      "[CV 5/5] END LR__C=7.368684210526316, LR__solver=lbfgs, SCL=StandardScaler();, score=0.827 total time=   0.0s\n",
      "[CV 1/5] END LR__C=7.368684210526316, LR__solver=lbfgs, SCL=None;, score=0.817 total time=   0.1s\n"
     ]
    },
    {
     "name": "stderr",
     "output_type": "stream",
     "text": [
      "C:\\Users\\DAI.STUDENTSDC\\AppData\\Local\\anaconda3\\Lib\\site-packages\\sklearn\\linear_model\\_logistic.py:469: ConvergenceWarning: lbfgs failed to converge (status=1):\n",
      "STOP: TOTAL NO. of ITERATIONS REACHED LIMIT.\n",
      "\n",
      "Increase the number of iterations (max_iter) or scale the data as shown in:\n",
      "    https://scikit-learn.org/stable/modules/preprocessing.html\n",
      "Please also refer to the documentation for alternative solver options:\n",
      "    https://scikit-learn.org/stable/modules/linear_model.html#logistic-regression\n",
      "  n_iter_i = _check_optimize_result(\n",
      "C:\\Users\\DAI.STUDENTSDC\\AppData\\Local\\anaconda3\\Lib\\site-packages\\sklearn\\linear_model\\_logistic.py:469: ConvergenceWarning: lbfgs failed to converge (status=1):\n",
      "STOP: TOTAL NO. of ITERATIONS REACHED LIMIT.\n",
      "\n",
      "Increase the number of iterations (max_iter) or scale the data as shown in:\n",
      "    https://scikit-learn.org/stable/modules/preprocessing.html\n",
      "Please also refer to the documentation for alternative solver options:\n",
      "    https://scikit-learn.org/stable/modules/linear_model.html#logistic-regression\n",
      "  n_iter_i = _check_optimize_result(\n"
     ]
    },
    {
     "name": "stdout",
     "output_type": "stream",
     "text": [
      "[CV 2/5] END LR__C=7.368684210526316, LR__solver=lbfgs, SCL=None;, score=0.805 total time=   0.1s\n",
      "[CV 3/5] END LR__C=7.368684210526316, LR__solver=lbfgs, SCL=None;, score=0.814 total time=   0.1s\n"
     ]
    },
    {
     "name": "stderr",
     "output_type": "stream",
     "text": [
      "C:\\Users\\DAI.STUDENTSDC\\AppData\\Local\\anaconda3\\Lib\\site-packages\\sklearn\\linear_model\\_logistic.py:469: ConvergenceWarning: lbfgs failed to converge (status=1):\n",
      "STOP: TOTAL NO. of ITERATIONS REACHED LIMIT.\n",
      "\n",
      "Increase the number of iterations (max_iter) or scale the data as shown in:\n",
      "    https://scikit-learn.org/stable/modules/preprocessing.html\n",
      "Please also refer to the documentation for alternative solver options:\n",
      "    https://scikit-learn.org/stable/modules/linear_model.html#logistic-regression\n",
      "  n_iter_i = _check_optimize_result(\n",
      "C:\\Users\\DAI.STUDENTSDC\\AppData\\Local\\anaconda3\\Lib\\site-packages\\sklearn\\linear_model\\_logistic.py:469: ConvergenceWarning: lbfgs failed to converge (status=1):\n",
      "STOP: TOTAL NO. of ITERATIONS REACHED LIMIT.\n",
      "\n",
      "Increase the number of iterations (max_iter) or scale the data as shown in:\n",
      "    https://scikit-learn.org/stable/modules/preprocessing.html\n",
      "Please also refer to the documentation for alternative solver options:\n",
      "    https://scikit-learn.org/stable/modules/linear_model.html#logistic-regression\n",
      "  n_iter_i = _check_optimize_result(\n"
     ]
    },
    {
     "name": "stdout",
     "output_type": "stream",
     "text": [
      "[CV 4/5] END LR__C=7.368684210526316, LR__solver=lbfgs, SCL=None;, score=0.812 total time=   0.1s\n",
      "[CV 5/5] END LR__C=7.368684210526316, LR__solver=lbfgs, SCL=None;, score=0.822 total time=   0.1s\n"
     ]
    },
    {
     "name": "stderr",
     "output_type": "stream",
     "text": [
      "C:\\Users\\DAI.STUDENTSDC\\AppData\\Local\\anaconda3\\Lib\\site-packages\\sklearn\\linear_model\\_logistic.py:469: ConvergenceWarning: lbfgs failed to converge (status=1):\n",
      "STOP: TOTAL NO. of ITERATIONS REACHED LIMIT.\n",
      "\n",
      "Increase the number of iterations (max_iter) or scale the data as shown in:\n",
      "    https://scikit-learn.org/stable/modules/preprocessing.html\n",
      "Please also refer to the documentation for alternative solver options:\n",
      "    https://scikit-learn.org/stable/modules/linear_model.html#logistic-regression\n",
      "  n_iter_i = _check_optimize_result(\n"
     ]
    },
    {
     "name": "stdout",
     "output_type": "stream",
     "text": [
      "[CV 1/5] END LR__C=7.368684210526316, LR__solver=liblinear, SCL=MinMaxScaler();, score=0.821 total time=   0.0s\n",
      "[CV 2/5] END LR__C=7.368684210526316, LR__solver=liblinear, SCL=MinMaxScaler();, score=0.810 total time=   0.0s\n",
      "[CV 3/5] END LR__C=7.368684210526316, LR__solver=liblinear, SCL=MinMaxScaler();, score=0.825 total time=   0.0s\n",
      "[CV 4/5] END LR__C=7.368684210526316, LR__solver=liblinear, SCL=MinMaxScaler();, score=0.816 total time=   0.0s\n",
      "[CV 5/5] END LR__C=7.368684210526316, LR__solver=liblinear, SCL=MinMaxScaler();, score=0.827 total time=   0.0s\n",
      "[CV 1/5] END LR__C=7.368684210526316, LR__solver=liblinear, SCL=StandardScaler();, score=0.821 total time=   0.0s\n",
      "[CV 2/5] END LR__C=7.368684210526316, LR__solver=liblinear, SCL=StandardScaler();, score=0.810 total time=   0.0s\n",
      "[CV 3/5] END LR__C=7.368684210526316, LR__solver=liblinear, SCL=StandardScaler();, score=0.825 total time=   0.0s\n",
      "[CV 4/5] END LR__C=7.368684210526316, LR__solver=liblinear, SCL=StandardScaler();, score=0.816 total time=   0.0s\n",
      "[CV 5/5] END LR__C=7.368684210526316, LR__solver=liblinear, SCL=StandardScaler();, score=0.827 total time=   0.0s\n",
      "[CV 1/5] END LR__C=7.368684210526316, LR__solver=liblinear, SCL=None;, score=0.821 total time=   0.0s\n",
      "[CV 2/5] END LR__C=7.368684210526316, LR__solver=liblinear, SCL=None;, score=0.810 total time=   0.0s\n",
      "[CV 3/5] END LR__C=7.368684210526316, LR__solver=liblinear, SCL=None;, score=0.825 total time=   0.0s\n",
      "[CV 4/5] END LR__C=7.368684210526316, LR__solver=liblinear, SCL=None;, score=0.817 total time=   0.0s\n",
      "[CV 5/5] END LR__C=7.368684210526316, LR__solver=liblinear, SCL=None;, score=0.827 total time=   0.0s\n",
      "[CV 1/5] END LR__C=7.368684210526316, LR__solver=newton-cg, SCL=MinMaxScaler();, score=0.821 total time=   0.0s\n",
      "[CV 2/5] END LR__C=7.368684210526316, LR__solver=newton-cg, SCL=MinMaxScaler();, score=0.810 total time=   0.0s\n",
      "[CV 3/5] END LR__C=7.368684210526316, LR__solver=newton-cg, SCL=MinMaxScaler();, score=0.825 total time=   0.0s\n",
      "[CV 4/5] END LR__C=7.368684210526316, LR__solver=newton-cg, SCL=MinMaxScaler();, score=0.816 total time=   0.0s\n",
      "[CV 5/5] END LR__C=7.368684210526316, LR__solver=newton-cg, SCL=MinMaxScaler();, score=0.827 total time=   0.0s\n",
      "[CV 1/5] END LR__C=7.368684210526316, LR__solver=newton-cg, SCL=StandardScaler();, score=0.821 total time=   0.0s\n",
      "[CV 2/5] END LR__C=7.368684210526316, LR__solver=newton-cg, SCL=StandardScaler();, score=0.810 total time=   0.0s\n",
      "[CV 3/5] END LR__C=7.368684210526316, LR__solver=newton-cg, SCL=StandardScaler();, score=0.825 total time=   0.0s\n",
      "[CV 4/5] END LR__C=7.368684210526316, LR__solver=newton-cg, SCL=StandardScaler();, score=0.816 total time=   0.0s\n",
      "[CV 5/5] END LR__C=7.368684210526316, LR__solver=newton-cg, SCL=StandardScaler();, score=0.827 total time=   0.0s\n",
      "[CV 1/5] END LR__C=7.368684210526316, LR__solver=newton-cg, SCL=None;, score=0.821 total time=   0.1s\n",
      "[CV 2/5] END LR__C=7.368684210526316, LR__solver=newton-cg, SCL=None;, score=0.810 total time=   0.1s\n",
      "[CV 3/5] END LR__C=7.368684210526316, LR__solver=newton-cg, SCL=None;, score=0.825 total time=   0.1s\n",
      "[CV 4/5] END LR__C=7.368684210526316, LR__solver=newton-cg, SCL=None;, score=0.816 total time=   0.2s\n",
      "[CV 5/5] END LR__C=7.368684210526316, LR__solver=newton-cg, SCL=None;, score=0.827 total time=   0.2s\n",
      "[CV 1/5] END LR__C=7.368684210526316, LR__solver=newton-cholesky, SCL=MinMaxScaler();, score=0.821 total time=   0.0s\n",
      "[CV 2/5] END LR__C=7.368684210526316, LR__solver=newton-cholesky, SCL=MinMaxScaler();, score=0.810 total time=   0.0s\n",
      "[CV 3/5] END LR__C=7.368684210526316, LR__solver=newton-cholesky, SCL=MinMaxScaler();, score=0.825 total time=   0.0s\n",
      "[CV 4/5] END LR__C=7.368684210526316, LR__solver=newton-cholesky, SCL=MinMaxScaler();, score=0.816 total time=   0.0s\n",
      "[CV 5/5] END LR__C=7.368684210526316, LR__solver=newton-cholesky, SCL=MinMaxScaler();, score=0.827 total time=   0.0s\n",
      "[CV 1/5] END LR__C=7.368684210526316, LR__solver=newton-cholesky, SCL=StandardScaler();, score=0.821 total time=   0.0s\n",
      "[CV 2/5] END LR__C=7.368684210526316, LR__solver=newton-cholesky, SCL=StandardScaler();, score=0.810 total time=   0.0s\n",
      "[CV 3/5] END LR__C=7.368684210526316, LR__solver=newton-cholesky, SCL=StandardScaler();, score=0.825 total time=   0.0s\n",
      "[CV 4/5] END LR__C=7.368684210526316, LR__solver=newton-cholesky, SCL=StandardScaler();, score=0.816 total time=   0.0s\n",
      "[CV 5/5] END LR__C=7.368684210526316, LR__solver=newton-cholesky, SCL=StandardScaler();, score=0.827 total time=   0.0s\n",
      "[CV 1/5] END LR__C=7.368684210526316, LR__solver=newton-cholesky, SCL=None;, score=0.821 total time=   0.0s\n",
      "[CV 2/5] END LR__C=7.368684210526316, LR__solver=newton-cholesky, SCL=None;, score=0.810 total time=   0.0s\n",
      "[CV 3/5] END LR__C=7.368684210526316, LR__solver=newton-cholesky, SCL=None;, score=0.825 total time=   0.0s\n",
      "[CV 4/5] END LR__C=7.368684210526316, LR__solver=newton-cholesky, SCL=None;, score=0.816 total time=   0.0s\n",
      "[CV 5/5] END LR__C=7.368684210526316, LR__solver=newton-cholesky, SCL=None;, score=0.827 total time=   0.0s\n",
      "[CV 1/5] END LR__C=7.368684210526316, LR__solver=sag, SCL=MinMaxScaler();, score=0.821 total time=   0.1s\n",
      "[CV 2/5] END LR__C=7.368684210526316, LR__solver=sag, SCL=MinMaxScaler();, score=0.810 total time=   0.1s\n",
      "[CV 3/5] END LR__C=7.368684210526316, LR__solver=sag, SCL=MinMaxScaler();, score=0.825 total time=   0.1s\n",
      "[CV 4/5] END LR__C=7.368684210526316, LR__solver=sag, SCL=MinMaxScaler();, score=0.816 total time=   0.1s\n",
      "[CV 5/5] END LR__C=7.368684210526316, LR__solver=sag, SCL=MinMaxScaler();, score=0.827 total time=   0.1s\n",
      "[CV 1/5] END LR__C=7.368684210526316, LR__solver=sag, SCL=StandardScaler();, score=0.821 total time=   0.1s\n",
      "[CV 2/5] END LR__C=7.368684210526316, LR__solver=sag, SCL=StandardScaler();, score=0.810 total time=   0.1s\n",
      "[CV 3/5] END LR__C=7.368684210526316, LR__solver=sag, SCL=StandardScaler();, score=0.825 total time=   0.1s\n",
      "[CV 4/5] END LR__C=7.368684210526316, LR__solver=sag, SCL=StandardScaler();, score=0.816 total time=   0.1s\n",
      "[CV 5/5] END LR__C=7.368684210526316, LR__solver=sag, SCL=StandardScaler();, score=0.827 total time=   0.1s\n"
     ]
    },
    {
     "name": "stderr",
     "output_type": "stream",
     "text": [
      "C:\\Users\\DAI.STUDENTSDC\\AppData\\Local\\anaconda3\\Lib\\site-packages\\sklearn\\linear_model\\_sag.py:349: ConvergenceWarning: The max_iter was reached which means the coef_ did not converge\n",
      "  warnings.warn(\n"
     ]
    },
    {
     "name": "stdout",
     "output_type": "stream",
     "text": [
      "[CV 1/5] END LR__C=7.368684210526316, LR__solver=sag, SCL=None;, score=0.812 total time=   0.3s\n"
     ]
    },
    {
     "name": "stderr",
     "output_type": "stream",
     "text": [
      "C:\\Users\\DAI.STUDENTSDC\\AppData\\Local\\anaconda3\\Lib\\site-packages\\sklearn\\linear_model\\_sag.py:349: ConvergenceWarning: The max_iter was reached which means the coef_ did not converge\n",
      "  warnings.warn(\n"
     ]
    },
    {
     "name": "stdout",
     "output_type": "stream",
     "text": [
      "[CV 2/5] END LR__C=7.368684210526316, LR__solver=sag, SCL=None;, score=0.792 total time=   0.3s\n"
     ]
    },
    {
     "name": "stderr",
     "output_type": "stream",
     "text": [
      "C:\\Users\\DAI.STUDENTSDC\\AppData\\Local\\anaconda3\\Lib\\site-packages\\sklearn\\linear_model\\_sag.py:349: ConvergenceWarning: The max_iter was reached which means the coef_ did not converge\n",
      "  warnings.warn(\n"
     ]
    },
    {
     "name": "stdout",
     "output_type": "stream",
     "text": [
      "[CV 3/5] END LR__C=7.368684210526316, LR__solver=sag, SCL=None;, score=0.811 total time=   0.4s\n"
     ]
    },
    {
     "name": "stderr",
     "output_type": "stream",
     "text": [
      "C:\\Users\\DAI.STUDENTSDC\\AppData\\Local\\anaconda3\\Lib\\site-packages\\sklearn\\linear_model\\_sag.py:349: ConvergenceWarning: The max_iter was reached which means the coef_ did not converge\n",
      "  warnings.warn(\n"
     ]
    },
    {
     "name": "stdout",
     "output_type": "stream",
     "text": [
      "[CV 4/5] END LR__C=7.368684210526316, LR__solver=sag, SCL=None;, score=0.807 total time=   0.3s\n"
     ]
    },
    {
     "name": "stderr",
     "output_type": "stream",
     "text": [
      "C:\\Users\\DAI.STUDENTSDC\\AppData\\Local\\anaconda3\\Lib\\site-packages\\sklearn\\linear_model\\_sag.py:349: ConvergenceWarning: The max_iter was reached which means the coef_ did not converge\n",
      "  warnings.warn(\n"
     ]
    },
    {
     "name": "stdout",
     "output_type": "stream",
     "text": [
      "[CV 5/5] END LR__C=7.368684210526316, LR__solver=sag, SCL=None;, score=0.814 total time=   0.3s\n",
      "[CV 1/5] END LR__C=7.368684210526316, LR__solver=saga, SCL=MinMaxScaler();, score=0.821 total time=   0.0s\n",
      "[CV 2/5] END LR__C=7.368684210526316, LR__solver=saga, SCL=MinMaxScaler();, score=0.810 total time=   0.0s\n",
      "[CV 3/5] END LR__C=7.368684210526316, LR__solver=saga, SCL=MinMaxScaler();, score=0.825 total time=   0.0s\n",
      "[CV 4/5] END LR__C=7.368684210526316, LR__solver=saga, SCL=MinMaxScaler();, score=0.816 total time=   0.0s\n",
      "[CV 5/5] END LR__C=7.368684210526316, LR__solver=saga, SCL=MinMaxScaler();, score=0.827 total time=   0.0s\n",
      "[CV 1/5] END LR__C=7.368684210526316, LR__solver=saga, SCL=StandardScaler();, score=0.821 total time=   0.0s\n",
      "[CV 2/5] END LR__C=7.368684210526316, LR__solver=saga, SCL=StandardScaler();, score=0.810 total time=   0.0s\n",
      "[CV 3/5] END LR__C=7.368684210526316, LR__solver=saga, SCL=StandardScaler();, score=0.825 total time=   0.0s\n",
      "[CV 4/5] END LR__C=7.368684210526316, LR__solver=saga, SCL=StandardScaler();, score=0.816 total time=   0.0s\n",
      "[CV 5/5] END LR__C=7.368684210526316, LR__solver=saga, SCL=StandardScaler();, score=0.827 total time=   0.0s\n"
     ]
    },
    {
     "name": "stderr",
     "output_type": "stream",
     "text": [
      "C:\\Users\\DAI.STUDENTSDC\\AppData\\Local\\anaconda3\\Lib\\site-packages\\sklearn\\linear_model\\_sag.py:349: ConvergenceWarning: The max_iter was reached which means the coef_ did not converge\n",
      "  warnings.warn(\n"
     ]
    },
    {
     "name": "stdout",
     "output_type": "stream",
     "text": [
      "[CV 1/5] END LR__C=7.368684210526316, LR__solver=saga, SCL=None;, score=0.784 total time=   0.3s\n"
     ]
    },
    {
     "name": "stderr",
     "output_type": "stream",
     "text": [
      "C:\\Users\\DAI.STUDENTSDC\\AppData\\Local\\anaconda3\\Lib\\site-packages\\sklearn\\linear_model\\_sag.py:349: ConvergenceWarning: The max_iter was reached which means the coef_ did not converge\n",
      "  warnings.warn(\n"
     ]
    },
    {
     "name": "stdout",
     "output_type": "stream",
     "text": [
      "[CV 2/5] END LR__C=7.368684210526316, LR__solver=saga, SCL=None;, score=0.766 total time=   0.3s\n"
     ]
    },
    {
     "name": "stderr",
     "output_type": "stream",
     "text": [
      "C:\\Users\\DAI.STUDENTSDC\\AppData\\Local\\anaconda3\\Lib\\site-packages\\sklearn\\linear_model\\_sag.py:349: ConvergenceWarning: The max_iter was reached which means the coef_ did not converge\n",
      "  warnings.warn(\n"
     ]
    },
    {
     "name": "stdout",
     "output_type": "stream",
     "text": [
      "[CV 3/5] END LR__C=7.368684210526316, LR__solver=saga, SCL=None;, score=0.787 total time=   0.3s\n"
     ]
    },
    {
     "name": "stderr",
     "output_type": "stream",
     "text": [
      "C:\\Users\\DAI.STUDENTSDC\\AppData\\Local\\anaconda3\\Lib\\site-packages\\sklearn\\linear_model\\_sag.py:349: ConvergenceWarning: The max_iter was reached which means the coef_ did not converge\n",
      "  warnings.warn(\n"
     ]
    },
    {
     "name": "stdout",
     "output_type": "stream",
     "text": [
      "[CV 4/5] END LR__C=7.368684210526316, LR__solver=saga, SCL=None;, score=0.786 total time=   0.4s\n"
     ]
    },
    {
     "name": "stderr",
     "output_type": "stream",
     "text": [
      "C:\\Users\\DAI.STUDENTSDC\\AppData\\Local\\anaconda3\\Lib\\site-packages\\sklearn\\linear_model\\_sag.py:349: ConvergenceWarning: The max_iter was reached which means the coef_ did not converge\n",
      "  warnings.warn(\n"
     ]
    },
    {
     "name": "stdout",
     "output_type": "stream",
     "text": [
      "[CV 5/5] END LR__C=7.368684210526316, LR__solver=saga, SCL=None;, score=0.786 total time=   0.4s\n",
      "[CV 1/5] END LR__C=7.894947368421054, LR__solver=lbfgs, SCL=MinMaxScaler();, score=0.821 total time=   0.0s\n",
      "[CV 2/5] END LR__C=7.894947368421054, LR__solver=lbfgs, SCL=MinMaxScaler();, score=0.810 total time=   0.0s\n",
      "[CV 3/5] END LR__C=7.894947368421054, LR__solver=lbfgs, SCL=MinMaxScaler();, score=0.825 total time=   0.0s\n",
      "[CV 4/5] END LR__C=7.894947368421054, LR__solver=lbfgs, SCL=MinMaxScaler();, score=0.816 total time=   0.0s\n",
      "[CV 5/5] END LR__C=7.894947368421054, LR__solver=lbfgs, SCL=MinMaxScaler();, score=0.827 total time=   0.0s\n",
      "[CV 1/5] END LR__C=7.894947368421054, LR__solver=lbfgs, SCL=StandardScaler();, score=0.821 total time=   0.0s\n",
      "[CV 2/5] END LR__C=7.894947368421054, LR__solver=lbfgs, SCL=StandardScaler();, score=0.810 total time=   0.0s\n",
      "[CV 3/5] END LR__C=7.894947368421054, LR__solver=lbfgs, SCL=StandardScaler();, score=0.825 total time=   0.0s\n",
      "[CV 4/5] END LR__C=7.894947368421054, LR__solver=lbfgs, SCL=StandardScaler();, score=0.816 total time=   0.0s\n",
      "[CV 5/5] END LR__C=7.894947368421054, LR__solver=lbfgs, SCL=StandardScaler();, score=0.827 total time=   0.0s\n",
      "[CV 1/5] END LR__C=7.894947368421054, LR__solver=lbfgs, SCL=None;, score=0.817 total time=   0.1s\n"
     ]
    },
    {
     "name": "stderr",
     "output_type": "stream",
     "text": [
      "C:\\Users\\DAI.STUDENTSDC\\AppData\\Local\\anaconda3\\Lib\\site-packages\\sklearn\\linear_model\\_logistic.py:469: ConvergenceWarning: lbfgs failed to converge (status=1):\n",
      "STOP: TOTAL NO. of ITERATIONS REACHED LIMIT.\n",
      "\n",
      "Increase the number of iterations (max_iter) or scale the data as shown in:\n",
      "    https://scikit-learn.org/stable/modules/preprocessing.html\n",
      "Please also refer to the documentation for alternative solver options:\n",
      "    https://scikit-learn.org/stable/modules/linear_model.html#logistic-regression\n",
      "  n_iter_i = _check_optimize_result(\n",
      "C:\\Users\\DAI.STUDENTSDC\\AppData\\Local\\anaconda3\\Lib\\site-packages\\sklearn\\linear_model\\_logistic.py:469: ConvergenceWarning: lbfgs failed to converge (status=1):\n",
      "STOP: TOTAL NO. of ITERATIONS REACHED LIMIT.\n",
      "\n",
      "Increase the number of iterations (max_iter) or scale the data as shown in:\n",
      "    https://scikit-learn.org/stable/modules/preprocessing.html\n",
      "Please also refer to the documentation for alternative solver options:\n",
      "    https://scikit-learn.org/stable/modules/linear_model.html#logistic-regression\n",
      "  n_iter_i = _check_optimize_result(\n"
     ]
    },
    {
     "name": "stdout",
     "output_type": "stream",
     "text": [
      "[CV 2/5] END LR__C=7.894947368421054, LR__solver=lbfgs, SCL=None;, score=0.805 total time=   0.1s\n",
      "[CV 3/5] END LR__C=7.894947368421054, LR__solver=lbfgs, SCL=None;, score=0.820 total time=   0.1s\n"
     ]
    },
    {
     "name": "stderr",
     "output_type": "stream",
     "text": [
      "C:\\Users\\DAI.STUDENTSDC\\AppData\\Local\\anaconda3\\Lib\\site-packages\\sklearn\\linear_model\\_logistic.py:469: ConvergenceWarning: lbfgs failed to converge (status=1):\n",
      "STOP: TOTAL NO. of ITERATIONS REACHED LIMIT.\n",
      "\n",
      "Increase the number of iterations (max_iter) or scale the data as shown in:\n",
      "    https://scikit-learn.org/stable/modules/preprocessing.html\n",
      "Please also refer to the documentation for alternative solver options:\n",
      "    https://scikit-learn.org/stable/modules/linear_model.html#logistic-regression\n",
      "  n_iter_i = _check_optimize_result(\n",
      "C:\\Users\\DAI.STUDENTSDC\\AppData\\Local\\anaconda3\\Lib\\site-packages\\sklearn\\linear_model\\_logistic.py:469: ConvergenceWarning: lbfgs failed to converge (status=1):\n",
      "STOP: TOTAL NO. of ITERATIONS REACHED LIMIT.\n",
      "\n",
      "Increase the number of iterations (max_iter) or scale the data as shown in:\n",
      "    https://scikit-learn.org/stable/modules/preprocessing.html\n",
      "Please also refer to the documentation for alternative solver options:\n",
      "    https://scikit-learn.org/stable/modules/linear_model.html#logistic-regression\n",
      "  n_iter_i = _check_optimize_result(\n"
     ]
    },
    {
     "name": "stdout",
     "output_type": "stream",
     "text": [
      "[CV 4/5] END LR__C=7.894947368421054, LR__solver=lbfgs, SCL=None;, score=0.811 total time=   0.1s\n"
     ]
    },
    {
     "name": "stderr",
     "output_type": "stream",
     "text": [
      "C:\\Users\\DAI.STUDENTSDC\\AppData\\Local\\anaconda3\\Lib\\site-packages\\sklearn\\linear_model\\_logistic.py:469: ConvergenceWarning: lbfgs failed to converge (status=1):\n",
      "STOP: TOTAL NO. of ITERATIONS REACHED LIMIT.\n",
      "\n",
      "Increase the number of iterations (max_iter) or scale the data as shown in:\n",
      "    https://scikit-learn.org/stable/modules/preprocessing.html\n",
      "Please also refer to the documentation for alternative solver options:\n",
      "    https://scikit-learn.org/stable/modules/linear_model.html#logistic-regression\n",
      "  n_iter_i = _check_optimize_result(\n"
     ]
    },
    {
     "name": "stdout",
     "output_type": "stream",
     "text": [
      "[CV 5/5] END LR__C=7.894947368421054, LR__solver=lbfgs, SCL=None;, score=0.824 total time=   0.1s\n",
      "[CV 1/5] END LR__C=7.894947368421054, LR__solver=liblinear, SCL=MinMaxScaler();, score=0.821 total time=   0.0s\n",
      "[CV 2/5] END LR__C=7.894947368421054, LR__solver=liblinear, SCL=MinMaxScaler();, score=0.810 total time=   0.0s\n",
      "[CV 3/5] END LR__C=7.894947368421054, LR__solver=liblinear, SCL=MinMaxScaler();, score=0.825 total time=   0.0s\n",
      "[CV 4/5] END LR__C=7.894947368421054, LR__solver=liblinear, SCL=MinMaxScaler();, score=0.816 total time=   0.0s\n",
      "[CV 5/5] END LR__C=7.894947368421054, LR__solver=liblinear, SCL=MinMaxScaler();, score=0.827 total time=   0.0s\n",
      "[CV 1/5] END LR__C=7.894947368421054, LR__solver=liblinear, SCL=StandardScaler();, score=0.821 total time=   0.0s\n",
      "[CV 2/5] END LR__C=7.894947368421054, LR__solver=liblinear, SCL=StandardScaler();, score=0.810 total time=   0.0s\n",
      "[CV 3/5] END LR__C=7.894947368421054, LR__solver=liblinear, SCL=StandardScaler();, score=0.825 total time=   0.0s\n",
      "[CV 4/5] END LR__C=7.894947368421054, LR__solver=liblinear, SCL=StandardScaler();, score=0.816 total time=   0.0s\n",
      "[CV 5/5] END LR__C=7.894947368421054, LR__solver=liblinear, SCL=StandardScaler();, score=0.827 total time=   0.0s\n",
      "[CV 1/5] END LR__C=7.894947368421054, LR__solver=liblinear, SCL=None;, score=0.821 total time=   0.0s\n",
      "[CV 2/5] END LR__C=7.894947368421054, LR__solver=liblinear, SCL=None;, score=0.810 total time=   0.0s\n",
      "[CV 3/5] END LR__C=7.894947368421054, LR__solver=liblinear, SCL=None;, score=0.825 total time=   0.0s\n",
      "[CV 4/5] END LR__C=7.894947368421054, LR__solver=liblinear, SCL=None;, score=0.817 total time=   0.0s\n",
      "[CV 5/5] END LR__C=7.894947368421054, LR__solver=liblinear, SCL=None;, score=0.827 total time=   0.0s\n",
      "[CV 1/5] END LR__C=7.894947368421054, LR__solver=newton-cg, SCL=MinMaxScaler();, score=0.821 total time=   0.0s\n",
      "[CV 2/5] END LR__C=7.894947368421054, LR__solver=newton-cg, SCL=MinMaxScaler();, score=0.810 total time=   0.0s\n",
      "[CV 3/5] END LR__C=7.894947368421054, LR__solver=newton-cg, SCL=MinMaxScaler();, score=0.825 total time=   0.0s\n",
      "[CV 4/5] END LR__C=7.894947368421054, LR__solver=newton-cg, SCL=MinMaxScaler();, score=0.816 total time=   0.0s\n",
      "[CV 5/5] END LR__C=7.894947368421054, LR__solver=newton-cg, SCL=MinMaxScaler();, score=0.827 total time=   0.0s\n",
      "[CV 1/5] END LR__C=7.894947368421054, LR__solver=newton-cg, SCL=StandardScaler();, score=0.821 total time=   0.0s\n",
      "[CV 2/5] END LR__C=7.894947368421054, LR__solver=newton-cg, SCL=StandardScaler();, score=0.810 total time=   0.0s\n",
      "[CV 3/5] END LR__C=7.894947368421054, LR__solver=newton-cg, SCL=StandardScaler();, score=0.825 total time=   0.0s\n",
      "[CV 4/5] END LR__C=7.894947368421054, LR__solver=newton-cg, SCL=StandardScaler();, score=0.816 total time=   0.0s\n",
      "[CV 5/5] END LR__C=7.894947368421054, LR__solver=newton-cg, SCL=StandardScaler();, score=0.827 total time=   0.0s\n",
      "[CV 1/5] END LR__C=7.894947368421054, LR__solver=newton-cg, SCL=None;, score=0.821 total time=   0.2s\n",
      "[CV 2/5] END LR__C=7.894947368421054, LR__solver=newton-cg, SCL=None;, score=0.810 total time=   0.2s\n",
      "[CV 3/5] END LR__C=7.894947368421054, LR__solver=newton-cg, SCL=None;, score=0.825 total time=   0.1s\n",
      "[CV 4/5] END LR__C=7.894947368421054, LR__solver=newton-cg, SCL=None;, score=0.816 total time=   0.2s\n",
      "[CV 5/5] END LR__C=7.894947368421054, LR__solver=newton-cg, SCL=None;, score=0.827 total time=   0.2s\n",
      "[CV 1/5] END LR__C=7.894947368421054, LR__solver=newton-cholesky, SCL=MinMaxScaler();, score=0.821 total time=   0.0s\n",
      "[CV 2/5] END LR__C=7.894947368421054, LR__solver=newton-cholesky, SCL=MinMaxScaler();, score=0.810 total time=   0.0s\n",
      "[CV 3/5] END LR__C=7.894947368421054, LR__solver=newton-cholesky, SCL=MinMaxScaler();, score=0.825 total time=   0.0s\n",
      "[CV 4/5] END LR__C=7.894947368421054, LR__solver=newton-cholesky, SCL=MinMaxScaler();, score=0.816 total time=   0.0s\n",
      "[CV 5/5] END LR__C=7.894947368421054, LR__solver=newton-cholesky, SCL=MinMaxScaler();, score=0.827 total time=   0.0s\n",
      "[CV 1/5] END LR__C=7.894947368421054, LR__solver=newton-cholesky, SCL=StandardScaler();, score=0.821 total time=   0.0s\n",
      "[CV 2/5] END LR__C=7.894947368421054, LR__solver=newton-cholesky, SCL=StandardScaler();, score=0.810 total time=   0.0s\n",
      "[CV 3/5] END LR__C=7.894947368421054, LR__solver=newton-cholesky, SCL=StandardScaler();, score=0.825 total time=   0.0s\n",
      "[CV 4/5] END LR__C=7.894947368421054, LR__solver=newton-cholesky, SCL=StandardScaler();, score=0.816 total time=   0.0s\n",
      "[CV 5/5] END LR__C=7.894947368421054, LR__solver=newton-cholesky, SCL=StandardScaler();, score=0.827 total time=   0.0s\n",
      "[CV 1/5] END LR__C=7.894947368421054, LR__solver=newton-cholesky, SCL=None;, score=0.821 total time=   0.0s\n",
      "[CV 2/5] END LR__C=7.894947368421054, LR__solver=newton-cholesky, SCL=None;, score=0.810 total time=   0.0s\n",
      "[CV 3/5] END LR__C=7.894947368421054, LR__solver=newton-cholesky, SCL=None;, score=0.825 total time=   0.0s\n",
      "[CV 4/5] END LR__C=7.894947368421054, LR__solver=newton-cholesky, SCL=None;, score=0.816 total time=   0.0s\n",
      "[CV 5/5] END LR__C=7.894947368421054, LR__solver=newton-cholesky, SCL=None;, score=0.827 total time=   0.0s\n",
      "[CV 1/5] END LR__C=7.894947368421054, LR__solver=sag, SCL=MinMaxScaler();, score=0.821 total time=   0.1s\n",
      "[CV 2/5] END LR__C=7.894947368421054, LR__solver=sag, SCL=MinMaxScaler();, score=0.810 total time=   0.1s\n",
      "[CV 3/5] END LR__C=7.894947368421054, LR__solver=sag, SCL=MinMaxScaler();, score=0.825 total time=   0.1s\n",
      "[CV 4/5] END LR__C=7.894947368421054, LR__solver=sag, SCL=MinMaxScaler();, score=0.816 total time=   0.1s\n",
      "[CV 5/5] END LR__C=7.894947368421054, LR__solver=sag, SCL=MinMaxScaler();, score=0.827 total time=   0.1s\n",
      "[CV 1/5] END LR__C=7.894947368421054, LR__solver=sag, SCL=StandardScaler();, score=0.821 total time=   0.1s\n",
      "[CV 2/5] END LR__C=7.894947368421054, LR__solver=sag, SCL=StandardScaler();, score=0.810 total time=   0.1s\n",
      "[CV 3/5] END LR__C=7.894947368421054, LR__solver=sag, SCL=StandardScaler();, score=0.825 total time=   0.1s\n",
      "[CV 4/5] END LR__C=7.894947368421054, LR__solver=sag, SCL=StandardScaler();, score=0.816 total time=   0.1s\n",
      "[CV 5/5] END LR__C=7.894947368421054, LR__solver=sag, SCL=StandardScaler();, score=0.827 total time=   0.1s\n"
     ]
    },
    {
     "name": "stderr",
     "output_type": "stream",
     "text": [
      "C:\\Users\\DAI.STUDENTSDC\\AppData\\Local\\anaconda3\\Lib\\site-packages\\sklearn\\linear_model\\_sag.py:349: ConvergenceWarning: The max_iter was reached which means the coef_ did not converge\n",
      "  warnings.warn(\n"
     ]
    },
    {
     "name": "stdout",
     "output_type": "stream",
     "text": [
      "[CV 1/5] END LR__C=7.894947368421054, LR__solver=sag, SCL=None;, score=0.812 total time=   0.4s\n"
     ]
    },
    {
     "name": "stderr",
     "output_type": "stream",
     "text": [
      "C:\\Users\\DAI.STUDENTSDC\\AppData\\Local\\anaconda3\\Lib\\site-packages\\sklearn\\linear_model\\_sag.py:349: ConvergenceWarning: The max_iter was reached which means the coef_ did not converge\n",
      "  warnings.warn(\n"
     ]
    },
    {
     "name": "stdout",
     "output_type": "stream",
     "text": [
      "[CV 2/5] END LR__C=7.894947368421054, LR__solver=sag, SCL=None;, score=0.792 total time=   0.4s\n"
     ]
    },
    {
     "name": "stderr",
     "output_type": "stream",
     "text": [
      "C:\\Users\\DAI.STUDENTSDC\\AppData\\Local\\anaconda3\\Lib\\site-packages\\sklearn\\linear_model\\_sag.py:349: ConvergenceWarning: The max_iter was reached which means the coef_ did not converge\n",
      "  warnings.warn(\n"
     ]
    },
    {
     "name": "stdout",
     "output_type": "stream",
     "text": [
      "[CV 3/5] END LR__C=7.894947368421054, LR__solver=sag, SCL=None;, score=0.811 total time=   0.4s\n"
     ]
    },
    {
     "name": "stderr",
     "output_type": "stream",
     "text": [
      "C:\\Users\\DAI.STUDENTSDC\\AppData\\Local\\anaconda3\\Lib\\site-packages\\sklearn\\linear_model\\_sag.py:349: ConvergenceWarning: The max_iter was reached which means the coef_ did not converge\n",
      "  warnings.warn(\n"
     ]
    },
    {
     "name": "stdout",
     "output_type": "stream",
     "text": [
      "[CV 4/5] END LR__C=7.894947368421054, LR__solver=sag, SCL=None;, score=0.807 total time=   0.4s\n"
     ]
    },
    {
     "name": "stderr",
     "output_type": "stream",
     "text": [
      "C:\\Users\\DAI.STUDENTSDC\\AppData\\Local\\anaconda3\\Lib\\site-packages\\sklearn\\linear_model\\_sag.py:349: ConvergenceWarning: The max_iter was reached which means the coef_ did not converge\n",
      "  warnings.warn(\n"
     ]
    },
    {
     "name": "stdout",
     "output_type": "stream",
     "text": [
      "[CV 5/5] END LR__C=7.894947368421054, LR__solver=sag, SCL=None;, score=0.814 total time=   0.4s\n",
      "[CV 1/5] END LR__C=7.894947368421054, LR__solver=saga, SCL=MinMaxScaler();, score=0.821 total time=   0.0s\n",
      "[CV 2/5] END LR__C=7.894947368421054, LR__solver=saga, SCL=MinMaxScaler();, score=0.810 total time=   0.0s\n",
      "[CV 3/5] END LR__C=7.894947368421054, LR__solver=saga, SCL=MinMaxScaler();, score=0.825 total time=   0.0s\n",
      "[CV 4/5] END LR__C=7.894947368421054, LR__solver=saga, SCL=MinMaxScaler();, score=0.816 total time=   0.1s\n",
      "[CV 5/5] END LR__C=7.894947368421054, LR__solver=saga, SCL=MinMaxScaler();, score=0.827 total time=   0.0s\n",
      "[CV 1/5] END LR__C=7.894947368421054, LR__solver=saga, SCL=StandardScaler();, score=0.821 total time=   0.0s\n",
      "[CV 2/5] END LR__C=7.894947368421054, LR__solver=saga, SCL=StandardScaler();, score=0.810 total time=   0.0s\n",
      "[CV 3/5] END LR__C=7.894947368421054, LR__solver=saga, SCL=StandardScaler();, score=0.825 total time=   0.0s\n",
      "[CV 4/5] END LR__C=7.894947368421054, LR__solver=saga, SCL=StandardScaler();, score=0.816 total time=   0.0s\n",
      "[CV 5/5] END LR__C=7.894947368421054, LR__solver=saga, SCL=StandardScaler();, score=0.827 total time=   0.0s\n"
     ]
    },
    {
     "name": "stderr",
     "output_type": "stream",
     "text": [
      "C:\\Users\\DAI.STUDENTSDC\\AppData\\Local\\anaconda3\\Lib\\site-packages\\sklearn\\linear_model\\_sag.py:349: ConvergenceWarning: The max_iter was reached which means the coef_ did not converge\n",
      "  warnings.warn(\n"
     ]
    },
    {
     "name": "stdout",
     "output_type": "stream",
     "text": [
      "[CV 1/5] END LR__C=7.894947368421054, LR__solver=saga, SCL=None;, score=0.784 total time=   0.4s\n"
     ]
    },
    {
     "name": "stderr",
     "output_type": "stream",
     "text": [
      "C:\\Users\\DAI.STUDENTSDC\\AppData\\Local\\anaconda3\\Lib\\site-packages\\sklearn\\linear_model\\_sag.py:349: ConvergenceWarning: The max_iter was reached which means the coef_ did not converge\n",
      "  warnings.warn(\n"
     ]
    },
    {
     "name": "stdout",
     "output_type": "stream",
     "text": [
      "[CV 2/5] END LR__C=7.894947368421054, LR__solver=saga, SCL=None;, score=0.766 total time=   0.4s\n"
     ]
    },
    {
     "name": "stderr",
     "output_type": "stream",
     "text": [
      "C:\\Users\\DAI.STUDENTSDC\\AppData\\Local\\anaconda3\\Lib\\site-packages\\sklearn\\linear_model\\_sag.py:349: ConvergenceWarning: The max_iter was reached which means the coef_ did not converge\n",
      "  warnings.warn(\n"
     ]
    },
    {
     "name": "stdout",
     "output_type": "stream",
     "text": [
      "[CV 3/5] END LR__C=7.894947368421054, LR__solver=saga, SCL=None;, score=0.787 total time=   0.4s\n"
     ]
    },
    {
     "name": "stderr",
     "output_type": "stream",
     "text": [
      "C:\\Users\\DAI.STUDENTSDC\\AppData\\Local\\anaconda3\\Lib\\site-packages\\sklearn\\linear_model\\_sag.py:349: ConvergenceWarning: The max_iter was reached which means the coef_ did not converge\n",
      "  warnings.warn(\n"
     ]
    },
    {
     "name": "stdout",
     "output_type": "stream",
     "text": [
      "[CV 4/5] END LR__C=7.894947368421054, LR__solver=saga, SCL=None;, score=0.786 total time=   0.4s\n"
     ]
    },
    {
     "name": "stderr",
     "output_type": "stream",
     "text": [
      "C:\\Users\\DAI.STUDENTSDC\\AppData\\Local\\anaconda3\\Lib\\site-packages\\sklearn\\linear_model\\_sag.py:349: ConvergenceWarning: The max_iter was reached which means the coef_ did not converge\n",
      "  warnings.warn(\n"
     ]
    },
    {
     "name": "stdout",
     "output_type": "stream",
     "text": [
      "[CV 5/5] END LR__C=7.894947368421054, LR__solver=saga, SCL=None;, score=0.786 total time=   0.4s\n",
      "[CV 1/5] END LR__C=8.42121052631579, LR__solver=lbfgs, SCL=MinMaxScaler();, score=0.821 total time=   0.0s\n",
      "[CV 2/5] END LR__C=8.42121052631579, LR__solver=lbfgs, SCL=MinMaxScaler();, score=0.810 total time=   0.0s\n",
      "[CV 3/5] END LR__C=8.42121052631579, LR__solver=lbfgs, SCL=MinMaxScaler();, score=0.825 total time=   0.0s\n",
      "[CV 4/5] END LR__C=8.42121052631579, LR__solver=lbfgs, SCL=MinMaxScaler();, score=0.816 total time=   0.0s\n",
      "[CV 5/5] END LR__C=8.42121052631579, LR__solver=lbfgs, SCL=MinMaxScaler();, score=0.827 total time=   0.0s\n",
      "[CV 1/5] END LR__C=8.42121052631579, LR__solver=lbfgs, SCL=StandardScaler();, score=0.821 total time=   0.0s\n",
      "[CV 2/5] END LR__C=8.42121052631579, LR__solver=lbfgs, SCL=StandardScaler();, score=0.810 total time=   0.0s\n",
      "[CV 3/5] END LR__C=8.42121052631579, LR__solver=lbfgs, SCL=StandardScaler();, score=0.825 total time=   0.0s\n",
      "[CV 4/5] END LR__C=8.42121052631579, LR__solver=lbfgs, SCL=StandardScaler();, score=0.816 total time=   0.0s\n",
      "[CV 5/5] END LR__C=8.42121052631579, LR__solver=lbfgs, SCL=StandardScaler();, score=0.827 total time=   0.0s\n"
     ]
    },
    {
     "name": "stderr",
     "output_type": "stream",
     "text": [
      "C:\\Users\\DAI.STUDENTSDC\\AppData\\Local\\anaconda3\\Lib\\site-packages\\sklearn\\linear_model\\_logistic.py:469: ConvergenceWarning: lbfgs failed to converge (status=1):\n",
      "STOP: TOTAL NO. of ITERATIONS REACHED LIMIT.\n",
      "\n",
      "Increase the number of iterations (max_iter) or scale the data as shown in:\n",
      "    https://scikit-learn.org/stable/modules/preprocessing.html\n",
      "Please also refer to the documentation for alternative solver options:\n",
      "    https://scikit-learn.org/stable/modules/linear_model.html#logistic-regression\n",
      "  n_iter_i = _check_optimize_result(\n",
      "C:\\Users\\DAI.STUDENTSDC\\AppData\\Local\\anaconda3\\Lib\\site-packages\\sklearn\\linear_model\\_logistic.py:469: ConvergenceWarning: lbfgs failed to converge (status=1):\n",
      "STOP: TOTAL NO. of ITERATIONS REACHED LIMIT.\n",
      "\n",
      "Increase the number of iterations (max_iter) or scale the data as shown in:\n",
      "    https://scikit-learn.org/stable/modules/preprocessing.html\n",
      "Please also refer to the documentation for alternative solver options:\n",
      "    https://scikit-learn.org/stable/modules/linear_model.html#logistic-regression\n",
      "  n_iter_i = _check_optimize_result(\n"
     ]
    },
    {
     "name": "stdout",
     "output_type": "stream",
     "text": [
      "[CV 1/5] END LR__C=8.42121052631579, LR__solver=lbfgs, SCL=None;, score=0.814 total time=   0.1s\n",
      "[CV 2/5] END LR__C=8.42121052631579, LR__solver=lbfgs, SCL=None;, score=0.804 total time=   0.1s\n"
     ]
    },
    {
     "name": "stderr",
     "output_type": "stream",
     "text": [
      "C:\\Users\\DAI.STUDENTSDC\\AppData\\Local\\anaconda3\\Lib\\site-packages\\sklearn\\linear_model\\_logistic.py:469: ConvergenceWarning: lbfgs failed to converge (status=1):\n",
      "STOP: TOTAL NO. of ITERATIONS REACHED LIMIT.\n",
      "\n",
      "Increase the number of iterations (max_iter) or scale the data as shown in:\n",
      "    https://scikit-learn.org/stable/modules/preprocessing.html\n",
      "Please also refer to the documentation for alternative solver options:\n",
      "    https://scikit-learn.org/stable/modules/linear_model.html#logistic-regression\n",
      "  n_iter_i = _check_optimize_result(\n",
      "C:\\Users\\DAI.STUDENTSDC\\AppData\\Local\\anaconda3\\Lib\\site-packages\\sklearn\\linear_model\\_logistic.py:469: ConvergenceWarning: lbfgs failed to converge (status=1):\n",
      "STOP: TOTAL NO. of ITERATIONS REACHED LIMIT.\n",
      "\n",
      "Increase the number of iterations (max_iter) or scale the data as shown in:\n",
      "    https://scikit-learn.org/stable/modules/preprocessing.html\n",
      "Please also refer to the documentation for alternative solver options:\n",
      "    https://scikit-learn.org/stable/modules/linear_model.html#logistic-regression\n",
      "  n_iter_i = _check_optimize_result(\n"
     ]
    },
    {
     "name": "stdout",
     "output_type": "stream",
     "text": [
      "[CV 3/5] END LR__C=8.42121052631579, LR__solver=lbfgs, SCL=None;, score=0.814 total time=   0.1s\n",
      "[CV 4/5] END LR__C=8.42121052631579, LR__solver=lbfgs, SCL=None;, score=0.813 total time=   0.1s\n"
     ]
    },
    {
     "name": "stderr",
     "output_type": "stream",
     "text": [
      "C:\\Users\\DAI.STUDENTSDC\\AppData\\Local\\anaconda3\\Lib\\site-packages\\sklearn\\linear_model\\_logistic.py:469: ConvergenceWarning: lbfgs failed to converge (status=1):\n",
      "STOP: TOTAL NO. of ITERATIONS REACHED LIMIT.\n",
      "\n",
      "Increase the number of iterations (max_iter) or scale the data as shown in:\n",
      "    https://scikit-learn.org/stable/modules/preprocessing.html\n",
      "Please also refer to the documentation for alternative solver options:\n",
      "    https://scikit-learn.org/stable/modules/linear_model.html#logistic-regression\n",
      "  n_iter_i = _check_optimize_result(\n"
     ]
    },
    {
     "name": "stdout",
     "output_type": "stream",
     "text": [
      "[CV 5/5] END LR__C=8.42121052631579, LR__solver=lbfgs, SCL=None;, score=0.821 total time=   0.1s\n",
      "[CV 1/5] END LR__C=8.42121052631579, LR__solver=liblinear, SCL=MinMaxScaler();, score=0.821 total time=   0.0s\n",
      "[CV 2/5] END LR__C=8.42121052631579, LR__solver=liblinear, SCL=MinMaxScaler();, score=0.810 total time=   0.0s\n",
      "[CV 3/5] END LR__C=8.42121052631579, LR__solver=liblinear, SCL=MinMaxScaler();, score=0.825 total time=   0.0s\n",
      "[CV 4/5] END LR__C=8.42121052631579, LR__solver=liblinear, SCL=MinMaxScaler();, score=0.816 total time=   0.0s\n",
      "[CV 5/5] END LR__C=8.42121052631579, LR__solver=liblinear, SCL=MinMaxScaler();, score=0.827 total time=   0.0s\n",
      "[CV 1/5] END LR__C=8.42121052631579, LR__solver=liblinear, SCL=StandardScaler();, score=0.821 total time=   0.0s\n",
      "[CV 2/5] END LR__C=8.42121052631579, LR__solver=liblinear, SCL=StandardScaler();, score=0.810 total time=   0.0s\n",
      "[CV 3/5] END LR__C=8.42121052631579, LR__solver=liblinear, SCL=StandardScaler();, score=0.825 total time=   0.0s\n",
      "[CV 4/5] END LR__C=8.42121052631579, LR__solver=liblinear, SCL=StandardScaler();, score=0.816 total time=   0.0s\n",
      "[CV 5/5] END LR__C=8.42121052631579, LR__solver=liblinear, SCL=StandardScaler();, score=0.827 total time=   0.0s\n",
      "[CV 1/5] END LR__C=8.42121052631579, LR__solver=liblinear, SCL=None;, score=0.821 total time=   0.0s\n",
      "[CV 2/5] END LR__C=8.42121052631579, LR__solver=liblinear, SCL=None;, score=0.810 total time=   0.0s\n",
      "[CV 3/5] END LR__C=8.42121052631579, LR__solver=liblinear, SCL=None;, score=0.825 total time=   0.0s\n",
      "[CV 4/5] END LR__C=8.42121052631579, LR__solver=liblinear, SCL=None;, score=0.817 total time=   0.0s\n",
      "[CV 5/5] END LR__C=8.42121052631579, LR__solver=liblinear, SCL=None;, score=0.827 total time=   0.0s\n",
      "[CV 1/5] END LR__C=8.42121052631579, LR__solver=newton-cg, SCL=MinMaxScaler();, score=0.821 total time=   0.0s\n",
      "[CV 2/5] END LR__C=8.42121052631579, LR__solver=newton-cg, SCL=MinMaxScaler();, score=0.810 total time=   0.0s\n",
      "[CV 3/5] END LR__C=8.42121052631579, LR__solver=newton-cg, SCL=MinMaxScaler();, score=0.825 total time=   0.0s\n",
      "[CV 4/5] END LR__C=8.42121052631579, LR__solver=newton-cg, SCL=MinMaxScaler();, score=0.816 total time=   0.0s\n",
      "[CV 5/5] END LR__C=8.42121052631579, LR__solver=newton-cg, SCL=MinMaxScaler();, score=0.827 total time=   0.0s\n",
      "[CV 1/5] END LR__C=8.42121052631579, LR__solver=newton-cg, SCL=StandardScaler();, score=0.821 total time=   0.0s\n",
      "[CV 2/5] END LR__C=8.42121052631579, LR__solver=newton-cg, SCL=StandardScaler();, score=0.810 total time=   0.0s\n",
      "[CV 3/5] END LR__C=8.42121052631579, LR__solver=newton-cg, SCL=StandardScaler();, score=0.825 total time=   0.0s\n",
      "[CV 4/5] END LR__C=8.42121052631579, LR__solver=newton-cg, SCL=StandardScaler();, score=0.816 total time=   0.0s\n",
      "[CV 5/5] END LR__C=8.42121052631579, LR__solver=newton-cg, SCL=StandardScaler();, score=0.827 total time=   0.0s\n",
      "[CV 1/5] END LR__C=8.42121052631579, LR__solver=newton-cg, SCL=None;, score=0.822 total time=   0.1s\n",
      "[CV 2/5] END LR__C=8.42121052631579, LR__solver=newton-cg, SCL=None;, score=0.810 total time=   0.1s\n",
      "[CV 3/5] END LR__C=8.42121052631579, LR__solver=newton-cg, SCL=None;, score=0.825 total time=   0.1s\n",
      "[CV 4/5] END LR__C=8.42121052631579, LR__solver=newton-cg, SCL=None;, score=0.816 total time=   0.1s\n",
      "[CV 5/5] END LR__C=8.42121052631579, LR__solver=newton-cg, SCL=None;, score=0.827 total time=   0.2s\n",
      "[CV 1/5] END LR__C=8.42121052631579, LR__solver=newton-cholesky, SCL=MinMaxScaler();, score=0.821 total time=   0.0s\n",
      "[CV 2/5] END LR__C=8.42121052631579, LR__solver=newton-cholesky, SCL=MinMaxScaler();, score=0.810 total time=   0.0s\n",
      "[CV 3/5] END LR__C=8.42121052631579, LR__solver=newton-cholesky, SCL=MinMaxScaler();, score=0.825 total time=   0.0s\n",
      "[CV 4/5] END LR__C=8.42121052631579, LR__solver=newton-cholesky, SCL=MinMaxScaler();, score=0.816 total time=   0.0s\n",
      "[CV 5/5] END LR__C=8.42121052631579, LR__solver=newton-cholesky, SCL=MinMaxScaler();, score=0.827 total time=   0.0s\n",
      "[CV 1/5] END LR__C=8.42121052631579, LR__solver=newton-cholesky, SCL=StandardScaler();, score=0.821 total time=   0.0s\n",
      "[CV 2/5] END LR__C=8.42121052631579, LR__solver=newton-cholesky, SCL=StandardScaler();, score=0.810 total time=   0.0s\n",
      "[CV 3/5] END LR__C=8.42121052631579, LR__solver=newton-cholesky, SCL=StandardScaler();, score=0.825 total time=   0.0s\n",
      "[CV 4/5] END LR__C=8.42121052631579, LR__solver=newton-cholesky, SCL=StandardScaler();, score=0.816 total time=   0.0s\n",
      "[CV 5/5] END LR__C=8.42121052631579, LR__solver=newton-cholesky, SCL=StandardScaler();, score=0.827 total time=   0.0s\n",
      "[CV 1/5] END LR__C=8.42121052631579, LR__solver=newton-cholesky, SCL=None;, score=0.821 total time=   0.0s\n",
      "[CV 2/5] END LR__C=8.42121052631579, LR__solver=newton-cholesky, SCL=None;, score=0.810 total time=   0.0s\n",
      "[CV 3/5] END LR__C=8.42121052631579, LR__solver=newton-cholesky, SCL=None;, score=0.825 total time=   0.0s\n",
      "[CV 4/5] END LR__C=8.42121052631579, LR__solver=newton-cholesky, SCL=None;, score=0.816 total time=   0.0s\n",
      "[CV 5/5] END LR__C=8.42121052631579, LR__solver=newton-cholesky, SCL=None;, score=0.827 total time=   0.0s\n",
      "[CV 1/5] END LR__C=8.42121052631579, LR__solver=sag, SCL=MinMaxScaler();, score=0.821 total time=   0.1s\n",
      "[CV 2/5] END LR__C=8.42121052631579, LR__solver=sag, SCL=MinMaxScaler();, score=0.810 total time=   0.1s\n",
      "[CV 3/5] END LR__C=8.42121052631579, LR__solver=sag, SCL=MinMaxScaler();, score=0.825 total time=   0.1s\n",
      "[CV 4/5] END LR__C=8.42121052631579, LR__solver=sag, SCL=MinMaxScaler();, score=0.816 total time=   0.1s\n",
      "[CV 5/5] END LR__C=8.42121052631579, LR__solver=sag, SCL=MinMaxScaler();, score=0.827 total time=   0.1s\n",
      "[CV 1/5] END LR__C=8.42121052631579, LR__solver=sag, SCL=StandardScaler();, score=0.821 total time=   0.1s\n",
      "[CV 2/5] END LR__C=8.42121052631579, LR__solver=sag, SCL=StandardScaler();, score=0.810 total time=   0.1s\n",
      "[CV 3/5] END LR__C=8.42121052631579, LR__solver=sag, SCL=StandardScaler();, score=0.825 total time=   0.1s\n",
      "[CV 4/5] END LR__C=8.42121052631579, LR__solver=sag, SCL=StandardScaler();, score=0.816 total time=   0.0s\n",
      "[CV 5/5] END LR__C=8.42121052631579, LR__solver=sag, SCL=StandardScaler();, score=0.827 total time=   0.1s\n"
     ]
    },
    {
     "name": "stderr",
     "output_type": "stream",
     "text": [
      "C:\\Users\\DAI.STUDENTSDC\\AppData\\Local\\anaconda3\\Lib\\site-packages\\sklearn\\linear_model\\_sag.py:349: ConvergenceWarning: The max_iter was reached which means the coef_ did not converge\n",
      "  warnings.warn(\n"
     ]
    },
    {
     "name": "stdout",
     "output_type": "stream",
     "text": [
      "[CV 1/5] END LR__C=8.42121052631579, LR__solver=sag, SCL=None;, score=0.812 total time=   0.3s\n"
     ]
    },
    {
     "name": "stderr",
     "output_type": "stream",
     "text": [
      "C:\\Users\\DAI.STUDENTSDC\\AppData\\Local\\anaconda3\\Lib\\site-packages\\sklearn\\linear_model\\_sag.py:349: ConvergenceWarning: The max_iter was reached which means the coef_ did not converge\n",
      "  warnings.warn(\n"
     ]
    },
    {
     "name": "stdout",
     "output_type": "stream",
     "text": [
      "[CV 2/5] END LR__C=8.42121052631579, LR__solver=sag, SCL=None;, score=0.792 total time=   0.3s\n"
     ]
    },
    {
     "name": "stderr",
     "output_type": "stream",
     "text": [
      "C:\\Users\\DAI.STUDENTSDC\\AppData\\Local\\anaconda3\\Lib\\site-packages\\sklearn\\linear_model\\_sag.py:349: ConvergenceWarning: The max_iter was reached which means the coef_ did not converge\n",
      "  warnings.warn(\n"
     ]
    },
    {
     "name": "stdout",
     "output_type": "stream",
     "text": [
      "[CV 3/5] END LR__C=8.42121052631579, LR__solver=sag, SCL=None;, score=0.811 total time=   0.3s\n"
     ]
    },
    {
     "name": "stderr",
     "output_type": "stream",
     "text": [
      "C:\\Users\\DAI.STUDENTSDC\\AppData\\Local\\anaconda3\\Lib\\site-packages\\sklearn\\linear_model\\_sag.py:349: ConvergenceWarning: The max_iter was reached which means the coef_ did not converge\n",
      "  warnings.warn(\n"
     ]
    },
    {
     "name": "stdout",
     "output_type": "stream",
     "text": [
      "[CV 4/5] END LR__C=8.42121052631579, LR__solver=sag, SCL=None;, score=0.807 total time=   0.3s\n"
     ]
    },
    {
     "name": "stderr",
     "output_type": "stream",
     "text": [
      "C:\\Users\\DAI.STUDENTSDC\\AppData\\Local\\anaconda3\\Lib\\site-packages\\sklearn\\linear_model\\_sag.py:349: ConvergenceWarning: The max_iter was reached which means the coef_ did not converge\n",
      "  warnings.warn(\n"
     ]
    },
    {
     "name": "stdout",
     "output_type": "stream",
     "text": [
      "[CV 5/5] END LR__C=8.42121052631579, LR__solver=sag, SCL=None;, score=0.814 total time=   0.3s\n",
      "[CV 1/5] END LR__C=8.42121052631579, LR__solver=saga, SCL=MinMaxScaler();, score=0.821 total time=   0.0s\n",
      "[CV 2/5] END LR__C=8.42121052631579, LR__solver=saga, SCL=MinMaxScaler();, score=0.810 total time=   0.0s\n",
      "[CV 3/5] END LR__C=8.42121052631579, LR__solver=saga, SCL=MinMaxScaler();, score=0.825 total time=   0.0s\n",
      "[CV 4/5] END LR__C=8.42121052631579, LR__solver=saga, SCL=MinMaxScaler();, score=0.816 total time=   0.0s\n",
      "[CV 5/5] END LR__C=8.42121052631579, LR__solver=saga, SCL=MinMaxScaler();, score=0.827 total time=   0.0s\n",
      "[CV 1/5] END LR__C=8.42121052631579, LR__solver=saga, SCL=StandardScaler();, score=0.821 total time=   0.0s\n",
      "[CV 2/5] END LR__C=8.42121052631579, LR__solver=saga, SCL=StandardScaler();, score=0.810 total time=   0.0s\n",
      "[CV 3/5] END LR__C=8.42121052631579, LR__solver=saga, SCL=StandardScaler();, score=0.825 total time=   0.0s\n",
      "[CV 4/5] END LR__C=8.42121052631579, LR__solver=saga, SCL=StandardScaler();, score=0.816 total time=   0.0s\n",
      "[CV 5/5] END LR__C=8.42121052631579, LR__solver=saga, SCL=StandardScaler();, score=0.827 total time=   0.0s\n"
     ]
    },
    {
     "name": "stderr",
     "output_type": "stream",
     "text": [
      "C:\\Users\\DAI.STUDENTSDC\\AppData\\Local\\anaconda3\\Lib\\site-packages\\sklearn\\linear_model\\_sag.py:349: ConvergenceWarning: The max_iter was reached which means the coef_ did not converge\n",
      "  warnings.warn(\n"
     ]
    },
    {
     "name": "stdout",
     "output_type": "stream",
     "text": [
      "[CV 1/5] END LR__C=8.42121052631579, LR__solver=saga, SCL=None;, score=0.784 total time=   0.4s\n"
     ]
    },
    {
     "name": "stderr",
     "output_type": "stream",
     "text": [
      "C:\\Users\\DAI.STUDENTSDC\\AppData\\Local\\anaconda3\\Lib\\site-packages\\sklearn\\linear_model\\_sag.py:349: ConvergenceWarning: The max_iter was reached which means the coef_ did not converge\n",
      "  warnings.warn(\n"
     ]
    },
    {
     "name": "stdout",
     "output_type": "stream",
     "text": [
      "[CV 2/5] END LR__C=8.42121052631579, LR__solver=saga, SCL=None;, score=0.766 total time=   0.4s\n"
     ]
    },
    {
     "name": "stderr",
     "output_type": "stream",
     "text": [
      "C:\\Users\\DAI.STUDENTSDC\\AppData\\Local\\anaconda3\\Lib\\site-packages\\sklearn\\linear_model\\_sag.py:349: ConvergenceWarning: The max_iter was reached which means the coef_ did not converge\n",
      "  warnings.warn(\n"
     ]
    },
    {
     "name": "stdout",
     "output_type": "stream",
     "text": [
      "[CV 3/5] END LR__C=8.42121052631579, LR__solver=saga, SCL=None;, score=0.787 total time=   0.4s\n"
     ]
    },
    {
     "name": "stderr",
     "output_type": "stream",
     "text": [
      "C:\\Users\\DAI.STUDENTSDC\\AppData\\Local\\anaconda3\\Lib\\site-packages\\sklearn\\linear_model\\_sag.py:349: ConvergenceWarning: The max_iter was reached which means the coef_ did not converge\n",
      "  warnings.warn(\n"
     ]
    },
    {
     "name": "stdout",
     "output_type": "stream",
     "text": [
      "[CV 4/5] END LR__C=8.42121052631579, LR__solver=saga, SCL=None;, score=0.786 total time=   0.4s\n"
     ]
    },
    {
     "name": "stderr",
     "output_type": "stream",
     "text": [
      "C:\\Users\\DAI.STUDENTSDC\\AppData\\Local\\anaconda3\\Lib\\site-packages\\sklearn\\linear_model\\_sag.py:349: ConvergenceWarning: The max_iter was reached which means the coef_ did not converge\n",
      "  warnings.warn(\n"
     ]
    },
    {
     "name": "stdout",
     "output_type": "stream",
     "text": [
      "[CV 5/5] END LR__C=8.42121052631579, LR__solver=saga, SCL=None;, score=0.786 total time=   0.4s\n",
      "[CV 1/5] END LR__C=8.947473684210527, LR__solver=lbfgs, SCL=MinMaxScaler();, score=0.821 total time=   0.0s\n",
      "[CV 2/5] END LR__C=8.947473684210527, LR__solver=lbfgs, SCL=MinMaxScaler();, score=0.810 total time=   0.0s\n",
      "[CV 3/5] END LR__C=8.947473684210527, LR__solver=lbfgs, SCL=MinMaxScaler();, score=0.825 total time=   0.0s\n",
      "[CV 4/5] END LR__C=8.947473684210527, LR__solver=lbfgs, SCL=MinMaxScaler();, score=0.816 total time=   0.0s\n",
      "[CV 5/5] END LR__C=8.947473684210527, LR__solver=lbfgs, SCL=MinMaxScaler();, score=0.827 total time=   0.0s\n",
      "[CV 1/5] END LR__C=8.947473684210527, LR__solver=lbfgs, SCL=StandardScaler();, score=0.821 total time=   0.0s\n",
      "[CV 2/5] END LR__C=8.947473684210527, LR__solver=lbfgs, SCL=StandardScaler();, score=0.810 total time=   0.0s\n",
      "[CV 3/5] END LR__C=8.947473684210527, LR__solver=lbfgs, SCL=StandardScaler();, score=0.825 total time=   0.0s\n",
      "[CV 4/5] END LR__C=8.947473684210527, LR__solver=lbfgs, SCL=StandardScaler();, score=0.816 total time=   0.0s\n",
      "[CV 5/5] END LR__C=8.947473684210527, LR__solver=lbfgs, SCL=StandardScaler();, score=0.827 total time=   0.0s\n"
     ]
    },
    {
     "name": "stderr",
     "output_type": "stream",
     "text": [
      "C:\\Users\\DAI.STUDENTSDC\\AppData\\Local\\anaconda3\\Lib\\site-packages\\sklearn\\linear_model\\_logistic.py:469: ConvergenceWarning: lbfgs failed to converge (status=1):\n",
      "STOP: TOTAL NO. of ITERATIONS REACHED LIMIT.\n",
      "\n",
      "Increase the number of iterations (max_iter) or scale the data as shown in:\n",
      "    https://scikit-learn.org/stable/modules/preprocessing.html\n",
      "Please also refer to the documentation for alternative solver options:\n",
      "    https://scikit-learn.org/stable/modules/linear_model.html#logistic-regression\n",
      "  n_iter_i = _check_optimize_result(\n",
      "C:\\Users\\DAI.STUDENTSDC\\AppData\\Local\\anaconda3\\Lib\\site-packages\\sklearn\\linear_model\\_logistic.py:469: ConvergenceWarning: lbfgs failed to converge (status=1):\n",
      "STOP: TOTAL NO. of ITERATIONS REACHED LIMIT.\n",
      "\n",
      "Increase the number of iterations (max_iter) or scale the data as shown in:\n",
      "    https://scikit-learn.org/stable/modules/preprocessing.html\n",
      "Please also refer to the documentation for alternative solver options:\n",
      "    https://scikit-learn.org/stable/modules/linear_model.html#logistic-regression\n",
      "  n_iter_i = _check_optimize_result(\n"
     ]
    },
    {
     "name": "stdout",
     "output_type": "stream",
     "text": [
      "[CV 1/5] END LR__C=8.947473684210527, LR__solver=lbfgs, SCL=None;, score=0.817 total time=   0.1s\n",
      "[CV 2/5] END LR__C=8.947473684210527, LR__solver=lbfgs, SCL=None;, score=0.806 total time=   0.1s\n"
     ]
    },
    {
     "name": "stderr",
     "output_type": "stream",
     "text": [
      "C:\\Users\\DAI.STUDENTSDC\\AppData\\Local\\anaconda3\\Lib\\site-packages\\sklearn\\linear_model\\_logistic.py:469: ConvergenceWarning: lbfgs failed to converge (status=1):\n",
      "STOP: TOTAL NO. of ITERATIONS REACHED LIMIT.\n",
      "\n",
      "Increase the number of iterations (max_iter) or scale the data as shown in:\n",
      "    https://scikit-learn.org/stable/modules/preprocessing.html\n",
      "Please also refer to the documentation for alternative solver options:\n",
      "    https://scikit-learn.org/stable/modules/linear_model.html#logistic-regression\n",
      "  n_iter_i = _check_optimize_result(\n",
      "C:\\Users\\DAI.STUDENTSDC\\AppData\\Local\\anaconda3\\Lib\\site-packages\\sklearn\\linear_model\\_logistic.py:469: ConvergenceWarning: lbfgs failed to converge (status=1):\n",
      "STOP: TOTAL NO. of ITERATIONS REACHED LIMIT.\n",
      "\n",
      "Increase the number of iterations (max_iter) or scale the data as shown in:\n",
      "    https://scikit-learn.org/stable/modules/preprocessing.html\n",
      "Please also refer to the documentation for alternative solver options:\n",
      "    https://scikit-learn.org/stable/modules/linear_model.html#logistic-regression\n",
      "  n_iter_i = _check_optimize_result(\n"
     ]
    },
    {
     "name": "stdout",
     "output_type": "stream",
     "text": [
      "[CV 3/5] END LR__C=8.947473684210527, LR__solver=lbfgs, SCL=None;, score=0.819 total time=   0.1s\n",
      "[CV 4/5] END LR__C=8.947473684210527, LR__solver=lbfgs, SCL=None;, score=0.814 total time=   0.1s\n"
     ]
    },
    {
     "name": "stderr",
     "output_type": "stream",
     "text": [
      "C:\\Users\\DAI.STUDENTSDC\\AppData\\Local\\anaconda3\\Lib\\site-packages\\sklearn\\linear_model\\_logistic.py:469: ConvergenceWarning: lbfgs failed to converge (status=1):\n",
      "STOP: TOTAL NO. of ITERATIONS REACHED LIMIT.\n",
      "\n",
      "Increase the number of iterations (max_iter) or scale the data as shown in:\n",
      "    https://scikit-learn.org/stable/modules/preprocessing.html\n",
      "Please also refer to the documentation for alternative solver options:\n",
      "    https://scikit-learn.org/stable/modules/linear_model.html#logistic-regression\n",
      "  n_iter_i = _check_optimize_result(\n"
     ]
    },
    {
     "name": "stdout",
     "output_type": "stream",
     "text": [
      "[CV 5/5] END LR__C=8.947473684210527, LR__solver=lbfgs, SCL=None;, score=0.823 total time=   0.1s\n",
      "[CV 1/5] END LR__C=8.947473684210527, LR__solver=liblinear, SCL=MinMaxScaler();, score=0.821 total time=   0.0s\n",
      "[CV 2/5] END LR__C=8.947473684210527, LR__solver=liblinear, SCL=MinMaxScaler();, score=0.810 total time=   0.0s\n",
      "[CV 3/5] END LR__C=8.947473684210527, LR__solver=liblinear, SCL=MinMaxScaler();, score=0.825 total time=   0.0s\n",
      "[CV 4/5] END LR__C=8.947473684210527, LR__solver=liblinear, SCL=MinMaxScaler();, score=0.816 total time=   0.0s\n",
      "[CV 5/5] END LR__C=8.947473684210527, LR__solver=liblinear, SCL=MinMaxScaler();, score=0.827 total time=   0.0s\n",
      "[CV 1/5] END LR__C=8.947473684210527, LR__solver=liblinear, SCL=StandardScaler();, score=0.821 total time=   0.0s\n",
      "[CV 2/5] END LR__C=8.947473684210527, LR__solver=liblinear, SCL=StandardScaler();, score=0.810 total time=   0.0s\n",
      "[CV 3/5] END LR__C=8.947473684210527, LR__solver=liblinear, SCL=StandardScaler();, score=0.825 total time=   0.0s\n",
      "[CV 4/5] END LR__C=8.947473684210527, LR__solver=liblinear, SCL=StandardScaler();, score=0.816 total time=   0.0s\n",
      "[CV 5/5] END LR__C=8.947473684210527, LR__solver=liblinear, SCL=StandardScaler();, score=0.827 total time=   0.0s\n",
      "[CV 1/5] END LR__C=8.947473684210527, LR__solver=liblinear, SCL=None;, score=0.821 total time=   0.0s\n",
      "[CV 2/5] END LR__C=8.947473684210527, LR__solver=liblinear, SCL=None;, score=0.810 total time=   0.0s\n",
      "[CV 3/5] END LR__C=8.947473684210527, LR__solver=liblinear, SCL=None;, score=0.825 total time=   0.0s\n",
      "[CV 4/5] END LR__C=8.947473684210527, LR__solver=liblinear, SCL=None;, score=0.817 total time=   0.0s\n",
      "[CV 5/5] END LR__C=8.947473684210527, LR__solver=liblinear, SCL=None;, score=0.827 total time=   0.0s\n",
      "[CV 1/5] END LR__C=8.947473684210527, LR__solver=newton-cg, SCL=MinMaxScaler();, score=0.821 total time=   0.0s\n",
      "[CV 2/5] END LR__C=8.947473684210527, LR__solver=newton-cg, SCL=MinMaxScaler();, score=0.810 total time=   0.0s\n",
      "[CV 3/5] END LR__C=8.947473684210527, LR__solver=newton-cg, SCL=MinMaxScaler();, score=0.825 total time=   0.0s\n",
      "[CV 4/5] END LR__C=8.947473684210527, LR__solver=newton-cg, SCL=MinMaxScaler();, score=0.816 total time=   0.0s\n",
      "[CV 5/5] END LR__C=8.947473684210527, LR__solver=newton-cg, SCL=MinMaxScaler();, score=0.827 total time=   0.0s\n",
      "[CV 1/5] END LR__C=8.947473684210527, LR__solver=newton-cg, SCL=StandardScaler();, score=0.821 total time=   0.0s\n",
      "[CV 2/5] END LR__C=8.947473684210527, LR__solver=newton-cg, SCL=StandardScaler();, score=0.810 total time=   0.0s\n",
      "[CV 3/5] END LR__C=8.947473684210527, LR__solver=newton-cg, SCL=StandardScaler();, score=0.825 total time=   0.0s\n",
      "[CV 4/5] END LR__C=8.947473684210527, LR__solver=newton-cg, SCL=StandardScaler();, score=0.816 total time=   0.0s\n",
      "[CV 5/5] END LR__C=8.947473684210527, LR__solver=newton-cg, SCL=StandardScaler();, score=0.827 total time=   0.0s\n",
      "[CV 1/5] END LR__C=8.947473684210527, LR__solver=newton-cg, SCL=None;, score=0.821 total time=   0.1s\n",
      "[CV 2/5] END LR__C=8.947473684210527, LR__solver=newton-cg, SCL=None;, score=0.810 total time=   0.1s\n",
      "[CV 3/5] END LR__C=8.947473684210527, LR__solver=newton-cg, SCL=None;, score=0.825 total time=   0.1s\n",
      "[CV 4/5] END LR__C=8.947473684210527, LR__solver=newton-cg, SCL=None;, score=0.816 total time=   0.1s\n",
      "[CV 5/5] END LR__C=8.947473684210527, LR__solver=newton-cg, SCL=None;, score=0.827 total time=   0.2s\n",
      "[CV 1/5] END LR__C=8.947473684210527, LR__solver=newton-cholesky, SCL=MinMaxScaler();, score=0.821 total time=   0.0s\n",
      "[CV 2/5] END LR__C=8.947473684210527, LR__solver=newton-cholesky, SCL=MinMaxScaler();, score=0.810 total time=   0.0s\n",
      "[CV 3/5] END LR__C=8.947473684210527, LR__solver=newton-cholesky, SCL=MinMaxScaler();, score=0.825 total time=   0.0s\n",
      "[CV 4/5] END LR__C=8.947473684210527, LR__solver=newton-cholesky, SCL=MinMaxScaler();, score=0.816 total time=   0.0s\n",
      "[CV 5/5] END LR__C=8.947473684210527, LR__solver=newton-cholesky, SCL=MinMaxScaler();, score=0.827 total time=   0.0s\n",
      "[CV 1/5] END LR__C=8.947473684210527, LR__solver=newton-cholesky, SCL=StandardScaler();, score=0.821 total time=   0.0s\n",
      "[CV 2/5] END LR__C=8.947473684210527, LR__solver=newton-cholesky, SCL=StandardScaler();, score=0.810 total time=   0.0s\n",
      "[CV 3/5] END LR__C=8.947473684210527, LR__solver=newton-cholesky, SCL=StandardScaler();, score=0.825 total time=   0.0s\n",
      "[CV 4/5] END LR__C=8.947473684210527, LR__solver=newton-cholesky, SCL=StandardScaler();, score=0.816 total time=   0.0s\n",
      "[CV 5/5] END LR__C=8.947473684210527, LR__solver=newton-cholesky, SCL=StandardScaler();, score=0.827 total time=   0.0s\n",
      "[CV 1/5] END LR__C=8.947473684210527, LR__solver=newton-cholesky, SCL=None;, score=0.821 total time=   0.0s\n",
      "[CV 2/5] END LR__C=8.947473684210527, LR__solver=newton-cholesky, SCL=None;, score=0.810 total time=   0.0s\n",
      "[CV 3/5] END LR__C=8.947473684210527, LR__solver=newton-cholesky, SCL=None;, score=0.825 total time=   0.0s\n",
      "[CV 4/5] END LR__C=8.947473684210527, LR__solver=newton-cholesky, SCL=None;, score=0.816 total time=   0.0s\n",
      "[CV 5/5] END LR__C=8.947473684210527, LR__solver=newton-cholesky, SCL=None;, score=0.827 total time=   0.0s\n",
      "[CV 1/5] END LR__C=8.947473684210527, LR__solver=sag, SCL=MinMaxScaler();, score=0.821 total time=   0.1s\n",
      "[CV 2/5] END LR__C=8.947473684210527, LR__solver=sag, SCL=MinMaxScaler();, score=0.810 total time=   0.1s\n",
      "[CV 3/5] END LR__C=8.947473684210527, LR__solver=sag, SCL=MinMaxScaler();, score=0.825 total time=   0.1s\n",
      "[CV 4/5] END LR__C=8.947473684210527, LR__solver=sag, SCL=MinMaxScaler();, score=0.816 total time=   0.1s\n",
      "[CV 5/5] END LR__C=8.947473684210527, LR__solver=sag, SCL=MinMaxScaler();, score=0.827 total time=   0.1s\n",
      "[CV 1/5] END LR__C=8.947473684210527, LR__solver=sag, SCL=StandardScaler();, score=0.821 total time=   0.1s\n",
      "[CV 2/5] END LR__C=8.947473684210527, LR__solver=sag, SCL=StandardScaler();, score=0.810 total time=   0.1s\n",
      "[CV 3/5] END LR__C=8.947473684210527, LR__solver=sag, SCL=StandardScaler();, score=0.825 total time=   0.1s\n",
      "[CV 4/5] END LR__C=8.947473684210527, LR__solver=sag, SCL=StandardScaler();, score=0.816 total time=   0.1s\n",
      "[CV 5/5] END LR__C=8.947473684210527, LR__solver=sag, SCL=StandardScaler();, score=0.827 total time=   0.0s\n"
     ]
    },
    {
     "name": "stderr",
     "output_type": "stream",
     "text": [
      "C:\\Users\\DAI.STUDENTSDC\\AppData\\Local\\anaconda3\\Lib\\site-packages\\sklearn\\linear_model\\_sag.py:349: ConvergenceWarning: The max_iter was reached which means the coef_ did not converge\n",
      "  warnings.warn(\n"
     ]
    },
    {
     "name": "stdout",
     "output_type": "stream",
     "text": [
      "[CV 1/5] END LR__C=8.947473684210527, LR__solver=sag, SCL=None;, score=0.812 total time=   0.4s\n"
     ]
    },
    {
     "name": "stderr",
     "output_type": "stream",
     "text": [
      "C:\\Users\\DAI.STUDENTSDC\\AppData\\Local\\anaconda3\\Lib\\site-packages\\sklearn\\linear_model\\_sag.py:349: ConvergenceWarning: The max_iter was reached which means the coef_ did not converge\n",
      "  warnings.warn(\n"
     ]
    },
    {
     "name": "stdout",
     "output_type": "stream",
     "text": [
      "[CV 2/5] END LR__C=8.947473684210527, LR__solver=sag, SCL=None;, score=0.792 total time=   0.3s\n"
     ]
    },
    {
     "name": "stderr",
     "output_type": "stream",
     "text": [
      "C:\\Users\\DAI.STUDENTSDC\\AppData\\Local\\anaconda3\\Lib\\site-packages\\sklearn\\linear_model\\_sag.py:349: ConvergenceWarning: The max_iter was reached which means the coef_ did not converge\n",
      "  warnings.warn(\n"
     ]
    },
    {
     "name": "stdout",
     "output_type": "stream",
     "text": [
      "[CV 3/5] END LR__C=8.947473684210527, LR__solver=sag, SCL=None;, score=0.811 total time=   0.3s\n"
     ]
    },
    {
     "name": "stderr",
     "output_type": "stream",
     "text": [
      "C:\\Users\\DAI.STUDENTSDC\\AppData\\Local\\anaconda3\\Lib\\site-packages\\sklearn\\linear_model\\_sag.py:349: ConvergenceWarning: The max_iter was reached which means the coef_ did not converge\n",
      "  warnings.warn(\n"
     ]
    },
    {
     "name": "stdout",
     "output_type": "stream",
     "text": [
      "[CV 4/5] END LR__C=8.947473684210527, LR__solver=sag, SCL=None;, score=0.807 total time=   0.4s\n"
     ]
    },
    {
     "name": "stderr",
     "output_type": "stream",
     "text": [
      "C:\\Users\\DAI.STUDENTSDC\\AppData\\Local\\anaconda3\\Lib\\site-packages\\sklearn\\linear_model\\_sag.py:349: ConvergenceWarning: The max_iter was reached which means the coef_ did not converge\n",
      "  warnings.warn(\n"
     ]
    },
    {
     "name": "stdout",
     "output_type": "stream",
     "text": [
      "[CV 5/5] END LR__C=8.947473684210527, LR__solver=sag, SCL=None;, score=0.814 total time=   0.3s\n",
      "[CV 1/5] END LR__C=8.947473684210527, LR__solver=saga, SCL=MinMaxScaler();, score=0.821 total time=   0.1s\n",
      "[CV 2/5] END LR__C=8.947473684210527, LR__solver=saga, SCL=MinMaxScaler();, score=0.810 total time=   0.0s\n",
      "[CV 3/5] END LR__C=8.947473684210527, LR__solver=saga, SCL=MinMaxScaler();, score=0.825 total time=   0.0s\n",
      "[CV 4/5] END LR__C=8.947473684210527, LR__solver=saga, SCL=MinMaxScaler();, score=0.816 total time=   0.0s\n",
      "[CV 5/5] END LR__C=8.947473684210527, LR__solver=saga, SCL=MinMaxScaler();, score=0.827 total time=   0.0s\n",
      "[CV 1/5] END LR__C=8.947473684210527, LR__solver=saga, SCL=StandardScaler();, score=0.821 total time=   0.0s\n",
      "[CV 2/5] END LR__C=8.947473684210527, LR__solver=saga, SCL=StandardScaler();, score=0.810 total time=   0.0s\n",
      "[CV 3/5] END LR__C=8.947473684210527, LR__solver=saga, SCL=StandardScaler();, score=0.825 total time=   0.0s\n",
      "[CV 4/5] END LR__C=8.947473684210527, LR__solver=saga, SCL=StandardScaler();, score=0.816 total time=   0.0s\n",
      "[CV 5/5] END LR__C=8.947473684210527, LR__solver=saga, SCL=StandardScaler();, score=0.827 total time=   0.0s\n"
     ]
    },
    {
     "name": "stderr",
     "output_type": "stream",
     "text": [
      "C:\\Users\\DAI.STUDENTSDC\\AppData\\Local\\anaconda3\\Lib\\site-packages\\sklearn\\linear_model\\_sag.py:349: ConvergenceWarning: The max_iter was reached which means the coef_ did not converge\n",
      "  warnings.warn(\n"
     ]
    },
    {
     "name": "stdout",
     "output_type": "stream",
     "text": [
      "[CV 1/5] END LR__C=8.947473684210527, LR__solver=saga, SCL=None;, score=0.784 total time=   0.3s\n"
     ]
    },
    {
     "name": "stderr",
     "output_type": "stream",
     "text": [
      "C:\\Users\\DAI.STUDENTSDC\\AppData\\Local\\anaconda3\\Lib\\site-packages\\sklearn\\linear_model\\_sag.py:349: ConvergenceWarning: The max_iter was reached which means the coef_ did not converge\n",
      "  warnings.warn(\n"
     ]
    },
    {
     "name": "stdout",
     "output_type": "stream",
     "text": [
      "[CV 2/5] END LR__C=8.947473684210527, LR__solver=saga, SCL=None;, score=0.766 total time=   0.4s\n"
     ]
    },
    {
     "name": "stderr",
     "output_type": "stream",
     "text": [
      "C:\\Users\\DAI.STUDENTSDC\\AppData\\Local\\anaconda3\\Lib\\site-packages\\sklearn\\linear_model\\_sag.py:349: ConvergenceWarning: The max_iter was reached which means the coef_ did not converge\n",
      "  warnings.warn(\n"
     ]
    },
    {
     "name": "stdout",
     "output_type": "stream",
     "text": [
      "[CV 3/5] END LR__C=8.947473684210527, LR__solver=saga, SCL=None;, score=0.787 total time=   0.4s\n"
     ]
    },
    {
     "name": "stderr",
     "output_type": "stream",
     "text": [
      "C:\\Users\\DAI.STUDENTSDC\\AppData\\Local\\anaconda3\\Lib\\site-packages\\sklearn\\linear_model\\_sag.py:349: ConvergenceWarning: The max_iter was reached which means the coef_ did not converge\n",
      "  warnings.warn(\n"
     ]
    },
    {
     "name": "stdout",
     "output_type": "stream",
     "text": [
      "[CV 4/5] END LR__C=8.947473684210527, LR__solver=saga, SCL=None;, score=0.786 total time=   0.4s\n"
     ]
    },
    {
     "name": "stderr",
     "output_type": "stream",
     "text": [
      "C:\\Users\\DAI.STUDENTSDC\\AppData\\Local\\anaconda3\\Lib\\site-packages\\sklearn\\linear_model\\_sag.py:349: ConvergenceWarning: The max_iter was reached which means the coef_ did not converge\n",
      "  warnings.warn(\n"
     ]
    },
    {
     "name": "stdout",
     "output_type": "stream",
     "text": [
      "[CV 5/5] END LR__C=8.947473684210527, LR__solver=saga, SCL=None;, score=0.786 total time=   0.4s\n",
      "[CV 1/5] END LR__C=9.473736842105263, LR__solver=lbfgs, SCL=MinMaxScaler();, score=0.821 total time=   0.0s\n",
      "[CV 2/5] END LR__C=9.473736842105263, LR__solver=lbfgs, SCL=MinMaxScaler();, score=0.810 total time=   0.0s\n",
      "[CV 3/5] END LR__C=9.473736842105263, LR__solver=lbfgs, SCL=MinMaxScaler();, score=0.825 total time=   0.0s\n",
      "[CV 4/5] END LR__C=9.473736842105263, LR__solver=lbfgs, SCL=MinMaxScaler();, score=0.816 total time=   0.0s\n",
      "[CV 5/5] END LR__C=9.473736842105263, LR__solver=lbfgs, SCL=MinMaxScaler();, score=0.827 total time=   0.0s\n",
      "[CV 1/5] END LR__C=9.473736842105263, LR__solver=lbfgs, SCL=StandardScaler();, score=0.821 total time=   0.0s\n",
      "[CV 2/5] END LR__C=9.473736842105263, LR__solver=lbfgs, SCL=StandardScaler();, score=0.810 total time=   0.0s\n",
      "[CV 3/5] END LR__C=9.473736842105263, LR__solver=lbfgs, SCL=StandardScaler();, score=0.825 total time=   0.0s\n",
      "[CV 4/5] END LR__C=9.473736842105263, LR__solver=lbfgs, SCL=StandardScaler();, score=0.816 total time=   0.0s\n",
      "[CV 5/5] END LR__C=9.473736842105263, LR__solver=lbfgs, SCL=StandardScaler();, score=0.827 total time=   0.0s\n"
     ]
    },
    {
     "name": "stderr",
     "output_type": "stream",
     "text": [
      "C:\\Users\\DAI.STUDENTSDC\\AppData\\Local\\anaconda3\\Lib\\site-packages\\sklearn\\linear_model\\_logistic.py:469: ConvergenceWarning: lbfgs failed to converge (status=1):\n",
      "STOP: TOTAL NO. of ITERATIONS REACHED LIMIT.\n",
      "\n",
      "Increase the number of iterations (max_iter) or scale the data as shown in:\n",
      "    https://scikit-learn.org/stable/modules/preprocessing.html\n",
      "Please also refer to the documentation for alternative solver options:\n",
      "    https://scikit-learn.org/stable/modules/linear_model.html#logistic-regression\n",
      "  n_iter_i = _check_optimize_result(\n",
      "C:\\Users\\DAI.STUDENTSDC\\AppData\\Local\\anaconda3\\Lib\\site-packages\\sklearn\\linear_model\\_logistic.py:469: ConvergenceWarning: lbfgs failed to converge (status=1):\n",
      "STOP: TOTAL NO. of ITERATIONS REACHED LIMIT.\n",
      "\n",
      "Increase the number of iterations (max_iter) or scale the data as shown in:\n",
      "    https://scikit-learn.org/stable/modules/preprocessing.html\n",
      "Please also refer to the documentation for alternative solver options:\n",
      "    https://scikit-learn.org/stable/modules/linear_model.html#logistic-regression\n",
      "  n_iter_i = _check_optimize_result(\n"
     ]
    },
    {
     "name": "stdout",
     "output_type": "stream",
     "text": [
      "[CV 1/5] END LR__C=9.473736842105263, LR__solver=lbfgs, SCL=None;, score=0.815 total time=   0.1s\n",
      "[CV 2/5] END LR__C=9.473736842105263, LR__solver=lbfgs, SCL=None;, score=0.805 total time=   0.1s\n"
     ]
    },
    {
     "name": "stderr",
     "output_type": "stream",
     "text": [
      "C:\\Users\\DAI.STUDENTSDC\\AppData\\Local\\anaconda3\\Lib\\site-packages\\sklearn\\linear_model\\_logistic.py:469: ConvergenceWarning: lbfgs failed to converge (status=1):\n",
      "STOP: TOTAL NO. of ITERATIONS REACHED LIMIT.\n",
      "\n",
      "Increase the number of iterations (max_iter) or scale the data as shown in:\n",
      "    https://scikit-learn.org/stable/modules/preprocessing.html\n",
      "Please also refer to the documentation for alternative solver options:\n",
      "    https://scikit-learn.org/stable/modules/linear_model.html#logistic-regression\n",
      "  n_iter_i = _check_optimize_result(\n",
      "C:\\Users\\DAI.STUDENTSDC\\AppData\\Local\\anaconda3\\Lib\\site-packages\\sklearn\\linear_model\\_logistic.py:469: ConvergenceWarning: lbfgs failed to converge (status=1):\n",
      "STOP: TOTAL NO. of ITERATIONS REACHED LIMIT.\n",
      "\n",
      "Increase the number of iterations (max_iter) or scale the data as shown in:\n",
      "    https://scikit-learn.org/stable/modules/preprocessing.html\n",
      "Please also refer to the documentation for alternative solver options:\n",
      "    https://scikit-learn.org/stable/modules/linear_model.html#logistic-regression\n",
      "  n_iter_i = _check_optimize_result(\n"
     ]
    },
    {
     "name": "stdout",
     "output_type": "stream",
     "text": [
      "[CV 3/5] END LR__C=9.473736842105263, LR__solver=lbfgs, SCL=None;, score=0.818 total time=   0.1s\n",
      "[CV 4/5] END LR__C=9.473736842105263, LR__solver=lbfgs, SCL=None;, score=0.811 total time=   0.1s\n"
     ]
    },
    {
     "name": "stderr",
     "output_type": "stream",
     "text": [
      "C:\\Users\\DAI.STUDENTSDC\\AppData\\Local\\anaconda3\\Lib\\site-packages\\sklearn\\linear_model\\_logistic.py:469: ConvergenceWarning: lbfgs failed to converge (status=1):\n",
      "STOP: TOTAL NO. of ITERATIONS REACHED LIMIT.\n",
      "\n",
      "Increase the number of iterations (max_iter) or scale the data as shown in:\n",
      "    https://scikit-learn.org/stable/modules/preprocessing.html\n",
      "Please also refer to the documentation for alternative solver options:\n",
      "    https://scikit-learn.org/stable/modules/linear_model.html#logistic-regression\n",
      "  n_iter_i = _check_optimize_result(\n"
     ]
    },
    {
     "name": "stdout",
     "output_type": "stream",
     "text": [
      "[CV 5/5] END LR__C=9.473736842105263, LR__solver=lbfgs, SCL=None;, score=0.822 total time=   0.1s\n",
      "[CV 1/5] END LR__C=9.473736842105263, LR__solver=liblinear, SCL=MinMaxScaler();, score=0.821 total time=   0.0s\n",
      "[CV 2/5] END LR__C=9.473736842105263, LR__solver=liblinear, SCL=MinMaxScaler();, score=0.810 total time=   0.0s\n",
      "[CV 3/5] END LR__C=9.473736842105263, LR__solver=liblinear, SCL=MinMaxScaler();, score=0.825 total time=   0.0s\n",
      "[CV 4/5] END LR__C=9.473736842105263, LR__solver=liblinear, SCL=MinMaxScaler();, score=0.816 total time=   0.0s\n",
      "[CV 5/5] END LR__C=9.473736842105263, LR__solver=liblinear, SCL=MinMaxScaler();, score=0.827 total time=   0.0s\n",
      "[CV 1/5] END LR__C=9.473736842105263, LR__solver=liblinear, SCL=StandardScaler();, score=0.821 total time=   0.0s\n",
      "[CV 2/5] END LR__C=9.473736842105263, LR__solver=liblinear, SCL=StandardScaler();, score=0.810 total time=   0.0s\n",
      "[CV 3/5] END LR__C=9.473736842105263, LR__solver=liblinear, SCL=StandardScaler();, score=0.825 total time=   0.0s\n",
      "[CV 4/5] END LR__C=9.473736842105263, LR__solver=liblinear, SCL=StandardScaler();, score=0.816 total time=   0.0s\n",
      "[CV 5/5] END LR__C=9.473736842105263, LR__solver=liblinear, SCL=StandardScaler();, score=0.827 total time=   0.0s\n",
      "[CV 1/5] END LR__C=9.473736842105263, LR__solver=liblinear, SCL=None;, score=0.821 total time=   0.0s\n",
      "[CV 2/5] END LR__C=9.473736842105263, LR__solver=liblinear, SCL=None;, score=0.810 total time=   0.0s\n",
      "[CV 3/5] END LR__C=9.473736842105263, LR__solver=liblinear, SCL=None;, score=0.825 total time=   0.0s\n",
      "[CV 4/5] END LR__C=9.473736842105263, LR__solver=liblinear, SCL=None;, score=0.817 total time=   0.0s\n",
      "[CV 5/5] END LR__C=9.473736842105263, LR__solver=liblinear, SCL=None;, score=0.827 total time=   0.0s\n",
      "[CV 1/5] END LR__C=9.473736842105263, LR__solver=newton-cg, SCL=MinMaxScaler();, score=0.821 total time=   0.0s\n",
      "[CV 2/5] END LR__C=9.473736842105263, LR__solver=newton-cg, SCL=MinMaxScaler();, score=0.810 total time=   0.0s\n",
      "[CV 3/5] END LR__C=9.473736842105263, LR__solver=newton-cg, SCL=MinMaxScaler();, score=0.825 total time=   0.0s\n",
      "[CV 4/5] END LR__C=9.473736842105263, LR__solver=newton-cg, SCL=MinMaxScaler();, score=0.816 total time=   0.0s\n",
      "[CV 5/5] END LR__C=9.473736842105263, LR__solver=newton-cg, SCL=MinMaxScaler();, score=0.827 total time=   0.0s\n",
      "[CV 1/5] END LR__C=9.473736842105263, LR__solver=newton-cg, SCL=StandardScaler();, score=0.821 total time=   0.0s\n",
      "[CV 2/5] END LR__C=9.473736842105263, LR__solver=newton-cg, SCL=StandardScaler();, score=0.810 total time=   0.0s\n",
      "[CV 3/5] END LR__C=9.473736842105263, LR__solver=newton-cg, SCL=StandardScaler();, score=0.825 total time=   0.0s\n",
      "[CV 4/5] END LR__C=9.473736842105263, LR__solver=newton-cg, SCL=StandardScaler();, score=0.816 total time=   0.0s\n",
      "[CV 5/5] END LR__C=9.473736842105263, LR__solver=newton-cg, SCL=StandardScaler();, score=0.827 total time=   0.0s\n",
      "[CV 1/5] END LR__C=9.473736842105263, LR__solver=newton-cg, SCL=None;, score=0.821 total time=   0.1s\n",
      "[CV 2/5] END LR__C=9.473736842105263, LR__solver=newton-cg, SCL=None;, score=0.810 total time=   0.2s\n",
      "[CV 3/5] END LR__C=9.473736842105263, LR__solver=newton-cg, SCL=None;, score=0.825 total time=   0.1s\n",
      "[CV 4/5] END LR__C=9.473736842105263, LR__solver=newton-cg, SCL=None;, score=0.816 total time=   0.1s\n",
      "[CV 5/5] END LR__C=9.473736842105263, LR__solver=newton-cg, SCL=None;, score=0.827 total time=   0.2s\n",
      "[CV 1/5] END LR__C=9.473736842105263, LR__solver=newton-cholesky, SCL=MinMaxScaler();, score=0.821 total time=   0.0s\n",
      "[CV 2/5] END LR__C=9.473736842105263, LR__solver=newton-cholesky, SCL=MinMaxScaler();, score=0.810 total time=   0.0s\n",
      "[CV 3/5] END LR__C=9.473736842105263, LR__solver=newton-cholesky, SCL=MinMaxScaler();, score=0.825 total time=   0.0s\n",
      "[CV 4/5] END LR__C=9.473736842105263, LR__solver=newton-cholesky, SCL=MinMaxScaler();, score=0.816 total time=   0.0s\n",
      "[CV 5/5] END LR__C=9.473736842105263, LR__solver=newton-cholesky, SCL=MinMaxScaler();, score=0.827 total time=   0.0s\n",
      "[CV 1/5] END LR__C=9.473736842105263, LR__solver=newton-cholesky, SCL=StandardScaler();, score=0.821 total time=   0.0s\n",
      "[CV 2/5] END LR__C=9.473736842105263, LR__solver=newton-cholesky, SCL=StandardScaler();, score=0.810 total time=   0.0s\n",
      "[CV 3/5] END LR__C=9.473736842105263, LR__solver=newton-cholesky, SCL=StandardScaler();, score=0.825 total time=   0.0s\n",
      "[CV 4/5] END LR__C=9.473736842105263, LR__solver=newton-cholesky, SCL=StandardScaler();, score=0.816 total time=   0.0s\n",
      "[CV 5/5] END LR__C=9.473736842105263, LR__solver=newton-cholesky, SCL=StandardScaler();, score=0.827 total time=   0.0s\n",
      "[CV 1/5] END LR__C=9.473736842105263, LR__solver=newton-cholesky, SCL=None;, score=0.821 total time=   0.0s\n",
      "[CV 2/5] END LR__C=9.473736842105263, LR__solver=newton-cholesky, SCL=None;, score=0.810 total time=   0.0s\n",
      "[CV 3/5] END LR__C=9.473736842105263, LR__solver=newton-cholesky, SCL=None;, score=0.825 total time=   0.0s\n",
      "[CV 4/5] END LR__C=9.473736842105263, LR__solver=newton-cholesky, SCL=None;, score=0.816 total time=   0.0s\n",
      "[CV 5/5] END LR__C=9.473736842105263, LR__solver=newton-cholesky, SCL=None;, score=0.827 total time=   0.0s\n",
      "[CV 1/5] END LR__C=9.473736842105263, LR__solver=sag, SCL=MinMaxScaler();, score=0.821 total time=   0.1s\n",
      "[CV 2/5] END LR__C=9.473736842105263, LR__solver=sag, SCL=MinMaxScaler();, score=0.810 total time=   0.1s\n",
      "[CV 3/5] END LR__C=9.473736842105263, LR__solver=sag, SCL=MinMaxScaler();, score=0.825 total time=   0.1s\n",
      "[CV 4/5] END LR__C=9.473736842105263, LR__solver=sag, SCL=MinMaxScaler();, score=0.816 total time=   0.1s\n",
      "[CV 5/5] END LR__C=9.473736842105263, LR__solver=sag, SCL=MinMaxScaler();, score=0.827 total time=   0.1s\n",
      "[CV 1/5] END LR__C=9.473736842105263, LR__solver=sag, SCL=StandardScaler();, score=0.821 total time=   0.1s\n",
      "[CV 2/5] END LR__C=9.473736842105263, LR__solver=sag, SCL=StandardScaler();, score=0.810 total time=   0.1s\n",
      "[CV 3/5] END LR__C=9.473736842105263, LR__solver=sag, SCL=StandardScaler();, score=0.825 total time=   0.1s\n",
      "[CV 4/5] END LR__C=9.473736842105263, LR__solver=sag, SCL=StandardScaler();, score=0.816 total time=   0.1s\n",
      "[CV 5/5] END LR__C=9.473736842105263, LR__solver=sag, SCL=StandardScaler();, score=0.827 total time=   0.1s\n"
     ]
    },
    {
     "name": "stderr",
     "output_type": "stream",
     "text": [
      "C:\\Users\\DAI.STUDENTSDC\\AppData\\Local\\anaconda3\\Lib\\site-packages\\sklearn\\linear_model\\_sag.py:349: ConvergenceWarning: The max_iter was reached which means the coef_ did not converge\n",
      "  warnings.warn(\n"
     ]
    },
    {
     "name": "stdout",
     "output_type": "stream",
     "text": [
      "[CV 1/5] END LR__C=9.473736842105263, LR__solver=sag, SCL=None;, score=0.812 total time=   0.4s\n"
     ]
    },
    {
     "name": "stderr",
     "output_type": "stream",
     "text": [
      "C:\\Users\\DAI.STUDENTSDC\\AppData\\Local\\anaconda3\\Lib\\site-packages\\sklearn\\linear_model\\_sag.py:349: ConvergenceWarning: The max_iter was reached which means the coef_ did not converge\n",
      "  warnings.warn(\n"
     ]
    },
    {
     "name": "stdout",
     "output_type": "stream",
     "text": [
      "[CV 2/5] END LR__C=9.473736842105263, LR__solver=sag, SCL=None;, score=0.792 total time=   0.3s\n"
     ]
    },
    {
     "name": "stderr",
     "output_type": "stream",
     "text": [
      "C:\\Users\\DAI.STUDENTSDC\\AppData\\Local\\anaconda3\\Lib\\site-packages\\sklearn\\linear_model\\_sag.py:349: ConvergenceWarning: The max_iter was reached which means the coef_ did not converge\n",
      "  warnings.warn(\n"
     ]
    },
    {
     "name": "stdout",
     "output_type": "stream",
     "text": [
      "[CV 3/5] END LR__C=9.473736842105263, LR__solver=sag, SCL=None;, score=0.811 total time=   0.3s\n"
     ]
    },
    {
     "name": "stderr",
     "output_type": "stream",
     "text": [
      "C:\\Users\\DAI.STUDENTSDC\\AppData\\Local\\anaconda3\\Lib\\site-packages\\sklearn\\linear_model\\_sag.py:349: ConvergenceWarning: The max_iter was reached which means the coef_ did not converge\n",
      "  warnings.warn(\n"
     ]
    },
    {
     "name": "stdout",
     "output_type": "stream",
     "text": [
      "[CV 4/5] END LR__C=9.473736842105263, LR__solver=sag, SCL=None;, score=0.807 total time=   0.4s\n"
     ]
    },
    {
     "name": "stderr",
     "output_type": "stream",
     "text": [
      "C:\\Users\\DAI.STUDENTSDC\\AppData\\Local\\anaconda3\\Lib\\site-packages\\sklearn\\linear_model\\_sag.py:349: ConvergenceWarning: The max_iter was reached which means the coef_ did not converge\n",
      "  warnings.warn(\n"
     ]
    },
    {
     "name": "stdout",
     "output_type": "stream",
     "text": [
      "[CV 5/5] END LR__C=9.473736842105263, LR__solver=sag, SCL=None;, score=0.814 total time=   0.3s\n",
      "[CV 1/5] END LR__C=9.473736842105263, LR__solver=saga, SCL=MinMaxScaler();, score=0.821 total time=   0.0s\n",
      "[CV 2/5] END LR__C=9.473736842105263, LR__solver=saga, SCL=MinMaxScaler();, score=0.810 total time=   0.0s\n",
      "[CV 3/5] END LR__C=9.473736842105263, LR__solver=saga, SCL=MinMaxScaler();, score=0.825 total time=   0.0s\n",
      "[CV 4/5] END LR__C=9.473736842105263, LR__solver=saga, SCL=MinMaxScaler();, score=0.816 total time=   0.0s\n",
      "[CV 5/5] END LR__C=9.473736842105263, LR__solver=saga, SCL=MinMaxScaler();, score=0.827 total time=   0.0s\n",
      "[CV 1/5] END LR__C=9.473736842105263, LR__solver=saga, SCL=StandardScaler();, score=0.821 total time=   0.0s\n",
      "[CV 2/5] END LR__C=9.473736842105263, LR__solver=saga, SCL=StandardScaler();, score=0.810 total time=   0.0s\n",
      "[CV 3/5] END LR__C=9.473736842105263, LR__solver=saga, SCL=StandardScaler();, score=0.825 total time=   0.0s\n",
      "[CV 4/5] END LR__C=9.473736842105263, LR__solver=saga, SCL=StandardScaler();, score=0.816 total time=   0.0s\n",
      "[CV 5/5] END LR__C=9.473736842105263, LR__solver=saga, SCL=StandardScaler();, score=0.827 total time=   0.0s\n"
     ]
    },
    {
     "name": "stderr",
     "output_type": "stream",
     "text": [
      "C:\\Users\\DAI.STUDENTSDC\\AppData\\Local\\anaconda3\\Lib\\site-packages\\sklearn\\linear_model\\_sag.py:349: ConvergenceWarning: The max_iter was reached which means the coef_ did not converge\n",
      "  warnings.warn(\n"
     ]
    },
    {
     "name": "stdout",
     "output_type": "stream",
     "text": [
      "[CV 1/5] END LR__C=9.473736842105263, LR__solver=saga, SCL=None;, score=0.784 total time=   0.4s\n"
     ]
    },
    {
     "name": "stderr",
     "output_type": "stream",
     "text": [
      "C:\\Users\\DAI.STUDENTSDC\\AppData\\Local\\anaconda3\\Lib\\site-packages\\sklearn\\linear_model\\_sag.py:349: ConvergenceWarning: The max_iter was reached which means the coef_ did not converge\n",
      "  warnings.warn(\n"
     ]
    },
    {
     "name": "stdout",
     "output_type": "stream",
     "text": [
      "[CV 2/5] END LR__C=9.473736842105263, LR__solver=saga, SCL=None;, score=0.766 total time=   0.4s\n"
     ]
    },
    {
     "name": "stderr",
     "output_type": "stream",
     "text": [
      "C:\\Users\\DAI.STUDENTSDC\\AppData\\Local\\anaconda3\\Lib\\site-packages\\sklearn\\linear_model\\_sag.py:349: ConvergenceWarning: The max_iter was reached which means the coef_ did not converge\n",
      "  warnings.warn(\n"
     ]
    },
    {
     "name": "stdout",
     "output_type": "stream",
     "text": [
      "[CV 3/5] END LR__C=9.473736842105263, LR__solver=saga, SCL=None;, score=0.787 total time=   0.4s\n"
     ]
    },
    {
     "name": "stderr",
     "output_type": "stream",
     "text": [
      "C:\\Users\\DAI.STUDENTSDC\\AppData\\Local\\anaconda3\\Lib\\site-packages\\sklearn\\linear_model\\_sag.py:349: ConvergenceWarning: The max_iter was reached which means the coef_ did not converge\n",
      "  warnings.warn(\n"
     ]
    },
    {
     "name": "stdout",
     "output_type": "stream",
     "text": [
      "[CV 4/5] END LR__C=9.473736842105263, LR__solver=saga, SCL=None;, score=0.786 total time=   0.4s\n"
     ]
    },
    {
     "name": "stderr",
     "output_type": "stream",
     "text": [
      "C:\\Users\\DAI.STUDENTSDC\\AppData\\Local\\anaconda3\\Lib\\site-packages\\sklearn\\linear_model\\_sag.py:349: ConvergenceWarning: The max_iter was reached which means the coef_ did not converge\n",
      "  warnings.warn(\n"
     ]
    },
    {
     "name": "stdout",
     "output_type": "stream",
     "text": [
      "[CV 5/5] END LR__C=9.473736842105263, LR__solver=saga, SCL=None;, score=0.786 total time=   0.4s\n",
      "[CV 1/5] END LR__C=10.0, LR__solver=lbfgs, SCL=MinMaxScaler();, score=0.821 total time=   0.0s\n",
      "[CV 2/5] END LR__C=10.0, LR__solver=lbfgs, SCL=MinMaxScaler();, score=0.810 total time=   0.0s\n",
      "[CV 3/5] END LR__C=10.0, LR__solver=lbfgs, SCL=MinMaxScaler();, score=0.825 total time=   0.0s\n",
      "[CV 4/5] END LR__C=10.0, LR__solver=lbfgs, SCL=MinMaxScaler();, score=0.816 total time=   0.0s\n",
      "[CV 5/5] END LR__C=10.0, LR__solver=lbfgs, SCL=MinMaxScaler();, score=0.827 total time=   0.0s\n",
      "[CV 1/5] END LR__C=10.0, LR__solver=lbfgs, SCL=StandardScaler();, score=0.821 total time=   0.0s\n",
      "[CV 2/5] END LR__C=10.0, LR__solver=lbfgs, SCL=StandardScaler();, score=0.810 total time=   0.0s\n",
      "[CV 3/5] END LR__C=10.0, LR__solver=lbfgs, SCL=StandardScaler();, score=0.825 total time=   0.0s\n",
      "[CV 4/5] END LR__C=10.0, LR__solver=lbfgs, SCL=StandardScaler();, score=0.816 total time=   0.0s\n",
      "[CV 5/5] END LR__C=10.0, LR__solver=lbfgs, SCL=StandardScaler();, score=0.827 total time=   0.0s\n",
      "[CV 1/5] END LR__C=10.0, LR__solver=lbfgs, SCL=None;, score=0.813 total time=   0.1s\n"
     ]
    },
    {
     "name": "stderr",
     "output_type": "stream",
     "text": [
      "C:\\Users\\DAI.STUDENTSDC\\AppData\\Local\\anaconda3\\Lib\\site-packages\\sklearn\\linear_model\\_logistic.py:469: ConvergenceWarning: lbfgs failed to converge (status=1):\n",
      "STOP: TOTAL NO. of ITERATIONS REACHED LIMIT.\n",
      "\n",
      "Increase the number of iterations (max_iter) or scale the data as shown in:\n",
      "    https://scikit-learn.org/stable/modules/preprocessing.html\n",
      "Please also refer to the documentation for alternative solver options:\n",
      "    https://scikit-learn.org/stable/modules/linear_model.html#logistic-regression\n",
      "  n_iter_i = _check_optimize_result(\n",
      "C:\\Users\\DAI.STUDENTSDC\\AppData\\Local\\anaconda3\\Lib\\site-packages\\sklearn\\linear_model\\_logistic.py:469: ConvergenceWarning: lbfgs failed to converge (status=1):\n",
      "STOP: TOTAL NO. of ITERATIONS REACHED LIMIT.\n",
      "\n",
      "Increase the number of iterations (max_iter) or scale the data as shown in:\n",
      "    https://scikit-learn.org/stable/modules/preprocessing.html\n",
      "Please also refer to the documentation for alternative solver options:\n",
      "    https://scikit-learn.org/stable/modules/linear_model.html#logistic-regression\n",
      "  n_iter_i = _check_optimize_result(\n"
     ]
    },
    {
     "name": "stdout",
     "output_type": "stream",
     "text": [
      "[CV 2/5] END LR__C=10.0, LR__solver=lbfgs, SCL=None;, score=0.805 total time=   0.1s\n",
      "[CV 3/5] END LR__C=10.0, LR__solver=lbfgs, SCL=None;, score=0.818 total time=   0.1s\n"
     ]
    },
    {
     "name": "stderr",
     "output_type": "stream",
     "text": [
      "C:\\Users\\DAI.STUDENTSDC\\AppData\\Local\\anaconda3\\Lib\\site-packages\\sklearn\\linear_model\\_logistic.py:469: ConvergenceWarning: lbfgs failed to converge (status=1):\n",
      "STOP: TOTAL NO. of ITERATIONS REACHED LIMIT.\n",
      "\n",
      "Increase the number of iterations (max_iter) or scale the data as shown in:\n",
      "    https://scikit-learn.org/stable/modules/preprocessing.html\n",
      "Please also refer to the documentation for alternative solver options:\n",
      "    https://scikit-learn.org/stable/modules/linear_model.html#logistic-regression\n",
      "  n_iter_i = _check_optimize_result(\n",
      "C:\\Users\\DAI.STUDENTSDC\\AppData\\Local\\anaconda3\\Lib\\site-packages\\sklearn\\linear_model\\_logistic.py:469: ConvergenceWarning: lbfgs failed to converge (status=1):\n",
      "STOP: TOTAL NO. of ITERATIONS REACHED LIMIT.\n",
      "\n",
      "Increase the number of iterations (max_iter) or scale the data as shown in:\n",
      "    https://scikit-learn.org/stable/modules/preprocessing.html\n",
      "Please also refer to the documentation for alternative solver options:\n",
      "    https://scikit-learn.org/stable/modules/linear_model.html#logistic-regression\n",
      "  n_iter_i = _check_optimize_result(\n"
     ]
    },
    {
     "name": "stdout",
     "output_type": "stream",
     "text": [
      "[CV 4/5] END LR__C=10.0, LR__solver=lbfgs, SCL=None;, score=0.813 total time=   0.1s\n",
      "[CV 5/5] END LR__C=10.0, LR__solver=lbfgs, SCL=None;, score=0.822 total time=   0.1s\n"
     ]
    },
    {
     "name": "stderr",
     "output_type": "stream",
     "text": [
      "C:\\Users\\DAI.STUDENTSDC\\AppData\\Local\\anaconda3\\Lib\\site-packages\\sklearn\\linear_model\\_logistic.py:469: ConvergenceWarning: lbfgs failed to converge (status=1):\n",
      "STOP: TOTAL NO. of ITERATIONS REACHED LIMIT.\n",
      "\n",
      "Increase the number of iterations (max_iter) or scale the data as shown in:\n",
      "    https://scikit-learn.org/stable/modules/preprocessing.html\n",
      "Please also refer to the documentation for alternative solver options:\n",
      "    https://scikit-learn.org/stable/modules/linear_model.html#logistic-regression\n",
      "  n_iter_i = _check_optimize_result(\n"
     ]
    },
    {
     "name": "stdout",
     "output_type": "stream",
     "text": [
      "[CV 1/5] END LR__C=10.0, LR__solver=liblinear, SCL=MinMaxScaler();, score=0.821 total time=   0.0s\n",
      "[CV 2/5] END LR__C=10.0, LR__solver=liblinear, SCL=MinMaxScaler();, score=0.810 total time=   0.0s\n",
      "[CV 3/5] END LR__C=10.0, LR__solver=liblinear, SCL=MinMaxScaler();, score=0.825 total time=   0.0s\n",
      "[CV 4/5] END LR__C=10.0, LR__solver=liblinear, SCL=MinMaxScaler();, score=0.816 total time=   0.0s\n",
      "[CV 5/5] END LR__C=10.0, LR__solver=liblinear, SCL=MinMaxScaler();, score=0.827 total time=   0.0s\n",
      "[CV 1/5] END LR__C=10.0, LR__solver=liblinear, SCL=StandardScaler();, score=0.821 total time=   0.0s\n",
      "[CV 2/5] END LR__C=10.0, LR__solver=liblinear, SCL=StandardScaler();, score=0.810 total time=   0.0s\n",
      "[CV 3/5] END LR__C=10.0, LR__solver=liblinear, SCL=StandardScaler();, score=0.825 total time=   0.0s\n",
      "[CV 4/5] END LR__C=10.0, LR__solver=liblinear, SCL=StandardScaler();, score=0.816 total time=   0.0s\n",
      "[CV 5/5] END LR__C=10.0, LR__solver=liblinear, SCL=StandardScaler();, score=0.827 total time=   0.0s\n",
      "[CV 1/5] END LR__C=10.0, LR__solver=liblinear, SCL=None;, score=0.821 total time=   0.0s\n",
      "[CV 2/5] END LR__C=10.0, LR__solver=liblinear, SCL=None;, score=0.810 total time=   0.0s\n",
      "[CV 3/5] END LR__C=10.0, LR__solver=liblinear, SCL=None;, score=0.825 total time=   0.0s\n",
      "[CV 4/5] END LR__C=10.0, LR__solver=liblinear, SCL=None;, score=0.817 total time=   0.0s\n",
      "[CV 5/5] END LR__C=10.0, LR__solver=liblinear, SCL=None;, score=0.827 total time=   0.0s\n",
      "[CV 1/5] END LR__C=10.0, LR__solver=newton-cg, SCL=MinMaxScaler();, score=0.821 total time=   0.0s\n",
      "[CV 2/5] END LR__C=10.0, LR__solver=newton-cg, SCL=MinMaxScaler();, score=0.810 total time=   0.0s\n",
      "[CV 3/5] END LR__C=10.0, LR__solver=newton-cg, SCL=MinMaxScaler();, score=0.825 total time=   0.0s\n",
      "[CV 4/5] END LR__C=10.0, LR__solver=newton-cg, SCL=MinMaxScaler();, score=0.816 total time=   0.0s\n",
      "[CV 5/5] END LR__C=10.0, LR__solver=newton-cg, SCL=MinMaxScaler();, score=0.827 total time=   0.0s\n",
      "[CV 1/5] END LR__C=10.0, LR__solver=newton-cg, SCL=StandardScaler();, score=0.821 total time=   0.0s\n",
      "[CV 2/5] END LR__C=10.0, LR__solver=newton-cg, SCL=StandardScaler();, score=0.810 total time=   0.0s\n",
      "[CV 3/5] END LR__C=10.0, LR__solver=newton-cg, SCL=StandardScaler();, score=0.825 total time=   0.0s\n",
      "[CV 4/5] END LR__C=10.0, LR__solver=newton-cg, SCL=StandardScaler();, score=0.816 total time=   0.0s\n",
      "[CV 5/5] END LR__C=10.0, LR__solver=newton-cg, SCL=StandardScaler();, score=0.827 total time=   0.0s\n",
      "[CV 1/5] END LR__C=10.0, LR__solver=newton-cg, SCL=None;, score=0.821 total time=   0.2s\n",
      "[CV 2/5] END LR__C=10.0, LR__solver=newton-cg, SCL=None;, score=0.810 total time=   0.2s\n",
      "[CV 3/5] END LR__C=10.0, LR__solver=newton-cg, SCL=None;, score=0.825 total time=   0.1s\n",
      "[CV 4/5] END LR__C=10.0, LR__solver=newton-cg, SCL=None;, score=0.816 total time=   0.1s\n",
      "[CV 5/5] END LR__C=10.0, LR__solver=newton-cg, SCL=None;, score=0.827 total time=   0.2s\n",
      "[CV 1/5] END LR__C=10.0, LR__solver=newton-cholesky, SCL=MinMaxScaler();, score=0.821 total time=   0.0s\n",
      "[CV 2/5] END LR__C=10.0, LR__solver=newton-cholesky, SCL=MinMaxScaler();, score=0.810 total time=   0.0s\n",
      "[CV 3/5] END LR__C=10.0, LR__solver=newton-cholesky, SCL=MinMaxScaler();, score=0.825 total time=   0.0s\n",
      "[CV 4/5] END LR__C=10.0, LR__solver=newton-cholesky, SCL=MinMaxScaler();, score=0.816 total time=   0.0s\n",
      "[CV 5/5] END LR__C=10.0, LR__solver=newton-cholesky, SCL=MinMaxScaler();, score=0.827 total time=   0.0s\n",
      "[CV 1/5] END LR__C=10.0, LR__solver=newton-cholesky, SCL=StandardScaler();, score=0.821 total time=   0.0s\n",
      "[CV 2/5] END LR__C=10.0, LR__solver=newton-cholesky, SCL=StandardScaler();, score=0.810 total time=   0.0s\n",
      "[CV 3/5] END LR__C=10.0, LR__solver=newton-cholesky, SCL=StandardScaler();, score=0.825 total time=   0.0s\n",
      "[CV 4/5] END LR__C=10.0, LR__solver=newton-cholesky, SCL=StandardScaler();, score=0.816 total time=   0.0s\n",
      "[CV 5/5] END LR__C=10.0, LR__solver=newton-cholesky, SCL=StandardScaler();, score=0.827 total time=   0.0s\n",
      "[CV 1/5] END LR__C=10.0, LR__solver=newton-cholesky, SCL=None;, score=0.821 total time=   0.0s\n",
      "[CV 2/5] END LR__C=10.0, LR__solver=newton-cholesky, SCL=None;, score=0.810 total time=   0.0s\n",
      "[CV 3/5] END LR__C=10.0, LR__solver=newton-cholesky, SCL=None;, score=0.825 total time=   0.0s\n",
      "[CV 4/5] END LR__C=10.0, LR__solver=newton-cholesky, SCL=None;, score=0.816 total time=   0.0s\n",
      "[CV 5/5] END LR__C=10.0, LR__solver=newton-cholesky, SCL=None;, score=0.827 total time=   0.0s\n",
      "[CV 1/5] END LR__C=10.0, LR__solver=sag, SCL=MinMaxScaler();, score=0.821 total time=   0.1s\n",
      "[CV 2/5] END LR__C=10.0, LR__solver=sag, SCL=MinMaxScaler();, score=0.810 total time=   0.1s\n",
      "[CV 3/5] END LR__C=10.0, LR__solver=sag, SCL=MinMaxScaler();, score=0.825 total time=   0.1s\n",
      "[CV 4/5] END LR__C=10.0, LR__solver=sag, SCL=MinMaxScaler();, score=0.816 total time=   0.1s\n",
      "[CV 5/5] END LR__C=10.0, LR__solver=sag, SCL=MinMaxScaler();, score=0.827 total time=   0.1s\n",
      "[CV 1/5] END LR__C=10.0, LR__solver=sag, SCL=StandardScaler();, score=0.821 total time=   0.1s\n",
      "[CV 2/5] END LR__C=10.0, LR__solver=sag, SCL=StandardScaler();, score=0.810 total time=   0.1s\n",
      "[CV 3/5] END LR__C=10.0, LR__solver=sag, SCL=StandardScaler();, score=0.825 total time=   0.1s\n",
      "[CV 4/5] END LR__C=10.0, LR__solver=sag, SCL=StandardScaler();, score=0.816 total time=   0.1s\n",
      "[CV 5/5] END LR__C=10.0, LR__solver=sag, SCL=StandardScaler();, score=0.827 total time=   0.1s\n"
     ]
    },
    {
     "name": "stderr",
     "output_type": "stream",
     "text": [
      "C:\\Users\\DAI.STUDENTSDC\\AppData\\Local\\anaconda3\\Lib\\site-packages\\sklearn\\linear_model\\_sag.py:349: ConvergenceWarning: The max_iter was reached which means the coef_ did not converge\n",
      "  warnings.warn(\n"
     ]
    },
    {
     "name": "stdout",
     "output_type": "stream",
     "text": [
      "[CV 1/5] END LR__C=10.0, LR__solver=sag, SCL=None;, score=0.812 total time=   0.3s\n"
     ]
    },
    {
     "name": "stderr",
     "output_type": "stream",
     "text": [
      "C:\\Users\\DAI.STUDENTSDC\\AppData\\Local\\anaconda3\\Lib\\site-packages\\sklearn\\linear_model\\_sag.py:349: ConvergenceWarning: The max_iter was reached which means the coef_ did not converge\n",
      "  warnings.warn(\n"
     ]
    },
    {
     "name": "stdout",
     "output_type": "stream",
     "text": [
      "[CV 2/5] END LR__C=10.0, LR__solver=sag, SCL=None;, score=0.792 total time=   0.3s\n"
     ]
    },
    {
     "name": "stderr",
     "output_type": "stream",
     "text": [
      "C:\\Users\\DAI.STUDENTSDC\\AppData\\Local\\anaconda3\\Lib\\site-packages\\sklearn\\linear_model\\_sag.py:349: ConvergenceWarning: The max_iter was reached which means the coef_ did not converge\n",
      "  warnings.warn(\n"
     ]
    },
    {
     "name": "stdout",
     "output_type": "stream",
     "text": [
      "[CV 3/5] END LR__C=10.0, LR__solver=sag, SCL=None;, score=0.811 total time=   0.3s\n"
     ]
    },
    {
     "name": "stderr",
     "output_type": "stream",
     "text": [
      "C:\\Users\\DAI.STUDENTSDC\\AppData\\Local\\anaconda3\\Lib\\site-packages\\sklearn\\linear_model\\_sag.py:349: ConvergenceWarning: The max_iter was reached which means the coef_ did not converge\n",
      "  warnings.warn(\n"
     ]
    },
    {
     "name": "stdout",
     "output_type": "stream",
     "text": [
      "[CV 4/5] END LR__C=10.0, LR__solver=sag, SCL=None;, score=0.807 total time=   0.3s\n"
     ]
    },
    {
     "name": "stderr",
     "output_type": "stream",
     "text": [
      "C:\\Users\\DAI.STUDENTSDC\\AppData\\Local\\anaconda3\\Lib\\site-packages\\sklearn\\linear_model\\_sag.py:349: ConvergenceWarning: The max_iter was reached which means the coef_ did not converge\n",
      "  warnings.warn(\n"
     ]
    },
    {
     "name": "stdout",
     "output_type": "stream",
     "text": [
      "[CV 5/5] END LR__C=10.0, LR__solver=sag, SCL=None;, score=0.814 total time=   0.3s\n",
      "[CV 1/5] END LR__C=10.0, LR__solver=saga, SCL=MinMaxScaler();, score=0.821 total time=   0.0s\n",
      "[CV 2/5] END LR__C=10.0, LR__solver=saga, SCL=MinMaxScaler();, score=0.810 total time=   0.0s\n",
      "[CV 3/5] END LR__C=10.0, LR__solver=saga, SCL=MinMaxScaler();, score=0.825 total time=   0.0s\n",
      "[CV 4/5] END LR__C=10.0, LR__solver=saga, SCL=MinMaxScaler();, score=0.816 total time=   0.0s\n",
      "[CV 5/5] END LR__C=10.0, LR__solver=saga, SCL=MinMaxScaler();, score=0.827 total time=   0.0s\n",
      "[CV 1/5] END LR__C=10.0, LR__solver=saga, SCL=StandardScaler();, score=0.821 total time=   0.0s\n",
      "[CV 2/5] END LR__C=10.0, LR__solver=saga, SCL=StandardScaler();, score=0.810 total time=   0.0s\n",
      "[CV 3/5] END LR__C=10.0, LR__solver=saga, SCL=StandardScaler();, score=0.825 total time=   0.0s\n",
      "[CV 4/5] END LR__C=10.0, LR__solver=saga, SCL=StandardScaler();, score=0.816 total time=   0.0s\n",
      "[CV 5/5] END LR__C=10.0, LR__solver=saga, SCL=StandardScaler();, score=0.827 total time=   0.0s\n"
     ]
    },
    {
     "name": "stderr",
     "output_type": "stream",
     "text": [
      "C:\\Users\\DAI.STUDENTSDC\\AppData\\Local\\anaconda3\\Lib\\site-packages\\sklearn\\linear_model\\_sag.py:349: ConvergenceWarning: The max_iter was reached which means the coef_ did not converge\n",
      "  warnings.warn(\n"
     ]
    },
    {
     "name": "stdout",
     "output_type": "stream",
     "text": [
      "[CV 1/5] END LR__C=10.0, LR__solver=saga, SCL=None;, score=0.784 total time=   0.4s\n"
     ]
    },
    {
     "name": "stderr",
     "output_type": "stream",
     "text": [
      "C:\\Users\\DAI.STUDENTSDC\\AppData\\Local\\anaconda3\\Lib\\site-packages\\sklearn\\linear_model\\_sag.py:349: ConvergenceWarning: The max_iter was reached which means the coef_ did not converge\n",
      "  warnings.warn(\n"
     ]
    },
    {
     "name": "stdout",
     "output_type": "stream",
     "text": [
      "[CV 2/5] END LR__C=10.0, LR__solver=saga, SCL=None;, score=0.766 total time=   0.3s\n"
     ]
    },
    {
     "name": "stderr",
     "output_type": "stream",
     "text": [
      "C:\\Users\\DAI.STUDENTSDC\\AppData\\Local\\anaconda3\\Lib\\site-packages\\sklearn\\linear_model\\_sag.py:349: ConvergenceWarning: The max_iter was reached which means the coef_ did not converge\n",
      "  warnings.warn(\n"
     ]
    },
    {
     "name": "stdout",
     "output_type": "stream",
     "text": [
      "[CV 3/5] END LR__C=10.0, LR__solver=saga, SCL=None;, score=0.787 total time=   0.3s\n"
     ]
    },
    {
     "name": "stderr",
     "output_type": "stream",
     "text": [
      "C:\\Users\\DAI.STUDENTSDC\\AppData\\Local\\anaconda3\\Lib\\site-packages\\sklearn\\linear_model\\_sag.py:349: ConvergenceWarning: The max_iter was reached which means the coef_ did not converge\n",
      "  warnings.warn(\n"
     ]
    },
    {
     "name": "stdout",
     "output_type": "stream",
     "text": [
      "[CV 4/5] END LR__C=10.0, LR__solver=saga, SCL=None;, score=0.786 total time=   0.3s\n",
      "[CV 5/5] END LR__C=10.0, LR__solver=saga, SCL=None;, score=0.786 total time=   0.3s\n",
      "{'LR__C': 0.5272631578947369, 'LR__solver': 'newton-cholesky', 'SCL': None}\n"
     ]
    },
    {
     "name": "stderr",
     "output_type": "stream",
     "text": [
      "C:\\Users\\DAI.STUDENTSDC\\AppData\\Local\\anaconda3\\Lib\\site-packages\\sklearn\\linear_model\\_sag.py:349: ConvergenceWarning: The max_iter was reached which means the coef_ did not converge\n",
      "  warnings.warn(\n"
     ]
    }
   ],
   "source": [
    "import pandas as pd\n",
    "from sklearn.linear_model import LogisticRegression\n",
    "import numpy as np\n",
    "from sklearn.compose import make_column_transformer \n",
    "from sklearn.compose import make_column_selector\n",
    "from sklearn.preprocessing import MinMaxScaler, StandardScaler\n",
    "from sklearn.preprocessing import OneHotEncoder\n",
    "from sklearn.model_selection import train_test_split\n",
    "from sklearn.metrics import log_loss\n",
    "import matplotlib.pyplot as plt\n",
    "from sklearn.model_selection import StratifiedKFold, GridSearchCV\n",
    "from sklearn.pipeline import Pipeline\n",
    "import os \n",
    "\n",
    "hr = pd.read_csv(\"Cases/human-resources-analytics/HR_comma_sep.csv\")\n",
    "y = hr['left']\n",
    "X = hr.drop('left', axis = 1)\n",
    "X_train, X_test, y_train, y_test = train_test_split(X, y, \n",
    "        random_state=24, test_size=0.3, stratify=y)\n",
    "\n",
    "ohe = OneHotEncoder(sparse_output=False, drop='first').set_output(transform='pandas')\n",
    "scaler_mm = MinMaxScaler()\n",
    "scaler_std = StandardScaler()\n",
    "ct = make_column_transformer(('passthrough', make_column_selector(dtype_exclude=object)  ),\n",
    "                             (ohe, make_column_selector(dtype_include=object) ),\n",
    "                            verbose_feature_names_out=False).set_output(transform='pandas')\n",
    "lr = LogisticRegression(random_state=24)\n",
    "pipe = Pipeline([('CT',ct),('SCL',None),('LR',lr)])\n",
    "\n",
    "pipe.fit(X_train, y_train)\n",
    "y_pred_prob = pipe.predict_proba(X_test)\n",
    "print(log_loss(y_test, y_pred_prob))\n",
    "\n",
    "#### K-FOLDS\n",
    "\n",
    "kfold = StratifiedKFold(n_splits=5, random_state=24, \n",
    "                        shuffle=True)\n",
    "params = {'LR__solver':['lbfgs','liblinear',\n",
    "          'newton-cg','newton-cholesky',\n",
    "          'sag','saga'],\n",
    "          'LR__C':np.linspace(0.001, 10, 20),\n",
    "          'SCL':[scaler_mm, scaler_std, None]}\n",
    "gcv = GridSearchCV(pipe, param_grid=params,\n",
    "                   scoring='roc_auc',\n",
    "                   cv=kfold, verbose=3)\n",
    "gcv.fit(X,y)\n",
    "print(gcv.best_params_)"
   ]
  },
  {
   "cell_type": "code",
   "execution_count": 23,
   "id": "7d7a49f6-1012-437d-84a7-527f96956a1d",
   "metadata": {
    "scrolled": true
   },
   "outputs": [
    {
     "name": "stdout",
     "output_type": "stream",
     "text": [
      "Fitting 5 folds for each of 360 candidates, totalling 1800 fits\n",
      "[CV 1/5] END LR__C=0.001, LR__solver=lbfgs, SCL=MinMaxScaler();, score=-0.518 total time=   0.0s\n",
      "[CV 2/5] END LR__C=0.001, LR__solver=lbfgs, SCL=MinMaxScaler();, score=-0.520 total time=   0.0s\n",
      "[CV 3/5] END LR__C=0.001, LR__solver=lbfgs, SCL=MinMaxScaler();, score=-0.517 total time=   0.0s\n",
      "[CV 4/5] END LR__C=0.001, LR__solver=lbfgs, SCL=MinMaxScaler();, score=-0.518 total time=   0.0s\n",
      "[CV 5/5] END LR__C=0.001, LR__solver=lbfgs, SCL=MinMaxScaler();, score=-0.516 total time=   0.0s\n",
      "[CV 1/5] END LR__C=0.001, LR__solver=lbfgs, SCL=StandardScaler();, score=-0.449 total time=   0.0s\n",
      "[CV 2/5] END LR__C=0.001, LR__solver=lbfgs, SCL=StandardScaler();, score=-0.457 total time=   0.0s\n",
      "[CV 3/5] END LR__C=0.001, LR__solver=lbfgs, SCL=StandardScaler();, score=-0.449 total time=   0.0s\n",
      "[CV 4/5] END LR__C=0.001, LR__solver=lbfgs, SCL=StandardScaler();, score=-0.453 total time=   0.0s\n",
      "[CV 5/5] END LR__C=0.001, LR__solver=lbfgs, SCL=StandardScaler();, score=-0.448 total time=   0.0s\n"
     ]
    },
    {
     "name": "stderr",
     "output_type": "stream",
     "text": [
      "C:\\Users\\DAI.STUDENTSDC\\AppData\\Local\\anaconda3\\Lib\\site-packages\\sklearn\\linear_model\\_logistic.py:469: ConvergenceWarning: lbfgs failed to converge (status=1):\n",
      "STOP: TOTAL NO. of ITERATIONS REACHED LIMIT.\n",
      "\n",
      "Increase the number of iterations (max_iter) or scale the data as shown in:\n",
      "    https://scikit-learn.org/stable/modules/preprocessing.html\n",
      "Please also refer to the documentation for alternative solver options:\n",
      "    https://scikit-learn.org/stable/modules/linear_model.html#logistic-regression\n",
      "  n_iter_i = _check_optimize_result(\n"
     ]
    },
    {
     "name": "stdout",
     "output_type": "stream",
     "text": [
      "[CV 1/5] END LR__C=0.001, LR__solver=lbfgs, SCL=None;, score=-0.506 total time=   0.1s\n",
      "[CV 2/5] END LR__C=0.001, LR__solver=lbfgs, SCL=None;, score=-0.514 total time=   0.1s\n"
     ]
    },
    {
     "name": "stderr",
     "output_type": "stream",
     "text": [
      "C:\\Users\\DAI.STUDENTSDC\\AppData\\Local\\anaconda3\\Lib\\site-packages\\sklearn\\linear_model\\_logistic.py:469: ConvergenceWarning: lbfgs failed to converge (status=1):\n",
      "STOP: TOTAL NO. of ITERATIONS REACHED LIMIT.\n",
      "\n",
      "Increase the number of iterations (max_iter) or scale the data as shown in:\n",
      "    https://scikit-learn.org/stable/modules/preprocessing.html\n",
      "Please also refer to the documentation for alternative solver options:\n",
      "    https://scikit-learn.org/stable/modules/linear_model.html#logistic-regression\n",
      "  n_iter_i = _check_optimize_result(\n",
      "C:\\Users\\DAI.STUDENTSDC\\AppData\\Local\\anaconda3\\Lib\\site-packages\\sklearn\\linear_model\\_logistic.py:469: ConvergenceWarning: lbfgs failed to converge (status=1):\n",
      "STOP: TOTAL NO. of ITERATIONS REACHED LIMIT.\n",
      "\n",
      "Increase the number of iterations (max_iter) or scale the data as shown in:\n",
      "    https://scikit-learn.org/stable/modules/preprocessing.html\n",
      "Please also refer to the documentation for alternative solver options:\n",
      "    https://scikit-learn.org/stable/modules/linear_model.html#logistic-regression\n",
      "  n_iter_i = _check_optimize_result(\n"
     ]
    },
    {
     "name": "stdout",
     "output_type": "stream",
     "text": [
      "[CV 3/5] END LR__C=0.001, LR__solver=lbfgs, SCL=None;, score=-0.511 total time=   0.1s\n",
      "[CV 4/5] END LR__C=0.001, LR__solver=lbfgs, SCL=None;, score=-0.512 total time=   0.1s\n"
     ]
    },
    {
     "name": "stderr",
     "output_type": "stream",
     "text": [
      "C:\\Users\\DAI.STUDENTSDC\\AppData\\Local\\anaconda3\\Lib\\site-packages\\sklearn\\linear_model\\_logistic.py:469: ConvergenceWarning: lbfgs failed to converge (status=1):\n",
      "STOP: TOTAL NO. of ITERATIONS REACHED LIMIT.\n",
      "\n",
      "Increase the number of iterations (max_iter) or scale the data as shown in:\n",
      "    https://scikit-learn.org/stable/modules/preprocessing.html\n",
      "Please also refer to the documentation for alternative solver options:\n",
      "    https://scikit-learn.org/stable/modules/linear_model.html#logistic-regression\n",
      "  n_iter_i = _check_optimize_result(\n"
     ]
    },
    {
     "name": "stdout",
     "output_type": "stream",
     "text": [
      "[CV 5/5] END LR__C=0.001, LR__solver=lbfgs, SCL=None;, score=-0.511 total time=   0.1s\n",
      "[CV 1/5] END LR__C=0.001, LR__solver=liblinear, SCL=MinMaxScaler();, score=-0.519 total time=   0.0s\n",
      "[CV 2/5] END LR__C=0.001, LR__solver=liblinear, SCL=MinMaxScaler();, score=-0.520 total time=   0.0s\n",
      "[CV 3/5] END LR__C=0.001, LR__solver=liblinear, SCL=MinMaxScaler();, score=-0.517 total time=   0.0s\n",
      "[CV 4/5] END LR__C=0.001, LR__solver=liblinear, SCL=MinMaxScaler();, score=-0.517 total time=   0.0s\n",
      "[CV 5/5] END LR__C=0.001, LR__solver=liblinear, SCL=MinMaxScaler();, score=-0.516 total time=   0.0s\n",
      "[CV 1/5] END LR__C=0.001, LR__solver=liblinear, SCL=StandardScaler();, score=-0.468 total time=   0.0s\n",
      "[CV 2/5] END LR__C=0.001, LR__solver=liblinear, SCL=StandardScaler();, score=-0.477 total time=   0.0s\n",
      "[CV 3/5] END LR__C=0.001, LR__solver=liblinear, SCL=StandardScaler();, score=-0.469 total time=   0.0s\n",
      "[CV 4/5] END LR__C=0.001, LR__solver=liblinear, SCL=StandardScaler();, score=-0.474 total time=   0.0s\n",
      "[CV 5/5] END LR__C=0.001, LR__solver=liblinear, SCL=StandardScaler();, score=-0.470 total time=   0.0s\n",
      "[CV 1/5] END LR__C=0.001, LR__solver=liblinear, SCL=None;, score=-0.523 total time=   0.0s\n",
      "[CV 2/5] END LR__C=0.001, LR__solver=liblinear, SCL=None;, score=-0.522 total time=   0.0s\n",
      "[CV 3/5] END LR__C=0.001, LR__solver=liblinear, SCL=None;, score=-0.519 total time=   0.0s\n",
      "[CV 4/5] END LR__C=0.001, LR__solver=liblinear, SCL=None;, score=-0.518 total time=   0.0s\n",
      "[CV 5/5] END LR__C=0.001, LR__solver=liblinear, SCL=None;, score=-0.522 total time=   0.0s\n",
      "[CV 1/5] END LR__C=0.001, LR__solver=newton-cg, SCL=MinMaxScaler();, score=-0.518 total time=   0.0s\n",
      "[CV 2/5] END LR__C=0.001, LR__solver=newton-cg, SCL=MinMaxScaler();, score=-0.520 total time=   0.0s\n",
      "[CV 3/5] END LR__C=0.001, LR__solver=newton-cg, SCL=MinMaxScaler();, score=-0.517 total time=   0.0s\n",
      "[CV 4/5] END LR__C=0.001, LR__solver=newton-cg, SCL=MinMaxScaler();, score=-0.518 total time=   0.0s\n",
      "[CV 5/5] END LR__C=0.001, LR__solver=newton-cg, SCL=MinMaxScaler();, score=-0.516 total time=   0.0s\n",
      "[CV 1/5] END LR__C=0.001, LR__solver=newton-cg, SCL=StandardScaler();, score=-0.449 total time=   0.0s\n",
      "[CV 2/5] END LR__C=0.001, LR__solver=newton-cg, SCL=StandardScaler();, score=-0.457 total time=   0.0s\n",
      "[CV 3/5] END LR__C=0.001, LR__solver=newton-cg, SCL=StandardScaler();, score=-0.449 total time=   0.0s\n",
      "[CV 4/5] END LR__C=0.001, LR__solver=newton-cg, SCL=StandardScaler();, score=-0.453 total time=   0.0s\n",
      "[CV 5/5] END LR__C=0.001, LR__solver=newton-cg, SCL=StandardScaler();, score=-0.448 total time=   0.0s\n",
      "[CV 1/5] END LR__C=0.001, LR__solver=newton-cg, SCL=None;, score=-0.506 total time=   0.1s\n",
      "[CV 2/5] END LR__C=0.001, LR__solver=newton-cg, SCL=None;, score=-0.514 total time=   0.0s\n",
      "[CV 3/5] END LR__C=0.001, LR__solver=newton-cg, SCL=None;, score=-0.511 total time=   0.1s\n",
      "[CV 4/5] END LR__C=0.001, LR__solver=newton-cg, SCL=None;, score=-0.512 total time=   0.0s\n",
      "[CV 5/5] END LR__C=0.001, LR__solver=newton-cg, SCL=None;, score=-0.511 total time=   0.1s\n",
      "[CV 1/5] END LR__C=0.001, LR__solver=newton-cholesky, SCL=MinMaxScaler();, score=-0.518 total time=   0.0s\n",
      "[CV 2/5] END LR__C=0.001, LR__solver=newton-cholesky, SCL=MinMaxScaler();, score=-0.520 total time=   0.0s\n",
      "[CV 3/5] END LR__C=0.001, LR__solver=newton-cholesky, SCL=MinMaxScaler();, score=-0.517 total time=   0.0s\n",
      "[CV 4/5] END LR__C=0.001, LR__solver=newton-cholesky, SCL=MinMaxScaler();, score=-0.518 total time=   0.0s\n",
      "[CV 5/5] END LR__C=0.001, LR__solver=newton-cholesky, SCL=MinMaxScaler();, score=-0.516 total time=   0.0s\n",
      "[CV 1/5] END LR__C=0.001, LR__solver=newton-cholesky, SCL=StandardScaler();, score=-0.449 total time=   0.0s\n",
      "[CV 2/5] END LR__C=0.001, LR__solver=newton-cholesky, SCL=StandardScaler();, score=-0.457 total time=   0.0s\n",
      "[CV 3/5] END LR__C=0.001, LR__solver=newton-cholesky, SCL=StandardScaler();, score=-0.449 total time=   0.0s\n",
      "[CV 4/5] END LR__C=0.001, LR__solver=newton-cholesky, SCL=StandardScaler();, score=-0.453 total time=   0.0s\n",
      "[CV 5/5] END LR__C=0.001, LR__solver=newton-cholesky, SCL=StandardScaler();, score=-0.448 total time=   0.0s\n",
      "[CV 1/5] END LR__C=0.001, LR__solver=newton-cholesky, SCL=None;, score=-0.506 total time=   0.0s\n",
      "[CV 2/5] END LR__C=0.001, LR__solver=newton-cholesky, SCL=None;, score=-0.514 total time=   0.0s\n",
      "[CV 3/5] END LR__C=0.001, LR__solver=newton-cholesky, SCL=None;, score=-0.511 total time=   0.0s\n",
      "[CV 4/5] END LR__C=0.001, LR__solver=newton-cholesky, SCL=None;, score=-0.512 total time=   0.0s\n",
      "[CV 5/5] END LR__C=0.001, LR__solver=newton-cholesky, SCL=None;, score=-0.511 total time=   0.0s\n",
      "[CV 1/5] END LR__C=0.001, LR__solver=sag, SCL=MinMaxScaler();, score=-0.518 total time=   0.0s\n",
      "[CV 2/5] END LR__C=0.001, LR__solver=sag, SCL=MinMaxScaler();, score=-0.520 total time=   0.0s\n",
      "[CV 3/5] END LR__C=0.001, LR__solver=sag, SCL=MinMaxScaler();, score=-0.517 total time=   0.0s\n",
      "[CV 4/5] END LR__C=0.001, LR__solver=sag, SCL=MinMaxScaler();, score=-0.518 total time=   0.0s\n",
      "[CV 5/5] END LR__C=0.001, LR__solver=sag, SCL=MinMaxScaler();, score=-0.516 total time=   0.0s\n",
      "[CV 1/5] END LR__C=0.001, LR__solver=sag, SCL=StandardScaler();, score=-0.449 total time=   0.0s\n",
      "[CV 2/5] END LR__C=0.001, LR__solver=sag, SCL=StandardScaler();, score=-0.457 total time=   0.0s\n",
      "[CV 3/5] END LR__C=0.001, LR__solver=sag, SCL=StandardScaler();, score=-0.449 total time=   0.0s\n",
      "[CV 4/5] END LR__C=0.001, LR__solver=sag, SCL=StandardScaler();, score=-0.453 total time=   0.0s\n",
      "[CV 5/5] END LR__C=0.001, LR__solver=sag, SCL=StandardScaler();, score=-0.448 total time=   0.0s\n"
     ]
    },
    {
     "name": "stderr",
     "output_type": "stream",
     "text": [
      "C:\\Users\\DAI.STUDENTSDC\\AppData\\Local\\anaconda3\\Lib\\site-packages\\sklearn\\linear_model\\_sag.py:349: ConvergenceWarning: The max_iter was reached which means the coef_ did not converge\n",
      "  warnings.warn(\n"
     ]
    },
    {
     "name": "stdout",
     "output_type": "stream",
     "text": [
      "[CV 1/5] END LR__C=0.001, LR__solver=sag, SCL=None;, score=-0.516 total time=   0.4s\n"
     ]
    },
    {
     "name": "stderr",
     "output_type": "stream",
     "text": [
      "C:\\Users\\DAI.STUDENTSDC\\AppData\\Local\\anaconda3\\Lib\\site-packages\\sklearn\\linear_model\\_sag.py:349: ConvergenceWarning: The max_iter was reached which means the coef_ did not converge\n",
      "  warnings.warn(\n"
     ]
    },
    {
     "name": "stdout",
     "output_type": "stream",
     "text": [
      "[CV 2/5] END LR__C=0.001, LR__solver=sag, SCL=None;, score=-0.517 total time=   0.4s\n"
     ]
    },
    {
     "name": "stderr",
     "output_type": "stream",
     "text": [
      "C:\\Users\\DAI.STUDENTSDC\\AppData\\Local\\anaconda3\\Lib\\site-packages\\sklearn\\linear_model\\_sag.py:349: ConvergenceWarning: The max_iter was reached which means the coef_ did not converge\n",
      "  warnings.warn(\n"
     ]
    },
    {
     "name": "stdout",
     "output_type": "stream",
     "text": [
      "[CV 3/5] END LR__C=0.001, LR__solver=sag, SCL=None;, score=-0.514 total time=   0.4s\n"
     ]
    },
    {
     "name": "stderr",
     "output_type": "stream",
     "text": [
      "C:\\Users\\DAI.STUDENTSDC\\AppData\\Local\\anaconda3\\Lib\\site-packages\\sklearn\\linear_model\\_sag.py:349: ConvergenceWarning: The max_iter was reached which means the coef_ did not converge\n",
      "  warnings.warn(\n"
     ]
    },
    {
     "name": "stdout",
     "output_type": "stream",
     "text": [
      "[CV 4/5] END LR__C=0.001, LR__solver=sag, SCL=None;, score=-0.514 total time=   0.4s\n"
     ]
    },
    {
     "name": "stderr",
     "output_type": "stream",
     "text": [
      "C:\\Users\\DAI.STUDENTSDC\\AppData\\Local\\anaconda3\\Lib\\site-packages\\sklearn\\linear_model\\_sag.py:349: ConvergenceWarning: The max_iter was reached which means the coef_ did not converge\n",
      "  warnings.warn(\n"
     ]
    },
    {
     "name": "stdout",
     "output_type": "stream",
     "text": [
      "[CV 5/5] END LR__C=0.001, LR__solver=sag, SCL=None;, score=-0.517 total time=   0.3s\n",
      "[CV 1/5] END LR__C=0.001, LR__solver=saga, SCL=MinMaxScaler();, score=-0.518 total time=   0.0s\n",
      "[CV 2/5] END LR__C=0.001, LR__solver=saga, SCL=MinMaxScaler();, score=-0.520 total time=   0.0s\n",
      "[CV 3/5] END LR__C=0.001, LR__solver=saga, SCL=MinMaxScaler();, score=-0.517 total time=   0.0s\n",
      "[CV 4/5] END LR__C=0.001, LR__solver=saga, SCL=MinMaxScaler();, score=-0.518 total time=   0.0s\n",
      "[CV 5/5] END LR__C=0.001, LR__solver=saga, SCL=MinMaxScaler();, score=-0.516 total time=   0.0s\n",
      "[CV 1/5] END LR__C=0.001, LR__solver=saga, SCL=StandardScaler();, score=-0.449 total time=   0.0s\n",
      "[CV 2/5] END LR__C=0.001, LR__solver=saga, SCL=StandardScaler();, score=-0.457 total time=   0.0s\n",
      "[CV 3/5] END LR__C=0.001, LR__solver=saga, SCL=StandardScaler();, score=-0.449 total time=   0.0s\n",
      "[CV 4/5] END LR__C=0.001, LR__solver=saga, SCL=StandardScaler();, score=-0.453 total time=   0.0s\n",
      "[CV 5/5] END LR__C=0.001, LR__solver=saga, SCL=StandardScaler();, score=-0.448 total time=   0.0s\n"
     ]
    },
    {
     "name": "stderr",
     "output_type": "stream",
     "text": [
      "C:\\Users\\DAI.STUDENTSDC\\AppData\\Local\\anaconda3\\Lib\\site-packages\\sklearn\\linear_model\\_sag.py:349: ConvergenceWarning: The max_iter was reached which means the coef_ did not converge\n",
      "  warnings.warn(\n"
     ]
    },
    {
     "name": "stdout",
     "output_type": "stream",
     "text": [
      "[CV 1/5] END LR__C=0.001, LR__solver=saga, SCL=None;, score=-0.522 total time=   0.4s\n"
     ]
    },
    {
     "name": "stderr",
     "output_type": "stream",
     "text": [
      "C:\\Users\\DAI.STUDENTSDC\\AppData\\Local\\anaconda3\\Lib\\site-packages\\sklearn\\linear_model\\_sag.py:349: ConvergenceWarning: The max_iter was reached which means the coef_ did not converge\n",
      "  warnings.warn(\n"
     ]
    },
    {
     "name": "stdout",
     "output_type": "stream",
     "text": [
      "[CV 2/5] END LR__C=0.001, LR__solver=saga, SCL=None;, score=-0.522 total time=   0.4s\n"
     ]
    },
    {
     "name": "stderr",
     "output_type": "stream",
     "text": [
      "C:\\Users\\DAI.STUDENTSDC\\AppData\\Local\\anaconda3\\Lib\\site-packages\\sklearn\\linear_model\\_sag.py:349: ConvergenceWarning: The max_iter was reached which means the coef_ did not converge\n",
      "  warnings.warn(\n"
     ]
    },
    {
     "name": "stdout",
     "output_type": "stream",
     "text": [
      "[CV 3/5] END LR__C=0.001, LR__solver=saga, SCL=None;, score=-0.519 total time=   0.4s\n"
     ]
    },
    {
     "name": "stderr",
     "output_type": "stream",
     "text": [
      "C:\\Users\\DAI.STUDENTSDC\\AppData\\Local\\anaconda3\\Lib\\site-packages\\sklearn\\linear_model\\_sag.py:349: ConvergenceWarning: The max_iter was reached which means the coef_ did not converge\n",
      "  warnings.warn(\n"
     ]
    },
    {
     "name": "stdout",
     "output_type": "stream",
     "text": [
      "[CV 4/5] END LR__C=0.001, LR__solver=saga, SCL=None;, score=-0.519 total time=   0.4s\n"
     ]
    },
    {
     "name": "stderr",
     "output_type": "stream",
     "text": [
      "C:\\Users\\DAI.STUDENTSDC\\AppData\\Local\\anaconda3\\Lib\\site-packages\\sklearn\\linear_model\\_sag.py:349: ConvergenceWarning: The max_iter was reached which means the coef_ did not converge\n",
      "  warnings.warn(\n"
     ]
    },
    {
     "name": "stdout",
     "output_type": "stream",
     "text": [
      "[CV 5/5] END LR__C=0.001, LR__solver=saga, SCL=None;, score=-0.522 total time=   0.4s\n",
      "[CV 1/5] END LR__C=0.5272631578947369, LR__solver=lbfgs, SCL=MinMaxScaler();, score=-0.427 total time=   0.0s\n",
      "[CV 2/5] END LR__C=0.5272631578947369, LR__solver=lbfgs, SCL=MinMaxScaler();, score=-0.439 total time=   0.0s\n",
      "[CV 3/5] END LR__C=0.5272631578947369, LR__solver=lbfgs, SCL=MinMaxScaler();, score=-0.423 total time=   0.0s\n",
      "[CV 4/5] END LR__C=0.5272631578947369, LR__solver=lbfgs, SCL=MinMaxScaler();, score=-0.433 total time=   0.0s\n",
      "[CV 5/5] END LR__C=0.5272631578947369, LR__solver=lbfgs, SCL=MinMaxScaler();, score=-0.427 total time=   0.0s\n",
      "[CV 1/5] END LR__C=0.5272631578947369, LR__solver=lbfgs, SCL=StandardScaler();, score=-0.427 total time=   0.0s\n",
      "[CV 2/5] END LR__C=0.5272631578947369, LR__solver=lbfgs, SCL=StandardScaler();, score=-0.440 total time=   0.0s\n",
      "[CV 3/5] END LR__C=0.5272631578947369, LR__solver=lbfgs, SCL=StandardScaler();, score=-0.423 total time=   0.0s\n",
      "[CV 4/5] END LR__C=0.5272631578947369, LR__solver=lbfgs, SCL=StandardScaler();, score=-0.433 total time=   0.0s\n",
      "[CV 5/5] END LR__C=0.5272631578947369, LR__solver=lbfgs, SCL=StandardScaler();, score=-0.427 total time=   0.0s\n"
     ]
    },
    {
     "name": "stderr",
     "output_type": "stream",
     "text": [
      "C:\\Users\\DAI.STUDENTSDC\\AppData\\Local\\anaconda3\\Lib\\site-packages\\sklearn\\linear_model\\_logistic.py:469: ConvergenceWarning: lbfgs failed to converge (status=1):\n",
      "STOP: TOTAL NO. of ITERATIONS REACHED LIMIT.\n",
      "\n",
      "Increase the number of iterations (max_iter) or scale the data as shown in:\n",
      "    https://scikit-learn.org/stable/modules/preprocessing.html\n",
      "Please also refer to the documentation for alternative solver options:\n",
      "    https://scikit-learn.org/stable/modules/linear_model.html#logistic-regression\n",
      "  n_iter_i = _check_optimize_result(\n",
      "C:\\Users\\DAI.STUDENTSDC\\AppData\\Local\\anaconda3\\Lib\\site-packages\\sklearn\\linear_model\\_logistic.py:469: ConvergenceWarning: lbfgs failed to converge (status=1):\n",
      "STOP: TOTAL NO. of ITERATIONS REACHED LIMIT.\n",
      "\n",
      "Increase the number of iterations (max_iter) or scale the data as shown in:\n",
      "    https://scikit-learn.org/stable/modules/preprocessing.html\n",
      "Please also refer to the documentation for alternative solver options:\n",
      "    https://scikit-learn.org/stable/modules/linear_model.html#logistic-regression\n",
      "  n_iter_i = _check_optimize_result(\n"
     ]
    },
    {
     "name": "stdout",
     "output_type": "stream",
     "text": [
      "[CV 1/5] END LR__C=0.5272631578947369, LR__solver=lbfgs, SCL=None;, score=-0.433 total time=   0.1s\n",
      "[CV 2/5] END LR__C=0.5272631578947369, LR__solver=lbfgs, SCL=None;, score=-0.441 total time=   0.1s\n"
     ]
    },
    {
     "name": "stderr",
     "output_type": "stream",
     "text": [
      "C:\\Users\\DAI.STUDENTSDC\\AppData\\Local\\anaconda3\\Lib\\site-packages\\sklearn\\linear_model\\_logistic.py:469: ConvergenceWarning: lbfgs failed to converge (status=1):\n",
      "STOP: TOTAL NO. of ITERATIONS REACHED LIMIT.\n",
      "\n",
      "Increase the number of iterations (max_iter) or scale the data as shown in:\n",
      "    https://scikit-learn.org/stable/modules/preprocessing.html\n",
      "Please also refer to the documentation for alternative solver options:\n",
      "    https://scikit-learn.org/stable/modules/linear_model.html#logistic-regression\n",
      "  n_iter_i = _check_optimize_result(\n",
      "C:\\Users\\DAI.STUDENTSDC\\AppData\\Local\\anaconda3\\Lib\\site-packages\\sklearn\\linear_model\\_logistic.py:469: ConvergenceWarning: lbfgs failed to converge (status=1):\n",
      "STOP: TOTAL NO. of ITERATIONS REACHED LIMIT.\n",
      "\n",
      "Increase the number of iterations (max_iter) or scale the data as shown in:\n",
      "    https://scikit-learn.org/stable/modules/preprocessing.html\n",
      "Please also refer to the documentation for alternative solver options:\n",
      "    https://scikit-learn.org/stable/modules/linear_model.html#logistic-regression\n",
      "  n_iter_i = _check_optimize_result(\n"
     ]
    },
    {
     "name": "stdout",
     "output_type": "stream",
     "text": [
      "[CV 3/5] END LR__C=0.5272631578947369, LR__solver=lbfgs, SCL=None;, score=-0.426 total time=   0.1s\n",
      "[CV 4/5] END LR__C=0.5272631578947369, LR__solver=lbfgs, SCL=None;, score=-0.434 total time=   0.1s\n"
     ]
    },
    {
     "name": "stderr",
     "output_type": "stream",
     "text": [
      "C:\\Users\\DAI.STUDENTSDC\\AppData\\Local\\anaconda3\\Lib\\site-packages\\sklearn\\linear_model\\_logistic.py:469: ConvergenceWarning: lbfgs failed to converge (status=1):\n",
      "STOP: TOTAL NO. of ITERATIONS REACHED LIMIT.\n",
      "\n",
      "Increase the number of iterations (max_iter) or scale the data as shown in:\n",
      "    https://scikit-learn.org/stable/modules/preprocessing.html\n",
      "Please also refer to the documentation for alternative solver options:\n",
      "    https://scikit-learn.org/stable/modules/linear_model.html#logistic-regression\n",
      "  n_iter_i = _check_optimize_result(\n"
     ]
    },
    {
     "name": "stdout",
     "output_type": "stream",
     "text": [
      "[CV 5/5] END LR__C=0.5272631578947369, LR__solver=lbfgs, SCL=None;, score=-0.429 total time=   0.1s\n",
      "[CV 1/5] END LR__C=0.5272631578947369, LR__solver=liblinear, SCL=MinMaxScaler();, score=-0.427 total time=   0.0s\n",
      "[CV 2/5] END LR__C=0.5272631578947369, LR__solver=liblinear, SCL=MinMaxScaler();, score=-0.439 total time=   0.0s\n",
      "[CV 3/5] END LR__C=0.5272631578947369, LR__solver=liblinear, SCL=MinMaxScaler();, score=-0.423 total time=   0.0s\n",
      "[CV 4/5] END LR__C=0.5272631578947369, LR__solver=liblinear, SCL=MinMaxScaler();, score=-0.433 total time=   0.0s\n",
      "[CV 5/5] END LR__C=0.5272631578947369, LR__solver=liblinear, SCL=MinMaxScaler();, score=-0.427 total time=   0.0s\n",
      "[CV 1/5] END LR__C=0.5272631578947369, LR__solver=liblinear, SCL=StandardScaler();, score=-0.427 total time=   0.0s\n",
      "[CV 2/5] END LR__C=0.5272631578947369, LR__solver=liblinear, SCL=StandardScaler();, score=-0.439 total time=   0.0s\n",
      "[CV 3/5] END LR__C=0.5272631578947369, LR__solver=liblinear, SCL=StandardScaler();, score=-0.423 total time=   0.0s\n",
      "[CV 4/5] END LR__C=0.5272631578947369, LR__solver=liblinear, SCL=StandardScaler();, score=-0.433 total time=   0.0s\n",
      "[CV 5/5] END LR__C=0.5272631578947369, LR__solver=liblinear, SCL=StandardScaler();, score=-0.427 total time=   0.0s\n",
      "[CV 1/5] END LR__C=0.5272631578947369, LR__solver=liblinear, SCL=None;, score=-0.428 total time=   0.0s\n",
      "[CV 2/5] END LR__C=0.5272631578947369, LR__solver=liblinear, SCL=None;, score=-0.439 total time=   0.0s\n",
      "[CV 3/5] END LR__C=0.5272631578947369, LR__solver=liblinear, SCL=None;, score=-0.423 total time=   0.0s\n",
      "[CV 4/5] END LR__C=0.5272631578947369, LR__solver=liblinear, SCL=None;, score=-0.433 total time=   0.0s\n",
      "[CV 5/5] END LR__C=0.5272631578947369, LR__solver=liblinear, SCL=None;, score=-0.427 total time=   0.0s\n",
      "[CV 1/5] END LR__C=0.5272631578947369, LR__solver=newton-cg, SCL=MinMaxScaler();, score=-0.427 total time=   0.0s\n",
      "[CV 2/5] END LR__C=0.5272631578947369, LR__solver=newton-cg, SCL=MinMaxScaler();, score=-0.439 total time=   0.0s\n",
      "[CV 3/5] END LR__C=0.5272631578947369, LR__solver=newton-cg, SCL=MinMaxScaler();, score=-0.423 total time=   0.0s\n",
      "[CV 4/5] END LR__C=0.5272631578947369, LR__solver=newton-cg, SCL=MinMaxScaler();, score=-0.433 total time=   0.0s\n",
      "[CV 5/5] END LR__C=0.5272631578947369, LR__solver=newton-cg, SCL=MinMaxScaler();, score=-0.427 total time=   0.0s\n",
      "[CV 1/5] END LR__C=0.5272631578947369, LR__solver=newton-cg, SCL=StandardScaler();, score=-0.427 total time=   0.0s\n",
      "[CV 2/5] END LR__C=0.5272631578947369, LR__solver=newton-cg, SCL=StandardScaler();, score=-0.439 total time=   0.0s\n",
      "[CV 3/5] END LR__C=0.5272631578947369, LR__solver=newton-cg, SCL=StandardScaler();, score=-0.423 total time=   0.0s\n",
      "[CV 4/5] END LR__C=0.5272631578947369, LR__solver=newton-cg, SCL=StandardScaler();, score=-0.433 total time=   0.0s\n",
      "[CV 5/5] END LR__C=0.5272631578947369, LR__solver=newton-cg, SCL=StandardScaler();, score=-0.427 total time=   0.0s\n",
      "[CV 1/5] END LR__C=0.5272631578947369, LR__solver=newton-cg, SCL=None;, score=-0.427 total time=   0.1s\n",
      "[CV 2/5] END LR__C=0.5272631578947369, LR__solver=newton-cg, SCL=None;, score=-0.439 total time=   0.1s\n",
      "[CV 3/5] END LR__C=0.5272631578947369, LR__solver=newton-cg, SCL=None;, score=-0.423 total time=   0.1s\n",
      "[CV 4/5] END LR__C=0.5272631578947369, LR__solver=newton-cg, SCL=None;, score=-0.433 total time=   0.2s\n",
      "[CV 5/5] END LR__C=0.5272631578947369, LR__solver=newton-cg, SCL=None;, score=-0.427 total time=   0.1s\n",
      "[CV 1/5] END LR__C=0.5272631578947369, LR__solver=newton-cholesky, SCL=MinMaxScaler();, score=-0.427 total time=   0.0s\n",
      "[CV 2/5] END LR__C=0.5272631578947369, LR__solver=newton-cholesky, SCL=MinMaxScaler();, score=-0.439 total time=   0.0s\n",
      "[CV 3/5] END LR__C=0.5272631578947369, LR__solver=newton-cholesky, SCL=MinMaxScaler();, score=-0.423 total time=   0.0s\n",
      "[CV 4/5] END LR__C=0.5272631578947369, LR__solver=newton-cholesky, SCL=MinMaxScaler();, score=-0.433 total time=   0.0s\n",
      "[CV 5/5] END LR__C=0.5272631578947369, LR__solver=newton-cholesky, SCL=MinMaxScaler();, score=-0.427 total time=   0.0s\n",
      "[CV 1/5] END LR__C=0.5272631578947369, LR__solver=newton-cholesky, SCL=StandardScaler();, score=-0.427 total time=   0.0s\n",
      "[CV 2/5] END LR__C=0.5272631578947369, LR__solver=newton-cholesky, SCL=StandardScaler();, score=-0.439 total time=   0.0s\n",
      "[CV 3/5] END LR__C=0.5272631578947369, LR__solver=newton-cholesky, SCL=StandardScaler();, score=-0.423 total time=   0.0s\n",
      "[CV 4/5] END LR__C=0.5272631578947369, LR__solver=newton-cholesky, SCL=StandardScaler();, score=-0.433 total time=   0.0s\n",
      "[CV 5/5] END LR__C=0.5272631578947369, LR__solver=newton-cholesky, SCL=StandardScaler();, score=-0.427 total time=   0.0s\n",
      "[CV 1/5] END LR__C=0.5272631578947369, LR__solver=newton-cholesky, SCL=None;, score=-0.427 total time=   0.0s\n",
      "[CV 2/5] END LR__C=0.5272631578947369, LR__solver=newton-cholesky, SCL=None;, score=-0.439 total time=   0.0s\n",
      "[CV 3/5] END LR__C=0.5272631578947369, LR__solver=newton-cholesky, SCL=None;, score=-0.423 total time=   0.0s\n",
      "[CV 4/5] END LR__C=0.5272631578947369, LR__solver=newton-cholesky, SCL=None;, score=-0.433 total time=   0.0s\n",
      "[CV 5/5] END LR__C=0.5272631578947369, LR__solver=newton-cholesky, SCL=None;, score=-0.427 total time=   0.0s\n",
      "[CV 1/5] END LR__C=0.5272631578947369, LR__solver=sag, SCL=MinMaxScaler();, score=-0.427 total time=   0.0s\n",
      "[CV 2/5] END LR__C=0.5272631578947369, LR__solver=sag, SCL=MinMaxScaler();, score=-0.439 total time=   0.0s\n",
      "[CV 3/5] END LR__C=0.5272631578947369, LR__solver=sag, SCL=MinMaxScaler();, score=-0.423 total time=   0.1s\n",
      "[CV 4/5] END LR__C=0.5272631578947369, LR__solver=sag, SCL=MinMaxScaler();, score=-0.433 total time=   0.0s\n",
      "[CV 5/5] END LR__C=0.5272631578947369, LR__solver=sag, SCL=MinMaxScaler();, score=-0.427 total time=   0.1s\n",
      "[CV 1/5] END LR__C=0.5272631578947369, LR__solver=sag, SCL=StandardScaler();, score=-0.427 total time=   0.0s\n",
      "[CV 2/5] END LR__C=0.5272631578947369, LR__solver=sag, SCL=StandardScaler();, score=-0.439 total time=   0.1s\n",
      "[CV 3/5] END LR__C=0.5272631578947369, LR__solver=sag, SCL=StandardScaler();, score=-0.423 total time=   0.0s\n",
      "[CV 4/5] END LR__C=0.5272631578947369, LR__solver=sag, SCL=StandardScaler();, score=-0.433 total time=   0.1s\n",
      "[CV 5/5] END LR__C=0.5272631578947369, LR__solver=sag, SCL=StandardScaler();, score=-0.427 total time=   0.0s\n"
     ]
    },
    {
     "name": "stderr",
     "output_type": "stream",
     "text": [
      "C:\\Users\\DAI.STUDENTSDC\\AppData\\Local\\anaconda3\\Lib\\site-packages\\sklearn\\linear_model\\_sag.py:349: ConvergenceWarning: The max_iter was reached which means the coef_ did not converge\n",
      "  warnings.warn(\n"
     ]
    },
    {
     "name": "stdout",
     "output_type": "stream",
     "text": [
      "[CV 1/5] END LR__C=0.5272631578947369, LR__solver=sag, SCL=None;, score=-0.463 total time=   0.4s\n"
     ]
    },
    {
     "name": "stderr",
     "output_type": "stream",
     "text": [
      "C:\\Users\\DAI.STUDENTSDC\\AppData\\Local\\anaconda3\\Lib\\site-packages\\sklearn\\linear_model\\_sag.py:349: ConvergenceWarning: The max_iter was reached which means the coef_ did not converge\n",
      "  warnings.warn(\n"
     ]
    },
    {
     "name": "stdout",
     "output_type": "stream",
     "text": [
      "[CV 2/5] END LR__C=0.5272631578947369, LR__solver=sag, SCL=None;, score=-0.471 total time=   0.3s\n"
     ]
    },
    {
     "name": "stderr",
     "output_type": "stream",
     "text": [
      "C:\\Users\\DAI.STUDENTSDC\\AppData\\Local\\anaconda3\\Lib\\site-packages\\sklearn\\linear_model\\_sag.py:349: ConvergenceWarning: The max_iter was reached which means the coef_ did not converge\n",
      "  warnings.warn(\n"
     ]
    },
    {
     "name": "stdout",
     "output_type": "stream",
     "text": [
      "[CV 3/5] END LR__C=0.5272631578947369, LR__solver=sag, SCL=None;, score=-0.463 total time=   0.3s\n"
     ]
    },
    {
     "name": "stderr",
     "output_type": "stream",
     "text": [
      "C:\\Users\\DAI.STUDENTSDC\\AppData\\Local\\anaconda3\\Lib\\site-packages\\sklearn\\linear_model\\_sag.py:349: ConvergenceWarning: The max_iter was reached which means the coef_ did not converge\n",
      "  warnings.warn(\n"
     ]
    },
    {
     "name": "stdout",
     "output_type": "stream",
     "text": [
      "[CV 4/5] END LR__C=0.5272631578947369, LR__solver=sag, SCL=None;, score=-0.465 total time=   0.3s\n"
     ]
    },
    {
     "name": "stderr",
     "output_type": "stream",
     "text": [
      "C:\\Users\\DAI.STUDENTSDC\\AppData\\Local\\anaconda3\\Lib\\site-packages\\sklearn\\linear_model\\_sag.py:349: ConvergenceWarning: The max_iter was reached which means the coef_ did not converge\n",
      "  warnings.warn(\n"
     ]
    },
    {
     "name": "stdout",
     "output_type": "stream",
     "text": [
      "[CV 5/5] END LR__C=0.5272631578947369, LR__solver=sag, SCL=None;, score=-0.464 total time=   0.3s\n",
      "[CV 1/5] END LR__C=0.5272631578947369, LR__solver=saga, SCL=MinMaxScaler();, score=-0.427 total time=   0.0s\n",
      "[CV 2/5] END LR__C=0.5272631578947369, LR__solver=saga, SCL=MinMaxScaler();, score=-0.439 total time=   0.0s\n",
      "[CV 3/5] END LR__C=0.5272631578947369, LR__solver=saga, SCL=MinMaxScaler();, score=-0.423 total time=   0.0s\n",
      "[CV 4/5] END LR__C=0.5272631578947369, LR__solver=saga, SCL=MinMaxScaler();, score=-0.433 total time=   0.0s\n",
      "[CV 5/5] END LR__C=0.5272631578947369, LR__solver=saga, SCL=MinMaxScaler();, score=-0.427 total time=   0.0s\n",
      "[CV 1/5] END LR__C=0.5272631578947369, LR__solver=saga, SCL=StandardScaler();, score=-0.427 total time=   0.0s\n",
      "[CV 2/5] END LR__C=0.5272631578947369, LR__solver=saga, SCL=StandardScaler();, score=-0.439 total time=   0.0s\n",
      "[CV 3/5] END LR__C=0.5272631578947369, LR__solver=saga, SCL=StandardScaler();, score=-0.423 total time=   0.0s\n",
      "[CV 4/5] END LR__C=0.5272631578947369, LR__solver=saga, SCL=StandardScaler();, score=-0.433 total time=   0.0s\n",
      "[CV 5/5] END LR__C=0.5272631578947369, LR__solver=saga, SCL=StandardScaler();, score=-0.427 total time=   0.0s\n"
     ]
    },
    {
     "name": "stderr",
     "output_type": "stream",
     "text": [
      "C:\\Users\\DAI.STUDENTSDC\\AppData\\Local\\anaconda3\\Lib\\site-packages\\sklearn\\linear_model\\_sag.py:349: ConvergenceWarning: The max_iter was reached which means the coef_ did not converge\n",
      "  warnings.warn(\n"
     ]
    },
    {
     "name": "stdout",
     "output_type": "stream",
     "text": [
      "[CV 1/5] END LR__C=0.5272631578947369, LR__solver=saga, SCL=None;, score=-0.490 total time=   0.4s\n"
     ]
    },
    {
     "name": "stderr",
     "output_type": "stream",
     "text": [
      "C:\\Users\\DAI.STUDENTSDC\\AppData\\Local\\anaconda3\\Lib\\site-packages\\sklearn\\linear_model\\_sag.py:349: ConvergenceWarning: The max_iter was reached which means the coef_ did not converge\n",
      "  warnings.warn(\n"
     ]
    },
    {
     "name": "stdout",
     "output_type": "stream",
     "text": [
      "[CV 2/5] END LR__C=0.5272631578947369, LR__solver=saga, SCL=None;, score=-0.494 total time=   0.3s\n"
     ]
    },
    {
     "name": "stderr",
     "output_type": "stream",
     "text": [
      "C:\\Users\\DAI.STUDENTSDC\\AppData\\Local\\anaconda3\\Lib\\site-packages\\sklearn\\linear_model\\_sag.py:349: ConvergenceWarning: The max_iter was reached which means the coef_ did not converge\n",
      "  warnings.warn(\n"
     ]
    },
    {
     "name": "stdout",
     "output_type": "stream",
     "text": [
      "[CV 3/5] END LR__C=0.5272631578947369, LR__solver=saga, SCL=None;, score=-0.489 total time=   0.4s\n"
     ]
    },
    {
     "name": "stderr",
     "output_type": "stream",
     "text": [
      "C:\\Users\\DAI.STUDENTSDC\\AppData\\Local\\anaconda3\\Lib\\site-packages\\sklearn\\linear_model\\_sag.py:349: ConvergenceWarning: The max_iter was reached which means the coef_ did not converge\n",
      "  warnings.warn(\n"
     ]
    },
    {
     "name": "stdout",
     "output_type": "stream",
     "text": [
      "[CV 4/5] END LR__C=0.5272631578947369, LR__solver=saga, SCL=None;, score=-0.489 total time=   0.4s\n"
     ]
    },
    {
     "name": "stderr",
     "output_type": "stream",
     "text": [
      "C:\\Users\\DAI.STUDENTSDC\\AppData\\Local\\anaconda3\\Lib\\site-packages\\sklearn\\linear_model\\_sag.py:349: ConvergenceWarning: The max_iter was reached which means the coef_ did not converge\n",
      "  warnings.warn(\n"
     ]
    },
    {
     "name": "stdout",
     "output_type": "stream",
     "text": [
      "[CV 5/5] END LR__C=0.5272631578947369, LR__solver=saga, SCL=None;, score=-0.490 total time=   0.4s\n",
      "[CV 1/5] END LR__C=1.0535263157894736, LR__solver=lbfgs, SCL=MinMaxScaler();, score=-0.427 total time=   0.0s\n",
      "[CV 2/5] END LR__C=1.0535263157894736, LR__solver=lbfgs, SCL=MinMaxScaler();, score=-0.439 total time=   0.0s\n",
      "[CV 3/5] END LR__C=1.0535263157894736, LR__solver=lbfgs, SCL=MinMaxScaler();, score=-0.423 total time=   0.0s\n",
      "[CV 4/5] END LR__C=1.0535263157894736, LR__solver=lbfgs, SCL=MinMaxScaler();, score=-0.433 total time=   0.0s\n",
      "[CV 5/5] END LR__C=1.0535263157894736, LR__solver=lbfgs, SCL=MinMaxScaler();, score=-0.427 total time=   0.0s\n",
      "[CV 1/5] END LR__C=1.0535263157894736, LR__solver=lbfgs, SCL=StandardScaler();, score=-0.427 total time=   0.0s\n",
      "[CV 2/5] END LR__C=1.0535263157894736, LR__solver=lbfgs, SCL=StandardScaler();, score=-0.440 total time=   0.0s\n",
      "[CV 3/5] END LR__C=1.0535263157894736, LR__solver=lbfgs, SCL=StandardScaler();, score=-0.423 total time=   0.0s\n",
      "[CV 4/5] END LR__C=1.0535263157894736, LR__solver=lbfgs, SCL=StandardScaler();, score=-0.433 total time=   0.0s\n",
      "[CV 5/5] END LR__C=1.0535263157894736, LR__solver=lbfgs, SCL=StandardScaler();, score=-0.427 total time=   0.0s\n"
     ]
    },
    {
     "name": "stderr",
     "output_type": "stream",
     "text": [
      "C:\\Users\\DAI.STUDENTSDC\\AppData\\Local\\anaconda3\\Lib\\site-packages\\sklearn\\linear_model\\_logistic.py:469: ConvergenceWarning: lbfgs failed to converge (status=1):\n",
      "STOP: TOTAL NO. of ITERATIONS REACHED LIMIT.\n",
      "\n",
      "Increase the number of iterations (max_iter) or scale the data as shown in:\n",
      "    https://scikit-learn.org/stable/modules/preprocessing.html\n",
      "Please also refer to the documentation for alternative solver options:\n",
      "    https://scikit-learn.org/stable/modules/linear_model.html#logistic-regression\n",
      "  n_iter_i = _check_optimize_result(\n",
      "C:\\Users\\DAI.STUDENTSDC\\AppData\\Local\\anaconda3\\Lib\\site-packages\\sklearn\\linear_model\\_logistic.py:469: ConvergenceWarning: lbfgs failed to converge (status=1):\n",
      "STOP: TOTAL NO. of ITERATIONS REACHED LIMIT.\n",
      "\n",
      "Increase the number of iterations (max_iter) or scale the data as shown in:\n",
      "    https://scikit-learn.org/stable/modules/preprocessing.html\n",
      "Please also refer to the documentation for alternative solver options:\n",
      "    https://scikit-learn.org/stable/modules/linear_model.html#logistic-regression\n",
      "  n_iter_i = _check_optimize_result(\n"
     ]
    },
    {
     "name": "stdout",
     "output_type": "stream",
     "text": [
      "[CV 1/5] END LR__C=1.0535263157894736, LR__solver=lbfgs, SCL=None;, score=-0.430 total time=   0.1s\n",
      "[CV 2/5] END LR__C=1.0535263157894736, LR__solver=lbfgs, SCL=None;, score=-0.440 total time=   0.1s\n"
     ]
    },
    {
     "name": "stderr",
     "output_type": "stream",
     "text": [
      "C:\\Users\\DAI.STUDENTSDC\\AppData\\Local\\anaconda3\\Lib\\site-packages\\sklearn\\linear_model\\_logistic.py:469: ConvergenceWarning: lbfgs failed to converge (status=1):\n",
      "STOP: TOTAL NO. of ITERATIONS REACHED LIMIT.\n",
      "\n",
      "Increase the number of iterations (max_iter) or scale the data as shown in:\n",
      "    https://scikit-learn.org/stable/modules/preprocessing.html\n",
      "Please also refer to the documentation for alternative solver options:\n",
      "    https://scikit-learn.org/stable/modules/linear_model.html#logistic-regression\n",
      "  n_iter_i = _check_optimize_result(\n",
      "C:\\Users\\DAI.STUDENTSDC\\AppData\\Local\\anaconda3\\Lib\\site-packages\\sklearn\\linear_model\\_logistic.py:469: ConvergenceWarning: lbfgs failed to converge (status=1):\n",
      "STOP: TOTAL NO. of ITERATIONS REACHED LIMIT.\n",
      "\n",
      "Increase the number of iterations (max_iter) or scale the data as shown in:\n",
      "    https://scikit-learn.org/stable/modules/preprocessing.html\n",
      "Please also refer to the documentation for alternative solver options:\n",
      "    https://scikit-learn.org/stable/modules/linear_model.html#logistic-regression\n",
      "  n_iter_i = _check_optimize_result(\n"
     ]
    },
    {
     "name": "stdout",
     "output_type": "stream",
     "text": [
      "[CV 3/5] END LR__C=1.0535263157894736, LR__solver=lbfgs, SCL=None;, score=-0.425 total time=   0.1s\n",
      "[CV 4/5] END LR__C=1.0535263157894736, LR__solver=lbfgs, SCL=None;, score=-0.435 total time=   0.1s\n"
     ]
    },
    {
     "name": "stderr",
     "output_type": "stream",
     "text": [
      "C:\\Users\\DAI.STUDENTSDC\\AppData\\Local\\anaconda3\\Lib\\site-packages\\sklearn\\linear_model\\_logistic.py:469: ConvergenceWarning: lbfgs failed to converge (status=1):\n",
      "STOP: TOTAL NO. of ITERATIONS REACHED LIMIT.\n",
      "\n",
      "Increase the number of iterations (max_iter) or scale the data as shown in:\n",
      "    https://scikit-learn.org/stable/modules/preprocessing.html\n",
      "Please also refer to the documentation for alternative solver options:\n",
      "    https://scikit-learn.org/stable/modules/linear_model.html#logistic-regression\n",
      "  n_iter_i = _check_optimize_result(\n"
     ]
    },
    {
     "name": "stdout",
     "output_type": "stream",
     "text": [
      "[CV 5/5] END LR__C=1.0535263157894736, LR__solver=lbfgs, SCL=None;, score=-0.431 total time=   0.1s\n",
      "[CV 1/5] END LR__C=1.0535263157894736, LR__solver=liblinear, SCL=MinMaxScaler();, score=-0.427 total time=   0.0s\n",
      "[CV 2/5] END LR__C=1.0535263157894736, LR__solver=liblinear, SCL=MinMaxScaler();, score=-0.439 total time=   0.0s\n",
      "[CV 3/5] END LR__C=1.0535263157894736, LR__solver=liblinear, SCL=MinMaxScaler();, score=-0.423 total time=   0.0s\n",
      "[CV 4/5] END LR__C=1.0535263157894736, LR__solver=liblinear, SCL=MinMaxScaler();, score=-0.433 total time=   0.0s\n",
      "[CV 5/5] END LR__C=1.0535263157894736, LR__solver=liblinear, SCL=MinMaxScaler();, score=-0.427 total time=   0.0s\n",
      "[CV 1/5] END LR__C=1.0535263157894736, LR__solver=liblinear, SCL=StandardScaler();, score=-0.427 total time=   0.0s\n",
      "[CV 2/5] END LR__C=1.0535263157894736, LR__solver=liblinear, SCL=StandardScaler();, score=-0.440 total time=   0.0s\n",
      "[CV 3/5] END LR__C=1.0535263157894736, LR__solver=liblinear, SCL=StandardScaler();, score=-0.423 total time=   0.0s\n",
      "[CV 4/5] END LR__C=1.0535263157894736, LR__solver=liblinear, SCL=StandardScaler();, score=-0.433 total time=   0.0s\n",
      "[CV 5/5] END LR__C=1.0535263157894736, LR__solver=liblinear, SCL=StandardScaler();, score=-0.427 total time=   0.0s\n",
      "[CV 1/5] END LR__C=1.0535263157894736, LR__solver=liblinear, SCL=None;, score=-0.428 total time=   0.0s\n",
      "[CV 2/5] END LR__C=1.0535263157894736, LR__solver=liblinear, SCL=None;, score=-0.439 total time=   0.0s\n",
      "[CV 3/5] END LR__C=1.0535263157894736, LR__solver=liblinear, SCL=None;, score=-0.423 total time=   0.0s\n",
      "[CV 4/5] END LR__C=1.0535263157894736, LR__solver=liblinear, SCL=None;, score=-0.433 total time=   0.0s\n",
      "[CV 5/5] END LR__C=1.0535263157894736, LR__solver=liblinear, SCL=None;, score=-0.427 total time=   0.0s\n",
      "[CV 1/5] END LR__C=1.0535263157894736, LR__solver=newton-cg, SCL=MinMaxScaler();, score=-0.427 total time=   0.0s\n",
      "[CV 2/5] END LR__C=1.0535263157894736, LR__solver=newton-cg, SCL=MinMaxScaler();, score=-0.439 total time=   0.0s\n",
      "[CV 3/5] END LR__C=1.0535263157894736, LR__solver=newton-cg, SCL=MinMaxScaler();, score=-0.423 total time=   0.0s\n",
      "[CV 4/5] END LR__C=1.0535263157894736, LR__solver=newton-cg, SCL=MinMaxScaler();, score=-0.433 total time=   0.0s\n",
      "[CV 5/5] END LR__C=1.0535263157894736, LR__solver=newton-cg, SCL=MinMaxScaler();, score=-0.427 total time=   0.0s\n",
      "[CV 1/5] END LR__C=1.0535263157894736, LR__solver=newton-cg, SCL=StandardScaler();, score=-0.427 total time=   0.0s\n",
      "[CV 2/5] END LR__C=1.0535263157894736, LR__solver=newton-cg, SCL=StandardScaler();, score=-0.440 total time=   0.0s\n",
      "[CV 3/5] END LR__C=1.0535263157894736, LR__solver=newton-cg, SCL=StandardScaler();, score=-0.423 total time=   0.0s\n",
      "[CV 4/5] END LR__C=1.0535263157894736, LR__solver=newton-cg, SCL=StandardScaler();, score=-0.433 total time=   0.0s\n",
      "[CV 5/5] END LR__C=1.0535263157894736, LR__solver=newton-cg, SCL=StandardScaler();, score=-0.427 total time=   0.0s\n",
      "[CV 1/5] END LR__C=1.0535263157894736, LR__solver=newton-cg, SCL=None;, score=-0.427 total time=   0.1s\n",
      "[CV 2/5] END LR__C=1.0535263157894736, LR__solver=newton-cg, SCL=None;, score=-0.439 total time=   0.1s\n",
      "[CV 3/5] END LR__C=1.0535263157894736, LR__solver=newton-cg, SCL=None;, score=-0.423 total time=   0.1s\n",
      "[CV 4/5] END LR__C=1.0535263157894736, LR__solver=newton-cg, SCL=None;, score=-0.433 total time=   0.2s\n",
      "[CV 5/5] END LR__C=1.0535263157894736, LR__solver=newton-cg, SCL=None;, score=-0.427 total time=   0.2s\n",
      "[CV 1/5] END LR__C=1.0535263157894736, LR__solver=newton-cholesky, SCL=MinMaxScaler();, score=-0.427 total time=   0.0s\n",
      "[CV 2/5] END LR__C=1.0535263157894736, LR__solver=newton-cholesky, SCL=MinMaxScaler();, score=-0.439 total time=   0.0s\n",
      "[CV 3/5] END LR__C=1.0535263157894736, LR__solver=newton-cholesky, SCL=MinMaxScaler();, score=-0.423 total time=   0.0s\n",
      "[CV 4/5] END LR__C=1.0535263157894736, LR__solver=newton-cholesky, SCL=MinMaxScaler();, score=-0.433 total time=   0.0s\n",
      "[CV 5/5] END LR__C=1.0535263157894736, LR__solver=newton-cholesky, SCL=MinMaxScaler();, score=-0.427 total time=   0.0s\n",
      "[CV 1/5] END LR__C=1.0535263157894736, LR__solver=newton-cholesky, SCL=StandardScaler();, score=-0.427 total time=   0.0s\n",
      "[CV 2/5] END LR__C=1.0535263157894736, LR__solver=newton-cholesky, SCL=StandardScaler();, score=-0.440 total time=   0.0s\n",
      "[CV 3/5] END LR__C=1.0535263157894736, LR__solver=newton-cholesky, SCL=StandardScaler();, score=-0.423 total time=   0.0s\n",
      "[CV 4/5] END LR__C=1.0535263157894736, LR__solver=newton-cholesky, SCL=StandardScaler();, score=-0.433 total time=   0.0s\n",
      "[CV 5/5] END LR__C=1.0535263157894736, LR__solver=newton-cholesky, SCL=StandardScaler();, score=-0.427 total time=   0.0s\n",
      "[CV 1/5] END LR__C=1.0535263157894736, LR__solver=newton-cholesky, SCL=None;, score=-0.427 total time=   0.0s\n",
      "[CV 2/5] END LR__C=1.0535263157894736, LR__solver=newton-cholesky, SCL=None;, score=-0.439 total time=   0.0s\n",
      "[CV 3/5] END LR__C=1.0535263157894736, LR__solver=newton-cholesky, SCL=None;, score=-0.423 total time=   0.0s\n",
      "[CV 4/5] END LR__C=1.0535263157894736, LR__solver=newton-cholesky, SCL=None;, score=-0.433 total time=   0.0s\n",
      "[CV 5/5] END LR__C=1.0535263157894736, LR__solver=newton-cholesky, SCL=None;, score=-0.427 total time=   0.0s\n",
      "[CV 1/5] END LR__C=1.0535263157894736, LR__solver=sag, SCL=MinMaxScaler();, score=-0.427 total time=   0.0s\n",
      "[CV 2/5] END LR__C=1.0535263157894736, LR__solver=sag, SCL=MinMaxScaler();, score=-0.439 total time=   0.0s\n",
      "[CV 3/5] END LR__C=1.0535263157894736, LR__solver=sag, SCL=MinMaxScaler();, score=-0.423 total time=   0.1s\n",
      "[CV 4/5] END LR__C=1.0535263157894736, LR__solver=sag, SCL=MinMaxScaler();, score=-0.433 total time=   0.0s\n",
      "[CV 5/5] END LR__C=1.0535263157894736, LR__solver=sag, SCL=MinMaxScaler();, score=-0.427 total time=   0.1s\n",
      "[CV 1/5] END LR__C=1.0535263157894736, LR__solver=sag, SCL=StandardScaler();, score=-0.427 total time=   0.1s\n",
      "[CV 2/5] END LR__C=1.0535263157894736, LR__solver=sag, SCL=StandardScaler();, score=-0.440 total time=   0.1s\n",
      "[CV 3/5] END LR__C=1.0535263157894736, LR__solver=sag, SCL=StandardScaler();, score=-0.423 total time=   0.1s\n",
      "[CV 4/5] END LR__C=1.0535263157894736, LR__solver=sag, SCL=StandardScaler();, score=-0.433 total time=   0.1s\n",
      "[CV 5/5] END LR__C=1.0535263157894736, LR__solver=sag, SCL=StandardScaler();, score=-0.427 total time=   0.1s\n"
     ]
    },
    {
     "name": "stderr",
     "output_type": "stream",
     "text": [
      "C:\\Users\\DAI.STUDENTSDC\\AppData\\Local\\anaconda3\\Lib\\site-packages\\sklearn\\linear_model\\_sag.py:349: ConvergenceWarning: The max_iter was reached which means the coef_ did not converge\n",
      "  warnings.warn(\n"
     ]
    },
    {
     "name": "stdout",
     "output_type": "stream",
     "text": [
      "[CV 1/5] END LR__C=1.0535263157894736, LR__solver=sag, SCL=None;, score=-0.463 total time=   0.4s\n"
     ]
    },
    {
     "name": "stderr",
     "output_type": "stream",
     "text": [
      "C:\\Users\\DAI.STUDENTSDC\\AppData\\Local\\anaconda3\\Lib\\site-packages\\sklearn\\linear_model\\_sag.py:349: ConvergenceWarning: The max_iter was reached which means the coef_ did not converge\n",
      "  warnings.warn(\n"
     ]
    },
    {
     "name": "stdout",
     "output_type": "stream",
     "text": [
      "[CV 2/5] END LR__C=1.0535263157894736, LR__solver=sag, SCL=None;, score=-0.471 total time=   0.4s\n"
     ]
    },
    {
     "name": "stderr",
     "output_type": "stream",
     "text": [
      "C:\\Users\\DAI.STUDENTSDC\\AppData\\Local\\anaconda3\\Lib\\site-packages\\sklearn\\linear_model\\_sag.py:349: ConvergenceWarning: The max_iter was reached which means the coef_ did not converge\n",
      "  warnings.warn(\n"
     ]
    },
    {
     "name": "stdout",
     "output_type": "stream",
     "text": [
      "[CV 3/5] END LR__C=1.0535263157894736, LR__solver=sag, SCL=None;, score=-0.463 total time=   0.3s\n"
     ]
    },
    {
     "name": "stderr",
     "output_type": "stream",
     "text": [
      "C:\\Users\\DAI.STUDENTSDC\\AppData\\Local\\anaconda3\\Lib\\site-packages\\sklearn\\linear_model\\_sag.py:349: ConvergenceWarning: The max_iter was reached which means the coef_ did not converge\n",
      "  warnings.warn(\n"
     ]
    },
    {
     "name": "stdout",
     "output_type": "stream",
     "text": [
      "[CV 4/5] END LR__C=1.0535263157894736, LR__solver=sag, SCL=None;, score=-0.465 total time=   0.4s\n"
     ]
    },
    {
     "name": "stderr",
     "output_type": "stream",
     "text": [
      "C:\\Users\\DAI.STUDENTSDC\\AppData\\Local\\anaconda3\\Lib\\site-packages\\sklearn\\linear_model\\_sag.py:349: ConvergenceWarning: The max_iter was reached which means the coef_ did not converge\n",
      "  warnings.warn(\n"
     ]
    },
    {
     "name": "stdout",
     "output_type": "stream",
     "text": [
      "[CV 5/5] END LR__C=1.0535263157894736, LR__solver=sag, SCL=None;, score=-0.464 total time=   0.3s\n",
      "[CV 1/5] END LR__C=1.0535263157894736, LR__solver=saga, SCL=MinMaxScaler();, score=-0.427 total time=   0.0s\n",
      "[CV 2/5] END LR__C=1.0535263157894736, LR__solver=saga, SCL=MinMaxScaler();, score=-0.439 total time=   0.0s\n",
      "[CV 3/5] END LR__C=1.0535263157894736, LR__solver=saga, SCL=MinMaxScaler();, score=-0.423 total time=   0.0s\n",
      "[CV 4/5] END LR__C=1.0535263157894736, LR__solver=saga, SCL=MinMaxScaler();, score=-0.433 total time=   0.0s\n",
      "[CV 5/5] END LR__C=1.0535263157894736, LR__solver=saga, SCL=MinMaxScaler();, score=-0.427 total time=   0.0s\n",
      "[CV 1/5] END LR__C=1.0535263157894736, LR__solver=saga, SCL=StandardScaler();, score=-0.427 total time=   0.0s\n",
      "[CV 2/5] END LR__C=1.0535263157894736, LR__solver=saga, SCL=StandardScaler();, score=-0.440 total time=   0.0s\n",
      "[CV 3/5] END LR__C=1.0535263157894736, LR__solver=saga, SCL=StandardScaler();, score=-0.423 total time=   0.0s\n",
      "[CV 4/5] END LR__C=1.0535263157894736, LR__solver=saga, SCL=StandardScaler();, score=-0.433 total time=   0.0s\n",
      "[CV 5/5] END LR__C=1.0535263157894736, LR__solver=saga, SCL=StandardScaler();, score=-0.427 total time=   0.0s\n"
     ]
    },
    {
     "name": "stderr",
     "output_type": "stream",
     "text": [
      "C:\\Users\\DAI.STUDENTSDC\\AppData\\Local\\anaconda3\\Lib\\site-packages\\sklearn\\linear_model\\_sag.py:349: ConvergenceWarning: The max_iter was reached which means the coef_ did not converge\n",
      "  warnings.warn(\n"
     ]
    },
    {
     "name": "stdout",
     "output_type": "stream",
     "text": [
      "[CV 1/5] END LR__C=1.0535263157894736, LR__solver=saga, SCL=None;, score=-0.490 total time=   0.4s\n"
     ]
    },
    {
     "name": "stderr",
     "output_type": "stream",
     "text": [
      "C:\\Users\\DAI.STUDENTSDC\\AppData\\Local\\anaconda3\\Lib\\site-packages\\sklearn\\linear_model\\_sag.py:349: ConvergenceWarning: The max_iter was reached which means the coef_ did not converge\n",
      "  warnings.warn(\n"
     ]
    },
    {
     "name": "stdout",
     "output_type": "stream",
     "text": [
      "[CV 2/5] END LR__C=1.0535263157894736, LR__solver=saga, SCL=None;, score=-0.494 total time=   0.4s\n"
     ]
    },
    {
     "name": "stderr",
     "output_type": "stream",
     "text": [
      "C:\\Users\\DAI.STUDENTSDC\\AppData\\Local\\anaconda3\\Lib\\site-packages\\sklearn\\linear_model\\_sag.py:349: ConvergenceWarning: The max_iter was reached which means the coef_ did not converge\n",
      "  warnings.warn(\n"
     ]
    },
    {
     "name": "stdout",
     "output_type": "stream",
     "text": [
      "[CV 3/5] END LR__C=1.0535263157894736, LR__solver=saga, SCL=None;, score=-0.488 total time=   0.3s\n"
     ]
    },
    {
     "name": "stderr",
     "output_type": "stream",
     "text": [
      "C:\\Users\\DAI.STUDENTSDC\\AppData\\Local\\anaconda3\\Lib\\site-packages\\sklearn\\linear_model\\_sag.py:349: ConvergenceWarning: The max_iter was reached which means the coef_ did not converge\n",
      "  warnings.warn(\n"
     ]
    },
    {
     "name": "stdout",
     "output_type": "stream",
     "text": [
      "[CV 4/5] END LR__C=1.0535263157894736, LR__solver=saga, SCL=None;, score=-0.489 total time=   0.4s\n"
     ]
    },
    {
     "name": "stderr",
     "output_type": "stream",
     "text": [
      "C:\\Users\\DAI.STUDENTSDC\\AppData\\Local\\anaconda3\\Lib\\site-packages\\sklearn\\linear_model\\_sag.py:349: ConvergenceWarning: The max_iter was reached which means the coef_ did not converge\n",
      "  warnings.warn(\n"
     ]
    },
    {
     "name": "stdout",
     "output_type": "stream",
     "text": [
      "[CV 5/5] END LR__C=1.0535263157894736, LR__solver=saga, SCL=None;, score=-0.490 total time=   0.4s\n",
      "[CV 1/5] END LR__C=1.5797894736842104, LR__solver=lbfgs, SCL=MinMaxScaler();, score=-0.427 total time=   0.0s\n",
      "[CV 2/5] END LR__C=1.5797894736842104, LR__solver=lbfgs, SCL=MinMaxScaler();, score=-0.439 total time=   0.0s\n",
      "[CV 3/5] END LR__C=1.5797894736842104, LR__solver=lbfgs, SCL=MinMaxScaler();, score=-0.423 total time=   0.0s\n",
      "[CV 4/5] END LR__C=1.5797894736842104, LR__solver=lbfgs, SCL=MinMaxScaler();, score=-0.433 total time=   0.0s\n",
      "[CV 5/5] END LR__C=1.5797894736842104, LR__solver=lbfgs, SCL=MinMaxScaler();, score=-0.427 total time=   0.0s\n",
      "[CV 1/5] END LR__C=1.5797894736842104, LR__solver=lbfgs, SCL=StandardScaler();, score=-0.427 total time=   0.0s\n",
      "[CV 2/5] END LR__C=1.5797894736842104, LR__solver=lbfgs, SCL=StandardScaler();, score=-0.440 total time=   0.0s\n",
      "[CV 3/5] END LR__C=1.5797894736842104, LR__solver=lbfgs, SCL=StandardScaler();, score=-0.423 total time=   0.0s\n",
      "[CV 4/5] END LR__C=1.5797894736842104, LR__solver=lbfgs, SCL=StandardScaler();, score=-0.433 total time=   0.0s\n",
      "[CV 5/5] END LR__C=1.5797894736842104, LR__solver=lbfgs, SCL=StandardScaler();, score=-0.427 total time=   0.0s\n"
     ]
    },
    {
     "name": "stderr",
     "output_type": "stream",
     "text": [
      "C:\\Users\\DAI.STUDENTSDC\\AppData\\Local\\anaconda3\\Lib\\site-packages\\sklearn\\linear_model\\_logistic.py:469: ConvergenceWarning: lbfgs failed to converge (status=1):\n",
      "STOP: TOTAL NO. of ITERATIONS REACHED LIMIT.\n",
      "\n",
      "Increase the number of iterations (max_iter) or scale the data as shown in:\n",
      "    https://scikit-learn.org/stable/modules/preprocessing.html\n",
      "Please also refer to the documentation for alternative solver options:\n",
      "    https://scikit-learn.org/stable/modules/linear_model.html#logistic-regression\n",
      "  n_iter_i = _check_optimize_result(\n",
      "C:\\Users\\DAI.STUDENTSDC\\AppData\\Local\\anaconda3\\Lib\\site-packages\\sklearn\\linear_model\\_logistic.py:469: ConvergenceWarning: lbfgs failed to converge (status=1):\n",
      "STOP: TOTAL NO. of ITERATIONS REACHED LIMIT.\n",
      "\n",
      "Increase the number of iterations (max_iter) or scale the data as shown in:\n",
      "    https://scikit-learn.org/stable/modules/preprocessing.html\n",
      "Please also refer to the documentation for alternative solver options:\n",
      "    https://scikit-learn.org/stable/modules/linear_model.html#logistic-regression\n",
      "  n_iter_i = _check_optimize_result(\n"
     ]
    },
    {
     "name": "stdout",
     "output_type": "stream",
     "text": [
      "[CV 1/5] END LR__C=1.5797894736842104, LR__solver=lbfgs, SCL=None;, score=-0.431 total time=   0.1s\n",
      "[CV 2/5] END LR__C=1.5797894736842104, LR__solver=lbfgs, SCL=None;, score=-0.440 total time=   0.1s\n"
     ]
    },
    {
     "name": "stderr",
     "output_type": "stream",
     "text": [
      "C:\\Users\\DAI.STUDENTSDC\\AppData\\Local\\anaconda3\\Lib\\site-packages\\sklearn\\linear_model\\_logistic.py:469: ConvergenceWarning: lbfgs failed to converge (status=1):\n",
      "STOP: TOTAL NO. of ITERATIONS REACHED LIMIT.\n",
      "\n",
      "Increase the number of iterations (max_iter) or scale the data as shown in:\n",
      "    https://scikit-learn.org/stable/modules/preprocessing.html\n",
      "Please also refer to the documentation for alternative solver options:\n",
      "    https://scikit-learn.org/stable/modules/linear_model.html#logistic-regression\n",
      "  n_iter_i = _check_optimize_result(\n",
      "C:\\Users\\DAI.STUDENTSDC\\AppData\\Local\\anaconda3\\Lib\\site-packages\\sklearn\\linear_model\\_logistic.py:469: ConvergenceWarning: lbfgs failed to converge (status=1):\n",
      "STOP: TOTAL NO. of ITERATIONS REACHED LIMIT.\n",
      "\n",
      "Increase the number of iterations (max_iter) or scale the data as shown in:\n",
      "    https://scikit-learn.org/stable/modules/preprocessing.html\n",
      "Please also refer to the documentation for alternative solver options:\n",
      "    https://scikit-learn.org/stable/modules/linear_model.html#logistic-regression\n",
      "  n_iter_i = _check_optimize_result(\n"
     ]
    },
    {
     "name": "stdout",
     "output_type": "stream",
     "text": [
      "[CV 3/5] END LR__C=1.5797894736842104, LR__solver=lbfgs, SCL=None;, score=-0.424 total time=   0.1s\n",
      "[CV 4/5] END LR__C=1.5797894736842104, LR__solver=lbfgs, SCL=None;, score=-0.434 total time=   0.1s\n"
     ]
    },
    {
     "name": "stderr",
     "output_type": "stream",
     "text": [
      "C:\\Users\\DAI.STUDENTSDC\\AppData\\Local\\anaconda3\\Lib\\site-packages\\sklearn\\linear_model\\_logistic.py:469: ConvergenceWarning: lbfgs failed to converge (status=1):\n",
      "STOP: TOTAL NO. of ITERATIONS REACHED LIMIT.\n",
      "\n",
      "Increase the number of iterations (max_iter) or scale the data as shown in:\n",
      "    https://scikit-learn.org/stable/modules/preprocessing.html\n",
      "Please also refer to the documentation for alternative solver options:\n",
      "    https://scikit-learn.org/stable/modules/linear_model.html#logistic-regression\n",
      "  n_iter_i = _check_optimize_result(\n"
     ]
    },
    {
     "name": "stdout",
     "output_type": "stream",
     "text": [
      "[CV 5/5] END LR__C=1.5797894736842104, LR__solver=lbfgs, SCL=None;, score=-0.428 total time=   0.1s\n",
      "[CV 1/5] END LR__C=1.5797894736842104, LR__solver=liblinear, SCL=MinMaxScaler();, score=-0.427 total time=   0.0s\n",
      "[CV 2/5] END LR__C=1.5797894736842104, LR__solver=liblinear, SCL=MinMaxScaler();, score=-0.439 total time=   0.0s\n",
      "[CV 3/5] END LR__C=1.5797894736842104, LR__solver=liblinear, SCL=MinMaxScaler();, score=-0.423 total time=   0.0s\n",
      "[CV 4/5] END LR__C=1.5797894736842104, LR__solver=liblinear, SCL=MinMaxScaler();, score=-0.433 total time=   0.0s\n",
      "[CV 5/5] END LR__C=1.5797894736842104, LR__solver=liblinear, SCL=MinMaxScaler();, score=-0.427 total time=   0.0s\n",
      "[CV 1/5] END LR__C=1.5797894736842104, LR__solver=liblinear, SCL=StandardScaler();, score=-0.427 total time=   0.0s\n",
      "[CV 2/5] END LR__C=1.5797894736842104, LR__solver=liblinear, SCL=StandardScaler();, score=-0.440 total time=   0.0s\n",
      "[CV 3/5] END LR__C=1.5797894736842104, LR__solver=liblinear, SCL=StandardScaler();, score=-0.423 total time=   0.0s\n",
      "[CV 4/5] END LR__C=1.5797894736842104, LR__solver=liblinear, SCL=StandardScaler();, score=-0.433 total time=   0.0s\n",
      "[CV 5/5] END LR__C=1.5797894736842104, LR__solver=liblinear, SCL=StandardScaler();, score=-0.427 total time=   0.0s\n",
      "[CV 1/5] END LR__C=1.5797894736842104, LR__solver=liblinear, SCL=None;, score=-0.427 total time=   0.0s\n",
      "[CV 2/5] END LR__C=1.5797894736842104, LR__solver=liblinear, SCL=None;, score=-0.439 total time=   0.0s\n",
      "[CV 3/5] END LR__C=1.5797894736842104, LR__solver=liblinear, SCL=None;, score=-0.423 total time=   0.0s\n",
      "[CV 4/5] END LR__C=1.5797894736842104, LR__solver=liblinear, SCL=None;, score=-0.433 total time=   0.0s\n",
      "[CV 5/5] END LR__C=1.5797894736842104, LR__solver=liblinear, SCL=None;, score=-0.427 total time=   0.0s\n",
      "[CV 1/5] END LR__C=1.5797894736842104, LR__solver=newton-cg, SCL=MinMaxScaler();, score=-0.427 total time=   0.0s\n",
      "[CV 2/5] END LR__C=1.5797894736842104, LR__solver=newton-cg, SCL=MinMaxScaler();, score=-0.439 total time=   0.0s\n",
      "[CV 3/5] END LR__C=1.5797894736842104, LR__solver=newton-cg, SCL=MinMaxScaler();, score=-0.423 total time=   0.0s\n",
      "[CV 4/5] END LR__C=1.5797894736842104, LR__solver=newton-cg, SCL=MinMaxScaler();, score=-0.433 total time=   0.0s\n",
      "[CV 5/5] END LR__C=1.5797894736842104, LR__solver=newton-cg, SCL=MinMaxScaler();, score=-0.427 total time=   0.0s\n",
      "[CV 1/5] END LR__C=1.5797894736842104, LR__solver=newton-cg, SCL=StandardScaler();, score=-0.427 total time=   0.0s\n",
      "[CV 2/5] END LR__C=1.5797894736842104, LR__solver=newton-cg, SCL=StandardScaler();, score=-0.440 total time=   0.0s\n",
      "[CV 3/5] END LR__C=1.5797894736842104, LR__solver=newton-cg, SCL=StandardScaler();, score=-0.423 total time=   0.0s\n",
      "[CV 4/5] END LR__C=1.5797894736842104, LR__solver=newton-cg, SCL=StandardScaler();, score=-0.433 total time=   0.0s\n",
      "[CV 5/5] END LR__C=1.5797894736842104, LR__solver=newton-cg, SCL=StandardScaler();, score=-0.427 total time=   0.0s\n",
      "[CV 1/5] END LR__C=1.5797894736842104, LR__solver=newton-cg, SCL=None;, score=-0.427 total time=   0.1s\n",
      "[CV 2/5] END LR__C=1.5797894736842104, LR__solver=newton-cg, SCL=None;, score=-0.439 total time=   0.1s\n",
      "[CV 3/5] END LR__C=1.5797894736842104, LR__solver=newton-cg, SCL=None;, score=-0.423 total time=   0.1s\n",
      "[CV 4/5] END LR__C=1.5797894736842104, LR__solver=newton-cg, SCL=None;, score=-0.433 total time=   0.2s\n",
      "[CV 5/5] END LR__C=1.5797894736842104, LR__solver=newton-cg, SCL=None;, score=-0.427 total time=   0.1s\n",
      "[CV 1/5] END LR__C=1.5797894736842104, LR__solver=newton-cholesky, SCL=MinMaxScaler();, score=-0.427 total time=   0.0s\n",
      "[CV 2/5] END LR__C=1.5797894736842104, LR__solver=newton-cholesky, SCL=MinMaxScaler();, score=-0.439 total time=   0.0s\n",
      "[CV 3/5] END LR__C=1.5797894736842104, LR__solver=newton-cholesky, SCL=MinMaxScaler();, score=-0.423 total time=   0.0s\n",
      "[CV 4/5] END LR__C=1.5797894736842104, LR__solver=newton-cholesky, SCL=MinMaxScaler();, score=-0.433 total time=   0.0s\n",
      "[CV 5/5] END LR__C=1.5797894736842104, LR__solver=newton-cholesky, SCL=MinMaxScaler();, score=-0.427 total time=   0.0s\n",
      "[CV 1/5] END LR__C=1.5797894736842104, LR__solver=newton-cholesky, SCL=StandardScaler();, score=-0.427 total time=   0.0s\n",
      "[CV 2/5] END LR__C=1.5797894736842104, LR__solver=newton-cholesky, SCL=StandardScaler();, score=-0.440 total time=   0.0s\n",
      "[CV 3/5] END LR__C=1.5797894736842104, LR__solver=newton-cholesky, SCL=StandardScaler();, score=-0.423 total time=   0.0s\n",
      "[CV 4/5] END LR__C=1.5797894736842104, LR__solver=newton-cholesky, SCL=StandardScaler();, score=-0.433 total time=   0.0s\n",
      "[CV 5/5] END LR__C=1.5797894736842104, LR__solver=newton-cholesky, SCL=StandardScaler();, score=-0.427 total time=   0.0s\n",
      "[CV 1/5] END LR__C=1.5797894736842104, LR__solver=newton-cholesky, SCL=None;, score=-0.427 total time=   0.0s\n",
      "[CV 2/5] END LR__C=1.5797894736842104, LR__solver=newton-cholesky, SCL=None;, score=-0.439 total time=   0.0s\n",
      "[CV 3/5] END LR__C=1.5797894736842104, LR__solver=newton-cholesky, SCL=None;, score=-0.423 total time=   0.0s\n",
      "[CV 4/5] END LR__C=1.5797894736842104, LR__solver=newton-cholesky, SCL=None;, score=-0.433 total time=   0.0s\n",
      "[CV 5/5] END LR__C=1.5797894736842104, LR__solver=newton-cholesky, SCL=None;, score=-0.427 total time=   0.0s\n",
      "[CV 1/5] END LR__C=1.5797894736842104, LR__solver=sag, SCL=MinMaxScaler();, score=-0.427 total time=   0.1s\n",
      "[CV 2/5] END LR__C=1.5797894736842104, LR__solver=sag, SCL=MinMaxScaler();, score=-0.439 total time=   0.1s\n",
      "[CV 3/5] END LR__C=1.5797894736842104, LR__solver=sag, SCL=MinMaxScaler();, score=-0.423 total time=   0.1s\n",
      "[CV 4/5] END LR__C=1.5797894736842104, LR__solver=sag, SCL=MinMaxScaler();, score=-0.433 total time=   0.1s\n",
      "[CV 5/5] END LR__C=1.5797894736842104, LR__solver=sag, SCL=MinMaxScaler();, score=-0.427 total time=   0.1s\n",
      "[CV 1/5] END LR__C=1.5797894736842104, LR__solver=sag, SCL=StandardScaler();, score=-0.427 total time=   0.1s\n",
      "[CV 2/5] END LR__C=1.5797894736842104, LR__solver=sag, SCL=StandardScaler();, score=-0.440 total time=   0.1s\n",
      "[CV 3/5] END LR__C=1.5797894736842104, LR__solver=sag, SCL=StandardScaler();, score=-0.423 total time=   0.0s\n",
      "[CV 4/5] END LR__C=1.5797894736842104, LR__solver=sag, SCL=StandardScaler();, score=-0.433 total time=   0.1s\n",
      "[CV 5/5] END LR__C=1.5797894736842104, LR__solver=sag, SCL=StandardScaler();, score=-0.427 total time=   0.1s\n"
     ]
    },
    {
     "name": "stderr",
     "output_type": "stream",
     "text": [
      "C:\\Users\\DAI.STUDENTSDC\\AppData\\Local\\anaconda3\\Lib\\site-packages\\sklearn\\linear_model\\_sag.py:349: ConvergenceWarning: The max_iter was reached which means the coef_ did not converge\n",
      "  warnings.warn(\n"
     ]
    },
    {
     "name": "stdout",
     "output_type": "stream",
     "text": [
      "[CV 1/5] END LR__C=1.5797894736842104, LR__solver=sag, SCL=None;, score=-0.463 total time=   0.3s\n"
     ]
    },
    {
     "name": "stderr",
     "output_type": "stream",
     "text": [
      "C:\\Users\\DAI.STUDENTSDC\\AppData\\Local\\anaconda3\\Lib\\site-packages\\sklearn\\linear_model\\_sag.py:349: ConvergenceWarning: The max_iter was reached which means the coef_ did not converge\n",
      "  warnings.warn(\n"
     ]
    },
    {
     "name": "stdout",
     "output_type": "stream",
     "text": [
      "[CV 2/5] END LR__C=1.5797894736842104, LR__solver=sag, SCL=None;, score=-0.471 total time=   0.4s\n"
     ]
    },
    {
     "name": "stderr",
     "output_type": "stream",
     "text": [
      "C:\\Users\\DAI.STUDENTSDC\\AppData\\Local\\anaconda3\\Lib\\site-packages\\sklearn\\linear_model\\_sag.py:349: ConvergenceWarning: The max_iter was reached which means the coef_ did not converge\n",
      "  warnings.warn(\n"
     ]
    },
    {
     "name": "stdout",
     "output_type": "stream",
     "text": [
      "[CV 3/5] END LR__C=1.5797894736842104, LR__solver=sag, SCL=None;, score=-0.463 total time=   0.3s\n"
     ]
    },
    {
     "name": "stderr",
     "output_type": "stream",
     "text": [
      "C:\\Users\\DAI.STUDENTSDC\\AppData\\Local\\anaconda3\\Lib\\site-packages\\sklearn\\linear_model\\_sag.py:349: ConvergenceWarning: The max_iter was reached which means the coef_ did not converge\n",
      "  warnings.warn(\n"
     ]
    },
    {
     "name": "stdout",
     "output_type": "stream",
     "text": [
      "[CV 4/5] END LR__C=1.5797894736842104, LR__solver=sag, SCL=None;, score=-0.465 total time=   0.3s\n"
     ]
    },
    {
     "name": "stderr",
     "output_type": "stream",
     "text": [
      "C:\\Users\\DAI.STUDENTSDC\\AppData\\Local\\anaconda3\\Lib\\site-packages\\sklearn\\linear_model\\_sag.py:349: ConvergenceWarning: The max_iter was reached which means the coef_ did not converge\n",
      "  warnings.warn(\n"
     ]
    },
    {
     "name": "stdout",
     "output_type": "stream",
     "text": [
      "[CV 5/5] END LR__C=1.5797894736842104, LR__solver=sag, SCL=None;, score=-0.464 total time=   0.4s\n",
      "[CV 1/5] END LR__C=1.5797894736842104, LR__solver=saga, SCL=MinMaxScaler();, score=-0.427 total time=   0.0s\n",
      "[CV 2/5] END LR__C=1.5797894736842104, LR__solver=saga, SCL=MinMaxScaler();, score=-0.439 total time=   0.0s\n",
      "[CV 3/5] END LR__C=1.5797894736842104, LR__solver=saga, SCL=MinMaxScaler();, score=-0.423 total time=   0.0s\n",
      "[CV 4/5] END LR__C=1.5797894736842104, LR__solver=saga, SCL=MinMaxScaler();, score=-0.433 total time=   0.0s\n",
      "[CV 5/5] END LR__C=1.5797894736842104, LR__solver=saga, SCL=MinMaxScaler();, score=-0.427 total time=   0.0s\n",
      "[CV 1/5] END LR__C=1.5797894736842104, LR__solver=saga, SCL=StandardScaler();, score=-0.427 total time=   0.0s\n",
      "[CV 2/5] END LR__C=1.5797894736842104, LR__solver=saga, SCL=StandardScaler();, score=-0.440 total time=   0.0s\n",
      "[CV 3/5] END LR__C=1.5797894736842104, LR__solver=saga, SCL=StandardScaler();, score=-0.423 total time=   0.0s\n",
      "[CV 4/5] END LR__C=1.5797894736842104, LR__solver=saga, SCL=StandardScaler();, score=-0.433 total time=   0.0s\n",
      "[CV 5/5] END LR__C=1.5797894736842104, LR__solver=saga, SCL=StandardScaler();, score=-0.427 total time=   0.0s\n"
     ]
    },
    {
     "name": "stderr",
     "output_type": "stream",
     "text": [
      "C:\\Users\\DAI.STUDENTSDC\\AppData\\Local\\anaconda3\\Lib\\site-packages\\sklearn\\linear_model\\_sag.py:349: ConvergenceWarning: The max_iter was reached which means the coef_ did not converge\n",
      "  warnings.warn(\n"
     ]
    },
    {
     "name": "stdout",
     "output_type": "stream",
     "text": [
      "[CV 1/5] END LR__C=1.5797894736842104, LR__solver=saga, SCL=None;, score=-0.490 total time=   0.4s\n"
     ]
    },
    {
     "name": "stderr",
     "output_type": "stream",
     "text": [
      "C:\\Users\\DAI.STUDENTSDC\\AppData\\Local\\anaconda3\\Lib\\site-packages\\sklearn\\linear_model\\_sag.py:349: ConvergenceWarning: The max_iter was reached which means the coef_ did not converge\n",
      "  warnings.warn(\n"
     ]
    },
    {
     "name": "stdout",
     "output_type": "stream",
     "text": [
      "[CV 2/5] END LR__C=1.5797894736842104, LR__solver=saga, SCL=None;, score=-0.494 total time=   0.4s\n"
     ]
    },
    {
     "name": "stderr",
     "output_type": "stream",
     "text": [
      "C:\\Users\\DAI.STUDENTSDC\\AppData\\Local\\anaconda3\\Lib\\site-packages\\sklearn\\linear_model\\_sag.py:349: ConvergenceWarning: The max_iter was reached which means the coef_ did not converge\n",
      "  warnings.warn(\n"
     ]
    },
    {
     "name": "stdout",
     "output_type": "stream",
     "text": [
      "[CV 3/5] END LR__C=1.5797894736842104, LR__solver=saga, SCL=None;, score=-0.488 total time=   0.3s\n"
     ]
    },
    {
     "name": "stderr",
     "output_type": "stream",
     "text": [
      "C:\\Users\\DAI.STUDENTSDC\\AppData\\Local\\anaconda3\\Lib\\site-packages\\sklearn\\linear_model\\_sag.py:349: ConvergenceWarning: The max_iter was reached which means the coef_ did not converge\n",
      "  warnings.warn(\n"
     ]
    },
    {
     "name": "stdout",
     "output_type": "stream",
     "text": [
      "[CV 4/5] END LR__C=1.5797894736842104, LR__solver=saga, SCL=None;, score=-0.489 total time=   0.4s\n"
     ]
    },
    {
     "name": "stderr",
     "output_type": "stream",
     "text": [
      "C:\\Users\\DAI.STUDENTSDC\\AppData\\Local\\anaconda3\\Lib\\site-packages\\sklearn\\linear_model\\_sag.py:349: ConvergenceWarning: The max_iter was reached which means the coef_ did not converge\n",
      "  warnings.warn(\n"
     ]
    },
    {
     "name": "stdout",
     "output_type": "stream",
     "text": [
      "[CV 5/5] END LR__C=1.5797894736842104, LR__solver=saga, SCL=None;, score=-0.490 total time=   0.4s\n",
      "[CV 1/5] END LR__C=2.1060526315789474, LR__solver=lbfgs, SCL=MinMaxScaler();, score=-0.427 total time=   0.0s\n",
      "[CV 2/5] END LR__C=2.1060526315789474, LR__solver=lbfgs, SCL=MinMaxScaler();, score=-0.439 total time=   0.0s\n",
      "[CV 3/5] END LR__C=2.1060526315789474, LR__solver=lbfgs, SCL=MinMaxScaler();, score=-0.423 total time=   0.0s\n",
      "[CV 4/5] END LR__C=2.1060526315789474, LR__solver=lbfgs, SCL=MinMaxScaler();, score=-0.433 total time=   0.0s\n",
      "[CV 5/5] END LR__C=2.1060526315789474, LR__solver=lbfgs, SCL=MinMaxScaler();, score=-0.427 total time=   0.0s\n",
      "[CV 1/5] END LR__C=2.1060526315789474, LR__solver=lbfgs, SCL=StandardScaler();, score=-0.427 total time=   0.0s\n",
      "[CV 2/5] END LR__C=2.1060526315789474, LR__solver=lbfgs, SCL=StandardScaler();, score=-0.440 total time=   0.0s\n",
      "[CV 3/5] END LR__C=2.1060526315789474, LR__solver=lbfgs, SCL=StandardScaler();, score=-0.423 total time=   0.0s\n",
      "[CV 4/5] END LR__C=2.1060526315789474, LR__solver=lbfgs, SCL=StandardScaler();, score=-0.433 total time=   0.0s\n",
      "[CV 5/5] END LR__C=2.1060526315789474, LR__solver=lbfgs, SCL=StandardScaler();, score=-0.427 total time=   0.0s\n",
      "[CV 1/5] END LR__C=2.1060526315789474, LR__solver=lbfgs, SCL=None;, score=-0.432 total time=   0.1s\n"
     ]
    },
    {
     "name": "stderr",
     "output_type": "stream",
     "text": [
      "C:\\Users\\DAI.STUDENTSDC\\AppData\\Local\\anaconda3\\Lib\\site-packages\\sklearn\\linear_model\\_logistic.py:469: ConvergenceWarning: lbfgs failed to converge (status=1):\n",
      "STOP: TOTAL NO. of ITERATIONS REACHED LIMIT.\n",
      "\n",
      "Increase the number of iterations (max_iter) or scale the data as shown in:\n",
      "    https://scikit-learn.org/stable/modules/preprocessing.html\n",
      "Please also refer to the documentation for alternative solver options:\n",
      "    https://scikit-learn.org/stable/modules/linear_model.html#logistic-regression\n",
      "  n_iter_i = _check_optimize_result(\n",
      "C:\\Users\\DAI.STUDENTSDC\\AppData\\Local\\anaconda3\\Lib\\site-packages\\sklearn\\linear_model\\_logistic.py:469: ConvergenceWarning: lbfgs failed to converge (status=1):\n",
      "STOP: TOTAL NO. of ITERATIONS REACHED LIMIT.\n",
      "\n",
      "Increase the number of iterations (max_iter) or scale the data as shown in:\n",
      "    https://scikit-learn.org/stable/modules/preprocessing.html\n",
      "Please also refer to the documentation for alternative solver options:\n",
      "    https://scikit-learn.org/stable/modules/linear_model.html#logistic-regression\n",
      "  n_iter_i = _check_optimize_result(\n"
     ]
    },
    {
     "name": "stdout",
     "output_type": "stream",
     "text": [
      "[CV 2/5] END LR__C=2.1060526315789474, LR__solver=lbfgs, SCL=None;, score=-0.440 total time=   0.1s\n",
      "[CV 3/5] END LR__C=2.1060526315789474, LR__solver=lbfgs, SCL=None;, score=-0.426 total time=   0.1s\n"
     ]
    },
    {
     "name": "stderr",
     "output_type": "stream",
     "text": [
      "C:\\Users\\DAI.STUDENTSDC\\AppData\\Local\\anaconda3\\Lib\\site-packages\\sklearn\\linear_model\\_logistic.py:469: ConvergenceWarning: lbfgs failed to converge (status=1):\n",
      "STOP: TOTAL NO. of ITERATIONS REACHED LIMIT.\n",
      "\n",
      "Increase the number of iterations (max_iter) or scale the data as shown in:\n",
      "    https://scikit-learn.org/stable/modules/preprocessing.html\n",
      "Please also refer to the documentation for alternative solver options:\n",
      "    https://scikit-learn.org/stable/modules/linear_model.html#logistic-regression\n",
      "  n_iter_i = _check_optimize_result(\n",
      "C:\\Users\\DAI.STUDENTSDC\\AppData\\Local\\anaconda3\\Lib\\site-packages\\sklearn\\linear_model\\_logistic.py:469: ConvergenceWarning: lbfgs failed to converge (status=1):\n",
      "STOP: TOTAL NO. of ITERATIONS REACHED LIMIT.\n",
      "\n",
      "Increase the number of iterations (max_iter) or scale the data as shown in:\n",
      "    https://scikit-learn.org/stable/modules/preprocessing.html\n",
      "Please also refer to the documentation for alternative solver options:\n",
      "    https://scikit-learn.org/stable/modules/linear_model.html#logistic-regression\n",
      "  n_iter_i = _check_optimize_result(\n"
     ]
    },
    {
     "name": "stdout",
     "output_type": "stream",
     "text": [
      "[CV 4/5] END LR__C=2.1060526315789474, LR__solver=lbfgs, SCL=None;, score=-0.433 total time=   0.1s\n",
      "[CV 5/5] END LR__C=2.1060526315789474, LR__solver=lbfgs, SCL=None;, score=-0.430 total time=   0.1s\n"
     ]
    },
    {
     "name": "stderr",
     "output_type": "stream",
     "text": [
      "C:\\Users\\DAI.STUDENTSDC\\AppData\\Local\\anaconda3\\Lib\\site-packages\\sklearn\\linear_model\\_logistic.py:469: ConvergenceWarning: lbfgs failed to converge (status=1):\n",
      "STOP: TOTAL NO. of ITERATIONS REACHED LIMIT.\n",
      "\n",
      "Increase the number of iterations (max_iter) or scale the data as shown in:\n",
      "    https://scikit-learn.org/stable/modules/preprocessing.html\n",
      "Please also refer to the documentation for alternative solver options:\n",
      "    https://scikit-learn.org/stable/modules/linear_model.html#logistic-regression\n",
      "  n_iter_i = _check_optimize_result(\n"
     ]
    },
    {
     "name": "stdout",
     "output_type": "stream",
     "text": [
      "[CV 1/5] END LR__C=2.1060526315789474, LR__solver=liblinear, SCL=MinMaxScaler();, score=-0.427 total time=   0.0s\n",
      "[CV 2/5] END LR__C=2.1060526315789474, LR__solver=liblinear, SCL=MinMaxScaler();, score=-0.439 total time=   0.0s\n",
      "[CV 3/5] END LR__C=2.1060526315789474, LR__solver=liblinear, SCL=MinMaxScaler();, score=-0.423 total time=   0.0s\n",
      "[CV 4/5] END LR__C=2.1060526315789474, LR__solver=liblinear, SCL=MinMaxScaler();, score=-0.433 total time=   0.0s\n",
      "[CV 5/5] END LR__C=2.1060526315789474, LR__solver=liblinear, SCL=MinMaxScaler();, score=-0.427 total time=   0.0s\n",
      "[CV 1/5] END LR__C=2.1060526315789474, LR__solver=liblinear, SCL=StandardScaler();, score=-0.427 total time=   0.0s\n",
      "[CV 2/5] END LR__C=2.1060526315789474, LR__solver=liblinear, SCL=StandardScaler();, score=-0.440 total time=   0.0s\n",
      "[CV 3/5] END LR__C=2.1060526315789474, LR__solver=liblinear, SCL=StandardScaler();, score=-0.423 total time=   0.0s\n",
      "[CV 4/5] END LR__C=2.1060526315789474, LR__solver=liblinear, SCL=StandardScaler();, score=-0.433 total time=   0.0s\n",
      "[CV 5/5] END LR__C=2.1060526315789474, LR__solver=liblinear, SCL=StandardScaler();, score=-0.427 total time=   0.0s\n",
      "[CV 1/5] END LR__C=2.1060526315789474, LR__solver=liblinear, SCL=None;, score=-0.427 total time=   0.0s\n",
      "[CV 2/5] END LR__C=2.1060526315789474, LR__solver=liblinear, SCL=None;, score=-0.439 total time=   0.0s\n",
      "[CV 3/5] END LR__C=2.1060526315789474, LR__solver=liblinear, SCL=None;, score=-0.423 total time=   0.0s\n",
      "[CV 4/5] END LR__C=2.1060526315789474, LR__solver=liblinear, SCL=None;, score=-0.433 total time=   0.0s\n",
      "[CV 5/5] END LR__C=2.1060526315789474, LR__solver=liblinear, SCL=None;, score=-0.427 total time=   0.0s\n",
      "[CV 1/5] END LR__C=2.1060526315789474, LR__solver=newton-cg, SCL=MinMaxScaler();, score=-0.427 total time=   0.0s\n",
      "[CV 2/5] END LR__C=2.1060526315789474, LR__solver=newton-cg, SCL=MinMaxScaler();, score=-0.439 total time=   0.0s\n",
      "[CV 3/5] END LR__C=2.1060526315789474, LR__solver=newton-cg, SCL=MinMaxScaler();, score=-0.423 total time=   0.0s\n",
      "[CV 4/5] END LR__C=2.1060526315789474, LR__solver=newton-cg, SCL=MinMaxScaler();, score=-0.433 total time=   0.0s\n",
      "[CV 5/5] END LR__C=2.1060526315789474, LR__solver=newton-cg, SCL=MinMaxScaler();, score=-0.427 total time=   0.0s\n",
      "[CV 1/5] END LR__C=2.1060526315789474, LR__solver=newton-cg, SCL=StandardScaler();, score=-0.427 total time=   0.0s\n",
      "[CV 2/5] END LR__C=2.1060526315789474, LR__solver=newton-cg, SCL=StandardScaler();, score=-0.440 total time=   0.0s\n",
      "[CV 3/5] END LR__C=2.1060526315789474, LR__solver=newton-cg, SCL=StandardScaler();, score=-0.423 total time=   0.0s\n",
      "[CV 4/5] END LR__C=2.1060526315789474, LR__solver=newton-cg, SCL=StandardScaler();, score=-0.433 total time=   0.0s\n",
      "[CV 5/5] END LR__C=2.1060526315789474, LR__solver=newton-cg, SCL=StandardScaler();, score=-0.427 total time=   0.0s\n",
      "[CV 1/5] END LR__C=2.1060526315789474, LR__solver=newton-cg, SCL=None;, score=-0.427 total time=   0.1s\n",
      "[CV 2/5] END LR__C=2.1060526315789474, LR__solver=newton-cg, SCL=None;, score=-0.439 total time=   0.1s\n",
      "[CV 3/5] END LR__C=2.1060526315789474, LR__solver=newton-cg, SCL=None;, score=-0.423 total time=   0.2s\n",
      "[CV 4/5] END LR__C=2.1060526315789474, LR__solver=newton-cg, SCL=None;, score=-0.433 total time=   0.1s\n",
      "[CV 5/5] END LR__C=2.1060526315789474, LR__solver=newton-cg, SCL=None;, score=-0.427 total time=   0.1s\n",
      "[CV 1/5] END LR__C=2.1060526315789474, LR__solver=newton-cholesky, SCL=MinMaxScaler();, score=-0.427 total time=   0.0s\n",
      "[CV 2/5] END LR__C=2.1060526315789474, LR__solver=newton-cholesky, SCL=MinMaxScaler();, score=-0.439 total time=   0.0s\n",
      "[CV 3/5] END LR__C=2.1060526315789474, LR__solver=newton-cholesky, SCL=MinMaxScaler();, score=-0.423 total time=   0.0s\n",
      "[CV 4/5] END LR__C=2.1060526315789474, LR__solver=newton-cholesky, SCL=MinMaxScaler();, score=-0.433 total time=   0.0s\n",
      "[CV 5/5] END LR__C=2.1060526315789474, LR__solver=newton-cholesky, SCL=MinMaxScaler();, score=-0.427 total time=   0.0s\n",
      "[CV 1/5] END LR__C=2.1060526315789474, LR__solver=newton-cholesky, SCL=StandardScaler();, score=-0.427 total time=   0.0s\n",
      "[CV 2/5] END LR__C=2.1060526315789474, LR__solver=newton-cholesky, SCL=StandardScaler();, score=-0.440 total time=   0.0s\n",
      "[CV 3/5] END LR__C=2.1060526315789474, LR__solver=newton-cholesky, SCL=StandardScaler();, score=-0.423 total time=   0.0s\n",
      "[CV 4/5] END LR__C=2.1060526315789474, LR__solver=newton-cholesky, SCL=StandardScaler();, score=-0.433 total time=   0.0s\n",
      "[CV 5/5] END LR__C=2.1060526315789474, LR__solver=newton-cholesky, SCL=StandardScaler();, score=-0.427 total time=   0.0s\n",
      "[CV 1/5] END LR__C=2.1060526315789474, LR__solver=newton-cholesky, SCL=None;, score=-0.427 total time=   0.0s\n",
      "[CV 2/5] END LR__C=2.1060526315789474, LR__solver=newton-cholesky, SCL=None;, score=-0.439 total time=   0.0s\n",
      "[CV 3/5] END LR__C=2.1060526315789474, LR__solver=newton-cholesky, SCL=None;, score=-0.423 total time=   0.0s\n",
      "[CV 4/5] END LR__C=2.1060526315789474, LR__solver=newton-cholesky, SCL=None;, score=-0.433 total time=   0.0s\n",
      "[CV 5/5] END LR__C=2.1060526315789474, LR__solver=newton-cholesky, SCL=None;, score=-0.427 total time=   0.0s\n",
      "[CV 1/5] END LR__C=2.1060526315789474, LR__solver=sag, SCL=MinMaxScaler();, score=-0.427 total time=   0.0s\n",
      "[CV 2/5] END LR__C=2.1060526315789474, LR__solver=sag, SCL=MinMaxScaler();, score=-0.439 total time=   0.1s\n",
      "[CV 3/5] END LR__C=2.1060526315789474, LR__solver=sag, SCL=MinMaxScaler();, score=-0.423 total time=   0.1s\n",
      "[CV 4/5] END LR__C=2.1060526315789474, LR__solver=sag, SCL=MinMaxScaler();, score=-0.433 total time=   0.0s\n",
      "[CV 5/5] END LR__C=2.1060526315789474, LR__solver=sag, SCL=MinMaxScaler();, score=-0.427 total time=   0.1s\n",
      "[CV 1/5] END LR__C=2.1060526315789474, LR__solver=sag, SCL=StandardScaler();, score=-0.427 total time=   0.1s\n",
      "[CV 2/5] END LR__C=2.1060526315789474, LR__solver=sag, SCL=StandardScaler();, score=-0.440 total time=   0.1s\n",
      "[CV 3/5] END LR__C=2.1060526315789474, LR__solver=sag, SCL=StandardScaler();, score=-0.423 total time=   0.1s\n",
      "[CV 4/5] END LR__C=2.1060526315789474, LR__solver=sag, SCL=StandardScaler();, score=-0.433 total time=   0.0s\n",
      "[CV 5/5] END LR__C=2.1060526315789474, LR__solver=sag, SCL=StandardScaler();, score=-0.427 total time=   0.0s\n"
     ]
    },
    {
     "name": "stderr",
     "output_type": "stream",
     "text": [
      "C:\\Users\\DAI.STUDENTSDC\\AppData\\Local\\anaconda3\\Lib\\site-packages\\sklearn\\linear_model\\_sag.py:349: ConvergenceWarning: The max_iter was reached which means the coef_ did not converge\n",
      "  warnings.warn(\n"
     ]
    },
    {
     "name": "stdout",
     "output_type": "stream",
     "text": [
      "[CV 1/5] END LR__C=2.1060526315789474, LR__solver=sag, SCL=None;, score=-0.463 total time=   0.3s\n"
     ]
    },
    {
     "name": "stderr",
     "output_type": "stream",
     "text": [
      "C:\\Users\\DAI.STUDENTSDC\\AppData\\Local\\anaconda3\\Lib\\site-packages\\sklearn\\linear_model\\_sag.py:349: ConvergenceWarning: The max_iter was reached which means the coef_ did not converge\n",
      "  warnings.warn(\n"
     ]
    },
    {
     "name": "stdout",
     "output_type": "stream",
     "text": [
      "[CV 2/5] END LR__C=2.1060526315789474, LR__solver=sag, SCL=None;, score=-0.471 total time=   0.3s\n"
     ]
    },
    {
     "name": "stderr",
     "output_type": "stream",
     "text": [
      "C:\\Users\\DAI.STUDENTSDC\\AppData\\Local\\anaconda3\\Lib\\site-packages\\sklearn\\linear_model\\_sag.py:349: ConvergenceWarning: The max_iter was reached which means the coef_ did not converge\n",
      "  warnings.warn(\n"
     ]
    },
    {
     "name": "stdout",
     "output_type": "stream",
     "text": [
      "[CV 3/5] END LR__C=2.1060526315789474, LR__solver=sag, SCL=None;, score=-0.463 total time=   0.4s\n"
     ]
    },
    {
     "name": "stderr",
     "output_type": "stream",
     "text": [
      "C:\\Users\\DAI.STUDENTSDC\\AppData\\Local\\anaconda3\\Lib\\site-packages\\sklearn\\linear_model\\_sag.py:349: ConvergenceWarning: The max_iter was reached which means the coef_ did not converge\n",
      "  warnings.warn(\n"
     ]
    },
    {
     "name": "stdout",
     "output_type": "stream",
     "text": [
      "[CV 4/5] END LR__C=2.1060526315789474, LR__solver=sag, SCL=None;, score=-0.465 total time=   0.3s\n"
     ]
    },
    {
     "name": "stderr",
     "output_type": "stream",
     "text": [
      "C:\\Users\\DAI.STUDENTSDC\\AppData\\Local\\anaconda3\\Lib\\site-packages\\sklearn\\linear_model\\_sag.py:349: ConvergenceWarning: The max_iter was reached which means the coef_ did not converge\n",
      "  warnings.warn(\n"
     ]
    },
    {
     "name": "stdout",
     "output_type": "stream",
     "text": [
      "[CV 5/5] END LR__C=2.1060526315789474, LR__solver=sag, SCL=None;, score=-0.464 total time=   0.3s\n",
      "[CV 1/5] END LR__C=2.1060526315789474, LR__solver=saga, SCL=MinMaxScaler();, score=-0.427 total time=   0.0s\n",
      "[CV 2/5] END LR__C=2.1060526315789474, LR__solver=saga, SCL=MinMaxScaler();, score=-0.439 total time=   0.0s\n",
      "[CV 3/5] END LR__C=2.1060526315789474, LR__solver=saga, SCL=MinMaxScaler();, score=-0.423 total time=   0.0s\n",
      "[CV 4/5] END LR__C=2.1060526315789474, LR__solver=saga, SCL=MinMaxScaler();, score=-0.433 total time=   0.0s\n",
      "[CV 5/5] END LR__C=2.1060526315789474, LR__solver=saga, SCL=MinMaxScaler();, score=-0.427 total time=   0.1s\n",
      "[CV 1/5] END LR__C=2.1060526315789474, LR__solver=saga, SCL=StandardScaler();, score=-0.427 total time=   0.0s\n",
      "[CV 2/5] END LR__C=2.1060526315789474, LR__solver=saga, SCL=StandardScaler();, score=-0.440 total time=   0.0s\n",
      "[CV 3/5] END LR__C=2.1060526315789474, LR__solver=saga, SCL=StandardScaler();, score=-0.423 total time=   0.0s\n",
      "[CV 4/5] END LR__C=2.1060526315789474, LR__solver=saga, SCL=StandardScaler();, score=-0.433 total time=   0.0s\n",
      "[CV 5/5] END LR__C=2.1060526315789474, LR__solver=saga, SCL=StandardScaler();, score=-0.427 total time=   0.0s\n"
     ]
    },
    {
     "name": "stderr",
     "output_type": "stream",
     "text": [
      "C:\\Users\\DAI.STUDENTSDC\\AppData\\Local\\anaconda3\\Lib\\site-packages\\sklearn\\linear_model\\_sag.py:349: ConvergenceWarning: The max_iter was reached which means the coef_ did not converge\n",
      "  warnings.warn(\n"
     ]
    },
    {
     "name": "stdout",
     "output_type": "stream",
     "text": [
      "[CV 1/5] END LR__C=2.1060526315789474, LR__solver=saga, SCL=None;, score=-0.490 total time=   0.3s\n"
     ]
    },
    {
     "name": "stderr",
     "output_type": "stream",
     "text": [
      "C:\\Users\\DAI.STUDENTSDC\\AppData\\Local\\anaconda3\\Lib\\site-packages\\sklearn\\linear_model\\_sag.py:349: ConvergenceWarning: The max_iter was reached which means the coef_ did not converge\n",
      "  warnings.warn(\n"
     ]
    },
    {
     "name": "stdout",
     "output_type": "stream",
     "text": [
      "[CV 2/5] END LR__C=2.1060526315789474, LR__solver=saga, SCL=None;, score=-0.494 total time=   0.4s\n"
     ]
    },
    {
     "name": "stderr",
     "output_type": "stream",
     "text": [
      "C:\\Users\\DAI.STUDENTSDC\\AppData\\Local\\anaconda3\\Lib\\site-packages\\sklearn\\linear_model\\_sag.py:349: ConvergenceWarning: The max_iter was reached which means the coef_ did not converge\n",
      "  warnings.warn(\n"
     ]
    },
    {
     "name": "stdout",
     "output_type": "stream",
     "text": [
      "[CV 3/5] END LR__C=2.1060526315789474, LR__solver=saga, SCL=None;, score=-0.488 total time=   0.4s\n"
     ]
    },
    {
     "name": "stderr",
     "output_type": "stream",
     "text": [
      "C:\\Users\\DAI.STUDENTSDC\\AppData\\Local\\anaconda3\\Lib\\site-packages\\sklearn\\linear_model\\_sag.py:349: ConvergenceWarning: The max_iter was reached which means the coef_ did not converge\n",
      "  warnings.warn(\n"
     ]
    },
    {
     "name": "stdout",
     "output_type": "stream",
     "text": [
      "[CV 4/5] END LR__C=2.1060526315789474, LR__solver=saga, SCL=None;, score=-0.489 total time=   0.4s\n"
     ]
    },
    {
     "name": "stderr",
     "output_type": "stream",
     "text": [
      "C:\\Users\\DAI.STUDENTSDC\\AppData\\Local\\anaconda3\\Lib\\site-packages\\sklearn\\linear_model\\_sag.py:349: ConvergenceWarning: The max_iter was reached which means the coef_ did not converge\n",
      "  warnings.warn(\n"
     ]
    },
    {
     "name": "stdout",
     "output_type": "stream",
     "text": [
      "[CV 5/5] END LR__C=2.1060526315789474, LR__solver=saga, SCL=None;, score=-0.490 total time=   0.4s\n",
      "[CV 1/5] END LR__C=2.6323157894736844, LR__solver=lbfgs, SCL=MinMaxScaler();, score=-0.427 total time=   0.0s\n",
      "[CV 2/5] END LR__C=2.6323157894736844, LR__solver=lbfgs, SCL=MinMaxScaler();, score=-0.439 total time=   0.0s\n",
      "[CV 3/5] END LR__C=2.6323157894736844, LR__solver=lbfgs, SCL=MinMaxScaler();, score=-0.423 total time=   0.0s\n",
      "[CV 4/5] END LR__C=2.6323157894736844, LR__solver=lbfgs, SCL=MinMaxScaler();, score=-0.433 total time=   0.0s\n",
      "[CV 5/5] END LR__C=2.6323157894736844, LR__solver=lbfgs, SCL=MinMaxScaler();, score=-0.427 total time=   0.0s\n",
      "[CV 1/5] END LR__C=2.6323157894736844, LR__solver=lbfgs, SCL=StandardScaler();, score=-0.427 total time=   0.0s\n",
      "[CV 2/5] END LR__C=2.6323157894736844, LR__solver=lbfgs, SCL=StandardScaler();, score=-0.440 total time=   0.0s\n",
      "[CV 3/5] END LR__C=2.6323157894736844, LR__solver=lbfgs, SCL=StandardScaler();, score=-0.423 total time=   0.0s\n",
      "[CV 4/5] END LR__C=2.6323157894736844, LR__solver=lbfgs, SCL=StandardScaler();, score=-0.433 total time=   0.0s\n",
      "[CV 5/5] END LR__C=2.6323157894736844, LR__solver=lbfgs, SCL=StandardScaler();, score=-0.427 total time=   0.0s\n"
     ]
    },
    {
     "name": "stderr",
     "output_type": "stream",
     "text": [
      "C:\\Users\\DAI.STUDENTSDC\\AppData\\Local\\anaconda3\\Lib\\site-packages\\sklearn\\linear_model\\_logistic.py:469: ConvergenceWarning: lbfgs failed to converge (status=1):\n",
      "STOP: TOTAL NO. of ITERATIONS REACHED LIMIT.\n",
      "\n",
      "Increase the number of iterations (max_iter) or scale the data as shown in:\n",
      "    https://scikit-learn.org/stable/modules/preprocessing.html\n",
      "Please also refer to the documentation for alternative solver options:\n",
      "    https://scikit-learn.org/stable/modules/linear_model.html#logistic-regression\n",
      "  n_iter_i = _check_optimize_result(\n",
      "C:\\Users\\DAI.STUDENTSDC\\AppData\\Local\\anaconda3\\Lib\\site-packages\\sklearn\\linear_model\\_logistic.py:469: ConvergenceWarning: lbfgs failed to converge (status=1):\n",
      "STOP: TOTAL NO. of ITERATIONS REACHED LIMIT.\n",
      "\n",
      "Increase the number of iterations (max_iter) or scale the data as shown in:\n",
      "    https://scikit-learn.org/stable/modules/preprocessing.html\n",
      "Please also refer to the documentation for alternative solver options:\n",
      "    https://scikit-learn.org/stable/modules/linear_model.html#logistic-regression\n",
      "  n_iter_i = _check_optimize_result(\n"
     ]
    },
    {
     "name": "stdout",
     "output_type": "stream",
     "text": [
      "[CV 1/5] END LR__C=2.6323157894736844, LR__solver=lbfgs, SCL=None;, score=-0.428 total time=   0.1s\n",
      "[CV 2/5] END LR__C=2.6323157894736844, LR__solver=lbfgs, SCL=None;, score=-0.441 total time=   0.1s\n"
     ]
    },
    {
     "name": "stderr",
     "output_type": "stream",
     "text": [
      "C:\\Users\\DAI.STUDENTSDC\\AppData\\Local\\anaconda3\\Lib\\site-packages\\sklearn\\linear_model\\_logistic.py:469: ConvergenceWarning: lbfgs failed to converge (status=1):\n",
      "STOP: TOTAL NO. of ITERATIONS REACHED LIMIT.\n",
      "\n",
      "Increase the number of iterations (max_iter) or scale the data as shown in:\n",
      "    https://scikit-learn.org/stable/modules/preprocessing.html\n",
      "Please also refer to the documentation for alternative solver options:\n",
      "    https://scikit-learn.org/stable/modules/linear_model.html#logistic-regression\n",
      "  n_iter_i = _check_optimize_result(\n",
      "C:\\Users\\DAI.STUDENTSDC\\AppData\\Local\\anaconda3\\Lib\\site-packages\\sklearn\\linear_model\\_logistic.py:469: ConvergenceWarning: lbfgs failed to converge (status=1):\n",
      "STOP: TOTAL NO. of ITERATIONS REACHED LIMIT.\n",
      "\n",
      "Increase the number of iterations (max_iter) or scale the data as shown in:\n",
      "    https://scikit-learn.org/stable/modules/preprocessing.html\n",
      "Please also refer to the documentation for alternative solver options:\n",
      "    https://scikit-learn.org/stable/modules/linear_model.html#logistic-regression\n",
      "  n_iter_i = _check_optimize_result(\n"
     ]
    },
    {
     "name": "stdout",
     "output_type": "stream",
     "text": [
      "[CV 3/5] END LR__C=2.6323157894736844, LR__solver=lbfgs, SCL=None;, score=-0.426 total time=   0.1s\n",
      "[CV 4/5] END LR__C=2.6323157894736844, LR__solver=lbfgs, SCL=None;, score=-0.434 total time=   0.1s\n"
     ]
    },
    {
     "name": "stderr",
     "output_type": "stream",
     "text": [
      "C:\\Users\\DAI.STUDENTSDC\\AppData\\Local\\anaconda3\\Lib\\site-packages\\sklearn\\linear_model\\_logistic.py:469: ConvergenceWarning: lbfgs failed to converge (status=1):\n",
      "STOP: TOTAL NO. of ITERATIONS REACHED LIMIT.\n",
      "\n",
      "Increase the number of iterations (max_iter) or scale the data as shown in:\n",
      "    https://scikit-learn.org/stable/modules/preprocessing.html\n",
      "Please also refer to the documentation for alternative solver options:\n",
      "    https://scikit-learn.org/stable/modules/linear_model.html#logistic-regression\n",
      "  n_iter_i = _check_optimize_result(\n"
     ]
    },
    {
     "name": "stdout",
     "output_type": "stream",
     "text": [
      "[CV 5/5] END LR__C=2.6323157894736844, LR__solver=lbfgs, SCL=None;, score=-0.429 total time=   0.1s\n",
      "[CV 1/5] END LR__C=2.6323157894736844, LR__solver=liblinear, SCL=MinMaxScaler();, score=-0.427 total time=   0.0s\n",
      "[CV 2/5] END LR__C=2.6323157894736844, LR__solver=liblinear, SCL=MinMaxScaler();, score=-0.439 total time=   0.0s\n",
      "[CV 3/5] END LR__C=2.6323157894736844, LR__solver=liblinear, SCL=MinMaxScaler();, score=-0.423 total time=   0.0s\n",
      "[CV 4/5] END LR__C=2.6323157894736844, LR__solver=liblinear, SCL=MinMaxScaler();, score=-0.433 total time=   0.0s\n",
      "[CV 5/5] END LR__C=2.6323157894736844, LR__solver=liblinear, SCL=MinMaxScaler();, score=-0.427 total time=   0.0s\n",
      "[CV 1/5] END LR__C=2.6323157894736844, LR__solver=liblinear, SCL=StandardScaler();, score=-0.427 total time=   0.0s\n",
      "[CV 2/5] END LR__C=2.6323157894736844, LR__solver=liblinear, SCL=StandardScaler();, score=-0.440 total time=   0.0s\n",
      "[CV 3/5] END LR__C=2.6323157894736844, LR__solver=liblinear, SCL=StandardScaler();, score=-0.423 total time=   0.0s\n",
      "[CV 4/5] END LR__C=2.6323157894736844, LR__solver=liblinear, SCL=StandardScaler();, score=-0.433 total time=   0.0s\n",
      "[CV 5/5] END LR__C=2.6323157894736844, LR__solver=liblinear, SCL=StandardScaler();, score=-0.427 total time=   0.0s\n",
      "[CV 1/5] END LR__C=2.6323157894736844, LR__solver=liblinear, SCL=None;, score=-0.427 total time=   0.0s\n",
      "[CV 2/5] END LR__C=2.6323157894736844, LR__solver=liblinear, SCL=None;, score=-0.439 total time=   0.0s\n",
      "[CV 3/5] END LR__C=2.6323157894736844, LR__solver=liblinear, SCL=None;, score=-0.423 total time=   0.0s\n",
      "[CV 4/5] END LR__C=2.6323157894736844, LR__solver=liblinear, SCL=None;, score=-0.433 total time=   0.0s\n",
      "[CV 5/5] END LR__C=2.6323157894736844, LR__solver=liblinear, SCL=None;, score=-0.427 total time=   0.0s\n",
      "[CV 1/5] END LR__C=2.6323157894736844, LR__solver=newton-cg, SCL=MinMaxScaler();, score=-0.427 total time=   0.0s\n",
      "[CV 2/5] END LR__C=2.6323157894736844, LR__solver=newton-cg, SCL=MinMaxScaler();, score=-0.439 total time=   0.0s\n",
      "[CV 3/5] END LR__C=2.6323157894736844, LR__solver=newton-cg, SCL=MinMaxScaler();, score=-0.423 total time=   0.0s\n",
      "[CV 4/5] END LR__C=2.6323157894736844, LR__solver=newton-cg, SCL=MinMaxScaler();, score=-0.433 total time=   0.0s\n",
      "[CV 5/5] END LR__C=2.6323157894736844, LR__solver=newton-cg, SCL=MinMaxScaler();, score=-0.427 total time=   0.0s\n",
      "[CV 1/5] END LR__C=2.6323157894736844, LR__solver=newton-cg, SCL=StandardScaler();, score=-0.427 total time=   0.0s\n",
      "[CV 2/5] END LR__C=2.6323157894736844, LR__solver=newton-cg, SCL=StandardScaler();, score=-0.440 total time=   0.0s\n",
      "[CV 3/5] END LR__C=2.6323157894736844, LR__solver=newton-cg, SCL=StandardScaler();, score=-0.423 total time=   0.0s\n",
      "[CV 4/5] END LR__C=2.6323157894736844, LR__solver=newton-cg, SCL=StandardScaler();, score=-0.433 total time=   0.0s\n",
      "[CV 5/5] END LR__C=2.6323157894736844, LR__solver=newton-cg, SCL=StandardScaler();, score=-0.427 total time=   0.0s\n",
      "[CV 1/5] END LR__C=2.6323157894736844, LR__solver=newton-cg, SCL=None;, score=-0.427 total time=   0.1s\n",
      "[CV 2/5] END LR__C=2.6323157894736844, LR__solver=newton-cg, SCL=None;, score=-0.439 total time=   0.1s\n",
      "[CV 3/5] END LR__C=2.6323157894736844, LR__solver=newton-cg, SCL=None;, score=-0.423 total time=   0.1s\n",
      "[CV 4/5] END LR__C=2.6323157894736844, LR__solver=newton-cg, SCL=None;, score=-0.433 total time=   0.2s\n",
      "[CV 5/5] END LR__C=2.6323157894736844, LR__solver=newton-cg, SCL=None;, score=-0.427 total time=   0.1s\n",
      "[CV 1/5] END LR__C=2.6323157894736844, LR__solver=newton-cholesky, SCL=MinMaxScaler();, score=-0.427 total time=   0.0s\n",
      "[CV 2/5] END LR__C=2.6323157894736844, LR__solver=newton-cholesky, SCL=MinMaxScaler();, score=-0.439 total time=   0.0s\n",
      "[CV 3/5] END LR__C=2.6323157894736844, LR__solver=newton-cholesky, SCL=MinMaxScaler();, score=-0.423 total time=   0.0s\n",
      "[CV 4/5] END LR__C=2.6323157894736844, LR__solver=newton-cholesky, SCL=MinMaxScaler();, score=-0.433 total time=   0.0s\n",
      "[CV 5/5] END LR__C=2.6323157894736844, LR__solver=newton-cholesky, SCL=MinMaxScaler();, score=-0.427 total time=   0.0s\n",
      "[CV 1/5] END LR__C=2.6323157894736844, LR__solver=newton-cholesky, SCL=StandardScaler();, score=-0.427 total time=   0.0s\n",
      "[CV 2/5] END LR__C=2.6323157894736844, LR__solver=newton-cholesky, SCL=StandardScaler();, score=-0.440 total time=   0.0s\n",
      "[CV 3/5] END LR__C=2.6323157894736844, LR__solver=newton-cholesky, SCL=StandardScaler();, score=-0.423 total time=   0.0s\n",
      "[CV 4/5] END LR__C=2.6323157894736844, LR__solver=newton-cholesky, SCL=StandardScaler();, score=-0.433 total time=   0.0s\n",
      "[CV 5/5] END LR__C=2.6323157894736844, LR__solver=newton-cholesky, SCL=StandardScaler();, score=-0.427 total time=   0.0s\n",
      "[CV 1/5] END LR__C=2.6323157894736844, LR__solver=newton-cholesky, SCL=None;, score=-0.427 total time=   0.0s\n",
      "[CV 2/5] END LR__C=2.6323157894736844, LR__solver=newton-cholesky, SCL=None;, score=-0.439 total time=   0.0s\n",
      "[CV 3/5] END LR__C=2.6323157894736844, LR__solver=newton-cholesky, SCL=None;, score=-0.423 total time=   0.0s\n",
      "[CV 4/5] END LR__C=2.6323157894736844, LR__solver=newton-cholesky, SCL=None;, score=-0.433 total time=   0.0s\n",
      "[CV 5/5] END LR__C=2.6323157894736844, LR__solver=newton-cholesky, SCL=None;, score=-0.427 total time=   0.0s\n",
      "[CV 1/5] END LR__C=2.6323157894736844, LR__solver=sag, SCL=MinMaxScaler();, score=-0.427 total time=   0.1s\n",
      "[CV 2/5] END LR__C=2.6323157894736844, LR__solver=sag, SCL=MinMaxScaler();, score=-0.439 total time=   0.1s\n",
      "[CV 3/5] END LR__C=2.6323157894736844, LR__solver=sag, SCL=MinMaxScaler();, score=-0.423 total time=   0.1s\n",
      "[CV 4/5] END LR__C=2.6323157894736844, LR__solver=sag, SCL=MinMaxScaler();, score=-0.433 total time=   0.0s\n",
      "[CV 5/5] END LR__C=2.6323157894736844, LR__solver=sag, SCL=MinMaxScaler();, score=-0.427 total time=   0.1s\n",
      "[CV 1/5] END LR__C=2.6323157894736844, LR__solver=sag, SCL=StandardScaler();, score=-0.427 total time=   0.1s\n",
      "[CV 2/5] END LR__C=2.6323157894736844, LR__solver=sag, SCL=StandardScaler();, score=-0.440 total time=   0.1s\n",
      "[CV 3/5] END LR__C=2.6323157894736844, LR__solver=sag, SCL=StandardScaler();, score=-0.423 total time=   0.0s\n",
      "[CV 4/5] END LR__C=2.6323157894736844, LR__solver=sag, SCL=StandardScaler();, score=-0.433 total time=   0.1s\n",
      "[CV 5/5] END LR__C=2.6323157894736844, LR__solver=sag, SCL=StandardScaler();, score=-0.427 total time=   0.1s\n"
     ]
    },
    {
     "name": "stderr",
     "output_type": "stream",
     "text": [
      "C:\\Users\\DAI.STUDENTSDC\\AppData\\Local\\anaconda3\\Lib\\site-packages\\sklearn\\linear_model\\_sag.py:349: ConvergenceWarning: The max_iter was reached which means the coef_ did not converge\n",
      "  warnings.warn(\n"
     ]
    },
    {
     "name": "stdout",
     "output_type": "stream",
     "text": [
      "[CV 1/5] END LR__C=2.6323157894736844, LR__solver=sag, SCL=None;, score=-0.463 total time=   0.3s\n"
     ]
    },
    {
     "name": "stderr",
     "output_type": "stream",
     "text": [
      "C:\\Users\\DAI.STUDENTSDC\\AppData\\Local\\anaconda3\\Lib\\site-packages\\sklearn\\linear_model\\_sag.py:349: ConvergenceWarning: The max_iter was reached which means the coef_ did not converge\n",
      "  warnings.warn(\n"
     ]
    },
    {
     "name": "stdout",
     "output_type": "stream",
     "text": [
      "[CV 2/5] END LR__C=2.6323157894736844, LR__solver=sag, SCL=None;, score=-0.471 total time=   0.3s\n"
     ]
    },
    {
     "name": "stderr",
     "output_type": "stream",
     "text": [
      "C:\\Users\\DAI.STUDENTSDC\\AppData\\Local\\anaconda3\\Lib\\site-packages\\sklearn\\linear_model\\_sag.py:349: ConvergenceWarning: The max_iter was reached which means the coef_ did not converge\n",
      "  warnings.warn(\n"
     ]
    },
    {
     "name": "stdout",
     "output_type": "stream",
     "text": [
      "[CV 3/5] END LR__C=2.6323157894736844, LR__solver=sag, SCL=None;, score=-0.463 total time=   0.4s\n"
     ]
    },
    {
     "name": "stderr",
     "output_type": "stream",
     "text": [
      "C:\\Users\\DAI.STUDENTSDC\\AppData\\Local\\anaconda3\\Lib\\site-packages\\sklearn\\linear_model\\_sag.py:349: ConvergenceWarning: The max_iter was reached which means the coef_ did not converge\n",
      "  warnings.warn(\n"
     ]
    },
    {
     "name": "stdout",
     "output_type": "stream",
     "text": [
      "[CV 4/5] END LR__C=2.6323157894736844, LR__solver=sag, SCL=None;, score=-0.465 total time=   0.4s\n"
     ]
    },
    {
     "name": "stderr",
     "output_type": "stream",
     "text": [
      "C:\\Users\\DAI.STUDENTSDC\\AppData\\Local\\anaconda3\\Lib\\site-packages\\sklearn\\linear_model\\_sag.py:349: ConvergenceWarning: The max_iter was reached which means the coef_ did not converge\n",
      "  warnings.warn(\n"
     ]
    },
    {
     "name": "stdout",
     "output_type": "stream",
     "text": [
      "[CV 5/5] END LR__C=2.6323157894736844, LR__solver=sag, SCL=None;, score=-0.464 total time=   0.4s\n",
      "[CV 1/5] END LR__C=2.6323157894736844, LR__solver=saga, SCL=MinMaxScaler();, score=-0.427 total time=   0.0s\n",
      "[CV 2/5] END LR__C=2.6323157894736844, LR__solver=saga, SCL=MinMaxScaler();, score=-0.439 total time=   0.0s\n",
      "[CV 3/5] END LR__C=2.6323157894736844, LR__solver=saga, SCL=MinMaxScaler();, score=-0.423 total time=   0.0s\n",
      "[CV 4/5] END LR__C=2.6323157894736844, LR__solver=saga, SCL=MinMaxScaler();, score=-0.433 total time=   0.0s\n",
      "[CV 5/5] END LR__C=2.6323157894736844, LR__solver=saga, SCL=MinMaxScaler();, score=-0.427 total time=   0.0s\n",
      "[CV 1/5] END LR__C=2.6323157894736844, LR__solver=saga, SCL=StandardScaler();, score=-0.427 total time=   0.0s\n",
      "[CV 2/5] END LR__C=2.6323157894736844, LR__solver=saga, SCL=StandardScaler();, score=-0.440 total time=   0.0s\n",
      "[CV 3/5] END LR__C=2.6323157894736844, LR__solver=saga, SCL=StandardScaler();, score=-0.423 total time=   0.0s\n",
      "[CV 4/5] END LR__C=2.6323157894736844, LR__solver=saga, SCL=StandardScaler();, score=-0.433 total time=   0.0s\n",
      "[CV 5/5] END LR__C=2.6323157894736844, LR__solver=saga, SCL=StandardScaler();, score=-0.427 total time=   0.0s\n"
     ]
    },
    {
     "name": "stderr",
     "output_type": "stream",
     "text": [
      "C:\\Users\\DAI.STUDENTSDC\\AppData\\Local\\anaconda3\\Lib\\site-packages\\sklearn\\linear_model\\_sag.py:349: ConvergenceWarning: The max_iter was reached which means the coef_ did not converge\n",
      "  warnings.warn(\n"
     ]
    },
    {
     "name": "stdout",
     "output_type": "stream",
     "text": [
      "[CV 1/5] END LR__C=2.6323157894736844, LR__solver=saga, SCL=None;, score=-0.490 total time=   0.4s\n"
     ]
    },
    {
     "name": "stderr",
     "output_type": "stream",
     "text": [
      "C:\\Users\\DAI.STUDENTSDC\\AppData\\Local\\anaconda3\\Lib\\site-packages\\sklearn\\linear_model\\_sag.py:349: ConvergenceWarning: The max_iter was reached which means the coef_ did not converge\n",
      "  warnings.warn(\n"
     ]
    },
    {
     "name": "stdout",
     "output_type": "stream",
     "text": [
      "[CV 2/5] END LR__C=2.6323157894736844, LR__solver=saga, SCL=None;, score=-0.494 total time=   0.4s\n"
     ]
    },
    {
     "name": "stderr",
     "output_type": "stream",
     "text": [
      "C:\\Users\\DAI.STUDENTSDC\\AppData\\Local\\anaconda3\\Lib\\site-packages\\sklearn\\linear_model\\_sag.py:349: ConvergenceWarning: The max_iter was reached which means the coef_ did not converge\n",
      "  warnings.warn(\n"
     ]
    },
    {
     "name": "stdout",
     "output_type": "stream",
     "text": [
      "[CV 3/5] END LR__C=2.6323157894736844, LR__solver=saga, SCL=None;, score=-0.488 total time=   0.4s\n"
     ]
    },
    {
     "name": "stderr",
     "output_type": "stream",
     "text": [
      "C:\\Users\\DAI.STUDENTSDC\\AppData\\Local\\anaconda3\\Lib\\site-packages\\sklearn\\linear_model\\_sag.py:349: ConvergenceWarning: The max_iter was reached which means the coef_ did not converge\n",
      "  warnings.warn(\n"
     ]
    },
    {
     "name": "stdout",
     "output_type": "stream",
     "text": [
      "[CV 4/5] END LR__C=2.6323157894736844, LR__solver=saga, SCL=None;, score=-0.489 total time=   0.3s\n"
     ]
    },
    {
     "name": "stderr",
     "output_type": "stream",
     "text": [
      "C:\\Users\\DAI.STUDENTSDC\\AppData\\Local\\anaconda3\\Lib\\site-packages\\sklearn\\linear_model\\_sag.py:349: ConvergenceWarning: The max_iter was reached which means the coef_ did not converge\n",
      "  warnings.warn(\n"
     ]
    },
    {
     "name": "stdout",
     "output_type": "stream",
     "text": [
      "[CV 5/5] END LR__C=2.6323157894736844, LR__solver=saga, SCL=None;, score=-0.490 total time=   0.4s\n",
      "[CV 1/5] END LR__C=3.158578947368421, LR__solver=lbfgs, SCL=MinMaxScaler();, score=-0.427 total time=   0.0s\n",
      "[CV 2/5] END LR__C=3.158578947368421, LR__solver=lbfgs, SCL=MinMaxScaler();, score=-0.439 total time=   0.0s\n",
      "[CV 3/5] END LR__C=3.158578947368421, LR__solver=lbfgs, SCL=MinMaxScaler();, score=-0.423 total time=   0.0s\n",
      "[CV 4/5] END LR__C=3.158578947368421, LR__solver=lbfgs, SCL=MinMaxScaler();, score=-0.433 total time=   0.0s\n",
      "[CV 5/5] END LR__C=3.158578947368421, LR__solver=lbfgs, SCL=MinMaxScaler();, score=-0.427 total time=   0.0s\n",
      "[CV 1/5] END LR__C=3.158578947368421, LR__solver=lbfgs, SCL=StandardScaler();, score=-0.427 total time=   0.0s\n",
      "[CV 2/5] END LR__C=3.158578947368421, LR__solver=lbfgs, SCL=StandardScaler();, score=-0.440 total time=   0.0s\n",
      "[CV 3/5] END LR__C=3.158578947368421, LR__solver=lbfgs, SCL=StandardScaler();, score=-0.423 total time=   0.0s\n",
      "[CV 4/5] END LR__C=3.158578947368421, LR__solver=lbfgs, SCL=StandardScaler();, score=-0.433 total time=   0.0s\n",
      "[CV 5/5] END LR__C=3.158578947368421, LR__solver=lbfgs, SCL=StandardScaler();, score=-0.427 total time=   0.0s\n"
     ]
    },
    {
     "name": "stderr",
     "output_type": "stream",
     "text": [
      "C:\\Users\\DAI.STUDENTSDC\\AppData\\Local\\anaconda3\\Lib\\site-packages\\sklearn\\linear_model\\_logistic.py:469: ConvergenceWarning: lbfgs failed to converge (status=1):\n",
      "STOP: TOTAL NO. of ITERATIONS REACHED LIMIT.\n",
      "\n",
      "Increase the number of iterations (max_iter) or scale the data as shown in:\n",
      "    https://scikit-learn.org/stable/modules/preprocessing.html\n",
      "Please also refer to the documentation for alternative solver options:\n",
      "    https://scikit-learn.org/stable/modules/linear_model.html#logistic-regression\n",
      "  n_iter_i = _check_optimize_result(\n",
      "C:\\Users\\DAI.STUDENTSDC\\AppData\\Local\\anaconda3\\Lib\\site-packages\\sklearn\\linear_model\\_logistic.py:469: ConvergenceWarning: lbfgs failed to converge (status=1):\n",
      "STOP: TOTAL NO. of ITERATIONS REACHED LIMIT.\n",
      "\n",
      "Increase the number of iterations (max_iter) or scale the data as shown in:\n",
      "    https://scikit-learn.org/stable/modules/preprocessing.html\n",
      "Please also refer to the documentation for alternative solver options:\n",
      "    https://scikit-learn.org/stable/modules/linear_model.html#logistic-regression\n",
      "  n_iter_i = _check_optimize_result(\n"
     ]
    },
    {
     "name": "stdout",
     "output_type": "stream",
     "text": [
      "[CV 1/5] END LR__C=3.158578947368421, LR__solver=lbfgs, SCL=None;, score=-0.431 total time=   0.1s\n",
      "[CV 2/5] END LR__C=3.158578947368421, LR__solver=lbfgs, SCL=None;, score=-0.440 total time=   0.1s\n"
     ]
    },
    {
     "name": "stderr",
     "output_type": "stream",
     "text": [
      "C:\\Users\\DAI.STUDENTSDC\\AppData\\Local\\anaconda3\\Lib\\site-packages\\sklearn\\linear_model\\_logistic.py:469: ConvergenceWarning: lbfgs failed to converge (status=1):\n",
      "STOP: TOTAL NO. of ITERATIONS REACHED LIMIT.\n",
      "\n",
      "Increase the number of iterations (max_iter) or scale the data as shown in:\n",
      "    https://scikit-learn.org/stable/modules/preprocessing.html\n",
      "Please also refer to the documentation for alternative solver options:\n",
      "    https://scikit-learn.org/stable/modules/linear_model.html#logistic-regression\n",
      "  n_iter_i = _check_optimize_result(\n",
      "C:\\Users\\DAI.STUDENTSDC\\AppData\\Local\\anaconda3\\Lib\\site-packages\\sklearn\\linear_model\\_logistic.py:469: ConvergenceWarning: lbfgs failed to converge (status=1):\n",
      "STOP: TOTAL NO. of ITERATIONS REACHED LIMIT.\n",
      "\n",
      "Increase the number of iterations (max_iter) or scale the data as shown in:\n",
      "    https://scikit-learn.org/stable/modules/preprocessing.html\n",
      "Please also refer to the documentation for alternative solver options:\n",
      "    https://scikit-learn.org/stable/modules/linear_model.html#logistic-regression\n",
      "  n_iter_i = _check_optimize_result(\n"
     ]
    },
    {
     "name": "stdout",
     "output_type": "stream",
     "text": [
      "[CV 3/5] END LR__C=3.158578947368421, LR__solver=lbfgs, SCL=None;, score=-0.428 total time=   0.1s\n",
      "[CV 4/5] END LR__C=3.158578947368421, LR__solver=lbfgs, SCL=None;, score=-0.434 total time=   0.1s\n"
     ]
    },
    {
     "name": "stderr",
     "output_type": "stream",
     "text": [
      "C:\\Users\\DAI.STUDENTSDC\\AppData\\Local\\anaconda3\\Lib\\site-packages\\sklearn\\linear_model\\_logistic.py:469: ConvergenceWarning: lbfgs failed to converge (status=1):\n",
      "STOP: TOTAL NO. of ITERATIONS REACHED LIMIT.\n",
      "\n",
      "Increase the number of iterations (max_iter) or scale the data as shown in:\n",
      "    https://scikit-learn.org/stable/modules/preprocessing.html\n",
      "Please also refer to the documentation for alternative solver options:\n",
      "    https://scikit-learn.org/stable/modules/linear_model.html#logistic-regression\n",
      "  n_iter_i = _check_optimize_result(\n"
     ]
    },
    {
     "name": "stdout",
     "output_type": "stream",
     "text": [
      "[CV 5/5] END LR__C=3.158578947368421, LR__solver=lbfgs, SCL=None;, score=-0.429 total time=   0.1s\n",
      "[CV 1/5] END LR__C=3.158578947368421, LR__solver=liblinear, SCL=MinMaxScaler();, score=-0.427 total time=   0.0s\n",
      "[CV 2/5] END LR__C=3.158578947368421, LR__solver=liblinear, SCL=MinMaxScaler();, score=-0.439 total time=   0.0s\n",
      "[CV 3/5] END LR__C=3.158578947368421, LR__solver=liblinear, SCL=MinMaxScaler();, score=-0.423 total time=   0.0s\n",
      "[CV 4/5] END LR__C=3.158578947368421, LR__solver=liblinear, SCL=MinMaxScaler();, score=-0.433 total time=   0.0s\n",
      "[CV 5/5] END LR__C=3.158578947368421, LR__solver=liblinear, SCL=MinMaxScaler();, score=-0.427 total time=   0.0s\n",
      "[CV 1/5] END LR__C=3.158578947368421, LR__solver=liblinear, SCL=StandardScaler();, score=-0.427 total time=   0.0s\n",
      "[CV 2/5] END LR__C=3.158578947368421, LR__solver=liblinear, SCL=StandardScaler();, score=-0.440 total time=   0.0s\n",
      "[CV 3/5] END LR__C=3.158578947368421, LR__solver=liblinear, SCL=StandardScaler();, score=-0.423 total time=   0.0s\n",
      "[CV 4/5] END LR__C=3.158578947368421, LR__solver=liblinear, SCL=StandardScaler();, score=-0.433 total time=   0.0s\n",
      "[CV 5/5] END LR__C=3.158578947368421, LR__solver=liblinear, SCL=StandardScaler();, score=-0.427 total time=   0.0s\n",
      "[CV 1/5] END LR__C=3.158578947368421, LR__solver=liblinear, SCL=None;, score=-0.427 total time=   0.0s\n",
      "[CV 2/5] END LR__C=3.158578947368421, LR__solver=liblinear, SCL=None;, score=-0.439 total time=   0.0s\n",
      "[CV 3/5] END LR__C=3.158578947368421, LR__solver=liblinear, SCL=None;, score=-0.423 total time=   0.0s\n",
      "[CV 4/5] END LR__C=3.158578947368421, LR__solver=liblinear, SCL=None;, score=-0.433 total time=   0.0s\n",
      "[CV 5/5] END LR__C=3.158578947368421, LR__solver=liblinear, SCL=None;, score=-0.427 total time=   0.0s\n",
      "[CV 1/5] END LR__C=3.158578947368421, LR__solver=newton-cg, SCL=MinMaxScaler();, score=-0.427 total time=   0.0s\n",
      "[CV 2/5] END LR__C=3.158578947368421, LR__solver=newton-cg, SCL=MinMaxScaler();, score=-0.439 total time=   0.0s\n",
      "[CV 3/5] END LR__C=3.158578947368421, LR__solver=newton-cg, SCL=MinMaxScaler();, score=-0.423 total time=   0.0s\n",
      "[CV 4/5] END LR__C=3.158578947368421, LR__solver=newton-cg, SCL=MinMaxScaler();, score=-0.433 total time=   0.0s\n",
      "[CV 5/5] END LR__C=3.158578947368421, LR__solver=newton-cg, SCL=MinMaxScaler();, score=-0.427 total time=   0.0s\n",
      "[CV 1/5] END LR__C=3.158578947368421, LR__solver=newton-cg, SCL=StandardScaler();, score=-0.427 total time=   0.0s\n",
      "[CV 2/5] END LR__C=3.158578947368421, LR__solver=newton-cg, SCL=StandardScaler();, score=-0.440 total time=   0.0s\n",
      "[CV 3/5] END LR__C=3.158578947368421, LR__solver=newton-cg, SCL=StandardScaler();, score=-0.423 total time=   0.0s\n",
      "[CV 4/5] END LR__C=3.158578947368421, LR__solver=newton-cg, SCL=StandardScaler();, score=-0.433 total time=   0.0s\n",
      "[CV 5/5] END LR__C=3.158578947368421, LR__solver=newton-cg, SCL=StandardScaler();, score=-0.427 total time=   0.0s\n",
      "[CV 1/5] END LR__C=3.158578947368421, LR__solver=newton-cg, SCL=None;, score=-0.427 total time=   0.2s\n",
      "[CV 2/5] END LR__C=3.158578947368421, LR__solver=newton-cg, SCL=None;, score=-0.439 total time=   0.1s\n",
      "[CV 3/5] END LR__C=3.158578947368421, LR__solver=newton-cg, SCL=None;, score=-0.423 total time=   0.1s\n",
      "[CV 4/5] END LR__C=3.158578947368421, LR__solver=newton-cg, SCL=None;, score=-0.433 total time=   0.1s\n",
      "[CV 5/5] END LR__C=3.158578947368421, LR__solver=newton-cg, SCL=None;, score=-0.427 total time=   0.1s\n",
      "[CV 1/5] END LR__C=3.158578947368421, LR__solver=newton-cholesky, SCL=MinMaxScaler();, score=-0.427 total time=   0.0s\n",
      "[CV 2/5] END LR__C=3.158578947368421, LR__solver=newton-cholesky, SCL=MinMaxScaler();, score=-0.439 total time=   0.0s\n",
      "[CV 3/5] END LR__C=3.158578947368421, LR__solver=newton-cholesky, SCL=MinMaxScaler();, score=-0.423 total time=   0.0s\n",
      "[CV 4/5] END LR__C=3.158578947368421, LR__solver=newton-cholesky, SCL=MinMaxScaler();, score=-0.433 total time=   0.0s\n",
      "[CV 5/5] END LR__C=3.158578947368421, LR__solver=newton-cholesky, SCL=MinMaxScaler();, score=-0.427 total time=   0.0s\n",
      "[CV 1/5] END LR__C=3.158578947368421, LR__solver=newton-cholesky, SCL=StandardScaler();, score=-0.427 total time=   0.0s\n",
      "[CV 2/5] END LR__C=3.158578947368421, LR__solver=newton-cholesky, SCL=StandardScaler();, score=-0.440 total time=   0.0s\n",
      "[CV 3/5] END LR__C=3.158578947368421, LR__solver=newton-cholesky, SCL=StandardScaler();, score=-0.423 total time=   0.0s\n",
      "[CV 4/5] END LR__C=3.158578947368421, LR__solver=newton-cholesky, SCL=StandardScaler();, score=-0.433 total time=   0.0s\n",
      "[CV 5/5] END LR__C=3.158578947368421, LR__solver=newton-cholesky, SCL=StandardScaler();, score=-0.427 total time=   0.0s\n",
      "[CV 1/5] END LR__C=3.158578947368421, LR__solver=newton-cholesky, SCL=None;, score=-0.427 total time=   0.0s\n",
      "[CV 2/5] END LR__C=3.158578947368421, LR__solver=newton-cholesky, SCL=None;, score=-0.439 total time=   0.0s\n",
      "[CV 3/5] END LR__C=3.158578947368421, LR__solver=newton-cholesky, SCL=None;, score=-0.423 total time=   0.0s\n",
      "[CV 4/5] END LR__C=3.158578947368421, LR__solver=newton-cholesky, SCL=None;, score=-0.433 total time=   0.0s\n",
      "[CV 5/5] END LR__C=3.158578947368421, LR__solver=newton-cholesky, SCL=None;, score=-0.427 total time=   0.0s\n",
      "[CV 1/5] END LR__C=3.158578947368421, LR__solver=sag, SCL=MinMaxScaler();, score=-0.427 total time=   0.1s\n",
      "[CV 2/5] END LR__C=3.158578947368421, LR__solver=sag, SCL=MinMaxScaler();, score=-0.439 total time=   0.1s\n",
      "[CV 3/5] END LR__C=3.158578947368421, LR__solver=sag, SCL=MinMaxScaler();, score=-0.423 total time=   0.1s\n",
      "[CV 4/5] END LR__C=3.158578947368421, LR__solver=sag, SCL=MinMaxScaler();, score=-0.433 total time=   0.1s\n",
      "[CV 5/5] END LR__C=3.158578947368421, LR__solver=sag, SCL=MinMaxScaler();, score=-0.427 total time=   0.1s\n",
      "[CV 1/5] END LR__C=3.158578947368421, LR__solver=sag, SCL=StandardScaler();, score=-0.427 total time=   0.1s\n",
      "[CV 2/5] END LR__C=3.158578947368421, LR__solver=sag, SCL=StandardScaler();, score=-0.440 total time=   0.1s\n",
      "[CV 3/5] END LR__C=3.158578947368421, LR__solver=sag, SCL=StandardScaler();, score=-0.423 total time=   0.1s\n",
      "[CV 4/5] END LR__C=3.158578947368421, LR__solver=sag, SCL=StandardScaler();, score=-0.433 total time=   0.1s\n",
      "[CV 5/5] END LR__C=3.158578947368421, LR__solver=sag, SCL=StandardScaler();, score=-0.427 total time=   0.1s\n"
     ]
    },
    {
     "name": "stderr",
     "output_type": "stream",
     "text": [
      "C:\\Users\\DAI.STUDENTSDC\\AppData\\Local\\anaconda3\\Lib\\site-packages\\sklearn\\linear_model\\_sag.py:349: ConvergenceWarning: The max_iter was reached which means the coef_ did not converge\n",
      "  warnings.warn(\n"
     ]
    },
    {
     "name": "stdout",
     "output_type": "stream",
     "text": [
      "[CV 1/5] END LR__C=3.158578947368421, LR__solver=sag, SCL=None;, score=-0.463 total time=   0.3s\n"
     ]
    },
    {
     "name": "stderr",
     "output_type": "stream",
     "text": [
      "C:\\Users\\DAI.STUDENTSDC\\AppData\\Local\\anaconda3\\Lib\\site-packages\\sklearn\\linear_model\\_sag.py:349: ConvergenceWarning: The max_iter was reached which means the coef_ did not converge\n",
      "  warnings.warn(\n"
     ]
    },
    {
     "name": "stdout",
     "output_type": "stream",
     "text": [
      "[CV 2/5] END LR__C=3.158578947368421, LR__solver=sag, SCL=None;, score=-0.471 total time=   0.4s\n"
     ]
    },
    {
     "name": "stderr",
     "output_type": "stream",
     "text": [
      "C:\\Users\\DAI.STUDENTSDC\\AppData\\Local\\anaconda3\\Lib\\site-packages\\sklearn\\linear_model\\_sag.py:349: ConvergenceWarning: The max_iter was reached which means the coef_ did not converge\n",
      "  warnings.warn(\n"
     ]
    },
    {
     "name": "stdout",
     "output_type": "stream",
     "text": [
      "[CV 3/5] END LR__C=3.158578947368421, LR__solver=sag, SCL=None;, score=-0.463 total time=   0.3s\n"
     ]
    },
    {
     "name": "stderr",
     "output_type": "stream",
     "text": [
      "C:\\Users\\DAI.STUDENTSDC\\AppData\\Local\\anaconda3\\Lib\\site-packages\\sklearn\\linear_model\\_sag.py:349: ConvergenceWarning: The max_iter was reached which means the coef_ did not converge\n",
      "  warnings.warn(\n"
     ]
    },
    {
     "name": "stdout",
     "output_type": "stream",
     "text": [
      "[CV 4/5] END LR__C=3.158578947368421, LR__solver=sag, SCL=None;, score=-0.465 total time=   0.3s\n"
     ]
    },
    {
     "name": "stderr",
     "output_type": "stream",
     "text": [
      "C:\\Users\\DAI.STUDENTSDC\\AppData\\Local\\anaconda3\\Lib\\site-packages\\sklearn\\linear_model\\_sag.py:349: ConvergenceWarning: The max_iter was reached which means the coef_ did not converge\n",
      "  warnings.warn(\n"
     ]
    },
    {
     "name": "stdout",
     "output_type": "stream",
     "text": [
      "[CV 5/5] END LR__C=3.158578947368421, LR__solver=sag, SCL=None;, score=-0.464 total time=   0.3s\n",
      "[CV 1/5] END LR__C=3.158578947368421, LR__solver=saga, SCL=MinMaxScaler();, score=-0.427 total time=   0.0s\n",
      "[CV 2/5] END LR__C=3.158578947368421, LR__solver=saga, SCL=MinMaxScaler();, score=-0.439 total time=   0.0s\n",
      "[CV 3/5] END LR__C=3.158578947368421, LR__solver=saga, SCL=MinMaxScaler();, score=-0.423 total time=   0.0s\n",
      "[CV 4/5] END LR__C=3.158578947368421, LR__solver=saga, SCL=MinMaxScaler();, score=-0.433 total time=   0.0s\n",
      "[CV 5/5] END LR__C=3.158578947368421, LR__solver=saga, SCL=MinMaxScaler();, score=-0.427 total time=   0.0s\n",
      "[CV 1/5] END LR__C=3.158578947368421, LR__solver=saga, SCL=StandardScaler();, score=-0.427 total time=   0.0s\n",
      "[CV 2/5] END LR__C=3.158578947368421, LR__solver=saga, SCL=StandardScaler();, score=-0.440 total time=   0.0s\n",
      "[CV 3/5] END LR__C=3.158578947368421, LR__solver=saga, SCL=StandardScaler();, score=-0.423 total time=   0.0s\n",
      "[CV 4/5] END LR__C=3.158578947368421, LR__solver=saga, SCL=StandardScaler();, score=-0.433 total time=   0.0s\n",
      "[CV 5/5] END LR__C=3.158578947368421, LR__solver=saga, SCL=StandardScaler();, score=-0.427 total time=   0.0s\n"
     ]
    },
    {
     "name": "stderr",
     "output_type": "stream",
     "text": [
      "C:\\Users\\DAI.STUDENTSDC\\AppData\\Local\\anaconda3\\Lib\\site-packages\\sklearn\\linear_model\\_sag.py:349: ConvergenceWarning: The max_iter was reached which means the coef_ did not converge\n",
      "  warnings.warn(\n"
     ]
    },
    {
     "name": "stdout",
     "output_type": "stream",
     "text": [
      "[CV 1/5] END LR__C=3.158578947368421, LR__solver=saga, SCL=None;, score=-0.490 total time=   0.4s\n"
     ]
    },
    {
     "name": "stderr",
     "output_type": "stream",
     "text": [
      "C:\\Users\\DAI.STUDENTSDC\\AppData\\Local\\anaconda3\\Lib\\site-packages\\sklearn\\linear_model\\_sag.py:349: ConvergenceWarning: The max_iter was reached which means the coef_ did not converge\n",
      "  warnings.warn(\n"
     ]
    },
    {
     "name": "stdout",
     "output_type": "stream",
     "text": [
      "[CV 2/5] END LR__C=3.158578947368421, LR__solver=saga, SCL=None;, score=-0.494 total time=   0.4s\n"
     ]
    },
    {
     "name": "stderr",
     "output_type": "stream",
     "text": [
      "C:\\Users\\DAI.STUDENTSDC\\AppData\\Local\\anaconda3\\Lib\\site-packages\\sklearn\\linear_model\\_sag.py:349: ConvergenceWarning: The max_iter was reached which means the coef_ did not converge\n",
      "  warnings.warn(\n"
     ]
    },
    {
     "name": "stdout",
     "output_type": "stream",
     "text": [
      "[CV 3/5] END LR__C=3.158578947368421, LR__solver=saga, SCL=None;, score=-0.488 total time=   0.3s\n"
     ]
    },
    {
     "name": "stderr",
     "output_type": "stream",
     "text": [
      "C:\\Users\\DAI.STUDENTSDC\\AppData\\Local\\anaconda3\\Lib\\site-packages\\sklearn\\linear_model\\_sag.py:349: ConvergenceWarning: The max_iter was reached which means the coef_ did not converge\n",
      "  warnings.warn(\n"
     ]
    },
    {
     "name": "stdout",
     "output_type": "stream",
     "text": [
      "[CV 4/5] END LR__C=3.158578947368421, LR__solver=saga, SCL=None;, score=-0.489 total time=   0.4s\n"
     ]
    },
    {
     "name": "stderr",
     "output_type": "stream",
     "text": [
      "C:\\Users\\DAI.STUDENTSDC\\AppData\\Local\\anaconda3\\Lib\\site-packages\\sklearn\\linear_model\\_sag.py:349: ConvergenceWarning: The max_iter was reached which means the coef_ did not converge\n",
      "  warnings.warn(\n"
     ]
    },
    {
     "name": "stdout",
     "output_type": "stream",
     "text": [
      "[CV 5/5] END LR__C=3.158578947368421, LR__solver=saga, SCL=None;, score=-0.490 total time=   0.4s\n",
      "[CV 1/5] END LR__C=3.684842105263158, LR__solver=lbfgs, SCL=MinMaxScaler();, score=-0.427 total time=   0.0s\n",
      "[CV 2/5] END LR__C=3.684842105263158, LR__solver=lbfgs, SCL=MinMaxScaler();, score=-0.439 total time=   0.0s\n",
      "[CV 3/5] END LR__C=3.684842105263158, LR__solver=lbfgs, SCL=MinMaxScaler();, score=-0.423 total time=   0.0s\n",
      "[CV 4/5] END LR__C=3.684842105263158, LR__solver=lbfgs, SCL=MinMaxScaler();, score=-0.433 total time=   0.0s\n",
      "[CV 5/5] END LR__C=3.684842105263158, LR__solver=lbfgs, SCL=MinMaxScaler();, score=-0.427 total time=   0.0s\n",
      "[CV 1/5] END LR__C=3.684842105263158, LR__solver=lbfgs, SCL=StandardScaler();, score=-0.427 total time=   0.0s\n",
      "[CV 2/5] END LR__C=3.684842105263158, LR__solver=lbfgs, SCL=StandardScaler();, score=-0.440 total time=   0.0s\n",
      "[CV 3/5] END LR__C=3.684842105263158, LR__solver=lbfgs, SCL=StandardScaler();, score=-0.423 total time=   0.0s\n",
      "[CV 4/5] END LR__C=3.684842105263158, LR__solver=lbfgs, SCL=StandardScaler();, score=-0.433 total time=   0.0s\n",
      "[CV 5/5] END LR__C=3.684842105263158, LR__solver=lbfgs, SCL=StandardScaler();, score=-0.427 total time=   0.0s\n",
      "[CV 1/5] END LR__C=3.684842105263158, LR__solver=lbfgs, SCL=None;, score=-0.431 total time=   0.1s\n"
     ]
    },
    {
     "name": "stderr",
     "output_type": "stream",
     "text": [
      "C:\\Users\\DAI.STUDENTSDC\\AppData\\Local\\anaconda3\\Lib\\site-packages\\sklearn\\linear_model\\_logistic.py:469: ConvergenceWarning: lbfgs failed to converge (status=1):\n",
      "STOP: TOTAL NO. of ITERATIONS REACHED LIMIT.\n",
      "\n",
      "Increase the number of iterations (max_iter) or scale the data as shown in:\n",
      "    https://scikit-learn.org/stable/modules/preprocessing.html\n",
      "Please also refer to the documentation for alternative solver options:\n",
      "    https://scikit-learn.org/stable/modules/linear_model.html#logistic-regression\n",
      "  n_iter_i = _check_optimize_result(\n",
      "C:\\Users\\DAI.STUDENTSDC\\AppData\\Local\\anaconda3\\Lib\\site-packages\\sklearn\\linear_model\\_logistic.py:469: ConvergenceWarning: lbfgs failed to converge (status=1):\n",
      "STOP: TOTAL NO. of ITERATIONS REACHED LIMIT.\n",
      "\n",
      "Increase the number of iterations (max_iter) or scale the data as shown in:\n",
      "    https://scikit-learn.org/stable/modules/preprocessing.html\n",
      "Please also refer to the documentation for alternative solver options:\n",
      "    https://scikit-learn.org/stable/modules/linear_model.html#logistic-regression\n",
      "  n_iter_i = _check_optimize_result(\n"
     ]
    },
    {
     "name": "stdout",
     "output_type": "stream",
     "text": [
      "[CV 2/5] END LR__C=3.684842105263158, LR__solver=lbfgs, SCL=None;, score=-0.440 total time=   0.1s\n"
     ]
    },
    {
     "name": "stderr",
     "output_type": "stream",
     "text": [
      "C:\\Users\\DAI.STUDENTSDC\\AppData\\Local\\anaconda3\\Lib\\site-packages\\sklearn\\linear_model\\_logistic.py:469: ConvergenceWarning: lbfgs failed to converge (status=1):\n",
      "STOP: TOTAL NO. of ITERATIONS REACHED LIMIT.\n",
      "\n",
      "Increase the number of iterations (max_iter) or scale the data as shown in:\n",
      "    https://scikit-learn.org/stable/modules/preprocessing.html\n",
      "Please also refer to the documentation for alternative solver options:\n",
      "    https://scikit-learn.org/stable/modules/linear_model.html#logistic-regression\n",
      "  n_iter_i = _check_optimize_result(\n",
      "C:\\Users\\DAI.STUDENTSDC\\AppData\\Local\\anaconda3\\Lib\\site-packages\\sklearn\\linear_model\\_logistic.py:469: ConvergenceWarning: lbfgs failed to converge (status=1):\n",
      "STOP: TOTAL NO. of ITERATIONS REACHED LIMIT.\n",
      "\n",
      "Increase the number of iterations (max_iter) or scale the data as shown in:\n",
      "    https://scikit-learn.org/stable/modules/preprocessing.html\n",
      "Please also refer to the documentation for alternative solver options:\n",
      "    https://scikit-learn.org/stable/modules/linear_model.html#logistic-regression\n",
      "  n_iter_i = _check_optimize_result(\n"
     ]
    },
    {
     "name": "stdout",
     "output_type": "stream",
     "text": [
      "[CV 3/5] END LR__C=3.684842105263158, LR__solver=lbfgs, SCL=None;, score=-0.426 total time=   0.1s\n",
      "[CV 4/5] END LR__C=3.684842105263158, LR__solver=lbfgs, SCL=None;, score=-0.434 total time=   0.1s\n",
      "[CV 5/5] END LR__C=3.684842105263158, LR__solver=lbfgs, SCL=None;, score=-0.429 total time=   0.1s\n"
     ]
    },
    {
     "name": "stderr",
     "output_type": "stream",
     "text": [
      "C:\\Users\\DAI.STUDENTSDC\\AppData\\Local\\anaconda3\\Lib\\site-packages\\sklearn\\linear_model\\_logistic.py:469: ConvergenceWarning: lbfgs failed to converge (status=1):\n",
      "STOP: TOTAL NO. of ITERATIONS REACHED LIMIT.\n",
      "\n",
      "Increase the number of iterations (max_iter) or scale the data as shown in:\n",
      "    https://scikit-learn.org/stable/modules/preprocessing.html\n",
      "Please also refer to the documentation for alternative solver options:\n",
      "    https://scikit-learn.org/stable/modules/linear_model.html#logistic-regression\n",
      "  n_iter_i = _check_optimize_result(\n"
     ]
    },
    {
     "name": "stdout",
     "output_type": "stream",
     "text": [
      "[CV 1/5] END LR__C=3.684842105263158, LR__solver=liblinear, SCL=MinMaxScaler();, score=-0.427 total time=   0.0s\n",
      "[CV 2/5] END LR__C=3.684842105263158, LR__solver=liblinear, SCL=MinMaxScaler();, score=-0.439 total time=   0.0s\n",
      "[CV 3/5] END LR__C=3.684842105263158, LR__solver=liblinear, SCL=MinMaxScaler();, score=-0.423 total time=   0.0s\n",
      "[CV 4/5] END LR__C=3.684842105263158, LR__solver=liblinear, SCL=MinMaxScaler();, score=-0.433 total time=   0.0s\n",
      "[CV 5/5] END LR__C=3.684842105263158, LR__solver=liblinear, SCL=MinMaxScaler();, score=-0.427 total time=   0.0s\n",
      "[CV 1/5] END LR__C=3.684842105263158, LR__solver=liblinear, SCL=StandardScaler();, score=-0.427 total time=   0.0s\n",
      "[CV 2/5] END LR__C=3.684842105263158, LR__solver=liblinear, SCL=StandardScaler();, score=-0.440 total time=   0.0s\n",
      "[CV 3/5] END LR__C=3.684842105263158, LR__solver=liblinear, SCL=StandardScaler();, score=-0.423 total time=   0.0s\n",
      "[CV 4/5] END LR__C=3.684842105263158, LR__solver=liblinear, SCL=StandardScaler();, score=-0.433 total time=   0.0s\n",
      "[CV 5/5] END LR__C=3.684842105263158, LR__solver=liblinear, SCL=StandardScaler();, score=-0.427 total time=   0.0s\n",
      "[CV 1/5] END LR__C=3.684842105263158, LR__solver=liblinear, SCL=None;, score=-0.427 total time=   0.0s\n",
      "[CV 2/5] END LR__C=3.684842105263158, LR__solver=liblinear, SCL=None;, score=-0.439 total time=   0.0s\n",
      "[CV 3/5] END LR__C=3.684842105263158, LR__solver=liblinear, SCL=None;, score=-0.423 total time=   0.0s\n",
      "[CV 4/5] END LR__C=3.684842105263158, LR__solver=liblinear, SCL=None;, score=-0.433 total time=   0.0s\n",
      "[CV 5/5] END LR__C=3.684842105263158, LR__solver=liblinear, SCL=None;, score=-0.427 total time=   0.0s\n",
      "[CV 1/5] END LR__C=3.684842105263158, LR__solver=newton-cg, SCL=MinMaxScaler();, score=-0.427 total time=   0.0s\n",
      "[CV 2/5] END LR__C=3.684842105263158, LR__solver=newton-cg, SCL=MinMaxScaler();, score=-0.439 total time=   0.0s\n",
      "[CV 3/5] END LR__C=3.684842105263158, LR__solver=newton-cg, SCL=MinMaxScaler();, score=-0.423 total time=   0.0s\n",
      "[CV 4/5] END LR__C=3.684842105263158, LR__solver=newton-cg, SCL=MinMaxScaler();, score=-0.433 total time=   0.0s\n",
      "[CV 5/5] END LR__C=3.684842105263158, LR__solver=newton-cg, SCL=MinMaxScaler();, score=-0.427 total time=   0.0s\n",
      "[CV 1/5] END LR__C=3.684842105263158, LR__solver=newton-cg, SCL=StandardScaler();, score=-0.427 total time=   0.0s\n",
      "[CV 2/5] END LR__C=3.684842105263158, LR__solver=newton-cg, SCL=StandardScaler();, score=-0.440 total time=   0.0s\n",
      "[CV 3/5] END LR__C=3.684842105263158, LR__solver=newton-cg, SCL=StandardScaler();, score=-0.423 total time=   0.0s\n",
      "[CV 4/5] END LR__C=3.684842105263158, LR__solver=newton-cg, SCL=StandardScaler();, score=-0.433 total time=   0.0s\n",
      "[CV 5/5] END LR__C=3.684842105263158, LR__solver=newton-cg, SCL=StandardScaler();, score=-0.427 total time=   0.0s\n",
      "[CV 1/5] END LR__C=3.684842105263158, LR__solver=newton-cg, SCL=None;, score=-0.427 total time=   0.1s\n",
      "[CV 2/5] END LR__C=3.684842105263158, LR__solver=newton-cg, SCL=None;, score=-0.439 total time=   0.2s\n",
      "[CV 3/5] END LR__C=3.684842105263158, LR__solver=newton-cg, SCL=None;, score=-0.423 total time=   0.2s\n",
      "[CV 4/5] END LR__C=3.684842105263158, LR__solver=newton-cg, SCL=None;, score=-0.433 total time=   0.1s\n",
      "[CV 5/5] END LR__C=3.684842105263158, LR__solver=newton-cg, SCL=None;, score=-0.427 total time=   0.2s\n",
      "[CV 1/5] END LR__C=3.684842105263158, LR__solver=newton-cholesky, SCL=MinMaxScaler();, score=-0.427 total time=   0.0s\n",
      "[CV 2/5] END LR__C=3.684842105263158, LR__solver=newton-cholesky, SCL=MinMaxScaler();, score=-0.439 total time=   0.0s\n",
      "[CV 3/5] END LR__C=3.684842105263158, LR__solver=newton-cholesky, SCL=MinMaxScaler();, score=-0.423 total time=   0.0s\n",
      "[CV 4/5] END LR__C=3.684842105263158, LR__solver=newton-cholesky, SCL=MinMaxScaler();, score=-0.433 total time=   0.0s\n",
      "[CV 5/5] END LR__C=3.684842105263158, LR__solver=newton-cholesky, SCL=MinMaxScaler();, score=-0.427 total time=   0.0s\n",
      "[CV 1/5] END LR__C=3.684842105263158, LR__solver=newton-cholesky, SCL=StandardScaler();, score=-0.427 total time=   0.0s\n",
      "[CV 2/5] END LR__C=3.684842105263158, LR__solver=newton-cholesky, SCL=StandardScaler();, score=-0.440 total time=   0.0s\n",
      "[CV 3/5] END LR__C=3.684842105263158, LR__solver=newton-cholesky, SCL=StandardScaler();, score=-0.423 total time=   0.0s\n",
      "[CV 4/5] END LR__C=3.684842105263158, LR__solver=newton-cholesky, SCL=StandardScaler();, score=-0.433 total time=   0.0s\n",
      "[CV 5/5] END LR__C=3.684842105263158, LR__solver=newton-cholesky, SCL=StandardScaler();, score=-0.427 total time=   0.0s\n",
      "[CV 1/5] END LR__C=3.684842105263158, LR__solver=newton-cholesky, SCL=None;, score=-0.427 total time=   0.0s\n",
      "[CV 2/5] END LR__C=3.684842105263158, LR__solver=newton-cholesky, SCL=None;, score=-0.439 total time=   0.0s\n",
      "[CV 3/5] END LR__C=3.684842105263158, LR__solver=newton-cholesky, SCL=None;, score=-0.423 total time=   0.0s\n",
      "[CV 4/5] END LR__C=3.684842105263158, LR__solver=newton-cholesky, SCL=None;, score=-0.433 total time=   0.0s\n",
      "[CV 5/5] END LR__C=3.684842105263158, LR__solver=newton-cholesky, SCL=None;, score=-0.427 total time=   0.0s\n",
      "[CV 1/5] END LR__C=3.684842105263158, LR__solver=sag, SCL=MinMaxScaler();, score=-0.427 total time=   0.1s\n",
      "[CV 2/5] END LR__C=3.684842105263158, LR__solver=sag, SCL=MinMaxScaler();, score=-0.439 total time=   0.1s\n",
      "[CV 3/5] END LR__C=3.684842105263158, LR__solver=sag, SCL=MinMaxScaler();, score=-0.423 total time=   0.1s\n",
      "[CV 4/5] END LR__C=3.684842105263158, LR__solver=sag, SCL=MinMaxScaler();, score=-0.433 total time=   0.1s\n",
      "[CV 5/5] END LR__C=3.684842105263158, LR__solver=sag, SCL=MinMaxScaler();, score=-0.427 total time=   0.1s\n",
      "[CV 1/5] END LR__C=3.684842105263158, LR__solver=sag, SCL=StandardScaler();, score=-0.427 total time=   0.1s\n",
      "[CV 2/5] END LR__C=3.684842105263158, LR__solver=sag, SCL=StandardScaler();, score=-0.440 total time=   0.1s\n",
      "[CV 3/5] END LR__C=3.684842105263158, LR__solver=sag, SCL=StandardScaler();, score=-0.423 total time=   0.1s\n",
      "[CV 4/5] END LR__C=3.684842105263158, LR__solver=sag, SCL=StandardScaler();, score=-0.433 total time=   0.1s\n",
      "[CV 5/5] END LR__C=3.684842105263158, LR__solver=sag, SCL=StandardScaler();, score=-0.427 total time=   0.1s\n"
     ]
    },
    {
     "name": "stderr",
     "output_type": "stream",
     "text": [
      "C:\\Users\\DAI.STUDENTSDC\\AppData\\Local\\anaconda3\\Lib\\site-packages\\sklearn\\linear_model\\_sag.py:349: ConvergenceWarning: The max_iter was reached which means the coef_ did not converge\n",
      "  warnings.warn(\n"
     ]
    },
    {
     "name": "stdout",
     "output_type": "stream",
     "text": [
      "[CV 1/5] END LR__C=3.684842105263158, LR__solver=sag, SCL=None;, score=-0.463 total time=   0.3s\n"
     ]
    },
    {
     "name": "stderr",
     "output_type": "stream",
     "text": [
      "C:\\Users\\DAI.STUDENTSDC\\AppData\\Local\\anaconda3\\Lib\\site-packages\\sklearn\\linear_model\\_sag.py:349: ConvergenceWarning: The max_iter was reached which means the coef_ did not converge\n",
      "  warnings.warn(\n"
     ]
    },
    {
     "name": "stdout",
     "output_type": "stream",
     "text": [
      "[CV 2/5] END LR__C=3.684842105263158, LR__solver=sag, SCL=None;, score=-0.471 total time=   0.4s\n"
     ]
    },
    {
     "name": "stderr",
     "output_type": "stream",
     "text": [
      "C:\\Users\\DAI.STUDENTSDC\\AppData\\Local\\anaconda3\\Lib\\site-packages\\sklearn\\linear_model\\_sag.py:349: ConvergenceWarning: The max_iter was reached which means the coef_ did not converge\n",
      "  warnings.warn(\n"
     ]
    },
    {
     "name": "stdout",
     "output_type": "stream",
     "text": [
      "[CV 3/5] END LR__C=3.684842105263158, LR__solver=sag, SCL=None;, score=-0.463 total time=   0.3s\n"
     ]
    },
    {
     "name": "stderr",
     "output_type": "stream",
     "text": [
      "C:\\Users\\DAI.STUDENTSDC\\AppData\\Local\\anaconda3\\Lib\\site-packages\\sklearn\\linear_model\\_sag.py:349: ConvergenceWarning: The max_iter was reached which means the coef_ did not converge\n",
      "  warnings.warn(\n"
     ]
    },
    {
     "name": "stdout",
     "output_type": "stream",
     "text": [
      "[CV 4/5] END LR__C=3.684842105263158, LR__solver=sag, SCL=None;, score=-0.465 total time=   0.3s\n"
     ]
    },
    {
     "name": "stderr",
     "output_type": "stream",
     "text": [
      "C:\\Users\\DAI.STUDENTSDC\\AppData\\Local\\anaconda3\\Lib\\site-packages\\sklearn\\linear_model\\_sag.py:349: ConvergenceWarning: The max_iter was reached which means the coef_ did not converge\n",
      "  warnings.warn(\n"
     ]
    },
    {
     "name": "stdout",
     "output_type": "stream",
     "text": [
      "[CV 5/5] END LR__C=3.684842105263158, LR__solver=sag, SCL=None;, score=-0.464 total time=   0.4s\n",
      "[CV 1/5] END LR__C=3.684842105263158, LR__solver=saga, SCL=MinMaxScaler();, score=-0.427 total time=   0.0s\n",
      "[CV 2/5] END LR__C=3.684842105263158, LR__solver=saga, SCL=MinMaxScaler();, score=-0.439 total time=   0.1s\n",
      "[CV 3/5] END LR__C=3.684842105263158, LR__solver=saga, SCL=MinMaxScaler();, score=-0.423 total time=   0.0s\n",
      "[CV 4/5] END LR__C=3.684842105263158, LR__solver=saga, SCL=MinMaxScaler();, score=-0.433 total time=   0.0s\n",
      "[CV 5/5] END LR__C=3.684842105263158, LR__solver=saga, SCL=MinMaxScaler();, score=-0.427 total time=   0.0s\n",
      "[CV 1/5] END LR__C=3.684842105263158, LR__solver=saga, SCL=StandardScaler();, score=-0.427 total time=   0.0s\n",
      "[CV 2/5] END LR__C=3.684842105263158, LR__solver=saga, SCL=StandardScaler();, score=-0.440 total time=   0.0s\n",
      "[CV 3/5] END LR__C=3.684842105263158, LR__solver=saga, SCL=StandardScaler();, score=-0.423 total time=   0.0s\n",
      "[CV 4/5] END LR__C=3.684842105263158, LR__solver=saga, SCL=StandardScaler();, score=-0.433 total time=   0.0s\n",
      "[CV 5/5] END LR__C=3.684842105263158, LR__solver=saga, SCL=StandardScaler();, score=-0.427 total time=   0.0s\n"
     ]
    },
    {
     "name": "stderr",
     "output_type": "stream",
     "text": [
      "C:\\Users\\DAI.STUDENTSDC\\AppData\\Local\\anaconda3\\Lib\\site-packages\\sklearn\\linear_model\\_sag.py:349: ConvergenceWarning: The max_iter was reached which means the coef_ did not converge\n",
      "  warnings.warn(\n"
     ]
    },
    {
     "name": "stdout",
     "output_type": "stream",
     "text": [
      "[CV 1/5] END LR__C=3.684842105263158, LR__solver=saga, SCL=None;, score=-0.490 total time=   0.4s\n"
     ]
    },
    {
     "name": "stderr",
     "output_type": "stream",
     "text": [
      "C:\\Users\\DAI.STUDENTSDC\\AppData\\Local\\anaconda3\\Lib\\site-packages\\sklearn\\linear_model\\_sag.py:349: ConvergenceWarning: The max_iter was reached which means the coef_ did not converge\n",
      "  warnings.warn(\n"
     ]
    },
    {
     "name": "stdout",
     "output_type": "stream",
     "text": [
      "[CV 2/5] END LR__C=3.684842105263158, LR__solver=saga, SCL=None;, score=-0.494 total time=   0.4s\n"
     ]
    },
    {
     "name": "stderr",
     "output_type": "stream",
     "text": [
      "C:\\Users\\DAI.STUDENTSDC\\AppData\\Local\\anaconda3\\Lib\\site-packages\\sklearn\\linear_model\\_sag.py:349: ConvergenceWarning: The max_iter was reached which means the coef_ did not converge\n",
      "  warnings.warn(\n"
     ]
    },
    {
     "name": "stdout",
     "output_type": "stream",
     "text": [
      "[CV 3/5] END LR__C=3.684842105263158, LR__solver=saga, SCL=None;, score=-0.488 total time=   0.4s\n"
     ]
    },
    {
     "name": "stderr",
     "output_type": "stream",
     "text": [
      "C:\\Users\\DAI.STUDENTSDC\\AppData\\Local\\anaconda3\\Lib\\site-packages\\sklearn\\linear_model\\_sag.py:349: ConvergenceWarning: The max_iter was reached which means the coef_ did not converge\n",
      "  warnings.warn(\n"
     ]
    },
    {
     "name": "stdout",
     "output_type": "stream",
     "text": [
      "[CV 4/5] END LR__C=3.684842105263158, LR__solver=saga, SCL=None;, score=-0.489 total time=   0.4s\n"
     ]
    },
    {
     "name": "stderr",
     "output_type": "stream",
     "text": [
      "C:\\Users\\DAI.STUDENTSDC\\AppData\\Local\\anaconda3\\Lib\\site-packages\\sklearn\\linear_model\\_sag.py:349: ConvergenceWarning: The max_iter was reached which means the coef_ did not converge\n",
      "  warnings.warn(\n"
     ]
    },
    {
     "name": "stdout",
     "output_type": "stream",
     "text": [
      "[CV 5/5] END LR__C=3.684842105263158, LR__solver=saga, SCL=None;, score=-0.490 total time=   0.4s\n",
      "[CV 1/5] END LR__C=4.211105263157895, LR__solver=lbfgs, SCL=MinMaxScaler();, score=-0.427 total time=   0.0s\n",
      "[CV 2/5] END LR__C=4.211105263157895, LR__solver=lbfgs, SCL=MinMaxScaler();, score=-0.439 total time=   0.0s\n",
      "[CV 3/5] END LR__C=4.211105263157895, LR__solver=lbfgs, SCL=MinMaxScaler();, score=-0.423 total time=   0.0s\n",
      "[CV 4/5] END LR__C=4.211105263157895, LR__solver=lbfgs, SCL=MinMaxScaler();, score=-0.433 total time=   0.0s\n",
      "[CV 5/5] END LR__C=4.211105263157895, LR__solver=lbfgs, SCL=MinMaxScaler();, score=-0.427 total time=   0.0s\n",
      "[CV 1/5] END LR__C=4.211105263157895, LR__solver=lbfgs, SCL=StandardScaler();, score=-0.427 total time=   0.0s\n",
      "[CV 2/5] END LR__C=4.211105263157895, LR__solver=lbfgs, SCL=StandardScaler();, score=-0.440 total time=   0.0s\n",
      "[CV 3/5] END LR__C=4.211105263157895, LR__solver=lbfgs, SCL=StandardScaler();, score=-0.423 total time=   0.0s\n",
      "[CV 4/5] END LR__C=4.211105263157895, LR__solver=lbfgs, SCL=StandardScaler();, score=-0.433 total time=   0.0s\n",
      "[CV 5/5] END LR__C=4.211105263157895, LR__solver=lbfgs, SCL=StandardScaler();, score=-0.427 total time=   0.0s\n",
      "[CV 1/5] END LR__C=4.211105263157895, LR__solver=lbfgs, SCL=None;, score=-0.429 total time=   0.1s\n"
     ]
    },
    {
     "name": "stderr",
     "output_type": "stream",
     "text": [
      "C:\\Users\\DAI.STUDENTSDC\\AppData\\Local\\anaconda3\\Lib\\site-packages\\sklearn\\linear_model\\_logistic.py:469: ConvergenceWarning: lbfgs failed to converge (status=1):\n",
      "STOP: TOTAL NO. of ITERATIONS REACHED LIMIT.\n",
      "\n",
      "Increase the number of iterations (max_iter) or scale the data as shown in:\n",
      "    https://scikit-learn.org/stable/modules/preprocessing.html\n",
      "Please also refer to the documentation for alternative solver options:\n",
      "    https://scikit-learn.org/stable/modules/linear_model.html#logistic-regression\n",
      "  n_iter_i = _check_optimize_result(\n",
      "C:\\Users\\DAI.STUDENTSDC\\AppData\\Local\\anaconda3\\Lib\\site-packages\\sklearn\\linear_model\\_logistic.py:469: ConvergenceWarning: lbfgs failed to converge (status=1):\n",
      "STOP: TOTAL NO. of ITERATIONS REACHED LIMIT.\n",
      "\n",
      "Increase the number of iterations (max_iter) or scale the data as shown in:\n",
      "    https://scikit-learn.org/stable/modules/preprocessing.html\n",
      "Please also refer to the documentation for alternative solver options:\n",
      "    https://scikit-learn.org/stable/modules/linear_model.html#logistic-regression\n",
      "  n_iter_i = _check_optimize_result(\n"
     ]
    },
    {
     "name": "stdout",
     "output_type": "stream",
     "text": [
      "[CV 2/5] END LR__C=4.211105263157895, LR__solver=lbfgs, SCL=None;, score=-0.440 total time=   0.1s\n",
      "[CV 3/5] END LR__C=4.211105263157895, LR__solver=lbfgs, SCL=None;, score=-0.425 total time=   0.1s\n"
     ]
    },
    {
     "name": "stderr",
     "output_type": "stream",
     "text": [
      "C:\\Users\\DAI.STUDENTSDC\\AppData\\Local\\anaconda3\\Lib\\site-packages\\sklearn\\linear_model\\_logistic.py:469: ConvergenceWarning: lbfgs failed to converge (status=1):\n",
      "STOP: TOTAL NO. of ITERATIONS REACHED LIMIT.\n",
      "\n",
      "Increase the number of iterations (max_iter) or scale the data as shown in:\n",
      "    https://scikit-learn.org/stable/modules/preprocessing.html\n",
      "Please also refer to the documentation for alternative solver options:\n",
      "    https://scikit-learn.org/stable/modules/linear_model.html#logistic-regression\n",
      "  n_iter_i = _check_optimize_result(\n",
      "C:\\Users\\DAI.STUDENTSDC\\AppData\\Local\\anaconda3\\Lib\\site-packages\\sklearn\\linear_model\\_logistic.py:469: ConvergenceWarning: lbfgs failed to converge (status=1):\n",
      "STOP: TOTAL NO. of ITERATIONS REACHED LIMIT.\n",
      "\n",
      "Increase the number of iterations (max_iter) or scale the data as shown in:\n",
      "    https://scikit-learn.org/stable/modules/preprocessing.html\n",
      "Please also refer to the documentation for alternative solver options:\n",
      "    https://scikit-learn.org/stable/modules/linear_model.html#logistic-regression\n",
      "  n_iter_i = _check_optimize_result(\n",
      "C:\\Users\\DAI.STUDENTSDC\\AppData\\Local\\anaconda3\\Lib\\site-packages\\sklearn\\linear_model\\_logistic.py:469: ConvergenceWarning: lbfgs failed to converge (status=1):\n",
      "STOP: TOTAL NO. of ITERATIONS REACHED LIMIT.\n",
      "\n",
      "Increase the number of iterations (max_iter) or scale the data as shown in:\n",
      "    https://scikit-learn.org/stable/modules/preprocessing.html\n",
      "Please also refer to the documentation for alternative solver options:\n",
      "    https://scikit-learn.org/stable/modules/linear_model.html#logistic-regression\n",
      "  n_iter_i = _check_optimize_result(\n"
     ]
    },
    {
     "name": "stdout",
     "output_type": "stream",
     "text": [
      "[CV 4/5] END LR__C=4.211105263157895, LR__solver=lbfgs, SCL=None;, score=-0.433 total time=   0.1s\n",
      "[CV 5/5] END LR__C=4.211105263157895, LR__solver=lbfgs, SCL=None;, score=-0.428 total time=   0.1s\n",
      "[CV 1/5] END LR__C=4.211105263157895, LR__solver=liblinear, SCL=MinMaxScaler();, score=-0.427 total time=   0.0s\n",
      "[CV 2/5] END LR__C=4.211105263157895, LR__solver=liblinear, SCL=MinMaxScaler();, score=-0.439 total time=   0.0s\n",
      "[CV 3/5] END LR__C=4.211105263157895, LR__solver=liblinear, SCL=MinMaxScaler();, score=-0.423 total time=   0.0s\n",
      "[CV 4/5] END LR__C=4.211105263157895, LR__solver=liblinear, SCL=MinMaxScaler();, score=-0.433 total time=   0.0s\n",
      "[CV 5/5] END LR__C=4.211105263157895, LR__solver=liblinear, SCL=MinMaxScaler();, score=-0.427 total time=   0.0s\n",
      "[CV 1/5] END LR__C=4.211105263157895, LR__solver=liblinear, SCL=StandardScaler();, score=-0.427 total time=   0.0s\n",
      "[CV 2/5] END LR__C=4.211105263157895, LR__solver=liblinear, SCL=StandardScaler();, score=-0.440 total time=   0.0s\n",
      "[CV 3/5] END LR__C=4.211105263157895, LR__solver=liblinear, SCL=StandardScaler();, score=-0.423 total time=   0.0s\n",
      "[CV 4/5] END LR__C=4.211105263157895, LR__solver=liblinear, SCL=StandardScaler();, score=-0.433 total time=   0.0s\n",
      "[CV 5/5] END LR__C=4.211105263157895, LR__solver=liblinear, SCL=StandardScaler();, score=-0.427 total time=   0.0s\n",
      "[CV 1/5] END LR__C=4.211105263157895, LR__solver=liblinear, SCL=None;, score=-0.427 total time=   0.0s\n",
      "[CV 2/5] END LR__C=4.211105263157895, LR__solver=liblinear, SCL=None;, score=-0.439 total time=   0.0s\n",
      "[CV 3/5] END LR__C=4.211105263157895, LR__solver=liblinear, SCL=None;, score=-0.423 total time=   0.0s\n",
      "[CV 4/5] END LR__C=4.211105263157895, LR__solver=liblinear, SCL=None;, score=-0.433 total time=   0.0s\n",
      "[CV 5/5] END LR__C=4.211105263157895, LR__solver=liblinear, SCL=None;, score=-0.427 total time=   0.0s\n",
      "[CV 1/5] END LR__C=4.211105263157895, LR__solver=newton-cg, SCL=MinMaxScaler();, score=-0.427 total time=   0.0s\n",
      "[CV 2/5] END LR__C=4.211105263157895, LR__solver=newton-cg, SCL=MinMaxScaler();, score=-0.439 total time=   0.0s\n",
      "[CV 3/5] END LR__C=4.211105263157895, LR__solver=newton-cg, SCL=MinMaxScaler();, score=-0.423 total time=   0.0s\n",
      "[CV 4/5] END LR__C=4.211105263157895, LR__solver=newton-cg, SCL=MinMaxScaler();, score=-0.433 total time=   0.0s\n",
      "[CV 5/5] END LR__C=4.211105263157895, LR__solver=newton-cg, SCL=MinMaxScaler();, score=-0.427 total time=   0.0s\n",
      "[CV 1/5] END LR__C=4.211105263157895, LR__solver=newton-cg, SCL=StandardScaler();, score=-0.427 total time=   0.0s\n",
      "[CV 2/5] END LR__C=4.211105263157895, LR__solver=newton-cg, SCL=StandardScaler();, score=-0.440 total time=   0.0s\n",
      "[CV 3/5] END LR__C=4.211105263157895, LR__solver=newton-cg, SCL=StandardScaler();, score=-0.423 total time=   0.0s\n",
      "[CV 4/5] END LR__C=4.211105263157895, LR__solver=newton-cg, SCL=StandardScaler();, score=-0.433 total time=   0.0s\n",
      "[CV 5/5] END LR__C=4.211105263157895, LR__solver=newton-cg, SCL=StandardScaler();, score=-0.427 total time=   0.0s\n",
      "[CV 1/5] END LR__C=4.211105263157895, LR__solver=newton-cg, SCL=None;, score=-0.427 total time=   0.1s\n",
      "[CV 2/5] END LR__C=4.211105263157895, LR__solver=newton-cg, SCL=None;, score=-0.439 total time=   0.1s\n",
      "[CV 3/5] END LR__C=4.211105263157895, LR__solver=newton-cg, SCL=None;, score=-0.423 total time=   0.1s\n",
      "[CV 4/5] END LR__C=4.211105263157895, LR__solver=newton-cg, SCL=None;, score=-0.433 total time=   0.1s\n",
      "[CV 5/5] END LR__C=4.211105263157895, LR__solver=newton-cg, SCL=None;, score=-0.427 total time=   0.1s\n",
      "[CV 1/5] END LR__C=4.211105263157895, LR__solver=newton-cholesky, SCL=MinMaxScaler();, score=-0.427 total time=   0.0s\n",
      "[CV 2/5] END LR__C=4.211105263157895, LR__solver=newton-cholesky, SCL=MinMaxScaler();, score=-0.439 total time=   0.0s\n",
      "[CV 3/5] END LR__C=4.211105263157895, LR__solver=newton-cholesky, SCL=MinMaxScaler();, score=-0.423 total time=   0.0s\n",
      "[CV 4/5] END LR__C=4.211105263157895, LR__solver=newton-cholesky, SCL=MinMaxScaler();, score=-0.433 total time=   0.0s\n",
      "[CV 5/5] END LR__C=4.211105263157895, LR__solver=newton-cholesky, SCL=MinMaxScaler();, score=-0.427 total time=   0.0s\n",
      "[CV 1/5] END LR__C=4.211105263157895, LR__solver=newton-cholesky, SCL=StandardScaler();, score=-0.427 total time=   0.0s\n",
      "[CV 2/5] END LR__C=4.211105263157895, LR__solver=newton-cholesky, SCL=StandardScaler();, score=-0.440 total time=   0.0s\n",
      "[CV 3/5] END LR__C=4.211105263157895, LR__solver=newton-cholesky, SCL=StandardScaler();, score=-0.423 total time=   0.0s\n",
      "[CV 4/5] END LR__C=4.211105263157895, LR__solver=newton-cholesky, SCL=StandardScaler();, score=-0.433 total time=   0.0s\n",
      "[CV 5/5] END LR__C=4.211105263157895, LR__solver=newton-cholesky, SCL=StandardScaler();, score=-0.427 total time=   0.0s\n",
      "[CV 1/5] END LR__C=4.211105263157895, LR__solver=newton-cholesky, SCL=None;, score=-0.427 total time=   0.0s\n",
      "[CV 2/5] END LR__C=4.211105263157895, LR__solver=newton-cholesky, SCL=None;, score=-0.439 total time=   0.0s\n",
      "[CV 3/5] END LR__C=4.211105263157895, LR__solver=newton-cholesky, SCL=None;, score=-0.423 total time=   0.0s\n",
      "[CV 4/5] END LR__C=4.211105263157895, LR__solver=newton-cholesky, SCL=None;, score=-0.433 total time=   0.0s\n",
      "[CV 5/5] END LR__C=4.211105263157895, LR__solver=newton-cholesky, SCL=None;, score=-0.427 total time=   0.0s\n",
      "[CV 1/5] END LR__C=4.211105263157895, LR__solver=sag, SCL=MinMaxScaler();, score=-0.427 total time=   0.1s\n",
      "[CV 2/5] END LR__C=4.211105263157895, LR__solver=sag, SCL=MinMaxScaler();, score=-0.439 total time=   0.1s\n",
      "[CV 3/5] END LR__C=4.211105263157895, LR__solver=sag, SCL=MinMaxScaler();, score=-0.423 total time=   0.1s\n",
      "[CV 4/5] END LR__C=4.211105263157895, LR__solver=sag, SCL=MinMaxScaler();, score=-0.433 total time=   0.1s\n",
      "[CV 5/5] END LR__C=4.211105263157895, LR__solver=sag, SCL=MinMaxScaler();, score=-0.427 total time=   0.1s\n",
      "[CV 1/5] END LR__C=4.211105263157895, LR__solver=sag, SCL=StandardScaler();, score=-0.427 total time=   0.1s\n",
      "[CV 2/5] END LR__C=4.211105263157895, LR__solver=sag, SCL=StandardScaler();, score=-0.440 total time=   0.1s\n",
      "[CV 3/5] END LR__C=4.211105263157895, LR__solver=sag, SCL=StandardScaler();, score=-0.423 total time=   0.1s\n",
      "[CV 4/5] END LR__C=4.211105263157895, LR__solver=sag, SCL=StandardScaler();, score=-0.433 total time=   0.0s\n",
      "[CV 5/5] END LR__C=4.211105263157895, LR__solver=sag, SCL=StandardScaler();, score=-0.427 total time=   0.1s\n"
     ]
    },
    {
     "name": "stderr",
     "output_type": "stream",
     "text": [
      "C:\\Users\\DAI.STUDENTSDC\\AppData\\Local\\anaconda3\\Lib\\site-packages\\sklearn\\linear_model\\_sag.py:349: ConvergenceWarning: The max_iter was reached which means the coef_ did not converge\n",
      "  warnings.warn(\n"
     ]
    },
    {
     "name": "stdout",
     "output_type": "stream",
     "text": [
      "[CV 1/5] END LR__C=4.211105263157895, LR__solver=sag, SCL=None;, score=-0.463 total time=   0.4s\n"
     ]
    },
    {
     "name": "stderr",
     "output_type": "stream",
     "text": [
      "C:\\Users\\DAI.STUDENTSDC\\AppData\\Local\\anaconda3\\Lib\\site-packages\\sklearn\\linear_model\\_sag.py:349: ConvergenceWarning: The max_iter was reached which means the coef_ did not converge\n",
      "  warnings.warn(\n"
     ]
    },
    {
     "name": "stdout",
     "output_type": "stream",
     "text": [
      "[CV 2/5] END LR__C=4.211105263157895, LR__solver=sag, SCL=None;, score=-0.471 total time=   0.4s\n"
     ]
    },
    {
     "name": "stderr",
     "output_type": "stream",
     "text": [
      "C:\\Users\\DAI.STUDENTSDC\\AppData\\Local\\anaconda3\\Lib\\site-packages\\sklearn\\linear_model\\_sag.py:349: ConvergenceWarning: The max_iter was reached which means the coef_ did not converge\n",
      "  warnings.warn(\n"
     ]
    },
    {
     "name": "stdout",
     "output_type": "stream",
     "text": [
      "[CV 3/5] END LR__C=4.211105263157895, LR__solver=sag, SCL=None;, score=-0.463 total time=   0.4s\n"
     ]
    },
    {
     "name": "stderr",
     "output_type": "stream",
     "text": [
      "C:\\Users\\DAI.STUDENTSDC\\AppData\\Local\\anaconda3\\Lib\\site-packages\\sklearn\\linear_model\\_sag.py:349: ConvergenceWarning: The max_iter was reached which means the coef_ did not converge\n",
      "  warnings.warn(\n"
     ]
    },
    {
     "name": "stdout",
     "output_type": "stream",
     "text": [
      "[CV 4/5] END LR__C=4.211105263157895, LR__solver=sag, SCL=None;, score=-0.465 total time=   0.4s\n"
     ]
    },
    {
     "name": "stderr",
     "output_type": "stream",
     "text": [
      "C:\\Users\\DAI.STUDENTSDC\\AppData\\Local\\anaconda3\\Lib\\site-packages\\sklearn\\linear_model\\_sag.py:349: ConvergenceWarning: The max_iter was reached which means the coef_ did not converge\n",
      "  warnings.warn(\n"
     ]
    },
    {
     "name": "stdout",
     "output_type": "stream",
     "text": [
      "[CV 5/5] END LR__C=4.211105263157895, LR__solver=sag, SCL=None;, score=-0.464 total time=   0.4s\n",
      "[CV 1/5] END LR__C=4.211105263157895, LR__solver=saga, SCL=MinMaxScaler();, score=-0.427 total time=   0.1s\n",
      "[CV 2/5] END LR__C=4.211105263157895, LR__solver=saga, SCL=MinMaxScaler();, score=-0.439 total time=   0.0s\n",
      "[CV 3/5] END LR__C=4.211105263157895, LR__solver=saga, SCL=MinMaxScaler();, score=-0.423 total time=   0.0s\n",
      "[CV 4/5] END LR__C=4.211105263157895, LR__solver=saga, SCL=MinMaxScaler();, score=-0.433 total time=   0.0s\n",
      "[CV 5/5] END LR__C=4.211105263157895, LR__solver=saga, SCL=MinMaxScaler();, score=-0.427 total time=   0.0s\n",
      "[CV 1/5] END LR__C=4.211105263157895, LR__solver=saga, SCL=StandardScaler();, score=-0.427 total time=   0.0s\n",
      "[CV 2/5] END LR__C=4.211105263157895, LR__solver=saga, SCL=StandardScaler();, score=-0.440 total time=   0.0s\n",
      "[CV 3/5] END LR__C=4.211105263157895, LR__solver=saga, SCL=StandardScaler();, score=-0.423 total time=   0.0s\n",
      "[CV 4/5] END LR__C=4.211105263157895, LR__solver=saga, SCL=StandardScaler();, score=-0.433 total time=   0.0s\n",
      "[CV 5/5] END LR__C=4.211105263157895, LR__solver=saga, SCL=StandardScaler();, score=-0.427 total time=   0.0s\n"
     ]
    },
    {
     "name": "stderr",
     "output_type": "stream",
     "text": [
      "C:\\Users\\DAI.STUDENTSDC\\AppData\\Local\\anaconda3\\Lib\\site-packages\\sklearn\\linear_model\\_sag.py:349: ConvergenceWarning: The max_iter was reached which means the coef_ did not converge\n",
      "  warnings.warn(\n"
     ]
    },
    {
     "name": "stdout",
     "output_type": "stream",
     "text": [
      "[CV 1/5] END LR__C=4.211105263157895, LR__solver=saga, SCL=None;, score=-0.490 total time=   0.4s\n"
     ]
    },
    {
     "name": "stderr",
     "output_type": "stream",
     "text": [
      "C:\\Users\\DAI.STUDENTSDC\\AppData\\Local\\anaconda3\\Lib\\site-packages\\sklearn\\linear_model\\_sag.py:349: ConvergenceWarning: The max_iter was reached which means the coef_ did not converge\n",
      "  warnings.warn(\n"
     ]
    },
    {
     "name": "stdout",
     "output_type": "stream",
     "text": [
      "[CV 2/5] END LR__C=4.211105263157895, LR__solver=saga, SCL=None;, score=-0.494 total time=   0.4s\n"
     ]
    },
    {
     "name": "stderr",
     "output_type": "stream",
     "text": [
      "C:\\Users\\DAI.STUDENTSDC\\AppData\\Local\\anaconda3\\Lib\\site-packages\\sklearn\\linear_model\\_sag.py:349: ConvergenceWarning: The max_iter was reached which means the coef_ did not converge\n",
      "  warnings.warn(\n"
     ]
    },
    {
     "name": "stdout",
     "output_type": "stream",
     "text": [
      "[CV 3/5] END LR__C=4.211105263157895, LR__solver=saga, SCL=None;, score=-0.488 total time=   0.4s\n"
     ]
    },
    {
     "name": "stderr",
     "output_type": "stream",
     "text": [
      "C:\\Users\\DAI.STUDENTSDC\\AppData\\Local\\anaconda3\\Lib\\site-packages\\sklearn\\linear_model\\_sag.py:349: ConvergenceWarning: The max_iter was reached which means the coef_ did not converge\n",
      "  warnings.warn(\n"
     ]
    },
    {
     "name": "stdout",
     "output_type": "stream",
     "text": [
      "[CV 4/5] END LR__C=4.211105263157895, LR__solver=saga, SCL=None;, score=-0.489 total time=   0.4s\n"
     ]
    },
    {
     "name": "stderr",
     "output_type": "stream",
     "text": [
      "C:\\Users\\DAI.STUDENTSDC\\AppData\\Local\\anaconda3\\Lib\\site-packages\\sklearn\\linear_model\\_sag.py:349: ConvergenceWarning: The max_iter was reached which means the coef_ did not converge\n",
      "  warnings.warn(\n"
     ]
    },
    {
     "name": "stdout",
     "output_type": "stream",
     "text": [
      "[CV 5/5] END LR__C=4.211105263157895, LR__solver=saga, SCL=None;, score=-0.490 total time=   0.4s\n",
      "[CV 1/5] END LR__C=4.737368421052632, LR__solver=lbfgs, SCL=MinMaxScaler();, score=-0.427 total time=   0.0s\n",
      "[CV 2/5] END LR__C=4.737368421052632, LR__solver=lbfgs, SCL=MinMaxScaler();, score=-0.439 total time=   0.0s\n",
      "[CV 3/5] END LR__C=4.737368421052632, LR__solver=lbfgs, SCL=MinMaxScaler();, score=-0.423 total time=   0.0s\n",
      "[CV 4/5] END LR__C=4.737368421052632, LR__solver=lbfgs, SCL=MinMaxScaler();, score=-0.433 total time=   0.0s\n",
      "[CV 5/5] END LR__C=4.737368421052632, LR__solver=lbfgs, SCL=MinMaxScaler();, score=-0.427 total time=   0.0s\n",
      "[CV 1/5] END LR__C=4.737368421052632, LR__solver=lbfgs, SCL=StandardScaler();, score=-0.427 total time=   0.0s\n",
      "[CV 2/5] END LR__C=4.737368421052632, LR__solver=lbfgs, SCL=StandardScaler();, score=-0.440 total time=   0.0s\n",
      "[CV 3/5] END LR__C=4.737368421052632, LR__solver=lbfgs, SCL=StandardScaler();, score=-0.423 total time=   0.0s\n",
      "[CV 4/5] END LR__C=4.737368421052632, LR__solver=lbfgs, SCL=StandardScaler();, score=-0.433 total time=   0.0s\n",
      "[CV 5/5] END LR__C=4.737368421052632, LR__solver=lbfgs, SCL=StandardScaler();, score=-0.427 total time=   0.0s\n"
     ]
    },
    {
     "name": "stderr",
     "output_type": "stream",
     "text": [
      "C:\\Users\\DAI.STUDENTSDC\\AppData\\Local\\anaconda3\\Lib\\site-packages\\sklearn\\linear_model\\_logistic.py:469: ConvergenceWarning: lbfgs failed to converge (status=1):\n",
      "STOP: TOTAL NO. of ITERATIONS REACHED LIMIT.\n",
      "\n",
      "Increase the number of iterations (max_iter) or scale the data as shown in:\n",
      "    https://scikit-learn.org/stable/modules/preprocessing.html\n",
      "Please also refer to the documentation for alternative solver options:\n",
      "    https://scikit-learn.org/stable/modules/linear_model.html#logistic-regression\n",
      "  n_iter_i = _check_optimize_result(\n",
      "C:\\Users\\DAI.STUDENTSDC\\AppData\\Local\\anaconda3\\Lib\\site-packages\\sklearn\\linear_model\\_logistic.py:469: ConvergenceWarning: lbfgs failed to converge (status=1):\n",
      "STOP: TOTAL NO. of ITERATIONS REACHED LIMIT.\n",
      "\n",
      "Increase the number of iterations (max_iter) or scale the data as shown in:\n",
      "    https://scikit-learn.org/stable/modules/preprocessing.html\n",
      "Please also refer to the documentation for alternative solver options:\n",
      "    https://scikit-learn.org/stable/modules/linear_model.html#logistic-regression\n",
      "  n_iter_i = _check_optimize_result(\n"
     ]
    },
    {
     "name": "stdout",
     "output_type": "stream",
     "text": [
      "[CV 1/5] END LR__C=4.737368421052632, LR__solver=lbfgs, SCL=None;, score=-0.431 total time=   0.1s\n",
      "[CV 2/5] END LR__C=4.737368421052632, LR__solver=lbfgs, SCL=None;, score=-0.440 total time=   0.1s\n"
     ]
    },
    {
     "name": "stderr",
     "output_type": "stream",
     "text": [
      "C:\\Users\\DAI.STUDENTSDC\\AppData\\Local\\anaconda3\\Lib\\site-packages\\sklearn\\linear_model\\_logistic.py:469: ConvergenceWarning: lbfgs failed to converge (status=1):\n",
      "STOP: TOTAL NO. of ITERATIONS REACHED LIMIT.\n",
      "\n",
      "Increase the number of iterations (max_iter) or scale the data as shown in:\n",
      "    https://scikit-learn.org/stable/modules/preprocessing.html\n",
      "Please also refer to the documentation for alternative solver options:\n",
      "    https://scikit-learn.org/stable/modules/linear_model.html#logistic-regression\n",
      "  n_iter_i = _check_optimize_result(\n",
      "C:\\Users\\DAI.STUDENTSDC\\AppData\\Local\\anaconda3\\Lib\\site-packages\\sklearn\\linear_model\\_logistic.py:469: ConvergenceWarning: lbfgs failed to converge (status=1):\n",
      "STOP: TOTAL NO. of ITERATIONS REACHED LIMIT.\n",
      "\n",
      "Increase the number of iterations (max_iter) or scale the data as shown in:\n",
      "    https://scikit-learn.org/stable/modules/preprocessing.html\n",
      "Please also refer to the documentation for alternative solver options:\n",
      "    https://scikit-learn.org/stable/modules/linear_model.html#logistic-regression\n",
      "  n_iter_i = _check_optimize_result(\n"
     ]
    },
    {
     "name": "stdout",
     "output_type": "stream",
     "text": [
      "[CV 3/5] END LR__C=4.737368421052632, LR__solver=lbfgs, SCL=None;, score=-0.428 total time=   0.1s\n",
      "[CV 4/5] END LR__C=4.737368421052632, LR__solver=lbfgs, SCL=None;, score=-0.435 total time=   0.1s\n",
      "[CV 5/5] END LR__C=4.737368421052632, LR__solver=lbfgs, SCL=None;, score=-0.428 total time=   0.1s\n"
     ]
    },
    {
     "name": "stderr",
     "output_type": "stream",
     "text": [
      "C:\\Users\\DAI.STUDENTSDC\\AppData\\Local\\anaconda3\\Lib\\site-packages\\sklearn\\linear_model\\_logistic.py:469: ConvergenceWarning: lbfgs failed to converge (status=1):\n",
      "STOP: TOTAL NO. of ITERATIONS REACHED LIMIT.\n",
      "\n",
      "Increase the number of iterations (max_iter) or scale the data as shown in:\n",
      "    https://scikit-learn.org/stable/modules/preprocessing.html\n",
      "Please also refer to the documentation for alternative solver options:\n",
      "    https://scikit-learn.org/stable/modules/linear_model.html#logistic-regression\n",
      "  n_iter_i = _check_optimize_result(\n"
     ]
    },
    {
     "name": "stdout",
     "output_type": "stream",
     "text": [
      "[CV 1/5] END LR__C=4.737368421052632, LR__solver=liblinear, SCL=MinMaxScaler();, score=-0.427 total time=   0.0s\n",
      "[CV 2/5] END LR__C=4.737368421052632, LR__solver=liblinear, SCL=MinMaxScaler();, score=-0.439 total time=   0.0s\n",
      "[CV 3/5] END LR__C=4.737368421052632, LR__solver=liblinear, SCL=MinMaxScaler();, score=-0.423 total time=   0.0s\n",
      "[CV 4/5] END LR__C=4.737368421052632, LR__solver=liblinear, SCL=MinMaxScaler();, score=-0.433 total time=   0.0s\n",
      "[CV 5/5] END LR__C=4.737368421052632, LR__solver=liblinear, SCL=MinMaxScaler();, score=-0.427 total time=   0.0s\n",
      "[CV 1/5] END LR__C=4.737368421052632, LR__solver=liblinear, SCL=StandardScaler();, score=-0.427 total time=   0.0s\n",
      "[CV 2/5] END LR__C=4.737368421052632, LR__solver=liblinear, SCL=StandardScaler();, score=-0.440 total time=   0.0s\n",
      "[CV 3/5] END LR__C=4.737368421052632, LR__solver=liblinear, SCL=StandardScaler();, score=-0.423 total time=   0.0s\n",
      "[CV 4/5] END LR__C=4.737368421052632, LR__solver=liblinear, SCL=StandardScaler();, score=-0.433 total time=   0.0s\n",
      "[CV 5/5] END LR__C=4.737368421052632, LR__solver=liblinear, SCL=StandardScaler();, score=-0.427 total time=   0.0s\n",
      "[CV 1/5] END LR__C=4.737368421052632, LR__solver=liblinear, SCL=None;, score=-0.427 total time=   0.0s\n",
      "[CV 2/5] END LR__C=4.737368421052632, LR__solver=liblinear, SCL=None;, score=-0.439 total time=   0.0s\n",
      "[CV 3/5] END LR__C=4.737368421052632, LR__solver=liblinear, SCL=None;, score=-0.423 total time=   0.0s\n",
      "[CV 4/5] END LR__C=4.737368421052632, LR__solver=liblinear, SCL=None;, score=-0.433 total time=   0.0s\n",
      "[CV 5/5] END LR__C=4.737368421052632, LR__solver=liblinear, SCL=None;, score=-0.427 total time=   0.0s\n",
      "[CV 1/5] END LR__C=4.737368421052632, LR__solver=newton-cg, SCL=MinMaxScaler();, score=-0.427 total time=   0.0s\n",
      "[CV 2/5] END LR__C=4.737368421052632, LR__solver=newton-cg, SCL=MinMaxScaler();, score=-0.439 total time=   0.0s\n",
      "[CV 3/5] END LR__C=4.737368421052632, LR__solver=newton-cg, SCL=MinMaxScaler();, score=-0.423 total time=   0.0s\n",
      "[CV 4/5] END LR__C=4.737368421052632, LR__solver=newton-cg, SCL=MinMaxScaler();, score=-0.433 total time=   0.0s\n",
      "[CV 5/5] END LR__C=4.737368421052632, LR__solver=newton-cg, SCL=MinMaxScaler();, score=-0.427 total time=   0.0s\n",
      "[CV 1/5] END LR__C=4.737368421052632, LR__solver=newton-cg, SCL=StandardScaler();, score=-0.427 total time=   0.0s\n",
      "[CV 2/5] END LR__C=4.737368421052632, LR__solver=newton-cg, SCL=StandardScaler();, score=-0.440 total time=   0.0s\n",
      "[CV 3/5] END LR__C=4.737368421052632, LR__solver=newton-cg, SCL=StandardScaler();, score=-0.423 total time=   0.0s\n",
      "[CV 4/5] END LR__C=4.737368421052632, LR__solver=newton-cg, SCL=StandardScaler();, score=-0.433 total time=   0.0s\n",
      "[CV 5/5] END LR__C=4.737368421052632, LR__solver=newton-cg, SCL=StandardScaler();, score=-0.427 total time=   0.0s\n",
      "[CV 1/5] END LR__C=4.737368421052632, LR__solver=newton-cg, SCL=None;, score=-0.427 total time=   0.1s\n",
      "[CV 2/5] END LR__C=4.737368421052632, LR__solver=newton-cg, SCL=None;, score=-0.439 total time=   0.1s\n",
      "[CV 3/5] END LR__C=4.737368421052632, LR__solver=newton-cg, SCL=None;, score=-0.423 total time=   0.1s\n",
      "[CV 4/5] END LR__C=4.737368421052632, LR__solver=newton-cg, SCL=None;, score=-0.433 total time=   0.1s\n",
      "[CV 5/5] END LR__C=4.737368421052632, LR__solver=newton-cg, SCL=None;, score=-0.427 total time=   0.1s\n",
      "[CV 1/5] END LR__C=4.737368421052632, LR__solver=newton-cholesky, SCL=MinMaxScaler();, score=-0.427 total time=   0.0s\n",
      "[CV 2/5] END LR__C=4.737368421052632, LR__solver=newton-cholesky, SCL=MinMaxScaler();, score=-0.439 total time=   0.0s\n",
      "[CV 3/5] END LR__C=4.737368421052632, LR__solver=newton-cholesky, SCL=MinMaxScaler();, score=-0.423 total time=   0.0s\n",
      "[CV 4/5] END LR__C=4.737368421052632, LR__solver=newton-cholesky, SCL=MinMaxScaler();, score=-0.433 total time=   0.0s\n",
      "[CV 5/5] END LR__C=4.737368421052632, LR__solver=newton-cholesky, SCL=MinMaxScaler();, score=-0.427 total time=   0.0s\n",
      "[CV 1/5] END LR__C=4.737368421052632, LR__solver=newton-cholesky, SCL=StandardScaler();, score=-0.427 total time=   0.0s\n",
      "[CV 2/5] END LR__C=4.737368421052632, LR__solver=newton-cholesky, SCL=StandardScaler();, score=-0.440 total time=   0.0s\n",
      "[CV 3/5] END LR__C=4.737368421052632, LR__solver=newton-cholesky, SCL=StandardScaler();, score=-0.423 total time=   0.0s\n",
      "[CV 4/5] END LR__C=4.737368421052632, LR__solver=newton-cholesky, SCL=StandardScaler();, score=-0.433 total time=   0.0s\n",
      "[CV 5/5] END LR__C=4.737368421052632, LR__solver=newton-cholesky, SCL=StandardScaler();, score=-0.427 total time=   0.0s\n",
      "[CV 1/5] END LR__C=4.737368421052632, LR__solver=newton-cholesky, SCL=None;, score=-0.427 total time=   0.0s\n",
      "[CV 2/5] END LR__C=4.737368421052632, LR__solver=newton-cholesky, SCL=None;, score=-0.439 total time=   0.0s\n",
      "[CV 3/5] END LR__C=4.737368421052632, LR__solver=newton-cholesky, SCL=None;, score=-0.423 total time=   0.0s\n",
      "[CV 4/5] END LR__C=4.737368421052632, LR__solver=newton-cholesky, SCL=None;, score=-0.433 total time=   0.0s\n",
      "[CV 5/5] END LR__C=4.737368421052632, LR__solver=newton-cholesky, SCL=None;, score=-0.427 total time=   0.0s\n",
      "[CV 1/5] END LR__C=4.737368421052632, LR__solver=sag, SCL=MinMaxScaler();, score=-0.427 total time=   0.1s\n",
      "[CV 2/5] END LR__C=4.737368421052632, LR__solver=sag, SCL=MinMaxScaler();, score=-0.439 total time=   0.1s\n",
      "[CV 3/5] END LR__C=4.737368421052632, LR__solver=sag, SCL=MinMaxScaler();, score=-0.423 total time=   0.1s\n",
      "[CV 4/5] END LR__C=4.737368421052632, LR__solver=sag, SCL=MinMaxScaler();, score=-0.433 total time=   0.1s\n",
      "[CV 5/5] END LR__C=4.737368421052632, LR__solver=sag, SCL=MinMaxScaler();, score=-0.427 total time=   0.1s\n",
      "[CV 1/5] END LR__C=4.737368421052632, LR__solver=sag, SCL=StandardScaler();, score=-0.427 total time=   0.1s\n",
      "[CV 2/5] END LR__C=4.737368421052632, LR__solver=sag, SCL=StandardScaler();, score=-0.440 total time=   0.1s\n",
      "[CV 3/5] END LR__C=4.737368421052632, LR__solver=sag, SCL=StandardScaler();, score=-0.423 total time=   0.1s\n",
      "[CV 4/5] END LR__C=4.737368421052632, LR__solver=sag, SCL=StandardScaler();, score=-0.433 total time=   0.1s\n",
      "[CV 5/5] END LR__C=4.737368421052632, LR__solver=sag, SCL=StandardScaler();, score=-0.427 total time=   0.0s\n"
     ]
    },
    {
     "name": "stderr",
     "output_type": "stream",
     "text": [
      "C:\\Users\\DAI.STUDENTSDC\\AppData\\Local\\anaconda3\\Lib\\site-packages\\sklearn\\linear_model\\_sag.py:349: ConvergenceWarning: The max_iter was reached which means the coef_ did not converge\n",
      "  warnings.warn(\n"
     ]
    },
    {
     "name": "stdout",
     "output_type": "stream",
     "text": [
      "[CV 1/5] END LR__C=4.737368421052632, LR__solver=sag, SCL=None;, score=-0.463 total time=   0.3s\n"
     ]
    },
    {
     "name": "stderr",
     "output_type": "stream",
     "text": [
      "C:\\Users\\DAI.STUDENTSDC\\AppData\\Local\\anaconda3\\Lib\\site-packages\\sklearn\\linear_model\\_sag.py:349: ConvergenceWarning: The max_iter was reached which means the coef_ did not converge\n",
      "  warnings.warn(\n"
     ]
    },
    {
     "name": "stdout",
     "output_type": "stream",
     "text": [
      "[CV 2/5] END LR__C=4.737368421052632, LR__solver=sag, SCL=None;, score=-0.471 total time=   0.3s\n"
     ]
    },
    {
     "name": "stderr",
     "output_type": "stream",
     "text": [
      "C:\\Users\\DAI.STUDENTSDC\\AppData\\Local\\anaconda3\\Lib\\site-packages\\sklearn\\linear_model\\_sag.py:349: ConvergenceWarning: The max_iter was reached which means the coef_ did not converge\n",
      "  warnings.warn(\n"
     ]
    },
    {
     "name": "stdout",
     "output_type": "stream",
     "text": [
      "[CV 3/5] END LR__C=4.737368421052632, LR__solver=sag, SCL=None;, score=-0.463 total time=   0.4s\n"
     ]
    },
    {
     "name": "stderr",
     "output_type": "stream",
     "text": [
      "C:\\Users\\DAI.STUDENTSDC\\AppData\\Local\\anaconda3\\Lib\\site-packages\\sklearn\\linear_model\\_sag.py:349: ConvergenceWarning: The max_iter was reached which means the coef_ did not converge\n",
      "  warnings.warn(\n"
     ]
    },
    {
     "name": "stdout",
     "output_type": "stream",
     "text": [
      "[CV 4/5] END LR__C=4.737368421052632, LR__solver=sag, SCL=None;, score=-0.465 total time=   0.4s\n"
     ]
    },
    {
     "name": "stderr",
     "output_type": "stream",
     "text": [
      "C:\\Users\\DAI.STUDENTSDC\\AppData\\Local\\anaconda3\\Lib\\site-packages\\sklearn\\linear_model\\_sag.py:349: ConvergenceWarning: The max_iter was reached which means the coef_ did not converge\n",
      "  warnings.warn(\n"
     ]
    },
    {
     "name": "stdout",
     "output_type": "stream",
     "text": [
      "[CV 5/5] END LR__C=4.737368421052632, LR__solver=sag, SCL=None;, score=-0.464 total time=   0.4s\n",
      "[CV 1/5] END LR__C=4.737368421052632, LR__solver=saga, SCL=MinMaxScaler();, score=-0.427 total time=   0.0s\n",
      "[CV 2/5] END LR__C=4.737368421052632, LR__solver=saga, SCL=MinMaxScaler();, score=-0.439 total time=   0.0s\n",
      "[CV 3/5] END LR__C=4.737368421052632, LR__solver=saga, SCL=MinMaxScaler();, score=-0.423 total time=   0.0s\n",
      "[CV 4/5] END LR__C=4.737368421052632, LR__solver=saga, SCL=MinMaxScaler();, score=-0.433 total time=   0.0s\n",
      "[CV 5/5] END LR__C=4.737368421052632, LR__solver=saga, SCL=MinMaxScaler();, score=-0.427 total time=   0.0s\n",
      "[CV 1/5] END LR__C=4.737368421052632, LR__solver=saga, SCL=StandardScaler();, score=-0.427 total time=   0.0s\n",
      "[CV 2/5] END LR__C=4.737368421052632, LR__solver=saga, SCL=StandardScaler();, score=-0.440 total time=   0.0s\n",
      "[CV 3/5] END LR__C=4.737368421052632, LR__solver=saga, SCL=StandardScaler();, score=-0.423 total time=   0.0s\n",
      "[CV 4/5] END LR__C=4.737368421052632, LR__solver=saga, SCL=StandardScaler();, score=-0.433 total time=   0.0s\n",
      "[CV 5/5] END LR__C=4.737368421052632, LR__solver=saga, SCL=StandardScaler();, score=-0.427 total time=   0.0s\n"
     ]
    },
    {
     "name": "stderr",
     "output_type": "stream",
     "text": [
      "C:\\Users\\DAI.STUDENTSDC\\AppData\\Local\\anaconda3\\Lib\\site-packages\\sklearn\\linear_model\\_sag.py:349: ConvergenceWarning: The max_iter was reached which means the coef_ did not converge\n",
      "  warnings.warn(\n"
     ]
    },
    {
     "name": "stdout",
     "output_type": "stream",
     "text": [
      "[CV 1/5] END LR__C=4.737368421052632, LR__solver=saga, SCL=None;, score=-0.490 total time=   0.4s\n"
     ]
    },
    {
     "name": "stderr",
     "output_type": "stream",
     "text": [
      "C:\\Users\\DAI.STUDENTSDC\\AppData\\Local\\anaconda3\\Lib\\site-packages\\sklearn\\linear_model\\_sag.py:349: ConvergenceWarning: The max_iter was reached which means the coef_ did not converge\n",
      "  warnings.warn(\n"
     ]
    },
    {
     "name": "stdout",
     "output_type": "stream",
     "text": [
      "[CV 2/5] END LR__C=4.737368421052632, LR__solver=saga, SCL=None;, score=-0.494 total time=   0.4s\n"
     ]
    },
    {
     "name": "stderr",
     "output_type": "stream",
     "text": [
      "C:\\Users\\DAI.STUDENTSDC\\AppData\\Local\\anaconda3\\Lib\\site-packages\\sklearn\\linear_model\\_sag.py:349: ConvergenceWarning: The max_iter was reached which means the coef_ did not converge\n",
      "  warnings.warn(\n"
     ]
    },
    {
     "name": "stdout",
     "output_type": "stream",
     "text": [
      "[CV 3/5] END LR__C=4.737368421052632, LR__solver=saga, SCL=None;, score=-0.488 total time=   0.4s\n"
     ]
    },
    {
     "name": "stderr",
     "output_type": "stream",
     "text": [
      "C:\\Users\\DAI.STUDENTSDC\\AppData\\Local\\anaconda3\\Lib\\site-packages\\sklearn\\linear_model\\_sag.py:349: ConvergenceWarning: The max_iter was reached which means the coef_ did not converge\n",
      "  warnings.warn(\n"
     ]
    },
    {
     "name": "stdout",
     "output_type": "stream",
     "text": [
      "[CV 4/5] END LR__C=4.737368421052632, LR__solver=saga, SCL=None;, score=-0.489 total time=   0.3s\n"
     ]
    },
    {
     "name": "stderr",
     "output_type": "stream",
     "text": [
      "C:\\Users\\DAI.STUDENTSDC\\AppData\\Local\\anaconda3\\Lib\\site-packages\\sklearn\\linear_model\\_sag.py:349: ConvergenceWarning: The max_iter was reached which means the coef_ did not converge\n",
      "  warnings.warn(\n"
     ]
    },
    {
     "name": "stdout",
     "output_type": "stream",
     "text": [
      "[CV 5/5] END LR__C=4.737368421052632, LR__solver=saga, SCL=None;, score=-0.490 total time=   0.4s\n",
      "[CV 1/5] END LR__C=5.263631578947369, LR__solver=lbfgs, SCL=MinMaxScaler();, score=-0.427 total time=   0.0s\n",
      "[CV 2/5] END LR__C=5.263631578947369, LR__solver=lbfgs, SCL=MinMaxScaler();, score=-0.439 total time=   0.0s\n",
      "[CV 3/5] END LR__C=5.263631578947369, LR__solver=lbfgs, SCL=MinMaxScaler();, score=-0.423 total time=   0.0s\n",
      "[CV 4/5] END LR__C=5.263631578947369, LR__solver=lbfgs, SCL=MinMaxScaler();, score=-0.433 total time=   0.0s\n",
      "[CV 5/5] END LR__C=5.263631578947369, LR__solver=lbfgs, SCL=MinMaxScaler();, score=-0.427 total time=   0.0s\n",
      "[CV 1/5] END LR__C=5.263631578947369, LR__solver=lbfgs, SCL=StandardScaler();, score=-0.427 total time=   0.0s\n",
      "[CV 2/5] END LR__C=5.263631578947369, LR__solver=lbfgs, SCL=StandardScaler();, score=-0.440 total time=   0.0s\n",
      "[CV 3/5] END LR__C=5.263631578947369, LR__solver=lbfgs, SCL=StandardScaler();, score=-0.423 total time=   0.0s\n",
      "[CV 4/5] END LR__C=5.263631578947369, LR__solver=lbfgs, SCL=StandardScaler();, score=-0.433 total time=   0.0s\n",
      "[CV 5/5] END LR__C=5.263631578947369, LR__solver=lbfgs, SCL=StandardScaler();, score=-0.427 total time=   0.0s\n",
      "[CV 1/5] END LR__C=5.263631578947369, LR__solver=lbfgs, SCL=None;, score=-0.428 total time=   0.1s\n"
     ]
    },
    {
     "name": "stderr",
     "output_type": "stream",
     "text": [
      "C:\\Users\\DAI.STUDENTSDC\\AppData\\Local\\anaconda3\\Lib\\site-packages\\sklearn\\linear_model\\_logistic.py:469: ConvergenceWarning: lbfgs failed to converge (status=1):\n",
      "STOP: TOTAL NO. of ITERATIONS REACHED LIMIT.\n",
      "\n",
      "Increase the number of iterations (max_iter) or scale the data as shown in:\n",
      "    https://scikit-learn.org/stable/modules/preprocessing.html\n",
      "Please also refer to the documentation for alternative solver options:\n",
      "    https://scikit-learn.org/stable/modules/linear_model.html#logistic-regression\n",
      "  n_iter_i = _check_optimize_result(\n",
      "C:\\Users\\DAI.STUDENTSDC\\AppData\\Local\\anaconda3\\Lib\\site-packages\\sklearn\\linear_model\\_logistic.py:469: ConvergenceWarning: lbfgs failed to converge (status=1):\n",
      "STOP: TOTAL NO. of ITERATIONS REACHED LIMIT.\n",
      "\n",
      "Increase the number of iterations (max_iter) or scale the data as shown in:\n",
      "    https://scikit-learn.org/stable/modules/preprocessing.html\n",
      "Please also refer to the documentation for alternative solver options:\n",
      "    https://scikit-learn.org/stable/modules/linear_model.html#logistic-regression\n",
      "  n_iter_i = _check_optimize_result(\n",
      "C:\\Users\\DAI.STUDENTSDC\\AppData\\Local\\anaconda3\\Lib\\site-packages\\sklearn\\linear_model\\_logistic.py:469: ConvergenceWarning: lbfgs failed to converge (status=1):\n",
      "STOP: TOTAL NO. of ITERATIONS REACHED LIMIT.\n",
      "\n",
      "Increase the number of iterations (max_iter) or scale the data as shown in:\n",
      "    https://scikit-learn.org/stable/modules/preprocessing.html\n",
      "Please also refer to the documentation for alternative solver options:\n",
      "    https://scikit-learn.org/stable/modules/linear_model.html#logistic-regression\n",
      "  n_iter_i = _check_optimize_result(\n"
     ]
    },
    {
     "name": "stdout",
     "output_type": "stream",
     "text": [
      "[CV 2/5] END LR__C=5.263631578947369, LR__solver=lbfgs, SCL=None;, score=-0.440 total time=   0.1s\n",
      "[CV 3/5] END LR__C=5.263631578947369, LR__solver=lbfgs, SCL=None;, score=-0.426 total time=   0.1s\n"
     ]
    },
    {
     "name": "stderr",
     "output_type": "stream",
     "text": [
      "C:\\Users\\DAI.STUDENTSDC\\AppData\\Local\\anaconda3\\Lib\\site-packages\\sklearn\\linear_model\\_logistic.py:469: ConvergenceWarning: lbfgs failed to converge (status=1):\n",
      "STOP: TOTAL NO. of ITERATIONS REACHED LIMIT.\n",
      "\n",
      "Increase the number of iterations (max_iter) or scale the data as shown in:\n",
      "    https://scikit-learn.org/stable/modules/preprocessing.html\n",
      "Please also refer to the documentation for alternative solver options:\n",
      "    https://scikit-learn.org/stable/modules/linear_model.html#logistic-regression\n",
      "  n_iter_i = _check_optimize_result(\n",
      "C:\\Users\\DAI.STUDENTSDC\\AppData\\Local\\anaconda3\\Lib\\site-packages\\sklearn\\linear_model\\_logistic.py:469: ConvergenceWarning: lbfgs failed to converge (status=1):\n",
      "STOP: TOTAL NO. of ITERATIONS REACHED LIMIT.\n",
      "\n",
      "Increase the number of iterations (max_iter) or scale the data as shown in:\n",
      "    https://scikit-learn.org/stable/modules/preprocessing.html\n",
      "Please also refer to the documentation for alternative solver options:\n",
      "    https://scikit-learn.org/stable/modules/linear_model.html#logistic-regression\n",
      "  n_iter_i = _check_optimize_result(\n"
     ]
    },
    {
     "name": "stdout",
     "output_type": "stream",
     "text": [
      "[CV 4/5] END LR__C=5.263631578947369, LR__solver=lbfgs, SCL=None;, score=-0.434 total time=   0.1s\n",
      "[CV 5/5] END LR__C=5.263631578947369, LR__solver=lbfgs, SCL=None;, score=-0.428 total time=   0.1s\n",
      "[CV 1/5] END LR__C=5.263631578947369, LR__solver=liblinear, SCL=MinMaxScaler();, score=-0.427 total time=   0.0s\n",
      "[CV 2/5] END LR__C=5.263631578947369, LR__solver=liblinear, SCL=MinMaxScaler();, score=-0.439 total time=   0.0s\n",
      "[CV 3/5] END LR__C=5.263631578947369, LR__solver=liblinear, SCL=MinMaxScaler();, score=-0.423 total time=   0.0s\n",
      "[CV 4/5] END LR__C=5.263631578947369, LR__solver=liblinear, SCL=MinMaxScaler();, score=-0.433 total time=   0.0s\n",
      "[CV 5/5] END LR__C=5.263631578947369, LR__solver=liblinear, SCL=MinMaxScaler();, score=-0.427 total time=   0.0s\n",
      "[CV 1/5] END LR__C=5.263631578947369, LR__solver=liblinear, SCL=StandardScaler();, score=-0.427 total time=   0.0s\n",
      "[CV 2/5] END LR__C=5.263631578947369, LR__solver=liblinear, SCL=StandardScaler();, score=-0.440 total time=   0.0s\n",
      "[CV 3/5] END LR__C=5.263631578947369, LR__solver=liblinear, SCL=StandardScaler();, score=-0.423 total time=   0.0s\n",
      "[CV 4/5] END LR__C=5.263631578947369, LR__solver=liblinear, SCL=StandardScaler();, score=-0.433 total time=   0.0s\n",
      "[CV 5/5] END LR__C=5.263631578947369, LR__solver=liblinear, SCL=StandardScaler();, score=-0.427 total time=   0.0s\n",
      "[CV 1/5] END LR__C=5.263631578947369, LR__solver=liblinear, SCL=None;, score=-0.427 total time=   0.0s\n",
      "[CV 2/5] END LR__C=5.263631578947369, LR__solver=liblinear, SCL=None;, score=-0.439 total time=   0.0s\n",
      "[CV 3/5] END LR__C=5.263631578947369, LR__solver=liblinear, SCL=None;, score=-0.423 total time=   0.0s\n",
      "[CV 4/5] END LR__C=5.263631578947369, LR__solver=liblinear, SCL=None;, score=-0.433 total time=   0.0s\n",
      "[CV 5/5] END LR__C=5.263631578947369, LR__solver=liblinear, SCL=None;, score=-0.427 total time=   0.0s\n",
      "[CV 1/5] END LR__C=5.263631578947369, LR__solver=newton-cg, SCL=MinMaxScaler();, score=-0.427 total time=   0.0s\n",
      "[CV 2/5] END LR__C=5.263631578947369, LR__solver=newton-cg, SCL=MinMaxScaler();, score=-0.439 total time=   0.0s\n",
      "[CV 3/5] END LR__C=5.263631578947369, LR__solver=newton-cg, SCL=MinMaxScaler();, score=-0.423 total time=   0.0s\n",
      "[CV 4/5] END LR__C=5.263631578947369, LR__solver=newton-cg, SCL=MinMaxScaler();, score=-0.433 total time=   0.0s\n",
      "[CV 5/5] END LR__C=5.263631578947369, LR__solver=newton-cg, SCL=MinMaxScaler();, score=-0.427 total time=   0.0s\n",
      "[CV 1/5] END LR__C=5.263631578947369, LR__solver=newton-cg, SCL=StandardScaler();, score=-0.427 total time=   0.0s\n",
      "[CV 2/5] END LR__C=5.263631578947369, LR__solver=newton-cg, SCL=StandardScaler();, score=-0.440 total time=   0.0s\n",
      "[CV 3/5] END LR__C=5.263631578947369, LR__solver=newton-cg, SCL=StandardScaler();, score=-0.423 total time=   0.0s\n",
      "[CV 4/5] END LR__C=5.263631578947369, LR__solver=newton-cg, SCL=StandardScaler();, score=-0.433 total time=   0.0s\n",
      "[CV 5/5] END LR__C=5.263631578947369, LR__solver=newton-cg, SCL=StandardScaler();, score=-0.427 total time=   0.0s\n",
      "[CV 1/5] END LR__C=5.263631578947369, LR__solver=newton-cg, SCL=None;, score=-0.427 total time=   0.1s\n",
      "[CV 2/5] END LR__C=5.263631578947369, LR__solver=newton-cg, SCL=None;, score=-0.439 total time=   0.2s\n",
      "[CV 3/5] END LR__C=5.263631578947369, LR__solver=newton-cg, SCL=None;, score=-0.423 total time=   0.1s\n",
      "[CV 4/5] END LR__C=5.263631578947369, LR__solver=newton-cg, SCL=None;, score=-0.433 total time=   0.2s\n",
      "[CV 5/5] END LR__C=5.263631578947369, LR__solver=newton-cg, SCL=None;, score=-0.427 total time=   0.2s\n",
      "[CV 1/5] END LR__C=5.263631578947369, LR__solver=newton-cholesky, SCL=MinMaxScaler();, score=-0.427 total time=   0.0s\n",
      "[CV 2/5] END LR__C=5.263631578947369, LR__solver=newton-cholesky, SCL=MinMaxScaler();, score=-0.439 total time=   0.0s\n",
      "[CV 3/5] END LR__C=5.263631578947369, LR__solver=newton-cholesky, SCL=MinMaxScaler();, score=-0.423 total time=   0.0s\n",
      "[CV 4/5] END LR__C=5.263631578947369, LR__solver=newton-cholesky, SCL=MinMaxScaler();, score=-0.433 total time=   0.0s\n",
      "[CV 5/5] END LR__C=5.263631578947369, LR__solver=newton-cholesky, SCL=MinMaxScaler();, score=-0.427 total time=   0.0s\n",
      "[CV 1/5] END LR__C=5.263631578947369, LR__solver=newton-cholesky, SCL=StandardScaler();, score=-0.427 total time=   0.0s\n",
      "[CV 2/5] END LR__C=5.263631578947369, LR__solver=newton-cholesky, SCL=StandardScaler();, score=-0.440 total time=   0.0s\n",
      "[CV 3/5] END LR__C=5.263631578947369, LR__solver=newton-cholesky, SCL=StandardScaler();, score=-0.423 total time=   0.0s\n",
      "[CV 4/5] END LR__C=5.263631578947369, LR__solver=newton-cholesky, SCL=StandardScaler();, score=-0.433 total time=   0.0s\n",
      "[CV 5/5] END LR__C=5.263631578947369, LR__solver=newton-cholesky, SCL=StandardScaler();, score=-0.427 total time=   0.0s\n",
      "[CV 1/5] END LR__C=5.263631578947369, LR__solver=newton-cholesky, SCL=None;, score=-0.427 total time=   0.0s\n",
      "[CV 2/5] END LR__C=5.263631578947369, LR__solver=newton-cholesky, SCL=None;, score=-0.439 total time=   0.0s\n",
      "[CV 3/5] END LR__C=5.263631578947369, LR__solver=newton-cholesky, SCL=None;, score=-0.423 total time=   0.0s\n",
      "[CV 4/5] END LR__C=5.263631578947369, LR__solver=newton-cholesky, SCL=None;, score=-0.433 total time=   0.0s\n",
      "[CV 5/5] END LR__C=5.263631578947369, LR__solver=newton-cholesky, SCL=None;, score=-0.427 total time=   0.0s\n",
      "[CV 1/5] END LR__C=5.263631578947369, LR__solver=sag, SCL=MinMaxScaler();, score=-0.427 total time=   0.1s\n",
      "[CV 2/5] END LR__C=5.263631578947369, LR__solver=sag, SCL=MinMaxScaler();, score=-0.439 total time=   0.1s\n",
      "[CV 3/5] END LR__C=5.263631578947369, LR__solver=sag, SCL=MinMaxScaler();, score=-0.423 total time=   0.1s\n",
      "[CV 4/5] END LR__C=5.263631578947369, LR__solver=sag, SCL=MinMaxScaler();, score=-0.433 total time=   0.1s\n",
      "[CV 5/5] END LR__C=5.263631578947369, LR__solver=sag, SCL=MinMaxScaler();, score=-0.427 total time=   0.1s\n",
      "[CV 1/5] END LR__C=5.263631578947369, LR__solver=sag, SCL=StandardScaler();, score=-0.427 total time=   0.1s\n",
      "[CV 2/5] END LR__C=5.263631578947369, LR__solver=sag, SCL=StandardScaler();, score=-0.440 total time=   0.1s\n",
      "[CV 3/5] END LR__C=5.263631578947369, LR__solver=sag, SCL=StandardScaler();, score=-0.423 total time=   0.1s\n",
      "[CV 4/5] END LR__C=5.263631578947369, LR__solver=sag, SCL=StandardScaler();, score=-0.433 total time=   0.1s\n",
      "[CV 5/5] END LR__C=5.263631578947369, LR__solver=sag, SCL=StandardScaler();, score=-0.427 total time=   0.1s\n"
     ]
    },
    {
     "name": "stderr",
     "output_type": "stream",
     "text": [
      "C:\\Users\\DAI.STUDENTSDC\\AppData\\Local\\anaconda3\\Lib\\site-packages\\sklearn\\linear_model\\_sag.py:349: ConvergenceWarning: The max_iter was reached which means the coef_ did not converge\n",
      "  warnings.warn(\n"
     ]
    },
    {
     "name": "stdout",
     "output_type": "stream",
     "text": [
      "[CV 1/5] END LR__C=5.263631578947369, LR__solver=sag, SCL=None;, score=-0.463 total time=   0.3s\n"
     ]
    },
    {
     "name": "stderr",
     "output_type": "stream",
     "text": [
      "C:\\Users\\DAI.STUDENTSDC\\AppData\\Local\\anaconda3\\Lib\\site-packages\\sklearn\\linear_model\\_sag.py:349: ConvergenceWarning: The max_iter was reached which means the coef_ did not converge\n",
      "  warnings.warn(\n"
     ]
    },
    {
     "name": "stdout",
     "output_type": "stream",
     "text": [
      "[CV 2/5] END LR__C=5.263631578947369, LR__solver=sag, SCL=None;, score=-0.471 total time=   0.3s\n"
     ]
    },
    {
     "name": "stderr",
     "output_type": "stream",
     "text": [
      "C:\\Users\\DAI.STUDENTSDC\\AppData\\Local\\anaconda3\\Lib\\site-packages\\sklearn\\linear_model\\_sag.py:349: ConvergenceWarning: The max_iter was reached which means the coef_ did not converge\n",
      "  warnings.warn(\n"
     ]
    },
    {
     "name": "stdout",
     "output_type": "stream",
     "text": [
      "[CV 3/5] END LR__C=5.263631578947369, LR__solver=sag, SCL=None;, score=-0.463 total time=   0.4s\n"
     ]
    },
    {
     "name": "stderr",
     "output_type": "stream",
     "text": [
      "C:\\Users\\DAI.STUDENTSDC\\AppData\\Local\\anaconda3\\Lib\\site-packages\\sklearn\\linear_model\\_sag.py:349: ConvergenceWarning: The max_iter was reached which means the coef_ did not converge\n",
      "  warnings.warn(\n"
     ]
    },
    {
     "name": "stdout",
     "output_type": "stream",
     "text": [
      "[CV 4/5] END LR__C=5.263631578947369, LR__solver=sag, SCL=None;, score=-0.465 total time=   0.3s\n"
     ]
    },
    {
     "name": "stderr",
     "output_type": "stream",
     "text": [
      "C:\\Users\\DAI.STUDENTSDC\\AppData\\Local\\anaconda3\\Lib\\site-packages\\sklearn\\linear_model\\_sag.py:349: ConvergenceWarning: The max_iter was reached which means the coef_ did not converge\n",
      "  warnings.warn(\n"
     ]
    },
    {
     "name": "stdout",
     "output_type": "stream",
     "text": [
      "[CV 5/5] END LR__C=5.263631578947369, LR__solver=sag, SCL=None;, score=-0.464 total time=   0.3s\n",
      "[CV 1/5] END LR__C=5.263631578947369, LR__solver=saga, SCL=MinMaxScaler();, score=-0.427 total time=   0.0s\n",
      "[CV 2/5] END LR__C=5.263631578947369, LR__solver=saga, SCL=MinMaxScaler();, score=-0.439 total time=   0.0s\n",
      "[CV 3/5] END LR__C=5.263631578947369, LR__solver=saga, SCL=MinMaxScaler();, score=-0.423 total time=   0.0s\n",
      "[CV 4/5] END LR__C=5.263631578947369, LR__solver=saga, SCL=MinMaxScaler();, score=-0.433 total time=   0.0s\n",
      "[CV 5/5] END LR__C=5.263631578947369, LR__solver=saga, SCL=MinMaxScaler();, score=-0.427 total time=   0.0s\n",
      "[CV 1/5] END LR__C=5.263631578947369, LR__solver=saga, SCL=StandardScaler();, score=-0.427 total time=   0.0s\n",
      "[CV 2/5] END LR__C=5.263631578947369, LR__solver=saga, SCL=StandardScaler();, score=-0.440 total time=   0.0s\n",
      "[CV 3/5] END LR__C=5.263631578947369, LR__solver=saga, SCL=StandardScaler();, score=-0.423 total time=   0.0s\n",
      "[CV 4/5] END LR__C=5.263631578947369, LR__solver=saga, SCL=StandardScaler();, score=-0.433 total time=   0.0s\n",
      "[CV 5/5] END LR__C=5.263631578947369, LR__solver=saga, SCL=StandardScaler();, score=-0.427 total time=   0.0s\n"
     ]
    },
    {
     "name": "stderr",
     "output_type": "stream",
     "text": [
      "C:\\Users\\DAI.STUDENTSDC\\AppData\\Local\\anaconda3\\Lib\\site-packages\\sklearn\\linear_model\\_sag.py:349: ConvergenceWarning: The max_iter was reached which means the coef_ did not converge\n",
      "  warnings.warn(\n"
     ]
    },
    {
     "name": "stdout",
     "output_type": "stream",
     "text": [
      "[CV 1/5] END LR__C=5.263631578947369, LR__solver=saga, SCL=None;, score=-0.490 total time=   0.3s\n"
     ]
    },
    {
     "name": "stderr",
     "output_type": "stream",
     "text": [
      "C:\\Users\\DAI.STUDENTSDC\\AppData\\Local\\anaconda3\\Lib\\site-packages\\sklearn\\linear_model\\_sag.py:349: ConvergenceWarning: The max_iter was reached which means the coef_ did not converge\n",
      "  warnings.warn(\n"
     ]
    },
    {
     "name": "stdout",
     "output_type": "stream",
     "text": [
      "[CV 2/5] END LR__C=5.263631578947369, LR__solver=saga, SCL=None;, score=-0.494 total time=   0.4s\n"
     ]
    },
    {
     "name": "stderr",
     "output_type": "stream",
     "text": [
      "C:\\Users\\DAI.STUDENTSDC\\AppData\\Local\\anaconda3\\Lib\\site-packages\\sklearn\\linear_model\\_sag.py:349: ConvergenceWarning: The max_iter was reached which means the coef_ did not converge\n",
      "  warnings.warn(\n"
     ]
    },
    {
     "name": "stdout",
     "output_type": "stream",
     "text": [
      "[CV 3/5] END LR__C=5.263631578947369, LR__solver=saga, SCL=None;, score=-0.488 total time=   0.4s\n"
     ]
    },
    {
     "name": "stderr",
     "output_type": "stream",
     "text": [
      "C:\\Users\\DAI.STUDENTSDC\\AppData\\Local\\anaconda3\\Lib\\site-packages\\sklearn\\linear_model\\_sag.py:349: ConvergenceWarning: The max_iter was reached which means the coef_ did not converge\n",
      "  warnings.warn(\n"
     ]
    },
    {
     "name": "stdout",
     "output_type": "stream",
     "text": [
      "[CV 4/5] END LR__C=5.263631578947369, LR__solver=saga, SCL=None;, score=-0.489 total time=   0.3s\n"
     ]
    },
    {
     "name": "stderr",
     "output_type": "stream",
     "text": [
      "C:\\Users\\DAI.STUDENTSDC\\AppData\\Local\\anaconda3\\Lib\\site-packages\\sklearn\\linear_model\\_sag.py:349: ConvergenceWarning: The max_iter was reached which means the coef_ did not converge\n",
      "  warnings.warn(\n"
     ]
    },
    {
     "name": "stdout",
     "output_type": "stream",
     "text": [
      "[CV 5/5] END LR__C=5.263631578947369, LR__solver=saga, SCL=None;, score=-0.490 total time=   0.4s\n",
      "[CV 1/5] END LR__C=5.789894736842106, LR__solver=lbfgs, SCL=MinMaxScaler();, score=-0.427 total time=   0.0s\n",
      "[CV 2/5] END LR__C=5.789894736842106, LR__solver=lbfgs, SCL=MinMaxScaler();, score=-0.439 total time=   0.0s\n",
      "[CV 3/5] END LR__C=5.789894736842106, LR__solver=lbfgs, SCL=MinMaxScaler();, score=-0.423 total time=   0.0s\n",
      "[CV 4/5] END LR__C=5.789894736842106, LR__solver=lbfgs, SCL=MinMaxScaler();, score=-0.433 total time=   0.0s\n",
      "[CV 5/5] END LR__C=5.789894736842106, LR__solver=lbfgs, SCL=MinMaxScaler();, score=-0.427 total time=   0.0s\n",
      "[CV 1/5] END LR__C=5.789894736842106, LR__solver=lbfgs, SCL=StandardScaler();, score=-0.427 total time=   0.0s\n",
      "[CV 2/5] END LR__C=5.789894736842106, LR__solver=lbfgs, SCL=StandardScaler();, score=-0.440 total time=   0.0s\n",
      "[CV 3/5] END LR__C=5.789894736842106, LR__solver=lbfgs, SCL=StandardScaler();, score=-0.423 total time=   0.0s\n",
      "[CV 4/5] END LR__C=5.789894736842106, LR__solver=lbfgs, SCL=StandardScaler();, score=-0.433 total time=   0.0s\n",
      "[CV 5/5] END LR__C=5.789894736842106, LR__solver=lbfgs, SCL=StandardScaler();, score=-0.427 total time=   0.0s\n"
     ]
    },
    {
     "name": "stderr",
     "output_type": "stream",
     "text": [
      "C:\\Users\\DAI.STUDENTSDC\\AppData\\Local\\anaconda3\\Lib\\site-packages\\sklearn\\linear_model\\_logistic.py:469: ConvergenceWarning: lbfgs failed to converge (status=1):\n",
      "STOP: TOTAL NO. of ITERATIONS REACHED LIMIT.\n",
      "\n",
      "Increase the number of iterations (max_iter) or scale the data as shown in:\n",
      "    https://scikit-learn.org/stable/modules/preprocessing.html\n",
      "Please also refer to the documentation for alternative solver options:\n",
      "    https://scikit-learn.org/stable/modules/linear_model.html#logistic-regression\n",
      "  n_iter_i = _check_optimize_result(\n",
      "C:\\Users\\DAI.STUDENTSDC\\AppData\\Local\\anaconda3\\Lib\\site-packages\\sklearn\\linear_model\\_logistic.py:469: ConvergenceWarning: lbfgs failed to converge (status=1):\n",
      "STOP: TOTAL NO. of ITERATIONS REACHED LIMIT.\n",
      "\n",
      "Increase the number of iterations (max_iter) or scale the data as shown in:\n",
      "    https://scikit-learn.org/stable/modules/preprocessing.html\n",
      "Please also refer to the documentation for alternative solver options:\n",
      "    https://scikit-learn.org/stable/modules/linear_model.html#logistic-regression\n",
      "  n_iter_i = _check_optimize_result(\n"
     ]
    },
    {
     "name": "stdout",
     "output_type": "stream",
     "text": [
      "[CV 1/5] END LR__C=5.789894736842106, LR__solver=lbfgs, SCL=None;, score=-0.431 total time=   0.1s\n",
      "[CV 2/5] END LR__C=5.789894736842106, LR__solver=lbfgs, SCL=None;, score=-0.440 total time=   0.1s\n"
     ]
    },
    {
     "name": "stderr",
     "output_type": "stream",
     "text": [
      "C:\\Users\\DAI.STUDENTSDC\\AppData\\Local\\anaconda3\\Lib\\site-packages\\sklearn\\linear_model\\_logistic.py:469: ConvergenceWarning: lbfgs failed to converge (status=1):\n",
      "STOP: TOTAL NO. of ITERATIONS REACHED LIMIT.\n",
      "\n",
      "Increase the number of iterations (max_iter) or scale the data as shown in:\n",
      "    https://scikit-learn.org/stable/modules/preprocessing.html\n",
      "Please also refer to the documentation for alternative solver options:\n",
      "    https://scikit-learn.org/stable/modules/linear_model.html#logistic-regression\n",
      "  n_iter_i = _check_optimize_result(\n",
      "C:\\Users\\DAI.STUDENTSDC\\AppData\\Local\\anaconda3\\Lib\\site-packages\\sklearn\\linear_model\\_logistic.py:469: ConvergenceWarning: lbfgs failed to converge (status=1):\n",
      "STOP: TOTAL NO. of ITERATIONS REACHED LIMIT.\n",
      "\n",
      "Increase the number of iterations (max_iter) or scale the data as shown in:\n",
      "    https://scikit-learn.org/stable/modules/preprocessing.html\n",
      "Please also refer to the documentation for alternative solver options:\n",
      "    https://scikit-learn.org/stable/modules/linear_model.html#logistic-regression\n",
      "  n_iter_i = _check_optimize_result(\n"
     ]
    },
    {
     "name": "stdout",
     "output_type": "stream",
     "text": [
      "[CV 3/5] END LR__C=5.789894736842106, LR__solver=lbfgs, SCL=None;, score=-0.427 total time=   0.1s\n",
      "[CV 4/5] END LR__C=5.789894736842106, LR__solver=lbfgs, SCL=None;, score=-0.435 total time=   0.1s\n"
     ]
    },
    {
     "name": "stderr",
     "output_type": "stream",
     "text": [
      "C:\\Users\\DAI.STUDENTSDC\\AppData\\Local\\anaconda3\\Lib\\site-packages\\sklearn\\linear_model\\_logistic.py:469: ConvergenceWarning: lbfgs failed to converge (status=1):\n",
      "STOP: TOTAL NO. of ITERATIONS REACHED LIMIT.\n",
      "\n",
      "Increase the number of iterations (max_iter) or scale the data as shown in:\n",
      "    https://scikit-learn.org/stable/modules/preprocessing.html\n",
      "Please also refer to the documentation for alternative solver options:\n",
      "    https://scikit-learn.org/stable/modules/linear_model.html#logistic-regression\n",
      "  n_iter_i = _check_optimize_result(\n"
     ]
    },
    {
     "name": "stdout",
     "output_type": "stream",
     "text": [
      "[CV 5/5] END LR__C=5.789894736842106, LR__solver=lbfgs, SCL=None;, score=-0.429 total time=   0.1s\n",
      "[CV 1/5] END LR__C=5.789894736842106, LR__solver=liblinear, SCL=MinMaxScaler();, score=-0.427 total time=   0.0s\n",
      "[CV 2/5] END LR__C=5.789894736842106, LR__solver=liblinear, SCL=MinMaxScaler();, score=-0.439 total time=   0.0s\n",
      "[CV 3/5] END LR__C=5.789894736842106, LR__solver=liblinear, SCL=MinMaxScaler();, score=-0.423 total time=   0.0s\n",
      "[CV 4/5] END LR__C=5.789894736842106, LR__solver=liblinear, SCL=MinMaxScaler();, score=-0.433 total time=   0.0s\n",
      "[CV 5/5] END LR__C=5.789894736842106, LR__solver=liblinear, SCL=MinMaxScaler();, score=-0.427 total time=   0.0s\n",
      "[CV 1/5] END LR__C=5.789894736842106, LR__solver=liblinear, SCL=StandardScaler();, score=-0.427 total time=   0.0s\n",
      "[CV 2/5] END LR__C=5.789894736842106, LR__solver=liblinear, SCL=StandardScaler();, score=-0.440 total time=   0.0s\n",
      "[CV 3/5] END LR__C=5.789894736842106, LR__solver=liblinear, SCL=StandardScaler();, score=-0.423 total time=   0.0s\n",
      "[CV 4/5] END LR__C=5.789894736842106, LR__solver=liblinear, SCL=StandardScaler();, score=-0.433 total time=   0.0s\n",
      "[CV 5/5] END LR__C=5.789894736842106, LR__solver=liblinear, SCL=StandardScaler();, score=-0.427 total time=   0.0s\n",
      "[CV 1/5] END LR__C=5.789894736842106, LR__solver=liblinear, SCL=None;, score=-0.427 total time=   0.0s\n",
      "[CV 2/5] END LR__C=5.789894736842106, LR__solver=liblinear, SCL=None;, score=-0.439 total time=   0.0s\n",
      "[CV 3/5] END LR__C=5.789894736842106, LR__solver=liblinear, SCL=None;, score=-0.423 total time=   0.0s\n",
      "[CV 4/5] END LR__C=5.789894736842106, LR__solver=liblinear, SCL=None;, score=-0.433 total time=   0.0s\n",
      "[CV 5/5] END LR__C=5.789894736842106, LR__solver=liblinear, SCL=None;, score=-0.427 total time=   0.0s\n",
      "[CV 1/5] END LR__C=5.789894736842106, LR__solver=newton-cg, SCL=MinMaxScaler();, score=-0.427 total time=   0.0s\n",
      "[CV 2/5] END LR__C=5.789894736842106, LR__solver=newton-cg, SCL=MinMaxScaler();, score=-0.439 total time=   0.0s\n",
      "[CV 3/5] END LR__C=5.789894736842106, LR__solver=newton-cg, SCL=MinMaxScaler();, score=-0.423 total time=   0.0s\n",
      "[CV 4/5] END LR__C=5.789894736842106, LR__solver=newton-cg, SCL=MinMaxScaler();, score=-0.433 total time=   0.0s\n",
      "[CV 5/5] END LR__C=5.789894736842106, LR__solver=newton-cg, SCL=MinMaxScaler();, score=-0.427 total time=   0.0s\n",
      "[CV 1/5] END LR__C=5.789894736842106, LR__solver=newton-cg, SCL=StandardScaler();, score=-0.427 total time=   0.0s\n",
      "[CV 2/5] END LR__C=5.789894736842106, LR__solver=newton-cg, SCL=StandardScaler();, score=-0.440 total time=   0.0s\n",
      "[CV 3/5] END LR__C=5.789894736842106, LR__solver=newton-cg, SCL=StandardScaler();, score=-0.423 total time=   0.0s\n",
      "[CV 4/5] END LR__C=5.789894736842106, LR__solver=newton-cg, SCL=StandardScaler();, score=-0.433 total time=   0.0s\n",
      "[CV 5/5] END LR__C=5.789894736842106, LR__solver=newton-cg, SCL=StandardScaler();, score=-0.427 total time=   0.0s\n",
      "[CV 1/5] END LR__C=5.789894736842106, LR__solver=newton-cg, SCL=None;, score=-0.427 total time=   0.1s\n",
      "[CV 2/5] END LR__C=5.789894736842106, LR__solver=newton-cg, SCL=None;, score=-0.440 total time=   0.1s\n",
      "[CV 3/5] END LR__C=5.789894736842106, LR__solver=newton-cg, SCL=None;, score=-0.423 total time=   0.1s\n",
      "[CV 4/5] END LR__C=5.789894736842106, LR__solver=newton-cg, SCL=None;, score=-0.433 total time=   0.2s\n",
      "[CV 5/5] END LR__C=5.789894736842106, LR__solver=newton-cg, SCL=None;, score=-0.427 total time=   0.2s\n",
      "[CV 1/5] END LR__C=5.789894736842106, LR__solver=newton-cholesky, SCL=MinMaxScaler();, score=-0.427 total time=   0.0s\n",
      "[CV 2/5] END LR__C=5.789894736842106, LR__solver=newton-cholesky, SCL=MinMaxScaler();, score=-0.439 total time=   0.0s\n",
      "[CV 3/5] END LR__C=5.789894736842106, LR__solver=newton-cholesky, SCL=MinMaxScaler();, score=-0.423 total time=   0.0s\n",
      "[CV 4/5] END LR__C=5.789894736842106, LR__solver=newton-cholesky, SCL=MinMaxScaler();, score=-0.433 total time=   0.0s\n",
      "[CV 5/5] END LR__C=5.789894736842106, LR__solver=newton-cholesky, SCL=MinMaxScaler();, score=-0.427 total time=   0.0s\n",
      "[CV 1/5] END LR__C=5.789894736842106, LR__solver=newton-cholesky, SCL=StandardScaler();, score=-0.427 total time=   0.0s\n",
      "[CV 2/5] END LR__C=5.789894736842106, LR__solver=newton-cholesky, SCL=StandardScaler();, score=-0.440 total time=   0.0s\n",
      "[CV 3/5] END LR__C=5.789894736842106, LR__solver=newton-cholesky, SCL=StandardScaler();, score=-0.423 total time=   0.0s\n",
      "[CV 4/5] END LR__C=5.789894736842106, LR__solver=newton-cholesky, SCL=StandardScaler();, score=-0.433 total time=   0.0s\n",
      "[CV 5/5] END LR__C=5.789894736842106, LR__solver=newton-cholesky, SCL=StandardScaler();, score=-0.427 total time=   0.0s\n",
      "[CV 1/5] END LR__C=5.789894736842106, LR__solver=newton-cholesky, SCL=None;, score=-0.427 total time=   0.0s\n",
      "[CV 2/5] END LR__C=5.789894736842106, LR__solver=newton-cholesky, SCL=None;, score=-0.439 total time=   0.0s\n",
      "[CV 3/5] END LR__C=5.789894736842106, LR__solver=newton-cholesky, SCL=None;, score=-0.423 total time=   0.0s\n",
      "[CV 4/5] END LR__C=5.789894736842106, LR__solver=newton-cholesky, SCL=None;, score=-0.433 total time=   0.0s\n",
      "[CV 5/5] END LR__C=5.789894736842106, LR__solver=newton-cholesky, SCL=None;, score=-0.427 total time=   0.0s\n",
      "[CV 1/5] END LR__C=5.789894736842106, LR__solver=sag, SCL=MinMaxScaler();, score=-0.427 total time=   0.1s\n",
      "[CV 2/5] END LR__C=5.789894736842106, LR__solver=sag, SCL=MinMaxScaler();, score=-0.439 total time=   0.1s\n",
      "[CV 3/5] END LR__C=5.789894736842106, LR__solver=sag, SCL=MinMaxScaler();, score=-0.423 total time=   0.1s\n",
      "[CV 4/5] END LR__C=5.789894736842106, LR__solver=sag, SCL=MinMaxScaler();, score=-0.433 total time=   0.1s\n",
      "[CV 5/5] END LR__C=5.789894736842106, LR__solver=sag, SCL=MinMaxScaler();, score=-0.427 total time=   0.1s\n",
      "[CV 1/5] END LR__C=5.789894736842106, LR__solver=sag, SCL=StandardScaler();, score=-0.427 total time=   0.1s\n",
      "[CV 2/5] END LR__C=5.789894736842106, LR__solver=sag, SCL=StandardScaler();, score=-0.440 total time=   0.1s\n",
      "[CV 3/5] END LR__C=5.789894736842106, LR__solver=sag, SCL=StandardScaler();, score=-0.423 total time=   0.0s\n",
      "[CV 4/5] END LR__C=5.789894736842106, LR__solver=sag, SCL=StandardScaler();, score=-0.433 total time=   0.1s\n",
      "[CV 5/5] END LR__C=5.789894736842106, LR__solver=sag, SCL=StandardScaler();, score=-0.427 total time=   0.1s\n"
     ]
    },
    {
     "name": "stderr",
     "output_type": "stream",
     "text": [
      "C:\\Users\\DAI.STUDENTSDC\\AppData\\Local\\anaconda3\\Lib\\site-packages\\sklearn\\linear_model\\_sag.py:349: ConvergenceWarning: The max_iter was reached which means the coef_ did not converge\n",
      "  warnings.warn(\n"
     ]
    },
    {
     "name": "stdout",
     "output_type": "stream",
     "text": [
      "[CV 1/5] END LR__C=5.789894736842106, LR__solver=sag, SCL=None;, score=-0.463 total time=   0.3s\n"
     ]
    },
    {
     "name": "stderr",
     "output_type": "stream",
     "text": [
      "C:\\Users\\DAI.STUDENTSDC\\AppData\\Local\\anaconda3\\Lib\\site-packages\\sklearn\\linear_model\\_sag.py:349: ConvergenceWarning: The max_iter was reached which means the coef_ did not converge\n",
      "  warnings.warn(\n"
     ]
    },
    {
     "name": "stdout",
     "output_type": "stream",
     "text": [
      "[CV 2/5] END LR__C=5.789894736842106, LR__solver=sag, SCL=None;, score=-0.471 total time=   0.3s\n"
     ]
    },
    {
     "name": "stderr",
     "output_type": "stream",
     "text": [
      "C:\\Users\\DAI.STUDENTSDC\\AppData\\Local\\anaconda3\\Lib\\site-packages\\sklearn\\linear_model\\_sag.py:349: ConvergenceWarning: The max_iter was reached which means the coef_ did not converge\n",
      "  warnings.warn(\n"
     ]
    },
    {
     "name": "stdout",
     "output_type": "stream",
     "text": [
      "[CV 3/5] END LR__C=5.789894736842106, LR__solver=sag, SCL=None;, score=-0.463 total time=   0.3s\n"
     ]
    },
    {
     "name": "stderr",
     "output_type": "stream",
     "text": [
      "C:\\Users\\DAI.STUDENTSDC\\AppData\\Local\\anaconda3\\Lib\\site-packages\\sklearn\\linear_model\\_sag.py:349: ConvergenceWarning: The max_iter was reached which means the coef_ did not converge\n",
      "  warnings.warn(\n"
     ]
    },
    {
     "name": "stdout",
     "output_type": "stream",
     "text": [
      "[CV 4/5] END LR__C=5.789894736842106, LR__solver=sag, SCL=None;, score=-0.465 total time=   0.3s\n"
     ]
    },
    {
     "name": "stderr",
     "output_type": "stream",
     "text": [
      "C:\\Users\\DAI.STUDENTSDC\\AppData\\Local\\anaconda3\\Lib\\site-packages\\sklearn\\linear_model\\_sag.py:349: ConvergenceWarning: The max_iter was reached which means the coef_ did not converge\n",
      "  warnings.warn(\n"
     ]
    },
    {
     "name": "stdout",
     "output_type": "stream",
     "text": [
      "[CV 5/5] END LR__C=5.789894736842106, LR__solver=sag, SCL=None;, score=-0.464 total time=   0.4s\n",
      "[CV 1/5] END LR__C=5.789894736842106, LR__solver=saga, SCL=MinMaxScaler();, score=-0.427 total time=   0.0s\n",
      "[CV 2/5] END LR__C=5.789894736842106, LR__solver=saga, SCL=MinMaxScaler();, score=-0.439 total time=   0.0s\n",
      "[CV 3/5] END LR__C=5.789894736842106, LR__solver=saga, SCL=MinMaxScaler();, score=-0.423 total time=   0.0s\n",
      "[CV 4/5] END LR__C=5.789894736842106, LR__solver=saga, SCL=MinMaxScaler();, score=-0.433 total time=   0.0s\n",
      "[CV 5/5] END LR__C=5.789894736842106, LR__solver=saga, SCL=MinMaxScaler();, score=-0.427 total time=   0.0s\n",
      "[CV 1/5] END LR__C=5.789894736842106, LR__solver=saga, SCL=StandardScaler();, score=-0.427 total time=   0.0s\n",
      "[CV 2/5] END LR__C=5.789894736842106, LR__solver=saga, SCL=StandardScaler();, score=-0.440 total time=   0.0s\n",
      "[CV 3/5] END LR__C=5.789894736842106, LR__solver=saga, SCL=StandardScaler();, score=-0.423 total time=   0.0s\n",
      "[CV 4/5] END LR__C=5.789894736842106, LR__solver=saga, SCL=StandardScaler();, score=-0.433 total time=   0.0s\n",
      "[CV 5/5] END LR__C=5.789894736842106, LR__solver=saga, SCL=StandardScaler();, score=-0.427 total time=   0.0s\n"
     ]
    },
    {
     "name": "stderr",
     "output_type": "stream",
     "text": [
      "C:\\Users\\DAI.STUDENTSDC\\AppData\\Local\\anaconda3\\Lib\\site-packages\\sklearn\\linear_model\\_sag.py:349: ConvergenceWarning: The max_iter was reached which means the coef_ did not converge\n",
      "  warnings.warn(\n"
     ]
    },
    {
     "name": "stdout",
     "output_type": "stream",
     "text": [
      "[CV 1/5] END LR__C=5.789894736842106, LR__solver=saga, SCL=None;, score=-0.490 total time=   0.4s\n"
     ]
    },
    {
     "name": "stderr",
     "output_type": "stream",
     "text": [
      "C:\\Users\\DAI.STUDENTSDC\\AppData\\Local\\anaconda3\\Lib\\site-packages\\sklearn\\linear_model\\_sag.py:349: ConvergenceWarning: The max_iter was reached which means the coef_ did not converge\n",
      "  warnings.warn(\n"
     ]
    },
    {
     "name": "stdout",
     "output_type": "stream",
     "text": [
      "[CV 2/5] END LR__C=5.789894736842106, LR__solver=saga, SCL=None;, score=-0.494 total time=   0.4s\n"
     ]
    },
    {
     "name": "stderr",
     "output_type": "stream",
     "text": [
      "C:\\Users\\DAI.STUDENTSDC\\AppData\\Local\\anaconda3\\Lib\\site-packages\\sklearn\\linear_model\\_sag.py:349: ConvergenceWarning: The max_iter was reached which means the coef_ did not converge\n",
      "  warnings.warn(\n"
     ]
    },
    {
     "name": "stdout",
     "output_type": "stream",
     "text": [
      "[CV 3/5] END LR__C=5.789894736842106, LR__solver=saga, SCL=None;, score=-0.488 total time=   0.4s\n"
     ]
    },
    {
     "name": "stderr",
     "output_type": "stream",
     "text": [
      "C:\\Users\\DAI.STUDENTSDC\\AppData\\Local\\anaconda3\\Lib\\site-packages\\sklearn\\linear_model\\_sag.py:349: ConvergenceWarning: The max_iter was reached which means the coef_ did not converge\n",
      "  warnings.warn(\n"
     ]
    },
    {
     "name": "stdout",
     "output_type": "stream",
     "text": [
      "[CV 4/5] END LR__C=5.789894736842106, LR__solver=saga, SCL=None;, score=-0.489 total time=   0.3s\n"
     ]
    },
    {
     "name": "stderr",
     "output_type": "stream",
     "text": [
      "C:\\Users\\DAI.STUDENTSDC\\AppData\\Local\\anaconda3\\Lib\\site-packages\\sklearn\\linear_model\\_sag.py:349: ConvergenceWarning: The max_iter was reached which means the coef_ did not converge\n",
      "  warnings.warn(\n"
     ]
    },
    {
     "name": "stdout",
     "output_type": "stream",
     "text": [
      "[CV 5/5] END LR__C=5.789894736842106, LR__solver=saga, SCL=None;, score=-0.490 total time=   0.4s\n",
      "[CV 1/5] END LR__C=6.316157894736842, LR__solver=lbfgs, SCL=MinMaxScaler();, score=-0.427 total time=   0.0s\n",
      "[CV 2/5] END LR__C=6.316157894736842, LR__solver=lbfgs, SCL=MinMaxScaler();, score=-0.439 total time=   0.0s\n",
      "[CV 3/5] END LR__C=6.316157894736842, LR__solver=lbfgs, SCL=MinMaxScaler();, score=-0.423 total time=   0.0s\n",
      "[CV 4/5] END LR__C=6.316157894736842, LR__solver=lbfgs, SCL=MinMaxScaler();, score=-0.433 total time=   0.0s\n",
      "[CV 5/5] END LR__C=6.316157894736842, LR__solver=lbfgs, SCL=MinMaxScaler();, score=-0.427 total time=   0.0s\n",
      "[CV 1/5] END LR__C=6.316157894736842, LR__solver=lbfgs, SCL=StandardScaler();, score=-0.427 total time=   0.0s\n",
      "[CV 2/5] END LR__C=6.316157894736842, LR__solver=lbfgs, SCL=StandardScaler();, score=-0.440 total time=   0.0s\n",
      "[CV 3/5] END LR__C=6.316157894736842, LR__solver=lbfgs, SCL=StandardScaler();, score=-0.423 total time=   0.0s\n",
      "[CV 4/5] END LR__C=6.316157894736842, LR__solver=lbfgs, SCL=StandardScaler();, score=-0.433 total time=   0.0s\n",
      "[CV 5/5] END LR__C=6.316157894736842, LR__solver=lbfgs, SCL=StandardScaler();, score=-0.427 total time=   0.0s\n"
     ]
    },
    {
     "name": "stderr",
     "output_type": "stream",
     "text": [
      "C:\\Users\\DAI.STUDENTSDC\\AppData\\Local\\anaconda3\\Lib\\site-packages\\sklearn\\linear_model\\_logistic.py:469: ConvergenceWarning: lbfgs failed to converge (status=1):\n",
      "STOP: TOTAL NO. of ITERATIONS REACHED LIMIT.\n",
      "\n",
      "Increase the number of iterations (max_iter) or scale the data as shown in:\n",
      "    https://scikit-learn.org/stable/modules/preprocessing.html\n",
      "Please also refer to the documentation for alternative solver options:\n",
      "    https://scikit-learn.org/stable/modules/linear_model.html#logistic-regression\n",
      "  n_iter_i = _check_optimize_result(\n",
      "C:\\Users\\DAI.STUDENTSDC\\AppData\\Local\\anaconda3\\Lib\\site-packages\\sklearn\\linear_model\\_logistic.py:469: ConvergenceWarning: lbfgs failed to converge (status=1):\n",
      "STOP: TOTAL NO. of ITERATIONS REACHED LIMIT.\n",
      "\n",
      "Increase the number of iterations (max_iter) or scale the data as shown in:\n",
      "    https://scikit-learn.org/stable/modules/preprocessing.html\n",
      "Please also refer to the documentation for alternative solver options:\n",
      "    https://scikit-learn.org/stable/modules/linear_model.html#logistic-regression\n",
      "  n_iter_i = _check_optimize_result(\n"
     ]
    },
    {
     "name": "stdout",
     "output_type": "stream",
     "text": [
      "[CV 1/5] END LR__C=6.316157894736842, LR__solver=lbfgs, SCL=None;, score=-0.431 total time=   0.1s\n",
      "[CV 2/5] END LR__C=6.316157894736842, LR__solver=lbfgs, SCL=None;, score=-0.441 total time=   0.1s\n"
     ]
    },
    {
     "name": "stderr",
     "output_type": "stream",
     "text": [
      "C:\\Users\\DAI.STUDENTSDC\\AppData\\Local\\anaconda3\\Lib\\site-packages\\sklearn\\linear_model\\_logistic.py:469: ConvergenceWarning: lbfgs failed to converge (status=1):\n",
      "STOP: TOTAL NO. of ITERATIONS REACHED LIMIT.\n",
      "\n",
      "Increase the number of iterations (max_iter) or scale the data as shown in:\n",
      "    https://scikit-learn.org/stable/modules/preprocessing.html\n",
      "Please also refer to the documentation for alternative solver options:\n",
      "    https://scikit-learn.org/stable/modules/linear_model.html#logistic-regression\n",
      "  n_iter_i = _check_optimize_result(\n",
      "C:\\Users\\DAI.STUDENTSDC\\AppData\\Local\\anaconda3\\Lib\\site-packages\\sklearn\\linear_model\\_logistic.py:469: ConvergenceWarning: lbfgs failed to converge (status=1):\n",
      "STOP: TOTAL NO. of ITERATIONS REACHED LIMIT.\n",
      "\n",
      "Increase the number of iterations (max_iter) or scale the data as shown in:\n",
      "    https://scikit-learn.org/stable/modules/preprocessing.html\n",
      "Please also refer to the documentation for alternative solver options:\n",
      "    https://scikit-learn.org/stable/modules/linear_model.html#logistic-regression\n",
      "  n_iter_i = _check_optimize_result(\n"
     ]
    },
    {
     "name": "stdout",
     "output_type": "stream",
     "text": [
      "[CV 3/5] END LR__C=6.316157894736842, LR__solver=lbfgs, SCL=None;, score=-0.426 total time=   0.1s\n",
      "[CV 4/5] END LR__C=6.316157894736842, LR__solver=lbfgs, SCL=None;, score=-0.433 total time=   0.1s\n"
     ]
    },
    {
     "name": "stderr",
     "output_type": "stream",
     "text": [
      "C:\\Users\\DAI.STUDENTSDC\\AppData\\Local\\anaconda3\\Lib\\site-packages\\sklearn\\linear_model\\_logistic.py:469: ConvergenceWarning: lbfgs failed to converge (status=1):\n",
      "STOP: TOTAL NO. of ITERATIONS REACHED LIMIT.\n",
      "\n",
      "Increase the number of iterations (max_iter) or scale the data as shown in:\n",
      "    https://scikit-learn.org/stable/modules/preprocessing.html\n",
      "Please also refer to the documentation for alternative solver options:\n",
      "    https://scikit-learn.org/stable/modules/linear_model.html#logistic-regression\n",
      "  n_iter_i = _check_optimize_result(\n"
     ]
    },
    {
     "name": "stdout",
     "output_type": "stream",
     "text": [
      "[CV 5/5] END LR__C=6.316157894736842, LR__solver=lbfgs, SCL=None;, score=-0.429 total time=   0.1s\n",
      "[CV 1/5] END LR__C=6.316157894736842, LR__solver=liblinear, SCL=MinMaxScaler();, score=-0.427 total time=   0.0s\n",
      "[CV 2/5] END LR__C=6.316157894736842, LR__solver=liblinear, SCL=MinMaxScaler();, score=-0.439 total time=   0.0s\n",
      "[CV 3/5] END LR__C=6.316157894736842, LR__solver=liblinear, SCL=MinMaxScaler();, score=-0.423 total time=   0.0s\n",
      "[CV 4/5] END LR__C=6.316157894736842, LR__solver=liblinear, SCL=MinMaxScaler();, score=-0.433 total time=   0.0s\n",
      "[CV 5/5] END LR__C=6.316157894736842, LR__solver=liblinear, SCL=MinMaxScaler();, score=-0.427 total time=   0.0s\n",
      "[CV 1/5] END LR__C=6.316157894736842, LR__solver=liblinear, SCL=StandardScaler();, score=-0.427 total time=   0.0s\n",
      "[CV 2/5] END LR__C=6.316157894736842, LR__solver=liblinear, SCL=StandardScaler();, score=-0.440 total time=   0.0s\n",
      "[CV 3/5] END LR__C=6.316157894736842, LR__solver=liblinear, SCL=StandardScaler();, score=-0.423 total time=   0.0s\n",
      "[CV 4/5] END LR__C=6.316157894736842, LR__solver=liblinear, SCL=StandardScaler();, score=-0.433 total time=   0.0s\n",
      "[CV 5/5] END LR__C=6.316157894736842, LR__solver=liblinear, SCL=StandardScaler();, score=-0.427 total time=   0.0s\n",
      "[CV 1/5] END LR__C=6.316157894736842, LR__solver=liblinear, SCL=None;, score=-0.427 total time=   0.0s\n",
      "[CV 2/5] END LR__C=6.316157894736842, LR__solver=liblinear, SCL=None;, score=-0.439 total time=   0.0s\n",
      "[CV 3/5] END LR__C=6.316157894736842, LR__solver=liblinear, SCL=None;, score=-0.423 total time=   0.0s\n",
      "[CV 4/5] END LR__C=6.316157894736842, LR__solver=liblinear, SCL=None;, score=-0.433 total time=   0.0s\n",
      "[CV 5/5] END LR__C=6.316157894736842, LR__solver=liblinear, SCL=None;, score=-0.427 total time=   0.0s\n",
      "[CV 1/5] END LR__C=6.316157894736842, LR__solver=newton-cg, SCL=MinMaxScaler();, score=-0.427 total time=   0.0s\n",
      "[CV 2/5] END LR__C=6.316157894736842, LR__solver=newton-cg, SCL=MinMaxScaler();, score=-0.439 total time=   0.0s\n",
      "[CV 3/5] END LR__C=6.316157894736842, LR__solver=newton-cg, SCL=MinMaxScaler();, score=-0.423 total time=   0.0s\n",
      "[CV 4/5] END LR__C=6.316157894736842, LR__solver=newton-cg, SCL=MinMaxScaler();, score=-0.433 total time=   0.0s\n",
      "[CV 5/5] END LR__C=6.316157894736842, LR__solver=newton-cg, SCL=MinMaxScaler();, score=-0.427 total time=   0.0s\n",
      "[CV 1/5] END LR__C=6.316157894736842, LR__solver=newton-cg, SCL=StandardScaler();, score=-0.427 total time=   0.0s\n",
      "[CV 2/5] END LR__C=6.316157894736842, LR__solver=newton-cg, SCL=StandardScaler();, score=-0.440 total time=   0.0s\n",
      "[CV 3/5] END LR__C=6.316157894736842, LR__solver=newton-cg, SCL=StandardScaler();, score=-0.423 total time=   0.0s\n",
      "[CV 4/5] END LR__C=6.316157894736842, LR__solver=newton-cg, SCL=StandardScaler();, score=-0.433 total time=   0.0s\n",
      "[CV 5/5] END LR__C=6.316157894736842, LR__solver=newton-cg, SCL=StandardScaler();, score=-0.427 total time=   0.0s\n",
      "[CV 1/5] END LR__C=6.316157894736842, LR__solver=newton-cg, SCL=None;, score=-0.427 total time=   0.1s\n",
      "[CV 2/5] END LR__C=6.316157894736842, LR__solver=newton-cg, SCL=None;, score=-0.439 total time=   0.2s\n",
      "[CV 3/5] END LR__C=6.316157894736842, LR__solver=newton-cg, SCL=None;, score=-0.423 total time=   0.1s\n",
      "[CV 4/5] END LR__C=6.316157894736842, LR__solver=newton-cg, SCL=None;, score=-0.433 total time=   0.1s\n",
      "[CV 5/5] END LR__C=6.316157894736842, LR__solver=newton-cg, SCL=None;, score=-0.427 total time=   0.1s\n",
      "[CV 1/5] END LR__C=6.316157894736842, LR__solver=newton-cholesky, SCL=MinMaxScaler();, score=-0.427 total time=   0.0s\n",
      "[CV 2/5] END LR__C=6.316157894736842, LR__solver=newton-cholesky, SCL=MinMaxScaler();, score=-0.439 total time=   0.0s\n",
      "[CV 3/5] END LR__C=6.316157894736842, LR__solver=newton-cholesky, SCL=MinMaxScaler();, score=-0.423 total time=   0.0s\n",
      "[CV 4/5] END LR__C=6.316157894736842, LR__solver=newton-cholesky, SCL=MinMaxScaler();, score=-0.433 total time=   0.0s\n",
      "[CV 5/5] END LR__C=6.316157894736842, LR__solver=newton-cholesky, SCL=MinMaxScaler();, score=-0.427 total time=   0.0s\n",
      "[CV 1/5] END LR__C=6.316157894736842, LR__solver=newton-cholesky, SCL=StandardScaler();, score=-0.427 total time=   0.0s\n",
      "[CV 2/5] END LR__C=6.316157894736842, LR__solver=newton-cholesky, SCL=StandardScaler();, score=-0.440 total time=   0.0s\n",
      "[CV 3/5] END LR__C=6.316157894736842, LR__solver=newton-cholesky, SCL=StandardScaler();, score=-0.423 total time=   0.0s\n",
      "[CV 4/5] END LR__C=6.316157894736842, LR__solver=newton-cholesky, SCL=StandardScaler();, score=-0.433 total time=   0.0s\n",
      "[CV 5/5] END LR__C=6.316157894736842, LR__solver=newton-cholesky, SCL=StandardScaler();, score=-0.427 total time=   0.0s\n",
      "[CV 1/5] END LR__C=6.316157894736842, LR__solver=newton-cholesky, SCL=None;, score=-0.427 total time=   0.0s\n",
      "[CV 2/5] END LR__C=6.316157894736842, LR__solver=newton-cholesky, SCL=None;, score=-0.439 total time=   0.0s\n",
      "[CV 3/5] END LR__C=6.316157894736842, LR__solver=newton-cholesky, SCL=None;, score=-0.423 total time=   0.0s\n",
      "[CV 4/5] END LR__C=6.316157894736842, LR__solver=newton-cholesky, SCL=None;, score=-0.433 total time=   0.0s\n",
      "[CV 5/5] END LR__C=6.316157894736842, LR__solver=newton-cholesky, SCL=None;, score=-0.427 total time=   0.0s\n",
      "[CV 1/5] END LR__C=6.316157894736842, LR__solver=sag, SCL=MinMaxScaler();, score=-0.427 total time=   0.1s\n",
      "[CV 2/5] END LR__C=6.316157894736842, LR__solver=sag, SCL=MinMaxScaler();, score=-0.439 total time=   0.1s\n",
      "[CV 3/5] END LR__C=6.316157894736842, LR__solver=sag, SCL=MinMaxScaler();, score=-0.423 total time=   0.1s\n",
      "[CV 4/5] END LR__C=6.316157894736842, LR__solver=sag, SCL=MinMaxScaler();, score=-0.433 total time=   0.1s\n",
      "[CV 5/5] END LR__C=6.316157894736842, LR__solver=sag, SCL=MinMaxScaler();, score=-0.427 total time=   0.1s\n",
      "[CV 1/5] END LR__C=6.316157894736842, LR__solver=sag, SCL=StandardScaler();, score=-0.427 total time=   0.1s\n",
      "[CV 2/5] END LR__C=6.316157894736842, LR__solver=sag, SCL=StandardScaler();, score=-0.440 total time=   0.1s\n",
      "[CV 3/5] END LR__C=6.316157894736842, LR__solver=sag, SCL=StandardScaler();, score=-0.423 total time=   0.1s\n",
      "[CV 4/5] END LR__C=6.316157894736842, LR__solver=sag, SCL=StandardScaler();, score=-0.433 total time=   0.0s\n",
      "[CV 5/5] END LR__C=6.316157894736842, LR__solver=sag, SCL=StandardScaler();, score=-0.427 total time=   0.0s\n"
     ]
    },
    {
     "name": "stderr",
     "output_type": "stream",
     "text": [
      "C:\\Users\\DAI.STUDENTSDC\\AppData\\Local\\anaconda3\\Lib\\site-packages\\sklearn\\linear_model\\_sag.py:349: ConvergenceWarning: The max_iter was reached which means the coef_ did not converge\n",
      "  warnings.warn(\n"
     ]
    },
    {
     "name": "stdout",
     "output_type": "stream",
     "text": [
      "[CV 1/5] END LR__C=6.316157894736842, LR__solver=sag, SCL=None;, score=-0.463 total time=   0.3s\n"
     ]
    },
    {
     "name": "stderr",
     "output_type": "stream",
     "text": [
      "C:\\Users\\DAI.STUDENTSDC\\AppData\\Local\\anaconda3\\Lib\\site-packages\\sklearn\\linear_model\\_sag.py:349: ConvergenceWarning: The max_iter was reached which means the coef_ did not converge\n",
      "  warnings.warn(\n"
     ]
    },
    {
     "name": "stdout",
     "output_type": "stream",
     "text": [
      "[CV 2/5] END LR__C=6.316157894736842, LR__solver=sag, SCL=None;, score=-0.471 total time=   0.3s\n"
     ]
    },
    {
     "name": "stderr",
     "output_type": "stream",
     "text": [
      "C:\\Users\\DAI.STUDENTSDC\\AppData\\Local\\anaconda3\\Lib\\site-packages\\sklearn\\linear_model\\_sag.py:349: ConvergenceWarning: The max_iter was reached which means the coef_ did not converge\n",
      "  warnings.warn(\n"
     ]
    },
    {
     "name": "stdout",
     "output_type": "stream",
     "text": [
      "[CV 3/5] END LR__C=6.316157894736842, LR__solver=sag, SCL=None;, score=-0.463 total time=   0.3s\n"
     ]
    },
    {
     "name": "stderr",
     "output_type": "stream",
     "text": [
      "C:\\Users\\DAI.STUDENTSDC\\AppData\\Local\\anaconda3\\Lib\\site-packages\\sklearn\\linear_model\\_sag.py:349: ConvergenceWarning: The max_iter was reached which means the coef_ did not converge\n",
      "  warnings.warn(\n"
     ]
    },
    {
     "name": "stdout",
     "output_type": "stream",
     "text": [
      "[CV 4/5] END LR__C=6.316157894736842, LR__solver=sag, SCL=None;, score=-0.465 total time=   0.4s\n"
     ]
    },
    {
     "name": "stderr",
     "output_type": "stream",
     "text": [
      "C:\\Users\\DAI.STUDENTSDC\\AppData\\Local\\anaconda3\\Lib\\site-packages\\sklearn\\linear_model\\_sag.py:349: ConvergenceWarning: The max_iter was reached which means the coef_ did not converge\n",
      "  warnings.warn(\n"
     ]
    },
    {
     "name": "stdout",
     "output_type": "stream",
     "text": [
      "[CV 5/5] END LR__C=6.316157894736842, LR__solver=sag, SCL=None;, score=-0.464 total time=   0.4s\n",
      "[CV 1/5] END LR__C=6.316157894736842, LR__solver=saga, SCL=MinMaxScaler();, score=-0.427 total time=   0.0s\n",
      "[CV 2/5] END LR__C=6.316157894736842, LR__solver=saga, SCL=MinMaxScaler();, score=-0.439 total time=   0.0s\n",
      "[CV 3/5] END LR__C=6.316157894736842, LR__solver=saga, SCL=MinMaxScaler();, score=-0.423 total time=   0.0s\n",
      "[CV 4/5] END LR__C=6.316157894736842, LR__solver=saga, SCL=MinMaxScaler();, score=-0.433 total time=   0.0s\n",
      "[CV 5/5] END LR__C=6.316157894736842, LR__solver=saga, SCL=MinMaxScaler();, score=-0.427 total time=   0.1s\n",
      "[CV 1/5] END LR__C=6.316157894736842, LR__solver=saga, SCL=StandardScaler();, score=-0.427 total time=   0.0s\n",
      "[CV 2/5] END LR__C=6.316157894736842, LR__solver=saga, SCL=StandardScaler();, score=-0.440 total time=   0.0s\n",
      "[CV 3/5] END LR__C=6.316157894736842, LR__solver=saga, SCL=StandardScaler();, score=-0.423 total time=   0.0s\n",
      "[CV 4/5] END LR__C=6.316157894736842, LR__solver=saga, SCL=StandardScaler();, score=-0.433 total time=   0.0s\n",
      "[CV 5/5] END LR__C=6.316157894736842, LR__solver=saga, SCL=StandardScaler();, score=-0.427 total time=   0.0s\n"
     ]
    },
    {
     "name": "stderr",
     "output_type": "stream",
     "text": [
      "C:\\Users\\DAI.STUDENTSDC\\AppData\\Local\\anaconda3\\Lib\\site-packages\\sklearn\\linear_model\\_sag.py:349: ConvergenceWarning: The max_iter was reached which means the coef_ did not converge\n",
      "  warnings.warn(\n"
     ]
    },
    {
     "name": "stdout",
     "output_type": "stream",
     "text": [
      "[CV 1/5] END LR__C=6.316157894736842, LR__solver=saga, SCL=None;, score=-0.490 total time=   0.4s\n"
     ]
    },
    {
     "name": "stderr",
     "output_type": "stream",
     "text": [
      "C:\\Users\\DAI.STUDENTSDC\\AppData\\Local\\anaconda3\\Lib\\site-packages\\sklearn\\linear_model\\_sag.py:349: ConvergenceWarning: The max_iter was reached which means the coef_ did not converge\n",
      "  warnings.warn(\n"
     ]
    },
    {
     "name": "stdout",
     "output_type": "stream",
     "text": [
      "[CV 2/5] END LR__C=6.316157894736842, LR__solver=saga, SCL=None;, score=-0.494 total time=   0.4s\n"
     ]
    },
    {
     "name": "stderr",
     "output_type": "stream",
     "text": [
      "C:\\Users\\DAI.STUDENTSDC\\AppData\\Local\\anaconda3\\Lib\\site-packages\\sklearn\\linear_model\\_sag.py:349: ConvergenceWarning: The max_iter was reached which means the coef_ did not converge\n",
      "  warnings.warn(\n"
     ]
    },
    {
     "name": "stdout",
     "output_type": "stream",
     "text": [
      "[CV 3/5] END LR__C=6.316157894736842, LR__solver=saga, SCL=None;, score=-0.488 total time=   0.4s\n"
     ]
    },
    {
     "name": "stderr",
     "output_type": "stream",
     "text": [
      "C:\\Users\\DAI.STUDENTSDC\\AppData\\Local\\anaconda3\\Lib\\site-packages\\sklearn\\linear_model\\_sag.py:349: ConvergenceWarning: The max_iter was reached which means the coef_ did not converge\n",
      "  warnings.warn(\n"
     ]
    },
    {
     "name": "stdout",
     "output_type": "stream",
     "text": [
      "[CV 4/5] END LR__C=6.316157894736842, LR__solver=saga, SCL=None;, score=-0.489 total time=   0.4s\n"
     ]
    },
    {
     "name": "stderr",
     "output_type": "stream",
     "text": [
      "C:\\Users\\DAI.STUDENTSDC\\AppData\\Local\\anaconda3\\Lib\\site-packages\\sklearn\\linear_model\\_sag.py:349: ConvergenceWarning: The max_iter was reached which means the coef_ did not converge\n",
      "  warnings.warn(\n"
     ]
    },
    {
     "name": "stdout",
     "output_type": "stream",
     "text": [
      "[CV 5/5] END LR__C=6.316157894736842, LR__solver=saga, SCL=None;, score=-0.490 total time=   0.4s\n",
      "[CV 1/5] END LR__C=6.84242105263158, LR__solver=lbfgs, SCL=MinMaxScaler();, score=-0.427 total time=   0.0s\n",
      "[CV 2/5] END LR__C=6.84242105263158, LR__solver=lbfgs, SCL=MinMaxScaler();, score=-0.439 total time=   0.0s\n",
      "[CV 3/5] END LR__C=6.84242105263158, LR__solver=lbfgs, SCL=MinMaxScaler();, score=-0.423 total time=   0.0s\n",
      "[CV 4/5] END LR__C=6.84242105263158, LR__solver=lbfgs, SCL=MinMaxScaler();, score=-0.433 total time=   0.0s\n",
      "[CV 5/5] END LR__C=6.84242105263158, LR__solver=lbfgs, SCL=MinMaxScaler();, score=-0.427 total time=   0.0s\n",
      "[CV 1/5] END LR__C=6.84242105263158, LR__solver=lbfgs, SCL=StandardScaler();, score=-0.427 total time=   0.0s\n",
      "[CV 2/5] END LR__C=6.84242105263158, LR__solver=lbfgs, SCL=StandardScaler();, score=-0.440 total time=   0.0s\n",
      "[CV 3/5] END LR__C=6.84242105263158, LR__solver=lbfgs, SCL=StandardScaler();, score=-0.423 total time=   0.0s\n",
      "[CV 4/5] END LR__C=6.84242105263158, LR__solver=lbfgs, SCL=StandardScaler();, score=-0.433 total time=   0.0s\n",
      "[CV 5/5] END LR__C=6.84242105263158, LR__solver=lbfgs, SCL=StandardScaler();, score=-0.427 total time=   0.0s\n",
      "[CV 1/5] END LR__C=6.84242105263158, LR__solver=lbfgs, SCL=None;, score=-0.429 total time=   0.1s\n"
     ]
    },
    {
     "name": "stderr",
     "output_type": "stream",
     "text": [
      "C:\\Users\\DAI.STUDENTSDC\\AppData\\Local\\anaconda3\\Lib\\site-packages\\sklearn\\linear_model\\_logistic.py:469: ConvergenceWarning: lbfgs failed to converge (status=1):\n",
      "STOP: TOTAL NO. of ITERATIONS REACHED LIMIT.\n",
      "\n",
      "Increase the number of iterations (max_iter) or scale the data as shown in:\n",
      "    https://scikit-learn.org/stable/modules/preprocessing.html\n",
      "Please also refer to the documentation for alternative solver options:\n",
      "    https://scikit-learn.org/stable/modules/linear_model.html#logistic-regression\n",
      "  n_iter_i = _check_optimize_result(\n",
      "C:\\Users\\DAI.STUDENTSDC\\AppData\\Local\\anaconda3\\Lib\\site-packages\\sklearn\\linear_model\\_logistic.py:469: ConvergenceWarning: lbfgs failed to converge (status=1):\n",
      "STOP: TOTAL NO. of ITERATIONS REACHED LIMIT.\n",
      "\n",
      "Increase the number of iterations (max_iter) or scale the data as shown in:\n",
      "    https://scikit-learn.org/stable/modules/preprocessing.html\n",
      "Please also refer to the documentation for alternative solver options:\n",
      "    https://scikit-learn.org/stable/modules/linear_model.html#logistic-regression\n",
      "  n_iter_i = _check_optimize_result(\n"
     ]
    },
    {
     "name": "stdout",
     "output_type": "stream",
     "text": [
      "[CV 2/5] END LR__C=6.84242105263158, LR__solver=lbfgs, SCL=None;, score=-0.440 total time=   0.1s\n",
      "[CV 3/5] END LR__C=6.84242105263158, LR__solver=lbfgs, SCL=None;, score=-0.426 total time=   0.1s\n"
     ]
    },
    {
     "name": "stderr",
     "output_type": "stream",
     "text": [
      "C:\\Users\\DAI.STUDENTSDC\\AppData\\Local\\anaconda3\\Lib\\site-packages\\sklearn\\linear_model\\_logistic.py:469: ConvergenceWarning: lbfgs failed to converge (status=1):\n",
      "STOP: TOTAL NO. of ITERATIONS REACHED LIMIT.\n",
      "\n",
      "Increase the number of iterations (max_iter) or scale the data as shown in:\n",
      "    https://scikit-learn.org/stable/modules/preprocessing.html\n",
      "Please also refer to the documentation for alternative solver options:\n",
      "    https://scikit-learn.org/stable/modules/linear_model.html#logistic-regression\n",
      "  n_iter_i = _check_optimize_result(\n",
      "C:\\Users\\DAI.STUDENTSDC\\AppData\\Local\\anaconda3\\Lib\\site-packages\\sklearn\\linear_model\\_logistic.py:469: ConvergenceWarning: lbfgs failed to converge (status=1):\n",
      "STOP: TOTAL NO. of ITERATIONS REACHED LIMIT.\n",
      "\n",
      "Increase the number of iterations (max_iter) or scale the data as shown in:\n",
      "    https://scikit-learn.org/stable/modules/preprocessing.html\n",
      "Please also refer to the documentation for alternative solver options:\n",
      "    https://scikit-learn.org/stable/modules/linear_model.html#logistic-regression\n",
      "  n_iter_i = _check_optimize_result(\n"
     ]
    },
    {
     "name": "stdout",
     "output_type": "stream",
     "text": [
      "[CV 4/5] END LR__C=6.84242105263158, LR__solver=lbfgs, SCL=None;, score=-0.433 total time=   0.1s\n",
      "[CV 5/5] END LR__C=6.84242105263158, LR__solver=lbfgs, SCL=None;, score=-0.429 total time=   0.1s\n"
     ]
    },
    {
     "name": "stderr",
     "output_type": "stream",
     "text": [
      "C:\\Users\\DAI.STUDENTSDC\\AppData\\Local\\anaconda3\\Lib\\site-packages\\sklearn\\linear_model\\_logistic.py:469: ConvergenceWarning: lbfgs failed to converge (status=1):\n",
      "STOP: TOTAL NO. of ITERATIONS REACHED LIMIT.\n",
      "\n",
      "Increase the number of iterations (max_iter) or scale the data as shown in:\n",
      "    https://scikit-learn.org/stable/modules/preprocessing.html\n",
      "Please also refer to the documentation for alternative solver options:\n",
      "    https://scikit-learn.org/stable/modules/linear_model.html#logistic-regression\n",
      "  n_iter_i = _check_optimize_result(\n"
     ]
    },
    {
     "name": "stdout",
     "output_type": "stream",
     "text": [
      "[CV 1/5] END LR__C=6.84242105263158, LR__solver=liblinear, SCL=MinMaxScaler();, score=-0.427 total time=   0.0s\n",
      "[CV 2/5] END LR__C=6.84242105263158, LR__solver=liblinear, SCL=MinMaxScaler();, score=-0.439 total time=   0.0s\n",
      "[CV 3/5] END LR__C=6.84242105263158, LR__solver=liblinear, SCL=MinMaxScaler();, score=-0.423 total time=   0.0s\n",
      "[CV 4/5] END LR__C=6.84242105263158, LR__solver=liblinear, SCL=MinMaxScaler();, score=-0.433 total time=   0.0s\n",
      "[CV 5/5] END LR__C=6.84242105263158, LR__solver=liblinear, SCL=MinMaxScaler();, score=-0.427 total time=   0.0s\n",
      "[CV 1/5] END LR__C=6.84242105263158, LR__solver=liblinear, SCL=StandardScaler();, score=-0.427 total time=   0.0s\n",
      "[CV 2/5] END LR__C=6.84242105263158, LR__solver=liblinear, SCL=StandardScaler();, score=-0.440 total time=   0.0s\n",
      "[CV 3/5] END LR__C=6.84242105263158, LR__solver=liblinear, SCL=StandardScaler();, score=-0.423 total time=   0.0s\n",
      "[CV 4/5] END LR__C=6.84242105263158, LR__solver=liblinear, SCL=StandardScaler();, score=-0.433 total time=   0.0s\n",
      "[CV 5/5] END LR__C=6.84242105263158, LR__solver=liblinear, SCL=StandardScaler();, score=-0.427 total time=   0.0s\n",
      "[CV 1/5] END LR__C=6.84242105263158, LR__solver=liblinear, SCL=None;, score=-0.427 total time=   0.0s\n",
      "[CV 2/5] END LR__C=6.84242105263158, LR__solver=liblinear, SCL=None;, score=-0.439 total time=   0.0s\n",
      "[CV 3/5] END LR__C=6.84242105263158, LR__solver=liblinear, SCL=None;, score=-0.423 total time=   0.0s\n",
      "[CV 4/5] END LR__C=6.84242105263158, LR__solver=liblinear, SCL=None;, score=-0.433 total time=   0.0s\n",
      "[CV 5/5] END LR__C=6.84242105263158, LR__solver=liblinear, SCL=None;, score=-0.427 total time=   0.0s\n",
      "[CV 1/5] END LR__C=6.84242105263158, LR__solver=newton-cg, SCL=MinMaxScaler();, score=-0.427 total time=   0.0s\n",
      "[CV 2/5] END LR__C=6.84242105263158, LR__solver=newton-cg, SCL=MinMaxScaler();, score=-0.439 total time=   0.0s\n",
      "[CV 3/5] END LR__C=6.84242105263158, LR__solver=newton-cg, SCL=MinMaxScaler();, score=-0.423 total time=   0.0s\n",
      "[CV 4/5] END LR__C=6.84242105263158, LR__solver=newton-cg, SCL=MinMaxScaler();, score=-0.433 total time=   0.0s\n",
      "[CV 5/5] END LR__C=6.84242105263158, LR__solver=newton-cg, SCL=MinMaxScaler();, score=-0.427 total time=   0.0s\n",
      "[CV 1/5] END LR__C=6.84242105263158, LR__solver=newton-cg, SCL=StandardScaler();, score=-0.427 total time=   0.0s\n",
      "[CV 2/5] END LR__C=6.84242105263158, LR__solver=newton-cg, SCL=StandardScaler();, score=-0.440 total time=   0.0s\n",
      "[CV 3/5] END LR__C=6.84242105263158, LR__solver=newton-cg, SCL=StandardScaler();, score=-0.423 total time=   0.0s\n",
      "[CV 4/5] END LR__C=6.84242105263158, LR__solver=newton-cg, SCL=StandardScaler();, score=-0.433 total time=   0.0s\n",
      "[CV 5/5] END LR__C=6.84242105263158, LR__solver=newton-cg, SCL=StandardScaler();, score=-0.427 total time=   0.0s\n",
      "[CV 1/5] END LR__C=6.84242105263158, LR__solver=newton-cg, SCL=None;, score=-0.427 total time=   0.2s\n",
      "[CV 2/5] END LR__C=6.84242105263158, LR__solver=newton-cg, SCL=None;, score=-0.440 total time=   0.1s\n",
      "[CV 3/5] END LR__C=6.84242105263158, LR__solver=newton-cg, SCL=None;, score=-0.423 total time=   0.1s\n",
      "[CV 4/5] END LR__C=6.84242105263158, LR__solver=newton-cg, SCL=None;, score=-0.433 total time=   0.2s\n",
      "[CV 5/5] END LR__C=6.84242105263158, LR__solver=newton-cg, SCL=None;, score=-0.427 total time=   0.2s\n",
      "[CV 1/5] END LR__C=6.84242105263158, LR__solver=newton-cholesky, SCL=MinMaxScaler();, score=-0.427 total time=   0.0s\n",
      "[CV 2/5] END LR__C=6.84242105263158, LR__solver=newton-cholesky, SCL=MinMaxScaler();, score=-0.439 total time=   0.0s\n",
      "[CV 3/5] END LR__C=6.84242105263158, LR__solver=newton-cholesky, SCL=MinMaxScaler();, score=-0.423 total time=   0.0s\n",
      "[CV 4/5] END LR__C=6.84242105263158, LR__solver=newton-cholesky, SCL=MinMaxScaler();, score=-0.433 total time=   0.0s\n",
      "[CV 5/5] END LR__C=6.84242105263158, LR__solver=newton-cholesky, SCL=MinMaxScaler();, score=-0.427 total time=   0.0s\n",
      "[CV 1/5] END LR__C=6.84242105263158, LR__solver=newton-cholesky, SCL=StandardScaler();, score=-0.427 total time=   0.0s\n",
      "[CV 2/5] END LR__C=6.84242105263158, LR__solver=newton-cholesky, SCL=StandardScaler();, score=-0.440 total time=   0.0s\n",
      "[CV 3/5] END LR__C=6.84242105263158, LR__solver=newton-cholesky, SCL=StandardScaler();, score=-0.423 total time=   0.0s\n",
      "[CV 4/5] END LR__C=6.84242105263158, LR__solver=newton-cholesky, SCL=StandardScaler();, score=-0.433 total time=   0.0s\n",
      "[CV 5/5] END LR__C=6.84242105263158, LR__solver=newton-cholesky, SCL=StandardScaler();, score=-0.427 total time=   0.0s\n",
      "[CV 1/5] END LR__C=6.84242105263158, LR__solver=newton-cholesky, SCL=None;, score=-0.427 total time=   0.0s\n",
      "[CV 2/5] END LR__C=6.84242105263158, LR__solver=newton-cholesky, SCL=None;, score=-0.439 total time=   0.0s\n",
      "[CV 3/5] END LR__C=6.84242105263158, LR__solver=newton-cholesky, SCL=None;, score=-0.423 total time=   0.0s\n",
      "[CV 4/5] END LR__C=6.84242105263158, LR__solver=newton-cholesky, SCL=None;, score=-0.433 total time=   0.0s\n",
      "[CV 5/5] END LR__C=6.84242105263158, LR__solver=newton-cholesky, SCL=None;, score=-0.427 total time=   0.0s\n",
      "[CV 1/5] END LR__C=6.84242105263158, LR__solver=sag, SCL=MinMaxScaler();, score=-0.427 total time=   0.1s\n",
      "[CV 2/5] END LR__C=6.84242105263158, LR__solver=sag, SCL=MinMaxScaler();, score=-0.439 total time=   0.1s\n",
      "[CV 3/5] END LR__C=6.84242105263158, LR__solver=sag, SCL=MinMaxScaler();, score=-0.423 total time=   0.1s\n",
      "[CV 4/5] END LR__C=6.84242105263158, LR__solver=sag, SCL=MinMaxScaler();, score=-0.433 total time=   0.1s\n",
      "[CV 5/5] END LR__C=6.84242105263158, LR__solver=sag, SCL=MinMaxScaler();, score=-0.427 total time=   0.1s\n",
      "[CV 1/5] END LR__C=6.84242105263158, LR__solver=sag, SCL=StandardScaler();, score=-0.427 total time=   0.1s\n",
      "[CV 2/5] END LR__C=6.84242105263158, LR__solver=sag, SCL=StandardScaler();, score=-0.440 total time=   0.1s\n",
      "[CV 3/5] END LR__C=6.84242105263158, LR__solver=sag, SCL=StandardScaler();, score=-0.423 total time=   0.1s\n",
      "[CV 4/5] END LR__C=6.84242105263158, LR__solver=sag, SCL=StandardScaler();, score=-0.433 total time=   0.1s\n",
      "[CV 5/5] END LR__C=6.84242105263158, LR__solver=sag, SCL=StandardScaler();, score=-0.427 total time=   0.1s\n"
     ]
    },
    {
     "name": "stderr",
     "output_type": "stream",
     "text": [
      "C:\\Users\\DAI.STUDENTSDC\\AppData\\Local\\anaconda3\\Lib\\site-packages\\sklearn\\linear_model\\_sag.py:349: ConvergenceWarning: The max_iter was reached which means the coef_ did not converge\n",
      "  warnings.warn(\n"
     ]
    },
    {
     "name": "stdout",
     "output_type": "stream",
     "text": [
      "[CV 1/5] END LR__C=6.84242105263158, LR__solver=sag, SCL=None;, score=-0.463 total time=   0.4s\n"
     ]
    },
    {
     "name": "stderr",
     "output_type": "stream",
     "text": [
      "C:\\Users\\DAI.STUDENTSDC\\AppData\\Local\\anaconda3\\Lib\\site-packages\\sklearn\\linear_model\\_sag.py:349: ConvergenceWarning: The max_iter was reached which means the coef_ did not converge\n",
      "  warnings.warn(\n"
     ]
    },
    {
     "name": "stdout",
     "output_type": "stream",
     "text": [
      "[CV 2/5] END LR__C=6.84242105263158, LR__solver=sag, SCL=None;, score=-0.471 total time=   0.4s\n"
     ]
    },
    {
     "name": "stderr",
     "output_type": "stream",
     "text": [
      "C:\\Users\\DAI.STUDENTSDC\\AppData\\Local\\anaconda3\\Lib\\site-packages\\sklearn\\linear_model\\_sag.py:349: ConvergenceWarning: The max_iter was reached which means the coef_ did not converge\n",
      "  warnings.warn(\n"
     ]
    },
    {
     "name": "stdout",
     "output_type": "stream",
     "text": [
      "[CV 3/5] END LR__C=6.84242105263158, LR__solver=sag, SCL=None;, score=-0.463 total time=   0.4s\n"
     ]
    },
    {
     "name": "stderr",
     "output_type": "stream",
     "text": [
      "C:\\Users\\DAI.STUDENTSDC\\AppData\\Local\\anaconda3\\Lib\\site-packages\\sklearn\\linear_model\\_sag.py:349: ConvergenceWarning: The max_iter was reached which means the coef_ did not converge\n",
      "  warnings.warn(\n"
     ]
    },
    {
     "name": "stdout",
     "output_type": "stream",
     "text": [
      "[CV 4/5] END LR__C=6.84242105263158, LR__solver=sag, SCL=None;, score=-0.465 total time=   0.4s\n"
     ]
    },
    {
     "name": "stderr",
     "output_type": "stream",
     "text": [
      "C:\\Users\\DAI.STUDENTSDC\\AppData\\Local\\anaconda3\\Lib\\site-packages\\sklearn\\linear_model\\_sag.py:349: ConvergenceWarning: The max_iter was reached which means the coef_ did not converge\n",
      "  warnings.warn(\n"
     ]
    },
    {
     "name": "stdout",
     "output_type": "stream",
     "text": [
      "[CV 5/5] END LR__C=6.84242105263158, LR__solver=sag, SCL=None;, score=-0.464 total time=   0.4s\n",
      "[CV 1/5] END LR__C=6.84242105263158, LR__solver=saga, SCL=MinMaxScaler();, score=-0.427 total time=   0.0s\n",
      "[CV 2/5] END LR__C=6.84242105263158, LR__solver=saga, SCL=MinMaxScaler();, score=-0.439 total time=   0.0s\n",
      "[CV 3/5] END LR__C=6.84242105263158, LR__solver=saga, SCL=MinMaxScaler();, score=-0.423 total time=   0.0s\n",
      "[CV 4/5] END LR__C=6.84242105263158, LR__solver=saga, SCL=MinMaxScaler();, score=-0.433 total time=   0.0s\n",
      "[CV 5/5] END LR__C=6.84242105263158, LR__solver=saga, SCL=MinMaxScaler();, score=-0.427 total time=   0.0s\n",
      "[CV 1/5] END LR__C=6.84242105263158, LR__solver=saga, SCL=StandardScaler();, score=-0.427 total time=   0.0s\n",
      "[CV 2/5] END LR__C=6.84242105263158, LR__solver=saga, SCL=StandardScaler();, score=-0.440 total time=   0.0s\n",
      "[CV 3/5] END LR__C=6.84242105263158, LR__solver=saga, SCL=StandardScaler();, score=-0.423 total time=   0.0s\n",
      "[CV 4/5] END LR__C=6.84242105263158, LR__solver=saga, SCL=StandardScaler();, score=-0.433 total time=   0.0s\n",
      "[CV 5/5] END LR__C=6.84242105263158, LR__solver=saga, SCL=StandardScaler();, score=-0.427 total time=   0.0s\n"
     ]
    },
    {
     "name": "stderr",
     "output_type": "stream",
     "text": [
      "C:\\Users\\DAI.STUDENTSDC\\AppData\\Local\\anaconda3\\Lib\\site-packages\\sklearn\\linear_model\\_sag.py:349: ConvergenceWarning: The max_iter was reached which means the coef_ did not converge\n",
      "  warnings.warn(\n"
     ]
    },
    {
     "name": "stdout",
     "output_type": "stream",
     "text": [
      "[CV 1/5] END LR__C=6.84242105263158, LR__solver=saga, SCL=None;, score=-0.490 total time=   0.3s\n"
     ]
    },
    {
     "name": "stderr",
     "output_type": "stream",
     "text": [
      "C:\\Users\\DAI.STUDENTSDC\\AppData\\Local\\anaconda3\\Lib\\site-packages\\sklearn\\linear_model\\_sag.py:349: ConvergenceWarning: The max_iter was reached which means the coef_ did not converge\n",
      "  warnings.warn(\n"
     ]
    },
    {
     "name": "stdout",
     "output_type": "stream",
     "text": [
      "[CV 2/5] END LR__C=6.84242105263158, LR__solver=saga, SCL=None;, score=-0.494 total time=   0.4s\n"
     ]
    },
    {
     "name": "stderr",
     "output_type": "stream",
     "text": [
      "C:\\Users\\DAI.STUDENTSDC\\AppData\\Local\\anaconda3\\Lib\\site-packages\\sklearn\\linear_model\\_sag.py:349: ConvergenceWarning: The max_iter was reached which means the coef_ did not converge\n",
      "  warnings.warn(\n"
     ]
    },
    {
     "name": "stdout",
     "output_type": "stream",
     "text": [
      "[CV 3/5] END LR__C=6.84242105263158, LR__solver=saga, SCL=None;, score=-0.488 total time=   0.4s\n"
     ]
    },
    {
     "name": "stderr",
     "output_type": "stream",
     "text": [
      "C:\\Users\\DAI.STUDENTSDC\\AppData\\Local\\anaconda3\\Lib\\site-packages\\sklearn\\linear_model\\_sag.py:349: ConvergenceWarning: The max_iter was reached which means the coef_ did not converge\n",
      "  warnings.warn(\n"
     ]
    },
    {
     "name": "stdout",
     "output_type": "stream",
     "text": [
      "[CV 4/5] END LR__C=6.84242105263158, LR__solver=saga, SCL=None;, score=-0.489 total time=   0.4s\n"
     ]
    },
    {
     "name": "stderr",
     "output_type": "stream",
     "text": [
      "C:\\Users\\DAI.STUDENTSDC\\AppData\\Local\\anaconda3\\Lib\\site-packages\\sklearn\\linear_model\\_sag.py:349: ConvergenceWarning: The max_iter was reached which means the coef_ did not converge\n",
      "  warnings.warn(\n"
     ]
    },
    {
     "name": "stdout",
     "output_type": "stream",
     "text": [
      "[CV 5/5] END LR__C=6.84242105263158, LR__solver=saga, SCL=None;, score=-0.490 total time=   0.3s\n",
      "[CV 1/5] END LR__C=7.368684210526316, LR__solver=lbfgs, SCL=MinMaxScaler();, score=-0.427 total time=   0.0s\n",
      "[CV 2/5] END LR__C=7.368684210526316, LR__solver=lbfgs, SCL=MinMaxScaler();, score=-0.439 total time=   0.0s\n",
      "[CV 3/5] END LR__C=7.368684210526316, LR__solver=lbfgs, SCL=MinMaxScaler();, score=-0.423 total time=   0.0s\n",
      "[CV 4/5] END LR__C=7.368684210526316, LR__solver=lbfgs, SCL=MinMaxScaler();, score=-0.433 total time=   0.0s\n",
      "[CV 5/5] END LR__C=7.368684210526316, LR__solver=lbfgs, SCL=MinMaxScaler();, score=-0.427 total time=   0.0s\n",
      "[CV 1/5] END LR__C=7.368684210526316, LR__solver=lbfgs, SCL=StandardScaler();, score=-0.427 total time=   0.0s\n",
      "[CV 2/5] END LR__C=7.368684210526316, LR__solver=lbfgs, SCL=StandardScaler();, score=-0.440 total time=   0.0s\n",
      "[CV 3/5] END LR__C=7.368684210526316, LR__solver=lbfgs, SCL=StandardScaler();, score=-0.423 total time=   0.0s\n",
      "[CV 4/5] END LR__C=7.368684210526316, LR__solver=lbfgs, SCL=StandardScaler();, score=-0.433 total time=   0.0s\n",
      "[CV 5/5] END LR__C=7.368684210526316, LR__solver=lbfgs, SCL=StandardScaler();, score=-0.427 total time=   0.0s\n"
     ]
    },
    {
     "name": "stderr",
     "output_type": "stream",
     "text": [
      "C:\\Users\\DAI.STUDENTSDC\\AppData\\Local\\anaconda3\\Lib\\site-packages\\sklearn\\linear_model\\_logistic.py:469: ConvergenceWarning: lbfgs failed to converge (status=1):\n",
      "STOP: TOTAL NO. of ITERATIONS REACHED LIMIT.\n",
      "\n",
      "Increase the number of iterations (max_iter) or scale the data as shown in:\n",
      "    https://scikit-learn.org/stable/modules/preprocessing.html\n",
      "Please also refer to the documentation for alternative solver options:\n",
      "    https://scikit-learn.org/stable/modules/linear_model.html#logistic-regression\n",
      "  n_iter_i = _check_optimize_result(\n",
      "C:\\Users\\DAI.STUDENTSDC\\AppData\\Local\\anaconda3\\Lib\\site-packages\\sklearn\\linear_model\\_logistic.py:469: ConvergenceWarning: lbfgs failed to converge (status=1):\n",
      "STOP: TOTAL NO. of ITERATIONS REACHED LIMIT.\n",
      "\n",
      "Increase the number of iterations (max_iter) or scale the data as shown in:\n",
      "    https://scikit-learn.org/stable/modules/preprocessing.html\n",
      "Please also refer to the documentation for alternative solver options:\n",
      "    https://scikit-learn.org/stable/modules/linear_model.html#logistic-regression\n",
      "  n_iter_i = _check_optimize_result(\n"
     ]
    },
    {
     "name": "stdout",
     "output_type": "stream",
     "text": [
      "[CV 1/5] END LR__C=7.368684210526316, LR__solver=lbfgs, SCL=None;, score=-0.429 total time=   0.1s\n",
      "[CV 2/5] END LR__C=7.368684210526316, LR__solver=lbfgs, SCL=None;, score=-0.440 total time=   0.1s\n"
     ]
    },
    {
     "name": "stderr",
     "output_type": "stream",
     "text": [
      "C:\\Users\\DAI.STUDENTSDC\\AppData\\Local\\anaconda3\\Lib\\site-packages\\sklearn\\linear_model\\_logistic.py:469: ConvergenceWarning: lbfgs failed to converge (status=1):\n",
      "STOP: TOTAL NO. of ITERATIONS REACHED LIMIT.\n",
      "\n",
      "Increase the number of iterations (max_iter) or scale the data as shown in:\n",
      "    https://scikit-learn.org/stable/modules/preprocessing.html\n",
      "Please also refer to the documentation for alternative solver options:\n",
      "    https://scikit-learn.org/stable/modules/linear_model.html#logistic-regression\n",
      "  n_iter_i = _check_optimize_result(\n",
      "C:\\Users\\DAI.STUDENTSDC\\AppData\\Local\\anaconda3\\Lib\\site-packages\\sklearn\\linear_model\\_logistic.py:469: ConvergenceWarning: lbfgs failed to converge (status=1):\n",
      "STOP: TOTAL NO. of ITERATIONS REACHED LIMIT.\n",
      "\n",
      "Increase the number of iterations (max_iter) or scale the data as shown in:\n",
      "    https://scikit-learn.org/stable/modules/preprocessing.html\n",
      "Please also refer to the documentation for alternative solver options:\n",
      "    https://scikit-learn.org/stable/modules/linear_model.html#logistic-regression\n",
      "  n_iter_i = _check_optimize_result(\n"
     ]
    },
    {
     "name": "stdout",
     "output_type": "stream",
     "text": [
      "[CV 3/5] END LR__C=7.368684210526316, LR__solver=lbfgs, SCL=None;, score=-0.430 total time=   0.1s\n",
      "[CV 4/5] END LR__C=7.368684210526316, LR__solver=lbfgs, SCL=None;, score=-0.434 total time=   0.1s\n"
     ]
    },
    {
     "name": "stderr",
     "output_type": "stream",
     "text": [
      "C:\\Users\\DAI.STUDENTSDC\\AppData\\Local\\anaconda3\\Lib\\site-packages\\sklearn\\linear_model\\_logistic.py:469: ConvergenceWarning: lbfgs failed to converge (status=1):\n",
      "STOP: TOTAL NO. of ITERATIONS REACHED LIMIT.\n",
      "\n",
      "Increase the number of iterations (max_iter) or scale the data as shown in:\n",
      "    https://scikit-learn.org/stable/modules/preprocessing.html\n",
      "Please also refer to the documentation for alternative solver options:\n",
      "    https://scikit-learn.org/stable/modules/linear_model.html#logistic-regression\n",
      "  n_iter_i = _check_optimize_result(\n"
     ]
    },
    {
     "name": "stdout",
     "output_type": "stream",
     "text": [
      "[CV 5/5] END LR__C=7.368684210526316, LR__solver=lbfgs, SCL=None;, score=-0.429 total time=   0.1s\n",
      "[CV 1/5] END LR__C=7.368684210526316, LR__solver=liblinear, SCL=MinMaxScaler();, score=-0.427 total time=   0.0s\n",
      "[CV 2/5] END LR__C=7.368684210526316, LR__solver=liblinear, SCL=MinMaxScaler();, score=-0.439 total time=   0.0s\n",
      "[CV 3/5] END LR__C=7.368684210526316, LR__solver=liblinear, SCL=MinMaxScaler();, score=-0.423 total time=   0.0s\n",
      "[CV 4/5] END LR__C=7.368684210526316, LR__solver=liblinear, SCL=MinMaxScaler();, score=-0.433 total time=   0.0s\n",
      "[CV 5/5] END LR__C=7.368684210526316, LR__solver=liblinear, SCL=MinMaxScaler();, score=-0.427 total time=   0.0s\n",
      "[CV 1/5] END LR__C=7.368684210526316, LR__solver=liblinear, SCL=StandardScaler();, score=-0.427 total time=   0.0s\n",
      "[CV 2/5] END LR__C=7.368684210526316, LR__solver=liblinear, SCL=StandardScaler();, score=-0.440 total time=   0.0s\n",
      "[CV 3/5] END LR__C=7.368684210526316, LR__solver=liblinear, SCL=StandardScaler();, score=-0.423 total time=   0.0s\n",
      "[CV 4/5] END LR__C=7.368684210526316, LR__solver=liblinear, SCL=StandardScaler();, score=-0.433 total time=   0.0s\n",
      "[CV 5/5] END LR__C=7.368684210526316, LR__solver=liblinear, SCL=StandardScaler();, score=-0.427 total time=   0.0s\n",
      "[CV 1/5] END LR__C=7.368684210526316, LR__solver=liblinear, SCL=None;, score=-0.427 total time=   0.0s\n",
      "[CV 2/5] END LR__C=7.368684210526316, LR__solver=liblinear, SCL=None;, score=-0.439 total time=   0.0s\n",
      "[CV 3/5] END LR__C=7.368684210526316, LR__solver=liblinear, SCL=None;, score=-0.423 total time=   0.0s\n",
      "[CV 4/5] END LR__C=7.368684210526316, LR__solver=liblinear, SCL=None;, score=-0.433 total time=   0.0s\n",
      "[CV 5/5] END LR__C=7.368684210526316, LR__solver=liblinear, SCL=None;, score=-0.427 total time=   0.0s\n",
      "[CV 1/5] END LR__C=7.368684210526316, LR__solver=newton-cg, SCL=MinMaxScaler();, score=-0.427 total time=   0.0s\n",
      "[CV 2/5] END LR__C=7.368684210526316, LR__solver=newton-cg, SCL=MinMaxScaler();, score=-0.439 total time=   0.0s\n",
      "[CV 3/5] END LR__C=7.368684210526316, LR__solver=newton-cg, SCL=MinMaxScaler();, score=-0.423 total time=   0.0s\n",
      "[CV 4/5] END LR__C=7.368684210526316, LR__solver=newton-cg, SCL=MinMaxScaler();, score=-0.433 total time=   0.0s\n",
      "[CV 5/5] END LR__C=7.368684210526316, LR__solver=newton-cg, SCL=MinMaxScaler();, score=-0.427 total time=   0.0s\n",
      "[CV 1/5] END LR__C=7.368684210526316, LR__solver=newton-cg, SCL=StandardScaler();, score=-0.427 total time=   0.0s\n",
      "[CV 2/5] END LR__C=7.368684210526316, LR__solver=newton-cg, SCL=StandardScaler();, score=-0.440 total time=   0.0s\n",
      "[CV 3/5] END LR__C=7.368684210526316, LR__solver=newton-cg, SCL=StandardScaler();, score=-0.423 total time=   0.0s\n",
      "[CV 4/5] END LR__C=7.368684210526316, LR__solver=newton-cg, SCL=StandardScaler();, score=-0.433 total time=   0.0s\n",
      "[CV 5/5] END LR__C=7.368684210526316, LR__solver=newton-cg, SCL=StandardScaler();, score=-0.427 total time=   0.0s\n",
      "[CV 1/5] END LR__C=7.368684210526316, LR__solver=newton-cg, SCL=None;, score=-0.427 total time=   0.1s\n",
      "[CV 2/5] END LR__C=7.368684210526316, LR__solver=newton-cg, SCL=None;, score=-0.439 total time=   0.1s\n",
      "[CV 3/5] END LR__C=7.368684210526316, LR__solver=newton-cg, SCL=None;, score=-0.423 total time=   0.1s\n",
      "[CV 4/5] END LR__C=7.368684210526316, LR__solver=newton-cg, SCL=None;, score=-0.433 total time=   0.2s\n",
      "[CV 5/5] END LR__C=7.368684210526316, LR__solver=newton-cg, SCL=None;, score=-0.427 total time=   0.2s\n",
      "[CV 1/5] END LR__C=7.368684210526316, LR__solver=newton-cholesky, SCL=MinMaxScaler();, score=-0.427 total time=   0.0s\n",
      "[CV 2/5] END LR__C=7.368684210526316, LR__solver=newton-cholesky, SCL=MinMaxScaler();, score=-0.439 total time=   0.0s\n",
      "[CV 3/5] END LR__C=7.368684210526316, LR__solver=newton-cholesky, SCL=MinMaxScaler();, score=-0.423 total time=   0.0s\n",
      "[CV 4/5] END LR__C=7.368684210526316, LR__solver=newton-cholesky, SCL=MinMaxScaler();, score=-0.433 total time=   0.0s\n",
      "[CV 5/5] END LR__C=7.368684210526316, LR__solver=newton-cholesky, SCL=MinMaxScaler();, score=-0.427 total time=   0.0s\n",
      "[CV 1/5] END LR__C=7.368684210526316, LR__solver=newton-cholesky, SCL=StandardScaler();, score=-0.427 total time=   0.0s\n",
      "[CV 2/5] END LR__C=7.368684210526316, LR__solver=newton-cholesky, SCL=StandardScaler();, score=-0.440 total time=   0.0s\n",
      "[CV 3/5] END LR__C=7.368684210526316, LR__solver=newton-cholesky, SCL=StandardScaler();, score=-0.423 total time=   0.0s\n",
      "[CV 4/5] END LR__C=7.368684210526316, LR__solver=newton-cholesky, SCL=StandardScaler();, score=-0.433 total time=   0.0s\n",
      "[CV 5/5] END LR__C=7.368684210526316, LR__solver=newton-cholesky, SCL=StandardScaler();, score=-0.427 total time=   0.0s\n",
      "[CV 1/5] END LR__C=7.368684210526316, LR__solver=newton-cholesky, SCL=None;, score=-0.427 total time=   0.0s\n",
      "[CV 2/5] END LR__C=7.368684210526316, LR__solver=newton-cholesky, SCL=None;, score=-0.439 total time=   0.0s\n",
      "[CV 3/5] END LR__C=7.368684210526316, LR__solver=newton-cholesky, SCL=None;, score=-0.423 total time=   0.0s\n",
      "[CV 4/5] END LR__C=7.368684210526316, LR__solver=newton-cholesky, SCL=None;, score=-0.433 total time=   0.0s\n",
      "[CV 5/5] END LR__C=7.368684210526316, LR__solver=newton-cholesky, SCL=None;, score=-0.427 total time=   0.0s\n",
      "[CV 1/5] END LR__C=7.368684210526316, LR__solver=sag, SCL=MinMaxScaler();, score=-0.427 total time=   0.1s\n",
      "[CV 2/5] END LR__C=7.368684210526316, LR__solver=sag, SCL=MinMaxScaler();, score=-0.439 total time=   0.1s\n",
      "[CV 3/5] END LR__C=7.368684210526316, LR__solver=sag, SCL=MinMaxScaler();, score=-0.423 total time=   0.1s\n",
      "[CV 4/5] END LR__C=7.368684210526316, LR__solver=sag, SCL=MinMaxScaler();, score=-0.433 total time=   0.1s\n",
      "[CV 5/5] END LR__C=7.368684210526316, LR__solver=sag, SCL=MinMaxScaler();, score=-0.427 total time=   0.1s\n",
      "[CV 1/5] END LR__C=7.368684210526316, LR__solver=sag, SCL=StandardScaler();, score=-0.427 total time=   0.1s\n",
      "[CV 2/5] END LR__C=7.368684210526316, LR__solver=sag, SCL=StandardScaler();, score=-0.440 total time=   0.1s\n",
      "[CV 3/5] END LR__C=7.368684210526316, LR__solver=sag, SCL=StandardScaler();, score=-0.423 total time=   0.1s\n",
      "[CV 4/5] END LR__C=7.368684210526316, LR__solver=sag, SCL=StandardScaler();, score=-0.433 total time=   0.1s\n",
      "[CV 5/5] END LR__C=7.368684210526316, LR__solver=sag, SCL=StandardScaler();, score=-0.427 total time=   0.1s\n"
     ]
    },
    {
     "name": "stderr",
     "output_type": "stream",
     "text": [
      "C:\\Users\\DAI.STUDENTSDC\\AppData\\Local\\anaconda3\\Lib\\site-packages\\sklearn\\linear_model\\_sag.py:349: ConvergenceWarning: The max_iter was reached which means the coef_ did not converge\n",
      "  warnings.warn(\n"
     ]
    },
    {
     "name": "stdout",
     "output_type": "stream",
     "text": [
      "[CV 1/5] END LR__C=7.368684210526316, LR__solver=sag, SCL=None;, score=-0.463 total time=   0.4s\n"
     ]
    },
    {
     "name": "stderr",
     "output_type": "stream",
     "text": [
      "C:\\Users\\DAI.STUDENTSDC\\AppData\\Local\\anaconda3\\Lib\\site-packages\\sklearn\\linear_model\\_sag.py:349: ConvergenceWarning: The max_iter was reached which means the coef_ did not converge\n",
      "  warnings.warn(\n"
     ]
    },
    {
     "name": "stdout",
     "output_type": "stream",
     "text": [
      "[CV 2/5] END LR__C=7.368684210526316, LR__solver=sag, SCL=None;, score=-0.471 total time=   0.4s\n"
     ]
    },
    {
     "name": "stderr",
     "output_type": "stream",
     "text": [
      "C:\\Users\\DAI.STUDENTSDC\\AppData\\Local\\anaconda3\\Lib\\site-packages\\sklearn\\linear_model\\_sag.py:349: ConvergenceWarning: The max_iter was reached which means the coef_ did not converge\n",
      "  warnings.warn(\n"
     ]
    },
    {
     "name": "stdout",
     "output_type": "stream",
     "text": [
      "[CV 3/5] END LR__C=7.368684210526316, LR__solver=sag, SCL=None;, score=-0.463 total time=   0.3s\n"
     ]
    },
    {
     "name": "stderr",
     "output_type": "stream",
     "text": [
      "C:\\Users\\DAI.STUDENTSDC\\AppData\\Local\\anaconda3\\Lib\\site-packages\\sklearn\\linear_model\\_sag.py:349: ConvergenceWarning: The max_iter was reached which means the coef_ did not converge\n",
      "  warnings.warn(\n"
     ]
    },
    {
     "name": "stdout",
     "output_type": "stream",
     "text": [
      "[CV 4/5] END LR__C=7.368684210526316, LR__solver=sag, SCL=None;, score=-0.465 total time=   0.4s\n"
     ]
    },
    {
     "name": "stderr",
     "output_type": "stream",
     "text": [
      "C:\\Users\\DAI.STUDENTSDC\\AppData\\Local\\anaconda3\\Lib\\site-packages\\sklearn\\linear_model\\_sag.py:349: ConvergenceWarning: The max_iter was reached which means the coef_ did not converge\n",
      "  warnings.warn(\n"
     ]
    },
    {
     "name": "stdout",
     "output_type": "stream",
     "text": [
      "[CV 5/5] END LR__C=7.368684210526316, LR__solver=sag, SCL=None;, score=-0.464 total time=   0.4s\n",
      "[CV 1/5] END LR__C=7.368684210526316, LR__solver=saga, SCL=MinMaxScaler();, score=-0.427 total time=   0.0s\n",
      "[CV 2/5] END LR__C=7.368684210526316, LR__solver=saga, SCL=MinMaxScaler();, score=-0.439 total time=   0.0s\n",
      "[CV 3/5] END LR__C=7.368684210526316, LR__solver=saga, SCL=MinMaxScaler();, score=-0.423 total time=   0.0s\n",
      "[CV 4/5] END LR__C=7.368684210526316, LR__solver=saga, SCL=MinMaxScaler();, score=-0.433 total time=   0.0s\n",
      "[CV 5/5] END LR__C=7.368684210526316, LR__solver=saga, SCL=MinMaxScaler();, score=-0.427 total time=   0.0s\n",
      "[CV 1/5] END LR__C=7.368684210526316, LR__solver=saga, SCL=StandardScaler();, score=-0.427 total time=   0.0s\n",
      "[CV 2/5] END LR__C=7.368684210526316, LR__solver=saga, SCL=StandardScaler();, score=-0.440 total time=   0.0s\n",
      "[CV 3/5] END LR__C=7.368684210526316, LR__solver=saga, SCL=StandardScaler();, score=-0.423 total time=   0.0s\n",
      "[CV 4/5] END LR__C=7.368684210526316, LR__solver=saga, SCL=StandardScaler();, score=-0.433 total time=   0.0s\n",
      "[CV 5/5] END LR__C=7.368684210526316, LR__solver=saga, SCL=StandardScaler();, score=-0.427 total time=   0.0s\n"
     ]
    },
    {
     "name": "stderr",
     "output_type": "stream",
     "text": [
      "C:\\Users\\DAI.STUDENTSDC\\AppData\\Local\\anaconda3\\Lib\\site-packages\\sklearn\\linear_model\\_sag.py:349: ConvergenceWarning: The max_iter was reached which means the coef_ did not converge\n",
      "  warnings.warn(\n"
     ]
    },
    {
     "name": "stdout",
     "output_type": "stream",
     "text": [
      "[CV 1/5] END LR__C=7.368684210526316, LR__solver=saga, SCL=None;, score=-0.490 total time=   0.4s\n"
     ]
    },
    {
     "name": "stderr",
     "output_type": "stream",
     "text": [
      "C:\\Users\\DAI.STUDENTSDC\\AppData\\Local\\anaconda3\\Lib\\site-packages\\sklearn\\linear_model\\_sag.py:349: ConvergenceWarning: The max_iter was reached which means the coef_ did not converge\n",
      "  warnings.warn(\n"
     ]
    },
    {
     "name": "stdout",
     "output_type": "stream",
     "text": [
      "[CV 2/5] END LR__C=7.368684210526316, LR__solver=saga, SCL=None;, score=-0.494 total time=   0.4s\n"
     ]
    },
    {
     "name": "stderr",
     "output_type": "stream",
     "text": [
      "C:\\Users\\DAI.STUDENTSDC\\AppData\\Local\\anaconda3\\Lib\\site-packages\\sklearn\\linear_model\\_sag.py:349: ConvergenceWarning: The max_iter was reached which means the coef_ did not converge\n",
      "  warnings.warn(\n"
     ]
    },
    {
     "name": "stdout",
     "output_type": "stream",
     "text": [
      "[CV 3/5] END LR__C=7.368684210526316, LR__solver=saga, SCL=None;, score=-0.488 total time=   0.4s\n"
     ]
    },
    {
     "name": "stderr",
     "output_type": "stream",
     "text": [
      "C:\\Users\\DAI.STUDENTSDC\\AppData\\Local\\anaconda3\\Lib\\site-packages\\sklearn\\linear_model\\_sag.py:349: ConvergenceWarning: The max_iter was reached which means the coef_ did not converge\n",
      "  warnings.warn(\n"
     ]
    },
    {
     "name": "stdout",
     "output_type": "stream",
     "text": [
      "[CV 4/5] END LR__C=7.368684210526316, LR__solver=saga, SCL=None;, score=-0.489 total time=   0.4s\n"
     ]
    },
    {
     "name": "stderr",
     "output_type": "stream",
     "text": [
      "C:\\Users\\DAI.STUDENTSDC\\AppData\\Local\\anaconda3\\Lib\\site-packages\\sklearn\\linear_model\\_sag.py:349: ConvergenceWarning: The max_iter was reached which means the coef_ did not converge\n",
      "  warnings.warn(\n"
     ]
    },
    {
     "name": "stdout",
     "output_type": "stream",
     "text": [
      "[CV 5/5] END LR__C=7.368684210526316, LR__solver=saga, SCL=None;, score=-0.490 total time=   0.4s\n",
      "[CV 1/5] END LR__C=7.894947368421054, LR__solver=lbfgs, SCL=MinMaxScaler();, score=-0.427 total time=   0.0s\n",
      "[CV 2/5] END LR__C=7.894947368421054, LR__solver=lbfgs, SCL=MinMaxScaler();, score=-0.439 total time=   0.0s\n",
      "[CV 3/5] END LR__C=7.894947368421054, LR__solver=lbfgs, SCL=MinMaxScaler();, score=-0.423 total time=   0.0s\n",
      "[CV 4/5] END LR__C=7.894947368421054, LR__solver=lbfgs, SCL=MinMaxScaler();, score=-0.433 total time=   0.0s\n",
      "[CV 5/5] END LR__C=7.894947368421054, LR__solver=lbfgs, SCL=MinMaxScaler();, score=-0.427 total time=   0.0s\n",
      "[CV 1/5] END LR__C=7.894947368421054, LR__solver=lbfgs, SCL=StandardScaler();, score=-0.427 total time=   0.0s\n",
      "[CV 2/5] END LR__C=7.894947368421054, LR__solver=lbfgs, SCL=StandardScaler();, score=-0.440 total time=   0.0s\n",
      "[CV 3/5] END LR__C=7.894947368421054, LR__solver=lbfgs, SCL=StandardScaler();, score=-0.423 total time=   0.0s\n",
      "[CV 4/5] END LR__C=7.894947368421054, LR__solver=lbfgs, SCL=StandardScaler();, score=-0.433 total time=   0.0s\n",
      "[CV 5/5] END LR__C=7.894947368421054, LR__solver=lbfgs, SCL=StandardScaler();, score=-0.427 total time=   0.0s\n"
     ]
    },
    {
     "name": "stderr",
     "output_type": "stream",
     "text": [
      "C:\\Users\\DAI.STUDENTSDC\\AppData\\Local\\anaconda3\\Lib\\site-packages\\sklearn\\linear_model\\_logistic.py:469: ConvergenceWarning: lbfgs failed to converge (status=1):\n",
      "STOP: TOTAL NO. of ITERATIONS REACHED LIMIT.\n",
      "\n",
      "Increase the number of iterations (max_iter) or scale the data as shown in:\n",
      "    https://scikit-learn.org/stable/modules/preprocessing.html\n",
      "Please also refer to the documentation for alternative solver options:\n",
      "    https://scikit-learn.org/stable/modules/linear_model.html#logistic-regression\n",
      "  n_iter_i = _check_optimize_result(\n",
      "C:\\Users\\DAI.STUDENTSDC\\AppData\\Local\\anaconda3\\Lib\\site-packages\\sklearn\\linear_model\\_logistic.py:469: ConvergenceWarning: lbfgs failed to converge (status=1):\n",
      "STOP: TOTAL NO. of ITERATIONS REACHED LIMIT.\n",
      "\n",
      "Increase the number of iterations (max_iter) or scale the data as shown in:\n",
      "    https://scikit-learn.org/stable/modules/preprocessing.html\n",
      "Please also refer to the documentation for alternative solver options:\n",
      "    https://scikit-learn.org/stable/modules/linear_model.html#logistic-regression\n",
      "  n_iter_i = _check_optimize_result(\n"
     ]
    },
    {
     "name": "stdout",
     "output_type": "stream",
     "text": [
      "[CV 1/5] END LR__C=7.894947368421054, LR__solver=lbfgs, SCL=None;, score=-0.429 total time=   0.1s\n",
      "[CV 2/5] END LR__C=7.894947368421054, LR__solver=lbfgs, SCL=None;, score=-0.442 total time=   0.1s\n"
     ]
    },
    {
     "name": "stderr",
     "output_type": "stream",
     "text": [
      "C:\\Users\\DAI.STUDENTSDC\\AppData\\Local\\anaconda3\\Lib\\site-packages\\sklearn\\linear_model\\_logistic.py:469: ConvergenceWarning: lbfgs failed to converge (status=1):\n",
      "STOP: TOTAL NO. of ITERATIONS REACHED LIMIT.\n",
      "\n",
      "Increase the number of iterations (max_iter) or scale the data as shown in:\n",
      "    https://scikit-learn.org/stable/modules/preprocessing.html\n",
      "Please also refer to the documentation for alternative solver options:\n",
      "    https://scikit-learn.org/stable/modules/linear_model.html#logistic-regression\n",
      "  n_iter_i = _check_optimize_result(\n",
      "C:\\Users\\DAI.STUDENTSDC\\AppData\\Local\\anaconda3\\Lib\\site-packages\\sklearn\\linear_model\\_logistic.py:469: ConvergenceWarning: lbfgs failed to converge (status=1):\n",
      "STOP: TOTAL NO. of ITERATIONS REACHED LIMIT.\n",
      "\n",
      "Increase the number of iterations (max_iter) or scale the data as shown in:\n",
      "    https://scikit-learn.org/stable/modules/preprocessing.html\n",
      "Please also refer to the documentation for alternative solver options:\n",
      "    https://scikit-learn.org/stable/modules/linear_model.html#logistic-regression\n",
      "  n_iter_i = _check_optimize_result(\n"
     ]
    },
    {
     "name": "stdout",
     "output_type": "stream",
     "text": [
      "[CV 3/5] END LR__C=7.894947368421054, LR__solver=lbfgs, SCL=None;, score=-0.425 total time=   0.1s\n",
      "[CV 4/5] END LR__C=7.894947368421054, LR__solver=lbfgs, SCL=None;, score=-0.434 total time=   0.1s\n"
     ]
    },
    {
     "name": "stderr",
     "output_type": "stream",
     "text": [
      "C:\\Users\\DAI.STUDENTSDC\\AppData\\Local\\anaconda3\\Lib\\site-packages\\sklearn\\linear_model\\_logistic.py:469: ConvergenceWarning: lbfgs failed to converge (status=1):\n",
      "STOP: TOTAL NO. of ITERATIONS REACHED LIMIT.\n",
      "\n",
      "Increase the number of iterations (max_iter) or scale the data as shown in:\n",
      "    https://scikit-learn.org/stable/modules/preprocessing.html\n",
      "Please also refer to the documentation for alternative solver options:\n",
      "    https://scikit-learn.org/stable/modules/linear_model.html#logistic-regression\n",
      "  n_iter_i = _check_optimize_result(\n"
     ]
    },
    {
     "name": "stdout",
     "output_type": "stream",
     "text": [
      "[CV 5/5] END LR__C=7.894947368421054, LR__solver=lbfgs, SCL=None;, score=-0.428 total time=   0.1s\n",
      "[CV 1/5] END LR__C=7.894947368421054, LR__solver=liblinear, SCL=MinMaxScaler();, score=-0.427 total time=   0.0s\n",
      "[CV 2/5] END LR__C=7.894947368421054, LR__solver=liblinear, SCL=MinMaxScaler();, score=-0.439 total time=   0.0s\n",
      "[CV 3/5] END LR__C=7.894947368421054, LR__solver=liblinear, SCL=MinMaxScaler();, score=-0.423 total time=   0.0s\n",
      "[CV 4/5] END LR__C=7.894947368421054, LR__solver=liblinear, SCL=MinMaxScaler();, score=-0.433 total time=   0.0s\n",
      "[CV 5/5] END LR__C=7.894947368421054, LR__solver=liblinear, SCL=MinMaxScaler();, score=-0.427 total time=   0.0s\n",
      "[CV 1/5] END LR__C=7.894947368421054, LR__solver=liblinear, SCL=StandardScaler();, score=-0.427 total time=   0.0s\n",
      "[CV 2/5] END LR__C=7.894947368421054, LR__solver=liblinear, SCL=StandardScaler();, score=-0.440 total time=   0.0s\n",
      "[CV 3/5] END LR__C=7.894947368421054, LR__solver=liblinear, SCL=StandardScaler();, score=-0.423 total time=   0.0s\n",
      "[CV 4/5] END LR__C=7.894947368421054, LR__solver=liblinear, SCL=StandardScaler();, score=-0.433 total time=   0.0s\n",
      "[CV 5/5] END LR__C=7.894947368421054, LR__solver=liblinear, SCL=StandardScaler();, score=-0.427 total time=   0.0s\n",
      "[CV 1/5] END LR__C=7.894947368421054, LR__solver=liblinear, SCL=None;, score=-0.427 total time=   0.0s\n",
      "[CV 2/5] END LR__C=7.894947368421054, LR__solver=liblinear, SCL=None;, score=-0.439 total time=   0.0s\n",
      "[CV 3/5] END LR__C=7.894947368421054, LR__solver=liblinear, SCL=None;, score=-0.423 total time=   0.0s\n",
      "[CV 4/5] END LR__C=7.894947368421054, LR__solver=liblinear, SCL=None;, score=-0.433 total time=   0.0s\n",
      "[CV 5/5] END LR__C=7.894947368421054, LR__solver=liblinear, SCL=None;, score=-0.427 total time=   0.0s\n",
      "[CV 1/5] END LR__C=7.894947368421054, LR__solver=newton-cg, SCL=MinMaxScaler();, score=-0.427 total time=   0.0s\n",
      "[CV 2/5] END LR__C=7.894947368421054, LR__solver=newton-cg, SCL=MinMaxScaler();, score=-0.439 total time=   0.0s\n",
      "[CV 3/5] END LR__C=7.894947368421054, LR__solver=newton-cg, SCL=MinMaxScaler();, score=-0.423 total time=   0.0s\n",
      "[CV 4/5] END LR__C=7.894947368421054, LR__solver=newton-cg, SCL=MinMaxScaler();, score=-0.433 total time=   0.0s\n",
      "[CV 5/5] END LR__C=7.894947368421054, LR__solver=newton-cg, SCL=MinMaxScaler();, score=-0.427 total time=   0.0s\n",
      "[CV 1/5] END LR__C=7.894947368421054, LR__solver=newton-cg, SCL=StandardScaler();, score=-0.427 total time=   0.0s\n",
      "[CV 2/5] END LR__C=7.894947368421054, LR__solver=newton-cg, SCL=StandardScaler();, score=-0.440 total time=   0.0s\n",
      "[CV 3/5] END LR__C=7.894947368421054, LR__solver=newton-cg, SCL=StandardScaler();, score=-0.423 total time=   0.0s\n",
      "[CV 4/5] END LR__C=7.894947368421054, LR__solver=newton-cg, SCL=StandardScaler();, score=-0.433 total time=   0.0s\n",
      "[CV 5/5] END LR__C=7.894947368421054, LR__solver=newton-cg, SCL=StandardScaler();, score=-0.427 total time=   0.0s\n",
      "[CV 1/5] END LR__C=7.894947368421054, LR__solver=newton-cg, SCL=None;, score=-0.427 total time=   0.2s\n",
      "[CV 2/5] END LR__C=7.894947368421054, LR__solver=newton-cg, SCL=None;, score=-0.439 total time=   0.2s\n",
      "[CV 3/5] END LR__C=7.894947368421054, LR__solver=newton-cg, SCL=None;, score=-0.423 total time=   0.1s\n",
      "[CV 4/5] END LR__C=7.894947368421054, LR__solver=newton-cg, SCL=None;, score=-0.433 total time=   0.2s\n",
      "[CV 5/5] END LR__C=7.894947368421054, LR__solver=newton-cg, SCL=None;, score=-0.427 total time=   0.1s\n",
      "[CV 1/5] END LR__C=7.894947368421054, LR__solver=newton-cholesky, SCL=MinMaxScaler();, score=-0.427 total time=   0.0s\n",
      "[CV 2/5] END LR__C=7.894947368421054, LR__solver=newton-cholesky, SCL=MinMaxScaler();, score=-0.439 total time=   0.0s\n",
      "[CV 3/5] END LR__C=7.894947368421054, LR__solver=newton-cholesky, SCL=MinMaxScaler();, score=-0.423 total time=   0.0s\n",
      "[CV 4/5] END LR__C=7.894947368421054, LR__solver=newton-cholesky, SCL=MinMaxScaler();, score=-0.433 total time=   0.0s\n",
      "[CV 5/5] END LR__C=7.894947368421054, LR__solver=newton-cholesky, SCL=MinMaxScaler();, score=-0.427 total time=   0.0s\n",
      "[CV 1/5] END LR__C=7.894947368421054, LR__solver=newton-cholesky, SCL=StandardScaler();, score=-0.427 total time=   0.0s\n",
      "[CV 2/5] END LR__C=7.894947368421054, LR__solver=newton-cholesky, SCL=StandardScaler();, score=-0.440 total time=   0.0s\n",
      "[CV 3/5] END LR__C=7.894947368421054, LR__solver=newton-cholesky, SCL=StandardScaler();, score=-0.423 total time=   0.0s\n",
      "[CV 4/5] END LR__C=7.894947368421054, LR__solver=newton-cholesky, SCL=StandardScaler();, score=-0.433 total time=   0.0s\n",
      "[CV 5/5] END LR__C=7.894947368421054, LR__solver=newton-cholesky, SCL=StandardScaler();, score=-0.427 total time=   0.0s\n",
      "[CV 1/5] END LR__C=7.894947368421054, LR__solver=newton-cholesky, SCL=None;, score=-0.427 total time=   0.0s\n",
      "[CV 2/5] END LR__C=7.894947368421054, LR__solver=newton-cholesky, SCL=None;, score=-0.439 total time=   0.0s\n",
      "[CV 3/5] END LR__C=7.894947368421054, LR__solver=newton-cholesky, SCL=None;, score=-0.423 total time=   0.0s\n",
      "[CV 4/5] END LR__C=7.894947368421054, LR__solver=newton-cholesky, SCL=None;, score=-0.433 total time=   0.0s\n",
      "[CV 5/5] END LR__C=7.894947368421054, LR__solver=newton-cholesky, SCL=None;, score=-0.427 total time=   0.0s\n",
      "[CV 1/5] END LR__C=7.894947368421054, LR__solver=sag, SCL=MinMaxScaler();, score=-0.427 total time=   0.1s\n",
      "[CV 2/5] END LR__C=7.894947368421054, LR__solver=sag, SCL=MinMaxScaler();, score=-0.439 total time=   0.1s\n",
      "[CV 3/5] END LR__C=7.894947368421054, LR__solver=sag, SCL=MinMaxScaler();, score=-0.423 total time=   0.1s\n",
      "[CV 4/5] END LR__C=7.894947368421054, LR__solver=sag, SCL=MinMaxScaler();, score=-0.433 total time=   0.1s\n",
      "[CV 5/5] END LR__C=7.894947368421054, LR__solver=sag, SCL=MinMaxScaler();, score=-0.427 total time=   0.1s\n",
      "[CV 1/5] END LR__C=7.894947368421054, LR__solver=sag, SCL=StandardScaler();, score=-0.427 total time=   0.1s\n",
      "[CV 2/5] END LR__C=7.894947368421054, LR__solver=sag, SCL=StandardScaler();, score=-0.440 total time=   0.1s\n",
      "[CV 3/5] END LR__C=7.894947368421054, LR__solver=sag, SCL=StandardScaler();, score=-0.423 total time=   0.0s\n",
      "[CV 4/5] END LR__C=7.894947368421054, LR__solver=sag, SCL=StandardScaler();, score=-0.433 total time=   0.1s\n",
      "[CV 5/5] END LR__C=7.894947368421054, LR__solver=sag, SCL=StandardScaler();, score=-0.427 total time=   0.0s\n"
     ]
    },
    {
     "name": "stderr",
     "output_type": "stream",
     "text": [
      "C:\\Users\\DAI.STUDENTSDC\\AppData\\Local\\anaconda3\\Lib\\site-packages\\sklearn\\linear_model\\_sag.py:349: ConvergenceWarning: The max_iter was reached which means the coef_ did not converge\n",
      "  warnings.warn(\n"
     ]
    },
    {
     "name": "stdout",
     "output_type": "stream",
     "text": [
      "[CV 1/5] END LR__C=7.894947368421054, LR__solver=sag, SCL=None;, score=-0.463 total time=   0.3s\n"
     ]
    },
    {
     "name": "stderr",
     "output_type": "stream",
     "text": [
      "C:\\Users\\DAI.STUDENTSDC\\AppData\\Local\\anaconda3\\Lib\\site-packages\\sklearn\\linear_model\\_sag.py:349: ConvergenceWarning: The max_iter was reached which means the coef_ did not converge\n",
      "  warnings.warn(\n"
     ]
    },
    {
     "name": "stdout",
     "output_type": "stream",
     "text": [
      "[CV 2/5] END LR__C=7.894947368421054, LR__solver=sag, SCL=None;, score=-0.471 total time=   0.3s\n"
     ]
    },
    {
     "name": "stderr",
     "output_type": "stream",
     "text": [
      "C:\\Users\\DAI.STUDENTSDC\\AppData\\Local\\anaconda3\\Lib\\site-packages\\sklearn\\linear_model\\_sag.py:349: ConvergenceWarning: The max_iter was reached which means the coef_ did not converge\n",
      "  warnings.warn(\n"
     ]
    },
    {
     "name": "stdout",
     "output_type": "stream",
     "text": [
      "[CV 3/5] END LR__C=7.894947368421054, LR__solver=sag, SCL=None;, score=-0.463 total time=   0.3s\n"
     ]
    },
    {
     "name": "stderr",
     "output_type": "stream",
     "text": [
      "C:\\Users\\DAI.STUDENTSDC\\AppData\\Local\\anaconda3\\Lib\\site-packages\\sklearn\\linear_model\\_sag.py:349: ConvergenceWarning: The max_iter was reached which means the coef_ did not converge\n",
      "  warnings.warn(\n"
     ]
    },
    {
     "name": "stdout",
     "output_type": "stream",
     "text": [
      "[CV 4/5] END LR__C=7.894947368421054, LR__solver=sag, SCL=None;, score=-0.465 total time=   0.3s\n"
     ]
    },
    {
     "name": "stderr",
     "output_type": "stream",
     "text": [
      "C:\\Users\\DAI.STUDENTSDC\\AppData\\Local\\anaconda3\\Lib\\site-packages\\sklearn\\linear_model\\_sag.py:349: ConvergenceWarning: The max_iter was reached which means the coef_ did not converge\n",
      "  warnings.warn(\n"
     ]
    },
    {
     "name": "stdout",
     "output_type": "stream",
     "text": [
      "[CV 5/5] END LR__C=7.894947368421054, LR__solver=sag, SCL=None;, score=-0.464 total time=   0.4s\n",
      "[CV 1/5] END LR__C=7.894947368421054, LR__solver=saga, SCL=MinMaxScaler();, score=-0.427 total time=   0.0s\n",
      "[CV 2/5] END LR__C=7.894947368421054, LR__solver=saga, SCL=MinMaxScaler();, score=-0.439 total time=   0.0s\n",
      "[CV 3/5] END LR__C=7.894947368421054, LR__solver=saga, SCL=MinMaxScaler();, score=-0.423 total time=   0.0s\n",
      "[CV 4/5] END LR__C=7.894947368421054, LR__solver=saga, SCL=MinMaxScaler();, score=-0.433 total time=   0.0s\n",
      "[CV 5/5] END LR__C=7.894947368421054, LR__solver=saga, SCL=MinMaxScaler();, score=-0.427 total time=   0.0s\n",
      "[CV 1/5] END LR__C=7.894947368421054, LR__solver=saga, SCL=StandardScaler();, score=-0.427 total time=   0.0s\n",
      "[CV 2/5] END LR__C=7.894947368421054, LR__solver=saga, SCL=StandardScaler();, score=-0.440 total time=   0.0s\n",
      "[CV 3/5] END LR__C=7.894947368421054, LR__solver=saga, SCL=StandardScaler();, score=-0.423 total time=   0.0s\n",
      "[CV 4/5] END LR__C=7.894947368421054, LR__solver=saga, SCL=StandardScaler();, score=-0.433 total time=   0.0s\n",
      "[CV 5/5] END LR__C=7.894947368421054, LR__solver=saga, SCL=StandardScaler();, score=-0.427 total time=   0.0s\n"
     ]
    },
    {
     "name": "stderr",
     "output_type": "stream",
     "text": [
      "C:\\Users\\DAI.STUDENTSDC\\AppData\\Local\\anaconda3\\Lib\\site-packages\\sklearn\\linear_model\\_sag.py:349: ConvergenceWarning: The max_iter was reached which means the coef_ did not converge\n",
      "  warnings.warn(\n"
     ]
    },
    {
     "name": "stdout",
     "output_type": "stream",
     "text": [
      "[CV 1/5] END LR__C=7.894947368421054, LR__solver=saga, SCL=None;, score=-0.490 total time=   0.4s\n"
     ]
    },
    {
     "name": "stderr",
     "output_type": "stream",
     "text": [
      "C:\\Users\\DAI.STUDENTSDC\\AppData\\Local\\anaconda3\\Lib\\site-packages\\sklearn\\linear_model\\_sag.py:349: ConvergenceWarning: The max_iter was reached which means the coef_ did not converge\n",
      "  warnings.warn(\n"
     ]
    },
    {
     "name": "stdout",
     "output_type": "stream",
     "text": [
      "[CV 2/5] END LR__C=7.894947368421054, LR__solver=saga, SCL=None;, score=-0.494 total time=   0.4s\n"
     ]
    },
    {
     "name": "stderr",
     "output_type": "stream",
     "text": [
      "C:\\Users\\DAI.STUDENTSDC\\AppData\\Local\\anaconda3\\Lib\\site-packages\\sklearn\\linear_model\\_sag.py:349: ConvergenceWarning: The max_iter was reached which means the coef_ did not converge\n",
      "  warnings.warn(\n"
     ]
    },
    {
     "name": "stdout",
     "output_type": "stream",
     "text": [
      "[CV 3/5] END LR__C=7.894947368421054, LR__solver=saga, SCL=None;, score=-0.488 total time=   0.3s\n"
     ]
    },
    {
     "name": "stderr",
     "output_type": "stream",
     "text": [
      "C:\\Users\\DAI.STUDENTSDC\\AppData\\Local\\anaconda3\\Lib\\site-packages\\sklearn\\linear_model\\_sag.py:349: ConvergenceWarning: The max_iter was reached which means the coef_ did not converge\n",
      "  warnings.warn(\n"
     ]
    },
    {
     "name": "stdout",
     "output_type": "stream",
     "text": [
      "[CV 4/5] END LR__C=7.894947368421054, LR__solver=saga, SCL=None;, score=-0.489 total time=   0.4s\n"
     ]
    },
    {
     "name": "stderr",
     "output_type": "stream",
     "text": [
      "C:\\Users\\DAI.STUDENTSDC\\AppData\\Local\\anaconda3\\Lib\\site-packages\\sklearn\\linear_model\\_sag.py:349: ConvergenceWarning: The max_iter was reached which means the coef_ did not converge\n",
      "  warnings.warn(\n"
     ]
    },
    {
     "name": "stdout",
     "output_type": "stream",
     "text": [
      "[CV 5/5] END LR__C=7.894947368421054, LR__solver=saga, SCL=None;, score=-0.490 total time=   0.4s\n",
      "[CV 1/5] END LR__C=8.42121052631579, LR__solver=lbfgs, SCL=MinMaxScaler();, score=-0.427 total time=   0.0s\n",
      "[CV 2/5] END LR__C=8.42121052631579, LR__solver=lbfgs, SCL=MinMaxScaler();, score=-0.439 total time=   0.0s\n",
      "[CV 3/5] END LR__C=8.42121052631579, LR__solver=lbfgs, SCL=MinMaxScaler();, score=-0.423 total time=   0.0s\n",
      "[CV 4/5] END LR__C=8.42121052631579, LR__solver=lbfgs, SCL=MinMaxScaler();, score=-0.433 total time=   0.0s\n",
      "[CV 5/5] END LR__C=8.42121052631579, LR__solver=lbfgs, SCL=MinMaxScaler();, score=-0.427 total time=   0.0s\n",
      "[CV 1/5] END LR__C=8.42121052631579, LR__solver=lbfgs, SCL=StandardScaler();, score=-0.427 total time=   0.0s\n",
      "[CV 2/5] END LR__C=8.42121052631579, LR__solver=lbfgs, SCL=StandardScaler();, score=-0.440 total time=   0.0s\n",
      "[CV 3/5] END LR__C=8.42121052631579, LR__solver=lbfgs, SCL=StandardScaler();, score=-0.423 total time=   0.0s\n",
      "[CV 4/5] END LR__C=8.42121052631579, LR__solver=lbfgs, SCL=StandardScaler();, score=-0.433 total time=   0.0s\n",
      "[CV 5/5] END LR__C=8.42121052631579, LR__solver=lbfgs, SCL=StandardScaler();, score=-0.427 total time=   0.0s\n"
     ]
    },
    {
     "name": "stderr",
     "output_type": "stream",
     "text": [
      "C:\\Users\\DAI.STUDENTSDC\\AppData\\Local\\anaconda3\\Lib\\site-packages\\sklearn\\linear_model\\_logistic.py:469: ConvergenceWarning: lbfgs failed to converge (status=1):\n",
      "STOP: TOTAL NO. of ITERATIONS REACHED LIMIT.\n",
      "\n",
      "Increase the number of iterations (max_iter) or scale the data as shown in:\n",
      "    https://scikit-learn.org/stable/modules/preprocessing.html\n",
      "Please also refer to the documentation for alternative solver options:\n",
      "    https://scikit-learn.org/stable/modules/linear_model.html#logistic-regression\n",
      "  n_iter_i = _check_optimize_result(\n",
      "C:\\Users\\DAI.STUDENTSDC\\AppData\\Local\\anaconda3\\Lib\\site-packages\\sklearn\\linear_model\\_logistic.py:469: ConvergenceWarning: lbfgs failed to converge (status=1):\n",
      "STOP: TOTAL NO. of ITERATIONS REACHED LIMIT.\n",
      "\n",
      "Increase the number of iterations (max_iter) or scale the data as shown in:\n",
      "    https://scikit-learn.org/stable/modules/preprocessing.html\n",
      "Please also refer to the documentation for alternative solver options:\n",
      "    https://scikit-learn.org/stable/modules/linear_model.html#logistic-regression\n",
      "  n_iter_i = _check_optimize_result(\n"
     ]
    },
    {
     "name": "stdout",
     "output_type": "stream",
     "text": [
      "[CV 1/5] END LR__C=8.42121052631579, LR__solver=lbfgs, SCL=None;, score=-0.431 total time=   0.1s\n",
      "[CV 2/5] END LR__C=8.42121052631579, LR__solver=lbfgs, SCL=None;, score=-0.441 total time=   0.1s\n"
     ]
    },
    {
     "name": "stderr",
     "output_type": "stream",
     "text": [
      "C:\\Users\\DAI.STUDENTSDC\\AppData\\Local\\anaconda3\\Lib\\site-packages\\sklearn\\linear_model\\_logistic.py:469: ConvergenceWarning: lbfgs failed to converge (status=1):\n",
      "STOP: TOTAL NO. of ITERATIONS REACHED LIMIT.\n",
      "\n",
      "Increase the number of iterations (max_iter) or scale the data as shown in:\n",
      "    https://scikit-learn.org/stable/modules/preprocessing.html\n",
      "Please also refer to the documentation for alternative solver options:\n",
      "    https://scikit-learn.org/stable/modules/linear_model.html#logistic-regression\n",
      "  n_iter_i = _check_optimize_result(\n",
      "C:\\Users\\DAI.STUDENTSDC\\AppData\\Local\\anaconda3\\Lib\\site-packages\\sklearn\\linear_model\\_logistic.py:469: ConvergenceWarning: lbfgs failed to converge (status=1):\n",
      "STOP: TOTAL NO. of ITERATIONS REACHED LIMIT.\n",
      "\n",
      "Increase the number of iterations (max_iter) or scale the data as shown in:\n",
      "    https://scikit-learn.org/stable/modules/preprocessing.html\n",
      "Please also refer to the documentation for alternative solver options:\n",
      "    https://scikit-learn.org/stable/modules/linear_model.html#logistic-regression\n",
      "  n_iter_i = _check_optimize_result(\n"
     ]
    },
    {
     "name": "stdout",
     "output_type": "stream",
     "text": [
      "[CV 3/5] END LR__C=8.42121052631579, LR__solver=lbfgs, SCL=None;, score=-0.429 total time=   0.1s\n",
      "[CV 4/5] END LR__C=8.42121052631579, LR__solver=lbfgs, SCL=None;, score=-0.434 total time=   0.1s\n",
      "[CV 5/5] END LR__C=8.42121052631579, LR__solver=lbfgs, SCL=None;, score=-0.429 total time=   0.1s\n"
     ]
    },
    {
     "name": "stderr",
     "output_type": "stream",
     "text": [
      "C:\\Users\\DAI.STUDENTSDC\\AppData\\Local\\anaconda3\\Lib\\site-packages\\sklearn\\linear_model\\_logistic.py:469: ConvergenceWarning: lbfgs failed to converge (status=1):\n",
      "STOP: TOTAL NO. of ITERATIONS REACHED LIMIT.\n",
      "\n",
      "Increase the number of iterations (max_iter) or scale the data as shown in:\n",
      "    https://scikit-learn.org/stable/modules/preprocessing.html\n",
      "Please also refer to the documentation for alternative solver options:\n",
      "    https://scikit-learn.org/stable/modules/linear_model.html#logistic-regression\n",
      "  n_iter_i = _check_optimize_result(\n"
     ]
    },
    {
     "name": "stdout",
     "output_type": "stream",
     "text": [
      "[CV 1/5] END LR__C=8.42121052631579, LR__solver=liblinear, SCL=MinMaxScaler();, score=-0.427 total time=   0.0s\n",
      "[CV 2/5] END LR__C=8.42121052631579, LR__solver=liblinear, SCL=MinMaxScaler();, score=-0.439 total time=   0.0s\n",
      "[CV 3/5] END LR__C=8.42121052631579, LR__solver=liblinear, SCL=MinMaxScaler();, score=-0.423 total time=   0.0s\n",
      "[CV 4/5] END LR__C=8.42121052631579, LR__solver=liblinear, SCL=MinMaxScaler();, score=-0.433 total time=   0.0s\n",
      "[CV 5/5] END LR__C=8.42121052631579, LR__solver=liblinear, SCL=MinMaxScaler();, score=-0.427 total time=   0.0s\n",
      "[CV 1/5] END LR__C=8.42121052631579, LR__solver=liblinear, SCL=StandardScaler();, score=-0.427 total time=   0.0s\n",
      "[CV 2/5] END LR__C=8.42121052631579, LR__solver=liblinear, SCL=StandardScaler();, score=-0.440 total time=   0.0s\n",
      "[CV 3/5] END LR__C=8.42121052631579, LR__solver=liblinear, SCL=StandardScaler();, score=-0.423 total time=   0.0s\n",
      "[CV 4/5] END LR__C=8.42121052631579, LR__solver=liblinear, SCL=StandardScaler();, score=-0.433 total time=   0.0s\n",
      "[CV 5/5] END LR__C=8.42121052631579, LR__solver=liblinear, SCL=StandardScaler();, score=-0.427 total time=   0.0s\n",
      "[CV 1/5] END LR__C=8.42121052631579, LR__solver=liblinear, SCL=None;, score=-0.427 total time=   0.0s\n",
      "[CV 2/5] END LR__C=8.42121052631579, LR__solver=liblinear, SCL=None;, score=-0.439 total time=   0.0s\n",
      "[CV 3/5] END LR__C=8.42121052631579, LR__solver=liblinear, SCL=None;, score=-0.423 total time=   0.0s\n",
      "[CV 4/5] END LR__C=8.42121052631579, LR__solver=liblinear, SCL=None;, score=-0.433 total time=   0.0s\n",
      "[CV 5/5] END LR__C=8.42121052631579, LR__solver=liblinear, SCL=None;, score=-0.427 total time=   0.0s\n",
      "[CV 1/5] END LR__C=8.42121052631579, LR__solver=newton-cg, SCL=MinMaxScaler();, score=-0.427 total time=   0.0s\n",
      "[CV 2/5] END LR__C=8.42121052631579, LR__solver=newton-cg, SCL=MinMaxScaler();, score=-0.439 total time=   0.0s\n",
      "[CV 3/5] END LR__C=8.42121052631579, LR__solver=newton-cg, SCL=MinMaxScaler();, score=-0.423 total time=   0.0s\n",
      "[CV 4/5] END LR__C=8.42121052631579, LR__solver=newton-cg, SCL=MinMaxScaler();, score=-0.433 total time=   0.0s\n",
      "[CV 5/5] END LR__C=8.42121052631579, LR__solver=newton-cg, SCL=MinMaxScaler();, score=-0.427 total time=   0.0s\n",
      "[CV 1/5] END LR__C=8.42121052631579, LR__solver=newton-cg, SCL=StandardScaler();, score=-0.427 total time=   0.0s\n",
      "[CV 2/5] END LR__C=8.42121052631579, LR__solver=newton-cg, SCL=StandardScaler();, score=-0.440 total time=   0.0s\n",
      "[CV 3/5] END LR__C=8.42121052631579, LR__solver=newton-cg, SCL=StandardScaler();, score=-0.423 total time=   0.0s\n",
      "[CV 4/5] END LR__C=8.42121052631579, LR__solver=newton-cg, SCL=StandardScaler();, score=-0.433 total time=   0.0s\n",
      "[CV 5/5] END LR__C=8.42121052631579, LR__solver=newton-cg, SCL=StandardScaler();, score=-0.427 total time=   0.0s\n",
      "[CV 1/5] END LR__C=8.42121052631579, LR__solver=newton-cg, SCL=None;, score=-0.427 total time=   0.2s\n",
      "[CV 2/5] END LR__C=8.42121052631579, LR__solver=newton-cg, SCL=None;, score=-0.439 total time=   0.2s\n",
      "[CV 3/5] END LR__C=8.42121052631579, LR__solver=newton-cg, SCL=None;, score=-0.423 total time=   0.1s\n",
      "[CV 4/5] END LR__C=8.42121052631579, LR__solver=newton-cg, SCL=None;, score=-0.433 total time=   0.1s\n",
      "[CV 5/5] END LR__C=8.42121052631579, LR__solver=newton-cg, SCL=None;, score=-0.427 total time=   0.2s\n",
      "[CV 1/5] END LR__C=8.42121052631579, LR__solver=newton-cholesky, SCL=MinMaxScaler();, score=-0.427 total time=   0.0s\n",
      "[CV 2/5] END LR__C=8.42121052631579, LR__solver=newton-cholesky, SCL=MinMaxScaler();, score=-0.439 total time=   0.0s\n",
      "[CV 3/5] END LR__C=8.42121052631579, LR__solver=newton-cholesky, SCL=MinMaxScaler();, score=-0.423 total time=   0.0s\n",
      "[CV 4/5] END LR__C=8.42121052631579, LR__solver=newton-cholesky, SCL=MinMaxScaler();, score=-0.433 total time=   0.0s\n",
      "[CV 5/5] END LR__C=8.42121052631579, LR__solver=newton-cholesky, SCL=MinMaxScaler();, score=-0.427 total time=   0.0s\n",
      "[CV 1/5] END LR__C=8.42121052631579, LR__solver=newton-cholesky, SCL=StandardScaler();, score=-0.427 total time=   0.0s\n",
      "[CV 2/5] END LR__C=8.42121052631579, LR__solver=newton-cholesky, SCL=StandardScaler();, score=-0.440 total time=   0.0s\n",
      "[CV 3/5] END LR__C=8.42121052631579, LR__solver=newton-cholesky, SCL=StandardScaler();, score=-0.423 total time=   0.0s\n",
      "[CV 4/5] END LR__C=8.42121052631579, LR__solver=newton-cholesky, SCL=StandardScaler();, score=-0.433 total time=   0.0s\n",
      "[CV 5/5] END LR__C=8.42121052631579, LR__solver=newton-cholesky, SCL=StandardScaler();, score=-0.427 total time=   0.0s\n",
      "[CV 1/5] END LR__C=8.42121052631579, LR__solver=newton-cholesky, SCL=None;, score=-0.427 total time=   0.0s\n",
      "[CV 2/5] END LR__C=8.42121052631579, LR__solver=newton-cholesky, SCL=None;, score=-0.440 total time=   0.0s\n",
      "[CV 3/5] END LR__C=8.42121052631579, LR__solver=newton-cholesky, SCL=None;, score=-0.423 total time=   0.0s\n",
      "[CV 4/5] END LR__C=8.42121052631579, LR__solver=newton-cholesky, SCL=None;, score=-0.433 total time=   0.0s\n",
      "[CV 5/5] END LR__C=8.42121052631579, LR__solver=newton-cholesky, SCL=None;, score=-0.427 total time=   0.0s\n",
      "[CV 1/5] END LR__C=8.42121052631579, LR__solver=sag, SCL=MinMaxScaler();, score=-0.427 total time=   0.1s\n",
      "[CV 2/5] END LR__C=8.42121052631579, LR__solver=sag, SCL=MinMaxScaler();, score=-0.439 total time=   0.1s\n",
      "[CV 3/5] END LR__C=8.42121052631579, LR__solver=sag, SCL=MinMaxScaler();, score=-0.423 total time=   0.1s\n",
      "[CV 4/5] END LR__C=8.42121052631579, LR__solver=sag, SCL=MinMaxScaler();, score=-0.433 total time=   0.1s\n",
      "[CV 5/5] END LR__C=8.42121052631579, LR__solver=sag, SCL=MinMaxScaler();, score=-0.427 total time=   0.1s\n",
      "[CV 1/5] END LR__C=8.42121052631579, LR__solver=sag, SCL=StandardScaler();, score=-0.427 total time=   0.1s\n",
      "[CV 2/5] END LR__C=8.42121052631579, LR__solver=sag, SCL=StandardScaler();, score=-0.440 total time=   0.0s\n",
      "[CV 3/5] END LR__C=8.42121052631579, LR__solver=sag, SCL=StandardScaler();, score=-0.423 total time=   0.0s\n",
      "[CV 4/5] END LR__C=8.42121052631579, LR__solver=sag, SCL=StandardScaler();, score=-0.433 total time=   0.0s\n",
      "[CV 5/5] END LR__C=8.42121052631579, LR__solver=sag, SCL=StandardScaler();, score=-0.427 total time=   0.1s\n"
     ]
    },
    {
     "name": "stderr",
     "output_type": "stream",
     "text": [
      "C:\\Users\\DAI.STUDENTSDC\\AppData\\Local\\anaconda3\\Lib\\site-packages\\sklearn\\linear_model\\_sag.py:349: ConvergenceWarning: The max_iter was reached which means the coef_ did not converge\n",
      "  warnings.warn(\n"
     ]
    },
    {
     "name": "stdout",
     "output_type": "stream",
     "text": [
      "[CV 1/5] END LR__C=8.42121052631579, LR__solver=sag, SCL=None;, score=-0.463 total time=   0.3s\n"
     ]
    },
    {
     "name": "stderr",
     "output_type": "stream",
     "text": [
      "C:\\Users\\DAI.STUDENTSDC\\AppData\\Local\\anaconda3\\Lib\\site-packages\\sklearn\\linear_model\\_sag.py:349: ConvergenceWarning: The max_iter was reached which means the coef_ did not converge\n",
      "  warnings.warn(\n"
     ]
    },
    {
     "name": "stdout",
     "output_type": "stream",
     "text": [
      "[CV 2/5] END LR__C=8.42121052631579, LR__solver=sag, SCL=None;, score=-0.471 total time=   0.4s\n"
     ]
    },
    {
     "name": "stderr",
     "output_type": "stream",
     "text": [
      "C:\\Users\\DAI.STUDENTSDC\\AppData\\Local\\anaconda3\\Lib\\site-packages\\sklearn\\linear_model\\_sag.py:349: ConvergenceWarning: The max_iter was reached which means the coef_ did not converge\n",
      "  warnings.warn(\n"
     ]
    },
    {
     "name": "stdout",
     "output_type": "stream",
     "text": [
      "[CV 3/5] END LR__C=8.42121052631579, LR__solver=sag, SCL=None;, score=-0.463 total time=   0.3s\n"
     ]
    },
    {
     "name": "stderr",
     "output_type": "stream",
     "text": [
      "C:\\Users\\DAI.STUDENTSDC\\AppData\\Local\\anaconda3\\Lib\\site-packages\\sklearn\\linear_model\\_sag.py:349: ConvergenceWarning: The max_iter was reached which means the coef_ did not converge\n",
      "  warnings.warn(\n"
     ]
    },
    {
     "name": "stdout",
     "output_type": "stream",
     "text": [
      "[CV 4/5] END LR__C=8.42121052631579, LR__solver=sag, SCL=None;, score=-0.465 total time=   0.3s\n"
     ]
    },
    {
     "name": "stderr",
     "output_type": "stream",
     "text": [
      "C:\\Users\\DAI.STUDENTSDC\\AppData\\Local\\anaconda3\\Lib\\site-packages\\sklearn\\linear_model\\_sag.py:349: ConvergenceWarning: The max_iter was reached which means the coef_ did not converge\n",
      "  warnings.warn(\n"
     ]
    },
    {
     "name": "stdout",
     "output_type": "stream",
     "text": [
      "[CV 5/5] END LR__C=8.42121052631579, LR__solver=sag, SCL=None;, score=-0.464 total time=   0.3s\n",
      "[CV 1/5] END LR__C=8.42121052631579, LR__solver=saga, SCL=MinMaxScaler();, score=-0.427 total time=   0.1s\n",
      "[CV 2/5] END LR__C=8.42121052631579, LR__solver=saga, SCL=MinMaxScaler();, score=-0.439 total time=   0.0s\n",
      "[CV 3/5] END LR__C=8.42121052631579, LR__solver=saga, SCL=MinMaxScaler();, score=-0.423 total time=   0.0s\n",
      "[CV 4/5] END LR__C=8.42121052631579, LR__solver=saga, SCL=MinMaxScaler();, score=-0.433 total time=   0.0s\n",
      "[CV 5/5] END LR__C=8.42121052631579, LR__solver=saga, SCL=MinMaxScaler();, score=-0.427 total time=   0.0s\n",
      "[CV 1/5] END LR__C=8.42121052631579, LR__solver=saga, SCL=StandardScaler();, score=-0.427 total time=   0.0s\n",
      "[CV 2/5] END LR__C=8.42121052631579, LR__solver=saga, SCL=StandardScaler();, score=-0.440 total time=   0.0s\n",
      "[CV 3/5] END LR__C=8.42121052631579, LR__solver=saga, SCL=StandardScaler();, score=-0.423 total time=   0.0s\n",
      "[CV 4/5] END LR__C=8.42121052631579, LR__solver=saga, SCL=StandardScaler();, score=-0.433 total time=   0.0s\n",
      "[CV 5/5] END LR__C=8.42121052631579, LR__solver=saga, SCL=StandardScaler();, score=-0.427 total time=   0.0s\n"
     ]
    },
    {
     "name": "stderr",
     "output_type": "stream",
     "text": [
      "C:\\Users\\DAI.STUDENTSDC\\AppData\\Local\\anaconda3\\Lib\\site-packages\\sklearn\\linear_model\\_sag.py:349: ConvergenceWarning: The max_iter was reached which means the coef_ did not converge\n",
      "  warnings.warn(\n"
     ]
    },
    {
     "name": "stdout",
     "output_type": "stream",
     "text": [
      "[CV 1/5] END LR__C=8.42121052631579, LR__solver=saga, SCL=None;, score=-0.490 total time=   0.4s\n"
     ]
    },
    {
     "name": "stderr",
     "output_type": "stream",
     "text": [
      "C:\\Users\\DAI.STUDENTSDC\\AppData\\Local\\anaconda3\\Lib\\site-packages\\sklearn\\linear_model\\_sag.py:349: ConvergenceWarning: The max_iter was reached which means the coef_ did not converge\n",
      "  warnings.warn(\n"
     ]
    },
    {
     "name": "stdout",
     "output_type": "stream",
     "text": [
      "[CV 2/5] END LR__C=8.42121052631579, LR__solver=saga, SCL=None;, score=-0.494 total time=   0.4s\n"
     ]
    },
    {
     "name": "stderr",
     "output_type": "stream",
     "text": [
      "C:\\Users\\DAI.STUDENTSDC\\AppData\\Local\\anaconda3\\Lib\\site-packages\\sklearn\\linear_model\\_sag.py:349: ConvergenceWarning: The max_iter was reached which means the coef_ did not converge\n",
      "  warnings.warn(\n"
     ]
    },
    {
     "name": "stdout",
     "output_type": "stream",
     "text": [
      "[CV 3/5] END LR__C=8.42121052631579, LR__solver=saga, SCL=None;, score=-0.488 total time=   0.4s\n"
     ]
    },
    {
     "name": "stderr",
     "output_type": "stream",
     "text": [
      "C:\\Users\\DAI.STUDENTSDC\\AppData\\Local\\anaconda3\\Lib\\site-packages\\sklearn\\linear_model\\_sag.py:349: ConvergenceWarning: The max_iter was reached which means the coef_ did not converge\n",
      "  warnings.warn(\n"
     ]
    },
    {
     "name": "stdout",
     "output_type": "stream",
     "text": [
      "[CV 4/5] END LR__C=8.42121052631579, LR__solver=saga, SCL=None;, score=-0.489 total time=   0.4s\n"
     ]
    },
    {
     "name": "stderr",
     "output_type": "stream",
     "text": [
      "C:\\Users\\DAI.STUDENTSDC\\AppData\\Local\\anaconda3\\Lib\\site-packages\\sklearn\\linear_model\\_sag.py:349: ConvergenceWarning: The max_iter was reached which means the coef_ did not converge\n",
      "  warnings.warn(\n"
     ]
    },
    {
     "name": "stdout",
     "output_type": "stream",
     "text": [
      "[CV 5/5] END LR__C=8.42121052631579, LR__solver=saga, SCL=None;, score=-0.490 total time=   0.4s\n",
      "[CV 1/5] END LR__C=8.947473684210527, LR__solver=lbfgs, SCL=MinMaxScaler();, score=-0.427 total time=   0.0s\n",
      "[CV 2/5] END LR__C=8.947473684210527, LR__solver=lbfgs, SCL=MinMaxScaler();, score=-0.439 total time=   0.0s\n",
      "[CV 3/5] END LR__C=8.947473684210527, LR__solver=lbfgs, SCL=MinMaxScaler();, score=-0.423 total time=   0.0s\n",
      "[CV 4/5] END LR__C=8.947473684210527, LR__solver=lbfgs, SCL=MinMaxScaler();, score=-0.433 total time=   0.0s\n",
      "[CV 5/5] END LR__C=8.947473684210527, LR__solver=lbfgs, SCL=MinMaxScaler();, score=-0.427 total time=   0.0s\n",
      "[CV 1/5] END LR__C=8.947473684210527, LR__solver=lbfgs, SCL=StandardScaler();, score=-0.427 total time=   0.0s\n",
      "[CV 2/5] END LR__C=8.947473684210527, LR__solver=lbfgs, SCL=StandardScaler();, score=-0.440 total time=   0.0s\n",
      "[CV 3/5] END LR__C=8.947473684210527, LR__solver=lbfgs, SCL=StandardScaler();, score=-0.423 total time=   0.0s\n",
      "[CV 4/5] END LR__C=8.947473684210527, LR__solver=lbfgs, SCL=StandardScaler();, score=-0.433 total time=   0.0s\n",
      "[CV 5/5] END LR__C=8.947473684210527, LR__solver=lbfgs, SCL=StandardScaler();, score=-0.427 total time=   0.0s\n"
     ]
    },
    {
     "name": "stderr",
     "output_type": "stream",
     "text": [
      "C:\\Users\\DAI.STUDENTSDC\\AppData\\Local\\anaconda3\\Lib\\site-packages\\sklearn\\linear_model\\_logistic.py:469: ConvergenceWarning: lbfgs failed to converge (status=1):\n",
      "STOP: TOTAL NO. of ITERATIONS REACHED LIMIT.\n",
      "\n",
      "Increase the number of iterations (max_iter) or scale the data as shown in:\n",
      "    https://scikit-learn.org/stable/modules/preprocessing.html\n",
      "Please also refer to the documentation for alternative solver options:\n",
      "    https://scikit-learn.org/stable/modules/linear_model.html#logistic-regression\n",
      "  n_iter_i = _check_optimize_result(\n",
      "C:\\Users\\DAI.STUDENTSDC\\AppData\\Local\\anaconda3\\Lib\\site-packages\\sklearn\\linear_model\\_logistic.py:469: ConvergenceWarning: lbfgs failed to converge (status=1):\n",
      "STOP: TOTAL NO. of ITERATIONS REACHED LIMIT.\n",
      "\n",
      "Increase the number of iterations (max_iter) or scale the data as shown in:\n",
      "    https://scikit-learn.org/stable/modules/preprocessing.html\n",
      "Please also refer to the documentation for alternative solver options:\n",
      "    https://scikit-learn.org/stable/modules/linear_model.html#logistic-regression\n",
      "  n_iter_i = _check_optimize_result(\n"
     ]
    },
    {
     "name": "stdout",
     "output_type": "stream",
     "text": [
      "[CV 1/5] END LR__C=8.947473684210527, LR__solver=lbfgs, SCL=None;, score=-0.429 total time=   0.1s\n",
      "[CV 2/5] END LR__C=8.947473684210527, LR__solver=lbfgs, SCL=None;, score=-0.440 total time=   0.1s\n"
     ]
    },
    {
     "name": "stderr",
     "output_type": "stream",
     "text": [
      "C:\\Users\\DAI.STUDENTSDC\\AppData\\Local\\anaconda3\\Lib\\site-packages\\sklearn\\linear_model\\_logistic.py:469: ConvergenceWarning: lbfgs failed to converge (status=1):\n",
      "STOP: TOTAL NO. of ITERATIONS REACHED LIMIT.\n",
      "\n",
      "Increase the number of iterations (max_iter) or scale the data as shown in:\n",
      "    https://scikit-learn.org/stable/modules/preprocessing.html\n",
      "Please also refer to the documentation for alternative solver options:\n",
      "    https://scikit-learn.org/stable/modules/linear_model.html#logistic-regression\n",
      "  n_iter_i = _check_optimize_result(\n",
      "C:\\Users\\DAI.STUDENTSDC\\AppData\\Local\\anaconda3\\Lib\\site-packages\\sklearn\\linear_model\\_logistic.py:469: ConvergenceWarning: lbfgs failed to converge (status=1):\n",
      "STOP: TOTAL NO. of ITERATIONS REACHED LIMIT.\n",
      "\n",
      "Increase the number of iterations (max_iter) or scale the data as shown in:\n",
      "    https://scikit-learn.org/stable/modules/preprocessing.html\n",
      "Please also refer to the documentation for alternative solver options:\n",
      "    https://scikit-learn.org/stable/modules/linear_model.html#logistic-regression\n",
      "  n_iter_i = _check_optimize_result(\n"
     ]
    },
    {
     "name": "stdout",
     "output_type": "stream",
     "text": [
      "[CV 3/5] END LR__C=8.947473684210527, LR__solver=lbfgs, SCL=None;, score=-0.425 total time=   0.1s\n",
      "[CV 4/5] END LR__C=8.947473684210527, LR__solver=lbfgs, SCL=None;, score=-0.433 total time=   0.1s\n",
      "[CV 5/5] END LR__C=8.947473684210527, LR__solver=lbfgs, SCL=None;, score=-0.429 total time=   0.1s\n"
     ]
    },
    {
     "name": "stderr",
     "output_type": "stream",
     "text": [
      "C:\\Users\\DAI.STUDENTSDC\\AppData\\Local\\anaconda3\\Lib\\site-packages\\sklearn\\linear_model\\_logistic.py:469: ConvergenceWarning: lbfgs failed to converge (status=1):\n",
      "STOP: TOTAL NO. of ITERATIONS REACHED LIMIT.\n",
      "\n",
      "Increase the number of iterations (max_iter) or scale the data as shown in:\n",
      "    https://scikit-learn.org/stable/modules/preprocessing.html\n",
      "Please also refer to the documentation for alternative solver options:\n",
      "    https://scikit-learn.org/stable/modules/linear_model.html#logistic-regression\n",
      "  n_iter_i = _check_optimize_result(\n"
     ]
    },
    {
     "name": "stdout",
     "output_type": "stream",
     "text": [
      "[CV 1/5] END LR__C=8.947473684210527, LR__solver=liblinear, SCL=MinMaxScaler();, score=-0.427 total time=   0.0s\n",
      "[CV 2/5] END LR__C=8.947473684210527, LR__solver=liblinear, SCL=MinMaxScaler();, score=-0.439 total time=   0.0s\n",
      "[CV 3/5] END LR__C=8.947473684210527, LR__solver=liblinear, SCL=MinMaxScaler();, score=-0.423 total time=   0.0s\n",
      "[CV 4/5] END LR__C=8.947473684210527, LR__solver=liblinear, SCL=MinMaxScaler();, score=-0.433 total time=   0.0s\n",
      "[CV 5/5] END LR__C=8.947473684210527, LR__solver=liblinear, SCL=MinMaxScaler();, score=-0.427 total time=   0.0s\n",
      "[CV 1/5] END LR__C=8.947473684210527, LR__solver=liblinear, SCL=StandardScaler();, score=-0.427 total time=   0.0s\n",
      "[CV 2/5] END LR__C=8.947473684210527, LR__solver=liblinear, SCL=StandardScaler();, score=-0.440 total time=   0.0s\n",
      "[CV 3/5] END LR__C=8.947473684210527, LR__solver=liblinear, SCL=StandardScaler();, score=-0.423 total time=   0.0s\n",
      "[CV 4/5] END LR__C=8.947473684210527, LR__solver=liblinear, SCL=StandardScaler();, score=-0.433 total time=   0.0s\n",
      "[CV 5/5] END LR__C=8.947473684210527, LR__solver=liblinear, SCL=StandardScaler();, score=-0.427 total time=   0.0s\n",
      "[CV 1/5] END LR__C=8.947473684210527, LR__solver=liblinear, SCL=None;, score=-0.427 total time=   0.0s\n",
      "[CV 2/5] END LR__C=8.947473684210527, LR__solver=liblinear, SCL=None;, score=-0.439 total time=   0.0s\n",
      "[CV 3/5] END LR__C=8.947473684210527, LR__solver=liblinear, SCL=None;, score=-0.423 total time=   0.0s\n",
      "[CV 4/5] END LR__C=8.947473684210527, LR__solver=liblinear, SCL=None;, score=-0.433 total time=   0.0s\n",
      "[CV 5/5] END LR__C=8.947473684210527, LR__solver=liblinear, SCL=None;, score=-0.427 total time=   0.0s\n",
      "[CV 1/5] END LR__C=8.947473684210527, LR__solver=newton-cg, SCL=MinMaxScaler();, score=-0.427 total time=   0.0s\n",
      "[CV 2/5] END LR__C=8.947473684210527, LR__solver=newton-cg, SCL=MinMaxScaler();, score=-0.439 total time=   0.0s\n",
      "[CV 3/5] END LR__C=8.947473684210527, LR__solver=newton-cg, SCL=MinMaxScaler();, score=-0.423 total time=   0.0s\n",
      "[CV 4/5] END LR__C=8.947473684210527, LR__solver=newton-cg, SCL=MinMaxScaler();, score=-0.433 total time=   0.0s\n",
      "[CV 5/5] END LR__C=8.947473684210527, LR__solver=newton-cg, SCL=MinMaxScaler();, score=-0.427 total time=   0.0s\n",
      "[CV 1/5] END LR__C=8.947473684210527, LR__solver=newton-cg, SCL=StandardScaler();, score=-0.427 total time=   0.0s\n",
      "[CV 2/5] END LR__C=8.947473684210527, LR__solver=newton-cg, SCL=StandardScaler();, score=-0.440 total time=   0.0s\n",
      "[CV 3/5] END LR__C=8.947473684210527, LR__solver=newton-cg, SCL=StandardScaler();, score=-0.423 total time=   0.0s\n",
      "[CV 4/5] END LR__C=8.947473684210527, LR__solver=newton-cg, SCL=StandardScaler();, score=-0.433 total time=   0.0s\n",
      "[CV 5/5] END LR__C=8.947473684210527, LR__solver=newton-cg, SCL=StandardScaler();, score=-0.427 total time=   0.0s\n",
      "[CV 1/5] END LR__C=8.947473684210527, LR__solver=newton-cg, SCL=None;, score=-0.427 total time=   0.2s\n",
      "[CV 2/5] END LR__C=8.947473684210527, LR__solver=newton-cg, SCL=None;, score=-0.439 total time=   0.1s\n",
      "[CV 3/5] END LR__C=8.947473684210527, LR__solver=newton-cg, SCL=None;, score=-0.423 total time=   0.1s\n",
      "[CV 4/5] END LR__C=8.947473684210527, LR__solver=newton-cg, SCL=None;, score=-0.433 total time=   0.1s\n",
      "[CV 5/5] END LR__C=8.947473684210527, LR__solver=newton-cg, SCL=None;, score=-0.427 total time=   0.2s\n",
      "[CV 1/5] END LR__C=8.947473684210527, LR__solver=newton-cholesky, SCL=MinMaxScaler();, score=-0.427 total time=   0.0s\n",
      "[CV 2/5] END LR__C=8.947473684210527, LR__solver=newton-cholesky, SCL=MinMaxScaler();, score=-0.439 total time=   0.0s\n",
      "[CV 3/5] END LR__C=8.947473684210527, LR__solver=newton-cholesky, SCL=MinMaxScaler();, score=-0.423 total time=   0.0s\n",
      "[CV 4/5] END LR__C=8.947473684210527, LR__solver=newton-cholesky, SCL=MinMaxScaler();, score=-0.433 total time=   0.0s\n",
      "[CV 5/5] END LR__C=8.947473684210527, LR__solver=newton-cholesky, SCL=MinMaxScaler();, score=-0.427 total time=   0.0s\n",
      "[CV 1/5] END LR__C=8.947473684210527, LR__solver=newton-cholesky, SCL=StandardScaler();, score=-0.427 total time=   0.0s\n",
      "[CV 2/5] END LR__C=8.947473684210527, LR__solver=newton-cholesky, SCL=StandardScaler();, score=-0.440 total time=   0.0s\n",
      "[CV 3/5] END LR__C=8.947473684210527, LR__solver=newton-cholesky, SCL=StandardScaler();, score=-0.423 total time=   0.0s\n",
      "[CV 4/5] END LR__C=8.947473684210527, LR__solver=newton-cholesky, SCL=StandardScaler();, score=-0.433 total time=   0.0s\n",
      "[CV 5/5] END LR__C=8.947473684210527, LR__solver=newton-cholesky, SCL=StandardScaler();, score=-0.427 total time=   0.0s\n",
      "[CV 1/5] END LR__C=8.947473684210527, LR__solver=newton-cholesky, SCL=None;, score=-0.427 total time=   0.0s\n",
      "[CV 2/5] END LR__C=8.947473684210527, LR__solver=newton-cholesky, SCL=None;, score=-0.440 total time=   0.0s\n",
      "[CV 3/5] END LR__C=8.947473684210527, LR__solver=newton-cholesky, SCL=None;, score=-0.423 total time=   0.0s\n",
      "[CV 4/5] END LR__C=8.947473684210527, LR__solver=newton-cholesky, SCL=None;, score=-0.433 total time=   0.0s\n",
      "[CV 5/5] END LR__C=8.947473684210527, LR__solver=newton-cholesky, SCL=None;, score=-0.427 total time=   0.0s\n",
      "[CV 1/5] END LR__C=8.947473684210527, LR__solver=sag, SCL=MinMaxScaler();, score=-0.427 total time=   0.1s\n",
      "[CV 2/5] END LR__C=8.947473684210527, LR__solver=sag, SCL=MinMaxScaler();, score=-0.439 total time=   0.1s\n",
      "[CV 3/5] END LR__C=8.947473684210527, LR__solver=sag, SCL=MinMaxScaler();, score=-0.423 total time=   0.1s\n",
      "[CV 4/5] END LR__C=8.947473684210527, LR__solver=sag, SCL=MinMaxScaler();, score=-0.433 total time=   0.1s\n",
      "[CV 5/5] END LR__C=8.947473684210527, LR__solver=sag, SCL=MinMaxScaler();, score=-0.427 total time=   0.1s\n",
      "[CV 1/5] END LR__C=8.947473684210527, LR__solver=sag, SCL=StandardScaler();, score=-0.427 total time=   0.1s\n",
      "[CV 2/5] END LR__C=8.947473684210527, LR__solver=sag, SCL=StandardScaler();, score=-0.440 total time=   0.1s\n",
      "[CV 3/5] END LR__C=8.947473684210527, LR__solver=sag, SCL=StandardScaler();, score=-0.423 total time=   0.0s\n",
      "[CV 4/5] END LR__C=8.947473684210527, LR__solver=sag, SCL=StandardScaler();, score=-0.433 total time=   0.0s\n",
      "[CV 5/5] END LR__C=8.947473684210527, LR__solver=sag, SCL=StandardScaler();, score=-0.427 total time=   0.1s\n"
     ]
    },
    {
     "name": "stderr",
     "output_type": "stream",
     "text": [
      "C:\\Users\\DAI.STUDENTSDC\\AppData\\Local\\anaconda3\\Lib\\site-packages\\sklearn\\linear_model\\_sag.py:349: ConvergenceWarning: The max_iter was reached which means the coef_ did not converge\n",
      "  warnings.warn(\n"
     ]
    },
    {
     "name": "stdout",
     "output_type": "stream",
     "text": [
      "[CV 1/5] END LR__C=8.947473684210527, LR__solver=sag, SCL=None;, score=-0.463 total time=   0.4s\n"
     ]
    },
    {
     "name": "stderr",
     "output_type": "stream",
     "text": [
      "C:\\Users\\DAI.STUDENTSDC\\AppData\\Local\\anaconda3\\Lib\\site-packages\\sklearn\\linear_model\\_sag.py:349: ConvergenceWarning: The max_iter was reached which means the coef_ did not converge\n",
      "  warnings.warn(\n"
     ]
    },
    {
     "name": "stdout",
     "output_type": "stream",
     "text": [
      "[CV 2/5] END LR__C=8.947473684210527, LR__solver=sag, SCL=None;, score=-0.471 total time=   0.3s\n"
     ]
    },
    {
     "name": "stderr",
     "output_type": "stream",
     "text": [
      "C:\\Users\\DAI.STUDENTSDC\\AppData\\Local\\anaconda3\\Lib\\site-packages\\sklearn\\linear_model\\_sag.py:349: ConvergenceWarning: The max_iter was reached which means the coef_ did not converge\n",
      "  warnings.warn(\n"
     ]
    },
    {
     "name": "stdout",
     "output_type": "stream",
     "text": [
      "[CV 3/5] END LR__C=8.947473684210527, LR__solver=sag, SCL=None;, score=-0.463 total time=   0.3s\n"
     ]
    },
    {
     "name": "stderr",
     "output_type": "stream",
     "text": [
      "C:\\Users\\DAI.STUDENTSDC\\AppData\\Local\\anaconda3\\Lib\\site-packages\\sklearn\\linear_model\\_sag.py:349: ConvergenceWarning: The max_iter was reached which means the coef_ did not converge\n",
      "  warnings.warn(\n"
     ]
    },
    {
     "name": "stdout",
     "output_type": "stream",
     "text": [
      "[CV 4/5] END LR__C=8.947473684210527, LR__solver=sag, SCL=None;, score=-0.465 total time=   0.3s\n"
     ]
    },
    {
     "name": "stderr",
     "output_type": "stream",
     "text": [
      "C:\\Users\\DAI.STUDENTSDC\\AppData\\Local\\anaconda3\\Lib\\site-packages\\sklearn\\linear_model\\_sag.py:349: ConvergenceWarning: The max_iter was reached which means the coef_ did not converge\n",
      "  warnings.warn(\n"
     ]
    },
    {
     "name": "stdout",
     "output_type": "stream",
     "text": [
      "[CV 5/5] END LR__C=8.947473684210527, LR__solver=sag, SCL=None;, score=-0.464 total time=   0.3s\n",
      "[CV 1/5] END LR__C=8.947473684210527, LR__solver=saga, SCL=MinMaxScaler();, score=-0.427 total time=   0.0s\n",
      "[CV 2/5] END LR__C=8.947473684210527, LR__solver=saga, SCL=MinMaxScaler();, score=-0.439 total time=   0.0s\n",
      "[CV 3/5] END LR__C=8.947473684210527, LR__solver=saga, SCL=MinMaxScaler();, score=-0.423 total time=   0.0s\n",
      "[CV 4/5] END LR__C=8.947473684210527, LR__solver=saga, SCL=MinMaxScaler();, score=-0.433 total time=   0.0s\n",
      "[CV 5/5] END LR__C=8.947473684210527, LR__solver=saga, SCL=MinMaxScaler();, score=-0.427 total time=   0.0s\n",
      "[CV 1/5] END LR__C=8.947473684210527, LR__solver=saga, SCL=StandardScaler();, score=-0.427 total time=   0.0s\n",
      "[CV 2/5] END LR__C=8.947473684210527, LR__solver=saga, SCL=StandardScaler();, score=-0.440 total time=   0.0s\n",
      "[CV 3/5] END LR__C=8.947473684210527, LR__solver=saga, SCL=StandardScaler();, score=-0.423 total time=   0.0s\n",
      "[CV 4/5] END LR__C=8.947473684210527, LR__solver=saga, SCL=StandardScaler();, score=-0.433 total time=   0.0s\n",
      "[CV 5/5] END LR__C=8.947473684210527, LR__solver=saga, SCL=StandardScaler();, score=-0.427 total time=   0.0s\n"
     ]
    },
    {
     "name": "stderr",
     "output_type": "stream",
     "text": [
      "C:\\Users\\DAI.STUDENTSDC\\AppData\\Local\\anaconda3\\Lib\\site-packages\\sklearn\\linear_model\\_sag.py:349: ConvergenceWarning: The max_iter was reached which means the coef_ did not converge\n",
      "  warnings.warn(\n"
     ]
    },
    {
     "name": "stdout",
     "output_type": "stream",
     "text": [
      "[CV 1/5] END LR__C=8.947473684210527, LR__solver=saga, SCL=None;, score=-0.490 total time=   0.3s\n"
     ]
    },
    {
     "name": "stderr",
     "output_type": "stream",
     "text": [
      "C:\\Users\\DAI.STUDENTSDC\\AppData\\Local\\anaconda3\\Lib\\site-packages\\sklearn\\linear_model\\_sag.py:349: ConvergenceWarning: The max_iter was reached which means the coef_ did not converge\n",
      "  warnings.warn(\n"
     ]
    },
    {
     "name": "stdout",
     "output_type": "stream",
     "text": [
      "[CV 2/5] END LR__C=8.947473684210527, LR__solver=saga, SCL=None;, score=-0.494 total time=   0.4s\n"
     ]
    },
    {
     "name": "stderr",
     "output_type": "stream",
     "text": [
      "C:\\Users\\DAI.STUDENTSDC\\AppData\\Local\\anaconda3\\Lib\\site-packages\\sklearn\\linear_model\\_sag.py:349: ConvergenceWarning: The max_iter was reached which means the coef_ did not converge\n",
      "  warnings.warn(\n"
     ]
    },
    {
     "name": "stdout",
     "output_type": "stream",
     "text": [
      "[CV 3/5] END LR__C=8.947473684210527, LR__solver=saga, SCL=None;, score=-0.488 total time=   0.4s\n"
     ]
    },
    {
     "name": "stderr",
     "output_type": "stream",
     "text": [
      "C:\\Users\\DAI.STUDENTSDC\\AppData\\Local\\anaconda3\\Lib\\site-packages\\sklearn\\linear_model\\_sag.py:349: ConvergenceWarning: The max_iter was reached which means the coef_ did not converge\n",
      "  warnings.warn(\n"
     ]
    },
    {
     "name": "stdout",
     "output_type": "stream",
     "text": [
      "[CV 4/5] END LR__C=8.947473684210527, LR__solver=saga, SCL=None;, score=-0.489 total time=   0.4s\n"
     ]
    },
    {
     "name": "stderr",
     "output_type": "stream",
     "text": [
      "C:\\Users\\DAI.STUDENTSDC\\AppData\\Local\\anaconda3\\Lib\\site-packages\\sklearn\\linear_model\\_sag.py:349: ConvergenceWarning: The max_iter was reached which means the coef_ did not converge\n",
      "  warnings.warn(\n"
     ]
    },
    {
     "name": "stdout",
     "output_type": "stream",
     "text": [
      "[CV 5/5] END LR__C=8.947473684210527, LR__solver=saga, SCL=None;, score=-0.490 total time=   0.4s\n",
      "[CV 1/5] END LR__C=9.473736842105263, LR__solver=lbfgs, SCL=MinMaxScaler();, score=-0.427 total time=   0.0s\n",
      "[CV 2/5] END LR__C=9.473736842105263, LR__solver=lbfgs, SCL=MinMaxScaler();, score=-0.439 total time=   0.0s\n",
      "[CV 3/5] END LR__C=9.473736842105263, LR__solver=lbfgs, SCL=MinMaxScaler();, score=-0.423 total time=   0.0s\n",
      "[CV 4/5] END LR__C=9.473736842105263, LR__solver=lbfgs, SCL=MinMaxScaler();, score=-0.433 total time=   0.0s\n",
      "[CV 5/5] END LR__C=9.473736842105263, LR__solver=lbfgs, SCL=MinMaxScaler();, score=-0.427 total time=   0.0s\n",
      "[CV 1/5] END LR__C=9.473736842105263, LR__solver=lbfgs, SCL=StandardScaler();, score=-0.427 total time=   0.0s\n",
      "[CV 2/5] END LR__C=9.473736842105263, LR__solver=lbfgs, SCL=StandardScaler();, score=-0.440 total time=   0.0s\n",
      "[CV 3/5] END LR__C=9.473736842105263, LR__solver=lbfgs, SCL=StandardScaler();, score=-0.423 total time=   0.0s\n",
      "[CV 4/5] END LR__C=9.473736842105263, LR__solver=lbfgs, SCL=StandardScaler();, score=-0.433 total time=   0.0s\n",
      "[CV 5/5] END LR__C=9.473736842105263, LR__solver=lbfgs, SCL=StandardScaler();, score=-0.427 total time=   0.0s\n"
     ]
    },
    {
     "name": "stderr",
     "output_type": "stream",
     "text": [
      "C:\\Users\\DAI.STUDENTSDC\\AppData\\Local\\anaconda3\\Lib\\site-packages\\sklearn\\linear_model\\_logistic.py:469: ConvergenceWarning: lbfgs failed to converge (status=1):\n",
      "STOP: TOTAL NO. of ITERATIONS REACHED LIMIT.\n",
      "\n",
      "Increase the number of iterations (max_iter) or scale the data as shown in:\n",
      "    https://scikit-learn.org/stable/modules/preprocessing.html\n",
      "Please also refer to the documentation for alternative solver options:\n",
      "    https://scikit-learn.org/stable/modules/linear_model.html#logistic-regression\n",
      "  n_iter_i = _check_optimize_result(\n",
      "C:\\Users\\DAI.STUDENTSDC\\AppData\\Local\\anaconda3\\Lib\\site-packages\\sklearn\\linear_model\\_logistic.py:469: ConvergenceWarning: lbfgs failed to converge (status=1):\n",
      "STOP: TOTAL NO. of ITERATIONS REACHED LIMIT.\n",
      "\n",
      "Increase the number of iterations (max_iter) or scale the data as shown in:\n",
      "    https://scikit-learn.org/stable/modules/preprocessing.html\n",
      "Please also refer to the documentation for alternative solver options:\n",
      "    https://scikit-learn.org/stable/modules/linear_model.html#logistic-regression\n",
      "  n_iter_i = _check_optimize_result(\n"
     ]
    },
    {
     "name": "stdout",
     "output_type": "stream",
     "text": [
      "[CV 1/5] END LR__C=9.473736842105263, LR__solver=lbfgs, SCL=None;, score=-0.430 total time=   0.1s\n",
      "[CV 2/5] END LR__C=9.473736842105263, LR__solver=lbfgs, SCL=None;, score=-0.440 total time=   0.1s\n",
      "[CV 3/5] END LR__C=9.473736842105263, LR__solver=lbfgs, SCL=None;, score=-0.426 total time=   0.1s\n"
     ]
    },
    {
     "name": "stderr",
     "output_type": "stream",
     "text": [
      "C:\\Users\\DAI.STUDENTSDC\\AppData\\Local\\anaconda3\\Lib\\site-packages\\sklearn\\linear_model\\_logistic.py:469: ConvergenceWarning: lbfgs failed to converge (status=1):\n",
      "STOP: TOTAL NO. of ITERATIONS REACHED LIMIT.\n",
      "\n",
      "Increase the number of iterations (max_iter) or scale the data as shown in:\n",
      "    https://scikit-learn.org/stable/modules/preprocessing.html\n",
      "Please also refer to the documentation for alternative solver options:\n",
      "    https://scikit-learn.org/stable/modules/linear_model.html#logistic-regression\n",
      "  n_iter_i = _check_optimize_result(\n",
      "C:\\Users\\DAI.STUDENTSDC\\AppData\\Local\\anaconda3\\Lib\\site-packages\\sklearn\\linear_model\\_logistic.py:469: ConvergenceWarning: lbfgs failed to converge (status=1):\n",
      "STOP: TOTAL NO. of ITERATIONS REACHED LIMIT.\n",
      "\n",
      "Increase the number of iterations (max_iter) or scale the data as shown in:\n",
      "    https://scikit-learn.org/stable/modules/preprocessing.html\n",
      "Please also refer to the documentation for alternative solver options:\n",
      "    https://scikit-learn.org/stable/modules/linear_model.html#logistic-regression\n",
      "  n_iter_i = _check_optimize_result(\n"
     ]
    },
    {
     "name": "stdout",
     "output_type": "stream",
     "text": [
      "[CV 4/5] END LR__C=9.473736842105263, LR__solver=lbfgs, SCL=None;, score=-0.434 total time=   0.1s\n",
      "[CV 5/5] END LR__C=9.473736842105263, LR__solver=lbfgs, SCL=None;, score=-0.429 total time=   0.1s\n"
     ]
    },
    {
     "name": "stderr",
     "output_type": "stream",
     "text": [
      "C:\\Users\\DAI.STUDENTSDC\\AppData\\Local\\anaconda3\\Lib\\site-packages\\sklearn\\linear_model\\_logistic.py:469: ConvergenceWarning: lbfgs failed to converge (status=1):\n",
      "STOP: TOTAL NO. of ITERATIONS REACHED LIMIT.\n",
      "\n",
      "Increase the number of iterations (max_iter) or scale the data as shown in:\n",
      "    https://scikit-learn.org/stable/modules/preprocessing.html\n",
      "Please also refer to the documentation for alternative solver options:\n",
      "    https://scikit-learn.org/stable/modules/linear_model.html#logistic-regression\n",
      "  n_iter_i = _check_optimize_result(\n"
     ]
    },
    {
     "name": "stdout",
     "output_type": "stream",
     "text": [
      "[CV 1/5] END LR__C=9.473736842105263, LR__solver=liblinear, SCL=MinMaxScaler();, score=-0.427 total time=   0.0s\n",
      "[CV 2/5] END LR__C=9.473736842105263, LR__solver=liblinear, SCL=MinMaxScaler();, score=-0.439 total time=   0.0s\n",
      "[CV 3/5] END LR__C=9.473736842105263, LR__solver=liblinear, SCL=MinMaxScaler();, score=-0.423 total time=   0.0s\n",
      "[CV 4/5] END LR__C=9.473736842105263, LR__solver=liblinear, SCL=MinMaxScaler();, score=-0.433 total time=   0.0s\n",
      "[CV 5/5] END LR__C=9.473736842105263, LR__solver=liblinear, SCL=MinMaxScaler();, score=-0.427 total time=   0.0s\n",
      "[CV 1/5] END LR__C=9.473736842105263, LR__solver=liblinear, SCL=StandardScaler();, score=-0.427 total time=   0.0s\n",
      "[CV 2/5] END LR__C=9.473736842105263, LR__solver=liblinear, SCL=StandardScaler();, score=-0.440 total time=   0.0s\n",
      "[CV 3/5] END LR__C=9.473736842105263, LR__solver=liblinear, SCL=StandardScaler();, score=-0.423 total time=   0.0s\n",
      "[CV 4/5] END LR__C=9.473736842105263, LR__solver=liblinear, SCL=StandardScaler();, score=-0.433 total time=   0.0s\n",
      "[CV 5/5] END LR__C=9.473736842105263, LR__solver=liblinear, SCL=StandardScaler();, score=-0.427 total time=   0.0s\n",
      "[CV 1/5] END LR__C=9.473736842105263, LR__solver=liblinear, SCL=None;, score=-0.427 total time=   0.0s\n",
      "[CV 2/5] END LR__C=9.473736842105263, LR__solver=liblinear, SCL=None;, score=-0.439 total time=   0.0s\n",
      "[CV 3/5] END LR__C=9.473736842105263, LR__solver=liblinear, SCL=None;, score=-0.423 total time=   0.0s\n",
      "[CV 4/5] END LR__C=9.473736842105263, LR__solver=liblinear, SCL=None;, score=-0.433 total time=   0.0s\n",
      "[CV 5/5] END LR__C=9.473736842105263, LR__solver=liblinear, SCL=None;, score=-0.427 total time=   0.0s\n",
      "[CV 1/5] END LR__C=9.473736842105263, LR__solver=newton-cg, SCL=MinMaxScaler();, score=-0.427 total time=   0.0s\n",
      "[CV 2/5] END LR__C=9.473736842105263, LR__solver=newton-cg, SCL=MinMaxScaler();, score=-0.439 total time=   0.0s\n",
      "[CV 3/5] END LR__C=9.473736842105263, LR__solver=newton-cg, SCL=MinMaxScaler();, score=-0.423 total time=   0.0s\n",
      "[CV 4/5] END LR__C=9.473736842105263, LR__solver=newton-cg, SCL=MinMaxScaler();, score=-0.433 total time=   0.0s\n",
      "[CV 5/5] END LR__C=9.473736842105263, LR__solver=newton-cg, SCL=MinMaxScaler();, score=-0.427 total time=   0.0s\n",
      "[CV 1/5] END LR__C=9.473736842105263, LR__solver=newton-cg, SCL=StandardScaler();, score=-0.427 total time=   0.0s\n",
      "[CV 2/5] END LR__C=9.473736842105263, LR__solver=newton-cg, SCL=StandardScaler();, score=-0.440 total time=   0.0s\n",
      "[CV 3/5] END LR__C=9.473736842105263, LR__solver=newton-cg, SCL=StandardScaler();, score=-0.423 total time=   0.0s\n",
      "[CV 4/5] END LR__C=9.473736842105263, LR__solver=newton-cg, SCL=StandardScaler();, score=-0.433 total time=   0.0s\n",
      "[CV 5/5] END LR__C=9.473736842105263, LR__solver=newton-cg, SCL=StandardScaler();, score=-0.427 total time=   0.0s\n",
      "[CV 1/5] END LR__C=9.473736842105263, LR__solver=newton-cg, SCL=None;, score=-0.427 total time=   0.1s\n",
      "[CV 2/5] END LR__C=9.473736842105263, LR__solver=newton-cg, SCL=None;, score=-0.440 total time=   0.1s\n",
      "[CV 3/5] END LR__C=9.473736842105263, LR__solver=newton-cg, SCL=None;, score=-0.423 total time=   0.1s\n",
      "[CV 4/5] END LR__C=9.473736842105263, LR__solver=newton-cg, SCL=None;, score=-0.433 total time=   0.2s\n",
      "[CV 5/5] END LR__C=9.473736842105263, LR__solver=newton-cg, SCL=None;, score=-0.427 total time=   0.2s\n",
      "[CV 1/5] END LR__C=9.473736842105263, LR__solver=newton-cholesky, SCL=MinMaxScaler();, score=-0.427 total time=   0.0s\n",
      "[CV 2/5] END LR__C=9.473736842105263, LR__solver=newton-cholesky, SCL=MinMaxScaler();, score=-0.439 total time=   0.0s\n",
      "[CV 3/5] END LR__C=9.473736842105263, LR__solver=newton-cholesky, SCL=MinMaxScaler();, score=-0.423 total time=   0.0s\n",
      "[CV 4/5] END LR__C=9.473736842105263, LR__solver=newton-cholesky, SCL=MinMaxScaler();, score=-0.433 total time=   0.0s\n",
      "[CV 5/5] END LR__C=9.473736842105263, LR__solver=newton-cholesky, SCL=MinMaxScaler();, score=-0.427 total time=   0.0s\n",
      "[CV 1/5] END LR__C=9.473736842105263, LR__solver=newton-cholesky, SCL=StandardScaler();, score=-0.427 total time=   0.0s\n",
      "[CV 2/5] END LR__C=9.473736842105263, LR__solver=newton-cholesky, SCL=StandardScaler();, score=-0.440 total time=   0.0s\n",
      "[CV 3/5] END LR__C=9.473736842105263, LR__solver=newton-cholesky, SCL=StandardScaler();, score=-0.423 total time=   0.0s\n",
      "[CV 4/5] END LR__C=9.473736842105263, LR__solver=newton-cholesky, SCL=StandardScaler();, score=-0.433 total time=   0.0s\n",
      "[CV 5/5] END LR__C=9.473736842105263, LR__solver=newton-cholesky, SCL=StandardScaler();, score=-0.427 total time=   0.0s\n",
      "[CV 1/5] END LR__C=9.473736842105263, LR__solver=newton-cholesky, SCL=None;, score=-0.427 total time=   0.0s\n",
      "[CV 2/5] END LR__C=9.473736842105263, LR__solver=newton-cholesky, SCL=None;, score=-0.440 total time=   0.0s\n",
      "[CV 3/5] END LR__C=9.473736842105263, LR__solver=newton-cholesky, SCL=None;, score=-0.423 total time=   0.0s\n",
      "[CV 4/5] END LR__C=9.473736842105263, LR__solver=newton-cholesky, SCL=None;, score=-0.433 total time=   0.0s\n",
      "[CV 5/5] END LR__C=9.473736842105263, LR__solver=newton-cholesky, SCL=None;, score=-0.427 total time=   0.0s\n",
      "[CV 1/5] END LR__C=9.473736842105263, LR__solver=sag, SCL=MinMaxScaler();, score=-0.427 total time=   0.1s\n",
      "[CV 2/5] END LR__C=9.473736842105263, LR__solver=sag, SCL=MinMaxScaler();, score=-0.439 total time=   0.1s\n",
      "[CV 3/5] END LR__C=9.473736842105263, LR__solver=sag, SCL=MinMaxScaler();, score=-0.423 total time=   0.1s\n",
      "[CV 4/5] END LR__C=9.473736842105263, LR__solver=sag, SCL=MinMaxScaler();, score=-0.433 total time=   0.1s\n",
      "[CV 5/5] END LR__C=9.473736842105263, LR__solver=sag, SCL=MinMaxScaler();, score=-0.427 total time=   0.1s\n",
      "[CV 1/5] END LR__C=9.473736842105263, LR__solver=sag, SCL=StandardScaler();, score=-0.427 total time=   0.1s\n",
      "[CV 2/5] END LR__C=9.473736842105263, LR__solver=sag, SCL=StandardScaler();, score=-0.440 total time=   0.1s\n",
      "[CV 3/5] END LR__C=9.473736842105263, LR__solver=sag, SCL=StandardScaler();, score=-0.423 total time=   0.0s\n",
      "[CV 4/5] END LR__C=9.473736842105263, LR__solver=sag, SCL=StandardScaler();, score=-0.433 total time=   0.1s\n",
      "[CV 5/5] END LR__C=9.473736842105263, LR__solver=sag, SCL=StandardScaler();, score=-0.427 total time=   0.1s\n"
     ]
    },
    {
     "name": "stderr",
     "output_type": "stream",
     "text": [
      "C:\\Users\\DAI.STUDENTSDC\\AppData\\Local\\anaconda3\\Lib\\site-packages\\sklearn\\linear_model\\_sag.py:349: ConvergenceWarning: The max_iter was reached which means the coef_ did not converge\n",
      "  warnings.warn(\n"
     ]
    },
    {
     "name": "stdout",
     "output_type": "stream",
     "text": [
      "[CV 1/5] END LR__C=9.473736842105263, LR__solver=sag, SCL=None;, score=-0.463 total time=   0.3s\n"
     ]
    },
    {
     "name": "stderr",
     "output_type": "stream",
     "text": [
      "C:\\Users\\DAI.STUDENTSDC\\AppData\\Local\\anaconda3\\Lib\\site-packages\\sklearn\\linear_model\\_sag.py:349: ConvergenceWarning: The max_iter was reached which means the coef_ did not converge\n",
      "  warnings.warn(\n"
     ]
    },
    {
     "name": "stdout",
     "output_type": "stream",
     "text": [
      "[CV 2/5] END LR__C=9.473736842105263, LR__solver=sag, SCL=None;, score=-0.471 total time=   0.3s\n"
     ]
    },
    {
     "name": "stderr",
     "output_type": "stream",
     "text": [
      "C:\\Users\\DAI.STUDENTSDC\\AppData\\Local\\anaconda3\\Lib\\site-packages\\sklearn\\linear_model\\_sag.py:349: ConvergenceWarning: The max_iter was reached which means the coef_ did not converge\n",
      "  warnings.warn(\n"
     ]
    },
    {
     "name": "stdout",
     "output_type": "stream",
     "text": [
      "[CV 3/5] END LR__C=9.473736842105263, LR__solver=sag, SCL=None;, score=-0.463 total time=   0.3s\n"
     ]
    },
    {
     "name": "stderr",
     "output_type": "stream",
     "text": [
      "C:\\Users\\DAI.STUDENTSDC\\AppData\\Local\\anaconda3\\Lib\\site-packages\\sklearn\\linear_model\\_sag.py:349: ConvergenceWarning: The max_iter was reached which means the coef_ did not converge\n",
      "  warnings.warn(\n"
     ]
    },
    {
     "name": "stdout",
     "output_type": "stream",
     "text": [
      "[CV 4/5] END LR__C=9.473736842105263, LR__solver=sag, SCL=None;, score=-0.465 total time=   0.3s\n"
     ]
    },
    {
     "name": "stderr",
     "output_type": "stream",
     "text": [
      "C:\\Users\\DAI.STUDENTSDC\\AppData\\Local\\anaconda3\\Lib\\site-packages\\sklearn\\linear_model\\_sag.py:349: ConvergenceWarning: The max_iter was reached which means the coef_ did not converge\n",
      "  warnings.warn(\n"
     ]
    },
    {
     "name": "stdout",
     "output_type": "stream",
     "text": [
      "[CV 5/5] END LR__C=9.473736842105263, LR__solver=sag, SCL=None;, score=-0.464 total time=   0.3s\n",
      "[CV 1/5] END LR__C=9.473736842105263, LR__solver=saga, SCL=MinMaxScaler();, score=-0.427 total time=   0.0s\n",
      "[CV 2/5] END LR__C=9.473736842105263, LR__solver=saga, SCL=MinMaxScaler();, score=-0.439 total time=   0.0s\n",
      "[CV 3/5] END LR__C=9.473736842105263, LR__solver=saga, SCL=MinMaxScaler();, score=-0.423 total time=   0.0s\n",
      "[CV 4/5] END LR__C=9.473736842105263, LR__solver=saga, SCL=MinMaxScaler();, score=-0.433 total time=   0.0s\n",
      "[CV 5/5] END LR__C=9.473736842105263, LR__solver=saga, SCL=MinMaxScaler();, score=-0.427 total time=   0.0s\n",
      "[CV 1/5] END LR__C=9.473736842105263, LR__solver=saga, SCL=StandardScaler();, score=-0.427 total time=   0.0s\n",
      "[CV 2/5] END LR__C=9.473736842105263, LR__solver=saga, SCL=StandardScaler();, score=-0.440 total time=   0.0s\n",
      "[CV 3/5] END LR__C=9.473736842105263, LR__solver=saga, SCL=StandardScaler();, score=-0.423 total time=   0.0s\n",
      "[CV 4/5] END LR__C=9.473736842105263, LR__solver=saga, SCL=StandardScaler();, score=-0.433 total time=   0.0s\n",
      "[CV 5/5] END LR__C=9.473736842105263, LR__solver=saga, SCL=StandardScaler();, score=-0.427 total time=   0.0s\n"
     ]
    },
    {
     "name": "stderr",
     "output_type": "stream",
     "text": [
      "C:\\Users\\DAI.STUDENTSDC\\AppData\\Local\\anaconda3\\Lib\\site-packages\\sklearn\\linear_model\\_sag.py:349: ConvergenceWarning: The max_iter was reached which means the coef_ did not converge\n",
      "  warnings.warn(\n"
     ]
    },
    {
     "name": "stdout",
     "output_type": "stream",
     "text": [
      "[CV 1/5] END LR__C=9.473736842105263, LR__solver=saga, SCL=None;, score=-0.490 total time=   0.3s\n"
     ]
    },
    {
     "name": "stderr",
     "output_type": "stream",
     "text": [
      "C:\\Users\\DAI.STUDENTSDC\\AppData\\Local\\anaconda3\\Lib\\site-packages\\sklearn\\linear_model\\_sag.py:349: ConvergenceWarning: The max_iter was reached which means the coef_ did not converge\n",
      "  warnings.warn(\n"
     ]
    },
    {
     "name": "stdout",
     "output_type": "stream",
     "text": [
      "[CV 2/5] END LR__C=9.473736842105263, LR__solver=saga, SCL=None;, score=-0.494 total time=   0.4s\n"
     ]
    },
    {
     "name": "stderr",
     "output_type": "stream",
     "text": [
      "C:\\Users\\DAI.STUDENTSDC\\AppData\\Local\\anaconda3\\Lib\\site-packages\\sklearn\\linear_model\\_sag.py:349: ConvergenceWarning: The max_iter was reached which means the coef_ did not converge\n",
      "  warnings.warn(\n"
     ]
    },
    {
     "name": "stdout",
     "output_type": "stream",
     "text": [
      "[CV 3/5] END LR__C=9.473736842105263, LR__solver=saga, SCL=None;, score=-0.488 total time=   0.4s\n"
     ]
    },
    {
     "name": "stderr",
     "output_type": "stream",
     "text": [
      "C:\\Users\\DAI.STUDENTSDC\\AppData\\Local\\anaconda3\\Lib\\site-packages\\sklearn\\linear_model\\_sag.py:349: ConvergenceWarning: The max_iter was reached which means the coef_ did not converge\n",
      "  warnings.warn(\n"
     ]
    },
    {
     "name": "stdout",
     "output_type": "stream",
     "text": [
      "[CV 4/5] END LR__C=9.473736842105263, LR__solver=saga, SCL=None;, score=-0.489 total time=   0.3s\n"
     ]
    },
    {
     "name": "stderr",
     "output_type": "stream",
     "text": [
      "C:\\Users\\DAI.STUDENTSDC\\AppData\\Local\\anaconda3\\Lib\\site-packages\\sklearn\\linear_model\\_sag.py:349: ConvergenceWarning: The max_iter was reached which means the coef_ did not converge\n",
      "  warnings.warn(\n"
     ]
    },
    {
     "name": "stdout",
     "output_type": "stream",
     "text": [
      "[CV 5/5] END LR__C=9.473736842105263, LR__solver=saga, SCL=None;, score=-0.490 total time=   0.4s\n",
      "[CV 1/5] END LR__C=10.0, LR__solver=lbfgs, SCL=MinMaxScaler();, score=-0.427 total time=   0.0s\n",
      "[CV 2/5] END LR__C=10.0, LR__solver=lbfgs, SCL=MinMaxScaler();, score=-0.439 total time=   0.0s\n",
      "[CV 3/5] END LR__C=10.0, LR__solver=lbfgs, SCL=MinMaxScaler();, score=-0.423 total time=   0.0s\n",
      "[CV 4/5] END LR__C=10.0, LR__solver=lbfgs, SCL=MinMaxScaler();, score=-0.433 total time=   0.0s\n",
      "[CV 5/5] END LR__C=10.0, LR__solver=lbfgs, SCL=MinMaxScaler();, score=-0.427 total time=   0.0s\n",
      "[CV 1/5] END LR__C=10.0, LR__solver=lbfgs, SCL=StandardScaler();, score=-0.427 total time=   0.0s\n",
      "[CV 2/5] END LR__C=10.0, LR__solver=lbfgs, SCL=StandardScaler();, score=-0.440 total time=   0.0s\n",
      "[CV 3/5] END LR__C=10.0, LR__solver=lbfgs, SCL=StandardScaler();, score=-0.423 total time=   0.0s\n",
      "[CV 4/5] END LR__C=10.0, LR__solver=lbfgs, SCL=StandardScaler();, score=-0.433 total time=   0.0s\n",
      "[CV 5/5] END LR__C=10.0, LR__solver=lbfgs, SCL=StandardScaler();, score=-0.427 total time=   0.0s\n"
     ]
    },
    {
     "name": "stderr",
     "output_type": "stream",
     "text": [
      "C:\\Users\\DAI.STUDENTSDC\\AppData\\Local\\anaconda3\\Lib\\site-packages\\sklearn\\linear_model\\_logistic.py:469: ConvergenceWarning: lbfgs failed to converge (status=1):\n",
      "STOP: TOTAL NO. of ITERATIONS REACHED LIMIT.\n",
      "\n",
      "Increase the number of iterations (max_iter) or scale the data as shown in:\n",
      "    https://scikit-learn.org/stable/modules/preprocessing.html\n",
      "Please also refer to the documentation for alternative solver options:\n",
      "    https://scikit-learn.org/stable/modules/linear_model.html#logistic-regression\n",
      "  n_iter_i = _check_optimize_result(\n",
      "C:\\Users\\DAI.STUDENTSDC\\AppData\\Local\\anaconda3\\Lib\\site-packages\\sklearn\\linear_model\\_logistic.py:469: ConvergenceWarning: lbfgs failed to converge (status=1):\n",
      "STOP: TOTAL NO. of ITERATIONS REACHED LIMIT.\n",
      "\n",
      "Increase the number of iterations (max_iter) or scale the data as shown in:\n",
      "    https://scikit-learn.org/stable/modules/preprocessing.html\n",
      "Please also refer to the documentation for alternative solver options:\n",
      "    https://scikit-learn.org/stable/modules/linear_model.html#logistic-regression\n",
      "  n_iter_i = _check_optimize_result(\n"
     ]
    },
    {
     "name": "stdout",
     "output_type": "stream",
     "text": [
      "[CV 1/5] END LR__C=10.0, LR__solver=lbfgs, SCL=None;, score=-0.432 total time=   0.1s\n",
      "[CV 2/5] END LR__C=10.0, LR__solver=lbfgs, SCL=None;, score=-0.440 total time=   0.1s\n"
     ]
    },
    {
     "name": "stderr",
     "output_type": "stream",
     "text": [
      "C:\\Users\\DAI.STUDENTSDC\\AppData\\Local\\anaconda3\\Lib\\site-packages\\sklearn\\linear_model\\_logistic.py:469: ConvergenceWarning: lbfgs failed to converge (status=1):\n",
      "STOP: TOTAL NO. of ITERATIONS REACHED LIMIT.\n",
      "\n",
      "Increase the number of iterations (max_iter) or scale the data as shown in:\n",
      "    https://scikit-learn.org/stable/modules/preprocessing.html\n",
      "Please also refer to the documentation for alternative solver options:\n",
      "    https://scikit-learn.org/stable/modules/linear_model.html#logistic-regression\n",
      "  n_iter_i = _check_optimize_result(\n",
      "C:\\Users\\DAI.STUDENTSDC\\AppData\\Local\\anaconda3\\Lib\\site-packages\\sklearn\\linear_model\\_logistic.py:469: ConvergenceWarning: lbfgs failed to converge (status=1):\n",
      "STOP: TOTAL NO. of ITERATIONS REACHED LIMIT.\n",
      "\n",
      "Increase the number of iterations (max_iter) or scale the data as shown in:\n",
      "    https://scikit-learn.org/stable/modules/preprocessing.html\n",
      "Please also refer to the documentation for alternative solver options:\n",
      "    https://scikit-learn.org/stable/modules/linear_model.html#logistic-regression\n",
      "  n_iter_i = _check_optimize_result(\n"
     ]
    },
    {
     "name": "stdout",
     "output_type": "stream",
     "text": [
      "[CV 3/5] END LR__C=10.0, LR__solver=lbfgs, SCL=None;, score=-0.425 total time=   0.1s\n",
      "[CV 4/5] END LR__C=10.0, LR__solver=lbfgs, SCL=None;, score=-0.434 total time=   0.1s\n"
     ]
    },
    {
     "name": "stderr",
     "output_type": "stream",
     "text": [
      "C:\\Users\\DAI.STUDENTSDC\\AppData\\Local\\anaconda3\\Lib\\site-packages\\sklearn\\linear_model\\_logistic.py:469: ConvergenceWarning: lbfgs failed to converge (status=1):\n",
      "STOP: TOTAL NO. of ITERATIONS REACHED LIMIT.\n",
      "\n",
      "Increase the number of iterations (max_iter) or scale the data as shown in:\n",
      "    https://scikit-learn.org/stable/modules/preprocessing.html\n",
      "Please also refer to the documentation for alternative solver options:\n",
      "    https://scikit-learn.org/stable/modules/linear_model.html#logistic-regression\n",
      "  n_iter_i = _check_optimize_result(\n"
     ]
    },
    {
     "name": "stdout",
     "output_type": "stream",
     "text": [
      "[CV 5/5] END LR__C=10.0, LR__solver=lbfgs, SCL=None;, score=-0.430 total time=   0.1s\n",
      "[CV 1/5] END LR__C=10.0, LR__solver=liblinear, SCL=MinMaxScaler();, score=-0.427 total time=   0.0s\n",
      "[CV 2/5] END LR__C=10.0, LR__solver=liblinear, SCL=MinMaxScaler();, score=-0.439 total time=   0.0s\n",
      "[CV 3/5] END LR__C=10.0, LR__solver=liblinear, SCL=MinMaxScaler();, score=-0.423 total time=   0.0s\n",
      "[CV 4/5] END LR__C=10.0, LR__solver=liblinear, SCL=MinMaxScaler();, score=-0.433 total time=   0.0s\n",
      "[CV 5/5] END LR__C=10.0, LR__solver=liblinear, SCL=MinMaxScaler();, score=-0.427 total time=   0.0s\n",
      "[CV 1/5] END LR__C=10.0, LR__solver=liblinear, SCL=StandardScaler();, score=-0.427 total time=   0.0s\n",
      "[CV 2/5] END LR__C=10.0, LR__solver=liblinear, SCL=StandardScaler();, score=-0.440 total time=   0.0s\n",
      "[CV 3/5] END LR__C=10.0, LR__solver=liblinear, SCL=StandardScaler();, score=-0.423 total time=   0.0s\n",
      "[CV 4/5] END LR__C=10.0, LR__solver=liblinear, SCL=StandardScaler();, score=-0.433 total time=   0.0s\n",
      "[CV 5/5] END LR__C=10.0, LR__solver=liblinear, SCL=StandardScaler();, score=-0.427 total time=   0.0s\n",
      "[CV 1/5] END LR__C=10.0, LR__solver=liblinear, SCL=None;, score=-0.427 total time=   0.0s\n",
      "[CV 2/5] END LR__C=10.0, LR__solver=liblinear, SCL=None;, score=-0.439 total time=   0.0s\n",
      "[CV 3/5] END LR__C=10.0, LR__solver=liblinear, SCL=None;, score=-0.423 total time=   0.0s\n",
      "[CV 4/5] END LR__C=10.0, LR__solver=liblinear, SCL=None;, score=-0.433 total time=   0.0s\n",
      "[CV 5/5] END LR__C=10.0, LR__solver=liblinear, SCL=None;, score=-0.427 total time=   0.0s\n",
      "[CV 1/5] END LR__C=10.0, LR__solver=newton-cg, SCL=MinMaxScaler();, score=-0.427 total time=   0.0s\n",
      "[CV 2/5] END LR__C=10.0, LR__solver=newton-cg, SCL=MinMaxScaler();, score=-0.439 total time=   0.0s\n",
      "[CV 3/5] END LR__C=10.0, LR__solver=newton-cg, SCL=MinMaxScaler();, score=-0.423 total time=   0.0s\n",
      "[CV 4/5] END LR__C=10.0, LR__solver=newton-cg, SCL=MinMaxScaler();, score=-0.433 total time=   0.0s\n",
      "[CV 5/5] END LR__C=10.0, LR__solver=newton-cg, SCL=MinMaxScaler();, score=-0.427 total time=   0.0s\n",
      "[CV 1/5] END LR__C=10.0, LR__solver=newton-cg, SCL=StandardScaler();, score=-0.427 total time=   0.0s\n",
      "[CV 2/5] END LR__C=10.0, LR__solver=newton-cg, SCL=StandardScaler();, score=-0.440 total time=   0.0s\n",
      "[CV 3/5] END LR__C=10.0, LR__solver=newton-cg, SCL=StandardScaler();, score=-0.423 total time=   0.0s\n",
      "[CV 4/5] END LR__C=10.0, LR__solver=newton-cg, SCL=StandardScaler();, score=-0.433 total time=   0.0s\n",
      "[CV 5/5] END LR__C=10.0, LR__solver=newton-cg, SCL=StandardScaler();, score=-0.427 total time=   0.0s\n",
      "[CV 1/5] END LR__C=10.0, LR__solver=newton-cg, SCL=None;, score=-0.427 total time=   0.1s\n",
      "[CV 2/5] END LR__C=10.0, LR__solver=newton-cg, SCL=None;, score=-0.440 total time=   0.1s\n",
      "[CV 3/5] END LR__C=10.0, LR__solver=newton-cg, SCL=None;, score=-0.423 total time=   0.1s\n",
      "[CV 4/5] END LR__C=10.0, LR__solver=newton-cg, SCL=None;, score=-0.433 total time=   0.1s\n",
      "[CV 5/5] END LR__C=10.0, LR__solver=newton-cg, SCL=None;, score=-0.427 total time=   0.1s\n",
      "[CV 1/5] END LR__C=10.0, LR__solver=newton-cholesky, SCL=MinMaxScaler();, score=-0.427 total time=   0.0s\n",
      "[CV 2/5] END LR__C=10.0, LR__solver=newton-cholesky, SCL=MinMaxScaler();, score=-0.439 total time=   0.0s\n",
      "[CV 3/5] END LR__C=10.0, LR__solver=newton-cholesky, SCL=MinMaxScaler();, score=-0.423 total time=   0.0s\n",
      "[CV 4/5] END LR__C=10.0, LR__solver=newton-cholesky, SCL=MinMaxScaler();, score=-0.433 total time=   0.0s\n",
      "[CV 5/5] END LR__C=10.0, LR__solver=newton-cholesky, SCL=MinMaxScaler();, score=-0.427 total time=   0.0s\n",
      "[CV 1/5] END LR__C=10.0, LR__solver=newton-cholesky, SCL=StandardScaler();, score=-0.427 total time=   0.0s\n",
      "[CV 2/5] END LR__C=10.0, LR__solver=newton-cholesky, SCL=StandardScaler();, score=-0.440 total time=   0.0s\n",
      "[CV 3/5] END LR__C=10.0, LR__solver=newton-cholesky, SCL=StandardScaler();, score=-0.423 total time=   0.0s\n",
      "[CV 4/5] END LR__C=10.0, LR__solver=newton-cholesky, SCL=StandardScaler();, score=-0.433 total time=   0.0s\n",
      "[CV 5/5] END LR__C=10.0, LR__solver=newton-cholesky, SCL=StandardScaler();, score=-0.427 total time=   0.0s\n",
      "[CV 1/5] END LR__C=10.0, LR__solver=newton-cholesky, SCL=None;, score=-0.427 total time=   0.0s\n",
      "[CV 2/5] END LR__C=10.0, LR__solver=newton-cholesky, SCL=None;, score=-0.440 total time=   0.0s\n",
      "[CV 3/5] END LR__C=10.0, LR__solver=newton-cholesky, SCL=None;, score=-0.423 total time=   0.0s\n",
      "[CV 4/5] END LR__C=10.0, LR__solver=newton-cholesky, SCL=None;, score=-0.433 total time=   0.0s\n",
      "[CV 5/5] END LR__C=10.0, LR__solver=newton-cholesky, SCL=None;, score=-0.427 total time=   0.0s\n",
      "[CV 1/5] END LR__C=10.0, LR__solver=sag, SCL=MinMaxScaler();, score=-0.427 total time=   0.1s\n",
      "[CV 2/5] END LR__C=10.0, LR__solver=sag, SCL=MinMaxScaler();, score=-0.439 total time=   0.1s\n",
      "[CV 3/5] END LR__C=10.0, LR__solver=sag, SCL=MinMaxScaler();, score=-0.423 total time=   0.1s\n",
      "[CV 4/5] END LR__C=10.0, LR__solver=sag, SCL=MinMaxScaler();, score=-0.433 total time=   0.1s\n",
      "[CV 5/5] END LR__C=10.0, LR__solver=sag, SCL=MinMaxScaler();, score=-0.427 total time=   0.1s\n",
      "[CV 1/5] END LR__C=10.0, LR__solver=sag, SCL=StandardScaler();, score=-0.427 total time=   0.1s\n",
      "[CV 2/5] END LR__C=10.0, LR__solver=sag, SCL=StandardScaler();, score=-0.440 total time=   0.1s\n",
      "[CV 3/5] END LR__C=10.0, LR__solver=sag, SCL=StandardScaler();, score=-0.423 total time=   0.1s\n",
      "[CV 4/5] END LR__C=10.0, LR__solver=sag, SCL=StandardScaler();, score=-0.433 total time=   0.1s\n",
      "[CV 5/5] END LR__C=10.0, LR__solver=sag, SCL=StandardScaler();, score=-0.427 total time=   0.1s\n"
     ]
    },
    {
     "name": "stderr",
     "output_type": "stream",
     "text": [
      "C:\\Users\\DAI.STUDENTSDC\\AppData\\Local\\anaconda3\\Lib\\site-packages\\sklearn\\linear_model\\_sag.py:349: ConvergenceWarning: The max_iter was reached which means the coef_ did not converge\n",
      "  warnings.warn(\n"
     ]
    },
    {
     "name": "stdout",
     "output_type": "stream",
     "text": [
      "[CV 1/5] END LR__C=10.0, LR__solver=sag, SCL=None;, score=-0.463 total time=   0.3s\n"
     ]
    },
    {
     "name": "stderr",
     "output_type": "stream",
     "text": [
      "C:\\Users\\DAI.STUDENTSDC\\AppData\\Local\\anaconda3\\Lib\\site-packages\\sklearn\\linear_model\\_sag.py:349: ConvergenceWarning: The max_iter was reached which means the coef_ did not converge\n",
      "  warnings.warn(\n"
     ]
    },
    {
     "name": "stdout",
     "output_type": "stream",
     "text": [
      "[CV 2/5] END LR__C=10.0, LR__solver=sag, SCL=None;, score=-0.471 total time=   0.3s\n"
     ]
    },
    {
     "name": "stderr",
     "output_type": "stream",
     "text": [
      "C:\\Users\\DAI.STUDENTSDC\\AppData\\Local\\anaconda3\\Lib\\site-packages\\sklearn\\linear_model\\_sag.py:349: ConvergenceWarning: The max_iter was reached which means the coef_ did not converge\n",
      "  warnings.warn(\n"
     ]
    },
    {
     "name": "stdout",
     "output_type": "stream",
     "text": [
      "[CV 3/5] END LR__C=10.0, LR__solver=sag, SCL=None;, score=-0.463 total time=   0.4s\n"
     ]
    },
    {
     "name": "stderr",
     "output_type": "stream",
     "text": [
      "C:\\Users\\DAI.STUDENTSDC\\AppData\\Local\\anaconda3\\Lib\\site-packages\\sklearn\\linear_model\\_sag.py:349: ConvergenceWarning: The max_iter was reached which means the coef_ did not converge\n",
      "  warnings.warn(\n"
     ]
    },
    {
     "name": "stdout",
     "output_type": "stream",
     "text": [
      "[CV 4/5] END LR__C=10.0, LR__solver=sag, SCL=None;, score=-0.465 total time=   0.4s\n"
     ]
    },
    {
     "name": "stderr",
     "output_type": "stream",
     "text": [
      "C:\\Users\\DAI.STUDENTSDC\\AppData\\Local\\anaconda3\\Lib\\site-packages\\sklearn\\linear_model\\_sag.py:349: ConvergenceWarning: The max_iter was reached which means the coef_ did not converge\n",
      "  warnings.warn(\n"
     ]
    },
    {
     "name": "stdout",
     "output_type": "stream",
     "text": [
      "[CV 5/5] END LR__C=10.0, LR__solver=sag, SCL=None;, score=-0.464 total time=   0.3s\n",
      "[CV 1/5] END LR__C=10.0, LR__solver=saga, SCL=MinMaxScaler();, score=-0.427 total time=   0.0s\n",
      "[CV 2/5] END LR__C=10.0, LR__solver=saga, SCL=MinMaxScaler();, score=-0.439 total time=   0.0s\n",
      "[CV 3/5] END LR__C=10.0, LR__solver=saga, SCL=MinMaxScaler();, score=-0.423 total time=   0.0s\n",
      "[CV 4/5] END LR__C=10.0, LR__solver=saga, SCL=MinMaxScaler();, score=-0.433 total time=   0.0s\n",
      "[CV 5/5] END LR__C=10.0, LR__solver=saga, SCL=MinMaxScaler();, score=-0.427 total time=   0.0s\n",
      "[CV 1/5] END LR__C=10.0, LR__solver=saga, SCL=StandardScaler();, score=-0.427 total time=   0.0s\n",
      "[CV 2/5] END LR__C=10.0, LR__solver=saga, SCL=StandardScaler();, score=-0.440 total time=   0.0s\n",
      "[CV 3/5] END LR__C=10.0, LR__solver=saga, SCL=StandardScaler();, score=-0.423 total time=   0.0s\n",
      "[CV 4/5] END LR__C=10.0, LR__solver=saga, SCL=StandardScaler();, score=-0.433 total time=   0.0s\n",
      "[CV 5/5] END LR__C=10.0, LR__solver=saga, SCL=StandardScaler();, score=-0.427 total time=   0.0s\n"
     ]
    },
    {
     "name": "stderr",
     "output_type": "stream",
     "text": [
      "C:\\Users\\DAI.STUDENTSDC\\AppData\\Local\\anaconda3\\Lib\\site-packages\\sklearn\\linear_model\\_sag.py:349: ConvergenceWarning: The max_iter was reached which means the coef_ did not converge\n",
      "  warnings.warn(\n"
     ]
    },
    {
     "name": "stdout",
     "output_type": "stream",
     "text": [
      "[CV 1/5] END LR__C=10.0, LR__solver=saga, SCL=None;, score=-0.490 total time=   0.4s\n"
     ]
    },
    {
     "name": "stderr",
     "output_type": "stream",
     "text": [
      "C:\\Users\\DAI.STUDENTSDC\\AppData\\Local\\anaconda3\\Lib\\site-packages\\sklearn\\linear_model\\_sag.py:349: ConvergenceWarning: The max_iter was reached which means the coef_ did not converge\n",
      "  warnings.warn(\n"
     ]
    },
    {
     "name": "stdout",
     "output_type": "stream",
     "text": [
      "[CV 2/5] END LR__C=10.0, LR__solver=saga, SCL=None;, score=-0.494 total time=   0.4s\n"
     ]
    },
    {
     "name": "stderr",
     "output_type": "stream",
     "text": [
      "C:\\Users\\DAI.STUDENTSDC\\AppData\\Local\\anaconda3\\Lib\\site-packages\\sklearn\\linear_model\\_sag.py:349: ConvergenceWarning: The max_iter was reached which means the coef_ did not converge\n",
      "  warnings.warn(\n"
     ]
    },
    {
     "name": "stdout",
     "output_type": "stream",
     "text": [
      "[CV 3/5] END LR__C=10.0, LR__solver=saga, SCL=None;, score=-0.488 total time=   0.4s\n"
     ]
    },
    {
     "name": "stderr",
     "output_type": "stream",
     "text": [
      "C:\\Users\\DAI.STUDENTSDC\\AppData\\Local\\anaconda3\\Lib\\site-packages\\sklearn\\linear_model\\_sag.py:349: ConvergenceWarning: The max_iter was reached which means the coef_ did not converge\n",
      "  warnings.warn(\n"
     ]
    },
    {
     "name": "stdout",
     "output_type": "stream",
     "text": [
      "[CV 4/5] END LR__C=10.0, LR__solver=saga, SCL=None;, score=-0.489 total time=   0.4s\n",
      "[CV 5/5] END LR__C=10.0, LR__solver=saga, SCL=None;, score=-0.490 total time=   0.4s\n",
      "{'LR__C': 3.158578947368421, 'LR__solver': 'lbfgs', 'SCL': MinMaxScaler()}\n"
     ]
    },
    {
     "name": "stderr",
     "output_type": "stream",
     "text": [
      "C:\\Users\\DAI.STUDENTSDC\\AppData\\Local\\anaconda3\\Lib\\site-packages\\sklearn\\linear_model\\_sag.py:349: ConvergenceWarning: The max_iter was reached which means the coef_ did not converge\n",
      "  warnings.warn(\n"
     ]
    }
   ],
   "source": [
    "#### K-FOLDS\n",
    "\n",
    "kfold = StratifiedKFold(n_splits=5, random_state=24, \n",
    "                        shuffle=True)\n",
    "params = {'LR__solver':['lbfgs','liblinear',\n",
    "          'newton-cg','newton-cholesky',\n",
    "          'sag','saga'],\n",
    "          'LR__C':np.linspace(0.001, 10, 20),\n",
    "          'SCL':[scaler_mm, scaler_std, None]}\n",
    "gcv = GridSearchCV(pipe, param_grid=params,\n",
    "                   scoring='neg_log_loss',\n",
    "                   cv=kfold, verbose=3)\n",
    "gcv.fit(X,y)\n",
    "print(gcv.best_params_)"
   ]
  },
  {
   "cell_type": "code",
   "execution_count": 26,
   "id": "bb7048da-f46c-4203-b969-fe8d6f5b22f5",
   "metadata": {},
   "outputs": [
    {
     "name": "stdout",
     "output_type": "stream",
     "text": [
      "{'LR__C': 3.158578947368421, 'LR__solver': 'lbfgs', 'SCL': MinMaxScaler()}\n"
     ]
    }
   ],
   "source": [
    "print(gcv.best_params_)"
   ]
  },
  {
   "cell_type": "code",
   "execution_count": 30,
   "id": "4926a302-3fb5-4d74-8fd7-601a511909e1",
   "metadata": {},
   "outputs": [
    {
     "name": "stdout",
     "output_type": "stream",
     "text": [
      "-0.42981139278142344\n"
     ]
    }
   ],
   "source": [
    "print(gcv.best_score_)"
   ]
  },
  {
   "cell_type": "code",
   "execution_count": null,
   "id": "0d2786ee-ed7d-4918-9bbc-a77ff6ed7a97",
   "metadata": {},
   "outputs": [],
   "source": []
  }
 ],
 "metadata": {
  "kernelspec": {
   "display_name": "Python 3 (ipykernel)",
   "language": "python",
   "name": "python3"
  },
  "language_info": {
   "codemirror_mode": {
    "name": "ipython",
    "version": 3
   },
   "file_extension": ".py",
   "mimetype": "text/x-python",
   "name": "python",
   "nbconvert_exporter": "python",
   "pygments_lexer": "ipython3",
   "version": "3.12.4"
  }
 },
 "nbformat": 4,
 "nbformat_minor": 5
}
